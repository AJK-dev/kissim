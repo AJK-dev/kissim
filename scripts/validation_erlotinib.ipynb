{
 "cells": [
  {
   "cell_type": "markdown",
   "metadata": {},
   "source": [
    "# Ligand-based validation\n",
    "\n",
    "Erlotinib and Imatinib"
   ]
  },
  {
   "cell_type": "markdown",
   "metadata": {},
   "source": [
    "## Imports"
   ]
  },
  {
   "cell_type": "code",
   "execution_count": null,
   "metadata": {},
   "outputs": [],
   "source": [
    "%load_ext autoreload"
   ]
  },
  {
   "cell_type": "code",
   "execution_count": null,
   "metadata": {},
   "outputs": [],
   "source": [
    "%autoreload 2"
   ]
  },
  {
   "cell_type": "code",
   "execution_count": 6,
   "metadata": {},
   "outputs": [],
   "source": [
    "from pathlib import Path\n",
    "\n",
    "import pandas as pd"
   ]
  },
  {
   "cell_type": "code",
   "execution_count": 16,
   "metadata": {},
   "outputs": [],
   "source": [
    "pd.set_option('display.max_rows', 250)"
   ]
  },
  {
   "cell_type": "markdown",
   "metadata": {},
   "source": [
    "## IO paths"
   ]
  },
  {
   "cell_type": "code",
   "execution_count": 3,
   "metadata": {},
   "outputs": [],
   "source": [
    "PATH_TO_DATA = Path('/') / 'home' / 'dominique' / 'Documents' / 'data' / 'kinsim' / '20190724_full'\n",
    "PATH_TO_KINSIM = Path('/') / 'home' / 'dominique' / 'Documents' / 'projects' / 'kinsim_structure'\n",
    "\n",
    "path_to_similarities = PATH_TO_KINSIM / 'results' / 'similarity'"
   ]
  },
  {
   "cell_type": "code",
   "execution_count": 4,
   "metadata": {},
   "outputs": [],
   "source": [
    "path_to_best_kinase_pairs = path_to_similarities / 'best_scores_type2_ballester.csv'"
   ]
  },
  {
   "cell_type": "markdown",
   "metadata": {},
   "source": [
    "## Functions"
   ]
  },
  {
   "cell_type": "code",
   "execution_count": null,
   "metadata": {},
   "outputs": [],
   "source": []
  },
  {
   "cell_type": "markdown",
   "metadata": {},
   "source": [
    "## Load similarities"
   ]
  },
  {
   "cell_type": "code",
   "execution_count": 7,
   "metadata": {},
   "outputs": [],
   "source": [
    "best_kinase_pairs = pd.read_csv(\n",
    "    path_to_similarities / path_to_best_kinase_pairs,\n",
    "    index_col=0\n",
    ")"
   ]
  },
  {
   "cell_type": "code",
   "execution_count": 8,
   "metadata": {},
   "outputs": [
    {
     "data": {
      "text/plain": [
       "(253, 253)"
      ]
     },
     "execution_count": 8,
     "metadata": {},
     "output_type": "execute_result"
    }
   ],
   "source": [
    "best_kinase_pairs.shape"
   ]
  },
  {
   "cell_type": "markdown",
   "metadata": {},
   "source": [
    "## Get ranked score list"
   ]
  },
  {
   "cell_type": "code",
   "execution_count": 129,
   "metadata": {},
   "outputs": [],
   "source": [
    "ranked = best_kinase_pairs['EGFR'].sort_values(ascending=False)"
   ]
  },
  {
   "cell_type": "code",
   "execution_count": 137,
   "metadata": {},
   "outputs": [],
   "source": [
    "ranked = ranked.reset_index()"
   ]
  },
  {
   "cell_type": "code",
   "execution_count": 140,
   "metadata": {},
   "outputs": [
    {
     "data": {
      "text/html": [
       "<div>\n",
       "<style scoped>\n",
       "    .dataframe tbody tr th:only-of-type {\n",
       "        vertical-align: middle;\n",
       "    }\n",
       "\n",
       "    .dataframe tbody tr th {\n",
       "        vertical-align: top;\n",
       "    }\n",
       "\n",
       "    .dataframe thead th {\n",
       "        text-align: right;\n",
       "    }\n",
       "</style>\n",
       "<table border=\"1\" class=\"dataframe\">\n",
       "  <thead>\n",
       "    <tr style=\"text-align: right;\">\n",
       "      <th></th>\n",
       "      <th>kinase1</th>\n",
       "      <th>EGFR</th>\n",
       "    </tr>\n",
       "  </thead>\n",
       "  <tbody>\n",
       "    <tr>\n",
       "      <th>190</th>\n",
       "      <td>GAK</td>\n",
       "      <td>0.838615</td>\n",
       "    </tr>\n",
       "  </tbody>\n",
       "</table>\n",
       "</div>"
      ],
      "text/plain": [
       "    kinase1      EGFR\n",
       "190     GAK  0.838615"
      ]
     },
     "execution_count": 140,
     "metadata": {},
     "output_type": "execute_result"
    }
   ],
   "source": [
    "ranked[ranked.kinase1 == 'GAK']"
   ]
  },
  {
   "cell_type": "markdown",
   "metadata": {},
   "source": [
    "## Get most similar kinases to EGFR (top 50)"
   ]
  },
  {
   "cell_type": "code",
   "execution_count": 159,
   "metadata": {},
   "outputs": [],
   "source": [
    "top_egfr = best_kinase_pairs['EGFR'].sort_values(ascending=False)[:20]"
   ]
  },
  {
   "cell_type": "markdown",
   "metadata": {},
   "source": [
    "## Generate KinMap file format"
   ]
  },
  {
   "cell_type": "code",
   "execution_count": 160,
   "metadata": {
    "scrolled": true
   },
   "outputs": [
    {
     "data": {
      "text/plain": [
       "kinase1\n",
       "EGFR     0.993640\n",
       "ErbB4    0.955446\n",
       "SYK      0.935052\n",
       "BTK      0.924303\n",
       "FGFR2    0.922266\n",
       "EphB1    0.921638\n",
       "RET      0.919808\n",
       "ABL1     0.919366\n",
       "ITK      0.918580\n",
       "LYN      0.918107\n",
       "ACK      0.917138\n",
       "EphA2    0.916644\n",
       "LCK      0.916060\n",
       "JAK2     0.913372\n",
       "RON      0.913021\n",
       "EphA3    0.912270\n",
       "FGFR3    0.911376\n",
       "SLK      0.911345\n",
       "JAK3     0.910713\n",
       "MET      0.910383\n",
       "Name: EGFR, dtype: float64"
      ]
     },
     "execution_count": 160,
     "metadata": {},
     "output_type": "execute_result"
    }
   ],
   "source": [
    "top_egfr"
   ]
  },
  {
   "cell_type": "code",
   "execution_count": 161,
   "metadata": {},
   "outputs": [],
   "source": [
    "kinmap = pd.DataFrame(\n",
    "    [list(top_egfr.index), list(top_egfr)],\n",
    "    index = ['xName', 'size']\n",
    ").transpose()"
   ]
  },
  {
   "cell_type": "code",
   "execution_count": 162,
   "metadata": {},
   "outputs": [
    {
     "data": {
      "text/html": [
       "<div>\n",
       "<style scoped>\n",
       "    .dataframe tbody tr th:only-of-type {\n",
       "        vertical-align: middle;\n",
       "    }\n",
       "\n",
       "    .dataframe tbody tr th {\n",
       "        vertical-align: top;\n",
       "    }\n",
       "\n",
       "    .dataframe thead th {\n",
       "        text-align: right;\n",
       "    }\n",
       "</style>\n",
       "<table border=\"1\" class=\"dataframe\">\n",
       "  <thead>\n",
       "    <tr style=\"text-align: right;\">\n",
       "      <th></th>\n",
       "      <th>xName</th>\n",
       "      <th>size</th>\n",
       "    </tr>\n",
       "  </thead>\n",
       "  <tbody>\n",
       "    <tr>\n",
       "      <th>0</th>\n",
       "      <td>EGFR</td>\n",
       "      <td>0.99364</td>\n",
       "    </tr>\n",
       "    <tr>\n",
       "      <th>1</th>\n",
       "      <td>ErbB4</td>\n",
       "      <td>0.955446</td>\n",
       "    </tr>\n",
       "    <tr>\n",
       "      <th>2</th>\n",
       "      <td>SYK</td>\n",
       "      <td>0.935052</td>\n",
       "    </tr>\n",
       "    <tr>\n",
       "      <th>3</th>\n",
       "      <td>BTK</td>\n",
       "      <td>0.924303</td>\n",
       "    </tr>\n",
       "    <tr>\n",
       "      <th>4</th>\n",
       "      <td>FGFR2</td>\n",
       "      <td>0.922266</td>\n",
       "    </tr>\n",
       "  </tbody>\n",
       "</table>\n",
       "</div>"
      ],
      "text/plain": [
       "   xName      size\n",
       "0   EGFR   0.99364\n",
       "1  ErbB4  0.955446\n",
       "2    SYK  0.935052\n",
       "3    BTK  0.924303\n",
       "4  FGFR2  0.922266"
      ]
     },
     "execution_count": 162,
     "metadata": {},
     "output_type": "execute_result"
    }
   ],
   "source": [
    "kinmap.head()"
   ]
  },
  {
   "cell_type": "code",
   "execution_count": 163,
   "metadata": {
    "scrolled": true
   },
   "outputs": [],
   "source": [
    "kinmap['size'] = kinmap['size'].apply(lambda x: x*40.0)"
   ]
  },
  {
   "cell_type": "code",
   "execution_count": 164,
   "metadata": {},
   "outputs": [],
   "source": [
    "kinmap['shape'] = 'pentagon'"
   ]
  },
  {
   "cell_type": "code",
   "execution_count": 165,
   "metadata": {},
   "outputs": [],
   "source": [
    "kinmap['fill'] = 'CornflowerBlue'"
   ]
  },
  {
   "cell_type": "code",
   "execution_count": 166,
   "metadata": {},
   "outputs": [
    {
     "data": {
      "text/html": [
       "<div>\n",
       "<style scoped>\n",
       "    .dataframe tbody tr th:only-of-type {\n",
       "        vertical-align: middle;\n",
       "    }\n",
       "\n",
       "    .dataframe tbody tr th {\n",
       "        vertical-align: top;\n",
       "    }\n",
       "\n",
       "    .dataframe thead th {\n",
       "        text-align: right;\n",
       "    }\n",
       "</style>\n",
       "<table border=\"1\" class=\"dataframe\">\n",
       "  <thead>\n",
       "    <tr style=\"text-align: right;\">\n",
       "      <th></th>\n",
       "      <th>xName</th>\n",
       "      <th>size</th>\n",
       "      <th>shape</th>\n",
       "      <th>fill</th>\n",
       "    </tr>\n",
       "  </thead>\n",
       "  <tbody>\n",
       "    <tr>\n",
       "      <th>0</th>\n",
       "      <td>EGFR</td>\n",
       "      <td>39.745596</td>\n",
       "      <td>pentagon</td>\n",
       "      <td>CornflowerBlue</td>\n",
       "    </tr>\n",
       "    <tr>\n",
       "      <th>1</th>\n",
       "      <td>ErbB4</td>\n",
       "      <td>38.217827</td>\n",
       "      <td>pentagon</td>\n",
       "      <td>CornflowerBlue</td>\n",
       "    </tr>\n",
       "    <tr>\n",
       "      <th>2</th>\n",
       "      <td>SYK</td>\n",
       "      <td>37.402094</td>\n",
       "      <td>pentagon</td>\n",
       "      <td>CornflowerBlue</td>\n",
       "    </tr>\n",
       "    <tr>\n",
       "      <th>3</th>\n",
       "      <td>BTK</td>\n",
       "      <td>36.972115</td>\n",
       "      <td>pentagon</td>\n",
       "      <td>CornflowerBlue</td>\n",
       "    </tr>\n",
       "    <tr>\n",
       "      <th>4</th>\n",
       "      <td>FGFR2</td>\n",
       "      <td>36.890656</td>\n",
       "      <td>pentagon</td>\n",
       "      <td>CornflowerBlue</td>\n",
       "    </tr>\n",
       "    <tr>\n",
       "      <th>5</th>\n",
       "      <td>EphB1</td>\n",
       "      <td>36.865524</td>\n",
       "      <td>pentagon</td>\n",
       "      <td>CornflowerBlue</td>\n",
       "    </tr>\n",
       "    <tr>\n",
       "      <th>6</th>\n",
       "      <td>RET</td>\n",
       "      <td>36.792336</td>\n",
       "      <td>pentagon</td>\n",
       "      <td>CornflowerBlue</td>\n",
       "    </tr>\n",
       "    <tr>\n",
       "      <th>7</th>\n",
       "      <td>ABL1</td>\n",
       "      <td>36.774625</td>\n",
       "      <td>pentagon</td>\n",
       "      <td>CornflowerBlue</td>\n",
       "    </tr>\n",
       "    <tr>\n",
       "      <th>8</th>\n",
       "      <td>ITK</td>\n",
       "      <td>36.743181</td>\n",
       "      <td>pentagon</td>\n",
       "      <td>CornflowerBlue</td>\n",
       "    </tr>\n",
       "    <tr>\n",
       "      <th>9</th>\n",
       "      <td>LYN</td>\n",
       "      <td>36.724297</td>\n",
       "      <td>pentagon</td>\n",
       "      <td>CornflowerBlue</td>\n",
       "    </tr>\n",
       "    <tr>\n",
       "      <th>10</th>\n",
       "      <td>ACK</td>\n",
       "      <td>36.685525</td>\n",
       "      <td>pentagon</td>\n",
       "      <td>CornflowerBlue</td>\n",
       "    </tr>\n",
       "    <tr>\n",
       "      <th>11</th>\n",
       "      <td>EphA2</td>\n",
       "      <td>36.665777</td>\n",
       "      <td>pentagon</td>\n",
       "      <td>CornflowerBlue</td>\n",
       "    </tr>\n",
       "    <tr>\n",
       "      <th>12</th>\n",
       "      <td>LCK</td>\n",
       "      <td>36.642394</td>\n",
       "      <td>pentagon</td>\n",
       "      <td>CornflowerBlue</td>\n",
       "    </tr>\n",
       "    <tr>\n",
       "      <th>13</th>\n",
       "      <td>JAK2</td>\n",
       "      <td>36.534899</td>\n",
       "      <td>pentagon</td>\n",
       "      <td>CornflowerBlue</td>\n",
       "    </tr>\n",
       "    <tr>\n",
       "      <th>14</th>\n",
       "      <td>RON</td>\n",
       "      <td>36.520858</td>\n",
       "      <td>pentagon</td>\n",
       "      <td>CornflowerBlue</td>\n",
       "    </tr>\n",
       "    <tr>\n",
       "      <th>15</th>\n",
       "      <td>EphA3</td>\n",
       "      <td>36.490816</td>\n",
       "      <td>pentagon</td>\n",
       "      <td>CornflowerBlue</td>\n",
       "    </tr>\n",
       "    <tr>\n",
       "      <th>16</th>\n",
       "      <td>FGFR3</td>\n",
       "      <td>36.455057</td>\n",
       "      <td>pentagon</td>\n",
       "      <td>CornflowerBlue</td>\n",
       "    </tr>\n",
       "    <tr>\n",
       "      <th>17</th>\n",
       "      <td>SLK</td>\n",
       "      <td>36.453796</td>\n",
       "      <td>pentagon</td>\n",
       "      <td>CornflowerBlue</td>\n",
       "    </tr>\n",
       "    <tr>\n",
       "      <th>18</th>\n",
       "      <td>JAK3</td>\n",
       "      <td>36.428532</td>\n",
       "      <td>pentagon</td>\n",
       "      <td>CornflowerBlue</td>\n",
       "    </tr>\n",
       "    <tr>\n",
       "      <th>19</th>\n",
       "      <td>MET</td>\n",
       "      <td>36.415336</td>\n",
       "      <td>pentagon</td>\n",
       "      <td>CornflowerBlue</td>\n",
       "    </tr>\n",
       "  </tbody>\n",
       "</table>\n",
       "</div>"
      ],
      "text/plain": [
       "    xName       size     shape            fill\n",
       "0    EGFR  39.745596  pentagon  CornflowerBlue\n",
       "1   ErbB4  38.217827  pentagon  CornflowerBlue\n",
       "2     SYK  37.402094  pentagon  CornflowerBlue\n",
       "3     BTK  36.972115  pentagon  CornflowerBlue\n",
       "4   FGFR2  36.890656  pentagon  CornflowerBlue\n",
       "5   EphB1  36.865524  pentagon  CornflowerBlue\n",
       "6     RET  36.792336  pentagon  CornflowerBlue\n",
       "7    ABL1  36.774625  pentagon  CornflowerBlue\n",
       "8     ITK  36.743181  pentagon  CornflowerBlue\n",
       "9     LYN  36.724297  pentagon  CornflowerBlue\n",
       "10    ACK  36.685525  pentagon  CornflowerBlue\n",
       "11  EphA2  36.665777  pentagon  CornflowerBlue\n",
       "12    LCK  36.642394  pentagon  CornflowerBlue\n",
       "13   JAK2  36.534899  pentagon  CornflowerBlue\n",
       "14    RON  36.520858  pentagon  CornflowerBlue\n",
       "15  EphA3  36.490816  pentagon  CornflowerBlue\n",
       "16  FGFR3  36.455057  pentagon  CornflowerBlue\n",
       "17    SLK  36.453796  pentagon  CornflowerBlue\n",
       "18   JAK3  36.428532  pentagon  CornflowerBlue\n",
       "19    MET  36.415336  pentagon  CornflowerBlue"
      ]
     },
     "execution_count": 166,
     "metadata": {},
     "output_type": "execute_result"
    }
   ],
   "source": [
    "kinmap"
   ]
  },
  {
   "cell_type": "code",
   "execution_count": 167,
   "metadata": {
    "scrolled": true
   },
   "outputs": [],
   "source": [
    "kinmap.to_csv(path_to_similarities / 'kinmap_erlotinib.csv')"
   ]
  },
  {
   "cell_type": "code",
   "execution_count": null,
   "metadata": {},
   "outputs": [],
   "source": []
  },
  {
   "cell_type": "code",
   "execution_count": null,
   "metadata": {},
   "outputs": [],
   "source": []
  },
  {
   "cell_type": "code",
   "execution_count": null,
   "metadata": {},
   "outputs": [],
   "source": []
  }
 ],
 "metadata": {
  "kernelspec": {
   "display_name": "kinsim",
   "language": "python",
   "name": "kinsim"
  },
  "language_info": {
   "codemirror_mode": {
    "name": "ipython",
    "version": 3
   },
   "file_extension": ".py",
   "mimetype": "text/x-python",
   "name": "python",
   "nbconvert_exporter": "python",
   "pygments_lexer": "ipython3",
   "version": "3.6.7"
  }
 },
 "nbformat": 4,
 "nbformat_minor": 2
}
