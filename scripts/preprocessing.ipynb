{
 "cells": [
  {
   "cell_type": "markdown",
   "metadata": {},
   "source": [
    "# Kinase data preprocessing\n",
    "\n",
    "This notebook performs the following preprocessing tasks:\n",
    "\n",
    "1. Set path to KLIFS download files\n",
    "2. Load, merge and filter KLIFS download files\n",
    "3. Analyse gap rate of KLIFS dataset\n",
    "4. Download PDB files for KLIFS dataset"
   ]
  },
  {
   "cell_type": "code",
   "execution_count": 16,
   "metadata": {},
   "outputs": [],
   "source": [
    "import os.path\n",
    "from pathlib import Path\n",
    "import sys\n",
    "\n",
    "from Bio.PDB import PDBList\n",
    "import matplotlib.pyplot as plt\n",
    "import numpy as np\n",
    "import pandas as pd\n",
    "import seaborn as sns\n",
    "\n",
    "sys.path.extend(['./..'])\n",
    "from kinsim_structure.preprocessing import *\n",
    "\n",
    "%matplotlib inline"
   ]
  },
  {
   "cell_type": "markdown",
   "metadata": {},
   "source": [
    "### 1. Set path to KLIFS download files"
   ]
  },
  {
   "cell_type": "code",
   "execution_count": 21,
   "metadata": {},
   "outputs": [],
   "source": [
    "# Path to data directory\n",
    "dataset_name = '20190724_full'\n",
    "\n",
    "path_to_data = Path('/') / 'home' / 'dominique' / 'Documents' / 'data' / 'kinsim' / dataset_name\n",
    "path_to_results = Path('..') / 'results' / dataset_name\n",
    "path_to_results.mkdir(parents=True, exist_ok=True)"
   ]
  },
  {
   "cell_type": "markdown",
   "metadata": {},
   "source": [
    "### 2. Load, merge and filter KLIFS download files"
   ]
  },
  {
   "cell_type": "code",
   "execution_count": 12,
   "metadata": {
    "scrolled": true
   },
   "outputs": [],
   "source": [
    "klifs_overview_file = path_to_data / 'raw' / 'KLIFS_download' /'overview.csv'\n",
    "klifs_export_file = path_to_data / 'raw'/ 'KLIFS_export.csv'\n",
    "\n",
    "klifs_data = get_klifs_data_from_files(klifs_overview_file, klifs_export_file)\n",
    "klifs_data_filtered = filter_klifs_data(klifs_data)"
   ]
  },
  {
   "cell_type": "code",
   "execution_count": 13,
   "metadata": {},
   "outputs": [
    {
     "data": {
      "text/html": [
       "<div>\n",
       "<style scoped>\n",
       "    .dataframe tbody tr th:only-of-type {\n",
       "        vertical-align: middle;\n",
       "    }\n",
       "\n",
       "    .dataframe tbody tr th {\n",
       "        vertical-align: top;\n",
       "    }\n",
       "\n",
       "    .dataframe thead th {\n",
       "        text-align: right;\n",
       "    }\n",
       "</style>\n",
       "<table border=\"1\" class=\"dataframe\">\n",
       "  <thead>\n",
       "    <tr style=\"text-align: right;\">\n",
       "      <th></th>\n",
       "      <th>index</th>\n",
       "      <th>kinase</th>\n",
       "      <th>family</th>\n",
       "      <th>groups</th>\n",
       "      <th>pdb_id</th>\n",
       "      <th>chain</th>\n",
       "      <th>alternate_model</th>\n",
       "      <th>species</th>\n",
       "      <th>ligand_orthosteric_name</th>\n",
       "      <th>ligand_orthosteric_pdb_id</th>\n",
       "      <th>...</th>\n",
       "      <th>dfg</th>\n",
       "      <th>ac_helix</th>\n",
       "      <th>rmsd1</th>\n",
       "      <th>rmsd2</th>\n",
       "      <th>qualityscore</th>\n",
       "      <th>pocket</th>\n",
       "      <th>resolution</th>\n",
       "      <th>missing_residues</th>\n",
       "      <th>missing_atoms</th>\n",
       "      <th>full_ifp</th>\n",
       "    </tr>\n",
       "  </thead>\n",
       "  <tbody>\n",
       "    <tr>\n",
       "      <th>2880</th>\n",
       "      <td>1013</td>\n",
       "      <td>MAPKAPK2</td>\n",
       "      <td>MAPKAPK</td>\n",
       "      <td>CAMK</td>\n",
       "      <td>2onl</td>\n",
       "      <td>C</td>\n",
       "      <td>-</td>\n",
       "      <td>Human</td>\n",
       "      <td>-</td>\n",
       "      <td>-</td>\n",
       "      <td>...</td>\n",
       "      <td>in</td>\n",
       "      <td>in</td>\n",
       "      <td>0.798</td>\n",
       "      <td>2.852</td>\n",
       "      <td>8.0</td>\n",
       "      <td>NAIIDDYKVKVLQFALKMLKARREVELHWRASPHIVRIVDVLIVME...</td>\n",
       "      <td>4.00</td>\n",
       "      <td>0</td>\n",
       "      <td>8</td>\n",
       "      <td>NaN</td>\n",
       "    </tr>\n",
       "    <tr>\n",
       "      <th>4303</th>\n",
       "      <td>3825</td>\n",
       "      <td>p38a</td>\n",
       "      <td>MAPK</td>\n",
       "      <td>CMGC</td>\n",
       "      <td>2onl</td>\n",
       "      <td>B</td>\n",
       "      <td>-</td>\n",
       "      <td>Human</td>\n",
       "      <td>-</td>\n",
       "      <td>-</td>\n",
       "      <td>...</td>\n",
       "      <td>in</td>\n",
       "      <td>out-like</td>\n",
       "      <td>0.822</td>\n",
       "      <td>2.133</td>\n",
       "      <td>9.0</td>\n",
       "      <td>SPVGSGAYGSVCAVAVKKLRTYRELRLLKHMKENVIGLLDVYLVTH...</td>\n",
       "      <td>4.00</td>\n",
       "      <td>0</td>\n",
       "      <td>10</td>\n",
       "      <td>NaN</td>\n",
       "    </tr>\n",
       "    <tr>\n",
       "      <th>2775</th>\n",
       "      <td>1436</td>\n",
       "      <td>LKB1</td>\n",
       "      <td>CAMKL</td>\n",
       "      <td>CAMK</td>\n",
       "      <td>2wtk</td>\n",
       "      <td>C</td>\n",
       "      <td>-</td>\n",
       "      <td>Human</td>\n",
       "      <td>PHOSPHOAMINOPHOSPHONIC ACID-ADENYLATE ESTER</td>\n",
       "      <td>ANP</td>\n",
       "      <td>...</td>\n",
       "      <td>na</td>\n",
       "      <td>na</td>\n",
       "      <td>0.780</td>\n",
       "      <td>2.107</td>\n",
       "      <td>8.0</td>\n",
       "      <td>DLLGEGSYGKVKERAVKILNVKKEIQLLRRLRKNVIQLVDVYMVME...</td>\n",
       "      <td>2.65</td>\n",
       "      <td>0</td>\n",
       "      <td>0</td>\n",
       "      <td>0000000000000010000001000000100000000001000000...</td>\n",
       "    </tr>\n",
       "    <tr>\n",
       "      <th>3737</th>\n",
       "      <td>2621</td>\n",
       "      <td>STLK5</td>\n",
       "      <td>STE20</td>\n",
       "      <td>STE</td>\n",
       "      <td>2wtk</td>\n",
       "      <td>E</td>\n",
       "      <td>-</td>\n",
       "      <td>Human</td>\n",
       "      <td>PHOSPHOAMINOPHOSPHONIC ACID-ADENYLATE ESTER</td>\n",
       "      <td>ANP</td>\n",
       "      <td>...</td>\n",
       "      <td>na</td>\n",
       "      <td>na</td>\n",
       "      <td>0.791</td>\n",
       "      <td>2.155</td>\n",
       "      <td>8.0</td>\n",
       "      <td>TVIGKGFEDLMTVVTVRRIFLQGELHVSKLFNPNIVPYRATWVVTS...</td>\n",
       "      <td>2.65</td>\n",
       "      <td>0</td>\n",
       "      <td>0</td>\n",
       "      <td>0000000000000010000001000000100000000000000001...</td>\n",
       "    </tr>\n",
       "    <tr>\n",
       "      <th>403</th>\n",
       "      <td>2363</td>\n",
       "      <td>BRAF</td>\n",
       "      <td>RAF</td>\n",
       "      <td>TKL</td>\n",
       "      <td>4mne</td>\n",
       "      <td>B</td>\n",
       "      <td>B</td>\n",
       "      <td>Human</td>\n",
       "      <td>-</td>\n",
       "      <td>-</td>\n",
       "      <td>...</td>\n",
       "      <td>in</td>\n",
       "      <td>in</td>\n",
       "      <td>0.796</td>\n",
       "      <td>1.986</td>\n",
       "      <td>6.4</td>\n",
       "      <td>QRIG____GTVYKVAVKMLAFKNEVGVLRKTRVNILLFMGYAIVTQ...</td>\n",
       "      <td>2.85</td>\n",
       "      <td>4</td>\n",
       "      <td>0</td>\n",
       "      <td>NaN</td>\n",
       "    </tr>\n",
       "    <tr>\n",
       "      <th>2824</th>\n",
       "      <td>2555</td>\n",
       "      <td>MAP2K1</td>\n",
       "      <td>STE7</td>\n",
       "      <td>STE</td>\n",
       "      <td>4mne</td>\n",
       "      <td>H</td>\n",
       "      <td>B</td>\n",
       "      <td>Human</td>\n",
       "      <td>PHOSPHOMETHYLPHOSPHONIC ACID ADENYLATE ESTER</td>\n",
       "      <td>ACP</td>\n",
       "      <td>...</td>\n",
       "      <td>in</td>\n",
       "      <td>out</td>\n",
       "      <td>0.833</td>\n",
       "      <td>2.218</td>\n",
       "      <td>8.0</td>\n",
       "      <td>SELGAGNGGVVFKMARKLIQIIRELQVLHECNPYIVGFYGASICME...</td>\n",
       "      <td>2.85</td>\n",
       "      <td>0</td>\n",
       "      <td>0</td>\n",
       "      <td>0000000000000010000001000000100000010000001001...</td>\n",
       "    </tr>\n",
       "    <tr>\n",
       "      <th>1914</th>\n",
       "      <td>1950</td>\n",
       "      <td>Erk2</td>\n",
       "      <td>MAPK</td>\n",
       "      <td>CMGC</td>\n",
       "      <td>4nif</td>\n",
       "      <td>B</td>\n",
       "      <td>B</td>\n",
       "      <td>Human</td>\n",
       "      <td>PHOSPHOAMINOPHOSPHONIC ACID-ADENYLATE ESTER</td>\n",
       "      <td>ANP</td>\n",
       "      <td>...</td>\n",
       "      <td>in</td>\n",
       "      <td>in</td>\n",
       "      <td>0.784</td>\n",
       "      <td>2.095</td>\n",
       "      <td>8.0</td>\n",
       "      <td>SYIGEGAYGMVCSVAIKKIRTLREIKILLRFRENIIGINDIYIVQD...</td>\n",
       "      <td>2.15</td>\n",
       "      <td>0</td>\n",
       "      <td>0</td>\n",
       "      <td>0000000000000010000001000000100000010000000001...</td>\n",
       "    </tr>\n",
       "    <tr>\n",
       "      <th>3687</th>\n",
       "      <td>4272</td>\n",
       "      <td>RSK1-b</td>\n",
       "      <td>RSKb</td>\n",
       "      <td>CAMK</td>\n",
       "      <td>4nif</td>\n",
       "      <td>D</td>\n",
       "      <td>A</td>\n",
       "      <td>Human</td>\n",
       "      <td>-</td>\n",
       "      <td>-</td>\n",
       "      <td>...</td>\n",
       "      <td>in</td>\n",
       "      <td>in</td>\n",
       "      <td>0.785</td>\n",
       "      <td>2.114</td>\n",
       "      <td>9.6</td>\n",
       "      <td>ETIGVGSYSECKRYAVKVIDPSEEIEILLRYGPNIITLKDVYLVTE...</td>\n",
       "      <td>2.15</td>\n",
       "      <td>0</td>\n",
       "      <td>4</td>\n",
       "      <td>NaN</td>\n",
       "    </tr>\n",
       "    <tr>\n",
       "      <th>1688</th>\n",
       "      <td>678</td>\n",
       "      <td>EGFR</td>\n",
       "      <td>EGFR</td>\n",
       "      <td>TK</td>\n",
       "      <td>4riw</td>\n",
       "      <td>D</td>\n",
       "      <td>-</td>\n",
       "      <td>Human</td>\n",
       "      <td>ADENOSINE-5'-DIPHOSPHATE</td>\n",
       "      <td>ADP</td>\n",
       "      <td>...</td>\n",
       "      <td>in</td>\n",
       "      <td>in</td>\n",
       "      <td>0.787</td>\n",
       "      <td>2.091</td>\n",
       "      <td>8.0</td>\n",
       "      <td>KVLGSGAFGTVYKVAIKELEILDEAYVMASVDPHVCRLLGIQLITQ...</td>\n",
       "      <td>3.10</td>\n",
       "      <td>0</td>\n",
       "      <td>0</td>\n",
       "      <td>0000000000000010000000000000000000000000000000...</td>\n",
       "    </tr>\n",
       "    <tr>\n",
       "      <th>1871</th>\n",
       "      <td>1491</td>\n",
       "      <td>ErbB3</td>\n",
       "      <td>EGFR</td>\n",
       "      <td>TK</td>\n",
       "      <td>4riw</td>\n",
       "      <td>C</td>\n",
       "      <td>-</td>\n",
       "      <td>Human</td>\n",
       "      <td>PHOSPHOAMINOPHOSPHONIC ACID-ADENYLATE ESTER</td>\n",
       "      <td>ANP</td>\n",
       "      <td>...</td>\n",
       "      <td>in</td>\n",
       "      <td>out</td>\n",
       "      <td>0.840</td>\n",
       "      <td>2.205</td>\n",
       "      <td>8.0</td>\n",
       "      <td>KVLGSGVFGTVHKVCIKVIAVTDHMLAIGSLDAHIVRLLGLQLVTQ...</td>\n",
       "      <td>3.10</td>\n",
       "      <td>0</td>\n",
       "      <td>0</td>\n",
       "      <td>0000000000000010000001000000100000000000000001...</td>\n",
       "    </tr>\n",
       "    <tr>\n",
       "      <th>1689</th>\n",
       "      <td>614</td>\n",
       "      <td>EGFR</td>\n",
       "      <td>EGFR</td>\n",
       "      <td>TK</td>\n",
       "      <td>4rix</td>\n",
       "      <td>B</td>\n",
       "      <td>-</td>\n",
       "      <td>Human</td>\n",
       "      <td>ADENOSINE-5'-DIPHOSPHATE</td>\n",
       "      <td>ADP</td>\n",
       "      <td>...</td>\n",
       "      <td>in</td>\n",
       "      <td>in</td>\n",
       "      <td>0.792</td>\n",
       "      <td>2.087</td>\n",
       "      <td>8.0</td>\n",
       "      <td>KVLGSGAFGTVYKVAIKELEILDEAYVMASVDPHVCRLLGIQLITQ...</td>\n",
       "      <td>3.10</td>\n",
       "      <td>0</td>\n",
       "      <td>0</td>\n",
       "      <td>0000000000000010000000000000000000000000000000...</td>\n",
       "    </tr>\n",
       "    <tr>\n",
       "      <th>1872</th>\n",
       "      <td>1473</td>\n",
       "      <td>ErbB3</td>\n",
       "      <td>EGFR</td>\n",
       "      <td>TK</td>\n",
       "      <td>4rix</td>\n",
       "      <td>A</td>\n",
       "      <td>-</td>\n",
       "      <td>Human</td>\n",
       "      <td>PHOSPHOAMINOPHOSPHONIC ACID-ADENYLATE ESTER</td>\n",
       "      <td>ANP</td>\n",
       "      <td>...</td>\n",
       "      <td>in</td>\n",
       "      <td>out</td>\n",
       "      <td>0.845</td>\n",
       "      <td>2.213</td>\n",
       "      <td>8.0</td>\n",
       "      <td>KVLGSGVFGTVHKVCIKVIAVTDHMLAIGSLDAHIVRLLGLQLVTQ...</td>\n",
       "      <td>3.10</td>\n",
       "      <td>0</td>\n",
       "      <td>0</td>\n",
       "      <td>0000000000000010000001000000000000000000000000...</td>\n",
       "    </tr>\n",
       "    <tr>\n",
       "      <th>1690</th>\n",
       "      <td>628</td>\n",
       "      <td>EGFR</td>\n",
       "      <td>EGFR</td>\n",
       "      <td>TK</td>\n",
       "      <td>4riy</td>\n",
       "      <td>B</td>\n",
       "      <td>-</td>\n",
       "      <td>Human</td>\n",
       "      <td>ADENOSINE-5'-DIPHOSPHATE</td>\n",
       "      <td>ADP</td>\n",
       "      <td>...</td>\n",
       "      <td>in</td>\n",
       "      <td>in</td>\n",
       "      <td>0.795</td>\n",
       "      <td>2.086</td>\n",
       "      <td>8.0</td>\n",
       "      <td>KVLGSGAFGTVYKVAIKELEILDEAYVMASVDPHVCRLLGIQLITQ...</td>\n",
       "      <td>2.98</td>\n",
       "      <td>0</td>\n",
       "      <td>0</td>\n",
       "      <td>0000000000000010000000000000000000000000000000...</td>\n",
       "    </tr>\n",
       "    <tr>\n",
       "      <th>1873</th>\n",
       "      <td>1463</td>\n",
       "      <td>ErbB3</td>\n",
       "      <td>EGFR</td>\n",
       "      <td>TK</td>\n",
       "      <td>4riy</td>\n",
       "      <td>A</td>\n",
       "      <td>-</td>\n",
       "      <td>Human</td>\n",
       "      <td>PHOSPHOAMINOPHOSPHONIC ACID-ADENYLATE ESTER</td>\n",
       "      <td>ANP</td>\n",
       "      <td>...</td>\n",
       "      <td>in</td>\n",
       "      <td>out</td>\n",
       "      <td>0.845</td>\n",
       "      <td>2.215</td>\n",
       "      <td>8.0</td>\n",
       "      <td>KVLGSGVFGTVHKVCIKVIAVTDHMLAIGSLDAHIVRLLGLQLVTQ...</td>\n",
       "      <td>2.98</td>\n",
       "      <td>0</td>\n",
       "      <td>0</td>\n",
       "      <td>0000000000000010000001000000000000000000000001...</td>\n",
       "    </tr>\n",
       "  </tbody>\n",
       "</table>\n",
       "<p>14 rows × 22 columns</p>\n",
       "</div>"
      ],
      "text/plain": [
       "      index    kinase   family groups pdb_id chain alternate_model species  \\\n",
       "2880   1013  MAPKAPK2  MAPKAPK   CAMK   2onl     C               -   Human   \n",
       "4303   3825      p38a     MAPK   CMGC   2onl     B               -   Human   \n",
       "2775   1436      LKB1    CAMKL   CAMK   2wtk     C               -   Human   \n",
       "3737   2621     STLK5    STE20    STE   2wtk     E               -   Human   \n",
       "403    2363      BRAF      RAF    TKL   4mne     B               B   Human   \n",
       "2824   2555    MAP2K1     STE7    STE   4mne     H               B   Human   \n",
       "1914   1950      Erk2     MAPK   CMGC   4nif     B               B   Human   \n",
       "3687   4272    RSK1-b     RSKb   CAMK   4nif     D               A   Human   \n",
       "1688    678      EGFR     EGFR     TK   4riw     D               -   Human   \n",
       "1871   1491     ErbB3     EGFR     TK   4riw     C               -   Human   \n",
       "1689    614      EGFR     EGFR     TK   4rix     B               -   Human   \n",
       "1872   1473     ErbB3     EGFR     TK   4rix     A               -   Human   \n",
       "1690    628      EGFR     EGFR     TK   4riy     B               -   Human   \n",
       "1873   1463     ErbB3     EGFR     TK   4riy     A               -   Human   \n",
       "\n",
       "                           ligand_orthosteric_name ligand_orthosteric_pdb_id  \\\n",
       "2880                                             -                         -   \n",
       "4303                                             -                         -   \n",
       "2775   PHOSPHOAMINOPHOSPHONIC ACID-ADENYLATE ESTER                       ANP   \n",
       "3737   PHOSPHOAMINOPHOSPHONIC ACID-ADENYLATE ESTER                       ANP   \n",
       "403                                              -                         -   \n",
       "2824  PHOSPHOMETHYLPHOSPHONIC ACID ADENYLATE ESTER                       ACP   \n",
       "1914   PHOSPHOAMINOPHOSPHONIC ACID-ADENYLATE ESTER                       ANP   \n",
       "3687                                             -                         -   \n",
       "1688                      ADENOSINE-5'-DIPHOSPHATE                       ADP   \n",
       "1871   PHOSPHOAMINOPHOSPHONIC ACID-ADENYLATE ESTER                       ANP   \n",
       "1689                      ADENOSINE-5'-DIPHOSPHATE                       ADP   \n",
       "1872   PHOSPHOAMINOPHOSPHONIC ACID-ADENYLATE ESTER                       ANP   \n",
       "1690                      ADENOSINE-5'-DIPHOSPHATE                       ADP   \n",
       "1873   PHOSPHOAMINOPHOSPHONIC ACID-ADENYLATE ESTER                       ANP   \n",
       "\n",
       "      ... dfg  ac_helix  rmsd1  rmsd2  qualityscore  \\\n",
       "2880  ...  in        in  0.798  2.852           8.0   \n",
       "4303  ...  in  out-like  0.822  2.133           9.0   \n",
       "2775  ...  na        na  0.780  2.107           8.0   \n",
       "3737  ...  na        na  0.791  2.155           8.0   \n",
       "403   ...  in        in  0.796  1.986           6.4   \n",
       "2824  ...  in       out  0.833  2.218           8.0   \n",
       "1914  ...  in        in  0.784  2.095           8.0   \n",
       "3687  ...  in        in  0.785  2.114           9.6   \n",
       "1688  ...  in        in  0.787  2.091           8.0   \n",
       "1871  ...  in       out  0.840  2.205           8.0   \n",
       "1689  ...  in        in  0.792  2.087           8.0   \n",
       "1872  ...  in       out  0.845  2.213           8.0   \n",
       "1690  ...  in        in  0.795  2.086           8.0   \n",
       "1873  ...  in       out  0.845  2.215           8.0   \n",
       "\n",
       "                                                 pocket  resolution  \\\n",
       "2880  NAIIDDYKVKVLQFALKMLKARREVELHWRASPHIVRIVDVLIVME...        4.00   \n",
       "4303  SPVGSGAYGSVCAVAVKKLRTYRELRLLKHMKENVIGLLDVYLVTH...        4.00   \n",
       "2775  DLLGEGSYGKVKERAVKILNVKKEIQLLRRLRKNVIQLVDVYMVME...        2.65   \n",
       "3737  TVIGKGFEDLMTVVTVRRIFLQGELHVSKLFNPNIVPYRATWVVTS...        2.65   \n",
       "403   QRIG____GTVYKVAVKMLAFKNEVGVLRKTRVNILLFMGYAIVTQ...        2.85   \n",
       "2824  SELGAGNGGVVFKMARKLIQIIRELQVLHECNPYIVGFYGASICME...        2.85   \n",
       "1914  SYIGEGAYGMVCSVAIKKIRTLREIKILLRFRENIIGINDIYIVQD...        2.15   \n",
       "3687  ETIGVGSYSECKRYAVKVIDPSEEIEILLRYGPNIITLKDVYLVTE...        2.15   \n",
       "1688  KVLGSGAFGTVYKVAIKELEILDEAYVMASVDPHVCRLLGIQLITQ...        3.10   \n",
       "1871  KVLGSGVFGTVHKVCIKVIAVTDHMLAIGSLDAHIVRLLGLQLVTQ...        3.10   \n",
       "1689  KVLGSGAFGTVYKVAIKELEILDEAYVMASVDPHVCRLLGIQLITQ...        3.10   \n",
       "1872  KVLGSGVFGTVHKVCIKVIAVTDHMLAIGSLDAHIVRLLGLQLVTQ...        3.10   \n",
       "1690  KVLGSGAFGTVYKVAIKELEILDEAYVMASVDPHVCRLLGIQLITQ...        2.98   \n",
       "1873  KVLGSGVFGTVHKVCIKVIAVTDHMLAIGSLDAHIVRLLGLQLVTQ...        2.98   \n",
       "\n",
       "     missing_residues  missing_atoms  \\\n",
       "2880                0              8   \n",
       "4303                0             10   \n",
       "2775                0              0   \n",
       "3737                0              0   \n",
       "403                 4              0   \n",
       "2824                0              0   \n",
       "1914                0              0   \n",
       "3687                0              4   \n",
       "1688                0              0   \n",
       "1871                0              0   \n",
       "1689                0              0   \n",
       "1872                0              0   \n",
       "1690                0              0   \n",
       "1873                0              0   \n",
       "\n",
       "                                               full_ifp  \n",
       "2880                                                NaN  \n",
       "4303                                                NaN  \n",
       "2775  0000000000000010000001000000100000000001000000...  \n",
       "3737  0000000000000010000001000000100000000000000001...  \n",
       "403                                                 NaN  \n",
       "2824  0000000000000010000001000000100000010000001001...  \n",
       "1914  0000000000000010000001000000100000010000000001...  \n",
       "3687                                                NaN  \n",
       "1688  0000000000000010000000000000000000000000000000...  \n",
       "1871  0000000000000010000001000000100000000000000001...  \n",
       "1689  0000000000000010000000000000000000000000000000...  \n",
       "1872  0000000000000010000001000000000000000000000000...  \n",
       "1690  0000000000000010000000000000000000000000000000...  \n",
       "1873  0000000000000010000001000000000000000000000001...  \n",
       "\n",
       "[14 rows x 22 columns]"
      ]
     },
     "execution_count": 13,
     "metadata": {},
     "output_type": "execute_result"
    }
   ],
   "source": [
    "# Check if there are PDB IDs occurring multiple times for one kinase\n",
    "grouped = klifs_data_filtered.groupby(\"pdb_id\")[\"kinase\"].size()\n",
    "multiple_pdb_ids = list(grouped[grouped > 1].index)\n",
    "klifs_data_filtered.loc[klifs_data_filtered.pdb_id.isin(multiple_pdb_ids)].sort_values('pdb_id')"
   ]
  },
  {
   "cell_type": "code",
   "execution_count": 14,
   "metadata": {},
   "outputs": [],
   "source": [
    "# Save filtered dataset\n",
    "klifs_data_filtered.to_csv(path_to_data / 'preprocessed' / 'klifs_data_preprocessed.csv')"
   ]
  },
  {
   "cell_type": "markdown",
   "metadata": {},
   "source": [
    "### 3. Analyse gap rate of KLIFS dataset"
   ]
  },
  {
   "cell_type": "code",
   "execution_count": 15,
   "metadata": {},
   "outputs": [],
   "source": [
    "gap_rate = calculate_gap_rate(klifs_data)"
   ]
  },
  {
   "cell_type": "code",
   "execution_count": 17,
   "metadata": {},
   "outputs": [
    {
     "data": {
      "image/png": "[encoded data removed]",
      "text/plain": [
       "<Figure size 1080x432 with 1 Axes>"
      ]
     },
     "metadata": {
      "needs_background": "light"
     },
     "output_type": "display_data"
    }
   ],
   "source": [
    "plt.figure(figsize=(15,6))\n",
    "ax = sns.barplot(x='klifs_position', \n",
    "                 y='gap_rate', \n",
    "                 data=gap_rate,\n",
    "                 color='steelblue')\n",
    "ax.set_title('KLIFS sequence alignment: Gap rate for the 85 residue positions')\n",
    "ax.set_xlabel('Alignment residue position')\n",
    "ax.set_ylabel('Gap rate')\n",
    "ax.xaxis.set_ticks(np.arange(0,85,5));\n",
    "ax.set_xticklabels(np.arange(0,85,5));"
   ]
  },
  {
   "cell_type": "code",
   "execution_count": 22,
   "metadata": {},
   "outputs": [
    {
     "data": {
      "text/plain": [
       "<Figure size 432x288 with 0 Axes>"
      ]
     },
     "metadata": {},
     "output_type": "display_data"
    }
   ],
   "source": [
    "plt.savefig(path_to_results / 'plot_gap_rate.png', dpi=300)"
   ]
  },
  {
   "cell_type": "markdown",
   "metadata": {},
   "source": [
    "### 4. Download PDB files for KLIFS dataset"
   ]
  },
  {
   "cell_type": "code",
   "execution_count": null,
   "metadata": {
    "scrolled": true
   },
   "outputs": [
    {
     "name": "stderr",
     "output_type": "stream",
     "text": [
      "WARNING: The default download format has changed from PDB to PDBx/mmCif\n"
     ]
    },
    {
     "name": "stdout",
     "output_type": "stream",
     "text": [
      "Downloading PDB structure '4bxa'...\n",
      "Desired structure doesn't exists\n",
      "Structure exists: '/home/dominique/Documents/data/kinsim/20190724_full/raw/PDB_download/3dko.cif' \n",
      "Structure exists: '/home/dominique/Documents/data/kinsim/20190724_full/raw/PDB_download/2rei.cif' \n",
      "Structure exists: '/home/dominique/Documents/data/kinsim/20190724_full/raw/PDB_download/3miy.cif' \n",
      "Structure exists: '/home/dominique/Documents/data/kinsim/20190724_full/raw/PDB_download/4ppc.cif' \n",
      "Structure exists: '/home/dominique/Documents/data/kinsim/20190724_full/raw/PDB_download/3qgy.cif' \n",
      "Structure exists: '/home/dominique/Documents/data/kinsim/20190724_full/raw/PDB_download/4l7s.cif' \n",
      "Structure exists: '/home/dominique/Documents/data/kinsim/20190724_full/raw/PDB_download/1snu.cif' \n",
      "Structure exists: '/home/dominique/Documents/data/kinsim/20190724_full/raw/PDB_download/4kio.cif' \n",
      "Structure exists: '/home/dominique/Documents/data/kinsim/20190724_full/raw/PDB_download/4m12.cif' \n",
      "Structure exists: '/home/dominique/Documents/data/kinsim/20190724_full/raw/PDB_download/3v8t.cif' \n",
      "Structure exists: '/home/dominique/Documents/data/kinsim/20190724_full/raw/PDB_download/4qd6.cif' \n",
      "Structure exists: '/home/dominique/Documents/data/kinsim/20190724_full/raw/PDB_download/3v8t.cif' \n",
      "Structure exists: '/home/dominique/Documents/data/kinsim/20190724_full/raw/PDB_download/4ppa.cif' \n",
      "Structure exists: '/home/dominique/Documents/data/kinsim/20190724_full/raw/PDB_download/3v8w.cif' \n",
      "Structure exists: '/home/dominique/Documents/data/kinsim/20190724_full/raw/PDB_download/4mf1.cif' \n",
      "Structure exists: '/home/dominique/Documents/data/kinsim/20190724_full/raw/PDB_download/3v5l.cif' \n",
      "Structure exists: '/home/dominique/Documents/data/kinsim/20190724_full/raw/PDB_download/4pqn.cif' \n",
      "Structure exists: '/home/dominique/Documents/data/kinsim/20190724_full/raw/PDB_download/4mf0.cif' \n",
      "Structure exists: '/home/dominique/Documents/data/kinsim/20190724_full/raw/PDB_download/4hcv.cif' \n",
      "Structure exists: '/home/dominique/Documents/data/kinsim/20190724_full/raw/PDB_download/4m15.cif' \n",
      "Structure exists: '/home/dominique/Documents/data/kinsim/20190724_full/raw/PDB_download/4m13.cif' \n",
      "Structure exists: '/home/dominique/Documents/data/kinsim/20190724_full/raw/PDB_download/3t9t.cif' \n",
      "Structure exists: '/home/dominique/Documents/data/kinsim/20190724_full/raw/PDB_download/4qd6.cif' \n",
      "Structure exists: '/home/dominique/Documents/data/kinsim/20190724_full/raw/PDB_download/4pp9.cif' \n",
      "Structure exists: '/home/dominique/Documents/data/kinsim/20190724_full/raw/PDB_download/4hct.cif' \n",
      "Structure exists: '/home/dominique/Documents/data/kinsim/20190724_full/raw/PDB_download/3qgw.cif' \n",
      "Structure exists: '/home/dominique/Documents/data/kinsim/20190724_full/raw/PDB_download/4pqn.cif' \n",
      "Structure exists: '/home/dominique/Documents/data/kinsim/20190724_full/raw/PDB_download/4l7s.cif' \n",
      "Structure exists: '/home/dominique/Documents/data/kinsim/20190724_full/raw/PDB_download/4pp9.cif' \n",
      "Structure exists: '/home/dominique/Documents/data/kinsim/20190724_full/raw/PDB_download/3v5l.cif' \n",
      "Structure exists: '/home/dominique/Documents/data/kinsim/20190724_full/raw/PDB_download/4kio.cif' \n",
      "Structure exists: '/home/dominique/Documents/data/kinsim/20190724_full/raw/PDB_download/4mf1.cif' \n",
      "Structure exists: '/home/dominique/Documents/data/kinsim/20190724_full/raw/PDB_download/3v8w.cif' \n",
      "Structure exists: '/home/dominique/Documents/data/kinsim/20190724_full/raw/PDB_download/2rei.cif' \n",
      "Structure exists: '/home/dominique/Documents/data/kinsim/20190724_full/raw/PDB_download/5a4e.cif' \n",
      "Structure exists: '/home/dominique/Documents/data/kinsim/20190724_full/raw/PDB_download/3cc6.cif' \n",
      "Structure exists: '/home/dominique/Documents/data/kinsim/20190724_full/raw/PDB_download/3t9t.cif' \n",
      "Structure exists: '/home/dominique/Documents/data/kinsim/20190724_full/raw/PDB_download/4ppc.cif' \n",
      "Structure exists: '/home/dominique/Documents/data/kinsim/20190724_full/raw/PDB_download/3miy.cif' \n",
      "Structure exists: '/home/dominique/Documents/data/kinsim/20190724_full/raw/PDB_download/3fzp.cif' \n",
      "Structure exists: '/home/dominique/Documents/data/kinsim/20190724_full/raw/PDB_download/4l7s.cif' \n",
      "Structure exists: '/home/dominique/Documents/data/kinsim/20190724_full/raw/PDB_download/4kio.cif' \n",
      "Structure exists: '/home/dominique/Documents/data/kinsim/20190724_full/raw/PDB_download/4m0z.cif' \n",
      "Structure exists: '/home/dominique/Documents/data/kinsim/20190724_full/raw/PDB_download/4qd6.cif' \n",
      "Structure exists: '/home/dominique/Documents/data/kinsim/20190724_full/raw/PDB_download/4kio.cif' \n",
      "Structure exists: '/home/dominique/Documents/data/kinsim/20190724_full/raw/PDB_download/1sm2.cif' \n",
      "Structure exists: '/home/dominique/Documents/data/kinsim/20190724_full/raw/PDB_download/4mf0.cif' \n",
      "Structure exists: '/home/dominique/Documents/data/kinsim/20190724_full/raw/PDB_download/3v8t.cif' \n",
      "Structure exists: '/home/dominique/Documents/data/kinsim/20190724_full/raw/PDB_download/4m14.cif' \n",
      "Structure exists: '/home/dominique/Documents/data/kinsim/20190724_full/raw/PDB_download/3v5j.cif' \n",
      "Structure exists: '/home/dominique/Documents/data/kinsim/20190724_full/raw/PDB_download/4kio.cif' \n",
      "Structure exists: '/home/dominique/Documents/data/kinsim/20190724_full/raw/PDB_download/4ppb.cif' \n",
      "Structure exists: '/home/dominique/Documents/data/kinsim/20190724_full/raw/PDB_download/3fzr.cif' \n",
      "Structure exists: '/home/dominique/Documents/data/kinsim/20190724_full/raw/PDB_download/3v5l.cif' \n",
      "Structure exists: '/home/dominique/Documents/data/kinsim/20190724_full/raw/PDB_download/3fzt.cif' \n",
      "Structure exists: '/home/dominique/Documents/data/kinsim/20190724_full/raw/PDB_download/3mj2.cif' \n",
      "Structure exists: '/home/dominique/Documents/data/kinsim/20190724_full/raw/PDB_download/3qgw.cif' \n",
      "Structure exists: '/home/dominique/Documents/data/kinsim/20190724_full/raw/PDB_download/3v5l.cif' \n",
      "Structure exists: '/home/dominique/Documents/data/kinsim/20190724_full/raw/PDB_download/3v5j.cif' \n",
      "Structure exists: '/home/dominique/Documents/data/kinsim/20190724_full/raw/PDB_download/3v8t.cif' \n",
      "Structure exists: '/home/dominique/Documents/data/kinsim/20190724_full/raw/PDB_download/3qgy.cif' \n",
      "Structure exists: '/home/dominique/Documents/data/kinsim/20190724_full/raw/PDB_download/3qgy.cif' \n",
      "Structure exists: '/home/dominique/Documents/data/kinsim/20190724_full/raw/PDB_download/3qgy.cif' \n",
      "Structure exists: '/home/dominique/Documents/data/kinsim/20190724_full/raw/PDB_download/4m12.cif' \n",
      "Structure exists: '/home/dominique/Documents/data/kinsim/20190724_full/raw/PDB_download/4qd6.cif' \n",
      "Structure exists: '/home/dominique/Documents/data/kinsim/20190724_full/raw/PDB_download/1snu.cif' \n",
      "Structure exists: '/home/dominique/Documents/data/kinsim/20190724_full/raw/PDB_download/4rfm.cif' \n",
      "Structure exists: '/home/dominique/Documents/data/kinsim/20190724_full/raw/PDB_download/4rfm.cif' \n",
      "Structure exists: '/home/dominique/Documents/data/kinsim/20190724_full/raw/PDB_download/1snx.cif' \n",
      "Structure exists: '/home/dominique/Documents/data/kinsim/20190724_full/raw/PDB_download/5xy1.cif' \n",
      "Structure exists: '/home/dominique/Documents/data/kinsim/20190724_full/raw/PDB_download/4rer.cif' \n",
      "Structure exists: '/home/dominique/Documents/data/kinsim/20190724_full/raw/PDB_download/3cc6.cif' \n",
      "Structure exists: '/home/dominique/Documents/data/kinsim/20190724_full/raw/PDB_download/4h1j.cif' \n",
      "Structure exists: '/home/dominique/Documents/data/kinsim/20190724_full/raw/PDB_download/4red.cif' \n",
      "Structure exists: '/home/dominique/Documents/data/kinsim/20190724_full/raw/PDB_download/1tki.cif' \n",
      "Structure exists: '/home/dominique/Documents/data/kinsim/20190724_full/raw/PDB_download/2xyn.cif' \n",
      "Structure exists: '/home/dominique/Documents/data/kinsim/20190724_full/raw/PDB_download/2xyn.cif' \n",
      "Structure exists: '/home/dominique/Documents/data/kinsim/20190724_full/raw/PDB_download/2xyn.cif' \n",
      "Structure exists: '/home/dominique/Documents/data/kinsim/20190724_full/raw/PDB_download/2xyn.cif' \n",
      "Structure exists: '/home/dominique/Documents/data/kinsim/20190724_full/raw/PDB_download/4nw6.cif' \n",
      "Structure exists: '/home/dominique/Documents/data/kinsim/20190724_full/raw/PDB_download/4ymj.cif' \n",
      "Structure exists: '/home/dominique/Documents/data/kinsim/20190724_full/raw/PDB_download/3gvu.cif' \n",
      "Structure exists: '/home/dominique/Documents/data/kinsim/20190724_full/raw/PDB_download/1z57.cif' \n",
      "Structure exists: '/home/dominique/Documents/data/kinsim/20190724_full/raw/PDB_download/4nus.cif' \n",
      "Structure exists: '/home/dominique/Documents/data/kinsim/20190724_full/raw/PDB_download/1wbp.cif' \n",
      "Structure exists: '/home/dominique/Documents/data/kinsim/20190724_full/raw/PDB_download/3fzo.cif' \n",
      "Structure exists: '/home/dominique/Documents/data/kinsim/20190724_full/raw/PDB_download/1wak.cif' \n",
      "Structure exists: '/home/dominique/Documents/data/kinsim/20190724_full/raw/PDB_download/3hmi.cif' \n",
      "Structure exists: '/home/dominique/Documents/data/kinsim/20190724_full/raw/PDB_download/4red.cif' \n",
      "Structure exists: '/home/dominique/Documents/data/kinsim/20190724_full/raw/PDB_download/3gvu.cif' \n",
      "Structure exists: '/home/dominique/Documents/data/kinsim/20190724_full/raw/PDB_download/3hmi.cif' \n",
      "Structure exists: '/home/dominique/Documents/data/kinsim/20190724_full/raw/PDB_download/3fzs.cif' \n",
      "Structure exists: '/home/dominique/Documents/data/kinsim/20190724_full/raw/PDB_download/2vag.cif' \n",
      "Structure exists: '/home/dominique/Documents/data/kinsim/20190724_full/raw/PDB_download/2vag.cif' \n",
      "Structure exists: '/home/dominique/Documents/data/kinsim/20190724_full/raw/PDB_download/4jnw.cif' \n",
      "Structure exists: '/home/dominique/Documents/data/kinsim/20190724_full/raw/PDB_download/4ymj.cif' \n",
      "Structure exists: '/home/dominique/Documents/data/kinsim/20190724_full/raw/PDB_download/4jnw.cif' \n",
      "Structure exists: '/home/dominique/Documents/data/kinsim/20190724_full/raw/PDB_download/4jnw.cif' \n",
      "Structure exists: '/home/dominique/Documents/data/kinsim/20190724_full/raw/PDB_download/4jnw.cif' \n",
      "Structure exists: '/home/dominique/Documents/data/kinsim/20190724_full/raw/PDB_download/1vzo.cif' \n",
      "Structure exists: '/home/dominique/Documents/data/kinsim/20190724_full/raw/PDB_download/5nhv.cif' \n",
      "Structure exists: '/home/dominique/Documents/data/kinsim/20190724_full/raw/PDB_download/5gz9.cif' \n",
      "Structure exists: '/home/dominique/Documents/data/kinsim/20190724_full/raw/PDB_download/5v24.cif' \n",
      "Structure exists: '/home/dominique/Documents/data/kinsim/20190724_full/raw/PDB_download/5a4e.cif' \n",
      "Structure exists: '/home/dominique/Documents/data/kinsim/20190724_full/raw/PDB_download/5a4e.cif' \n",
      "Structure exists: '/home/dominique/Documents/data/kinsim/20190724_full/raw/PDB_download/5v24.cif' \n",
      "Structure exists: '/home/dominique/Documents/data/kinsim/20190724_full/raw/PDB_download/4o0t.cif' \n",
      "Structure exists: '/home/dominique/Documents/data/kinsim/20190724_full/raw/PDB_download/1yhv.cif' \n",
      "Structure exists: '/home/dominique/Documents/data/kinsim/20190724_full/raw/PDB_download/4zjj.cif' \n",
      "Structure exists: '/home/dominique/Documents/data/kinsim/20190724_full/raw/PDB_download/3q53.cif' \n",
      "Structure exists: '/home/dominique/Documents/data/kinsim/20190724_full/raw/PDB_download/4nw6.cif' \n",
      "Structure exists: '/home/dominique/Documents/data/kinsim/20190724_full/raw/PDB_download/3q52.cif' \n",
      "Structure exists: '/home/dominique/Documents/data/kinsim/20190724_full/raw/PDB_download/1yhw.cif' \n",
      "Structure exists: '/home/dominique/Documents/data/kinsim/20190724_full/raw/PDB_download/4zji.cif' \n",
      "Structure exists: '/home/dominique/Documents/data/kinsim/20190724_full/raw/PDB_download/4nw5.cif' \n",
      "Structure exists: '/home/dominique/Documents/data/kinsim/20190724_full/raw/PDB_download/4zy4.cif' \n",
      "Structure exists: '/home/dominique/Documents/data/kinsim/20190724_full/raw/PDB_download/4zjj.cif' \n",
      "Structure exists: '/home/dominique/Documents/data/kinsim/20190724_full/raw/PDB_download/4zjj.cif' \n",
      "Structure exists: '/home/dominique/Documents/data/kinsim/20190724_full/raw/PDB_download/4zy6.cif' \n",
      "Structure exists: '/home/dominique/Documents/data/kinsim/20190724_full/raw/PDB_download/4p90.cif' \n",
      "Structure exists: '/home/dominique/Documents/data/kinsim/20190724_full/raw/PDB_download/4eqc.cif' \n",
      "Structure exists: '/home/dominique/Documents/data/kinsim/20190724_full/raw/PDB_download/4zy6.cif' \n",
      "Structure exists: '/home/dominique/Documents/data/kinsim/20190724_full/raw/PDB_download/3q4z.cif' \n",
      "Structure exists: '/home/dominique/Documents/data/kinsim/20190724_full/raw/PDB_download/4zjj.cif' \n",
      "Structure exists: '/home/dominique/Documents/data/kinsim/20190724_full/raw/PDB_download/3q4z.cif' \n",
      "Structure exists: '/home/dominique/Documents/data/kinsim/20190724_full/raw/PDB_download/4p90.cif' \n",
      "Structure exists: '/home/dominique/Documents/data/kinsim/20190724_full/raw/PDB_download/4zjj.cif' \n",
      "Structure exists: '/home/dominique/Documents/data/kinsim/20190724_full/raw/PDB_download/4o0t.cif' \n",
      "Structure exists: '/home/dominique/Documents/data/kinsim/20190724_full/raw/PDB_download/4zjj.cif' \n",
      "Structure exists: '/home/dominique/Documents/data/kinsim/20190724_full/raw/PDB_download/4zlo.cif' \n",
      "Structure exists: '/home/dominique/Documents/data/kinsim/20190724_full/raw/PDB_download/2hy8.cif' \n",
      "Structure exists: '/home/dominique/Documents/data/kinsim/20190724_full/raw/PDB_download/4o0r.cif' \n",
      "Structure exists: '/home/dominique/Documents/data/kinsim/20190724_full/raw/PDB_download/5dew.cif' \n",
      "Structure exists: '/home/dominique/Documents/data/kinsim/20190724_full/raw/PDB_download/5dew.cif' \n",
      "Structure exists: '/home/dominique/Documents/data/kinsim/20190724_full/raw/PDB_download/4uxl.cif' \n",
      "Structure exists: '/home/dominique/Documents/data/kinsim/20190724_full/raw/PDB_download/4gu9.cif' \n",
      "Structure exists: '/home/dominique/Documents/data/kinsim/20190724_full/raw/PDB_download/4cff.cif' \n",
      "Structure exists: '/home/dominique/Documents/data/kinsim/20190724_full/raw/PDB_download/4eqc.cif' \n",
      "Structure exists: '/home/dominique/Documents/data/kinsim/20190724_full/raw/PDB_download/4cfe.cif' \n",
      "Structure exists: '/home/dominique/Documents/data/kinsim/20190724_full/raw/PDB_download/4zji.cif' \n",
      "Structure exists: '/home/dominique/Documents/data/kinsim/20190724_full/raw/PDB_download/3biz.cif' \n",
      "Structure exists: '/home/dominique/Documents/data/kinsim/20190724_full/raw/PDB_download/3zbf.cif' \n",
      "Structure exists: '/home/dominique/Documents/data/kinsim/20190724_full/raw/PDB_download/2f57.cif' \n",
      "Structure exists: '/home/dominique/Documents/data/kinsim/20190724_full/raw/PDB_download/2f57.cif' \n",
      "Structure exists: '/home/dominique/Documents/data/kinsim/20190724_full/raw/PDB_download/4zy4.cif' \n",
      "Structure exists: '/home/dominique/Documents/data/kinsim/20190724_full/raw/PDB_download/3bi6.cif' \n",
      "Structure exists: '/home/dominique/Documents/data/kinsim/20190724_full/raw/PDB_download/4zy6.cif' \n",
      "Structure exists: '/home/dominique/Documents/data/kinsim/20190724_full/raw/PDB_download/3bi6.cif' \n",
      "Structure exists: '/home/dominique/Documents/data/kinsim/20190724_full/raw/PDB_download/4ebw.cif' \n",
      "Structure exists: '/home/dominique/Documents/data/kinsim/20190724_full/raw/PDB_download/2z2w.cif' \n",
      "Structure exists: '/home/dominique/Documents/data/kinsim/20190724_full/raw/PDB_download/4ebw.cif' \n",
      "Structure exists: '/home/dominique/Documents/data/kinsim/20190724_full/raw/PDB_download/3cqe.cif' \n",
      "Structure exists: '/home/dominique/Documents/data/kinsim/20190724_full/raw/PDB_download/4zjj.cif' \n",
      "Structure exists: '/home/dominique/Documents/data/kinsim/20190724_full/raw/PDB_download/3aqv.cif' \n",
      "Structure exists: '/home/dominique/Documents/data/kinsim/20190724_full/raw/PDB_download/3cr0.cif' \n",
      "Structure exists: '/home/dominique/Documents/data/kinsim/20190724_full/raw/PDB_download/4zlo.cif' \n",
      "Structure exists: '/home/dominique/Documents/data/kinsim/20190724_full/raw/PDB_download/3cqe.cif' \n",
      "Structure exists: '/home/dominique/Documents/data/kinsim/20190724_full/raw/PDB_download/3cr0.cif' \n",
      "Structure exists: '/home/dominique/Documents/data/kinsim/20190724_full/raw/PDB_download/1x8b.cif' \n",
      "Structure exists: '/home/dominique/Documents/data/kinsim/20190724_full/raw/PDB_download/2ijm.cif' \n",
      "Structure exists: '/home/dominique/Documents/data/kinsim/20190724_full/raw/PDB_download/4zlo.cif' \n",
      "Structure exists: '/home/dominique/Documents/data/kinsim/20190724_full/raw/PDB_download/2io6.cif' \n",
      "Structure exists: '/home/dominique/Documents/data/kinsim/20190724_full/raw/PDB_download/3q4z.cif' \n",
      "Structure exists: '/home/dominique/Documents/data/kinsim/20190724_full/raw/PDB_download/3biz.cif' \n",
      "Structure exists: '/home/dominique/Documents/data/kinsim/20190724_full/raw/PDB_download/2ijm.cif' \n",
      "Structure exists: '/home/dominique/Documents/data/kinsim/20190724_full/raw/PDB_download/4i4e.cif' \n",
      "Structure exists: '/home/dominique/Documents/data/kinsim/20190724_full/raw/PDB_download/5k5n.cif' \n",
      "Structure exists: '/home/dominique/Documents/data/kinsim/20190724_full/raw/PDB_download/5t3q.cif' \n",
      "Structure exists: '/home/dominique/Documents/data/kinsim/20190724_full/raw/PDB_download/5k5n.cif' \n",
      "Structure exists: '/home/dominique/Documents/data/kinsim/20190724_full/raw/PDB_download/5e7r.cif' \n",
      "Structure exists: '/home/dominique/Documents/data/kinsim/20190724_full/raw/PDB_download/3bz3.cif' \n",
      "Structure exists: '/home/dominique/Documents/data/kinsim/20190724_full/raw/PDB_download/2etm.cif' \n",
      "Structure exists: '/home/dominique/Documents/data/kinsim/20190724_full/raw/PDB_download/4mha.cif' \n",
      "Structure exists: '/home/dominique/Documents/data/kinsim/20190724_full/raw/PDB_download/4i4f.cif' \n",
      "Structure exists: '/home/dominique/Documents/data/kinsim/20190724_full/raw/PDB_download/4i4f.cif' \n",
      "Structure exists: '/home/dominique/Documents/data/kinsim/20190724_full/raw/PDB_download/4kao.cif' \n",
      "Structure exists: '/home/dominique/Documents/data/kinsim/20190724_full/raw/PDB_download/2h6d.cif' \n",
      "Structure exists: '/home/dominique/Documents/data/kinsim/20190724_full/raw/PDB_download/6gin.cif' \n",
      "Structure exists: '/home/dominique/Documents/data/kinsim/20190724_full/raw/PDB_download/4kao.cif' \n",
      "Structure exists: '/home/dominique/Documents/data/kinsim/20190724_full/raw/PDB_download/3bz3.cif' \n",
      "Structure exists: '/home/dominique/Documents/data/kinsim/20190724_full/raw/PDB_download/4gu6.cif' \n",
      "Structure exists: '/home/dominique/Documents/data/kinsim/20190724_full/raw/PDB_download/4kab.cif' \n",
      "Structure exists: '/home/dominique/Documents/data/kinsim/20190724_full/raw/PDB_download/4mh7.cif' \n",
      "Structure exists: '/home/dominique/Documents/data/kinsim/20190724_full/raw/PDB_download/3bpr.cif' \n",
      "Structure exists: '/home/dominique/Documents/data/kinsim/20190724_full/raw/PDB_download/4gu6.cif' \n",
      "Structure exists: '/home/dominique/Documents/data/kinsim/20190724_full/raw/PDB_download/4k8a.cif' \n",
      "Structure exists: '/home/dominique/Documents/data/kinsim/20190724_full/raw/PDB_download/4k8a.cif' \n",
      "Downloading PDB structure '3pxk'...\n"
     ]
    },
    {
     "name": "stderr",
     "output_type": "stream",
     "text": [
      "WARNING: The default download format has changed from PDB to PDBx/mmCif\n",
      "WARNING: The default download format has changed from PDB to PDBx/mmCif\n",
      "WARNING: The default download format has changed from PDB to PDBx/mmCif\n",
      "WARNING: The default download format has changed from PDB to PDBx/mmCif\n",
      "WARNING: The default download format has changed from PDB to PDBx/mmCif\n",
      "WARNING: The default download format has changed from PDB to PDBx/mmCif\n",
      "WARNING: The default download format has changed from PDB to PDBx/mmCif\n",
      "WARNING: The default download format has changed from PDB to PDBx/mmCif\n",
      "WARNING: The default download format has changed from PDB to PDBx/mmCif\n",
      "WARNING: The default download format has changed from PDB to PDBx/mmCif\n",
      "WARNING: The default download format has changed from PDB to PDBx/mmCif\n",
      "WARNING: The default download format has changed from PDB to PDBx/mmCif\n",
      "WARNING: The default download format has changed from PDB to PDBx/mmCif\n",
      "WARNING: The default download format has changed from PDB to PDBx/mmCif\n",
      "WARNING: The default download format has changed from PDB to PDBx/mmCif\n",
      "WARNING: The default download format has changed from PDB to PDBx/mmCif\n",
      "WARNING: The default download format has changed from PDB to PDBx/mmCif\n",
      "WARNING: The default download format has changed from PDB to PDBx/mmCif\n",
      "WARNING: The default download format has changed from PDB to PDBx/mmCif\n",
      "WARNING: The default download format has changed from PDB to PDBx/mmCif\n",
      "WARNING: The default download format has changed from PDB to PDBx/mmCif\n",
      "WARNING: The default download format has changed from PDB to PDBx/mmCif\n",
      "WARNING: The default download format has changed from PDB to PDBx/mmCif\n",
      "WARNING: The default download format has changed from PDB to PDBx/mmCif\n",
      "WARNING: The default download format has changed from PDB to PDBx/mmCif\n",
      "WARNING: The default download format has changed from PDB to PDBx/mmCif\n",
      "WARNING: The default download format has changed from PDB to PDBx/mmCif\n",
      "WARNING: The default download format has changed from PDB to PDBx/mmCif\n",
      "WARNING: The default download format has changed from PDB to PDBx/mmCif\n",
      "WARNING: The default download format has changed from PDB to PDBx/mmCif\n",
      "WARNING: The default download format has changed from PDB to PDBx/mmCif\n",
      "WARNING: The default download format has changed from PDB to PDBx/mmCif\n",
      "WARNING: The default download format has changed from PDB to PDBx/mmCif\n",
      "WARNING: The default download format has changed from PDB to PDBx/mmCif\n",
      "WARNING: The default download format has changed from PDB to PDBx/mmCif\n",
      "WARNING: The default download format has changed from PDB to PDBx/mmCif\n",
      "WARNING: The default download format has changed from PDB to PDBx/mmCif\n",
      "WARNING: The default download format has changed from PDB to PDBx/mmCif\n",
      "WARNING: The default download format has changed from PDB to PDBx/mmCif\n",
      "WARNING: The default download format has changed from PDB to PDBx/mmCif\n",
      "WARNING: The default download format has changed from PDB to PDBx/mmCif\n",
      "WARNING: The default download format has changed from PDB to PDBx/mmCif\n",
      "WARNING: The default download format has changed from PDB to PDBx/mmCif\n",
      "WARNING: The default download format has changed from PDB to PDBx/mmCif\n",
      "WARNING: The default download format has changed from PDB to PDBx/mmCif\n",
      "WARNING: The default download format has changed from PDB to PDBx/mmCif\n",
      "WARNING: The default download format has changed from PDB to PDBx/mmCif\n",
      "WARNING: The default download format has changed from PDB to PDBx/mmCif\n",
      "WARNING: The default download format has changed from PDB to PDBx/mmCif\n",
      "WARNING: The default download format has changed from PDB to PDBx/mmCif\n",
      "WARNING: The default download format has changed from PDB to PDBx/mmCif\n",
      "WARNING: The default download format has changed from PDB to PDBx/mmCif\n",
      "WARNING: The default download format has changed from PDB to PDBx/mmCif\n",
      "WARNING: The default download format has changed from PDB to PDBx/mmCif\n",
      "WARNING: The default download format has changed from PDB to PDBx/mmCif\n",
      "WARNING: The default download format has changed from PDB to PDBx/mmCif\n",
      "WARNING: The default download format has changed from PDB to PDBx/mmCif\n",
      "WARNING: The default download format has changed from PDB to PDBx/mmCif\n",
      "WARNING: The default download format has changed from PDB to PDBx/mmCif\n",
      "WARNING: The default download format has changed from PDB to PDBx/mmCif\n",
      "WARNING: The default download format has changed from PDB to PDBx/mmCif\n",
      "WARNING: The default download format has changed from PDB to PDBx/mmCif\n",
      "WARNING: The default download format has changed from PDB to PDBx/mmCif\n",
      "WARNING: The default download format has changed from PDB to PDBx/mmCif\n",
      "WARNING: The default download format has changed from PDB to PDBx/mmCif\n",
      "WARNING: The default download format has changed from PDB to PDBx/mmCif\n",
      "WARNING: The default download format has changed from PDB to PDBx/mmCif\n",
      "WARNING: The default download format has changed from PDB to PDBx/mmCif\n",
      "WARNING: The default download format has changed from PDB to PDBx/mmCif\n",
      "WARNING: The default download format has changed from PDB to PDBx/mmCif\n",
      "WARNING: The default download format has changed from PDB to PDBx/mmCif\n",
      "WARNING: The default download format has changed from PDB to PDBx/mmCif\n",
      "WARNING: The default download format has changed from PDB to PDBx/mmCif\n",
      "WARNING: The default download format has changed from PDB to PDBx/mmCif\n",
      "WARNING: The default download format has changed from PDB to PDBx/mmCif\n",
      "WARNING: The default download format has changed from PDB to PDBx/mmCif\n",
      "WARNING: The default download format has changed from PDB to PDBx/mmCif\n",
      "WARNING: The default download format has changed from PDB to PDBx/mmCif\n",
      "WARNING: The default download format has changed from PDB to PDBx/mmCif\n",
      "WARNING: The default download format has changed from PDB to PDBx/mmCif\n",
      "WARNING: The default download format has changed from PDB to PDBx/mmCif\n",
      "WARNING: The default download format has changed from PDB to PDBx/mmCif\n",
      "WARNING: The default download format has changed from PDB to PDBx/mmCif\n",
      "WARNING: The default download format has changed from PDB to PDBx/mmCif\n",
      "WARNING: The default download format has changed from PDB to PDBx/mmCif\n",
      "WARNING: The default download format has changed from PDB to PDBx/mmCif\n",
      "WARNING: The default download format has changed from PDB to PDBx/mmCif\n",
      "WARNING: The default download format has changed from PDB to PDBx/mmCif\n",
      "WARNING: The default download format has changed from PDB to PDBx/mmCif\n",
      "WARNING: The default download format has changed from PDB to PDBx/mmCif\n",
      "WARNING: The default download format has changed from PDB to PDBx/mmCif\n",
      "WARNING: The default download format has changed from PDB to PDBx/mmCif\n",
      "WARNING: The default download format has changed from PDB to PDBx/mmCif\n",
      "WARNING: The default download format has changed from PDB to PDBx/mmCif\n",
      "WARNING: The default download format has changed from PDB to PDBx/mmCif\n",
      "WARNING: The default download format has changed from PDB to PDBx/mmCif\n",
      "WARNING: The default download format has changed from PDB to PDBx/mmCif\n",
      "WARNING: The default download format has changed from PDB to PDBx/mmCif\n",
      "WARNING: The default download format has changed from PDB to PDBx/mmCif\n",
      "WARNING: The default download format has changed from PDB to PDBx/mmCif\n",
      "WARNING: The default download format has changed from PDB to PDBx/mmCif\n",
      "WARNING: The default download format has changed from PDB to PDBx/mmCif\n",
      "WARNING: The default download format has changed from PDB to PDBx/mmCif\n",
      "WARNING: The default download format has changed from PDB to PDBx/mmCif\n",
      "WARNING: The default download format has changed from PDB to PDBx/mmCif\n",
      "WARNING: The default download format has changed from PDB to PDBx/mmCif\n",
      "WARNING: The default download format has changed from PDB to PDBx/mmCif\n",
      "WARNING: The default download format has changed from PDB to PDBx/mmCif\n",
      "WARNING: The default download format has changed from PDB to PDBx/mmCif\n",
      "WARNING: The default download format has changed from PDB to PDBx/mmCif\n",
      "WARNING: The default download format has changed from PDB to PDBx/mmCif\n",
      "WARNING: The default download format has changed from PDB to PDBx/mmCif\n",
      "WARNING: The default download format has changed from PDB to PDBx/mmCif\n",
      "WARNING: The default download format has changed from PDB to PDBx/mmCif\n",
      "WARNING: The default download format has changed from PDB to PDBx/mmCif\n",
      "WARNING: The default download format has changed from PDB to PDBx/mmCif\n",
      "WARNING: The default download format has changed from PDB to PDBx/mmCif\n",
      "WARNING: The default download format has changed from PDB to PDBx/mmCif\n",
      "WARNING: The default download format has changed from PDB to PDBx/mmCif\n",
      "WARNING: The default download format has changed from PDB to PDBx/mmCif\n",
      "WARNING: The default download format has changed from PDB to PDBx/mmCif\n",
      "WARNING: The default download format has changed from PDB to PDBx/mmCif\n",
      "WARNING: The default download format has changed from PDB to PDBx/mmCif\n",
      "WARNING: The default download format has changed from PDB to PDBx/mmCif\n",
      "WARNING: The default download format has changed from PDB to PDBx/mmCif\n",
      "WARNING: The default download format has changed from PDB to PDBx/mmCif\n",
      "WARNING: The default download format has changed from PDB to PDBx/mmCif\n",
      "WARNING: The default download format has changed from PDB to PDBx/mmCif\n",
      "WARNING: The default download format has changed from PDB to PDBx/mmCif\n",
      "WARNING: The default download format has changed from PDB to PDBx/mmCif\n",
      "WARNING: The default download format has changed from PDB to PDBx/mmCif\n",
      "WARNING: The default download format has changed from PDB to PDBx/mmCif\n",
      "WARNING: The default download format has changed from PDB to PDBx/mmCif\n",
      "WARNING: The default download format has changed from PDB to PDBx/mmCif\n",
      "WARNING: The default download format has changed from PDB to PDBx/mmCif\n",
      "WARNING: The default download format has changed from PDB to PDBx/mmCif\n",
      "WARNING: The default download format has changed from PDB to PDBx/mmCif\n",
      "WARNING: The default download format has changed from PDB to PDBx/mmCif\n",
      "WARNING: The default download format has changed from PDB to PDBx/mmCif\n",
      "WARNING: The default download format has changed from PDB to PDBx/mmCif\n",
      "WARNING: The default download format has changed from PDB to PDBx/mmCif\n",
      "WARNING: The default download format has changed from PDB to PDBx/mmCif\n",
      "WARNING: The default download format has changed from PDB to PDBx/mmCif\n",
      "WARNING: The default download format has changed from PDB to PDBx/mmCif\n",
      "WARNING: The default download format has changed from PDB to PDBx/mmCif\n",
      "WARNING: The default download format has changed from PDB to PDBx/mmCif\n",
      "WARNING: The default download format has changed from PDB to PDBx/mmCif\n",
      "WARNING: The default download format has changed from PDB to PDBx/mmCif\n",
      "WARNING: The default download format has changed from PDB to PDBx/mmCif\n",
      "WARNING: The default download format has changed from PDB to PDBx/mmCif\n",
      "WARNING: The default download format has changed from PDB to PDBx/mmCif\n",
      "WARNING: The default download format has changed from PDB to PDBx/mmCif\n",
      "WARNING: The default download format has changed from PDB to PDBx/mmCif\n",
      "WARNING: The default download format has changed from PDB to PDBx/mmCif\n",
      "WARNING: The default download format has changed from PDB to PDBx/mmCif\n",
      "WARNING: The default download format has changed from PDB to PDBx/mmCif\n",
      "WARNING: The default download format has changed from PDB to PDBx/mmCif\n",
      "WARNING: The default download format has changed from PDB to PDBx/mmCif\n",
      "WARNING: The default download format has changed from PDB to PDBx/mmCif\n",
      "WARNING: The default download format has changed from PDB to PDBx/mmCif\n",
      "WARNING: The default download format has changed from PDB to PDBx/mmCif\n",
      "WARNING: The default download format has changed from PDB to PDBx/mmCif\n",
      "WARNING: The default download format has changed from PDB to PDBx/mmCif\n",
      "WARNING: The default download format has changed from PDB to PDBx/mmCif\n",
      "WARNING: The default download format has changed from PDB to PDBx/mmCif\n",
      "WARNING: The default download format has changed from PDB to PDBx/mmCif\n",
      "WARNING: The default download format has changed from PDB to PDBx/mmCif\n",
      "WARNING: The default download format has changed from PDB to PDBx/mmCif\n",
      "WARNING: The default download format has changed from PDB to PDBx/mmCif\n",
      "WARNING: The default download format has changed from PDB to PDBx/mmCif\n",
      "WARNING: The default download format has changed from PDB to PDBx/mmCif\n",
      "WARNING: The default download format has changed from PDB to PDBx/mmCif\n",
      "WARNING: The default download format has changed from PDB to PDBx/mmCif\n",
      "WARNING: The default download format has changed from PDB to PDBx/mmCif\n",
      "WARNING: The default download format has changed from PDB to PDBx/mmCif\n",
      "WARNING: The default download format has changed from PDB to PDBx/mmCif\n",
      "WARNING: The default download format has changed from PDB to PDBx/mmCif\n",
      "WARNING: The default download format has changed from PDB to PDBx/mmCif\n",
      "WARNING: The default download format has changed from PDB to PDBx/mmCif\n",
      "WARNING: The default download format has changed from PDB to PDBx/mmCif\n",
      "WARNING: The default download format has changed from PDB to PDBx/mmCif\n",
      "WARNING: The default download format has changed from PDB to PDBx/mmCif\n",
      "WARNING: The default download format has changed from PDB to PDBx/mmCif\n",
      "WARNING: The default download format has changed from PDB to PDBx/mmCif\n",
      "WARNING: The default download format has changed from PDB to PDBx/mmCif\n",
      "WARNING: The default download format has changed from PDB to PDBx/mmCif\n",
      "WARNING: The default download format has changed from PDB to PDBx/mmCif\n",
      "WARNING: The default download format has changed from PDB to PDBx/mmCif\n"
     ]
    },
    {
     "name": "stderr",
     "output_type": "stream",
     "text": [
      "WARNING: The default download format has changed from PDB to PDBx/mmCif\n",
      "WARNING: The default download format has changed from PDB to PDBx/mmCif\n",
      "WARNING: The default download format has changed from PDB to PDBx/mmCif\n",
      "WARNING: The default download format has changed from PDB to PDBx/mmCif\n"
     ]
    },
    {
     "name": "stdout",
     "output_type": "stream",
     "text": [
      "Structure exists: '/home/dominique/Documents/data/kinsim/20190724_full/raw/PDB_download/2ijm.cif' \n",
      "Structure exists: '/home/dominique/Documents/data/kinsim/20190724_full/raw/PDB_download/4mh7.cif' \n",
      "Structure exists: '/home/dominique/Documents/data/kinsim/20190724_full/raw/PDB_download/2etm.cif' \n",
      "Downloading PDB structure '4k9y'...\n"
     ]
    },
    {
     "name": "stderr",
     "output_type": "stream",
     "text": [
      "WARNING: The default download format has changed from PDB to PDBx/mmCif\n",
      "WARNING: The default download format has changed from PDB to PDBx/mmCif\n",
      "WARNING: The default download format has changed from PDB to PDBx/mmCif\n"
     ]
    },
    {
     "name": "stdout",
     "output_type": "stream",
     "text": [
      "Structure exists: '/home/dominique/Documents/data/kinsim/20190724_full/raw/PDB_download/4ebw.cif' \n",
      "Structure exists: '/home/dominique/Documents/data/kinsim/20190724_full/raw/PDB_download/2ijm.cif' \n",
      "Downloading PDB structure '4ebv'...\n"
     ]
    },
    {
     "name": "stderr",
     "output_type": "stream",
     "text": [
      "WARNING: The default download format has changed from PDB to PDBx/mmCif\n",
      "WARNING: The default download format has changed from PDB to PDBx/mmCif\n"
     ]
    },
    {
     "name": "stdout",
     "output_type": "stream",
     "text": [
      "Structure exists: '/home/dominique/Documents/data/kinsim/20190724_full/raw/PDB_download/4ebv.cif' \n",
      "Downloading PDB structure '2hak'...\n"
     ]
    },
    {
     "name": "stderr",
     "output_type": "stream",
     "text": [
      "WARNING: The default download format has changed from PDB to PDBx/mmCif\n",
      "WARNING: The default download format has changed from PDB to PDBx/mmCif\n",
      "WARNING: The default download format has changed from PDB to PDBx/mmCif\n",
      "WARNING: The default download format has changed from PDB to PDBx/mmCif\n"
     ]
    },
    {
     "name": "stdout",
     "output_type": "stream",
     "text": [
      "Structure exists: '/home/dominique/Documents/data/kinsim/20190724_full/raw/PDB_download/2hak.cif' \n",
      "Structure exists: '/home/dominique/Documents/data/kinsim/20190724_full/raw/PDB_download/2hak.cif' \n",
      "Structure exists: '/home/dominique/Documents/data/kinsim/20190724_full/raw/PDB_download/4k9y.cif' \n",
      "Downloading PDB structure '4q9s'...\n"
     ]
    },
    {
     "name": "stderr",
     "output_type": "stream",
     "text": [
      "WARNING: The default download format has changed from PDB to PDBx/mmCif\n",
      "WARNING: The default download format has changed from PDB to PDBx/mmCif\n",
      "WARNING: The default download format has changed from PDB to PDBx/mmCif\n"
     ]
    },
    {
     "name": "stdout",
     "output_type": "stream",
     "text": [
      "Structure exists: '/home/dominique/Documents/data/kinsim/20190724_full/raw/PDB_download/5v24.cif' \n",
      "Structure exists: '/home/dominique/Documents/data/kinsim/20190724_full/raw/PDB_download/5v24.cif' \n",
      "Downloading PDB structure '5j87'...\n"
     ]
    },
    {
     "name": "stderr",
     "output_type": "stream",
     "text": [
      "WARNING: The default download format has changed from PDB to PDBx/mmCif\n"
     ]
    },
    {
     "name": "stdout",
     "output_type": "stream",
     "text": [
      "Downloading PDB structure '2xk4'...\n"
     ]
    },
    {
     "name": "stderr",
     "output_type": "stream",
     "text": [
      "WARNING: The default download format has changed from PDB to PDBx/mmCif\n"
     ]
    },
    {
     "name": "stdout",
     "output_type": "stream",
     "text": [
      "Downloading PDB structure '3brb'...\n"
     ]
    },
    {
     "name": "stderr",
     "output_type": "stream",
     "text": [
      "WARNING: The default download format has changed from PDB to PDBx/mmCif\n",
      "WARNING: The default download format has changed from PDB to PDBx/mmCif\n"
     ]
    },
    {
     "name": "stdout",
     "output_type": "stream",
     "text": [
      "Structure exists: '/home/dominique/Documents/data/kinsim/20190724_full/raw/PDB_download/4mha.cif' \n",
      "Downloading PDB structure '2xnn'...\n"
     ]
    },
    {
     "name": "stderr",
     "output_type": "stream",
     "text": [
      "WARNING: The default download format has changed from PDB to PDBx/mmCif\n"
     ]
    },
    {
     "name": "stdout",
     "output_type": "stream",
     "text": [
      "Downloading PDB structure '2xke'...\n"
     ]
    },
    {
     "name": "stderr",
     "output_type": "stream",
     "text": [
      "WARNING: The default download format has changed from PDB to PDBx/mmCif\n"
     ]
    },
    {
     "name": "stdout",
     "output_type": "stream",
     "text": [
      "Downloading PDB structure '4kik'...\n"
     ]
    },
    {
     "name": "stderr",
     "output_type": "stream",
     "text": [
      "WARNING: The default download format has changed from PDB to PDBx/mmCif\n",
      "WARNING: The default download format has changed from PDB to PDBx/mmCif\n",
      "WARNING: The default download format has changed from PDB to PDBx/mmCif\n",
      "WARNING: The default download format has changed from PDB to PDBx/mmCif\n",
      "WARNING: The default download format has changed from PDB to PDBx/mmCif\n"
     ]
    },
    {
     "name": "stdout",
     "output_type": "stream",
     "text": [
      "Structure exists: '/home/dominique/Documents/data/kinsim/20190724_full/raw/PDB_download/4kik.cif' \n",
      "Structure exists: '/home/dominique/Documents/data/kinsim/20190724_full/raw/PDB_download/3brb.cif' \n",
      "Structure exists: '/home/dominique/Documents/data/kinsim/20190724_full/raw/PDB_download/4kik.cif' \n",
      "Structure exists: '/home/dominique/Documents/data/kinsim/20190724_full/raw/PDB_download/4kik.cif' \n",
      "Downloading PDB structure '2p0c'...\n"
     ]
    },
    {
     "name": "stderr",
     "output_type": "stream",
     "text": [
      "WARNING: The default download format has changed from PDB to PDBx/mmCif\n"
     ]
    },
    {
     "name": "stdout",
     "output_type": "stream",
     "text": [
      "Downloading PDB structure '2xk8'...\n"
     ]
    },
    {
     "name": "stderr",
     "output_type": "stream",
     "text": [
      "WARNING: The default download format has changed from PDB to PDBx/mmCif\n",
      "WARNING: The default download format has changed from PDB to PDBx/mmCif\n"
     ]
    },
    {
     "name": "stdout",
     "output_type": "stream",
     "text": [
      "Structure exists: '/home/dominique/Documents/data/kinsim/20190724_full/raw/PDB_download/4mha.cif' \n",
      "Downloading PDB structure '4e3c'...\n"
     ]
    },
    {
     "name": "stderr",
     "output_type": "stream",
     "text": [
      "WARNING: The default download format has changed from PDB to PDBx/mmCif\n",
      "WARNING: The default download format has changed from PDB to PDBx/mmCif\n",
      "WARNING: The default download format has changed from PDB to PDBx/mmCif\n"
     ]
    },
    {
     "name": "stdout",
     "output_type": "stream",
     "text": [
      "Structure exists: '/home/dominique/Documents/data/kinsim/20190724_full/raw/PDB_download/4e3c.cif' \n",
      "Structure exists: '/home/dominique/Documents/data/kinsim/20190724_full/raw/PDB_download/2xnn.cif' \n",
      "Downloading PDB structure '2xk6'...\n"
     ]
    },
    {
     "name": "stderr",
     "output_type": "stream",
     "text": [
      "WARNING: The default download format has changed from PDB to PDBx/mmCif\n"
     ]
    },
    {
     "name": "stdout",
     "output_type": "stream",
     "text": [
      "Downloading PDB structure '2xk3'...\n"
     ]
    },
    {
     "name": "stderr",
     "output_type": "stream",
     "text": [
      "WARNING: The default download format has changed from PDB to PDBx/mmCif\n",
      "WARNING: The default download format has changed from PDB to PDBx/mmCif\n"
     ]
    },
    {
     "name": "stdout",
     "output_type": "stream",
     "text": [
      "Structure exists: '/home/dominique/Documents/data/kinsim/20190724_full/raw/PDB_download/4e3c.cif' \n",
      "Downloading PDB structure '4m3q'...\n"
     ]
    },
    {
     "name": "stderr",
     "output_type": "stream",
     "text": [
      "WARNING: The default download format has changed from PDB to PDBx/mmCif\n",
      "WARNING: The default download format has changed from PDB to PDBx/mmCif\n",
      "WARNING: The default download format has changed from PDB to PDBx/mmCif\n",
      "WARNING: The default download format has changed from PDB to PDBx/mmCif\n",
      "WARNING: The default download format has changed from PDB to PDBx/mmCif\n",
      "WARNING: The default download format has changed from PDB to PDBx/mmCif\n",
      "WARNING: The default download format has changed from PDB to PDBx/mmCif\n"
     ]
    },
    {
     "name": "stdout",
     "output_type": "stream",
     "text": [
      "Structure exists: '/home/dominique/Documents/data/kinsim/20190724_full/raw/PDB_download/4m3q.cif' \n",
      "Structure exists: '/home/dominique/Documents/data/kinsim/20190724_full/raw/PDB_download/4e3c.cif' \n",
      "Structure exists: '/home/dominique/Documents/data/kinsim/20190724_full/raw/PDB_download/4mha.cif' \n",
      "Structure exists: '/home/dominique/Documents/data/kinsim/20190724_full/raw/PDB_download/4e3c.cif' \n",
      "Structure exists: '/home/dominique/Documents/data/kinsim/20190724_full/raw/PDB_download/4e3c.cif' \n",
      "Structure exists: '/home/dominique/Documents/data/kinsim/20190724_full/raw/PDB_download/3bpr.cif' \n",
      "Downloading PDB structure '2w5b'...\n"
     ]
    },
    {
     "name": "stderr",
     "output_type": "stream",
     "text": [
      "WARNING: The default download format has changed from PDB to PDBx/mmCif\n"
     ]
    },
    {
     "name": "stdout",
     "output_type": "stream",
     "text": [
      "Downloading PDB structure '2xkc'...\n"
     ]
    },
    {
     "name": "stderr",
     "output_type": "stream",
     "text": [
      "WARNING: The default download format has changed from PDB to PDBx/mmCif\n",
      "WARNING: The default download format has changed from PDB to PDBx/mmCif\n"
     ]
    },
    {
     "name": "stdout",
     "output_type": "stream",
     "text": [
      "Structure exists: '/home/dominique/Documents/data/kinsim/20190724_full/raw/PDB_download/3brb.cif' \n",
      "Downloading PDB structure '2xnm'...\n"
     ]
    },
    {
     "name": "stderr",
     "output_type": "stream",
     "text": [
      "WARNING: The default download format has changed from PDB to PDBx/mmCif\n",
      "WARNING: The default download format has changed from PDB to PDBx/mmCif\n"
     ]
    },
    {
     "name": "stdout",
     "output_type": "stream",
     "text": [
      "Structure exists: '/home/dominique/Documents/data/kinsim/20190724_full/raw/PDB_download/3bpr.cif' \n",
      "Downloading PDB structure '2xkd'...\n"
     ]
    },
    {
     "name": "stderr",
     "output_type": "stream",
     "text": [
      "WARNING: The default download format has changed from PDB to PDBx/mmCif\n"
     ]
    },
    {
     "name": "stdout",
     "output_type": "stream",
     "text": [
      "Downloading PDB structure '5m4f'...\n"
     ]
    },
    {
     "name": "stderr",
     "output_type": "stream",
     "text": [
      "WARNING: The default download format has changed from PDB to PDBx/mmCif\n"
     ]
    },
    {
     "name": "stdout",
     "output_type": "stream",
     "text": [
      "Downloading PDB structure '2w5h'...\n"
     ]
    },
    {
     "name": "stderr",
     "output_type": "stream",
     "text": [
      "WARNING: The default download format has changed from PDB to PDBx/mmCif\n"
     ]
    },
    {
     "name": "stdout",
     "output_type": "stream",
     "text": [
      "Downloading PDB structure '2yn8'...\n"
     ]
    },
    {
     "name": "stderr",
     "output_type": "stream",
     "text": [
      "WARNING: The default download format has changed from PDB to PDBx/mmCif\n"
     ]
    },
    {
     "name": "stdout",
     "output_type": "stream",
     "text": [
      "Downloading PDB structure '4c59'...\n"
     ]
    },
    {
     "name": "stderr",
     "output_type": "stream",
     "text": [
      "WARNING: The default download format has changed from PDB to PDBx/mmCif\n"
     ]
    },
    {
     "name": "stdout",
     "output_type": "stream",
     "text": [
      "Downloading PDB structure '4afe'...\n"
     ]
    },
    {
     "name": "stderr",
     "output_type": "stream",
     "text": [
      "WARNING: The default download format has changed from PDB to PDBx/mmCif\n"
     ]
    },
    {
     "name": "stdout",
     "output_type": "stream",
     "text": [
      "Downloading PDB structure '4c58'...\n"
     ]
    },
    {
     "name": "stderr",
     "output_type": "stream",
     "text": [
      "WARNING: The default download format has changed from PDB to PDBx/mmCif\n"
     ]
    },
    {
     "name": "stdout",
     "output_type": "stream",
     "text": [
      "Downloading PDB structure '2jav'...\n"
     ]
    },
    {
     "name": "stderr",
     "output_type": "stream",
     "text": [
      "WARNING: The default download format has changed from PDB to PDBx/mmCif\n"
     ]
    },
    {
     "name": "stdout",
     "output_type": "stream",
     "text": [
      "Downloading PDB structure '2vwy'...\n"
     ]
    },
    {
     "name": "stderr",
     "output_type": "stream",
     "text": [
      "WARNING: The default download format has changed from PDB to PDBx/mmCif\n",
      "WARNING: The default download format has changed from PDB to PDBx/mmCif\n",
      "WARNING: The default download format has changed from PDB to PDBx/mmCif\n",
      "WARNING: The default download format has changed from PDB to PDBx/mmCif\n"
     ]
    },
    {
     "name": "stdout",
     "output_type": "stream",
     "text": [
      "Structure exists: '/home/dominique/Documents/data/kinsim/20190724_full/raw/PDB_download/2xkc.cif' \n",
      "Structure exists: '/home/dominique/Documents/data/kinsim/20190724_full/raw/PDB_download/2w5b.cif' \n",
      "Structure exists: '/home/dominique/Documents/data/kinsim/20190724_full/raw/PDB_download/2xk3.cif' \n",
      "Downloading PDB structure '2xk7'...\n"
     ]
    },
    {
     "name": "stderr",
     "output_type": "stream",
     "text": [
      "WARNING: The default download format has changed from PDB to PDBx/mmCif\n",
      "WARNING: The default download format has changed from PDB to PDBx/mmCif\n"
     ]
    },
    {
     "name": "stdout",
     "output_type": "stream",
     "text": [
      "Structure exists: '/home/dominique/Documents/data/kinsim/20190724_full/raw/PDB_download/2xk7.cif' \n",
      "Downloading PDB structure '2wqo'...\n"
     ]
    },
    {
     "name": "stderr",
     "output_type": "stream",
     "text": [
      "WARNING: The default download format has changed from PDB to PDBx/mmCif\n",
      "WARNING: The default download format has changed from PDB to PDBx/mmCif\n"
     ]
    },
    {
     "name": "stdout",
     "output_type": "stream",
     "text": [
      "Structure exists: '/home/dominique/Documents/data/kinsim/20190724_full/raw/PDB_download/2jav.cif' \n",
      "Downloading PDB structure '2w5a'...\n"
     ]
    },
    {
     "name": "stderr",
     "output_type": "stream",
     "text": [
      "WARNING: The default download format has changed from PDB to PDBx/mmCif\n"
     ]
    },
    {
     "name": "stdout",
     "output_type": "stream",
     "text": [
      "Downloading PDB structure '3zew'...\n"
     ]
    },
    {
     "name": "stderr",
     "output_type": "stream",
     "text": [
      "WARNING: The default download format has changed from PDB to PDBx/mmCif\n",
      "WARNING: The default download format has changed from PDB to PDBx/mmCif\n"
     ]
    },
    {
     "name": "stdout",
     "output_type": "stream",
     "text": [
      "Structure exists: '/home/dominique/Documents/data/kinsim/20190724_full/raw/PDB_download/2yn8.cif' \n",
      "Downloading PDB structure '2xkf'...\n"
     ]
    },
    {
     "name": "stderr",
     "output_type": "stream",
     "text": [
      "WARNING: The default download format has changed from PDB to PDBx/mmCif\n",
      "WARNING: The default download format has changed from PDB to PDBx/mmCif\n"
     ]
    },
    {
     "name": "stdout",
     "output_type": "stream",
     "text": [
      "Structure exists: '/home/dominique/Documents/data/kinsim/20190724_full/raw/PDB_download/2xnm.cif' \n",
      "Downloading PDB structure '2xnp'...\n"
     ]
    },
    {
     "name": "stderr",
     "output_type": "stream",
     "text": [
      "WARNING: The default download format has changed from PDB to PDBx/mmCif\n"
     ]
    },
    {
     "name": "stdout",
     "output_type": "stream",
     "text": [
      "Downloading PDB structure '4o38'...\n"
     ]
    },
    {
     "name": "stderr",
     "output_type": "stream",
     "text": [
      "WARNING: The default download format has changed from PDB to PDBx/mmCif\n",
      "WARNING: The default download format has changed from PDB to PDBx/mmCif\n",
      "WARNING: The default download format has changed from PDB to PDBx/mmCif\n"
     ]
    },
    {
     "name": "stdout",
     "output_type": "stream",
     "text": [
      "Structure exists: '/home/dominique/Documents/data/kinsim/20190724_full/raw/PDB_download/2xkd.cif' \n",
      "Structure exists: '/home/dominique/Documents/data/kinsim/20190724_full/raw/PDB_download/4o38.cif' \n",
      "Downloading PDB structure '4a4x'...\n"
     ]
    },
    {
     "name": "stderr",
     "output_type": "stream",
     "text": [
      "WARNING: The default download format has changed from PDB to PDBx/mmCif\n"
     ]
    },
    {
     "name": "stdout",
     "output_type": "stream",
     "text": [
      "Downloading PDB structure '4y8d'...\n"
     ]
    },
    {
     "name": "stderr",
     "output_type": "stream",
     "text": [
      "WARNING: The default download format has changed from PDB to PDBx/mmCif\n",
      "WARNING: The default download format has changed from PDB to PDBx/mmCif\n",
      "WARNING: The default download format has changed from PDB to PDBx/mmCif\n",
      "WARNING: The default download format has changed from PDB to PDBx/mmCif\n",
      "WARNING: The default download format has changed from PDB to PDBx/mmCif\n",
      "WARNING: The default download format has changed from PDB to PDBx/mmCif\n",
      "WARNING: The default download format has changed from PDB to PDBx/mmCif\n"
     ]
    },
    {
     "name": "stdout",
     "output_type": "stream",
     "text": [
      "Structure exists: '/home/dominique/Documents/data/kinsim/20190724_full/raw/PDB_download/4y8d.cif' \n",
      "Structure exists: '/home/dominique/Documents/data/kinsim/20190724_full/raw/PDB_download/2xk4.cif' \n",
      "Structure exists: '/home/dominique/Documents/data/kinsim/20190724_full/raw/PDB_download/4o38.cif' \n",
      "Structure exists: '/home/dominique/Documents/data/kinsim/20190724_full/raw/PDB_download/2xk4.cif' \n",
      "Structure exists: '/home/dominique/Documents/data/kinsim/20190724_full/raw/PDB_download/4o38.cif' \n",
      "Structure exists: '/home/dominique/Documents/data/kinsim/20190724_full/raw/PDB_download/4y8d.cif' \n",
      "Downloading PDB structure '2vwx'...\n"
     ]
    },
    {
     "name": "stderr",
     "output_type": "stream",
     "text": [
      "WARNING: The default download format has changed from PDB to PDBx/mmCif\n"
     ]
    },
    {
     "name": "stdout",
     "output_type": "stream",
     "text": [
      "Downloading PDB structure '2xno'...\n"
     ]
    },
    {
     "name": "stderr",
     "output_type": "stream",
     "text": [
      "WARNING: The default download format has changed from PDB to PDBx/mmCif\n",
      "WARNING: The default download format has changed from PDB to PDBx/mmCif\n"
     ]
    },
    {
     "name": "stdout",
     "output_type": "stream",
     "text": [
      "Structure exists: '/home/dominique/Documents/data/kinsim/20190724_full/raw/PDB_download/5m4f.cif' \n",
      "Downloading PDB structure '5eta'...\n"
     ]
    },
    {
     "name": "stderr",
     "output_type": "stream",
     "text": [
      "WARNING: The default download format has changed from PDB to PDBx/mmCif\n",
      "WARNING: The default download format has changed from PDB to PDBx/mmCif\n"
     ]
    },
    {
     "name": "stdout",
     "output_type": "stream",
     "text": [
      "Structure exists: '/home/dominique/Documents/data/kinsim/20190724_full/raw/PDB_download/5eta.cif' \n",
      "Downloading PDB structure '2vwu'...\n"
     ]
    },
    {
     "name": "stderr",
     "output_type": "stream",
     "text": [
      "WARNING: The default download format has changed from PDB to PDBx/mmCif\n"
     ]
    },
    {
     "name": "stdout",
     "output_type": "stream",
     "text": [
      "Downloading PDB structure '4ic8'...\n"
     ]
    },
    {
     "name": "stderr",
     "output_type": "stream",
     "text": [
      "WARNING: The default download format has changed from PDB to PDBx/mmCif\n"
     ]
    },
    {
     "name": "stdout",
     "output_type": "stream",
     "text": [
      "Downloading PDB structure '4u0i'...\n"
     ]
    },
    {
     "name": "stderr",
     "output_type": "stream",
     "text": [
      "WARNING: The default download format has changed from PDB to PDBx/mmCif\n"
     ]
    },
    {
     "name": "stdout",
     "output_type": "stream",
     "text": [
      "Downloading PDB structure '2vwz'...\n"
     ]
    },
    {
     "name": "stderr",
     "output_type": "stream",
     "text": [
      "WARNING: The default download format has changed from PDB to PDBx/mmCif\n",
      "WARNING: The default download format has changed from PDB to PDBx/mmCif\n",
      "WARNING: The default download format has changed from PDB to PDBx/mmCif\n"
     ]
    },
    {
     "name": "stdout",
     "output_type": "stream",
     "text": [
      "Structure exists: '/home/dominique/Documents/data/kinsim/20190724_full/raw/PDB_download/2vwx.cif' \n",
      "Structure exists: '/home/dominique/Documents/data/kinsim/20190724_full/raw/PDB_download/2vwz.cif' \n",
      "Downloading PDB structure '4bb4'...\n"
     ]
    },
    {
     "name": "stderr",
     "output_type": "stream",
     "text": [
      "WARNING: The default download format has changed from PDB to PDBx/mmCif\n",
      "WARNING: The default download format has changed from PDB to PDBx/mmCif\n"
     ]
    },
    {
     "name": "stdout",
     "output_type": "stream",
     "text": [
      "Structure exists: '/home/dominique/Documents/data/kinsim/20190724_full/raw/PDB_download/3zew.cif' \n",
      "Downloading PDB structure '4ic7'...\n"
     ]
    },
    {
     "name": "stderr",
     "output_type": "stream",
     "text": [
      "WARNING: The default download format has changed from PDB to PDBx/mmCif\n"
     ]
    },
    {
     "name": "stdout",
     "output_type": "stream",
     "text": [
      "Downloading PDB structure '1pkg'...\n"
     ]
    },
    {
     "name": "stderr",
     "output_type": "stream",
     "text": [
      "WARNING: The default download format has changed from PDB to PDBx/mmCif\n"
     ]
    },
    {
     "name": "stdout",
     "output_type": "stream",
     "text": [
      "Downloading PDB structure '2vx0'...\n"
     ]
    },
    {
     "name": "stderr",
     "output_type": "stream",
     "text": [
      "WARNING: The default download format has changed from PDB to PDBx/mmCif\n",
      "WARNING: The default download format has changed from PDB to PDBx/mmCif\n"
     ]
    },
    {
     "name": "stdout",
     "output_type": "stream",
     "text": [
      "Structure exists: '/home/dominique/Documents/data/kinsim/20190724_full/raw/PDB_download/3zew.cif' \n",
      "Downloading PDB structure '1t46'...\n"
     ]
    },
    {
     "name": "stderr",
     "output_type": "stream",
     "text": [
      "WARNING: The default download format has changed from PDB to PDBx/mmCif\n"
     ]
    },
    {
     "name": "stdout",
     "output_type": "stream",
     "text": [
      "Downloading PDB structure '2vx1'...\n"
     ]
    },
    {
     "name": "stderr",
     "output_type": "stream",
     "text": [
      "WARNING: The default download format has changed from PDB to PDBx/mmCif\n"
     ]
    },
    {
     "name": "stdout",
     "output_type": "stream",
     "text": [
      "Downloading PDB structure '4aw5'...\n"
     ]
    },
    {
     "name": "stderr",
     "output_type": "stream",
     "text": [
      "WARNING: The default download format has changed from PDB to PDBx/mmCif\n",
      "WARNING: The default download format has changed from PDB to PDBx/mmCif\n",
      "WARNING: The default download format has changed from PDB to PDBx/mmCif\n",
      "WARNING: The default download format has changed from PDB to PDBx/mmCif\n"
     ]
    },
    {
     "name": "stdout",
     "output_type": "stream",
     "text": [
      "Structure exists: '/home/dominique/Documents/data/kinsim/20190724_full/raw/PDB_download/4ic8.cif' \n",
      "Structure exists: '/home/dominique/Documents/data/kinsim/20190724_full/raw/PDB_download/2vx1.cif' \n",
      "Structure exists: '/home/dominique/Documents/data/kinsim/20190724_full/raw/PDB_download/2vx0.cif' \n",
      "Downloading PDB structure '1t45'...\n"
     ]
    },
    {
     "name": "stderr",
     "output_type": "stream",
     "text": [
      "WARNING: The default download format has changed from PDB to PDBx/mmCif\n"
     ]
    },
    {
     "name": "stdout",
     "output_type": "stream",
     "text": [
      "Downloading PDB structure '3bqr'...\n"
     ]
    },
    {
     "name": "stderr",
     "output_type": "stream",
     "text": [
      "WARNING: The default download format has changed from PDB to PDBx/mmCif\n"
     ]
    },
    {
     "name": "stdout",
     "output_type": "stream",
     "text": [
      "Downloading PDB structure '1yrp'...\n"
     ]
    },
    {
     "name": "stderr",
     "output_type": "stream",
     "text": [
      "WARNING: The default download format has changed from PDB to PDBx/mmCif\n"
     ]
    },
    {
     "name": "stdout",
     "output_type": "stream",
     "text": [
      "Downloading PDB structure '2j90'...\n"
     ]
    },
    {
     "name": "stderr",
     "output_type": "stream",
     "text": [
      "WARNING: The default download format has changed from PDB to PDBx/mmCif\n",
      "WARNING: The default download format has changed from PDB to PDBx/mmCif\n",
      "WARNING: The default download format has changed from PDB to PDBx/mmCif\n",
      "WARNING: The default download format has changed from PDB to PDBx/mmCif\n"
     ]
    },
    {
     "name": "stdout",
     "output_type": "stream",
     "text": [
      "Structure exists: '/home/dominique/Documents/data/kinsim/20190724_full/raw/PDB_download/2j90.cif' \n",
      "Structure exists: '/home/dominique/Documents/data/kinsim/20190724_full/raw/PDB_download/1yrp.cif' \n",
      "Structure exists: '/home/dominique/Documents/data/kinsim/20190724_full/raw/PDB_download/3bqr.cif' \n",
      "Downloading PDB structure '3bhy'...\n"
     ]
    },
    {
     "name": "stderr",
     "output_type": "stream",
     "text": [
      "WARNING: The default download format has changed from PDB to PDBx/mmCif\n",
      "WARNING: The default download format has changed from PDB to PDBx/mmCif\n"
     ]
    },
    {
     "name": "stdout",
     "output_type": "stream",
     "text": [
      "Structure exists: '/home/dominique/Documents/data/kinsim/20190724_full/raw/PDB_download/4aw5.cif' \n",
      "Downloading PDB structure '2vww'...\n"
     ]
    },
    {
     "name": "stderr",
     "output_type": "stream",
     "text": [
      "WARNING: The default download format has changed from PDB to PDBx/mmCif\n"
     ]
    },
    {
     "name": "stdout",
     "output_type": "stream",
     "text": [
      "Downloading PDB structure '4b99'...\n"
     ]
    },
    {
     "name": "stderr",
     "output_type": "stream",
     "text": [
      "WARNING: The default download format has changed from PDB to PDBx/mmCif\n",
      "WARNING: The default download format has changed from PDB to PDBx/mmCif\n",
      "WARNING: The default download format has changed from PDB to PDBx/mmCif\n"
     ]
    },
    {
     "name": "stdout",
     "output_type": "stream",
     "text": [
      "Structure exists: '/home/dominique/Documents/data/kinsim/20190724_full/raw/PDB_download/2vwy.cif' \n",
      "Structure exists: '/home/dominique/Documents/data/kinsim/20190724_full/raw/PDB_download/2vww.cif' \n",
      "Downloading PDB structure '2vwv'...\n"
     ]
    },
    {
     "name": "stderr",
     "output_type": "stream",
     "text": [
      "WARNING: The default download format has changed from PDB to PDBx/mmCif\n"
     ]
    },
    {
     "name": "stdout",
     "output_type": "stream",
     "text": [
      "Downloading PDB structure '5m55'...\n"
     ]
    },
    {
     "name": "stderr",
     "output_type": "stream",
     "text": [
      "WARNING: The default download format has changed from PDB to PDBx/mmCif\n",
      "WARNING: The default download format has changed from PDB to PDBx/mmCif\n"
     ]
    },
    {
     "name": "stdout",
     "output_type": "stream",
     "text": [
      "Structure exists: '/home/dominique/Documents/data/kinsim/20190724_full/raw/PDB_download/5m55.cif' \n",
      "Downloading PDB structure '3zc6'...\n"
     ]
    },
    {
     "name": "stderr",
     "output_type": "stream",
     "text": [
      "WARNING: The default download format has changed from PDB to PDBx/mmCif\n"
     ]
    },
    {
     "name": "stdout",
     "output_type": "stream",
     "text": [
      "Downloading PDB structure '4hvd'...\n"
     ]
    },
    {
     "name": "stderr",
     "output_type": "stream",
     "text": [
      "WARNING: The default download format has changed from PDB to PDBx/mmCif\n"
     ]
    },
    {
     "name": "stdout",
     "output_type": "stream",
     "text": [
      "Downloading PDB structure '2acx'...\n"
     ]
    },
    {
     "name": "stderr",
     "output_type": "stream",
     "text": [
      "WARNING: The default download format has changed from PDB to PDBx/mmCif\n",
      "WARNING: The default download format has changed from PDB to PDBx/mmCif\n"
     ]
    },
    {
     "name": "stdout",
     "output_type": "stream",
     "text": [
      "Structure exists: '/home/dominique/Documents/data/kinsim/20190724_full/raw/PDB_download/4u0i.cif' \n",
      "Downloading PDB structure '2zv2'...\n"
     ]
    },
    {
     "name": "stderr",
     "output_type": "stream",
     "text": [
      "WARNING: The default download format has changed from PDB to PDBx/mmCif\n"
     ]
    },
    {
     "name": "stdout",
     "output_type": "stream",
     "text": [
      "Downloading PDB structure '4af3'...\n"
     ]
    },
    {
     "name": "stderr",
     "output_type": "stream",
     "text": [
      "WARNING: The default download format has changed from PDB to PDBx/mmCif\n",
      "WARNING: The default download format has changed from PDB to PDBx/mmCif\n"
     ]
    },
    {
     "name": "stdout",
     "output_type": "stream",
     "text": [
      "Structure exists: '/home/dominique/Documents/data/kinsim/20190724_full/raw/PDB_download/1t46.cif' \n",
      "Downloading PDB structure '3lxl'...\n"
     ]
    },
    {
     "name": "stderr",
     "output_type": "stream",
     "text": [
      "WARNING: The default download format has changed from PDB to PDBx/mmCif\n",
      "WARNING: The default download format has changed from PDB to PDBx/mmCif\n"
     ]
    },
    {
     "name": "stdout",
     "output_type": "stream",
     "text": [
      "Structure exists: '/home/dominique/Documents/data/kinsim/20190724_full/raw/PDB_download/1pkg.cif' \n",
      "Downloading PDB structure '4hvh'...\n"
     ]
    },
    {
     "name": "stderr",
     "output_type": "stream",
     "text": [
      "WARNING: The default download format has changed from PDB to PDBx/mmCif\n"
     ]
    },
    {
     "name": "stdout",
     "output_type": "stream",
     "text": [
      "Downloading PDB structure '3zzw'...\n"
     ]
    }
   ],
   "source": [
    "download_from_pdb(klifs_data, path_to_data / 'raw' / 'PDB_download')"
   ]
  }
 ],
 "metadata": {
  "kernelspec": {
   "display_name": "kinsim",
   "language": "python",
   "name": "kinsim"
  },
  "language_info": {
   "codemirror_mode": {
    "name": "ipython",
    "version": 3
   },
   "file_extension": ".py",
   "mimetype": "text/x-python",
   "name": "python",
   "nbconvert_exporter": "python",
   "pygments_lexer": "ipython3",
   "version": "3.6.7"
  }
 },
 "nbformat": 4,
 "nbformat_minor": 2
}
