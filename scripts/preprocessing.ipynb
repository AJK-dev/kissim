{
 "cells": [
  {
   "cell_type": "markdown",
   "metadata": {},
   "source": [
    "# Kinase data preprocessing\n",
    "\n",
    "This notebook performs the following preprocessing tasks:\n",
    "\n",
    "1. Set path to KLIFS download files\n",
    "2. Load, merge and filter KLIFS metadata\n",
    "3. Remove KLIFS metadata entries with missing mol2 files\n",
    "4. Download PDB files for KLIFS metadata\n",
    "5. Remove KLIFS metadata entries with missing PDB files \n",
    "6. Remove KLIFS metadata entries with unparsable PDB files\n",
    "7. Remove KLIFS metadata entries with underscored residue IDs in mol2 file\n",
    "8. Remove structures with KLIFS residue X\n",
    "9. Filter by resolution and quality score\n",
    "10. Save final KLIFS dataset (metadata)"
   ]
  },
  {
   "cell_type": "code",
   "execution_count": 1,
   "metadata": {},
   "outputs": [],
   "source": [
    "%load_ext autoreload"
   ]
  },
  {
   "cell_type": "code",
   "execution_count": 2,
   "metadata": {},
   "outputs": [],
   "source": [
    "%autoreload 2"
   ]
  },
  {
   "cell_type": "code",
   "execution_count": 3,
   "metadata": {},
   "outputs": [],
   "source": [
    "from pathlib import Path\n",
    "import sys\n",
    "\n",
    "from Bio.PDB import PDBList\n",
    "import numpy as np\n",
    "import pandas as pd\n",
    "\n",
    "sys.path.extend(['./..'])\n",
    "from kinsim_structure.auxiliary import split_klifs_code, get_klifs_regions\n",
    "from kinsim_structure.preprocessing import get_klifs_metadata_from_files, download_from_pdb\n",
    "from kinsim_structure.preprocessing import get_species, get_dfg, get_unique_pdbid_per_kinase\n",
    "from kinsim_structure.preprocessing import drop_missing_mol2s, drop_missing_pdbs, drop_unparsable_pdbs\n",
    "from kinsim_structure.preprocessing import drop_underscored_residue_ids, drop_residue_x"
   ]
  },
  {
   "cell_type": "markdown",
   "metadata": {},
   "source": [
    "## Globals"
   ]
  },
  {
   "cell_type": "markdown",
   "metadata": {},
   "source": [
    "### 1. Set path to KLIFS download files"
   ]
  },
  {
   "cell_type": "code",
   "execution_count": 4,
   "metadata": {},
   "outputs": [],
   "source": [
    "# Path to data directory\n",
    "dataset_name = '20190724_full'\n",
    "\n",
    "path_to_data = Path('/') / 'home' / 'dominique' / 'Documents' / 'data' / 'kinsim' / dataset_name\n",
    "path_to_results = Path('..') / 'results' / dataset_name\n",
    "path_to_results.mkdir(parents=True, exist_ok=True)"
   ]
  },
  {
   "cell_type": "markdown",
   "metadata": {},
   "source": [
    "### 2. Load, merge and filter KLIFS metadata"
   ]
  },
  {
   "cell_type": "markdown",
   "metadata": {},
   "source": [
    "#### Load and merge KLIFS download metadata files"
   ]
  },
  {
   "cell_type": "code",
   "execution_count": 5,
   "metadata": {},
   "outputs": [],
   "source": [
    "klifs_overview_file = path_to_data / 'raw' / 'KLIFS_download' /'overview.csv'\n",
    "klifs_export_file = path_to_data / 'raw'/ 'KLIFS_export.csv'"
   ]
  },
  {
   "cell_type": "code",
   "execution_count": 6,
   "metadata": {
    "scrolled": true
   },
   "outputs": [],
   "source": [
    "klifs_metadata = get_klifs_metadata_from_files(klifs_overview_file, klifs_export_file)"
   ]
  },
  {
   "cell_type": "code",
   "execution_count": 7,
   "metadata": {},
   "outputs": [
    {
     "data": {
      "text/plain": [
       "(10136, 21)"
      ]
     },
     "execution_count": 7,
     "metadata": {},
     "output_type": "execute_result"
    }
   ],
   "source": [
    "klifs_metadata.shape"
   ]
  },
  {
   "cell_type": "code",
   "execution_count": 9,
   "metadata": {},
   "outputs": [],
   "source": [
    "klifs_metadata.to_csv(path_to_data / 'preprocessed' / 'klifs_metadata_unfiltered.csv')"
   ]
  },
  {
   "cell_type": "markdown",
   "metadata": {},
   "source": [
    "#### Filter metadata by species\n",
    "\n",
    "Keep only human entries"
   ]
  },
  {
   "cell_type": "code",
   "execution_count": null,
   "metadata": {},
   "outputs": [],
   "source": [
    "klifs_metadata.groupby('species').size()"
   ]
  },
  {
   "cell_type": "code",
   "execution_count": null,
   "metadata": {},
   "outputs": [],
   "source": [
    "klifs_metadata_filtered = get_species(klifs_metadata, species='Human')"
   ]
  },
  {
   "cell_type": "code",
   "execution_count": null,
   "metadata": {},
   "outputs": [],
   "source": [
    "klifs_metadata_filtered.shape"
   ]
  },
  {
   "cell_type": "markdown",
   "metadata": {},
   "source": [
    "#### Filter metadata by DFG loop position\n",
    "\n",
    "Keep only structures with DFG-in loops."
   ]
  },
  {
   "cell_type": "code",
   "execution_count": null,
   "metadata": {},
   "outputs": [],
   "source": [
    "klifs_metadata_filtered.groupby('dfg').size()"
   ]
  },
  {
   "cell_type": "code",
   "execution_count": null,
   "metadata": {},
   "outputs": [],
   "source": [
    "klifs_metadata_filtered = get_dfg(klifs_metadata_filtered, dfg='in')"
   ]
  },
  {
   "cell_type": "code",
   "execution_count": null,
   "metadata": {},
   "outputs": [],
   "source": [
    "klifs_metadata_filtered.shape"
   ]
  },
  {
   "cell_type": "markdown",
   "metadata": {},
   "source": [
    "#### Filter metadata by unique kinase-PDB ID combinations\n",
    "Keep only the KLIFS entry per kinase-PDB ID combination with the best quality score."
   ]
  },
  {
   "cell_type": "code",
   "execution_count": null,
   "metadata": {},
   "outputs": [],
   "source": [
    "klifs_metadata_filtered = get_unique_pdbid_per_kinase(klifs_metadata_filtered)"
   ]
  },
  {
   "cell_type": "code",
   "execution_count": null,
   "metadata": {},
   "outputs": [],
   "source": [
    "klifs_metadata_filtered.shape"
   ]
  },
  {
   "cell_type": "code",
   "execution_count": null,
   "metadata": {},
   "outputs": [],
   "source": [
    "klifs_metadata_filtered.to_csv(path_to_data / 'preprocessed' / 'klifs_metadata_step2result.csv')"
   ]
  },
  {
   "cell_type": "markdown",
   "metadata": {},
   "source": [
    "### 3. Remove KLIFS metadata entries with missing mol2 files"
   ]
  },
  {
   "cell_type": "code",
   "execution_count": null,
   "metadata": {},
   "outputs": [],
   "source": [
    "klifs_metadata_filtered = drop_missing_mol2s(klifs_metadata_filtered, path_to_data)"
   ]
  },
  {
   "cell_type": "code",
   "execution_count": null,
   "metadata": {},
   "outputs": [],
   "source": [
    "klifs_metadata_filtered.shape"
   ]
  },
  {
   "cell_type": "code",
   "execution_count": null,
   "metadata": {},
   "outputs": [],
   "source": [
    "print(f'Number of unique PDB IDs in dataset: {klifs_metadata_filtered.pdb_id.unique().size}')"
   ]
  },
  {
   "cell_type": "code",
   "execution_count": null,
   "metadata": {
    "scrolled": true
   },
   "outputs": [],
   "source": [
    "# Check if there are PDB IDs occurring multiple times for one kinase\n",
    "grouped = klifs_metadata_filtered.groupby('pdb_id')['kinase'].size()\n",
    "multiple_pdb_ids = list(grouped[grouped > 1].index)\n",
    "klifs_metadata_filtered.loc[klifs_metadata_filtered.pdb_id.isin(multiple_pdb_ids)].sort_values('pdb_id')"
   ]
  },
  {
   "cell_type": "markdown",
   "metadata": {},
   "source": [
    "### 4. Download PDB files for KLIFS metadata"
   ]
  },
  {
   "cell_type": "code",
   "execution_count": null,
   "metadata": {
    "scrolled": true
   },
   "outputs": [],
   "source": [
    "# Download cif files if file does not exist\n",
    "download_from_pdb(klifs_metadata_filtered, path_to_data)"
   ]
  },
  {
   "cell_type": "markdown",
   "metadata": {},
   "source": [
    "### 5. Remove KLIFS metadata entries with missing PDB files "
   ]
  },
  {
   "cell_type": "markdown",
   "metadata": {},
   "source": [
    "Let's check if we have PDB files for all entries in the KLIFS metadata. For PDB IDs without a corresponding cif file, remove corresponding entries in KLIFS metadata"
   ]
  },
  {
   "cell_type": "code",
   "execution_count": null,
   "metadata": {},
   "outputs": [],
   "source": [
    "# Get PDBs in KLIFS metadata\n",
    "pdb_ids_metadata = klifs_metadata_filtered.pdb_id.unique()\n",
    "\n",
    "# Get PDBs for downloaded cif files\n",
    "pdb_ids_ciffiles = [i.stem for i in (path_to_data / 'raw' / 'PDB_download').glob('*')]"
   ]
  },
  {
   "cell_type": "code",
   "execution_count": null,
   "metadata": {},
   "outputs": [],
   "source": [
    "# Missing CIF files that are in the KLIFS dataset (deprecated PDB entries)\n",
    "missing_cifs = set(pdb_ids_metadata) - set(pdb_ids_ciffiles)\n",
    "print(f'Number of KLIFS metadata PDB IDs with missing CIF file: {len(missing_cifs)}')"
   ]
  },
  {
   "cell_type": "code",
   "execution_count": null,
   "metadata": {
    "scrolled": true
   },
   "outputs": [],
   "source": [
    "# In case of missing cif files, try to download them again\n",
    "pdbfile = PDBList()\n",
    "for i in missing_cifs:\n",
    "    pdbfile.retrieve_pdb_file(i, pdir=path_to_data / 'raw' / 'PDB_download')"
   ]
  },
  {
   "cell_type": "code",
   "execution_count": null,
   "metadata": {},
   "outputs": [],
   "source": [
    "# In case of missing cif files, delete corresponding PDB ID entries in KLIFS metadata\n",
    "klifs_metadata_filtered = drop_missing_pdbs(klifs_metadata_filtered, path_to_data)"
   ]
  },
  {
   "cell_type": "code",
   "execution_count": null,
   "metadata": {},
   "outputs": [],
   "source": [
    "klifs_metadata_filtered.shape"
   ]
  },
  {
   "cell_type": "markdown",
   "metadata": {},
   "source": [
    "### 6. Remove KLIFS metadata entries with unparsable PDB files\n",
    "\n",
    "Remove PDB IDs for which parsing does not work (using `Bio.PDB.MMCIFParser`)."
   ]
  },
  {
   "cell_type": "code",
   "execution_count": null,
   "metadata": {
    "scrolled": true
   },
   "outputs": [],
   "source": [
    "klifs_metadata_filtered = drop_unparsable_pdbs(klifs_metadata_filtered, path_to_data)"
   ]
  },
  {
   "cell_type": "code",
   "execution_count": null,
   "metadata": {},
   "outputs": [],
   "source": [
    "klifs_metadata_filtered.shape"
   ]
  },
  {
   "cell_type": "markdown",
   "metadata": {},
   "source": [
    "### 7. Remove KLIFS metadata entries with underscored residue IDs in mol2 file"
   ]
  },
  {
   "cell_type": "code",
   "execution_count": null,
   "metadata": {
    "scrolled": true
   },
   "outputs": [],
   "source": [
    "klifs_metadata_filtered = drop_underscored_residue_ids(klifs_metadata_filtered)"
   ]
  },
  {
   "cell_type": "code",
   "execution_count": null,
   "metadata": {},
   "outputs": [],
   "source": [
    "klifs_metadata_filtered.shape"
   ]
  },
  {
   "cell_type": "code",
   "execution_count": null,
   "metadata": {},
   "outputs": [],
   "source": [
    "klifs_metadata_filtered.to_csv(path_to_data / 'preprocessed' / 'klifs_metadata_preprocessed_incl_resX.csv')"
   ]
  },
  {
   "cell_type": "code",
   "execution_count": null,
   "metadata": {},
   "outputs": [],
   "source": [
    "klifs_metadata_filtered = pd.read_csv(path_to_data / 'preprocessed' / 'klifs_metadata_preprocessed_incl_resX.csv')"
   ]
  },
  {
   "cell_type": "markdown",
   "metadata": {},
   "source": [
    "### 8. Remove structures with KLIFS residue X\n",
    "\n",
    "Some structures contain mutations or modifications in their KLIFS binding site. KLIFS denotes these with an X in the pocket sequence.\n",
    "\n",
    "We remove all structures containing such a residue in important regions in the binding site."
   ]
  },
  {
   "cell_type": "code",
   "execution_count": null,
   "metadata": {},
   "outputs": [],
   "source": [
    "klifs_metadata_filtered = drop_residue_x(klifs_metadata_filtered)"
   ]
  },
  {
   "cell_type": "code",
   "execution_count": null,
   "metadata": {},
   "outputs": [],
   "source": [
    "klifs_metadata_filtered.shape"
   ]
  },
  {
   "cell_type": "code",
   "execution_count": null,
   "metadata": {},
   "outputs": [],
   "source": [
    "klifs_metadata_filtered[klifs_metadata_filtered.pdb_id=='4otp']"
   ]
  },
  {
   "cell_type": "code",
   "execution_count": null,
   "metadata": {},
   "outputs": [],
   "source": [
    "klifs_metadata_filtered.to_csv(path_to_data / 'preprocessed' / 'klifs_metadata_preprocessed_incl_resolution_qualityscore.csv')"
   ]
  },
  {
   "cell_type": "markdown",
   "metadata": {},
   "source": [
    "### 9. Filter by resolution and quality score"
   ]
  },
  {
   "cell_type": "code",
   "execution_count": null,
   "metadata": {},
   "outputs": [],
   "source": [
    "klifs_metadata_filtered = klifs_metadata_filtered[\n",
    "    (klifs_metadata_filtered.resolution <= 4) &\n",
    "    (klifs_metadata_filtered.qualityscore >= 4)\n",
    "].copy()"
   ]
  },
  {
   "cell_type": "code",
   "execution_count": null,
   "metadata": {},
   "outputs": [],
   "source": [
    "klifs_metadata_filtered.shape"
   ]
  },
  {
   "cell_type": "markdown",
   "metadata": {},
   "source": [
    "### 10. Save final KLIFS dataset (metadata)"
   ]
  },
  {
   "cell_type": "code",
   "execution_count": null,
   "metadata": {},
   "outputs": [],
   "source": [
    "klifs_metadata_filtered.shape"
   ]
  },
  {
   "cell_type": "code",
   "execution_count": null,
   "metadata": {},
   "outputs": [],
   "source": [
    "klifs_metadata_filtered.rename(\n",
    "    columns={'index': 'metadata_index'}, inplace=True\n",
    ")"
   ]
  },
  {
   "cell_type": "code",
   "execution_count": null,
   "metadata": {},
   "outputs": [],
   "source": [
    "codes = []\n",
    "\n",
    "for index, row in klifs_metadata_filtered.iterrows():\n",
    "    \n",
    "    species = row.species.upper()\n",
    "    kinase = row.kinase\n",
    "    pdb_id = row.pdb_id\n",
    "    chain = ''\n",
    "    alternate_model = ''\n",
    "    \n",
    "    if row.chain != '-':\n",
    "        chain = f'_chain{row.chain}'\n",
    "    if row.alternate_model != '-':\n",
    "        alternate_model = f'_alt{row.alternate_model}'\n",
    "        \n",
    "    codes.append(f'{species}/{kinase}/{pdb_id}{chain}{alternate_model}')\n",
    "\n",
    "codes[:10]"
   ]
  },
  {
   "cell_type": "code",
   "execution_count": null,
   "metadata": {},
   "outputs": [],
   "source": [
    "klifs_metadata_filtered['code'] = codes"
   ]
  },
  {
   "cell_type": "code",
   "execution_count": null,
   "metadata": {},
   "outputs": [],
   "source": [
    "klifs_metadata_filtered"
   ]
  },
  {
   "cell_type": "code",
   "execution_count": null,
   "metadata": {},
   "outputs": [],
   "source": [
    "klifs_metadata_filtered.to_csv(path_to_data / 'preprocessed' / 'klifs_metadata_preprocessed.csv')"
   ]
  }
 ],
 "metadata": {
  "kernelspec": {
   "display_name": "kinsim",
   "language": "python",
   "name": "kinsim"
  },
  "language_info": {
   "codemirror_mode": {
    "name": "ipython",
    "version": 3
   },
   "file_extension": ".py",
   "mimetype": "text/x-python",
   "name": "python",
   "nbconvert_exporter": "python",
   "pygments_lexer": "ipython3",
   "version": "3.6.7"
  }
 },
 "nbformat": 4,
 "nbformat_minor": 2
}
