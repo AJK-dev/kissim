{
 "cells": [
  {
   "cell_type": "markdown",
   "metadata": {},
   "source": [
    "# Non-standard amino acids in KLIFS molecules"
   ]
  },
  {
   "cell_type": "markdown",
   "metadata": {},
   "source": [
    "Aims of this notebook:\n",
    "1. For all KLIFS molecules, save all non-standard amino acids.\n",
    "2. Check amount of non-standard amino acids. Some `kinsim_structure` features are only defined for standard amino acids, thus we need to check how much information we loose in our dataset."
   ]
  },
  {
   "cell_type": "markdown",
   "metadata": {},
   "source": [
    "## Imports and functions"
   ]
  },
  {
   "cell_type": "code",
   "execution_count": 1,
   "metadata": {},
   "outputs": [],
   "source": [
    "from pathlib import Path\n",
    "import pickle\n",
    "import sys\n",
    "\n",
    "import pandas as pd\n",
    "\n",
    "sys.path.extend(['./..'])\n",
    "from kinsim_structure.analysis import get_non_standard_amino_acids_in_klifs"
   ]
  },
  {
   "cell_type": "markdown",
   "metadata": {},
   "source": [
    "## IO paths"
   ]
  },
  {
   "cell_type": "code",
   "execution_count": 2,
   "metadata": {},
   "outputs": [],
   "source": [
    "path_to_data = Path('/') / 'home' / 'dominique' / 'Documents' / 'data' / 'kinsim' / '20190724_full'\n",
    "path_to_kinsim = Path('/') / 'home' / 'dominique' / 'Documents' / 'projects' / 'kinsim_structure'\n",
    "\n",
    "metadata_path = path_to_data / 'preprocessed' / 'klifs_metadata_preprocessed.csv'\n",
    "output_path =  path_to_kinsim / 'results' / '20190724_full' / 'non_standard_aminoacids.p'    "
   ]
  },
  {
   "cell_type": "markdown",
   "metadata": {},
   "source": [
    "## Load KLIFS metadata"
   ]
  },
  {
   "cell_type": "code",
   "execution_count": 3,
   "metadata": {},
   "outputs": [],
   "source": [
    "klifs_metadata = pd.read_csv(metadata_path)"
   ]
  },
  {
   "cell_type": "code",
   "execution_count": 4,
   "metadata": {},
   "outputs": [
    {
     "data": {
      "text/plain": [
       "(3920, 23)"
      ]
     },
     "execution_count": 4,
     "metadata": {},
     "output_type": "execute_result"
    }
   ],
   "source": [
    "klifs_metadata.shape"
   ]
  },
  {
   "cell_type": "markdown",
   "metadata": {},
   "source": [
    "## Data generation"
   ]
  },
  {
   "cell_type": "code",
   "execution_count": 5,
   "metadata": {
    "scrolled": true
   },
   "outputs": [],
   "source": [
    "# Get non-standard amino acids in KLIFS dataset\n",
    "non_standard_aminoacids = get_non_standard_amino_acids_in_klifs(klifs_metadata)"
   ]
  },
  {
   "cell_type": "code",
   "execution_count": 6,
   "metadata": {},
   "outputs": [],
   "source": [
    "with open(output_path, 'wb') as f:\n",
    "    pickle.dump(non_standard_aminoacids, f)"
   ]
  },
  {
   "cell_type": "markdown",
   "metadata": {},
   "source": [
    "## Data analysis"
   ]
  },
  {
   "cell_type": "code",
   "execution_count": 7,
   "metadata": {},
   "outputs": [],
   "source": [
    "with open(output_path, 'rb') as f:\n",
    "    non_standard_aminoacids = pickle.load(f)"
   ]
  },
  {
   "cell_type": "code",
   "execution_count": 8,
   "metadata": {},
   "outputs": [
    {
     "name": "stdout",
     "output_type": "stream",
     "text": [
      "Number of non-standard amino acids in KLIFS dataset: 17\n"
     ]
    }
   ],
   "source": [
    "print(f'Number of non-standard amino acids in KLIFS dataset: {len(non_standard_aminoacids)}')"
   ]
  },
  {
   "cell_type": "code",
   "execution_count": 9,
   "metadata": {},
   "outputs": [
    {
     "data": {
      "text/plain": [
       "HUMAN/ADCK3_5i35_chainA            [MSE]\n",
       "HUMAN/AurA_4j8m_chainA             [CAF]\n",
       "HUMAN/CDK2_1oir_chainA             [KCX]\n",
       "HUMAN/CDK2_2cjm_chainC             [PTR]\n",
       "HUMAN/CHK1_2ydj_chainA             [CSS]\n",
       "HUMAN/DNAPK_5luq_chainB            [MSE]\n",
       "HUMAN/EGFR_2j5e_chainA             [CY0]\n",
       "HUMAN/IRAK4_2o8y_chainB            [MSE]\n",
       "HUMAN/JNK3_2r9s_chainB             [OCY]\n",
       "HUMAN/MAPKAPK2_1nxk_chainA         [MSE]\n",
       "HUMAN/PIM1_1yhs_chainA             [CME]\n",
       "HUMAN/PIM1_1yi3_chainA             [CME]\n",
       "HUMAN/PIM1_1yi4_chainA             [CME]\n",
       "HUMAN/PIM1_5o12_chainA             [CME]\n",
       "HUMAN/RET_5fm3_chainA              [PTR]\n",
       "HUMAN/RIOK1_4otp_chainA       [PHD, MSE]\n",
       "HUMAN/SRC_1yi6_chainA              [PTR]\n",
       "dtype: object"
      ]
     },
     "execution_count": 9,
     "metadata": {},
     "output_type": "execute_result"
    }
   ],
   "source": [
    "pd.Series(non_standard_aminoacids)"
   ]
  },
  {
   "cell_type": "code",
   "execution_count": 10,
   "metadata": {},
   "outputs": [],
   "source": [
    "# Get set of non-standard amino acids\n",
    "non_standards = []\n",
    "\n",
    "for k, v in non_standard_aminoacids.items():\n",
    "    non_standards = non_standards + v\n",
    "    \n",
    "non_standards_set = set(non_standards)"
   ]
  },
  {
   "cell_type": "code",
   "execution_count": 11,
   "metadata": {},
   "outputs": [
    {
     "data": {
      "text/plain": [
       "{'CAF', 'CME', 'CSS', 'CY0', 'KCX', 'MSE', 'OCY', 'PHD', 'PTR'}"
      ]
     },
     "execution_count": 11,
     "metadata": {},
     "output_type": "execute_result"
    }
   ],
   "source": [
    "non_standards_set"
   ]
  },
  {
   "cell_type": "code",
   "execution_count": 12,
   "metadata": {},
   "outputs": [],
   "source": [
    "smiles = {\n",
    "    'CAF': 'C[As](C)(=O)SC[C@H](N)C(O)=O',\n",
    "    'CME': 'N[C@@H](CSSCCO)C(O)=O',\n",
    "    'CSO': 'N[C@@H](CSO)C(O)=O',\n",
    "    'CSS': 'N[C@@H](CSS)C(O)=O',\n",
    "    'CY0': 'N[C@@H](CSCCC(=O)Nc1ccc2ncnc(Nc3ccccc3)c2c1)C(O)=O',\n",
    "    'KCX': 'N[C@@H](CCCCNC(O)=O)C(O)=O',\n",
    "    'MSE': 'C[Se]CC[C@H](N)C(O)=O',\n",
    "    'OCY': 'N[C@@H](CSCCO)C(O)=O',\n",
    "    'PHD': 'N[C@@H](CC(=O)OP(O)(O)=O)C(O)=O',\n",
    "    'PTR': 'N[C@@H](Cc1ccc(OP(O)(O)=O)cc1)C(O)=O',\n",
    "}"
   ]
  },
  {
   "cell_type": "markdown",
   "metadata": {},
   "source": [
    "Check these non-standard residues in the PDB:\n",
    "* CAF, CME, CSO, CSS, OCY: L-peptide linking (parent CYS)\n",
    "* KCX: L-peptide linking (parent LYS)\n",
    "* MSE: L-peptide linking (parent MET) - SELENOMETHIONINE\n",
    "* PHD: L-peptide linking (parent ASP) - ASPARTYL PHOSPHATE\n",
    "* PTR: L-peptide linking (parent TYR) - O-PHOSPHOTYROSINE\n",
    "\n",
    "Additional phosphorylated residues:\n",
    "* SEP: L-peptide linking (parent SER) - PHOSPHOSERINE"
   ]
  },
  {
   "cell_type": "markdown",
   "metadata": {},
   "source": [
    "Include phosphorylated amino acids?"
   ]
  }
 ],
 "metadata": {
  "kernelspec": {
   "display_name": "kinsim",
   "language": "python",
   "name": "kinsim"
  },
  "language_info": {
   "codemirror_mode": {
    "name": "ipython",
    "version": 3
   },
   "file_extension": ".py",
   "mimetype": "text/x-python",
   "name": "python",
   "nbconvert_exporter": "python",
   "pygments_lexer": "ipython3",
   "version": "3.6.7"
  }
 },
 "nbformat": 4,
 "nbformat_minor": 2
}
