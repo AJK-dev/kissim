{
 "cells": [
  {
   "cell_type": "markdown",
   "metadata": {},
   "source": [
    "# Dataset fingerprints"
   ]
  },
  {
   "cell_type": "markdown",
   "metadata": {},
   "source": [
    "## Imports"
   ]
  },
  {
   "cell_type": "code",
   "execution_count": 3,
   "metadata": {},
   "outputs": [],
   "source": [
    "from pathlib import Path\n",
    "import pickle\n",
    "\n",
    "import pandas as pd"
   ]
  },
  {
   "cell_type": "markdown",
   "metadata": {},
   "source": [
    "## IO paths"
   ]
  },
  {
   "cell_type": "code",
   "execution_count": 4,
   "metadata": {},
   "outputs": [],
   "source": [
    "path_to_results = Path('.') / '..' / 'results' "
   ]
  },
  {
   "cell_type": "markdown",
   "metadata": {},
   "source": [
    "## Load metadata for failed fingerprint generation"
   ]
  },
  {
   "cell_type": "code",
   "execution_count": 9,
   "metadata": {},
   "outputs": [],
   "source": [
    "with open(path_to_results / 'fingerprints_error_entries.p', 'rb') as f:\n",
    "    errors = pickle.load(f)\n",
    "    \n",
    "errors = pd.DataFrame(errors)"
   ]
  },
  {
   "cell_type": "code",
   "execution_count": 14,
   "metadata": {},
   "outputs": [
    {
     "data": {
      "text/plain": [
       "3"
      ]
     },
     "execution_count": 14,
     "metadata": {},
     "output_type": "execute_result"
    }
   ],
   "source": [
    "len(errors)"
   ]
  },
  {
   "cell_type": "code",
   "execution_count": 10,
   "metadata": {},
   "outputs": [
    {
     "data": {
      "text/html": [
       "<div>\n",
       "<style scoped>\n",
       "    .dataframe tbody tr th:only-of-type {\n",
       "        vertical-align: middle;\n",
       "    }\n",
       "\n",
       "    .dataframe tbody tr th {\n",
       "        vertical-align: top;\n",
       "    }\n",
       "\n",
       "    .dataframe thead th {\n",
       "        text-align: right;\n",
       "    }\n",
       "</style>\n",
       "<table border=\"1\" class=\"dataframe\">\n",
       "  <thead>\n",
       "    <tr style=\"text-align: right;\">\n",
       "      <th></th>\n",
       "      <th>Unnamed: 0</th>\n",
       "      <th>index</th>\n",
       "      <th>kinase</th>\n",
       "      <th>family</th>\n",
       "      <th>groups</th>\n",
       "      <th>pdb_id</th>\n",
       "      <th>chain</th>\n",
       "      <th>alternate_model</th>\n",
       "      <th>species</th>\n",
       "      <th>ligand_orthosteric_name</th>\n",
       "      <th>...</th>\n",
       "      <th>dfg</th>\n",
       "      <th>ac_helix</th>\n",
       "      <th>rmsd1</th>\n",
       "      <th>rmsd2</th>\n",
       "      <th>qualityscore</th>\n",
       "      <th>pocket</th>\n",
       "      <th>resolution</th>\n",
       "      <th>missing_residues</th>\n",
       "      <th>missing_atoms</th>\n",
       "      <th>full_ifp</th>\n",
       "    </tr>\n",
       "  </thead>\n",
       "  <tbody>\n",
       "    <tr>\n",
       "      <th>1000</th>\n",
       "      <td>1005</td>\n",
       "      <td>1259</td>\n",
       "      <td>CHK1</td>\n",
       "      <td>CAMKL</td>\n",
       "      <td>CAMK</td>\n",
       "      <td>4hyh</td>\n",
       "      <td>A</td>\n",
       "      <td>B</td>\n",
       "      <td>Human</td>\n",
       "      <td>2-(6-methoxy-1-oxo-1,3-dihydro-2H-isoindol-2-y...</td>\n",
       "      <td>...</td>\n",
       "      <td>in</td>\n",
       "      <td>in</td>\n",
       "      <td>0.779</td>\n",
       "      <td>2.097</td>\n",
       "      <td>8.0</td>\n",
       "      <td>QTLGEGAYGEVQLVAVKIVNIKKEICINKMLNENVVKFYGHYLFLE...</td>\n",
       "      <td>1.7</td>\n",
       "      <td>0</td>\n",
       "      <td>0</td>\n",
       "      <td>0000000000000010000000000000000000000000000000...</td>\n",
       "    </tr>\n",
       "    <tr>\n",
       "      <th>1002</th>\n",
       "      <td>1007</td>\n",
       "      <td>1317</td>\n",
       "      <td>CHK1</td>\n",
       "      <td>CAMKL</td>\n",
       "      <td>CAMK</td>\n",
       "      <td>4jik</td>\n",
       "      <td>A</td>\n",
       "      <td>-</td>\n",
       "      <td>Human</td>\n",
       "      <td>2-(4-chlorophenyl)-8-[(3S)-piperidin-3-ylamino...</td>\n",
       "      <td>...</td>\n",
       "      <td>in</td>\n",
       "      <td>in</td>\n",
       "      <td>0.779</td>\n",
       "      <td>2.028</td>\n",
       "      <td>8.7</td>\n",
       "      <td>QTLGEGA_GEVQLVAVKIVNIKKEICINKMLNENVVKFYGHYLFLE...</td>\n",
       "      <td>1.9</td>\n",
       "      <td>1</td>\n",
       "      <td>9</td>\n",
       "      <td>0000000000000010000000000000100000010000000000...</td>\n",
       "    </tr>\n",
       "    <tr>\n",
       "      <th>2479</th>\n",
       "      <td>2490</td>\n",
       "      <td>747</td>\n",
       "      <td>LOK</td>\n",
       "      <td>STE20</td>\n",
       "      <td>STE</td>\n",
       "      <td>2j7t</td>\n",
       "      <td>A</td>\n",
       "      <td>A</td>\n",
       "      <td>Human</td>\n",
       "      <td>(3Z)-N-(3-CHLOROPHENYL)-3-({3,5-DIMETHYL-4-[(4...</td>\n",
       "      <td>...</td>\n",
       "      <td>in</td>\n",
       "      <td>in</td>\n",
       "      <td>0.776</td>\n",
       "      <td>2.105</td>\n",
       "      <td>8.0</td>\n",
       "      <td>GELGDGAFGKVYKAAAKVIDYIVEIEILATCDPYIVKLLGAWIMIE...</td>\n",
       "      <td>2.0</td>\n",
       "      <td>0</td>\n",
       "      <td>26</td>\n",
       "      <td>0000000000000010000000000000000000000000000000...</td>\n",
       "    </tr>\n",
       "  </tbody>\n",
       "</table>\n",
       "<p>3 rows × 23 columns</p>\n",
       "</div>"
      ],
      "text/plain": [
       "      Unnamed: 0  index kinase family groups pdb_id chain alternate_model  \\\n",
       "1000        1005   1259   CHK1  CAMKL   CAMK   4hyh     A               B   \n",
       "1002        1007   1317   CHK1  CAMKL   CAMK   4jik     A               -   \n",
       "2479        2490    747    LOK  STE20    STE   2j7t     A               A   \n",
       "\n",
       "     species                            ligand_orthosteric_name  ... dfg  \\\n",
       "1000   Human  2-(6-methoxy-1-oxo-1,3-dihydro-2H-isoindol-2-y...  ...  in   \n",
       "1002   Human  2-(4-chlorophenyl)-8-[(3S)-piperidin-3-ylamino...  ...  in   \n",
       "2479   Human  (3Z)-N-(3-CHLOROPHENYL)-3-({3,5-DIMETHYL-4-[(4...  ...  in   \n",
       "\n",
       "     ac_helix  rmsd1  rmsd2 qualityscore  \\\n",
       "1000       in  0.779  2.097          8.0   \n",
       "1002       in  0.779  2.028          8.7   \n",
       "2479       in  0.776  2.105          8.0   \n",
       "\n",
       "                                                 pocket  resolution  \\\n",
       "1000  QTLGEGAYGEVQLVAVKIVNIKKEICINKMLNENVVKFYGHYLFLE...         1.7   \n",
       "1002  QTLGEGA_GEVQLVAVKIVNIKKEICINKMLNENVVKFYGHYLFLE...         1.9   \n",
       "2479  GELGDGAFGKVYKAAAKVIDYIVEIEILATCDPYIVKLLGAWIMIE...         2.0   \n",
       "\n",
       "      missing_residues missing_atoms  \\\n",
       "1000                 0             0   \n",
       "1002                 1             9   \n",
       "2479                 0            26   \n",
       "\n",
       "                                               full_ifp  \n",
       "1000  0000000000000010000000000000000000000000000000...  \n",
       "1002  0000000000000010000000000000100000010000000000...  \n",
       "2479  0000000000000010000000000000000000000000000000...  \n",
       "\n",
       "[3 rows x 23 columns]"
      ]
     },
     "execution_count": 10,
     "metadata": {},
     "output_type": "execute_result"
    }
   ],
   "source": [
    "errors"
   ]
  },
  {
   "cell_type": "markdown",
   "metadata": {},
   "source": [
    "## Load fingerprints"
   ]
  },
  {
   "cell_type": "code",
   "execution_count": 12,
   "metadata": {},
   "outputs": [],
   "source": [
    "fingerprints = pd.read_csv(path_to_results / 'fingerprints.csv')"
   ]
  },
  {
   "cell_type": "code",
   "execution_count": 13,
   "metadata": {},
   "outputs": [
    {
     "data": {
      "text/plain": [
       "(332690, 15)"
      ]
     },
     "execution_count": 13,
     "metadata": {},
     "output_type": "execute_result"
    }
   ],
   "source": [
    "fingerprints.shape"
   ]
  },
  {
   "cell_type": "code",
   "execution_count": 15,
   "metadata": {},
   "outputs": [
    {
     "data": {
      "text/plain": [
       "332690"
      ]
     },
     "execution_count": 15,
     "metadata": {},
     "output_type": "execute_result"
    }
   ],
   "source": [
    "(3917- len(errors)) * 85"
   ]
  },
  {
   "cell_type": "code",
   "execution_count": 16,
   "metadata": {},
   "outputs": [
    {
     "data": {
      "text/html": [
       "<div>\n",
       "<style scoped>\n",
       "    .dataframe tbody tr th:only-of-type {\n",
       "        vertical-align: middle;\n",
       "    }\n",
       "\n",
       "    .dataframe tbody tr th {\n",
       "        vertical-align: top;\n",
       "    }\n",
       "\n",
       "    .dataframe thead th {\n",
       "        text-align: right;\n",
       "    }\n",
       "</style>\n",
       "<table border=\"1\" class=\"dataframe\">\n",
       "  <thead>\n",
       "    <tr style=\"text-align: right;\">\n",
       "      <th></th>\n",
       "      <th>Unnamed: 0</th>\n",
       "      <th>size</th>\n",
       "      <th>hbd</th>\n",
       "      <th>hba</th>\n",
       "      <th>charge</th>\n",
       "      <th>aromatic</th>\n",
       "      <th>aliphatic</th>\n",
       "      <th>sco</th>\n",
       "      <th>exposure</th>\n",
       "      <th>distance_to_centroid</th>\n",
       "      <th>distance_to_hinge_region</th>\n",
       "      <th>distance_to_dfg_region</th>\n",
       "      <th>distance_to_front_pocket</th>\n",
       "      <th>metadata_index</th>\n",
       "      <th>molecule_code</th>\n",
       "    </tr>\n",
       "  </thead>\n",
       "  <tbody>\n",
       "    <tr>\n",
       "      <th>0</th>\n",
       "      <td>1</td>\n",
       "      <td>2.0</td>\n",
       "      <td>0.0</td>\n",
       "      <td>2.0</td>\n",
       "      <td>-1.0</td>\n",
       "      <td>0.0</td>\n",
       "      <td>0.0</td>\n",
       "      <td>94.16</td>\n",
       "      <td>0.296296</td>\n",
       "      <td>17.19</td>\n",
       "      <td>12.80</td>\n",
       "      <td>19.08</td>\n",
       "      <td>14.13</td>\n",
       "      <td>0</td>\n",
       "      <td>HUMAN/AAK1_4wsq_altA_chainB</td>\n",
       "    </tr>\n",
       "    <tr>\n",
       "      <th>1</th>\n",
       "      <td>2</td>\n",
       "      <td>1.0</td>\n",
       "      <td>0.0</td>\n",
       "      <td>0.0</td>\n",
       "      <td>0.0</td>\n",
       "      <td>0.0</td>\n",
       "      <td>1.0</td>\n",
       "      <td>21.29</td>\n",
       "      <td>0.344828</td>\n",
       "      <td>15.09</td>\n",
       "      <td>11.64</td>\n",
       "      <td>16.48</td>\n",
       "      <td>11.69</td>\n",
       "      <td>0</td>\n",
       "      <td>HUMAN/AAK1_4wsq_altA_chainB</td>\n",
       "    </tr>\n",
       "    <tr>\n",
       "      <th>2</th>\n",
       "      <td>3</td>\n",
       "      <td>2.0</td>\n",
       "      <td>0.0</td>\n",
       "      <td>0.0</td>\n",
       "      <td>0.0</td>\n",
       "      <td>0.0</td>\n",
       "      <td>1.0</td>\n",
       "      <td>27.98</td>\n",
       "      <td>0.750000</td>\n",
       "      <td>12.41</td>\n",
       "      <td>9.24</td>\n",
       "      <td>15.13</td>\n",
       "      <td>8.24</td>\n",
       "      <td>0</td>\n",
       "      <td>HUMAN/AAK1_4wsq_altA_chainB</td>\n",
       "    </tr>\n",
       "    <tr>\n",
       "      <th>3</th>\n",
       "      <td>4</td>\n",
       "      <td>1.0</td>\n",
       "      <td>0.0</td>\n",
       "      <td>0.0</td>\n",
       "      <td>0.0</td>\n",
       "      <td>0.0</td>\n",
       "      <td>1.0</td>\n",
       "      <td>22.51</td>\n",
       "      <td>0.451613</td>\n",
       "      <td>11.80</td>\n",
       "      <td>10.34</td>\n",
       "      <td>13.67</td>\n",
       "      <td>7.22</td>\n",
       "      <td>0</td>\n",
       "      <td>HUMAN/AAK1_4wsq_altA_chainB</td>\n",
       "    </tr>\n",
       "    <tr>\n",
       "      <th>4</th>\n",
       "      <td>5</td>\n",
       "      <td>2.0</td>\n",
       "      <td>0.0</td>\n",
       "      <td>2.0</td>\n",
       "      <td>-1.0</td>\n",
       "      <td>0.0</td>\n",
       "      <td>0.0</td>\n",
       "      <td>25.87</td>\n",
       "      <td>0.142857</td>\n",
       "      <td>12.80</td>\n",
       "      <td>12.41</td>\n",
       "      <td>12.79</td>\n",
       "      <td>9.24</td>\n",
       "      <td>0</td>\n",
       "      <td>HUMAN/AAK1_4wsq_altA_chainB</td>\n",
       "    </tr>\n",
       "  </tbody>\n",
       "</table>\n",
       "</div>"
      ],
      "text/plain": [
       "   Unnamed: 0  size  hbd  hba  charge  aromatic  aliphatic    sco  exposure  \\\n",
       "0           1   2.0  0.0  2.0    -1.0       0.0        0.0  94.16  0.296296   \n",
       "1           2   1.0  0.0  0.0     0.0       0.0        1.0  21.29  0.344828   \n",
       "2           3   2.0  0.0  0.0     0.0       0.0        1.0  27.98  0.750000   \n",
       "3           4   1.0  0.0  0.0     0.0       0.0        1.0  22.51  0.451613   \n",
       "4           5   2.0  0.0  2.0    -1.0       0.0        0.0  25.87  0.142857   \n",
       "\n",
       "   distance_to_centroid  distance_to_hinge_region  distance_to_dfg_region  \\\n",
       "0                 17.19                     12.80                   19.08   \n",
       "1                 15.09                     11.64                   16.48   \n",
       "2                 12.41                      9.24                   15.13   \n",
       "3                 11.80                     10.34                   13.67   \n",
       "4                 12.80                     12.41                   12.79   \n",
       "\n",
       "   distance_to_front_pocket  metadata_index                molecule_code  \n",
       "0                     14.13               0  HUMAN/AAK1_4wsq_altA_chainB  \n",
       "1                     11.69               0  HUMAN/AAK1_4wsq_altA_chainB  \n",
       "2                      8.24               0  HUMAN/AAK1_4wsq_altA_chainB  \n",
       "3                      7.22               0  HUMAN/AAK1_4wsq_altA_chainB  \n",
       "4                      9.24               0  HUMAN/AAK1_4wsq_altA_chainB  "
      ]
     },
     "execution_count": 16,
     "metadata": {},
     "output_type": "execute_result"
    }
   ],
   "source": [
    "fingerprints.head()"
   ]
  }
 ],
 "metadata": {
  "kernelspec": {
   "display_name": "kinsim",
   "language": "python",
   "name": "kinsim"
  },
  "language_info": {
   "codemirror_mode": {
    "name": "ipython",
    "version": 3
   },
   "file_extension": ".py",
   "mimetype": "text/x-python",
   "name": "python",
   "nbconvert_exporter": "python",
   "pygments_lexer": "ipython3",
   "version": "3.6.7"
  }
 },
 "nbformat": 4,
 "nbformat_minor": 2
}
