{
 "cells": [
  {
   "cell_type": "markdown",
   "metadata": {},
   "source": [
    "# The `io` module"
   ]
  },
  {
   "cell_type": "code",
   "execution_count": 1,
   "metadata": {},
   "outputs": [],
   "source": [
    "%load_ext autoreload\n",
    "%autoreload 2"
   ]
  },
  {
   "cell_type": "code",
   "execution_count": 2,
   "metadata": {},
   "outputs": [],
   "source": [
    "from kissim.io import Complex, Pocket"
   ]
  },
  {
   "cell_type": "markdown",
   "metadata": {},
   "source": [
    "## The `Complex` class\n",
    "\n",
    "TODO description"
   ]
  },
  {
   "cell_type": "code",
   "execution_count": 3,
   "metadata": {},
   "outputs": [
    {
     "name": "stderr",
     "output_type": "stream",
     "text": [
      "INFO:opencadd.databases.klifs.api:Set up remote session...\n",
      "INFO:opencadd.databases.klifs.api:Remote session is ready!\n"
     ]
    },
    {
     "data": {
      "text/plain": [
       "<kissim.io.complex.Complex at 0x7f9641072190>"
      ]
     },
     "execution_count": 3,
     "metadata": {},
     "output_type": "execute_result"
    }
   ],
   "source": [
    "complex = Complex.from_structure_id(12347)\n",
    "complex"
   ]
  },
  {
   "cell_type": "code",
   "execution_count": 4,
   "metadata": {},
   "outputs": [
    {
     "name": "stdout",
     "output_type": "stream",
     "text": [
      "(1819, 7)\n"
     ]
    },
    {
     "data": {
      "text/html": [
       "<div>\n",
       "<style scoped>\n",
       "    .dataframe tbody tr th:only-of-type {\n",
       "        vertical-align: middle;\n",
       "    }\n",
       "\n",
       "    .dataframe tbody tr th {\n",
       "        vertical-align: top;\n",
       "    }\n",
       "\n",
       "    .dataframe thead th {\n",
       "        text-align: right;\n",
       "    }\n",
       "</style>\n",
       "<table border=\"1\" class=\"dataframe\">\n",
       "  <thead>\n",
       "    <tr style=\"text-align: right;\">\n",
       "      <th></th>\n",
       "      <th>atom.id</th>\n",
       "      <th>atom.name</th>\n",
       "      <th>atom.x</th>\n",
       "      <th>atom.y</th>\n",
       "      <th>atom.z</th>\n",
       "      <th>residue.pdb_id</th>\n",
       "      <th>residue.name</th>\n",
       "    </tr>\n",
       "  </thead>\n",
       "  <tbody>\n",
       "    <tr>\n",
       "      <th>0</th>\n",
       "      <td>1</td>\n",
       "      <td>N</td>\n",
       "      <td>10.546</td>\n",
       "      <td>36.428</td>\n",
       "      <td>36.295</td>\n",
       "      <td>450</td>\n",
       "      <td>TRP</td>\n",
       "    </tr>\n",
       "    <tr>\n",
       "      <th>1</th>\n",
       "      <td>2</td>\n",
       "      <td>CA</td>\n",
       "      <td>9.900</td>\n",
       "      <td>35.648</td>\n",
       "      <td>37.347</td>\n",
       "      <td>450</td>\n",
       "      <td>TRP</td>\n",
       "    </tr>\n",
       "    <tr>\n",
       "      <th>2</th>\n",
       "      <td>3</td>\n",
       "      <td>C</td>\n",
       "      <td>10.875</td>\n",
       "      <td>34.729</td>\n",
       "      <td>38.070</td>\n",
       "      <td>450</td>\n",
       "      <td>TRP</td>\n",
       "    </tr>\n",
       "    <tr>\n",
       "      <th>3</th>\n",
       "      <td>4</td>\n",
       "      <td>O</td>\n",
       "      <td>10.461</td>\n",
       "      <td>33.857</td>\n",
       "      <td>38.834</td>\n",
       "      <td>450</td>\n",
       "      <td>TRP</td>\n",
       "    </tr>\n",
       "    <tr>\n",
       "      <th>4</th>\n",
       "      <td>5</td>\n",
       "      <td>CB</td>\n",
       "      <td>8.745</td>\n",
       "      <td>34.822</td>\n",
       "      <td>36.782</td>\n",
       "      <td>450</td>\n",
       "      <td>TRP</td>\n",
       "    </tr>\n",
       "  </tbody>\n",
       "</table>\n",
       "</div>"
      ],
      "text/plain": [
       "   atom.id atom.name  atom.x  atom.y  atom.z residue.pdb_id residue.name\n",
       "0        1         N  10.546  36.428  36.295            450          TRP\n",
       "1        2        CA   9.900  35.648  37.347            450          TRP\n",
       "2        3         C  10.875  34.729  38.070            450          TRP\n",
       "3        4         O  10.461  33.857  38.834            450          TRP\n",
       "4        5        CB   8.745  34.822  36.782            450          TRP"
      ]
     },
     "execution_count": 4,
     "metadata": {},
     "output_type": "execute_result"
    }
   ],
   "source": [
    "print(complex.dataframe.shape)\n",
    "complex.dataframe.head()"
   ]
  },
  {
   "cell_type": "code",
   "execution_count": 5,
   "metadata": {},
   "outputs": [
    {
     "data": {
      "text/plain": [
       "<Structure id=>"
      ]
     },
     "execution_count": 5,
     "metadata": {},
     "output_type": "execute_result"
    }
   ],
   "source": [
    "complex._biopython"
   ]
  },
  {
   "cell_type": "code",
   "execution_count": 6,
   "metadata": {},
   "outputs": [
    {
     "data": {
      "text/plain": [
       "254"
      ]
     },
     "execution_count": 6,
     "metadata": {},
     "output_type": "execute_result"
    }
   ],
   "source": [
    "len(list(complex._hse))"
   ]
  },
  {
   "cell_type": "markdown",
   "metadata": {},
   "source": [
    "## The `Pocket` class\n",
    "\n",
    "TODO description"
   ]
  },
  {
   "cell_type": "code",
   "execution_count": 7,
   "metadata": {},
   "outputs": [
    {
     "name": "stderr",
     "output_type": "stream",
     "text": [
      "INFO:opencadd.databases.klifs.api:Set up remote session...\n",
      "INFO:opencadd.databases.klifs.api:Remote session is ready!\n",
      "INFO:opencadd.databases.klifs.api:Set up remote session...\n",
      "INFO:opencadd.databases.klifs.api:Remote session is ready!\n"
     ]
    },
    {
     "data": {
      "text/plain": [
       "<kissim.io.pocket.Pocket at 0x7f96402a7dc0>"
      ]
     },
     "execution_count": 7,
     "metadata": {},
     "output_type": "execute_result"
    }
   ],
   "source": [
    "pocket = Pocket.from_structure_id(12347)\n",
    "pocket"
   ]
  },
  {
   "cell_type": "code",
   "execution_count": 8,
   "metadata": {},
   "outputs": [
    {
     "name": "stdout",
     "output_type": "stream",
     "text": [
      "(577, 7)\n"
     ]
    },
    {
     "data": {
      "text/html": [
       "<div>\n",
       "<style scoped>\n",
       "    .dataframe tbody tr th:only-of-type {\n",
       "        vertical-align: middle;\n",
       "    }\n",
       "\n",
       "    .dataframe tbody tr th {\n",
       "        vertical-align: top;\n",
       "    }\n",
       "\n",
       "    .dataframe thead th {\n",
       "        text-align: right;\n",
       "    }\n",
       "</style>\n",
       "<table border=\"1\" class=\"dataframe\">\n",
       "  <thead>\n",
       "    <tr style=\"text-align: right;\">\n",
       "      <th></th>\n",
       "      <th>atom.id</th>\n",
       "      <th>atom.name</th>\n",
       "      <th>atom.x</th>\n",
       "      <th>atom.y</th>\n",
       "      <th>atom.z</th>\n",
       "      <th>residue.pdb_id</th>\n",
       "      <th>residue.name</th>\n",
       "    </tr>\n",
       "  </thead>\n",
       "  <tbody>\n",
       "    <tr>\n",
       "      <th>73</th>\n",
       "      <td>74</td>\n",
       "      <td>N</td>\n",
       "      <td>9.014</td>\n",
       "      <td>18.239</td>\n",
       "      <td>51.860</td>\n",
       "      <td>461</td>\n",
       "      <td>GLN</td>\n",
       "    </tr>\n",
       "    <tr>\n",
       "      <th>74</th>\n",
       "      <td>75</td>\n",
       "      <td>CA</td>\n",
       "      <td>8.811</td>\n",
       "      <td>16.811</td>\n",
       "      <td>51.656</td>\n",
       "      <td>461</td>\n",
       "      <td>GLN</td>\n",
       "    </tr>\n",
       "    <tr>\n",
       "      <th>75</th>\n",
       "      <td>76</td>\n",
       "      <td>C</td>\n",
       "      <td>8.559</td>\n",
       "      <td>16.492</td>\n",
       "      <td>50.186</td>\n",
       "      <td>461</td>\n",
       "      <td>GLN</td>\n",
       "    </tr>\n",
       "    <tr>\n",
       "      <th>76</th>\n",
       "      <td>77</td>\n",
       "      <td>O</td>\n",
       "      <td>7.851</td>\n",
       "      <td>17.224</td>\n",
       "      <td>49.491</td>\n",
       "      <td>461</td>\n",
       "      <td>GLN</td>\n",
       "    </tr>\n",
       "    <tr>\n",
       "      <th>77</th>\n",
       "      <td>78</td>\n",
       "      <td>CB</td>\n",
       "      <td>7.630</td>\n",
       "      <td>16.325</td>\n",
       "      <td>52.501</td>\n",
       "      <td>461</td>\n",
       "      <td>GLN</td>\n",
       "    </tr>\n",
       "  </tbody>\n",
       "</table>\n",
       "</div>"
      ],
      "text/plain": [
       "    atom.id atom.name  atom.x  atom.y  atom.z residue.pdb_id residue.name\n",
       "73       74         N   9.014  18.239  51.860            461          GLN\n",
       "74       75        CA   8.811  16.811  51.656            461          GLN\n",
       "75       76         C   8.559  16.492  50.186            461          GLN\n",
       "76       77         O   7.851  17.224  49.491            461          GLN\n",
       "77       78        CB   7.630  16.325  52.501            461          GLN"
      ]
     },
     "execution_count": 8,
     "metadata": {},
     "output_type": "execute_result"
    }
   ],
   "source": [
    "print(pocket.dataframe.shape)\n",
    "pocket.dataframe.head()"
   ]
  },
  {
   "cell_type": "code",
   "execution_count": 9,
   "metadata": {},
   "outputs": [],
   "source": [
    "pocket._biopython"
   ]
  },
  {
   "cell_type": "code",
   "execution_count": 10,
   "metadata": {},
   "outputs": [
    {
     "data": {
      "text/plain": [
       "78"
      ]
     },
     "execution_count": 10,
     "metadata": {},
     "output_type": "execute_result"
    }
   ],
   "source": [
    "len(list(pocket._hse))"
   ]
  }
 ],
 "metadata": {
  "kernelspec": {
   "display_name": "Python 3",
   "language": "python",
   "name": "python3"
  },
  "language_info": {
   "codemirror_mode": {
    "name": "ipython",
    "version": 3
   },
   "file_extension": ".py",
   "mimetype": "text/x-python",
   "name": "python",
   "nbconvert_exporter": "python",
   "pygments_lexer": "ipython3",
   "version": "3.8.5"
  }
 },
 "nbformat": 4,
 "nbformat_minor": 4
}
