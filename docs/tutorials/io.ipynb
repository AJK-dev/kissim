{
 "cells": [
  {
   "cell_type": "markdown",
   "metadata": {},
   "source": [
    "# The `io` module"
   ]
  },
  {
   "cell_type": "code",
   "execution_count": null,
   "metadata": {},
   "outputs": [],
   "source": [
    "%load_ext autoreload\n",
    "%autoreload 2"
   ]
  },
  {
   "cell_type": "code",
   "execution_count": 2,
   "metadata": {},
   "outputs": [
    {
     "data": {
      "application/vnd.jupyter.widget-view+json": {
       "model_id": "adaf9b5d233a4601a820421a3f4231ba",
       "version_major": 2,
       "version_minor": 0
      },
      "text/plain": []
     },
     "metadata": {},
     "output_type": "display_data"
    }
   ],
   "source": [
    "from kissim.io import PocketDataFrame, PocketBioPython"
   ]
  },
  {
   "cell_type": "markdown",
   "metadata": {},
   "source": [
    "## The `PocketBioPython` class"
   ]
  },
  {
   "cell_type": "code",
   "execution_count": 3,
   "metadata": {},
   "outputs": [
    {
     "data": {
      "text/plain": [
       "<kissim.io.biopython.PocketBioPython at 0x7f51f6629850>"
      ]
     },
     "execution_count": 3,
     "metadata": {},
     "output_type": "execute_result"
    }
   ],
   "source": [
    "pocket_bp = PocketBioPython.from_structure_klifs_id(12347)\n",
    "pocket_bp"
   ]
  },
  {
   "cell_type": "markdown",
   "metadata": {},
   "source": [
    "### Class attributes"
   ]
  },
  {
   "cell_type": "code",
   "execution_count": 4,
   "metadata": {},
   "outputs": [
    {
     "data": {
      "text/plain": [
       "<Chain id=A>"
      ]
     },
     "execution_count": 4,
     "metadata": {},
     "output_type": "execute_result"
    }
   ],
   "source": [
    "pocket_bp._data_complex"
   ]
  },
  {
   "cell_type": "code",
   "execution_count": 5,
   "metadata": {},
   "outputs": [
    {
     "name": "stdout",
     "output_type": "stream",
     "text": [
      "461 462 463 None None None None 468 469 470 471 472 473 480 481 482 483 484 485 497 498 499 500 501 502 503 504 505 506 507 508 509 511 512 513 514 515 516 517 518 519 526 527 528 529 530 531 532 533 534 535 536 537 538 539 540 541 542 543 566 567 568 569 570 571 572 573 574 575 576 577 578 579 580 581 582 583 584 592 593 594 595 None None None\n"
     ]
    }
   ],
   "source": [
    "print(*pocket_bp._residue_ids)"
   ]
  },
  {
   "cell_type": "code",
   "execution_count": 6,
   "metadata": {},
   "outputs": [
    {
     "name": "stdout",
     "output_type": "stream",
     "text": [
      "1 2 3 4 5 6 7 8 9 10 11 12 13 14 15 16 17 18 19 20 21 22 23 24 25 26 27 28 29 30 31 32 33 34 35 36 37 38 39 40 41 42 43 44 45 46 47 48 49 50 51 52 53 54 55 56 57 58 59 60 61 62 63 64 65 66 67 68 69 70 71 72 73 74 75 76 77 78 79 80 81 82 83 84 85\n"
     ]
    }
   ],
   "source": [
    "print(*pocket_bp._residue_ixs)"
   ]
  },
  {
   "cell_type": "code",
   "execution_count": 7,
   "metadata": {},
   "outputs": [
    {
     "data": {
      "text/plain": [
       "<Bio.PDB.HSExposure.HSExposureCA at 0x7f51f09f89d0>"
      ]
     },
     "execution_count": 7,
     "metadata": {},
     "output_type": "execute_result"
    }
   ],
   "source": [
    "pocket_bp._hse_ca_complex"
   ]
  },
  {
   "cell_type": "code",
   "execution_count": 8,
   "metadata": {},
   "outputs": [
    {
     "data": {
      "text/plain": [
       "<Bio.PDB.HSExposure.HSExposureCB at 0x7f51f06f4640>"
      ]
     },
     "execution_count": 8,
     "metadata": {},
     "output_type": "execute_result"
    }
   ],
   "source": [
    "pocket_bp._hse_cb_complex"
   ]
  },
  {
   "cell_type": "code",
   "execution_count": 9,
   "metadata": {},
   "outputs": [
    {
     "data": {
      "text/plain": [
       "<Vector 0.83, 21.62, 36.45>"
      ]
     },
     "execution_count": 9,
     "metadata": {},
     "output_type": "execute_result"
    }
   ],
   "source": [
    "pocket_bp.center"
   ]
  },
  {
   "cell_type": "markdown",
   "metadata": {},
   "source": [
    "### Class properties"
   ]
  },
  {
   "cell_type": "code",
   "execution_count": 10,
   "metadata": {},
   "outputs": [
    {
     "data": {
      "text/html": [
       "<div>\n",
       "<style scoped>\n",
       "    .dataframe tbody tr th:only-of-type {\n",
       "        vertical-align: middle;\n",
       "    }\n",
       "\n",
       "    .dataframe tbody tr th {\n",
       "        vertical-align: top;\n",
       "    }\n",
       "\n",
       "    .dataframe thead th {\n",
       "        text-align: right;\n",
       "    }\n",
       "</style>\n",
       "<table border=\"1\" class=\"dataframe\">\n",
       "  <thead>\n",
       "    <tr style=\"text-align: right;\">\n",
       "      <th></th>\n",
       "      <th>residue.id</th>\n",
       "      <th>residue.ix</th>\n",
       "    </tr>\n",
       "  </thead>\n",
       "  <tbody>\n",
       "    <tr>\n",
       "      <th>0</th>\n",
       "      <td>461</td>\n",
       "      <td>1</td>\n",
       "    </tr>\n",
       "    <tr>\n",
       "      <th>1</th>\n",
       "      <td>462</td>\n",
       "      <td>2</td>\n",
       "    </tr>\n",
       "    <tr>\n",
       "      <th>2</th>\n",
       "      <td>463</td>\n",
       "      <td>3</td>\n",
       "    </tr>\n",
       "    <tr>\n",
       "      <th>3</th>\n",
       "      <td>&lt;NA&gt;</td>\n",
       "      <td>4</td>\n",
       "    </tr>\n",
       "    <tr>\n",
       "      <th>4</th>\n",
       "      <td>&lt;NA&gt;</td>\n",
       "      <td>5</td>\n",
       "    </tr>\n",
       "    <tr>\n",
       "      <th>...</th>\n",
       "      <td>...</td>\n",
       "      <td>...</td>\n",
       "    </tr>\n",
       "    <tr>\n",
       "      <th>80</th>\n",
       "      <td>594</td>\n",
       "      <td>81</td>\n",
       "    </tr>\n",
       "    <tr>\n",
       "      <th>81</th>\n",
       "      <td>595</td>\n",
       "      <td>82</td>\n",
       "    </tr>\n",
       "    <tr>\n",
       "      <th>82</th>\n",
       "      <td>&lt;NA&gt;</td>\n",
       "      <td>83</td>\n",
       "    </tr>\n",
       "    <tr>\n",
       "      <th>83</th>\n",
       "      <td>&lt;NA&gt;</td>\n",
       "      <td>84</td>\n",
       "    </tr>\n",
       "    <tr>\n",
       "      <th>84</th>\n",
       "      <td>&lt;NA&gt;</td>\n",
       "      <td>85</td>\n",
       "    </tr>\n",
       "  </tbody>\n",
       "</table>\n",
       "<p>85 rows × 2 columns</p>\n",
       "</div>"
      ],
      "text/plain": [
       "    residue.id  residue.ix\n",
       "0          461           1\n",
       "1          462           2\n",
       "2          463           3\n",
       "3         <NA>           4\n",
       "4         <NA>           5\n",
       "..         ...         ...\n",
       "80         594          81\n",
       "81         595          82\n",
       "82        <NA>          83\n",
       "83        <NA>          84\n",
       "84        <NA>          85\n",
       "\n",
       "[85 rows x 2 columns]"
      ]
     },
     "execution_count": 10,
     "metadata": {},
     "output_type": "execute_result"
    }
   ],
   "source": [
    "pocket_bp.residues"
   ]
  },
  {
   "cell_type": "code",
   "execution_count": 11,
   "metadata": {},
   "outputs": [
    {
     "data": {
      "text/html": [
       "<div>\n",
       "<style scoped>\n",
       "    .dataframe tbody tr th:only-of-type {\n",
       "        vertical-align: middle;\n",
       "    }\n",
       "\n",
       "    .dataframe tbody tr th {\n",
       "        vertical-align: top;\n",
       "    }\n",
       "\n",
       "    .dataframe thead th {\n",
       "        text-align: right;\n",
       "    }\n",
       "</style>\n",
       "<table border=\"1\" class=\"dataframe\">\n",
       "  <thead>\n",
       "    <tr style=\"text-align: right;\">\n",
       "      <th></th>\n",
       "      <th>residue.id</th>\n",
       "      <th>ca.atom</th>\n",
       "      <th>ca.vector</th>\n",
       "    </tr>\n",
       "  </thead>\n",
       "  <tbody>\n",
       "    <tr>\n",
       "      <th>0</th>\n",
       "      <td>461</td>\n",
       "      <td>&lt;Atom CA&gt;</td>\n",
       "      <td>&lt;Vector 8.81, 16.81, 51.66&gt;</td>\n",
       "    </tr>\n",
       "    <tr>\n",
       "      <th>1</th>\n",
       "      <td>462</td>\n",
       "      <td>&lt;Atom CA&gt;</td>\n",
       "      <td>&lt;Vector 8.91, 14.91, 48.36&gt;</td>\n",
       "    </tr>\n",
       "    <tr>\n",
       "      <th>2</th>\n",
       "      <td>463</td>\n",
       "      <td>&lt;Atom CA&gt;</td>\n",
       "      <td>&lt;Vector 5.48, 13.77, 47.17&gt;</td>\n",
       "    </tr>\n",
       "    <tr>\n",
       "      <th>3</th>\n",
       "      <td>&lt;NA&gt;</td>\n",
       "      <td>None</td>\n",
       "      <td>None</td>\n",
       "    </tr>\n",
       "    <tr>\n",
       "      <th>4</th>\n",
       "      <td>&lt;NA&gt;</td>\n",
       "      <td>None</td>\n",
       "      <td>None</td>\n",
       "    </tr>\n",
       "    <tr>\n",
       "      <th>...</th>\n",
       "      <td>...</td>\n",
       "      <td>...</td>\n",
       "      <td>...</td>\n",
       "    </tr>\n",
       "    <tr>\n",
       "      <th>80</th>\n",
       "      <td>594</td>\n",
       "      <td>&lt;Atom CA&gt;</td>\n",
       "      <td>&lt;Vector 1.83, 18.43, 34.14&gt;</td>\n",
       "    </tr>\n",
       "    <tr>\n",
       "      <th>81</th>\n",
       "      <td>595</td>\n",
       "      <td>&lt;Atom CA&gt;</td>\n",
       "      <td>&lt;Vector 2.38, 19.71, 30.60&gt;</td>\n",
       "    </tr>\n",
       "    <tr>\n",
       "      <th>82</th>\n",
       "      <td>&lt;NA&gt;</td>\n",
       "      <td>None</td>\n",
       "      <td>None</td>\n",
       "    </tr>\n",
       "    <tr>\n",
       "      <th>83</th>\n",
       "      <td>&lt;NA&gt;</td>\n",
       "      <td>None</td>\n",
       "      <td>None</td>\n",
       "    </tr>\n",
       "    <tr>\n",
       "      <th>84</th>\n",
       "      <td>&lt;NA&gt;</td>\n",
       "      <td>None</td>\n",
       "      <td>None</td>\n",
       "    </tr>\n",
       "  </tbody>\n",
       "</table>\n",
       "<p>85 rows × 3 columns</p>\n",
       "</div>"
      ],
      "text/plain": [
       "    residue.id    ca.atom                    ca.vector\n",
       "0          461  <Atom CA>  <Vector 8.81, 16.81, 51.66>\n",
       "1          462  <Atom CA>  <Vector 8.91, 14.91, 48.36>\n",
       "2          463  <Atom CA>  <Vector 5.48, 13.77, 47.17>\n",
       "3         <NA>       None                         None\n",
       "4         <NA>       None                         None\n",
       "..         ...        ...                          ...\n",
       "80         594  <Atom CA>  <Vector 1.83, 18.43, 34.14>\n",
       "81         595  <Atom CA>  <Vector 2.38, 19.71, 30.60>\n",
       "82        <NA>       None                         None\n",
       "83        <NA>       None                         None\n",
       "84        <NA>       None                         None\n",
       "\n",
       "[85 rows x 3 columns]"
      ]
     },
     "execution_count": 11,
     "metadata": {},
     "output_type": "execute_result"
    }
   ],
   "source": [
    "pocket_bp.ca_atoms"
   ]
  },
  {
   "cell_type": "code",
   "execution_count": 12,
   "metadata": {},
   "outputs": [
    {
     "data": {
      "text/html": [
       "<div>\n",
       "<style scoped>\n",
       "    .dataframe tbody tr th:only-of-type {\n",
       "        vertical-align: middle;\n",
       "    }\n",
       "\n",
       "    .dataframe tbody tr th {\n",
       "        vertical-align: top;\n",
       "    }\n",
       "\n",
       "    .dataframe thead th {\n",
       "        text-align: right;\n",
       "    }\n",
       "</style>\n",
       "<table border=\"1\" class=\"dataframe\">\n",
       "  <thead>\n",
       "    <tr style=\"text-align: right;\">\n",
       "      <th></th>\n",
       "      <th>residue.id</th>\n",
       "      <th>pcb.vector</th>\n",
       "    </tr>\n",
       "  </thead>\n",
       "  <tbody>\n",
       "    <tr>\n",
       "      <th>0</th>\n",
       "      <td>461</td>\n",
       "      <td>&lt;Vector 8.41, 16.41, 51.25&gt;</td>\n",
       "    </tr>\n",
       "    <tr>\n",
       "      <th>1</th>\n",
       "      <td>462</td>\n",
       "      <td>&lt;Vector 9.76, 15.76, 49.21&gt;</td>\n",
       "    </tr>\n",
       "    <tr>\n",
       "      <th>2</th>\n",
       "      <td>463</td>\n",
       "      <td>None</td>\n",
       "    </tr>\n",
       "    <tr>\n",
       "      <th>3</th>\n",
       "      <td>&lt;NA&gt;</td>\n",
       "      <td>None</td>\n",
       "    </tr>\n",
       "    <tr>\n",
       "      <th>4</th>\n",
       "      <td>&lt;NA&gt;</td>\n",
       "      <td>None</td>\n",
       "    </tr>\n",
       "    <tr>\n",
       "      <th>...</th>\n",
       "      <td>...</td>\n",
       "      <td>...</td>\n",
       "    </tr>\n",
       "    <tr>\n",
       "      <th>80</th>\n",
       "      <td>594</td>\n",
       "      <td>&lt;Vector 2.26, 18.87, 34.57&gt;</td>\n",
       "    </tr>\n",
       "    <tr>\n",
       "      <th>81</th>\n",
       "      <td>595</td>\n",
       "      <td>None</td>\n",
       "    </tr>\n",
       "    <tr>\n",
       "      <th>82</th>\n",
       "      <td>&lt;NA&gt;</td>\n",
       "      <td>None</td>\n",
       "    </tr>\n",
       "    <tr>\n",
       "      <th>83</th>\n",
       "      <td>&lt;NA&gt;</td>\n",
       "      <td>None</td>\n",
       "    </tr>\n",
       "    <tr>\n",
       "      <th>84</th>\n",
       "      <td>&lt;NA&gt;</td>\n",
       "      <td>None</td>\n",
       "    </tr>\n",
       "  </tbody>\n",
       "</table>\n",
       "<p>85 rows × 2 columns</p>\n",
       "</div>"
      ],
      "text/plain": [
       "    residue.id                   pcb.vector\n",
       "0          461  <Vector 8.41, 16.41, 51.25>\n",
       "1          462  <Vector 9.76, 15.76, 49.21>\n",
       "2          463                         None\n",
       "3         <NA>                         None\n",
       "4         <NA>                         None\n",
       "..         ...                          ...\n",
       "80         594  <Vector 2.26, 18.87, 34.57>\n",
       "81         595                         None\n",
       "82        <NA>                         None\n",
       "83        <NA>                         None\n",
       "84        <NA>                         None\n",
       "\n",
       "[85 rows x 2 columns]"
      ]
     },
     "execution_count": 12,
     "metadata": {},
     "output_type": "execute_result"
    }
   ],
   "source": [
    "pocket_bp.pcb_atoms"
   ]
  },
  {
   "cell_type": "code",
   "execution_count": 13,
   "metadata": {},
   "outputs": [
    {
     "data": {
      "text/html": [
       "<div>\n",
       "<style scoped>\n",
       "    .dataframe tbody tr th:only-of-type {\n",
       "        vertical-align: middle;\n",
       "    }\n",
       "\n",
       "    .dataframe tbody tr th {\n",
       "        vertical-align: top;\n",
       "    }\n",
       "\n",
       "    .dataframe thead th {\n",
       "        text-align: right;\n",
       "    }\n",
       "</style>\n",
       "<table border=\"1\" class=\"dataframe\">\n",
       "  <thead>\n",
       "    <tr style=\"text-align: right;\">\n",
       "      <th></th>\n",
       "      <th>residue.id</th>\n",
       "      <th>sc.atom</th>\n",
       "      <th>sc.vector</th>\n",
       "    </tr>\n",
       "  </thead>\n",
       "  <tbody>\n",
       "    <tr>\n",
       "      <th>0</th>\n",
       "      <td>461</td>\n",
       "      <td>&lt;Atom CD&gt;</td>\n",
       "      <td>&lt;Vector 5.63, 14.81, 52.26&gt;</td>\n",
       "    </tr>\n",
       "    <tr>\n",
       "      <th>1</th>\n",
       "      <td>462</td>\n",
       "      <td>None</td>\n",
       "      <td>None</td>\n",
       "    </tr>\n",
       "    <tr>\n",
       "      <th>2</th>\n",
       "      <td>463</td>\n",
       "      <td>None</td>\n",
       "      <td>None</td>\n",
       "    </tr>\n",
       "    <tr>\n",
       "      <th>3</th>\n",
       "      <td>&lt;NA&gt;</td>\n",
       "      <td>None</td>\n",
       "      <td>None</td>\n",
       "    </tr>\n",
       "    <tr>\n",
       "      <th>4</th>\n",
       "      <td>&lt;NA&gt;</td>\n",
       "      <td>None</td>\n",
       "      <td>None</td>\n",
       "    </tr>\n",
       "    <tr>\n",
       "      <th>...</th>\n",
       "      <td>...</td>\n",
       "      <td>...</td>\n",
       "      <td>...</td>\n",
       "    </tr>\n",
       "    <tr>\n",
       "      <th>80</th>\n",
       "      <td>594</td>\n",
       "      <td>&lt;Atom CG&gt;</td>\n",
       "      <td>&lt;Vector 1.72, 16.82, 36.09&gt;</td>\n",
       "    </tr>\n",
       "    <tr>\n",
       "      <th>81</th>\n",
       "      <td>595</td>\n",
       "      <td>&lt;Atom CZ&gt;</td>\n",
       "      <td>&lt;Vector 0.31, 24.33, 31.38&gt;</td>\n",
       "    </tr>\n",
       "    <tr>\n",
       "      <th>82</th>\n",
       "      <td>&lt;NA&gt;</td>\n",
       "      <td>None</td>\n",
       "      <td>None</td>\n",
       "    </tr>\n",
       "    <tr>\n",
       "      <th>83</th>\n",
       "      <td>&lt;NA&gt;</td>\n",
       "      <td>None</td>\n",
       "      <td>None</td>\n",
       "    </tr>\n",
       "    <tr>\n",
       "      <th>84</th>\n",
       "      <td>&lt;NA&gt;</td>\n",
       "      <td>None</td>\n",
       "      <td>None</td>\n",
       "    </tr>\n",
       "  </tbody>\n",
       "</table>\n",
       "<p>85 rows × 3 columns</p>\n",
       "</div>"
      ],
      "text/plain": [
       "    residue.id    sc.atom                    sc.vector\n",
       "0          461  <Atom CD>  <Vector 5.63, 14.81, 52.26>\n",
       "1          462       None                         None\n",
       "2          463       None                         None\n",
       "3         <NA>       None                         None\n",
       "4         <NA>       None                         None\n",
       "..         ...        ...                          ...\n",
       "80         594  <Atom CG>  <Vector 1.72, 16.82, 36.09>\n",
       "81         595  <Atom CZ>  <Vector 0.31, 24.33, 31.38>\n",
       "82        <NA>       None                         None\n",
       "83        <NA>       None                         None\n",
       "84        <NA>       None                         None\n",
       "\n",
       "[85 rows x 3 columns]"
      ]
     },
     "execution_count": 13,
     "metadata": {},
     "output_type": "execute_result"
    }
   ],
   "source": [
    "pocket_bp.side_chain_representatives"
   ]
  },
  {
   "cell_type": "code",
   "execution_count": 14,
   "metadata": {},
   "outputs": [
    {
     "data": {
      "text/plain": [
       "{('A', (' ', 461, ' ')): (0, 16, 0.4655905486374442),\n",
       " ('A', (' ', 462, ' ')): (7, 7, 0.4399215733344865),\n",
       " ('A', (' ', 469, ' ')): (10, 7, 0.971084884491048),\n",
       " ('A', (' ', 470, ' ')): (8, 14, 0.3787440248254108),\n",
       " ('A', (' ', 471, ' ')): (11, 13, 0.39526627156570804),\n",
       " ('A', (' ', 472, ' ')): (10, 16, 0.42216138846715284),\n",
       " ('A', (' ', 473, ' ')): (8, 19, 0.40810049707795515),\n",
       " ('A', (' ', 480, ' ')): (14, 15, 0.5569745397914178),\n",
       " ('A', (' ', 481, ' ')): (12, 24, 0.37243914245661425),\n",
       " ('A', (' ', 482, ' ')): (21, 16, 0.3717966836850062),\n",
       " ('A', (' ', 483, ' ')): (12, 23, 0.3549960732120495),\n",
       " ('A', (' ', 484, ' ')): (18, 14, 0.4954201432974303),\n",
       " ('A', (' ', 485, ' ')): (7, 16, 0.39659589833617437),\n",
       " ('A', (' ', 497, ' ')): (2, 16, 0.8773662912235701),\n",
       " ('A', (' ', 498, ' ')): (14, 13, 0.8921861178584604),\n",
       " ('A', (' ', 499, ' ')): (5, 17, 0.8929657518565204),\n",
       " ('A', (' ', 500, ' ')): (0, 16, 0.8760689217170048),\n",
       " ('A', (' ', 501, ' ')): (10, 16, 0.8746068265873101),\n",
       " ('A', (' ', 502, ' ')): (14, 14, 0.8709322715379234),\n",
       " ('A', (' ', 503, ' ')): (2, 17, 0.8872888804665334),\n",
       " ('A', (' ', 504, ' ')): (7, 13, 0.8807140338123873),\n",
       " ('A', (' ', 505, ' ')): (19, 13, 0.8268195070625635),\n",
       " ('A', (' ', 506, ' ')): (12, 14, 0.8329722637754496),\n",
       " ('A', (' ', 507, ' ')): (4, 19, 0.54943506512704),\n",
       " ('A', (' ', 508, ' ')): (25, 4, 0.35234174237660465),\n",
       " ('A', (' ', 509, ' ')): (2, 17, 0.38604978910531096),\n",
       " ('A', (' ', 511, ' ')): (4, 18, 0.8757996049010396),\n",
       " ('A', (' ', 512, ' ')): (20, 10, 0.7040808618892107),\n",
       " ('A', (' ', 513, ' ')): (18, 18, 0.41646600006675244),\n",
       " ('A', (' ', 514, ' ')): (20, 16, 0.5106370926721973),\n",
       " ('A', (' ', 515, ' ')): (9, 20, 0.36066647320631956),\n",
       " ('A', (' ', 516, ' ')): (22, 13, 0.4934882559732467),\n",
       " ('A', (' ', 517, ' ')): (8, 22, 0.7778592674030705),\n",
       " ('A', (' ', 518, ' ')): (7, 23, 1.0152631696419698),\n",
       " ('A', (' ', 519, ' ')): (16, 16, 0.401486027058004),\n",
       " ('A', (' ', 526, ' ')): (18, 20, 0.4903874221791768),\n",
       " ('A', (' ', 527, ' ')): (16, 26, 0.40422149116003103),\n",
       " ('A', (' ', 528, ' ')): (24, 18, 0.35516446911019756),\n",
       " ('A', (' ', 529, ' ')): (17, 22, 0.6745105376393891),\n",
       " ('A', (' ', 530, ' ')): (10, 19, 0.6102496243954755),\n",
       " ('A', (' ', 531, ' ')): (15, 15, 0.3898678615091441),\n",
       " ('A', (' ', 532, ' ')): (18, 9, 0.3924297185034519),\n",
       " ('A', (' ', 533, ' ')): (2, 17, 0.4114518999640284),\n",
       " ('A', (' ', 534, ' ')): (6, 13, 1.387718483228435),\n",
       " ('A', (' ', 535, ' ')): (8, 20, 0.6666116172157527),\n",
       " ('A', (' ', 536, ' ')): (10, 20, 0.5406031251935318),\n",
       " ('A', (' ', 537, ' ')): (24, 16, 0.8843786536892418),\n",
       " ('A', (' ', 538, ' ')): (14, 14, 0.9323188292374216),\n",
       " ('A', (' ', 539, ' ')): (4, 20, 0.8783526175883263),\n",
       " ('A', (' ', 540, ' ')): (12, 17, 0.9569909891448872),\n",
       " ('A', (' ', 541, ' ')): (17, 15, 0.9170270083614207),\n",
       " ('A', (' ', 542, ' ')): (11, 14, 0.9021706366691501),\n",
       " ('A', (' ', 543, ' ')): (1, 16, 0.8536189292902914),\n",
       " ('A', (' ', 566, ' ')): (7, 20, 0.9112492717984675),\n",
       " ('A', (' ', 567, ' ')): (18, 15, 0.9274318166322101),\n",
       " ('A', (' ', 568, ' ')): (11, 13, 0.8056578173589614),\n",
       " ('A', (' ', 569, ' ')): (6, 12, 0.8377202037583658),\n",
       " ('A', (' ', 570, ' ')): (7, 12, 0.6890140242622086),\n",
       " ('A', (' ', 571, ' ')): (2, 15, 0.8432232078680914),\n",
       " ('A', (' ', 572, ' ')): (12, 12, 0.39123083566291017),\n",
       " ('A', (' ', 573, ' ')): (11, 17, 0.3536776031810066),\n",
       " ('A', (' ', 574, ' ')): (20, 14, 0.4563681096371682),\n",
       " ('A', (' ', 575, ' ')): (8, 17, 0.8427981561651202),\n",
       " ('A', (' ', 576, ' ')): (4, 18, 0.4685126560299723),\n",
       " ('A', (' ', 577, ' ')): (25, 9, 0.4184341466429182),\n",
       " ('A', (' ', 578, ' ')): (9, 24, 0.521654331576173),\n",
       " ('A', (' ', 579, ' ')): (26, 12, 0.7890274791257383),\n",
       " ('A', (' ', 580, ' ')): (9, 20, 0.7822528421784355),\n",
       " ('A', (' ', 581, ' ')): (10, 18, 0.6758839551825693),\n",
       " ('A', (' ', 582, ' ')): (22, 19, 0.3626246243028961),\n",
       " ('A', (' ', 583, ' ')): (10, 24, 0.42783801251466086),\n",
       " ('A', (' ', 584, ' ')): (16, 20, 0.39522143178070585),\n",
       " ('A', (' ', 592, ' ')): (20, 22, 0.38153770502359663),\n",
       " ('A', (' ', 593, ' ')): (16, 19, 0.9883311700904375),\n",
       " ('A', (' ', 594, ' ')): (8, 19, 0.8224480001297801)}"
      ]
     },
     "execution_count": 14,
     "metadata": {},
     "output_type": "execute_result"
    }
   ],
   "source": [
    "pocket_bp.hse_ca"
   ]
  },
  {
   "cell_type": "code",
   "execution_count": 15,
   "metadata": {},
   "outputs": [
    {
     "data": {
      "text/plain": [
       "{('A', (' ', 461, ' ')): (2, 14, 0.0),\n",
       " ('A', (' ', 462, ' ')): (3, 11, 0.0),\n",
       " ('A', (' ', 463, ' ')): (11, 5, 0.0),\n",
       " ('A', (' ', 468, ' ')): (2, 7, 0.0),\n",
       " ('A', (' ', 469, ' ')): (11, 6, 0.0),\n",
       " ('A', (' ', 470, ' ')): (12, 10, 0.0),\n",
       " ('A', (' ', 471, ' ')): (7, 17, 0.0),\n",
       " ('A', (' ', 472, ' ')): (14, 12, 0.0),\n",
       " ('A', (' ', 473, ' ')): (7, 20, 0.0),\n",
       " ('A', (' ', 480, ' ')): (17, 12, 0.0),\n",
       " ('A', (' ', 481, ' ')): (13, 23, 0.0),\n",
       " ('A', (' ', 482, ' ')): (19, 18, 0.0),\n",
       " ('A', (' ', 483, ' ')): (11, 24, 0.0),\n",
       " ('A', (' ', 484, ' ')): (17, 15, 0.0),\n",
       " ('A', (' ', 485, ' ')): (10, 13, 0.0),\n",
       " ('A', (' ', 497, ' ')): (9, 9, 0.0),\n",
       " ('A', (' ', 498, ' ')): (16, 11, 0.0),\n",
       " ('A', (' ', 499, ' ')): (5, 17, 0.0),\n",
       " ('A', (' ', 500, ' ')): (6, 10, 0.0),\n",
       " ('A', (' ', 501, ' ')): (14, 12, 0.0),\n",
       " ('A', (' ', 502, ' ')): (17, 11, 0.0),\n",
       " ('A', (' ', 503, ' ')): (5, 14, 0.0),\n",
       " ('A', (' ', 504, ' ')): (11, 9, 0.0),\n",
       " ('A', (' ', 505, ' ')): (19, 13, 0.0),\n",
       " ('A', (' ', 506, ' ')): (10, 16, 0.0),\n",
       " ('A', (' ', 507, ' ')): (10, 13, 0.0),\n",
       " ('A', (' ', 508, ' ')): (24, 5, 0.0),\n",
       " ('A', (' ', 509, ' ')): (1, 18, 0.0),\n",
       " ('A', (' ', 511, ' ')): (4, 18, 0.0),\n",
       " ('A', (' ', 512, ' ')): (16, 14, 0.0),\n",
       " ('A', (' ', 513, ' ')): (15, 21, 0.0),\n",
       " ('A', (' ', 514, ' ')): (19, 17, 0.0),\n",
       " ('A', (' ', 515, ' ')): (7, 22, 0.0),\n",
       " ('A', (' ', 516, ' ')): (19, 16, 0.0),\n",
       " ('A', (' ', 517, ' ')): (13, 17, 0.0),\n",
       " ('A', (' ', 518, ' ')): (12, 18, 0.0),\n",
       " ('A', (' ', 519, ' ')): (11, 21, 0.0),\n",
       " ('A', (' ', 526, ' ')): (21, 17, 0.0),\n",
       " ('A', (' ', 527, ' ')): (17, 25, 0.0),\n",
       " ('A', (' ', 528, ' ')): (23, 19, 0.0),\n",
       " ('A', (' ', 529, ' ')): (17, 22, 0.0),\n",
       " ('A', (' ', 530, ' ')): (11, 18, 0.0),\n",
       " ('A', (' ', 531, ' ')): (13, 17, 0.0),\n",
       " ('A', (' ', 532, ' ')): (19, 8, 0.0),\n",
       " ('A', (' ', 533, ' ')): (3, 16, 0.0),\n",
       " ('A', (' ', 534, ' ')): (16, 3, 0.0),\n",
       " ('A', (' ', 535, ' ')): (8, 20, 0.0),\n",
       " ('A', (' ', 536, ' ')): (12, 18, 0.0),\n",
       " ('A', (' ', 537, ' ')): (25, 15, 0.0),\n",
       " ('A', (' ', 538, ' ')): (8, 20, 0.0),\n",
       " ('A', (' ', 539, ' ')): (7, 17, 0.0),\n",
       " ('A', (' ', 540, ' ')): (19, 10, 0.0),\n",
       " ('A', (' ', 541, ' ')): (22, 10, 0.0),\n",
       " ('A', (' ', 542, ' ')): (12, 13, 0.0),\n",
       " ('A', (' ', 543, ' ')): (8, 9, 0.0),\n",
       " ('A', (' ', 566, ' ')): (13, 14, 0.0),\n",
       " ('A', (' ', 567, ' ')): (22, 11, 0.0),\n",
       " ('A', (' ', 568, ' ')): (15, 9, 0.0),\n",
       " ('A', (' ', 569, ' ')): (9, 9, 0.0),\n",
       " ('A', (' ', 570, ' ')): (14, 5, 0.0),\n",
       " ('A', (' ', 571, ' ')): (0, 17, 0.0),\n",
       " ('A', (' ', 572, ' ')): (16, 8, 0.0),\n",
       " ('A', (' ', 573, ' ')): (8, 20, 0.0),\n",
       " ('A', (' ', 574, ' ')): (20, 14, 0.0),\n",
       " ('A', (' ', 575, ' ')): (4, 21, 0.0),\n",
       " ('A', (' ', 576, ' ')): (5, 17, 0.0),\n",
       " ('A', (' ', 577, ' ')): (23, 11, 0.0),\n",
       " ('A', (' ', 578, ' ')): (7, 26, 0.0),\n",
       " ('A', (' ', 579, ' ')): (20, 18, 0.0),\n",
       " ('A', (' ', 580, ' ')): (4, 25, 0.0),\n",
       " ('A', (' ', 581, ' ')): (13, 15, 0.0),\n",
       " ('A', (' ', 582, ' ')): (23, 18, 0.0),\n",
       " ('A', (' ', 583, ' ')): (13, 21, 0.0),\n",
       " ('A', (' ', 584, ' ')): (17, 19, 0.0),\n",
       " ('A', (' ', 592, ' ')): (22, 20, 0.0),\n",
       " ('A', (' ', 593, ' ')): (14, 21, 0.0),\n",
       " ('A', (' ', 594, ' ')): (13, 14, 0.0),\n",
       " ('A', (' ', 595, ' ')): (17, 8, 0.0)}"
      ]
     },
     "execution_count": 15,
     "metadata": {},
     "output_type": "execute_result"
    }
   ],
   "source": [
    "pocket_bp.hse_cb"
   ]
  },
  {
   "cell_type": "markdown",
   "metadata": {},
   "source": [
    "## The `PocketDataFrame` class"
   ]
  },
  {
   "cell_type": "code",
   "execution_count": 16,
   "metadata": {},
   "outputs": [
    {
     "data": {
      "text/plain": [
       "<kissim.io.dataframe.PocketDataFrame at 0x7f51f09e6700>"
      ]
     },
     "execution_count": 16,
     "metadata": {},
     "output_type": "execute_result"
    }
   ],
   "source": [
    "pocket_df = PocketDataFrame.from_structure_klifs_id(12347)\n",
    "pocket_df"
   ]
  },
  {
   "cell_type": "markdown",
   "metadata": {},
   "source": [
    "### Class attributes"
   ]
  },
  {
   "cell_type": "code",
   "execution_count": 17,
   "metadata": {},
   "outputs": [
    {
     "data": {
      "text/plain": [
       "(577, 7)"
      ]
     },
     "execution_count": 17,
     "metadata": {},
     "output_type": "execute_result"
    }
   ],
   "source": [
    "pocket_df.data.shape"
   ]
  },
  {
   "cell_type": "code",
   "execution_count": 18,
   "metadata": {},
   "outputs": [
    {
     "data": {
      "text/plain": [
       "78"
      ]
     },
     "execution_count": 18,
     "metadata": {},
     "output_type": "execute_result"
    }
   ],
   "source": [
    "pocket_df.data[\"residue.id\"].unique().shape[0]"
   ]
  },
  {
   "cell_type": "code",
   "execution_count": 19,
   "metadata": {},
   "outputs": [
    {
     "name": "stdout",
     "output_type": "stream",
     "text": [
      "461 462 463 None None None None 468 469 470 471 472 473 480 481 482 483 484 485 497 498 499 500 501 502 503 504 505 506 507 508 509 511 512 513 514 515 516 517 518 519 526 527 528 529 530 531 532 533 534 535 536 537 538 539 540 541 542 543 566 567 568 569 570 571 572 573 574 575 576 577 578 579 580 581 582 583 584 592 593 594 595 None None None\n"
     ]
    }
   ],
   "source": [
    "print(*pocket_df._residue_ids)"
   ]
  },
  {
   "cell_type": "code",
   "execution_count": 20,
   "metadata": {},
   "outputs": [
    {
     "name": "stdout",
     "output_type": "stream",
     "text": [
      "1 2 3 4 5 6 7 8 9 10 11 12 13 14 15 16 17 18 19 20 21 22 23 24 25 26 27 28 29 30 31 32 33 34 35 36 37 38 39 40 41 42 43 44 45 46 47 48 49 50 51 52 53 54 55 56 57 58 59 60 61 62 63 64 65 66 67 68 69 70 71 72 73 74 75 76 77 78 79 80 81 82 83 84 85\n"
     ]
    }
   ],
   "source": [
    "print(*pocket_df._residue_ixs)"
   ]
  },
  {
   "cell_type": "code",
   "execution_count": 21,
   "metadata": {},
   "outputs": [
    {
     "data": {
      "text/plain": [
       "array([ 0.8315384, 21.615948 , 36.450153 ], dtype=float32)"
      ]
     },
     "execution_count": 21,
     "metadata": {},
     "output_type": "execute_result"
    }
   ],
   "source": [
    "pocket_df.center"
   ]
  },
  {
   "cell_type": "markdown",
   "metadata": {},
   "source": [
    "### Class properties"
   ]
  },
  {
   "cell_type": "code",
   "execution_count": 22,
   "metadata": {},
   "outputs": [
    {
     "data": {
      "text/html": [
       "<div>\n",
       "<style scoped>\n",
       "    .dataframe tbody tr th:only-of-type {\n",
       "        vertical-align: middle;\n",
       "    }\n",
       "\n",
       "    .dataframe tbody tr th {\n",
       "        vertical-align: top;\n",
       "    }\n",
       "\n",
       "    .dataframe thead th {\n",
       "        text-align: right;\n",
       "    }\n",
       "</style>\n",
       "<table border=\"1\" class=\"dataframe\">\n",
       "  <thead>\n",
       "    <tr style=\"text-align: right;\">\n",
       "      <th></th>\n",
       "      <th>residue.id</th>\n",
       "      <th>residue.ix</th>\n",
       "    </tr>\n",
       "  </thead>\n",
       "  <tbody>\n",
       "    <tr>\n",
       "      <th>0</th>\n",
       "      <td>461</td>\n",
       "      <td>1</td>\n",
       "    </tr>\n",
       "    <tr>\n",
       "      <th>1</th>\n",
       "      <td>462</td>\n",
       "      <td>2</td>\n",
       "    </tr>\n",
       "    <tr>\n",
       "      <th>2</th>\n",
       "      <td>463</td>\n",
       "      <td>3</td>\n",
       "    </tr>\n",
       "    <tr>\n",
       "      <th>3</th>\n",
       "      <td>&lt;NA&gt;</td>\n",
       "      <td>4</td>\n",
       "    </tr>\n",
       "    <tr>\n",
       "      <th>4</th>\n",
       "      <td>&lt;NA&gt;</td>\n",
       "      <td>5</td>\n",
       "    </tr>\n",
       "    <tr>\n",
       "      <th>...</th>\n",
       "      <td>...</td>\n",
       "      <td>...</td>\n",
       "    </tr>\n",
       "    <tr>\n",
       "      <th>80</th>\n",
       "      <td>594</td>\n",
       "      <td>81</td>\n",
       "    </tr>\n",
       "    <tr>\n",
       "      <th>81</th>\n",
       "      <td>595</td>\n",
       "      <td>82</td>\n",
       "    </tr>\n",
       "    <tr>\n",
       "      <th>82</th>\n",
       "      <td>&lt;NA&gt;</td>\n",
       "      <td>83</td>\n",
       "    </tr>\n",
       "    <tr>\n",
       "      <th>83</th>\n",
       "      <td>&lt;NA&gt;</td>\n",
       "      <td>84</td>\n",
       "    </tr>\n",
       "    <tr>\n",
       "      <th>84</th>\n",
       "      <td>&lt;NA&gt;</td>\n",
       "      <td>85</td>\n",
       "    </tr>\n",
       "  </tbody>\n",
       "</table>\n",
       "<p>85 rows × 2 columns</p>\n",
       "</div>"
      ],
      "text/plain": [
       "    residue.id  residue.ix\n",
       "0          461           1\n",
       "1          462           2\n",
       "2          463           3\n",
       "3         <NA>           4\n",
       "4         <NA>           5\n",
       "..         ...         ...\n",
       "80         594          81\n",
       "81         595          82\n",
       "82        <NA>          83\n",
       "83        <NA>          84\n",
       "84        <NA>          85\n",
       "\n",
       "[85 rows x 2 columns]"
      ]
     },
     "execution_count": 22,
     "metadata": {},
     "output_type": "execute_result"
    }
   ],
   "source": [
    "pocket_df.residues"
   ]
  },
  {
   "cell_type": "code",
   "execution_count": 23,
   "metadata": {},
   "outputs": [
    {
     "data": {
      "text/html": [
       "<div>\n",
       "<style scoped>\n",
       "    .dataframe tbody tr th:only-of-type {\n",
       "        vertical-align: middle;\n",
       "    }\n",
       "\n",
       "    .dataframe tbody tr th {\n",
       "        vertical-align: top;\n",
       "    }\n",
       "\n",
       "    .dataframe thead th {\n",
       "        text-align: right;\n",
       "    }\n",
       "</style>\n",
       "<table border=\"1\" class=\"dataframe\">\n",
       "  <thead>\n",
       "    <tr style=\"text-align: right;\">\n",
       "      <th></th>\n",
       "      <th>atom.id</th>\n",
       "      <th>atom.name</th>\n",
       "      <th>atom.x</th>\n",
       "      <th>atom.y</th>\n",
       "      <th>atom.z</th>\n",
       "      <th>residue.id</th>\n",
       "      <th>residue.name</th>\n",
       "    </tr>\n",
       "  </thead>\n",
       "  <tbody>\n",
       "    <tr>\n",
       "      <th>74</th>\n",
       "      <td>75</td>\n",
       "      <td>CA</td>\n",
       "      <td>8.811</td>\n",
       "      <td>16.811001</td>\n",
       "      <td>51.655998</td>\n",
       "      <td>461</td>\n",
       "      <td>GLN</td>\n",
       "    </tr>\n",
       "    <tr>\n",
       "      <th>83</th>\n",
       "      <td>84</td>\n",
       "      <td>CA</td>\n",
       "      <td>8.911</td>\n",
       "      <td>14.914000</td>\n",
       "      <td>48.361000</td>\n",
       "      <td>462</td>\n",
       "      <td>ARG</td>\n",
       "    </tr>\n",
       "    <tr>\n",
       "      <th>88</th>\n",
       "      <td>89</td>\n",
       "      <td>CA</td>\n",
       "      <td>5.484</td>\n",
       "      <td>13.770000</td>\n",
       "      <td>47.174999</td>\n",
       "      <td>463</td>\n",
       "      <td>ILE</td>\n",
       "    </tr>\n",
       "    <tr>\n",
       "      <th>93</th>\n",
       "      <td>94</td>\n",
       "      <td>CA</td>\n",
       "      <td>9.005</td>\n",
       "      <td>12.196000</td>\n",
       "      <td>35.423000</td>\n",
       "      <td>468</td>\n",
       "      <td>PHE</td>\n",
       "    </tr>\n",
       "    <tr>\n",
       "      <th>104</th>\n",
       "      <td>105</td>\n",
       "      <td>CA</td>\n",
       "      <td>10.820</td>\n",
       "      <td>14.702000</td>\n",
       "      <td>37.655998</td>\n",
       "      <td>469</td>\n",
       "      <td>GLY</td>\n",
       "    </tr>\n",
       "    <tr>\n",
       "      <th>...</th>\n",
       "      <td>...</td>\n",
       "      <td>...</td>\n",
       "      <td>...</td>\n",
       "      <td>...</td>\n",
       "      <td>...</td>\n",
       "      <td>...</td>\n",
       "      <td>...</td>\n",
       "    </tr>\n",
       "    <tr>\n",
       "      <th>928</th>\n",
       "      <td>929</td>\n",
       "      <td>CA</td>\n",
       "      <td>-9.359</td>\n",
       "      <td>18.820999</td>\n",
       "      <td>42.319000</td>\n",
       "      <td>584</td>\n",
       "      <td>LEU</td>\n",
       "    </tr>\n",
       "    <tr>\n",
       "      <th>990</th>\n",
       "      <td>991</td>\n",
       "      <td>CA</td>\n",
       "      <td>-4.694</td>\n",
       "      <td>21.469999</td>\n",
       "      <td>35.196999</td>\n",
       "      <td>592</td>\n",
       "      <td>ILE</td>\n",
       "    </tr>\n",
       "    <tr>\n",
       "      <th>998</th>\n",
       "      <td>999</td>\n",
       "      <td>CA</td>\n",
       "      <td>-0.956</td>\n",
       "      <td>20.885000</td>\n",
       "      <td>35.011002</td>\n",
       "      <td>593</td>\n",
       "      <td>GLY</td>\n",
       "    </tr>\n",
       "    <tr>\n",
       "      <th>1002</th>\n",
       "      <td>1003</td>\n",
       "      <td>CA</td>\n",
       "      <td>1.828</td>\n",
       "      <td>18.434000</td>\n",
       "      <td>34.138000</td>\n",
       "      <td>594</td>\n",
       "      <td>ASP</td>\n",
       "    </tr>\n",
       "    <tr>\n",
       "      <th>1010</th>\n",
       "      <td>1011</td>\n",
       "      <td>CA</td>\n",
       "      <td>2.382</td>\n",
       "      <td>19.711000</td>\n",
       "      <td>30.596001</td>\n",
       "      <td>595</td>\n",
       "      <td>PHE</td>\n",
       "    </tr>\n",
       "  </tbody>\n",
       "</table>\n",
       "<p>78 rows × 7 columns</p>\n",
       "</div>"
      ],
      "text/plain": [
       "      atom.id atom.name  atom.x     atom.y     atom.z  residue.id residue.name\n",
       "74         75        CA   8.811  16.811001  51.655998         461          GLN\n",
       "83         84        CA   8.911  14.914000  48.361000         462          ARG\n",
       "88         89        CA   5.484  13.770000  47.174999         463          ILE\n",
       "93         94        CA   9.005  12.196000  35.423000         468          PHE\n",
       "104       105        CA  10.820  14.702000  37.655998         469          GLY\n",
       "...       ...       ...     ...        ...        ...         ...          ...\n",
       "928       929        CA  -9.359  18.820999  42.319000         584          LEU\n",
       "990       991        CA  -4.694  21.469999  35.196999         592          ILE\n",
       "998       999        CA  -0.956  20.885000  35.011002         593          GLY\n",
       "1002     1003        CA   1.828  18.434000  34.138000         594          ASP\n",
       "1010     1011        CA   2.382  19.711000  30.596001         595          PHE\n",
       "\n",
       "[78 rows x 7 columns]"
      ]
     },
     "execution_count": 23,
     "metadata": {},
     "output_type": "execute_result"
    }
   ],
   "source": [
    "pocket_df.ca_atoms"
   ]
  }
 ],
 "metadata": {
  "kernelspec": {
   "display_name": "Python 3",
   "language": "python",
   "name": "python3"
  },
  "language_info": {
   "codemirror_mode": {
    "name": "ipython",
    "version": 3
   },
   "file_extension": ".py",
   "mimetype": "text/x-python",
   "name": "python",
   "nbconvert_exporter": "python",
   "pygments_lexer": "ipython3",
   "version": "3.8.6"
  }
 },
 "nbformat": 4,
 "nbformat_minor": 4
}
