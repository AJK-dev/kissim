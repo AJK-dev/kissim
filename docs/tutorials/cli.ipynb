{
 "cells": [
  {
   "cell_type": "markdown",
   "metadata": {},
   "source": [
    "# The `kissim` CLI\n",
    "\n",
    "Let's take a look at the `kissim` CLI, which is separated into `encode` and `compare` and follows the logic of the `kissim` API:\n",
    "\n",
    "- `encode`: structures > fingerprints\n",
    "- `compare`: fingerprints > feature distances and fingerprint distance per fingerprint pair (all-against-all comparison)"
   ]
  },
  {
   "cell_type": "code",
   "execution_count": null,
   "metadata": {},
   "outputs": [],
   "source": [
    "%load_ext autoreload\n",
    "%autoreload 2"
   ]
  },
  {
   "cell_type": "code",
   "execution_count": 2,
   "metadata": {},
   "outputs": [
    {
     "data": {
      "application/vnd.jupyter.widget-view+json": {
       "model_id": "58fce2b898674fe39a3d4aaafad79f58",
       "version_major": 2,
       "version_minor": 0
      },
      "text/plain": []
     },
     "metadata": {},
     "output_type": "display_data"
    }
   ],
   "source": [
    "from pathlib import Path\n",
    "\n",
    "from kissim.encoding import FingerprintGenerator\n",
    "from kissim.comparison import FeatureDistancesGenerator, FingerprintDistanceGenerator"
   ]
  },
  {
   "cell_type": "code",
   "execution_count": 3,
   "metadata": {},
   "outputs": [],
   "source": [
    "HERE = Path(_dh[-1])"
   ]
  },
  {
   "cell_type": "markdown",
   "metadata": {},
   "source": [
    "## Encode structures into fingerprints"
   ]
  },
  {
   "cell_type": "code",
   "execution_count": 4,
   "metadata": {},
   "outputs": [
    {
     "name": "stdout",
     "output_type": "stream",
     "text": [
      "usage: kissim encode [-h] -i INPUT [INPUT ...] -o OUTPUT [-l LOCAL]\n",
      "                     [-c NCORES]\n",
      "\n",
      "optional arguments:\n",
      "  -h, --help            show this help message and exit\n",
      "  -i INPUT [INPUT ...], --input INPUT [INPUT ...]\n",
      "                        List of structure KLIFS IDs or path to txt file\n",
      "                        containing structure KLIFS IDs.\n",
      "  -o OUTPUT, --output OUTPUT\n",
      "                        Path to output json file containing fingerprint data.\n",
      "  -l LOCAL, --local LOCAL\n",
      "                        Path to KLIFS download folder. If set local KLIFS data\n",
      "                        is used, else remote KLIFS data.\n",
      "  -c NCORES, --ncores NCORES\n",
      "                        Number of cores. If 1 fingerprint generation in\n",
      "                        sequence, else in parallel.\n"
     ]
    }
   ],
   "source": [
    "# flake8-noqa-cell\n",
    "%%bash\n",
    "kissim encode -h"
   ]
  },
  {
   "cell_type": "markdown",
   "metadata": {},
   "source": [
    "### Command"
   ]
  },
  {
   "cell_type": "code",
   "execution_count": 5,
   "metadata": {},
   "outputs": [
    {
     "name": "stderr",
     "output_type": "stream",
     "text": [
      "INFO:opencadd.databases.klifs.api:Set up local session...\n",
      "INFO:opencadd.databases.klifs.local:Load overview.csv...\n",
      "INFO:opencadd.databases.klifs.local:Load KLIFS_export.csv...\n",
      "INFO:opencadd.databases.klifs.local:Merge both csv files...\n",
      "INFO:opencadd.databases.klifs.local:Add paths to coordinate folders to structures...\n",
      "INFO:opencadd.databases.klifs.local:Add KLIFS IDs to structures (uses remote since not available locally!)...\n",
      "INFO:opencadd.databases.klifs.api:Local session is ready!\n",
      "INFO:kissim.encoding.fingerprint_generator:Fingerprint generation started at: 2021-03-15 15:16:03.897699\n",
      "INFO:kissim.encoding.fingerprint_generator:Number of input structures: 16\n",
      "INFO:kissim.utils:Number of cores used: 2.\n",
      "INFO:kissim.encoding.fingerprint_generator:110: Generate fingerprint...\n",
      "INFO:kissim.encoding.fingerprint_generator:109: Generate fingerprint...\n",
      "INFO:kissim.encoding.fingerprint_generator:113: Generate fingerprint...\n",
      "INFO:kissim.encoding.fingerprint_generator:118: Generate fingerprint...\n",
      "INFO:kissim.encoding.fingerprint_generator:111: Generate fingerprint...\n",
      "INFO:kissim.encoding.fingerprint_generator:112: Generate fingerprint...\n",
      "INFO:kissim.encoding.fingerprint_generator:116: Generate fingerprint...\n",
      "INFO:kissim.encoding.fingerprint_generator:114: Generate fingerprint...\n",
      "INFO:kissim.encoding.fingerprint_generator:115: Generate fingerprint...\n",
      "INFO:kissim.encoding.fingerprint_generator:12347: Generate fingerprint...\n",
      "INFO:opencadd.structure.pocket.base:Pocket None (set pocket residues): The following input residues PDB IDs were assigned to the value None because they cannot be cast to an integer (residue PDB ID, residue index): [('_', 4), ('_', 5), ('_', 6), ('_', 7), ('_', 83), ('_', 84), ('_', 85)]\n",
      "INFO:opencadd.structure.pocket.base:Pocket 12347 (set pocket residues): The following input residues PDB IDs were assigned to the value None because they cannot be cast to an integer (residue PDB ID, residue index): [(None, 4), (None, 5), (None, 6), (None, 7), (None, 83), (None, 84), (None, 85)]\n",
      "INFO:opencadd.structure.pocket.core:Pocket 12347: Missing pocket CA atoms. The pocket center is calculated based on 78 CA atoms (total number of pocket residues is 85).\n",
      "INFO:kissim.encoding.fingerprint_generator:1641: Generate fingerprint...\n",
      "INFO:kissim.encoding.fingerprint_generator:117: Generate fingerprint...\n",
      "WARNING:kissim.io.data:117: Local complex.pdb or pocket.pdb file missing: ../../kissim/tests/data/KLIFS_download/HUMAN/ABL2/3gvu_altA_chainA/complex.pdb\n",
      "WARNING:kissim.encoding.fingerprint:117: Empty fingerprint (data unaccessible).\n",
      "INFO:kissim.encoding.fingerprint_generator:2542: Generate fingerprint...\n",
      "INFO:opencadd.structure.pocket.base:Pocket None (set pocket residues): The following input residues PDB IDs were assigned to the value None because they cannot be cast to an integer (residue PDB ID, residue index): [('_', 20), ('_', 21), ('_', 22), ('_', 23), ('_', 24), ('_', 25), ('_', 26)]\n",
      "INFO:kissim.encoding.fingerprint_generator:5399: Generate fingerprint...\n",
      "INFO:opencadd.structure.pocket.base:Pocket None (set pocket residues): The following input residues PDB IDs were assigned to the value None because they cannot be cast to an integer (residue PDB ID, residue index): [('_', 85)]\n",
      "INFO:opencadd.structure.pocket.base:Pocket 2542 (set pocket residues): The following input residues PDB IDs were assigned to the value None because they cannot be cast to an integer (residue PDB ID, residue index): [(None, 20), (None, 21), (None, 22), (None, 23), (None, 24), (None, 25), (None, 26)]\n",
      "INFO:opencadd.structure.pocket.core:Pocket 2542: Missing pocket CA atoms. The pocket center is calculated based on 78 CA atoms (total number of pocket residues is 85).\n",
      "INFO:opencadd.structure.pocket.features.anchor:Pocket 2542 / subpocket dfg_region: Anchor residue None (PDB ID) / 24 (index) and its neighbors are missing - no anchor residue could be set.\n",
      "INFO:kissim.encoding.fingerprint_generator:3833: Generate fingerprint...\n",
      "/home/dominique/.local/miniconda/envs/kissim/lib/python3.8/site-packages/Bio/PDB/PDBParser.py:395: PDBConstructionWarning: Ignoring unrecognized record 'END' at line 2445\n",
      "  warnings.warn(\n",
      "INFO:opencadd.structure.pocket.base:Pocket 5399 (set pocket residues): The following input residues PDB IDs were assigned to the value None because they cannot be cast to an integer (residue PDB ID, residue index): [(None, 85)]\n",
      "INFO:opencadd.structure.pocket.core:Pocket 5399: Missing pocket CA atoms. The pocket center is calculated based on 83 CA atoms (total number of pocket residues is 85).\n",
      "INFO:kissim.encoding.fingerprint_generator:9122: Generate fingerprint...\n",
      "WARNING:kissim.encoding.features.sitealign:9122: Non-standard residue MSE is set to MET.\n",
      "WARNING:kissim.encoding.features.sitealign:9122: Non-standard residue MSE is set to MET.\n",
      "WARNING:kissim.encoding.features.sitealign:9122: Non-standard residue MSE is set to MET.\n",
      "WARNING:kissim.encoding.features.sitealign:9122: Non-standard residue MSE is set to MET.\n",
      "WARNING:kissim.encoding.features.sitealign:9122: Non-standard residue MSE is set to MET.\n",
      "WARNING:kissim.encoding.features.sitealign:9122: Non-standard residue MSE is set to MET.\n",
      "WARNING:kissim.encoding.features.sitealign:9122: Non-standard residue MSE is set to MET.\n",
      "WARNING:kissim.encoding.features.sitealign:9122: Non-standard residue MSE is set to MET.\n",
      "WARNING:kissim.encoding.features.sitealign:9122: Non-standard residue MSE is set to MET.\n",
      "WARNING:kissim.encoding.features.sitealign:9122: Non-standard residue MSE is set to MET.\n",
      "WARNING:kissim.encoding.features.sitealign:9122: Non-standard residue MSE is set to MET.\n",
      "WARNING:kissim.encoding.features.sitealign:9122: Non-standard residue MSE is set to MET.\n",
      "INFO:kissim.encoding.fingerprint_generator:Number of input structures: 16\n",
      "INFO:kissim.encoding.fingerprint_generator:Number of successful fingerprints: 15\n",
      "INFO:kissim.encoding.fingerprint_generator:Runtime: 0:00:15.992453\n",
      "INFO:kissim.api.encode:Write fingerprints to file: fingerprints.json\n"
     ]
    }
   ],
   "source": [
    "# flake8-noqa-cell\n",
    "%%bash\n",
    "kissim encode -i 109 118 110 113 111 116 112 114 115 117 12347 1641 2542 3833 5399 9122 -o fingerprints.json -l ../../kissim/tests/data/KLIFS_download/ -c 2"
   ]
  },
  {
   "cell_type": "markdown",
   "metadata": {},
   "source": [
    "### Output\n",
    "\n",
    "This command generate two files:\n",
    "\n",
    "- `fingerprints.json`\n",
    "- `fingerprint.log`\n",
    "\n",
    "You can load the content of the `fingerprints.json` file as `FingerprintGenerator` object."
   ]
  },
  {
   "cell_type": "code",
   "execution_count": 6,
   "metadata": {},
   "outputs": [
    {
     "data": {
      "text/plain": [
       "PosixPath('/home/dominique/Documents/GitHub/kissim/docs/tutorials/fingerprints.json')"
      ]
     },
     "execution_count": 6,
     "metadata": {},
     "output_type": "execute_result"
    }
   ],
   "source": [
    "fingerprints_path = HERE / \"fingerprints.json\"\n",
    "fingerprints_path"
   ]
  },
  {
   "cell_type": "code",
   "execution_count": 7,
   "metadata": {},
   "outputs": [
    {
     "name": "stdout",
     "output_type": "stream",
     "text": [
      "Number of fingerprints: 15\n"
     ]
    },
    {
     "data": {
      "text/plain": [
       "<kissim.encoding.fingerprint_generator.FingerprintGenerator at 0x7fed84bbd4f0>"
      ]
     },
     "execution_count": 7,
     "metadata": {},
     "output_type": "execute_result"
    }
   ],
   "source": [
    "fingerprint_generator = FingerprintGenerator.from_json(fingerprints_path)\n",
    "print(f\"Number of fingerprints: {len(fingerprint_generator.data.keys())}\")\n",
    "fingerprint_generator"
   ]
  },
  {
   "cell_type": "markdown",
   "metadata": {},
   "source": [
    "## Compare fingerprints"
   ]
  },
  {
   "cell_type": "code",
   "execution_count": 8,
   "metadata": {},
   "outputs": [
    {
     "name": "stdout",
     "output_type": "stream",
     "text": [
      "usage: kissim compare [-h] -i INPUT -o OUTPUT\n",
      "                      [-w WEIGHTS WEIGHTS WEIGHTS WEIGHTS WEIGHTS WEIGHTS WEIGHTS WEIGHTS WEIGHTS WEIGHTS WEIGHTS WEIGHTS WEIGHTS WEIGHTS WEIGHTS]\n",
      "                      [-c NCORES]\n",
      "\n",
      "optional arguments:\n",
      "  -h, --help            show this help message and exit\n",
      "  -i INPUT, --input INPUT\n",
      "                        Path to json file containing fingerprint data.\n",
      "  -o OUTPUT, --output OUTPUT\n",
      "                        Path to output folder where distance json files will\n",
      "                        be saved.\n",
      "  -w WEIGHTS WEIGHTS WEIGHTS WEIGHTS WEIGHTS WEIGHTS WEIGHTS WEIGHTS WEIGHTS WEIGHTS WEIGHTS WEIGHTS WEIGHTS WEIGHTS WEIGHTS, --weights WEIGHTS WEIGHTS WEIGHTS WEIGHTS WEIGHTS WEIGHTS WEIGHTS WEIGHTS WEIGHTS WEIGHTS WEIGHTS WEIGHTS WEIGHTS WEIGHTS WEIGHTS\n",
      "                        Feature weights. Eeach feature must be set\n",
      "                        individually, all weights must sum up to 1.0.\n",
      "  -c NCORES, --ncores NCORES\n",
      "                        Number of cores. If 1 comparison in sequence, else in\n",
      "                        parallel.\n"
     ]
    }
   ],
   "source": [
    "# flake8-noqa-cell\n",
    "%%bash\n",
    "kissim compare -h"
   ]
  },
  {
   "cell_type": "markdown",
   "metadata": {},
   "source": [
    "### Command"
   ]
  },
  {
   "cell_type": "code",
   "execution_count": 9,
   "metadata": {},
   "outputs": [
    {
     "name": "stderr",
     "output_type": "stream",
     "text": [
      "INFO:kissim.comparison.feature_distances_generator:Feature distances generation started at: 2021-03-15 15:16:22.326387\n",
      "INFO:kissim.utils:Number of cores used: 1.\n",
      "INFO:kissim.comparison.feature_distances_generator:Number of feature distances: 105\n",
      "INFO:kissim.comparison.feature_distances_generator:Runtime: 0:00:00.583999\n",
      "INFO:kissim.comparison.fingerprint_distance_generator:Fingerprint distance generation started at: 2021-03-15 15:16:22.912404\n",
      "INFO:kissim.comparison.fingerprint_distance_generator:Calculate pairwise fingerprint distances...\n",
      "INFO:kissim.comparison.fingerprint_distance_generator:Number of cores used: 7\n",
      "INFO:kissim.comparison.fingerprint_distance_generator:Number of fingerprint distances: 105\n",
      "INFO:kissim.comparison.fingerprint_distance_generator:Start: 2021-03-15 15:16:22.912502\n",
      "INFO:kissim.comparison.fingerprint_distance_generator:End: 2021-03-15 15:16:22.939144\n",
      "INFO:kissim.comparison.fingerprint_distance_generator:Number of fingerprint distances: 105\n",
      "INFO:kissim.comparison.fingerprint_distance_generator:Runtime: 0:00:00.027125\n"
     ]
    }
   ],
   "source": [
    "# flake8-noqa-cell\n",
    "%%bash\n",
    "kissim compare -i fingerprints.json -o . -c 1"
   ]
  },
  {
   "cell_type": "markdown",
   "metadata": {},
   "source": [
    "### Output\n",
    "\n",
    "This command generate two files:\n",
    "\n",
    "- `feature_distances.json`\n",
    "- `fingerprint_distances_WEIGHT-WEIGHT-...-WEIGHT.json` (`WEIGHT` refers to the per-feature weight as per-thousand value)\n",
    "\n",
    "You can load the content of \n",
    "\n",
    "- the `feature_distances.json` file as `FeatureDistancesGenerator` object and \n",
    "- the `fingerprint_distances.json` file as `FingerprintDistancesGenerator` object."
   ]
  },
  {
   "cell_type": "markdown",
   "metadata": {},
   "source": [
    "#### Feature distances generator"
   ]
  },
  {
   "cell_type": "code",
   "execution_count": 10,
   "metadata": {},
   "outputs": [
    {
     "data": {
      "text/plain": [
       "PosixPath('/home/dominique/Documents/GitHub/kissim/docs/tutorials/feature_distances.json')"
      ]
     },
     "execution_count": 10,
     "metadata": {},
     "output_type": "execute_result"
    }
   ],
   "source": [
    "feature_distances_path = HERE / Path(\"feature_distances.json\")\n",
    "feature_distances_path"
   ]
  },
  {
   "cell_type": "code",
   "execution_count": 11,
   "metadata": {},
   "outputs": [],
   "source": [
    "feature_distances_generator = FeatureDistancesGenerator.from_json(feature_distances_path)"
   ]
  },
  {
   "cell_type": "code",
   "execution_count": 12,
   "metadata": {},
   "outputs": [
    {
     "data": {
      "text/plain": [
       "{(109,\n",
       "  118): <kissim.comparison.feature_distances.FeatureDistances at 0x7fed86c6f3a0>,\n",
       " (109,\n",
       "  110): <kissim.comparison.feature_distances.FeatureDistances at 0x7fed25ebf880>,\n",
       " (109,\n",
       "  113): <kissim.comparison.feature_distances.FeatureDistances at 0x7fed25ebfca0>,\n",
       " (109,\n",
       "  111): <kissim.comparison.feature_distances.FeatureDistances at 0x7fed25ebf9d0>,\n",
       " (109,\n",
       "  116): <kissim.comparison.feature_distances.FeatureDistances at 0x7fed25ebf940>,\n",
       " (109,\n",
       "  112): <kissim.comparison.feature_distances.FeatureDistances at 0x7fed25ebfb50>,\n",
       " (109,\n",
       "  114): <kissim.comparison.feature_distances.FeatureDistances at 0x7fed25ebfac0>,\n",
       " (109,\n",
       "  115): <kissim.comparison.feature_distances.FeatureDistances at 0x7fed25ebfbb0>,\n",
       " (109,\n",
       "  12347): <kissim.comparison.feature_distances.FeatureDistances at 0x7fed25ebfc10>,\n",
       " (109,\n",
       "  1641): <kissim.comparison.feature_distances.FeatureDistances at 0x7fed25ebf580>,\n",
       " (109,\n",
       "  2542): <kissim.comparison.feature_distances.FeatureDistances at 0x7fed25ebfd00>,\n",
       " (109,\n",
       "  3833): <kissim.comparison.feature_distances.FeatureDistances at 0x7fed25ebfd30>,\n",
       " (109,\n",
       "  5399): <kissim.comparison.feature_distances.FeatureDistances at 0x7fed25ebfdf0>,\n",
       " (109,\n",
       "  9122): <kissim.comparison.feature_distances.FeatureDistances at 0x7fed25ebfe50>,\n",
       " (118,\n",
       "  110): <kissim.comparison.feature_distances.FeatureDistances at 0x7fed25ebfeb0>,\n",
       " (118,\n",
       "  113): <kissim.comparison.feature_distances.FeatureDistances at 0x7fed25ebfee0>,\n",
       " (118,\n",
       "  111): <kissim.comparison.feature_distances.FeatureDistances at 0x7fed25ebff40>,\n",
       " (118,\n",
       "  116): <kissim.comparison.feature_distances.FeatureDistances at 0x7fed25ebffa0>,\n",
       " (118,\n",
       "  112): <kissim.comparison.feature_distances.FeatureDistances at 0x7fed25ebffd0>,\n",
       " (118,\n",
       "  114): <kissim.comparison.feature_distances.FeatureDistances at 0x7fed25ebf520>,\n",
       " (118,\n",
       "  115): <kissim.comparison.feature_distances.FeatureDistances at 0x7fed25ebf5b0>,\n",
       " (118,\n",
       "  12347): <kissim.comparison.feature_distances.FeatureDistances at 0x7fed86c744c0>,\n",
       " (118,\n",
       "  1641): <kissim.comparison.feature_distances.FeatureDistances at 0x7fed86c74550>,\n",
       " (118,\n",
       "  2542): <kissim.comparison.feature_distances.FeatureDistances at 0x7fed86c747f0>,\n",
       " (118,\n",
       "  3833): <kissim.comparison.feature_distances.FeatureDistances at 0x7fed86c745b0>,\n",
       " (118,\n",
       "  5399): <kissim.comparison.feature_distances.FeatureDistances at 0x7fed25f92550>,\n",
       " (118,\n",
       "  9122): <kissim.comparison.feature_distances.FeatureDistances at 0x7fed25f921f0>,\n",
       " (110,\n",
       "  113): <kissim.comparison.feature_distances.FeatureDistances at 0x7fed25f92be0>,\n",
       " (110,\n",
       "  111): <kissim.comparison.feature_distances.FeatureDistances at 0x7fed25f92eb0>,\n",
       " (110,\n",
       "  116): <kissim.comparison.feature_distances.FeatureDistances at 0x7fed25f92250>,\n",
       " (110,\n",
       "  112): <kissim.comparison.feature_distances.FeatureDistances at 0x7fed25f927f0>,\n",
       " (110,\n",
       "  114): <kissim.comparison.feature_distances.FeatureDistances at 0x7fed25f92580>,\n",
       " (110,\n",
       "  115): <kissim.comparison.feature_distances.FeatureDistances at 0x7fed25f92ca0>,\n",
       " (110,\n",
       "  12347): <kissim.comparison.feature_distances.FeatureDistances at 0x7fed25f92e50>,\n",
       " (110,\n",
       "  1641): <kissim.comparison.feature_distances.FeatureDistances at 0x7fed25f92310>,\n",
       " (110,\n",
       "  2542): <kissim.comparison.feature_distances.FeatureDistances at 0x7fed25f92b50>,\n",
       " (110,\n",
       "  3833): <kissim.comparison.feature_distances.FeatureDistances at 0x7fed25f929a0>,\n",
       " (110,\n",
       "  5399): <kissim.comparison.feature_distances.FeatureDistances at 0x7fed25f92bb0>,\n",
       " (110,\n",
       "  9122): <kissim.comparison.feature_distances.FeatureDistances at 0x7fed25f92df0>,\n",
       " (113,\n",
       "  111): <kissim.comparison.feature_distances.FeatureDistances at 0x7fed25f92430>,\n",
       " (113,\n",
       "  116): <kissim.comparison.feature_distances.FeatureDistances at 0x7fed25f92d00>,\n",
       " (113,\n",
       "  112): <kissim.comparison.feature_distances.FeatureDistances at 0x7fed25f92a00>,\n",
       " (113,\n",
       "  114): <kissim.comparison.feature_distances.FeatureDistances at 0x7fed25f92b80>,\n",
       " (113,\n",
       "  115): <kissim.comparison.feature_distances.FeatureDistances at 0x7fed25f926d0>,\n",
       " (113,\n",
       "  12347): <kissim.comparison.feature_distances.FeatureDistances at 0x7fed25f92f10>,\n",
       " (113,\n",
       "  1641): <kissim.comparison.feature_distances.FeatureDistances at 0x7fed25f92e80>,\n",
       " (113,\n",
       "  2542): <kissim.comparison.feature_distances.FeatureDistances at 0x7fed25e78040>,\n",
       " (113,\n",
       "  3833): <kissim.comparison.feature_distances.FeatureDistances at 0x7fed25e780a0>,\n",
       " (113,\n",
       "  5399): <kissim.comparison.feature_distances.FeatureDistances at 0x7fed25e78100>,\n",
       " (113,\n",
       "  9122): <kissim.comparison.feature_distances.FeatureDistances at 0x7fed25e78160>,\n",
       " (111,\n",
       "  116): <kissim.comparison.feature_distances.FeatureDistances at 0x7fed25e781c0>,\n",
       " (111,\n",
       "  112): <kissim.comparison.feature_distances.FeatureDistances at 0x7fed25e78220>,\n",
       " (111,\n",
       "  114): <kissim.comparison.feature_distances.FeatureDistances at 0x7fed25e78280>,\n",
       " (111,\n",
       "  115): <kissim.comparison.feature_distances.FeatureDistances at 0x7fed25e782e0>,\n",
       " (111,\n",
       "  12347): <kissim.comparison.feature_distances.FeatureDistances at 0x7fed25e78340>,\n",
       " (111,\n",
       "  1641): <kissim.comparison.feature_distances.FeatureDistances at 0x7fed25e783a0>,\n",
       " (111,\n",
       "  2542): <kissim.comparison.feature_distances.FeatureDistances at 0x7fed25e78400>,\n",
       " (111,\n",
       "  3833): <kissim.comparison.feature_distances.FeatureDistances at 0x7fed25e78460>,\n",
       " (111,\n",
       "  5399): <kissim.comparison.feature_distances.FeatureDistances at 0x7fed25e784c0>,\n",
       " (111,\n",
       "  9122): <kissim.comparison.feature_distances.FeatureDistances at 0x7fed25e78520>,\n",
       " (116,\n",
       "  112): <kissim.comparison.feature_distances.FeatureDistances at 0x7fed25e78580>,\n",
       " (116,\n",
       "  114): <kissim.comparison.feature_distances.FeatureDistances at 0x7fed25e785e0>,\n",
       " (116,\n",
       "  115): <kissim.comparison.feature_distances.FeatureDistances at 0x7fed25e78640>,\n",
       " (116,\n",
       "  12347): <kissim.comparison.feature_distances.FeatureDistances at 0x7fed25e786a0>,\n",
       " (116,\n",
       "  1641): <kissim.comparison.feature_distances.FeatureDistances at 0x7fed25e78700>,\n",
       " (116,\n",
       "  2542): <kissim.comparison.feature_distances.FeatureDistances at 0x7fed25e78760>,\n",
       " (116,\n",
       "  3833): <kissim.comparison.feature_distances.FeatureDistances at 0x7fed25e787c0>,\n",
       " (116,\n",
       "  5399): <kissim.comparison.feature_distances.FeatureDistances at 0x7fed25e78820>,\n",
       " (116,\n",
       "  9122): <kissim.comparison.feature_distances.FeatureDistances at 0x7fed25e78880>,\n",
       " (112,\n",
       "  114): <kissim.comparison.feature_distances.FeatureDistances at 0x7fed25e788e0>,\n",
       " (112,\n",
       "  115): <kissim.comparison.feature_distances.FeatureDistances at 0x7fed25e78940>,\n",
       " (112,\n",
       "  12347): <kissim.comparison.feature_distances.FeatureDistances at 0x7fed25e789a0>,\n",
       " (112,\n",
       "  1641): <kissim.comparison.feature_distances.FeatureDistances at 0x7fed25e78a00>,\n",
       " (112,\n",
       "  2542): <kissim.comparison.feature_distances.FeatureDistances at 0x7fed25e78a60>,\n",
       " (112,\n",
       "  3833): <kissim.comparison.feature_distances.FeatureDistances at 0x7fed25e78ac0>,\n",
       " (112,\n",
       "  5399): <kissim.comparison.feature_distances.FeatureDistances at 0x7fed25e78b20>,\n",
       " (112,\n",
       "  9122): <kissim.comparison.feature_distances.FeatureDistances at 0x7fed25e78b80>,\n",
       " (114,\n",
       "  115): <kissim.comparison.feature_distances.FeatureDistances at 0x7fed25e78be0>,\n",
       " (114,\n",
       "  12347): <kissim.comparison.feature_distances.FeatureDistances at 0x7fed25e78c40>,\n",
       " (114,\n",
       "  1641): <kissim.comparison.feature_distances.FeatureDistances at 0x7fed25e78ca0>,\n",
       " (114,\n",
       "  2542): <kissim.comparison.feature_distances.FeatureDistances at 0x7fed25e78d00>,\n",
       " (114,\n",
       "  3833): <kissim.comparison.feature_distances.FeatureDistances at 0x7fed25e78d60>,\n",
       " (114,\n",
       "  5399): <kissim.comparison.feature_distances.FeatureDistances at 0x7fed25e78dc0>,\n",
       " (114,\n",
       "  9122): <kissim.comparison.feature_distances.FeatureDistances at 0x7fed25e78e20>,\n",
       " (115,\n",
       "  12347): <kissim.comparison.feature_distances.FeatureDistances at 0x7fed25e78e80>,\n",
       " (115,\n",
       "  1641): <kissim.comparison.feature_distances.FeatureDistances at 0x7fed25e78ee0>,\n",
       " (115,\n",
       "  2542): <kissim.comparison.feature_distances.FeatureDistances at 0x7fed25e78f40>,\n",
       " (115,\n",
       "  3833): <kissim.comparison.feature_distances.FeatureDistances at 0x7fed25e78fa0>,\n",
       " (115,\n",
       "  5399): <kissim.comparison.feature_distances.FeatureDistances at 0x7fed25e7d040>,\n",
       " (115,\n",
       "  9122): <kissim.comparison.feature_distances.FeatureDistances at 0x7fed25e7d0a0>,\n",
       " (12347,\n",
       "  1641): <kissim.comparison.feature_distances.FeatureDistances at 0x7fed25e7d100>,\n",
       " (12347,\n",
       "  2542): <kissim.comparison.feature_distances.FeatureDistances at 0x7fed25e7d160>,\n",
       " (12347,\n",
       "  3833): <kissim.comparison.feature_distances.FeatureDistances at 0x7fed25e7d1c0>,\n",
       " (12347,\n",
       "  5399): <kissim.comparison.feature_distances.FeatureDistances at 0x7fed25e7d220>,\n",
       " (12347,\n",
       "  9122): <kissim.comparison.feature_distances.FeatureDistances at 0x7fed25e7d280>,\n",
       " (1641,\n",
       "  2542): <kissim.comparison.feature_distances.FeatureDistances at 0x7fed25e7d2e0>,\n",
       " (1641,\n",
       "  3833): <kissim.comparison.feature_distances.FeatureDistances at 0x7fed25e7d340>,\n",
       " (1641,\n",
       "  5399): <kissim.comparison.feature_distances.FeatureDistances at 0x7fed25e7d3a0>,\n",
       " (1641,\n",
       "  9122): <kissim.comparison.feature_distances.FeatureDistances at 0x7fed25e7d400>,\n",
       " (2542,\n",
       "  3833): <kissim.comparison.feature_distances.FeatureDistances at 0x7fed25e7d460>,\n",
       " (2542,\n",
       "  5399): <kissim.comparison.feature_distances.FeatureDistances at 0x7fed25e7d4c0>,\n",
       " (2542,\n",
       "  9122): <kissim.comparison.feature_distances.FeatureDistances at 0x7fed25e7d520>,\n",
       " (3833,\n",
       "  5399): <kissim.comparison.feature_distances.FeatureDistances at 0x7fed25e7d580>,\n",
       " (3833,\n",
       "  9122): <kissim.comparison.feature_distances.FeatureDistances at 0x7fed25e7d5e0>,\n",
       " (5399,\n",
       "  9122): <kissim.comparison.feature_distances.FeatureDistances at 0x7fed25e7d640>}"
      ]
     },
     "execution_count": 12,
     "metadata": {},
     "output_type": "execute_result"
    }
   ],
   "source": [
    "feature_distances_generator.data"
   ]
  },
  {
   "cell_type": "markdown",
   "metadata": {},
   "source": [
    "#### Fingerprint distance generator"
   ]
  },
  {
   "cell_type": "code",
   "execution_count": 13,
   "metadata": {},
   "outputs": [
    {
     "data": {
      "text/plain": [
       "PosixPath('/home/dominique/Documents/GitHub/kissim/docs/tutorials/fingerprint_distances_66-66-66-66-66-66-66-66-66-66-66-66-66-66-66.json')"
      ]
     },
     "execution_count": 13,
     "metadata": {},
     "output_type": "execute_result"
    }
   ],
   "source": [
    "fingerprint_distance_path = list(HERE.glob(\"fingerprint_distances_*.json\"))[0]\n",
    "fingerprint_distance_path"
   ]
  },
  {
   "cell_type": "code",
   "execution_count": 14,
   "metadata": {},
   "outputs": [],
   "source": [
    "fingerprint_distance_generator = FingerprintDistanceGenerator.from_json(fingerprint_distance_path)"
   ]
  },
  {
   "cell_type": "code",
   "execution_count": 15,
   "metadata": {},
   "outputs": [
    {
     "data": {
      "text/html": [
       "<div>\n",
       "<style scoped>\n",
       "    .dataframe tbody tr th:only-of-type {\n",
       "        vertical-align: middle;\n",
       "    }\n",
       "\n",
       "    .dataframe tbody tr th {\n",
       "        vertical-align: top;\n",
       "    }\n",
       "\n",
       "    .dataframe thead th {\n",
       "        text-align: right;\n",
       "    }\n",
       "</style>\n",
       "<table border=\"1\" class=\"dataframe\">\n",
       "  <thead>\n",
       "    <tr style=\"text-align: right;\">\n",
       "      <th></th>\n",
       "      <th>structure1</th>\n",
       "      <th>structure2</th>\n",
       "      <th>kinase1</th>\n",
       "      <th>kinase2</th>\n",
       "      <th>distance</th>\n",
       "      <th>coverage</th>\n",
       "    </tr>\n",
       "  </thead>\n",
       "  <tbody>\n",
       "    <tr>\n",
       "      <th>0</th>\n",
       "      <td>109</td>\n",
       "      <td>118</td>\n",
       "      <td>ABL2</td>\n",
       "      <td>ABL2</td>\n",
       "      <td>0.074214</td>\n",
       "      <td>0.992000</td>\n",
       "    </tr>\n",
       "    <tr>\n",
       "      <th>1</th>\n",
       "      <td>109</td>\n",
       "      <td>110</td>\n",
       "      <td>ABL2</td>\n",
       "      <td>ABL2</td>\n",
       "      <td>0.061968</td>\n",
       "      <td>0.986667</td>\n",
       "    </tr>\n",
       "    <tr>\n",
       "      <th>2</th>\n",
       "      <td>109</td>\n",
       "      <td>113</td>\n",
       "      <td>ABL2</td>\n",
       "      <td>ABL2</td>\n",
       "      <td>0.064064</td>\n",
       "      <td>0.984000</td>\n",
       "    </tr>\n",
       "    <tr>\n",
       "      <th>3</th>\n",
       "      <td>109</td>\n",
       "      <td>111</td>\n",
       "      <td>ABL2</td>\n",
       "      <td>ABL2</td>\n",
       "      <td>0.064064</td>\n",
       "      <td>0.984000</td>\n",
       "    </tr>\n",
       "    <tr>\n",
       "      <th>4</th>\n",
       "      <td>109</td>\n",
       "      <td>116</td>\n",
       "      <td>ABL2</td>\n",
       "      <td>ABL2</td>\n",
       "      <td>0.058630</td>\n",
       "      <td>0.978000</td>\n",
       "    </tr>\n",
       "    <tr>\n",
       "      <th>...</th>\n",
       "      <td>...</td>\n",
       "      <td>...</td>\n",
       "      <td>...</td>\n",
       "      <td>...</td>\n",
       "      <td>...</td>\n",
       "      <td>...</td>\n",
       "    </tr>\n",
       "    <tr>\n",
       "      <th>100</th>\n",
       "      <td>2542</td>\n",
       "      <td>5399</td>\n",
       "      <td>AKT1</td>\n",
       "      <td>ALK</td>\n",
       "      <td>0.340086</td>\n",
       "      <td>0.800667</td>\n",
       "    </tr>\n",
       "    <tr>\n",
       "      <th>101</th>\n",
       "      <td>2542</td>\n",
       "      <td>9122</td>\n",
       "      <td>AKT1</td>\n",
       "      <td>ADCK3</td>\n",
       "      <td>0.420406</td>\n",
       "      <td>0.814000</td>\n",
       "    </tr>\n",
       "    <tr>\n",
       "      <th>102</th>\n",
       "      <td>3833</td>\n",
       "      <td>5399</td>\n",
       "      <td>AAK1</td>\n",
       "      <td>ALK</td>\n",
       "      <td>0.267515</td>\n",
       "      <td>0.976667</td>\n",
       "    </tr>\n",
       "    <tr>\n",
       "      <th>103</th>\n",
       "      <td>3833</td>\n",
       "      <td>9122</td>\n",
       "      <td>AAK1</td>\n",
       "      <td>ADCK3</td>\n",
       "      <td>0.303542</td>\n",
       "      <td>0.990000</td>\n",
       "    </tr>\n",
       "    <tr>\n",
       "      <th>104</th>\n",
       "      <td>5399</td>\n",
       "      <td>9122</td>\n",
       "      <td>ALK</td>\n",
       "      <td>ADCK3</td>\n",
       "      <td>0.328649</td>\n",
       "      <td>0.978000</td>\n",
       "    </tr>\n",
       "  </tbody>\n",
       "</table>\n",
       "<p>105 rows × 6 columns</p>\n",
       "</div>"
      ],
      "text/plain": [
       "     structure1  structure2 kinase1 kinase2  distance  coverage\n",
       "0           109         118    ABL2    ABL2  0.074214  0.992000\n",
       "1           109         110    ABL2    ABL2  0.061968  0.986667\n",
       "2           109         113    ABL2    ABL2  0.064064  0.984000\n",
       "3           109         111    ABL2    ABL2  0.064064  0.984000\n",
       "4           109         116    ABL2    ABL2  0.058630  0.978000\n",
       "..          ...         ...     ...     ...       ...       ...\n",
       "100        2542        5399    AKT1     ALK  0.340086  0.800667\n",
       "101        2542        9122    AKT1   ADCK3  0.420406  0.814000\n",
       "102        3833        5399    AAK1     ALK  0.267515  0.976667\n",
       "103        3833        9122    AAK1   ADCK3  0.303542  0.990000\n",
       "104        5399        9122     ALK   ADCK3  0.328649  0.978000\n",
       "\n",
       "[105 rows x 6 columns]"
      ]
     },
     "execution_count": 15,
     "metadata": {},
     "output_type": "execute_result"
    }
   ],
   "source": [
    "fingerprint_distance_generator.data"
   ]
  },
  {
   "cell_type": "markdown",
   "metadata": {},
   "source": [
    "## Clean up output files"
   ]
  },
  {
   "cell_type": "code",
   "execution_count": 16,
   "metadata": {},
   "outputs": [
    {
     "data": {
      "text/plain": [
       "[None, None]"
      ]
     },
     "execution_count": 16,
     "metadata": {},
     "output_type": "execute_result"
    }
   ],
   "source": [
    "[i.unlink() for i in HERE.glob(\"*.json\")]\n",
    "[i.unlink() for i in HERE.glob(\"*.log\")]"
   ]
  }
 ],
 "metadata": {
  "kernelspec": {
   "display_name": "Python 3",
   "language": "python",
   "name": "python3"
  },
  "language_info": {
   "codemirror_mode": {
    "name": "ipython",
    "version": 3
   },
   "file_extension": ".py",
   "mimetype": "text/x-python",
   "name": "python",
   "nbconvert_exporter": "python",
   "pygments_lexer": "ipython3",
   "version": "3.8.6"
  }
 },
 "nbformat": 4,
 "nbformat_minor": 4
}