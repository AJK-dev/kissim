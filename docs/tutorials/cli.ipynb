{
 "cells": [
  {
   "cell_type": "markdown",
   "metadata": {},
   "source": [
    "# The `kissim` CLI\n",
    "\n",
    "Let's take a look at the `kissim` CLI, which is separated into `encode` and `compare` and follows the logic of the `kissim` API:\n",
    "\n",
    "- `encode`: structures > fingerprints\n",
    "- `compare`: fingerprints > feature distances and fingerprint distance per fingerprint pair (all-against-all comparison)"
   ]
  },
  {
   "cell_type": "code",
   "execution_count": 1,
   "metadata": {},
   "outputs": [],
   "source": [
    "%load_ext autoreload\n",
    "%autoreload 2"
   ]
  },
  {
   "cell_type": "code",
   "execution_count": 2,
   "metadata": {},
   "outputs": [
    {
     "data": {
      "application/vnd.jupyter.widget-view+json": {
       "model_id": "b3b5532cdd5044d78a1fffe4a69799c1",
       "version_major": 2,
       "version_minor": 0
      },
      "text/plain": []
     },
     "metadata": {},
     "output_type": "display_data"
    }
   ],
   "source": [
    "from pathlib import Path\n",
    "\n",
    "from kissim.encoding import FingerprintGenerator\n",
    "from kissim.comparison import FeatureDistancesGenerator, FingerprintDistanceGenerator"
   ]
  },
  {
   "cell_type": "code",
   "execution_count": 3,
   "metadata": {},
   "outputs": [],
   "source": [
    "HERE = Path(_dh[-1])"
   ]
  },
  {
   "cell_type": "markdown",
   "metadata": {},
   "source": [
    "## Encode structures into fingerprints"
   ]
  },
  {
   "cell_type": "code",
   "execution_count": 4,
   "metadata": {},
   "outputs": [
    {
     "name": "stdout",
     "output_type": "stream",
     "text": [
      "usage: kissim encode [-h] -i INPUT [INPUT ...] -o OUTPUT [-l LOCAL]\n",
      "                     [-c NCORES]\n",
      "\n",
      "optional arguments:\n",
      "  -h, --help            show this help message and exit\n",
      "  -i INPUT [INPUT ...], --input INPUT [INPUT ...]\n",
      "                        List of structure KLIFS IDs or path to txt file\n",
      "                        containing structure KLIFS IDs.\n",
      "  -o OUTPUT, --output OUTPUT\n",
      "                        Path to output json file containing fingerprint data.\n",
      "  -l LOCAL, --local LOCAL\n",
      "                        Path to KLIFS download folder. If set local KLIFS data\n",
      "                        is used, else remote KLIFS data.\n",
      "  -c NCORES, --ncores NCORES\n",
      "                        Number of cores. If 1 fingerprint generation in\n",
      "                        sequence, else in parallel.\n"
     ]
    }
   ],
   "source": [
    "%%bash\n",
    "kissim encode -h\n",
    "# flake8-noqa-cell"
   ]
  },
  {
   "cell_type": "markdown",
   "metadata": {},
   "source": [
    "### Command"
   ]
  },
  {
   "cell_type": "code",
   "execution_count": 5,
   "metadata": {},
   "outputs": [
    {
     "name": "stderr",
     "output_type": "stream",
     "text": [
      "INFO:opencadd.databases.klifs.api:Set up local session...\n",
      "INFO:opencadd.databases.klifs.local:Load overview.csv...\n",
      "INFO:opencadd.databases.klifs.local:Load KLIFS_export.csv...\n",
      "INFO:opencadd.databases.klifs.local:Merge both csv files...\n",
      "INFO:opencadd.databases.klifs.local:Add paths to coordinate folders to structures...\n",
      "INFO:opencadd.databases.klifs.local:Add KLIFS IDs to structures (uses remote since not available locally!)...\n",
      "INFO:opencadd.databases.klifs.api:Local session is ready!\n",
      "INFO:kissim.encoding.fingerprint_generator:GENERATE FINGERPRINTS\n",
      "INFO:kissim.encoding.fingerprint_generator:Number of input structures: 16\n",
      "INFO:kissim.encoding.fingerprint_generator:Fingerprint generation started at: 2021-03-18 13:52:16.080596\n",
      "INFO:kissim.utils:Number of cores used: 2.\n",
      "INFO:kissim.encoding.fingerprint_generator:109: Generate fingerprint...\n",
      "INFO:kissim.encoding.fingerprint_generator:110: Generate fingerprint...\n",
      "INFO:kissim.encoding.fingerprint_generator:113: Generate fingerprint...\n",
      "INFO:kissim.encoding.fingerprint_generator:118: Generate fingerprint...\n",
      "INFO:kissim.encoding.fingerprint_generator:111: Generate fingerprint...\n",
      "INFO:kissim.encoding.fingerprint_generator:112: Generate fingerprint...\n",
      "INFO:kissim.encoding.fingerprint_generator:116: Generate fingerprint...\n",
      "INFO:kissim.encoding.fingerprint_generator:114: Generate fingerprint...\n",
      "INFO:kissim.encoding.fingerprint_generator:115: Generate fingerprint...\n",
      "INFO:kissim.encoding.fingerprint_generator:12347: Generate fingerprint...\n",
      "INFO:opencadd.structure.pocket.base:Pocket None (set pocket residues): The following input residues PDB IDs were assigned to the value None because they cannot be cast to an integer (residue PDB ID, residue index): [('_', 4), ('_', 5), ('_', 6), ('_', 7), ('_', 83), ('_', 84), ('_', 85)]\n",
      "INFO:kissim.encoding.fingerprint_generator:117: Generate fingerprint...\n",
      "WARNING:kissim.io.data:117: Local complex.pdb or pocket.pdb file missing: ../../kissim/tests/data/KLIFS_download/HUMAN/ABL2/3gvu_altA_chainA/complex.pdb\n",
      "WARNING:kissim.encoding.fingerprint:117: Empty fingerprint (data unaccessible).\n",
      "INFO:kissim.encoding.fingerprint_generator:2542: Generate fingerprint...\n",
      "INFO:opencadd.structure.pocket.base:Pocket None (set pocket residues): The following input residues PDB IDs were assigned to the value None because they cannot be cast to an integer (residue PDB ID, residue index): [('_', 20), ('_', 21), ('_', 22), ('_', 23), ('_', 24), ('_', 25), ('_', 26)]\n",
      "INFO:opencadd.structure.pocket.base:Pocket 12347 (set pocket residues): The following input residues PDB IDs were assigned to the value None because they cannot be cast to an integer (residue PDB ID, residue index): [(None, 4), (None, 5), (None, 6), (None, 7), (None, 83), (None, 84), (None, 85)]\n",
      "INFO:opencadd.structure.pocket.core:Pocket 12347: Missing pocket CA atoms. The pocket center is calculated based on 78 CA atoms (total number of pocket residues is 85).\n",
      "INFO:kissim.encoding.fingerprint_generator:1641: Generate fingerprint...\n",
      "INFO:kissim.encoding.fingerprint_generator:5399: Generate fingerprint...\n",
      "INFO:opencadd.structure.pocket.base:Pocket None (set pocket residues): The following input residues PDB IDs were assigned to the value None because they cannot be cast to an integer (residue PDB ID, residue index): [('_', 85)]\n",
      "INFO:opencadd.structure.pocket.base:Pocket 2542 (set pocket residues): The following input residues PDB IDs were assigned to the value None because they cannot be cast to an integer (residue PDB ID, residue index): [(None, 20), (None, 21), (None, 22), (None, 23), (None, 24), (None, 25), (None, 26)]\n",
      "INFO:opencadd.structure.pocket.core:Pocket 2542: Missing pocket CA atoms. The pocket center is calculated based on 78 CA atoms (total number of pocket residues is 85).\n",
      "INFO:opencadd.structure.pocket.features.anchor:Pocket 2542 / subpocket dfg_region: Anchor residue None (PDB ID) / 24 (index) and its neighbors are missing - no anchor residue could be set.\n",
      "INFO:kissim.encoding.fingerprint_generator:3833: Generate fingerprint...\n",
      "/home/dominique/.local/miniconda/envs/kissim/lib/python3.8/site-packages/Bio/PDB/PDBParser.py:395: PDBConstructionWarning: Ignoring unrecognized record 'END' at line 2445\n",
      "  warnings.warn(\n",
      "INFO:opencadd.structure.pocket.base:Pocket 5399 (set pocket residues): The following input residues PDB IDs were assigned to the value None because they cannot be cast to an integer (residue PDB ID, residue index): [(None, 85)]\n",
      "INFO:opencadd.structure.pocket.core:Pocket 5399: Missing pocket CA atoms. The pocket center is calculated based on 83 CA atoms (total number of pocket residues is 85).\n",
      "INFO:kissim.encoding.fingerprint_generator:9122: Generate fingerprint...\n",
      "INFO:kissim.encoding.fingerprint_generator:Number of output fingerprints: 15\n",
      "INFO:kissim.encoding.fingerprint_generator:Runtime: 0:00:18.480412\n",
      "INFO:kissim.api.encode:Write fingerprints to file: fingerprints.json\n"
     ]
    }
   ],
   "source": [
    "%%bash\n",
    "kissim encode -i 109 118 110 113 111 116 112 114 115 117 12347 1641 2542 3833 5399 9122 -o fingerprints.json -l ../../kissim/tests/data/KLIFS_download/ -c 2\n",
    "# flake8-noqa-cell"
   ]
  },
  {
   "cell_type": "markdown",
   "metadata": {},
   "source": [
    "### Output\n",
    "\n",
    "This command generate two files:\n",
    "\n",
    "- `fingerprints.json`\n",
    "- `fingerprint.log`\n",
    "\n",
    "You can load the content of the `fingerprints.json` file as `FingerprintGenerator` object."
   ]
  },
  {
   "cell_type": "code",
   "execution_count": 6,
   "metadata": {},
   "outputs": [
    {
     "data": {
      "text/plain": [
       "PosixPath('/home/dominique/Documents/GitHub/kissim/docs/tutorials/fingerprints.json')"
      ]
     },
     "execution_count": 6,
     "metadata": {},
     "output_type": "execute_result"
    }
   ],
   "source": [
    "fingerprints_path = HERE / \"fingerprints.json\"\n",
    "fingerprints_path"
   ]
  },
  {
   "cell_type": "code",
   "execution_count": 7,
   "metadata": {},
   "outputs": [
    {
     "name": "stdout",
     "output_type": "stream",
     "text": [
      "Number of fingerprints: 15\n"
     ]
    },
    {
     "data": {
      "text/plain": [
       "<kissim.encoding.fingerprint_generator.FingerprintGenerator at 0x7fad83f5de50>"
      ]
     },
     "execution_count": 7,
     "metadata": {},
     "output_type": "execute_result"
    }
   ],
   "source": [
    "fingerprint_generator = FingerprintGenerator.from_json(fingerprints_path)\n",
    "print(f\"Number of fingerprints: {len(fingerprint_generator.data.keys())}\")\n",
    "fingerprint_generator"
   ]
  },
  {
   "cell_type": "markdown",
   "metadata": {},
   "source": [
    "## Compare fingerprints"
   ]
  },
  {
   "cell_type": "code",
   "execution_count": 8,
   "metadata": {},
   "outputs": [
    {
     "name": "stdout",
     "output_type": "stream",
     "text": [
      "usage: kissim compare [-h] -i INPUT -o OUTPUT\n",
      "                      [-w WEIGHTS WEIGHTS WEIGHTS WEIGHTS WEIGHTS WEIGHTS WEIGHTS WEIGHTS WEIGHTS WEIGHTS WEIGHTS WEIGHTS WEIGHTS WEIGHTS WEIGHTS]\n",
      "                      [-c NCORES]\n",
      "\n",
      "optional arguments:\n",
      "  -h, --help            show this help message and exit\n",
      "  -i INPUT, --input INPUT\n",
      "                        Path to json file containing fingerprint data.\n",
      "  -o OUTPUT, --output OUTPUT\n",
      "                        Path to output folder where distance json files will\n",
      "                        be saved.\n",
      "  -w WEIGHTS WEIGHTS WEIGHTS WEIGHTS WEIGHTS WEIGHTS WEIGHTS WEIGHTS WEIGHTS WEIGHTS WEIGHTS WEIGHTS WEIGHTS WEIGHTS WEIGHTS, --weights WEIGHTS WEIGHTS WEIGHTS WEIGHTS WEIGHTS WEIGHTS WEIGHTS WEIGHTS WEIGHTS WEIGHTS WEIGHTS WEIGHTS WEIGHTS WEIGHTS WEIGHTS\n",
      "                        Feature weights. Eeach feature must be set\n",
      "                        individually, all weights must sum up to 1.0.\n",
      "  -c NCORES, --ncores NCORES\n",
      "                        Number of cores. If 1 comparison in sequence, else in\n",
      "                        parallel.\n"
     ]
    }
   ],
   "source": [
    "%%bash\n",
    "kissim compare -h\n",
    "# flake8-noqa-cell"
   ]
  },
  {
   "cell_type": "markdown",
   "metadata": {},
   "source": [
    "### Command"
   ]
  },
  {
   "cell_type": "code",
   "execution_count": 9,
   "metadata": {},
   "outputs": [
    {
     "name": "stderr",
     "output_type": "stream",
     "text": [
      "INFO:kissim.comparison.feature_distances_generator:GENERATE FEATURE DISTANCES\n",
      "INFO:kissim.comparison.feature_distances_generator:Number of input input fingerprints: 15\n",
      "INFO:kissim.comparison.feature_distances_generator:Feature distances generation started at: 2021-03-18 13:52:37.184116\n",
      "INFO:kissim.utils:Number of cores used: 2.\n",
      "INFO:kissim.comparison.feature_distances_generator:Number of ouput feature distances: 105\n",
      "INFO:kissim.comparison.feature_distances_generator:Runtime: 0:00:00.349742\n",
      "Traceback (most recent call last):\n",
      "  File \"/home/dominique/.local/miniconda/envs/kissim/bin/kissim\", line 33, in <module>\n",
      "    sys.exit(load_entry_point('kissim', 'console_scripts', 'kissim')())\n",
      "  File \"/home/dominique/Documents/GitHub/kissim/kissim/cli/main.py\", line 101, in main\n",
      "    args.func(args)\n",
      "  File \"/home/dominique/Documents/GitHub/kissim/kissim/cli/compare.py\", line 24, in compare_from_cli\n",
      "    compare(fingerprint_generator, args.output, args.ncores, args.weights)\n",
      "  File \"/home/dominique/Documents/GitHub/kissim/kissim/api/compare.py\", line 72, in compare\n",
      "    fingerprint_distance_generator = weight_feature_distances(\n",
      "TypeError: weight_feature_distances() takes from 1 to 3 positional arguments but 4 were given\n"
     ]
    },
    {
     "ename": "CalledProcessError",
     "evalue": "Command 'b'kissim compare -i fingerprints.json -o . -c 2\\n# flake8-noqa-cell\\n'' returned non-zero exit status 1.",
     "output_type": "error",
     "traceback": [
      "\u001b[0;31m---------------------------------------------------------------------------\u001b[0m",
      "\u001b[0;31mCalledProcessError\u001b[0m                        Traceback (most recent call last)",
      "\u001b[0;32m<ipython-input-9-f20d476dc25a>\u001b[0m in \u001b[0;36m<module>\u001b[0;34m\u001b[0m\n\u001b[0;32m----> 1\u001b[0;31m \u001b[0mget_ipython\u001b[0m\u001b[0;34m(\u001b[0m\u001b[0;34m)\u001b[0m\u001b[0;34m.\u001b[0m\u001b[0mrun_cell_magic\u001b[0m\u001b[0;34m(\u001b[0m\u001b[0;34m'bash'\u001b[0m\u001b[0;34m,\u001b[0m \u001b[0;34m''\u001b[0m\u001b[0;34m,\u001b[0m \u001b[0;34m'kissim compare -i fingerprints.json -o . -c 2\\n# flake8-noqa-cell\\n'\u001b[0m\u001b[0;34m)\u001b[0m\u001b[0;34m\u001b[0m\u001b[0;34m\u001b[0m\u001b[0m\n\u001b[0m",
      "\u001b[0;32m~/.local/miniconda/envs/kissim/lib/python3.8/site-packages/IPython/core/interactiveshell.py\u001b[0m in \u001b[0;36mrun_cell_magic\u001b[0;34m(self, magic_name, line, cell)\u001b[0m\n\u001b[1;32m   2380\u001b[0m             \u001b[0;32mwith\u001b[0m \u001b[0mself\u001b[0m\u001b[0;34m.\u001b[0m\u001b[0mbuiltin_trap\u001b[0m\u001b[0;34m:\u001b[0m\u001b[0;34m\u001b[0m\u001b[0;34m\u001b[0m\u001b[0m\n\u001b[1;32m   2381\u001b[0m                 \u001b[0margs\u001b[0m \u001b[0;34m=\u001b[0m \u001b[0;34m(\u001b[0m\u001b[0mmagic_arg_s\u001b[0m\u001b[0;34m,\u001b[0m \u001b[0mcell\u001b[0m\u001b[0;34m)\u001b[0m\u001b[0;34m\u001b[0m\u001b[0;34m\u001b[0m\u001b[0m\n\u001b[0;32m-> 2382\u001b[0;31m                 \u001b[0mresult\u001b[0m \u001b[0;34m=\u001b[0m \u001b[0mfn\u001b[0m\u001b[0;34m(\u001b[0m\u001b[0;34m*\u001b[0m\u001b[0margs\u001b[0m\u001b[0;34m,\u001b[0m \u001b[0;34m**\u001b[0m\u001b[0mkwargs\u001b[0m\u001b[0;34m)\u001b[0m\u001b[0;34m\u001b[0m\u001b[0;34m\u001b[0m\u001b[0m\n\u001b[0m\u001b[1;32m   2383\u001b[0m             \u001b[0;32mreturn\u001b[0m \u001b[0mresult\u001b[0m\u001b[0;34m\u001b[0m\u001b[0;34m\u001b[0m\u001b[0m\n\u001b[1;32m   2384\u001b[0m \u001b[0;34m\u001b[0m\u001b[0m\n",
      "\u001b[0;32m~/.local/miniconda/envs/kissim/lib/python3.8/site-packages/IPython/core/magics/script.py\u001b[0m in \u001b[0;36mnamed_script_magic\u001b[0;34m(line, cell)\u001b[0m\n\u001b[1;32m    140\u001b[0m             \u001b[0;32melse\u001b[0m\u001b[0;34m:\u001b[0m\u001b[0;34m\u001b[0m\u001b[0;34m\u001b[0m\u001b[0m\n\u001b[1;32m    141\u001b[0m                 \u001b[0mline\u001b[0m \u001b[0;34m=\u001b[0m \u001b[0mscript\u001b[0m\u001b[0;34m\u001b[0m\u001b[0;34m\u001b[0m\u001b[0m\n\u001b[0;32m--> 142\u001b[0;31m             \u001b[0;32mreturn\u001b[0m \u001b[0mself\u001b[0m\u001b[0;34m.\u001b[0m\u001b[0mshebang\u001b[0m\u001b[0;34m(\u001b[0m\u001b[0mline\u001b[0m\u001b[0;34m,\u001b[0m \u001b[0mcell\u001b[0m\u001b[0;34m)\u001b[0m\u001b[0;34m\u001b[0m\u001b[0;34m\u001b[0m\u001b[0m\n\u001b[0m\u001b[1;32m    143\u001b[0m \u001b[0;34m\u001b[0m\u001b[0m\n\u001b[1;32m    144\u001b[0m         \u001b[0;31m# write a basic docstring:\u001b[0m\u001b[0;34m\u001b[0m\u001b[0;34m\u001b[0m\u001b[0;34m\u001b[0m\u001b[0m\n",
      "\u001b[0;32m<decorator-gen-103>\u001b[0m in \u001b[0;36mshebang\u001b[0;34m(self, line, cell)\u001b[0m\n",
      "\u001b[0;32m~/.local/miniconda/envs/kissim/lib/python3.8/site-packages/IPython/core/magic.py\u001b[0m in \u001b[0;36m<lambda>\u001b[0;34m(f, *a, **k)\u001b[0m\n\u001b[1;32m    185\u001b[0m     \u001b[0;31m# but it's overkill for just that one bit of state.\u001b[0m\u001b[0;34m\u001b[0m\u001b[0;34m\u001b[0m\u001b[0;34m\u001b[0m\u001b[0m\n\u001b[1;32m    186\u001b[0m     \u001b[0;32mdef\u001b[0m \u001b[0mmagic_deco\u001b[0m\u001b[0;34m(\u001b[0m\u001b[0marg\u001b[0m\u001b[0;34m)\u001b[0m\u001b[0;34m:\u001b[0m\u001b[0;34m\u001b[0m\u001b[0;34m\u001b[0m\u001b[0m\n\u001b[0;32m--> 187\u001b[0;31m         \u001b[0mcall\u001b[0m \u001b[0;34m=\u001b[0m \u001b[0;32mlambda\u001b[0m \u001b[0mf\u001b[0m\u001b[0;34m,\u001b[0m \u001b[0;34m*\u001b[0m\u001b[0ma\u001b[0m\u001b[0;34m,\u001b[0m \u001b[0;34m**\u001b[0m\u001b[0mk\u001b[0m\u001b[0;34m:\u001b[0m \u001b[0mf\u001b[0m\u001b[0;34m(\u001b[0m\u001b[0;34m*\u001b[0m\u001b[0ma\u001b[0m\u001b[0;34m,\u001b[0m \u001b[0;34m**\u001b[0m\u001b[0mk\u001b[0m\u001b[0;34m)\u001b[0m\u001b[0;34m\u001b[0m\u001b[0;34m\u001b[0m\u001b[0m\n\u001b[0m\u001b[1;32m    188\u001b[0m \u001b[0;34m\u001b[0m\u001b[0m\n\u001b[1;32m    189\u001b[0m         \u001b[0;32mif\u001b[0m \u001b[0mcallable\u001b[0m\u001b[0;34m(\u001b[0m\u001b[0marg\u001b[0m\u001b[0;34m)\u001b[0m\u001b[0;34m:\u001b[0m\u001b[0;34m\u001b[0m\u001b[0;34m\u001b[0m\u001b[0m\n",
      "\u001b[0;32m~/.local/miniconda/envs/kissim/lib/python3.8/site-packages/IPython/core/magics/script.py\u001b[0m in \u001b[0;36mshebang\u001b[0;34m(self, line, cell)\u001b[0m\n\u001b[1;32m    243\u001b[0m             \u001b[0msys\u001b[0m\u001b[0;34m.\u001b[0m\u001b[0mstderr\u001b[0m\u001b[0;34m.\u001b[0m\u001b[0mflush\u001b[0m\u001b[0;34m(\u001b[0m\u001b[0;34m)\u001b[0m\u001b[0;34m\u001b[0m\u001b[0;34m\u001b[0m\u001b[0m\n\u001b[1;32m    244\u001b[0m         \u001b[0;32mif\u001b[0m \u001b[0margs\u001b[0m\u001b[0;34m.\u001b[0m\u001b[0mraise_error\u001b[0m \u001b[0;32mand\u001b[0m \u001b[0mp\u001b[0m\u001b[0;34m.\u001b[0m\u001b[0mreturncode\u001b[0m\u001b[0;34m!=\u001b[0m\u001b[0;36m0\u001b[0m\u001b[0;34m:\u001b[0m\u001b[0;34m\u001b[0m\u001b[0;34m\u001b[0m\u001b[0m\n\u001b[0;32m--> 245\u001b[0;31m             \u001b[0;32mraise\u001b[0m \u001b[0mCalledProcessError\u001b[0m\u001b[0;34m(\u001b[0m\u001b[0mp\u001b[0m\u001b[0;34m.\u001b[0m\u001b[0mreturncode\u001b[0m\u001b[0;34m,\u001b[0m \u001b[0mcell\u001b[0m\u001b[0;34m,\u001b[0m \u001b[0moutput\u001b[0m\u001b[0;34m=\u001b[0m\u001b[0mout\u001b[0m\u001b[0;34m,\u001b[0m \u001b[0mstderr\u001b[0m\u001b[0;34m=\u001b[0m\u001b[0merr\u001b[0m\u001b[0;34m)\u001b[0m\u001b[0;34m\u001b[0m\u001b[0;34m\u001b[0m\u001b[0m\n\u001b[0m\u001b[1;32m    246\u001b[0m \u001b[0;34m\u001b[0m\u001b[0m\n\u001b[1;32m    247\u001b[0m     \u001b[0;32mdef\u001b[0m \u001b[0m_run_script\u001b[0m\u001b[0;34m(\u001b[0m\u001b[0mself\u001b[0m\u001b[0;34m,\u001b[0m \u001b[0mp\u001b[0m\u001b[0;34m,\u001b[0m \u001b[0mcell\u001b[0m\u001b[0;34m,\u001b[0m \u001b[0mto_close\u001b[0m\u001b[0;34m)\u001b[0m\u001b[0;34m:\u001b[0m\u001b[0;34m\u001b[0m\u001b[0;34m\u001b[0m\u001b[0m\n",
      "\u001b[0;31mCalledProcessError\u001b[0m: Command 'b'kissim compare -i fingerprints.json -o . -c 2\\n# flake8-noqa-cell\\n'' returned non-zero exit status 1."
     ]
    }
   ],
   "source": [
    "%%bash\n",
    "kissim compare -i fingerprints.json -o . -c 2\n",
    "# flake8-noqa-cell"
   ]
  },
  {
   "cell_type": "markdown",
   "metadata": {},
   "source": [
    "### Output\n",
    "\n",
    "This command generate two files:\n",
    "\n",
    "- `feature_distances.json`\n",
    "- `fingerprint_distances_WEIGHT-WEIGHT-...-WEIGHT.json` (`WEIGHT` refers to the per-feature weight as per-thousand value)\n",
    "\n",
    "You can load the content of \n",
    "\n",
    "- the `feature_distances.json` file as `FeatureDistancesGenerator` object and \n",
    "- the `fingerprint_distances.json` file as `FingerprintDistancesGenerator` object."
   ]
  },
  {
   "cell_type": "markdown",
   "metadata": {},
   "source": [
    "#### Feature distances generator"
   ]
  },
  {
   "cell_type": "code",
   "execution_count": null,
   "metadata": {},
   "outputs": [],
   "source": [
    "feature_distances_path = HERE / Path(\"feature_distances.json\")\n",
    "feature_distances_path"
   ]
  },
  {
   "cell_type": "code",
   "execution_count": null,
   "metadata": {},
   "outputs": [],
   "source": [
    "feature_distances_generator = FeatureDistancesGenerator.from_json(feature_distances_path)"
   ]
  },
  {
   "cell_type": "code",
   "execution_count": null,
   "metadata": {},
   "outputs": [],
   "source": [
    "feature_distances_generator.data"
   ]
  },
  {
   "cell_type": "markdown",
   "metadata": {},
   "source": [
    "#### Fingerprint distance generator"
   ]
  },
  {
   "cell_type": "code",
   "execution_count": null,
   "metadata": {},
   "outputs": [],
   "source": [
    "fingerprint_distance_path = list(HERE.glob(\"fingerprint_distances_*.json\"))[0]\n",
    "fingerprint_distance_path"
   ]
  },
  {
   "cell_type": "code",
   "execution_count": null,
   "metadata": {},
   "outputs": [],
   "source": [
    "fingerprint_distance_generator = FingerprintDistanceGenerator.from_json(fingerprint_distance_path)"
   ]
  },
  {
   "cell_type": "code",
   "execution_count": null,
   "metadata": {},
   "outputs": [],
   "source": [
    "fingerprint_distance_generator.data"
   ]
  },
  {
   "cell_type": "markdown",
   "metadata": {},
   "source": [
    "## Clean up output files"
   ]
  },
  {
   "cell_type": "code",
   "execution_count": null,
   "metadata": {},
   "outputs": [],
   "source": [
    "[i.unlink() for i in HERE.glob(\"*.json\")]\n",
    "[i.unlink() for i in HERE.glob(\"*.log\")]"
   ]
  }
 ],
 "metadata": {
  "kernelspec": {
   "display_name": "Python 3",
   "language": "python",
   "name": "python3"
  },
  "language_info": {
   "codemirror_mode": {
    "name": "ipython",
    "version": 3
   },
   "file_extension": ".py",
   "mimetype": "text/x-python",
   "name": "python",
   "nbconvert_exporter": "python",
   "pygments_lexer": "ipython3",
   "version": "3.8.6"
  }
 },
 "nbformat": 4,
 "nbformat_minor": 4
}
