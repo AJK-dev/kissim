{
 "cells": [
  {
   "cell_type": "markdown",
   "metadata": {},
   "source": [
    "# CLI - Command-line interface\n",
    "\n",
    "Let's take a look at the `kissim` command-line interface (CLI) to encode a set of structures (from the [KLIFS](https://klifs.net/) database) and perform an all-against-all comparison. The CLI follows the same logic as the quick start Python interface as described in \"API - Quick start Python interface\".\n",
    "  \n",
    "![kissim CLI](../_static/kissim_docs_cli.png)"
   ]
  },
  {
   "cell_type": "code",
   "execution_count": 1,
   "metadata": {},
   "outputs": [],
   "source": [
    "from pathlib import Path"
   ]
  },
  {
   "cell_type": "code",
   "execution_count": 2,
   "metadata": {},
   "outputs": [],
   "source": [
    "# Path to this notebook\n",
    "HERE = Path(_dh[-1])  # noqa: F821"
   ]
  },
  {
   "cell_type": "markdown",
   "metadata": {},
   "source": [
    "## Encode structures into fingerprints"
   ]
  },
  {
   "cell_type": "code",
   "execution_count": 3,
   "metadata": {},
   "outputs": [
    {
     "name": "stdout",
     "output_type": "stream",
     "text": [
      "usage: kissim encode [-h] -i INPUT [INPUT ...] -o OUTPUT [-l LOCAL]\n",
      "                     [-c NCORES]\n",
      "\n",
      "optional arguments:\n",
      "  -h, --help            show this help message and exit\n",
      "  -i INPUT [INPUT ...], --input INPUT [INPUT ...]\n",
      "                        List of structure KLIFS IDs or path to txt file\n",
      "                        containing structure KLIFS IDs.\n",
      "  -o OUTPUT, --output OUTPUT\n",
      "                        Path to output json file containing fingerprint data.\n",
      "  -l LOCAL, --local LOCAL\n",
      "                        Path to KLIFS download folder. If set local KLIFS data\n",
      "                        is used, else remote KLIFS data.\n",
      "  -c NCORES, --ncores NCORES\n",
      "                        Number of cores. If 1 fingerprint generation in\n",
      "                        sequence, else in parallel.\n"
     ]
    }
   ],
   "source": [
    "%%bash\n",
    "kissim encode -h\n",
    "# flake8-noqa-cell"
   ]
  },
  {
   "cell_type": "markdown",
   "metadata": {},
   "source": [
    "### `kissim encode` command"
   ]
  },
  {
   "cell_type": "code",
   "execution_count": 4,
   "metadata": {},
   "outputs": [
    {
     "name": "stderr",
     "output_type": "stream",
     "text": [
      "INFO:opencadd.databases.klifs.api:Set up local session...\n",
      "INFO:opencadd.databases.klifs.local:Load overview.csv...\n",
      "INFO:opencadd.databases.klifs.local:Load KLIFS_export.csv...\n",
      "INFO:opencadd.databases.klifs.local:Merge both csv files...\n",
      "INFO:opencadd.databases.klifs.local:Add paths to coordinate folders to structures...\n",
      "INFO:opencadd.databases.klifs.local:Add KLIFS IDs to structures (uses remote since not available locally!)...\n",
      "INFO:opencadd.databases.klifs.api:Local session is ready!\n",
      "INFO:kissim.encoding.fingerprint_generator:GENERATE FINGERPRINTS\n",
      "INFO:kissim.encoding.fingerprint_generator:Number of input structures: 6\n",
      "INFO:kissim.encoding.fingerprint_generator:Fingerprint generation started at: 2021-03-29 14:58:04.664193\n",
      "INFO:kissim.utils:Number of cores used: 2.\n",
      "INFO:kissim.encoding.fingerprint_generator:118: Generate fingerprint...\n",
      "INFO:kissim.encoding.fingerprint_generator:109: Generate fingerprint...\n",
      "INFO:kissim.encoding.fingerprint_generator:12347: Generate fingerprint...\n",
      "INFO:kissim.encoding.fingerprint_generator:1641: Generate fingerprint...\n",
      "INFO:opencadd.structure.pocket.base:Pocket None (set pocket residues): The following input residues PDB IDs were assigned to the value None because they cannot be cast to an integer (residue PDB ID, residue index): [('_', 4), ('_', 5), ('_', 6), ('_', 7), ('_', 83), ('_', 84), ('_', 85)]\n",
      "INFO:opencadd.structure.pocket.base:Pocket 12347 (set pocket residues): The following input residues PDB IDs were assigned to the value None because they cannot be cast to an integer (residue PDB ID, residue index): [(None, 4), (None, 5), (None, 6), (None, 7), (None, 83), (None, 84), (None, 85)]\n",
      "INFO:opencadd.structure.pocket.core:Pocket 12347: Missing pocket CA atoms. The pocket center is calculated based on 78 CA atoms (total number of pocket residues is 85).\n",
      "INFO:kissim.encoding.fingerprint_generator:3833: Generate fingerprint...\n",
      "INFO:kissim.encoding.fingerprint_generator:9122: Generate fingerprint...\n",
      "INFO:kissim.encoding.fingerprint_generator:Number of output fingerprints: 6\n",
      "INFO:kissim.encoding.fingerprint_generator:Runtime: 0:00:07.358218\n",
      "INFO:kissim.api.encode:Write fingerprints to file: fingerprints.json\n"
     ]
    }
   ],
   "source": [
    "%%bash\n",
    "kissim encode -i 109 118 12347 1641 3833 9122 -o fingerprints.json -l ../../kissim/tests/data/KLIFS_download/ -c 2\n",
    "# flake8-noqa-cell"
   ]
  },
  {
   "cell_type": "markdown",
   "metadata": {},
   "source": [
    "This command generate two files:\n",
    "\n",
    "- Data: `fingerprints.json`\n",
    "- Logs: `fingerprint.log`"
   ]
  },
  {
   "cell_type": "markdown",
   "metadata": {},
   "source": [
    "### Inspect output: `FingerprintGenerator`\n",
    "\n",
    "You can load the content of the `fingerprints.json` file as `FingerprintGenerator` object."
   ]
  },
  {
   "cell_type": "code",
   "execution_count": 5,
   "metadata": {},
   "outputs": [
    {
     "data": {
      "text/plain": [
       "PosixPath('/home/dominique/Documents/GitHub/kissim/docs/tutorials/fingerprints.json')"
      ]
     },
     "execution_count": 5,
     "metadata": {},
     "output_type": "execute_result"
    }
   ],
   "source": [
    "fingerprints_path = HERE / \"fingerprints.json\"\n",
    "fingerprints_path"
   ]
  },
  {
   "cell_type": "code",
   "execution_count": 6,
   "metadata": {},
   "outputs": [
    {
     "data": {
      "application/vnd.jupyter.widget-view+json": {
       "model_id": "fe3187a62aaf45bd8801ac9bd7842e5e",
       "version_major": 2,
       "version_minor": 0
      },
      "text/plain": []
     },
     "metadata": {},
     "output_type": "display_data"
    },
    {
     "name": "stdout",
     "output_type": "stream",
     "text": [
      "Number of fingerprints: 6\n"
     ]
    },
    {
     "data": {
      "text/plain": [
       "<kissim.encoding.fingerprint_generator.FingerprintGenerator at 0x7f9970536760>"
      ]
     },
     "execution_count": 6,
     "metadata": {},
     "output_type": "execute_result"
    }
   ],
   "source": [
    "from kissim.encoding import FingerprintGenerator\n",
    "\n",
    "fingerprint_generator = FingerprintGenerator.from_json(fingerprints_path)\n",
    "print(f\"Number of fingerprints: {len(fingerprint_generator.data.keys())}\")\n",
    "fingerprint_generator"
   ]
  },
  {
   "cell_type": "markdown",
   "metadata": {},
   "source": [
    "## Compare fingerprints"
   ]
  },
  {
   "cell_type": "code",
   "execution_count": 7,
   "metadata": {},
   "outputs": [
    {
     "name": "stdout",
     "output_type": "stream",
     "text": [
      "usage: kissim compare [-h] -i INPUT -o OUTPUT\n",
      "                      [-w WEIGHTS WEIGHTS WEIGHTS WEIGHTS WEIGHTS WEIGHTS WEIGHTS WEIGHTS WEIGHTS WEIGHTS WEIGHTS WEIGHTS WEIGHTS WEIGHTS WEIGHTS]\n",
      "                      [-c NCORES]\n",
      "\n",
      "optional arguments:\n",
      "  -h, --help            show this help message and exit\n",
      "  -i INPUT, --input INPUT\n",
      "                        Path to json file containing fingerprint data.\n",
      "  -o OUTPUT, --output OUTPUT\n",
      "                        Path to output folder where distance json files will\n",
      "                        be saved.\n",
      "  -w WEIGHTS WEIGHTS WEIGHTS WEIGHTS WEIGHTS WEIGHTS WEIGHTS WEIGHTS WEIGHTS WEIGHTS WEIGHTS WEIGHTS WEIGHTS WEIGHTS WEIGHTS, --weights WEIGHTS WEIGHTS WEIGHTS WEIGHTS WEIGHTS WEIGHTS WEIGHTS WEIGHTS WEIGHTS WEIGHTS WEIGHTS WEIGHTS WEIGHTS WEIGHTS WEIGHTS\n",
      "                        Feature weights. Eeach feature must be set\n",
      "                        individually, all weights must sum up to 1.0.\n",
      "  -c NCORES, --ncores NCORES\n",
      "                        Number of cores. If 1 comparison in sequence, else in\n",
      "                        parallel.\n"
     ]
    }
   ],
   "source": [
    "%%bash\n",
    "kissim compare -h\n",
    "# flake8-noqa-cell"
   ]
  },
  {
   "cell_type": "markdown",
   "metadata": {},
   "source": [
    "### `kissim compare` command"
   ]
  },
  {
   "cell_type": "code",
   "execution_count": 8,
   "metadata": {},
   "outputs": [
    {
     "name": "stderr",
     "output_type": "stream",
     "text": [
      "INFO:kissim.comparison.feature_distances_generator:GENERATE FEATURE DISTANCES\n",
      "INFO:kissim.comparison.feature_distances_generator:Number of input input fingerprints: 6\n",
      "INFO:kissim.comparison.feature_distances_generator:Feature distances generation started at: 2021-03-29 14:58:16.503597\n",
      "INFO:kissim.utils:Number of cores used: 2.\n",
      "INFO:kissim.comparison.feature_distances_generator:Number of ouput feature distances: 15\n",
      "INFO:kissim.comparison.feature_distances_generator:Runtime: 0:00:00.061052\n",
      "INFO:kissim.comparison.fingerprint_distance_generator:GENERATE FINGERPRINT DISTANCES\n",
      "INFO:kissim.comparison.fingerprint_distance_generator:Number of input feature distances: 15\n",
      "INFO:kissim.comparison.fingerprint_distance_generator:Fingerprint distance generation started at: 2021-03-29 14:58:16.565221\n",
      "INFO:kissim.utils:Number of cores used: 2.\n",
      "INFO:kissim.comparison.fingerprint_distance_generator:Feature weights: [0.06666667 0.06666667 0.06666667 0.06666667 0.06666667 0.06666667\n",
      " 0.06666667 0.06666667 0.06666667 0.06666667 0.06666667 0.06666667\n",
      " 0.06666667 0.06666667 0.06666667]\n",
      "INFO:kissim.comparison.fingerprint_distance_generator:Number of output fingerprint distances: 15\n",
      "INFO:kissim.comparison.fingerprint_distance_generator:Runtime: 0:00:00.010426\n"
     ]
    }
   ],
   "source": [
    "%%bash\n",
    "kissim compare -i fingerprints.json -o . -c 2\n",
    "# flake8-noqa-cell"
   ]
  },
  {
   "cell_type": "markdown",
   "metadata": {},
   "source": [
    "This command generate three files:\n",
    "\n",
    "- Data (fingerprint distances): `fingerprint_distances.json`\n",
    "- Data (feature distances): `feature_distances.json`\n",
    "- Logs: `distances.log`"
   ]
  },
  {
   "cell_type": "markdown",
   "metadata": {},
   "source": [
    "### Inspect output: `FingerprintDistanceGenerator`\n",
    "\n",
    "You can load the content of the `fingerprint_distances.json` file as `FingerprintDistancesGenerator` object."
   ]
  },
  {
   "cell_type": "code",
   "execution_count": 9,
   "metadata": {},
   "outputs": [
    {
     "name": "stdout",
     "output_type": "stream",
     "text": [
      "Number of pairwise comparisons: 15\n"
     ]
    },
    {
     "data": {
      "text/plain": [
       "<kissim.comparison.fingerprint_distance_generator.FingerprintDistanceGenerator at 0x7f99100a8310>"
      ]
     },
     "execution_count": 9,
     "metadata": {},
     "output_type": "execute_result"
    }
   ],
   "source": [
    "from kissim.comparison import FingerprintDistanceGenerator\n",
    "\n",
    "fingerprint_distance_path = HERE / \"fingerprint_distances.json\"\n",
    "fingerprint_distance_generator = FingerprintDistanceGenerator.from_json(fingerprint_distance_path)\n",
    "print(f\"Number of pairwise comparisons: {len(fingerprint_distance_generator.data)}\")\n",
    "fingerprint_distance_generator"
   ]
  },
  {
   "cell_type": "code",
   "execution_count": 10,
   "metadata": {},
   "outputs": [
    {
     "data": {
      "text/html": [
       "<div>\n",
       "<style scoped>\n",
       "    .dataframe tbody tr th:only-of-type {\n",
       "        vertical-align: middle;\n",
       "    }\n",
       "\n",
       "    .dataframe tbody tr th {\n",
       "        vertical-align: top;\n",
       "    }\n",
       "\n",
       "    .dataframe thead th {\n",
       "        text-align: right;\n",
       "    }\n",
       "</style>\n",
       "<table border=\"1\" class=\"dataframe\">\n",
       "  <thead>\n",
       "    <tr style=\"text-align: right;\">\n",
       "      <th></th>\n",
       "      <th>structure1</th>\n",
       "      <th>structure2</th>\n",
       "      <th>kinase1</th>\n",
       "      <th>kinase2</th>\n",
       "      <th>distance</th>\n",
       "      <th>coverage</th>\n",
       "    </tr>\n",
       "  </thead>\n",
       "  <tbody>\n",
       "    <tr>\n",
       "      <th>0</th>\n",
       "      <td>109</td>\n",
       "      <td>118</td>\n",
       "      <td>ABL2</td>\n",
       "      <td>ABL2</td>\n",
       "      <td>0.074214</td>\n",
       "      <td>0.992000</td>\n",
       "    </tr>\n",
       "    <tr>\n",
       "      <th>1</th>\n",
       "      <td>109</td>\n",
       "      <td>12347</td>\n",
       "      <td>ABL2</td>\n",
       "      <td>BRAF</td>\n",
       "      <td>0.259053</td>\n",
       "      <td>0.919333</td>\n",
       "    </tr>\n",
       "    <tr>\n",
       "      <th>2</th>\n",
       "      <td>109</td>\n",
       "      <td>1641</td>\n",
       "      <td>ABL2</td>\n",
       "      <td>CHK1</td>\n",
       "      <td>0.253045</td>\n",
       "      <td>0.990667</td>\n",
       "    </tr>\n",
       "    <tr>\n",
       "      <th>3</th>\n",
       "      <td>109</td>\n",
       "      <td>3833</td>\n",
       "      <td>ABL2</td>\n",
       "      <td>AAK1</td>\n",
       "      <td>0.277368</td>\n",
       "      <td>0.990667</td>\n",
       "    </tr>\n",
       "    <tr>\n",
       "      <th>4</th>\n",
       "      <td>109</td>\n",
       "      <td>9122</td>\n",
       "      <td>ABL2</td>\n",
       "      <td>ADCK3</td>\n",
       "      <td>0.358882</td>\n",
       "      <td>0.990667</td>\n",
       "    </tr>\n",
       "    <tr>\n",
       "      <th>5</th>\n",
       "      <td>118</td>\n",
       "      <td>12347</td>\n",
       "      <td>ABL2</td>\n",
       "      <td>BRAF</td>\n",
       "      <td>0.273133</td>\n",
       "      <td>0.918000</td>\n",
       "    </tr>\n",
       "    <tr>\n",
       "      <th>6</th>\n",
       "      <td>118</td>\n",
       "      <td>1641</td>\n",
       "      <td>ABL2</td>\n",
       "      <td>CHK1</td>\n",
       "      <td>0.246844</td>\n",
       "      <td>0.989333</td>\n",
       "    </tr>\n",
       "    <tr>\n",
       "      <th>7</th>\n",
       "      <td>118</td>\n",
       "      <td>3833</td>\n",
       "      <td>ABL2</td>\n",
       "      <td>AAK1</td>\n",
       "      <td>0.282949</td>\n",
       "      <td>0.990000</td>\n",
       "    </tr>\n",
       "    <tr>\n",
       "      <th>8</th>\n",
       "      <td>118</td>\n",
       "      <td>9122</td>\n",
       "      <td>ABL2</td>\n",
       "      <td>ADCK3</td>\n",
       "      <td>0.360833</td>\n",
       "      <td>0.989333</td>\n",
       "    </tr>\n",
       "    <tr>\n",
       "      <th>9</th>\n",
       "      <td>12347</td>\n",
       "      <td>1641</td>\n",
       "      <td>BRAF</td>\n",
       "      <td>CHK1</td>\n",
       "      <td>0.303330</td>\n",
       "      <td>0.918000</td>\n",
       "    </tr>\n",
       "    <tr>\n",
       "      <th>10</th>\n",
       "      <td>12347</td>\n",
       "      <td>3833</td>\n",
       "      <td>BRAF</td>\n",
       "      <td>AAK1</td>\n",
       "      <td>0.307277</td>\n",
       "      <td>0.918000</td>\n",
       "    </tr>\n",
       "    <tr>\n",
       "      <th>11</th>\n",
       "      <td>12347</td>\n",
       "      <td>9122</td>\n",
       "      <td>BRAF</td>\n",
       "      <td>ADCK3</td>\n",
       "      <td>0.376875</td>\n",
       "      <td>0.918000</td>\n",
       "    </tr>\n",
       "    <tr>\n",
       "      <th>12</th>\n",
       "      <td>1641</td>\n",
       "      <td>3833</td>\n",
       "      <td>CHK1</td>\n",
       "      <td>AAK1</td>\n",
       "      <td>0.229590</td>\n",
       "      <td>0.989333</td>\n",
       "    </tr>\n",
       "    <tr>\n",
       "      <th>13</th>\n",
       "      <td>1641</td>\n",
       "      <td>9122</td>\n",
       "      <td>CHK1</td>\n",
       "      <td>ADCK3</td>\n",
       "      <td>0.347142</td>\n",
       "      <td>0.989333</td>\n",
       "    </tr>\n",
       "    <tr>\n",
       "      <th>14</th>\n",
       "      <td>3833</td>\n",
       "      <td>9122</td>\n",
       "      <td>AAK1</td>\n",
       "      <td>ADCK3</td>\n",
       "      <td>0.303542</td>\n",
       "      <td>0.990000</td>\n",
       "    </tr>\n",
       "  </tbody>\n",
       "</table>\n",
       "</div>"
      ],
      "text/plain": [
       "    structure1  structure2 kinase1 kinase2  distance  coverage\n",
       "0          109         118    ABL2    ABL2  0.074214  0.992000\n",
       "1          109       12347    ABL2    BRAF  0.259053  0.919333\n",
       "2          109        1641    ABL2    CHK1  0.253045  0.990667\n",
       "3          109        3833    ABL2    AAK1  0.277368  0.990667\n",
       "4          109        9122    ABL2   ADCK3  0.358882  0.990667\n",
       "5          118       12347    ABL2    BRAF  0.273133  0.918000\n",
       "6          118        1641    ABL2    CHK1  0.246844  0.989333\n",
       "7          118        3833    ABL2    AAK1  0.282949  0.990000\n",
       "8          118        9122    ABL2   ADCK3  0.360833  0.989333\n",
       "9        12347        1641    BRAF    CHK1  0.303330  0.918000\n",
       "10       12347        3833    BRAF    AAK1  0.307277  0.918000\n",
       "11       12347        9122    BRAF   ADCK3  0.376875  0.918000\n",
       "12        1641        3833    CHK1    AAK1  0.229590  0.989333\n",
       "13        1641        9122    CHK1   ADCK3  0.347142  0.989333\n",
       "14        3833        9122    AAK1   ADCK3  0.303542  0.990000"
      ]
     },
     "execution_count": 10,
     "metadata": {},
     "output_type": "execute_result"
    }
   ],
   "source": [
    "fingerprint_distance_generator.data"
   ]
  },
  {
   "cell_type": "markdown",
   "metadata": {},
   "source": [
    "### Inspect output: `FeatureDistancesGenerator`\n",
    "\n",
    "You can load the content of the `feature_distances.json` file as `FeatureDistancesGenerator` object."
   ]
  },
  {
   "cell_type": "code",
   "execution_count": 11,
   "metadata": {},
   "outputs": [
    {
     "name": "stdout",
     "output_type": "stream",
     "text": [
      "Number of pairwise comparisons: 15\n"
     ]
    },
    {
     "data": {
      "text/plain": [
       "<kissim.comparison.feature_distances_generator.FeatureDistancesGenerator at 0x7f9970dcbb50>"
      ]
     },
     "execution_count": 11,
     "metadata": {},
     "output_type": "execute_result"
    }
   ],
   "source": [
    "from kissim.comparison import FeatureDistancesGenerator\n",
    "\n",
    "feature_distances_path = HERE / \"feature_distances.json\"\n",
    "feature_distances_generator = FeatureDistancesGenerator.from_json(feature_distances_path)\n",
    "print(f\"Number of pairwise comparisons: {len(feature_distances_generator.data)}\")\n",
    "feature_distances_generator"
   ]
  },
  {
   "cell_type": "code",
   "execution_count": 12,
   "metadata": {},
   "outputs": [
    {
     "data": {
      "text/plain": [
       "{(109,\n",
       "  118): <kissim.comparison.feature_distances.FeatureDistances at 0x7f9970dcba60>,\n",
       " (109,\n",
       "  12347): <kissim.comparison.feature_distances.FeatureDistances at 0x7f9910075040>,\n",
       " (109,\n",
       "  1641): <kissim.comparison.feature_distances.FeatureDistances at 0x7f99100750a0>,\n",
       " (109,\n",
       "  3833): <kissim.comparison.feature_distances.FeatureDistances at 0x7f9910075100>,\n",
       " (109,\n",
       "  9122): <kissim.comparison.feature_distances.FeatureDistances at 0x7f9910075160>,\n",
       " (118,\n",
       "  12347): <kissim.comparison.feature_distances.FeatureDistances at 0x7f99100751c0>,\n",
       " (118,\n",
       "  1641): <kissim.comparison.feature_distances.FeatureDistances at 0x7f9910075220>,\n",
       " (118,\n",
       "  3833): <kissim.comparison.feature_distances.FeatureDistances at 0x7f9910075280>,\n",
       " (118,\n",
       "  9122): <kissim.comparison.feature_distances.FeatureDistances at 0x7f99100752e0>,\n",
       " (12347,\n",
       "  1641): <kissim.comparison.feature_distances.FeatureDistances at 0x7f9910075340>,\n",
       " (12347,\n",
       "  3833): <kissim.comparison.feature_distances.FeatureDistances at 0x7f99100753a0>,\n",
       " (12347,\n",
       "  9122): <kissim.comparison.feature_distances.FeatureDistances at 0x7f9910075400>,\n",
       " (1641,\n",
       "  3833): <kissim.comparison.feature_distances.FeatureDistances at 0x7f9910075460>,\n",
       " (1641,\n",
       "  9122): <kissim.comparison.feature_distances.FeatureDistances at 0x7f99100754c0>,\n",
       " (3833,\n",
       "  9122): <kissim.comparison.feature_distances.FeatureDistances at 0x7f9910075520>}"
      ]
     },
     "execution_count": 12,
     "metadata": {},
     "output_type": "execute_result"
    }
   ],
   "source": [
    "feature_distances_generator.data"
   ]
  },
  {
   "cell_type": "markdown",
   "metadata": {},
   "source": [
    "Clean up output files."
   ]
  },
  {
   "cell_type": "code",
   "execution_count": 13,
   "metadata": {},
   "outputs": [
    {
     "data": {
      "text/plain": [
       "[None, None]"
      ]
     },
     "execution_count": 13,
     "metadata": {},
     "output_type": "execute_result"
    }
   ],
   "source": [
    "[i.unlink() for i in HERE.glob(\"*.json\")]\n",
    "[i.unlink() for i in HERE.glob(\"*.log\")]"
   ]
  }
 ],
 "metadata": {
  "kernelspec": {
   "display_name": "Python 3",
   "language": "python",
   "name": "python3"
  },
  "language_info": {
   "codemirror_mode": {
    "name": "ipython",
    "version": 3
   },
   "file_extension": ".py",
   "mimetype": "text/x-python",
   "name": "python",
   "nbconvert_exporter": "python",
   "pygments_lexer": "ipython3",
   "version": "3.8.6"
  }
 },
 "nbformat": 4,
 "nbformat_minor": 4
}
