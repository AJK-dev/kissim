{
 "cells": [
  {
   "cell_type": "markdown",
   "metadata": {},
   "source": [
    "# The `kissim` API\n",
    "\n",
    "Let's take a look at the `kissim` API, which is separated into `encode` and `compare`:\n",
    "\n",
    "- `encode`: structures > fingerprints\n",
    "- `compare`: fingerprints > feature distances and fingerprint distance per fingerprint pair (all-against-all comparison)"
   ]
  },
  {
   "cell_type": "code",
   "execution_count": null,
   "metadata": {},
   "outputs": [],
   "source": [
    "%load_ext autoreload\n",
    "%autoreload 2"
   ]
  },
  {
   "cell_type": "code",
   "execution_count": 2,
   "metadata": {},
   "outputs": [
    {
     "data": {
      "application/vnd.jupyter.widget-view+json": {
       "model_id": "062007b662ce4ea9a5dd7508b2044569",
       "version_major": 2,
       "version_minor": 0
      },
      "text/plain": []
     },
     "metadata": {},
     "output_type": "display_data"
    }
   ],
   "source": [
    "import logging\n",
    "from pathlib import Path\n",
    "import sys\n",
    "\n",
    "from opencadd.databases.klifs import setup_local\n",
    "\n",
    "from kissim.api import encode, compare"
   ]
  },
  {
   "cell_type": "code",
   "execution_count": 3,
   "metadata": {},
   "outputs": [],
   "source": [
    "logger = logging.getLogger(\"opencadd\")\n",
    "logger.setLevel(logging.WARNING)\n",
    "logging.basicConfig(stream=sys.stdout, level=logging.INFO)\n",
    "logger = logging.getLogger(\"kissim\")"
   ]
  },
  {
   "cell_type": "code",
   "execution_count": 4,
   "metadata": {},
   "outputs": [],
   "source": [
    "HERE = Path(_dh[-1])  # noqa: F821\n",
    "DATA = HERE / \"../../kissim/tests/data/KLIFS_download/\""
   ]
  },
  {
   "cell_type": "markdown",
   "metadata": {},
   "source": [
    "## Get local KLIFS structures\n",
    "\n",
    "We use the `opencadd.databases.klifs` module to access structures in our local KLIFS download."
   ]
  },
  {
   "cell_type": "code",
   "execution_count": 5,
   "metadata": {},
   "outputs": [],
   "source": [
    "klifs_session = setup_local(DATA)"
   ]
  },
  {
   "cell_type": "code",
   "execution_count": 6,
   "metadata": {},
   "outputs": [],
   "source": [
    "structures = klifs_session.structures.all_structures()"
   ]
  },
  {
   "cell_type": "code",
   "execution_count": 7,
   "metadata": {},
   "outputs": [
    {
     "name": "stdout",
     "output_type": "stream",
     "text": [
      "Number of structures: 16\n",
      "109 118 110 113 111 116 112 114 115 117 12347 1641 2542 3833 5399 9122\n"
     ]
    }
   ],
   "source": [
    "structure_klifs_ids = structures[\"structure.klifs_id\"].to_list()\n",
    "print(f\"Number of structures: {len(structure_klifs_ids)}\")\n",
    "print(*structure_klifs_ids)"
   ]
  },
  {
   "cell_type": "markdown",
   "metadata": {},
   "source": [
    "## Encode structures into fingerprints\n",
    "\n",
    "The `encode` function is an API to generate fingerprints in bulk based on structure KLIFS IDs. The return object is of type `FingerprintGenerator`."
   ]
  },
  {
   "cell_type": "code",
   "execution_count": 8,
   "metadata": {},
   "outputs": [
    {
     "data": {
      "text/plain": [
       "\u001b[0;31mSignature:\u001b[0m\n",
       "\u001b[0mencode\u001b[0m\u001b[0;34m(\u001b[0m\u001b[0;34m\u001b[0m\n",
       "\u001b[0;34m\u001b[0m    \u001b[0mstructure_klifs_ids\u001b[0m\u001b[0;34m,\u001b[0m\u001b[0;34m\u001b[0m\n",
       "\u001b[0;34m\u001b[0m    \u001b[0mfingerprints_json_filepath\u001b[0m\u001b[0;34m=\u001b[0m\u001b[0;32mNone\u001b[0m\u001b[0;34m,\u001b[0m\u001b[0;34m\u001b[0m\n",
       "\u001b[0;34m\u001b[0m    \u001b[0mlocal_klifs_download_path\u001b[0m\u001b[0;34m=\u001b[0m\u001b[0;32mNone\u001b[0m\u001b[0;34m,\u001b[0m\u001b[0;34m\u001b[0m\n",
       "\u001b[0;34m\u001b[0m    \u001b[0mn_cores\u001b[0m\u001b[0;34m=\u001b[0m\u001b[0;36m1\u001b[0m\u001b[0;34m,\u001b[0m\u001b[0;34m\u001b[0m\n",
       "\u001b[0;34m\u001b[0m\u001b[0;34m)\u001b[0m\u001b[0;34m\u001b[0m\u001b[0;34m\u001b[0m\u001b[0m\n",
       "\u001b[0;31mDocstring:\u001b[0m\n",
       "Encode structures.\n",
       "\n",
       "Parameters\n",
       "----------\n",
       "structure_klifs_ids : list of int\n",
       "    Structure KLIFS IDs.\n",
       "fingerprints_json_filepath : str or pathlib.Path\n",
       "    Path to output json file. Default None.\n",
       "local_klifs_download_path : str or None\n",
       "    If path to local KLIFS download is given, set up local KLIFS session.\n",
       "    If None is given, set up remote KLIFS session.\n",
       "n_cores : int\n",
       "    Number of cores used to generate fingerprints.\n",
       "\n",
       "Returns\n",
       "-------\n",
       "kissim.encoding.FingerprintGenerator\n",
       "    Fingerprints.\n",
       "\u001b[0;31mFile:\u001b[0m      ~/Documents/GitHub/kissim/kissim/api/encode.py\n",
       "\u001b[0;31mType:\u001b[0m      function\n"
      ]
     },
     "metadata": {},
     "output_type": "display_data"
    }
   ],
   "source": [
    "encode?"
   ]
  },
  {
   "cell_type": "code",
   "execution_count": 9,
   "metadata": {},
   "outputs": [
    {
     "name": "stdout",
     "output_type": "stream",
     "text": [
      "INFO:kissim.encoding.fingerprint_generator:GENERATE FINGERPRINTS\n",
      "INFO:kissim.encoding.fingerprint_generator:Number of input structures: 16\n",
      "INFO:kissim.encoding.fingerprint_generator:Fingerprint generation started at: 2021-03-18 14:52:11.784001\n",
      "INFO:kissim.utils:Number of cores used: 2.\n",
      "INFO:kissim.encoding.fingerprint_generator:109: Generate fingerprint...\n",
      "INFO:kissim.encoding.fingerprint_generator:110: Generate fingerprint...\n",
      "INFO:kissim.encoding.fingerprint_generator:113: Generate fingerprint...\n",
      "INFO:kissim.encoding.fingerprint_generator:118: Generate fingerprint...\n",
      "INFO:kissim.encoding.fingerprint_generator:111: Generate fingerprint...\n",
      "INFO:kissim.encoding.fingerprint_generator:112: Generate fingerprint...\n",
      "INFO:kissim.encoding.fingerprint_generator:116: Generate fingerprint...\n",
      "INFO:kissim.encoding.fingerprint_generator:114: Generate fingerprint...\n",
      "INFO:kissim.encoding.fingerprint_generator:115: Generate fingerprint...\n",
      "INFO:kissim.encoding.fingerprint_generator:12347: Generate fingerprint...\n",
      "INFO:kissim.encoding.fingerprint_generator:1641: Generate fingerprint...\n",
      "INFO:kissim.encoding.fingerprint_generator:117: Generate fingerprint...\n",
      "WARNING:kissim.io.data:117: Local complex.pdb or pocket.pdb file missing: /home/dominique/Documents/GitHub/kissim/docs/tutorials/../../kissim/tests/data/KLIFS_download/HUMAN/ABL2/3gvu_altA_chainA/complex.pdb\n",
      "WARNING:kissim.encoding.fingerprint:117: Empty fingerprint (data unaccessible).\n",
      "INFO:kissim.encoding.fingerprint_generator:2542: Generate fingerprint...\n",
      "INFO:kissim.encoding.fingerprint_generator:5399: Generate fingerprint...\n"
     ]
    },
    {
     "name": "stderr",
     "output_type": "stream",
     "text": [
      "/home/dominique/.local/miniconda/envs/kissim/lib/python3.8/site-packages/Bio/PDB/PDBParser.py:395: PDBConstructionWarning: Ignoring unrecognized record 'END' at line 2445\n",
      "  warnings.warn(\n"
     ]
    },
    {
     "name": "stdout",
     "output_type": "stream",
     "text": [
      "INFO:kissim.encoding.fingerprint_generator:3833: Generate fingerprint...\n",
      "INFO:kissim.encoding.fingerprint_generator:9122: Generate fingerprint...\n",
      "INFO:kissim.encoding.fingerprint_generator:Number of output fingerprints: 15\n",
      "INFO:kissim.encoding.fingerprint_generator:Runtime: 0:00:17.993384\n"
     ]
    }
   ],
   "source": [
    "fingerprint_generator = encode(\n",
    "    structure_klifs_ids, fingerprints_json_filepath=None, n_cores=2, local_klifs_download_path=DATA\n",
    ")"
   ]
  },
  {
   "cell_type": "markdown",
   "metadata": {},
   "source": [
    "### `FingerprintGenerator` object"
   ]
  },
  {
   "cell_type": "code",
   "execution_count": 10,
   "metadata": {},
   "outputs": [
    {
     "name": "stdout",
     "output_type": "stream",
     "text": [
      "Number of fingerprints: 15\n"
     ]
    },
    {
     "data": {
      "text/plain": [
       "<kissim.encoding.fingerprint_generator.FingerprintGenerator at 0x7fb8da25bb50>"
      ]
     },
     "execution_count": 10,
     "metadata": {},
     "output_type": "execute_result"
    }
   ],
   "source": [
    "print(f\"Number of fingerprints: {len(fingerprint_generator.data.keys())}\")\n",
    "fingerprint_generator"
   ]
  },
  {
   "cell_type": "markdown",
   "metadata": {},
   "source": [
    "## Compare fingerprints"
   ]
  },
  {
   "cell_type": "code",
   "execution_count": 11,
   "metadata": {},
   "outputs": [
    {
     "data": {
      "text/plain": [
       "\u001b[0;31mSignature:\u001b[0m\n",
       "\u001b[0mcompare\u001b[0m\u001b[0;34m(\u001b[0m\u001b[0;34m\u001b[0m\n",
       "\u001b[0;34m\u001b[0m    \u001b[0mfingerprint_generator\u001b[0m\u001b[0;34m,\u001b[0m\u001b[0;34m\u001b[0m\n",
       "\u001b[0;34m\u001b[0m    \u001b[0moutput_path\u001b[0m\u001b[0;34m=\u001b[0m\u001b[0;32mNone\u001b[0m\u001b[0;34m,\u001b[0m\u001b[0;34m\u001b[0m\n",
       "\u001b[0;34m\u001b[0m    \u001b[0mfeature_weights\u001b[0m\u001b[0;34m=\u001b[0m\u001b[0;32mNone\u001b[0m\u001b[0;34m,\u001b[0m\u001b[0;34m\u001b[0m\n",
       "\u001b[0;34m\u001b[0m    \u001b[0mn_cores\u001b[0m\u001b[0;34m=\u001b[0m\u001b[0;36m1\u001b[0m\u001b[0;34m,\u001b[0m\u001b[0;34m\u001b[0m\n",
       "\u001b[0;34m\u001b[0m\u001b[0;34m)\u001b[0m\u001b[0;34m\u001b[0m\u001b[0;34m\u001b[0m\u001b[0m\n",
       "\u001b[0;31mDocstring:\u001b[0m\n",
       "Compare fingerprints (pairwise).\n",
       "\n",
       "Parameters\n",
       "----------\n",
       "fingerprint_generator : kissim.encoding.FingerprintGenerator\n",
       "    Fingerprints for KLIFS dataset.\n",
       "output_path : str\n",
       "    Path to output folder.\n",
       "feature_weights : None or list of float\n",
       "    Feature weights of the following form:\n",
       "    (i) None\n",
       "        Default feature weights: All features equally distributed to 1/15\n",
       "        (15 features in total).\n",
       "    (ii) By feature (list of 15 floats):\n",
       "        Features to be set in the following order: size, hbd, hba, charge, aromatic,\n",
       "        aliphatic, sco, exposure, distance_to_centroid, distance_to_hinge_region,\n",
       "        distance_to_dfg_region, distance_to_front_pocket, moment1, moment2, and moment3.\n",
       "        All floats must sum up to 1.0.\n",
       "n_cores : int\n",
       "    Number of cores used to generate fingerprint distances.\n",
       "\n",
       "Returns\n",
       "-------\n",
       "feature_distances_generator : kissim.comparison.FeatureDistancesGenerator\n",
       "    Feature distances for all pairwise fingerprints.\n",
       "fingerprint_distance_generator : kissim.comparison.FingerprintDistanceGenerator\n",
       "    Fingerprint distance for all pairwise fingeprints.\n",
       "\u001b[0;31mFile:\u001b[0m      ~/Documents/GitHub/kissim/kissim/api/compare.py\n",
       "\u001b[0;31mType:\u001b[0m      function\n"
      ]
     },
     "metadata": {},
     "output_type": "display_data"
    }
   ],
   "source": [
    "# flake8-noqa-cell\n",
    "compare?"
   ]
  },
  {
   "cell_type": "code",
   "execution_count": 12,
   "metadata": {},
   "outputs": [
    {
     "name": "stdout",
     "output_type": "stream",
     "text": [
      "INFO:kissim.comparison.feature_distances_generator:GENERATE FEATURE DISTANCES\n",
      "INFO:kissim.comparison.feature_distances_generator:Number of input input fingerprints: 15\n",
      "INFO:kissim.comparison.feature_distances_generator:Feature distances generation started at: 2021-03-18 14:52:29.835034\n",
      "INFO:kissim.utils:Number of cores used: 2.\n",
      "INFO:kissim.comparison.feature_distances_generator:Number of ouput feature distances: 105\n",
      "INFO:kissim.comparison.feature_distances_generator:Runtime: 0:00:00.452824\n",
      "INFO:kissim.comparison.fingerprint_distance_generator:GENERATE FINGERPRINT DISTANCES\n",
      "INFO:kissim.comparison.fingerprint_distance_generator:Number of input feature distances: 105\n",
      "INFO:kissim.comparison.fingerprint_distance_generator:Fingerprint distance generation started at: 2021-03-18 14:52:30.289039\n",
      "INFO:kissim.utils:Number of cores used: 2.\n",
      "INFO:kissim.comparison.fingerprint_distance_generator:Feature weights: [0.06666667 0.06666667 0.06666667 0.06666667 0.06666667 0.06666667\n",
      " 0.06666667 0.06666667 0.06666667 0.06666667 0.06666667 0.06666667\n",
      " 0.06666667 0.06666667 0.06666667]\n",
      "INFO:kissim.comparison.fingerprint_distance_generator:Number of output fingerprint distances: 105\n",
      "INFO:kissim.comparison.fingerprint_distance_generator:Runtime: 0:00:00.024179\n"
     ]
    }
   ],
   "source": [
    "feature_distances_generator, fingerprint_distance_generator = compare(\n",
    "    fingerprint_generator, n_cores=2\n",
    ")"
   ]
  },
  {
   "cell_type": "markdown",
   "metadata": {},
   "source": [
    "### `FingerprintDistanceGenerator` object\n",
    "\n",
    "For final fingerprint distances, please refer to the `FingerprintDistanceGenerator` object."
   ]
  },
  {
   "cell_type": "code",
   "execution_count": 13,
   "metadata": {},
   "outputs": [
    {
     "data": {
      "text/html": [
       "<div>\n",
       "<style scoped>\n",
       "    .dataframe tbody tr th:only-of-type {\n",
       "        vertical-align: middle;\n",
       "    }\n",
       "\n",
       "    .dataframe tbody tr th {\n",
       "        vertical-align: top;\n",
       "    }\n",
       "\n",
       "    .dataframe thead th {\n",
       "        text-align: right;\n",
       "    }\n",
       "</style>\n",
       "<table border=\"1\" class=\"dataframe\">\n",
       "  <thead>\n",
       "    <tr style=\"text-align: right;\">\n",
       "      <th></th>\n",
       "      <th>structure1</th>\n",
       "      <th>structure2</th>\n",
       "      <th>kinase1</th>\n",
       "      <th>kinase2</th>\n",
       "      <th>distance</th>\n",
       "      <th>coverage</th>\n",
       "    </tr>\n",
       "  </thead>\n",
       "  <tbody>\n",
       "    <tr>\n",
       "      <th>0</th>\n",
       "      <td>109</td>\n",
       "      <td>118</td>\n",
       "      <td>ABL2</td>\n",
       "      <td>ABL2</td>\n",
       "      <td>0.074214</td>\n",
       "      <td>0.992000</td>\n",
       "    </tr>\n",
       "    <tr>\n",
       "      <th>1</th>\n",
       "      <td>109</td>\n",
       "      <td>110</td>\n",
       "      <td>ABL2</td>\n",
       "      <td>ABL2</td>\n",
       "      <td>0.061968</td>\n",
       "      <td>0.986667</td>\n",
       "    </tr>\n",
       "    <tr>\n",
       "      <th>2</th>\n",
       "      <td>109</td>\n",
       "      <td>113</td>\n",
       "      <td>ABL2</td>\n",
       "      <td>ABL2</td>\n",
       "      <td>0.064064</td>\n",
       "      <td>0.984000</td>\n",
       "    </tr>\n",
       "    <tr>\n",
       "      <th>3</th>\n",
       "      <td>109</td>\n",
       "      <td>111</td>\n",
       "      <td>ABL2</td>\n",
       "      <td>ABL2</td>\n",
       "      <td>0.064064</td>\n",
       "      <td>0.984000</td>\n",
       "    </tr>\n",
       "    <tr>\n",
       "      <th>4</th>\n",
       "      <td>109</td>\n",
       "      <td>116</td>\n",
       "      <td>ABL2</td>\n",
       "      <td>ABL2</td>\n",
       "      <td>0.058630</td>\n",
       "      <td>0.978000</td>\n",
       "    </tr>\n",
       "    <tr>\n",
       "      <th>...</th>\n",
       "      <td>...</td>\n",
       "      <td>...</td>\n",
       "      <td>...</td>\n",
       "      <td>...</td>\n",
       "      <td>...</td>\n",
       "      <td>...</td>\n",
       "    </tr>\n",
       "    <tr>\n",
       "      <th>100</th>\n",
       "      <td>2542</td>\n",
       "      <td>5399</td>\n",
       "      <td>AKT1</td>\n",
       "      <td>ALK</td>\n",
       "      <td>0.340086</td>\n",
       "      <td>0.800667</td>\n",
       "    </tr>\n",
       "    <tr>\n",
       "      <th>101</th>\n",
       "      <td>2542</td>\n",
       "      <td>9122</td>\n",
       "      <td>AKT1</td>\n",
       "      <td>ADCK3</td>\n",
       "      <td>0.420406</td>\n",
       "      <td>0.814000</td>\n",
       "    </tr>\n",
       "    <tr>\n",
       "      <th>102</th>\n",
       "      <td>3833</td>\n",
       "      <td>5399</td>\n",
       "      <td>AAK1</td>\n",
       "      <td>ALK</td>\n",
       "      <td>0.267515</td>\n",
       "      <td>0.976667</td>\n",
       "    </tr>\n",
       "    <tr>\n",
       "      <th>103</th>\n",
       "      <td>3833</td>\n",
       "      <td>9122</td>\n",
       "      <td>AAK1</td>\n",
       "      <td>ADCK3</td>\n",
       "      <td>0.303542</td>\n",
       "      <td>0.990000</td>\n",
       "    </tr>\n",
       "    <tr>\n",
       "      <th>104</th>\n",
       "      <td>5399</td>\n",
       "      <td>9122</td>\n",
       "      <td>ALK</td>\n",
       "      <td>ADCK3</td>\n",
       "      <td>0.328649</td>\n",
       "      <td>0.978000</td>\n",
       "    </tr>\n",
       "  </tbody>\n",
       "</table>\n",
       "<p>105 rows × 6 columns</p>\n",
       "</div>"
      ],
      "text/plain": [
       "     structure1  structure2 kinase1 kinase2  distance  coverage\n",
       "0           109         118    ABL2    ABL2  0.074214  0.992000\n",
       "1           109         110    ABL2    ABL2  0.061968  0.986667\n",
       "2           109         113    ABL2    ABL2  0.064064  0.984000\n",
       "3           109         111    ABL2    ABL2  0.064064  0.984000\n",
       "4           109         116    ABL2    ABL2  0.058630  0.978000\n",
       "..          ...         ...     ...     ...       ...       ...\n",
       "100        2542        5399    AKT1     ALK  0.340086  0.800667\n",
       "101        2542        9122    AKT1   ADCK3  0.420406  0.814000\n",
       "102        3833        5399    AAK1     ALK  0.267515  0.976667\n",
       "103        3833        9122    AAK1   ADCK3  0.303542  0.990000\n",
       "104        5399        9122     ALK   ADCK3  0.328649  0.978000\n",
       "\n",
       "[105 rows x 6 columns]"
      ]
     },
     "execution_count": 13,
     "metadata": {},
     "output_type": "execute_result"
    }
   ],
   "source": [
    "fingerprint_distance_generator.data"
   ]
  },
  {
   "cell_type": "markdown",
   "metadata": {},
   "source": [
    "### `FeatureDistancesGenerator` object\n",
    "\n",
    "For more information about feature-specific distances, please refer to the `FeatureDistancesGenerator` object."
   ]
  },
  {
   "cell_type": "code",
   "execution_count": 14,
   "metadata": {},
   "outputs": [
    {
     "data": {
      "text/plain": [
       "{(109,\n",
       "  118): <kissim.comparison.feature_distances.FeatureDistances at 0x7fb8794100d0>,\n",
       " (109,\n",
       "  110): <kissim.comparison.feature_distances.FeatureDistances at 0x7fb879410160>,\n",
       " (109,\n",
       "  113): <kissim.comparison.feature_distances.FeatureDistances at 0x7fb8794101c0>,\n",
       " (109,\n",
       "  111): <kissim.comparison.feature_distances.FeatureDistances at 0x7fb879410220>,\n",
       " (109,\n",
       "  116): <kissim.comparison.feature_distances.FeatureDistances at 0x7fb8794102e0>,\n",
       " (109,\n",
       "  112): <kissim.comparison.feature_distances.FeatureDistances at 0x7fb879410400>,\n",
       " (109,\n",
       "  114): <kissim.comparison.feature_distances.FeatureDistances at 0x7fb879410520>,\n",
       " (109,\n",
       "  115): <kissim.comparison.feature_distances.FeatureDistances at 0x7fb879410640>,\n",
       " (109,\n",
       "  12347): <kissim.comparison.feature_distances.FeatureDistances at 0x7fb879410760>,\n",
       " (109,\n",
       "  1641): <kissim.comparison.feature_distances.FeatureDistances at 0x7fb879410880>,\n",
       " (109,\n",
       "  2542): <kissim.comparison.feature_distances.FeatureDistances at 0x7fb8794109a0>,\n",
       " (109,\n",
       "  3833): <kissim.comparison.feature_distances.FeatureDistances at 0x7fb879410ac0>,\n",
       " (109,\n",
       "  5399): <kissim.comparison.feature_distances.FeatureDistances at 0x7fb879410be0>,\n",
       " (109,\n",
       "  9122): <kissim.comparison.feature_distances.FeatureDistances at 0x7fb879410d00>,\n",
       " (118,\n",
       "  110): <kissim.comparison.feature_distances.FeatureDistances at 0x7fb879426100>,\n",
       " (118,\n",
       "  113): <kissim.comparison.feature_distances.FeatureDistances at 0x7fb879426190>,\n",
       " (118,\n",
       "  111): <kissim.comparison.feature_distances.FeatureDistances at 0x7fb8794261f0>,\n",
       " (118,\n",
       "  116): <kissim.comparison.feature_distances.FeatureDistances at 0x7fb879426250>,\n",
       " (118,\n",
       "  112): <kissim.comparison.feature_distances.FeatureDistances at 0x7fb8794262b0>,\n",
       " (118,\n",
       "  114): <kissim.comparison.feature_distances.FeatureDistances at 0x7fb879426310>,\n",
       " (118,\n",
       "  115): <kissim.comparison.feature_distances.FeatureDistances at 0x7fb879426370>,\n",
       " (118,\n",
       "  12347): <kissim.comparison.feature_distances.FeatureDistances at 0x7fb8794263d0>,\n",
       " (118,\n",
       "  1641): <kissim.comparison.feature_distances.FeatureDistances at 0x7fb879426430>,\n",
       " (118,\n",
       "  2542): <kissim.comparison.feature_distances.FeatureDistances at 0x7fb879426490>,\n",
       " (118,\n",
       "  3833): <kissim.comparison.feature_distances.FeatureDistances at 0x7fb8794264f0>,\n",
       " (118,\n",
       "  5399): <kissim.comparison.feature_distances.FeatureDistances at 0x7fb879426550>,\n",
       " (118,\n",
       "  9122): <kissim.comparison.feature_distances.FeatureDistances at 0x7fb8794265b0>,\n",
       " (110,\n",
       "  113): <kissim.comparison.feature_distances.FeatureDistances at 0x7fb879426610>,\n",
       " (110,\n",
       "  111): <kissim.comparison.feature_distances.FeatureDistances at 0x7fb8794260d0>,\n",
       " (110,\n",
       "  116): <kissim.comparison.feature_distances.FeatureDistances at 0x7fb8794266d0>,\n",
       " (110,\n",
       "  112): <kissim.comparison.feature_distances.FeatureDistances at 0x7fb879426730>,\n",
       " (110,\n",
       "  114): <kissim.comparison.feature_distances.FeatureDistances at 0x7fb879426790>,\n",
       " (110,\n",
       "  115): <kissim.comparison.feature_distances.FeatureDistances at 0x7fb8794267f0>,\n",
       " (110,\n",
       "  12347): <kissim.comparison.feature_distances.FeatureDistances at 0x7fb879426850>,\n",
       " (110,\n",
       "  1641): <kissim.comparison.feature_distances.FeatureDistances at 0x7fb8794268b0>,\n",
       " (110,\n",
       "  2542): <kissim.comparison.feature_distances.FeatureDistances at 0x7fb879426910>,\n",
       " (110,\n",
       "  3833): <kissim.comparison.feature_distances.FeatureDistances at 0x7fb879426970>,\n",
       " (110,\n",
       "  5399): <kissim.comparison.feature_distances.FeatureDistances at 0x7fb8794269d0>,\n",
       " (110,\n",
       "  9122): <kissim.comparison.feature_distances.FeatureDistances at 0x7fb879426a30>,\n",
       " (113,\n",
       "  111): <kissim.comparison.feature_distances.FeatureDistances at 0x7fb879426a90>,\n",
       " (113,\n",
       "  116): <kissim.comparison.feature_distances.FeatureDistances at 0x7fb879426ca0>,\n",
       " (113,\n",
       "  112): <kissim.comparison.feature_distances.FeatureDistances at 0x7fb879426d00>,\n",
       " (113,\n",
       "  114): <kissim.comparison.feature_distances.FeatureDistances at 0x7fb879426130>,\n",
       " (113,\n",
       "  115): <kissim.comparison.feature_distances.FeatureDistances at 0x7fb879426dc0>,\n",
       " (113,\n",
       "  12347): <kissim.comparison.feature_distances.FeatureDistances at 0x7fb879426e20>,\n",
       " (113,\n",
       "  1641): <kissim.comparison.feature_distances.FeatureDistances at 0x7fb879426e80>,\n",
       " (113,\n",
       "  2542): <kissim.comparison.feature_distances.FeatureDistances at 0x7fb879426ee0>,\n",
       " (113,\n",
       "  3833): <kissim.comparison.feature_distances.FeatureDistances at 0x7fb879426f40>,\n",
       " (113,\n",
       "  5399): <kissim.comparison.feature_distances.FeatureDistances at 0x7fb879426fa0>,\n",
       " (113,\n",
       "  9122): <kissim.comparison.feature_distances.FeatureDistances at 0x7fb87942d040>,\n",
       " (111,\n",
       "  116): <kissim.comparison.feature_distances.FeatureDistances at 0x7fb87942d0a0>,\n",
       " (111,\n",
       "  112): <kissim.comparison.feature_distances.FeatureDistances at 0x7fb87942d100>,\n",
       " (111,\n",
       "  114): <kissim.comparison.feature_distances.FeatureDistances at 0x7fb87942d160>,\n",
       " (111,\n",
       "  115): <kissim.comparison.feature_distances.FeatureDistances at 0x7fb87942d3a0>,\n",
       " (111,\n",
       "  12347): <kissim.comparison.feature_distances.FeatureDistances at 0x7fb87942d400>,\n",
       " (111,\n",
       "  1641): <kissim.comparison.feature_distances.FeatureDistances at 0x7fb87942d460>,\n",
       " (111,\n",
       "  2542): <kissim.comparison.feature_distances.FeatureDistances at 0x7fb879426670>,\n",
       " (111,\n",
       "  3833): <kissim.comparison.feature_distances.FeatureDistances at 0x7fb8794100a0>,\n",
       " (111,\n",
       "  5399): <kissim.comparison.feature_distances.FeatureDistances at 0x7fb87942d4c0>,\n",
       " (111,\n",
       "  9122): <kissim.comparison.feature_distances.FeatureDistances at 0x7fb87942d520>,\n",
       " (116,\n",
       "  112): <kissim.comparison.feature_distances.FeatureDistances at 0x7fb87942d580>,\n",
       " (116,\n",
       "  114): <kissim.comparison.feature_distances.FeatureDistances at 0x7fb87942d5e0>,\n",
       " (116,\n",
       "  115): <kissim.comparison.feature_distances.FeatureDistances at 0x7fb87942d640>,\n",
       " (116,\n",
       "  12347): <kissim.comparison.feature_distances.FeatureDistances at 0x7fb87942d6a0>,\n",
       " (116,\n",
       "  1641): <kissim.comparison.feature_distances.FeatureDistances at 0x7fb87942d700>,\n",
       " (116,\n",
       "  2542): <kissim.comparison.feature_distances.FeatureDistances at 0x7fb87942d760>,\n",
       " (116,\n",
       "  3833): <kissim.comparison.feature_distances.FeatureDistances at 0x7fb87942d7c0>,\n",
       " (116,\n",
       "  5399): <kissim.comparison.feature_distances.FeatureDistances at 0x7fb87942d820>,\n",
       " (116,\n",
       "  9122): <kissim.comparison.feature_distances.FeatureDistances at 0x7fb87942d880>,\n",
       " (112,\n",
       "  114): <kissim.comparison.feature_distances.FeatureDistances at 0x7fb87942d8e0>,\n",
       " (112,\n",
       "  115): <kissim.comparison.feature_distances.FeatureDistances at 0x7fb87942d9d0>,\n",
       " (112,\n",
       "  12347): <kissim.comparison.feature_distances.FeatureDistances at 0x7fb87942dc40>,\n",
       " (112,\n",
       "  1641): <kissim.comparison.feature_distances.FeatureDistances at 0x7fb87942dca0>,\n",
       " (112,\n",
       "  2542): <kissim.comparison.feature_distances.FeatureDistances at 0x7fb87942dd00>,\n",
       " (112,\n",
       "  3833): <kissim.comparison.feature_distances.FeatureDistances at 0x7fb87942dd60>,\n",
       " (112,\n",
       "  5399): <kissim.comparison.feature_distances.FeatureDistances at 0x7fb87942df70>,\n",
       " (112,\n",
       "  9122): <kissim.comparison.feature_distances.FeatureDistances at 0x7fb87942dfd0>,\n",
       " (114,\n",
       "  115): <kissim.comparison.feature_distances.FeatureDistances at 0x7fb87943b070>,\n",
       " (114,\n",
       "  12347): <kissim.comparison.feature_distances.FeatureDistances at 0x7fb87943b0d0>,\n",
       " (114,\n",
       "  1641): <kissim.comparison.feature_distances.FeatureDistances at 0x7fb87943b130>,\n",
       " (114,\n",
       "  2542): <kissim.comparison.feature_distances.FeatureDistances at 0x7fb87943b1c0>,\n",
       " (114,\n",
       "  3833): <kissim.comparison.feature_distances.FeatureDistances at 0x7fb87943b220>,\n",
       " (114,\n",
       "  5399): <kissim.comparison.feature_distances.FeatureDistances at 0x7fb87943b2b0>,\n",
       " (114,\n",
       "  9122): <kissim.comparison.feature_distances.FeatureDistances at 0x7fb87943b340>,\n",
       " (115,\n",
       "  12347): <kissim.comparison.feature_distances.FeatureDistances at 0x7fb87943b820>,\n",
       " (115,\n",
       "  1641): <kissim.comparison.feature_distances.FeatureDistances at 0x7fb87943b8e0>,\n",
       " (115,\n",
       "  2542): <kissim.comparison.feature_distances.FeatureDistances at 0x7fb87943b970>,\n",
       " (115,\n",
       "  3833): <kissim.comparison.feature_distances.FeatureDistances at 0x7fb87943ba00>,\n",
       " (115,\n",
       "  5399): <kissim.comparison.feature_distances.FeatureDistances at 0x7fb87943bc70>,\n",
       " (115,\n",
       "  9122): <kissim.comparison.feature_distances.FeatureDistances at 0x7fb87943bd00>,\n",
       " (12347,\n",
       "  1641): <kissim.comparison.feature_distances.FeatureDistances at 0x7fb87943bd60>,\n",
       " (12347,\n",
       "  2542): <kissim.comparison.feature_distances.FeatureDistances at 0x7fb87943bdf0>,\n",
       " (12347,\n",
       "  3833): <kissim.comparison.feature_distances.FeatureDistances at 0x7fb87943be80>,\n",
       " (12347,\n",
       "  5399): <kissim.comparison.feature_distances.FeatureDistances at 0x7fb87943bee0>,\n",
       " (12347,\n",
       "  9122): <kissim.comparison.feature_distances.FeatureDistances at 0x7fb87943b250>,\n",
       " (1641,\n",
       "  2542): <kissim.comparison.feature_distances.FeatureDistances at 0x7fb87943b3d0>,\n",
       " (1641,\n",
       "  3833): <kissim.comparison.feature_distances.FeatureDistances at 0x7fb87943b550>,\n",
       " (1641,\n",
       "  5399): <kissim.comparison.feature_distances.FeatureDistances at 0x7fb87943b850>,\n",
       " (1641,\n",
       "  9122): <kissim.comparison.feature_distances.FeatureDistances at 0x7fb879410040>,\n",
       " (2542,\n",
       "  3833): <kissim.comparison.feature_distances.FeatureDistances at 0x7fb87942d940>,\n",
       " (2542,\n",
       "  5399): <kissim.comparison.feature_distances.FeatureDistances at 0x7fb87942d9a0>,\n",
       " (2542,\n",
       "  9122): <kissim.comparison.feature_distances.FeatureDistances at 0x7fb87943b3a0>,\n",
       " (3833,\n",
       "  5399): <kissim.comparison.feature_distances.FeatureDistances at 0x7fb87943b430>,\n",
       " (3833,\n",
       "  9122): <kissim.comparison.feature_distances.FeatureDistances at 0x7fb87943b4c0>,\n",
       " (5399,\n",
       "  9122): <kissim.comparison.feature_distances.FeatureDistances at 0x7fb87943b520>}"
      ]
     },
     "execution_count": 14,
     "metadata": {},
     "output_type": "execute_result"
    }
   ],
   "source": [
    "feature_distances_generator.data"
   ]
  }
 ],
 "metadata": {
  "kernelspec": {
   "display_name": "Python 3",
   "language": "python",
   "name": "python3"
  },
  "language_info": {
   "codemirror_mode": {
    "name": "ipython",
    "version": 3
   },
   "file_extension": ".py",
   "mimetype": "text/x-python",
   "name": "python",
   "nbconvert_exporter": "python",
   "pygments_lexer": "ipython3",
   "version": "3.8.6"
  }
 },
 "nbformat": 4,
 "nbformat_minor": 4
}
