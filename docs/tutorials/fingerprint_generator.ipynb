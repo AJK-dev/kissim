{
 "cells": [
  {
   "cell_type": "markdown",
   "metadata": {},
   "source": [
    "# The `fingerprint_generator` module"
   ]
  },
  {
   "cell_type": "code",
   "execution_count": 1,
   "metadata": {},
   "outputs": [],
   "source": [
    "%load_ext autoreload\n",
    "%autoreload 2"
   ]
  },
  {
   "cell_type": "code",
   "execution_count": 2,
   "metadata": {},
   "outputs": [
    {
     "data": {
      "application/vnd.jupyter.widget-view+json": {
       "model_id": "6055c8e42d2c4627b60502ad59979295",
       "version_major": 2,
       "version_minor": 0
      },
      "text/plain": []
     },
     "metadata": {},
     "output_type": "display_data"
    }
   ],
   "source": [
    "import logging\n",
    "from pathlib import Path\n",
    "import sys\n",
    "\n",
    "import numpy as np\n",
    "from opencadd.databases.klifs import setup_remote, setup_local\n",
    "\n",
    "from kissim.encoding import FingerprintGenerator"
   ]
  },
  {
   "cell_type": "code",
   "execution_count": 3,
   "metadata": {},
   "outputs": [],
   "source": [
    "logger = logging.getLogger(\"opencadd\")\n",
    "logger.setLevel(logging.WARNING)\n",
    "logging.basicConfig(stream=sys.stdout, level=logging.INFO)\n",
    "logger = logging.getLogger(\"kissim\")"
   ]
  },
  {
   "cell_type": "code",
   "execution_count": 4,
   "metadata": {},
   "outputs": [],
   "source": [
    "HERE = Path(_dh[-1])  # noqa: F821\n",
    "DATA = HERE / \"../../kissim/tests/data/KLIFS_download/\""
   ]
  },
  {
   "cell_type": "markdown",
   "metadata": {},
   "source": [
    "## Set up KLIFS remote and local sessions"
   ]
  },
  {
   "cell_type": "code",
   "execution_count": 5,
   "metadata": {},
   "outputs": [],
   "source": [
    "KLIFS_REMOTE = setup_remote()\n",
    "KLIFS_LOCAL = setup_local(DATA)"
   ]
  },
  {
   "cell_type": "markdown",
   "metadata": {},
   "source": [
    "## Select structure KLIFS IDs"
   ]
  },
  {
   "cell_type": "code",
   "execution_count": 6,
   "metadata": {},
   "outputs": [
    {
     "data": {
      "text/plain": [
       "[109,\n",
       " 118,\n",
       " 110,\n",
       " 113,\n",
       " 111,\n",
       " 116,\n",
       " 112,\n",
       " 114,\n",
       " 115,\n",
       " 117,\n",
       " 12347,\n",
       " 1641,\n",
       " 2542,\n",
       " 3833,\n",
       " 5399,\n",
       " 9122]"
      ]
     },
     "execution_count": 6,
     "metadata": {},
     "output_type": "execute_result"
    }
   ],
   "source": [
    "structure_klifs_ids = KLIFS_LOCAL.structures.all_structures()[\"structure.klifs_id\"].to_list()\n",
    "structure_klifs_ids"
   ]
  },
  {
   "cell_type": "markdown",
   "metadata": {},
   "source": [
    "## Generate multiple fingerprints"
   ]
  },
  {
   "cell_type": "markdown",
   "metadata": {},
   "source": [
    "```python\n",
    "FingerprintGenerator.from_structure_klifs_ids(\n",
    "    structure_klifs_ids, klifs_session, n_cores\n",
    ")\n",
    "```"
   ]
  },
  {
   "cell_type": "markdown",
   "metadata": {},
   "source": [
    "### Locally in sequence\n",
    "\n",
    "Number of cores: 1"
   ]
  },
  {
   "cell_type": "code",
   "execution_count": 7,
   "metadata": {},
   "outputs": [
    {
     "name": "stdout",
     "output_type": "stream",
     "text": [
      "INFO:kissim.encoding.fingerprint_generator:GENERATE FINGERPRINTS\n",
      "INFO:kissim.encoding.fingerprint_generator:Number of input structures: 16\n",
      "INFO:kissim.encoding.fingerprint_generator:Fingerprint generation started at: 2021-03-18 14:25:50.676124\n",
      "INFO:kissim.utils:Number of cores used: 1.\n",
      "INFO:kissim.encoding.fingerprint_generator:109: Generate fingerprint...\n",
      "INFO:kissim.encoding.fingerprint_generator:118: Generate fingerprint...\n",
      "INFO:kissim.encoding.fingerprint_generator:110: Generate fingerprint...\n",
      "INFO:kissim.encoding.fingerprint_generator:113: Generate fingerprint...\n",
      "INFO:kissim.encoding.fingerprint_generator:111: Generate fingerprint...\n",
      "INFO:kissim.encoding.fingerprint_generator:116: Generate fingerprint...\n",
      "INFO:kissim.encoding.fingerprint_generator:112: Generate fingerprint...\n",
      "INFO:kissim.encoding.fingerprint_generator:114: Generate fingerprint...\n",
      "INFO:kissim.encoding.fingerprint_generator:115: Generate fingerprint...\n",
      "INFO:kissim.encoding.fingerprint_generator:117: Generate fingerprint...\n",
      "WARNING:kissim.io.data:117: Local complex.pdb or pocket.pdb file missing: /home/dominique/Documents/GitHub/kissim/docs/tutorials/../../kissim/tests/data/KLIFS_download/HUMAN/ABL2/3gvu_altA_chainA/complex.pdb\n",
      "WARNING:kissim.encoding.fingerprint:117: Empty fingerprint (data unaccessible).\n",
      "INFO:kissim.encoding.fingerprint_generator:12347: Generate fingerprint...\n",
      "INFO:kissim.encoding.fingerprint_generator:1641: Generate fingerprint...\n",
      "INFO:kissim.encoding.fingerprint_generator:2542: Generate fingerprint...\n",
      "INFO:kissim.encoding.fingerprint_generator:3833: Generate fingerprint...\n",
      "INFO:kissim.encoding.fingerprint_generator:5399: Generate fingerprint...\n"
     ]
    },
    {
     "name": "stderr",
     "output_type": "stream",
     "text": [
      "/home/dominique/.local/miniconda/envs/kissim/lib/python3.8/site-packages/Bio/PDB/PDBParser.py:395: PDBConstructionWarning: Ignoring unrecognized record 'END' at line 2445\n",
      "  warnings.warn(\n"
     ]
    },
    {
     "name": "stdout",
     "output_type": "stream",
     "text": [
      "INFO:kissim.encoding.fingerprint_generator:9122: Generate fingerprint...\n",
      "INFO:kissim.encoding.fingerprint_generator:Number of output fingerprints: 15\n",
      "INFO:kissim.encoding.fingerprint_generator:Runtime: 0:00:33.182012\n"
     ]
    }
   ],
   "source": [
    "fingerprints1 = FingerprintGenerator.from_structure_klifs_ids(structure_klifs_ids, KLIFS_LOCAL, 1)"
   ]
  },
  {
   "cell_type": "markdown",
   "metadata": {},
   "source": [
    "### Remotely in sequence\n",
    "\n",
    "Number of cores: 1"
   ]
  },
  {
   "cell_type": "code",
   "execution_count": null,
   "metadata": {},
   "outputs": [
    {
     "name": "stdout",
     "output_type": "stream",
     "text": [
      "INFO:kissim.encoding.fingerprint_generator:GENERATE FINGERPRINTS\n",
      "INFO:kissim.encoding.fingerprint_generator:Number of input structures: 16\n",
      "INFO:kissim.encoding.fingerprint_generator:Fingerprint generation started at: 2021-03-18 14:26:23.881159\n",
      "INFO:kissim.utils:Number of cores used: 1.\n",
      "INFO:kissim.encoding.fingerprint_generator:109: Generate fingerprint...\n",
      "INFO:kissim.encoding.fingerprint_generator:118: Generate fingerprint...\n"
     ]
    }
   ],
   "source": [
    "fingerprints2 = FingerprintGenerator.from_structure_klifs_ids(structure_klifs_ids, KLIFS_REMOTE, 1)"
   ]
  },
  {
   "cell_type": "markdown",
   "metadata": {},
   "source": [
    "### Locally in parallel\n",
    "\n",
    "Number of cores: 2"
   ]
  },
  {
   "cell_type": "code",
   "execution_count": null,
   "metadata": {},
   "outputs": [],
   "source": [
    "fingerprints3 = FingerprintGenerator.from_structure_klifs_ids(structure_klifs_ids, KLIFS_LOCAL, 2)"
   ]
  },
  {
   "cell_type": "markdown",
   "metadata": {},
   "source": [
    "### Remotely in parallel\n",
    "\n",
    "Number of cores: 2"
   ]
  },
  {
   "cell_type": "code",
   "execution_count": null,
   "metadata": {},
   "outputs": [],
   "source": [
    "fingerprints4 = FingerprintGenerator.from_structure_klifs_ids(\n",
    "    structure_klifs_ids[:2], KLIFS_REMOTE, 2\n",
    ")"
   ]
  },
  {
   "cell_type": "markdown",
   "metadata": {},
   "source": [
    "## Save/load fingerprints"
   ]
  },
  {
   "cell_type": "code",
   "execution_count": null,
   "metadata": {},
   "outputs": [],
   "source": [
    "json_filepath = Path(\"fingerprints.json\")"
   ]
  },
  {
   "cell_type": "code",
   "execution_count": null,
   "metadata": {},
   "outputs": [],
   "source": [
    "fingerprints1.to_json(json_filepath)"
   ]
  },
  {
   "cell_type": "code",
   "execution_count": null,
   "metadata": {},
   "outputs": [],
   "source": [
    "fingerprints1_reloaded = FingerprintGenerator.from_json(json_filepath)\n",
    "fingerprints1_reloaded"
   ]
  },
  {
   "cell_type": "code",
   "execution_count": null,
   "metadata": {},
   "outputs": [],
   "source": [
    "v1 = fingerprints1_reloaded.data[109].values_array()\n",
    "v2 = fingerprints1.data[109].values_array()\n",
    "np.nansum(v1) == np.nansum(v2)"
   ]
  },
  {
   "cell_type": "code",
   "execution_count": null,
   "metadata": {},
   "outputs": [],
   "source": [
    "json_filepath.unlink()"
   ]
  }
 ],
 "metadata": {
  "kernelspec": {
   "display_name": "Python 3",
   "language": "python",
   "name": "python3"
  },
  "language_info": {
   "codemirror_mode": {
    "name": "ipython",
    "version": 3
   },
   "file_extension": ".py",
   "mimetype": "text/x-python",
   "name": "python",
   "nbconvert_exporter": "python",
   "pygments_lexer": "ipython3",
   "version": "3.8.6"
  }
 },
 "nbformat": 4,
 "nbformat_minor": 4
}
