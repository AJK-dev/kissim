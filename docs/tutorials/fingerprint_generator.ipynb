{
 "cells": [
  {
   "cell_type": "markdown",
   "metadata": {},
   "source": [
    "# The `fingerprint_generator` module"
   ]
  },
  {
   "cell_type": "code",
   "execution_count": 1,
   "metadata": {},
   "outputs": [],
   "source": [
    "%load_ext autoreload\n",
    "%autoreload 2"
   ]
  },
  {
   "cell_type": "code",
   "execution_count": 2,
   "metadata": {},
   "outputs": [
    {
     "name": "stderr",
     "output_type": "stream",
     "text": [
      "INFO:opencadd.databases.klifs.api:If you want to see an non-truncated version of the DataFrames in this module, use `pd.set_option('display.max_columns', 50)` in your notebook.\n"
     ]
    },
    {
     "data": {
      "application/vnd.jupyter.widget-view+json": {
       "model_id": "3e08baf7da434e80adbb4a832117824d",
       "version_major": 2,
       "version_minor": 0
      },
      "text/plain": []
     },
     "metadata": {},
     "output_type": "display_data"
    }
   ],
   "source": [
    "import logging \n",
    "from pathlib import Path\n",
    "\n",
    "import numpy as np\n",
    "import pandas as pd\n",
    "from opencadd.databases.klifs import setup_remote, setup_local\n",
    "\n",
    "from kissim.encoding import Fingerprint, FingerprintGenerator"
   ]
  },
  {
   "cell_type": "code",
   "execution_count": 3,
   "metadata": {},
   "outputs": [],
   "source": [
    "#logger = logging.getLogger(\"opencadd\")\n",
    "#logger.setLevel(logging.ERROR)"
   ]
  },
  {
   "cell_type": "markdown",
   "metadata": {},
   "source": [
    "## Set up KLIFS remote and local sessions"
   ]
  },
  {
   "cell_type": "code",
   "execution_count": 4,
   "metadata": {},
   "outputs": [
    {
     "name": "stderr",
     "output_type": "stream",
     "text": [
      "INFO:opencadd.databases.klifs.api:Set up remote session...\n",
      "INFO:opencadd.databases.klifs.api:Remote session is ready!\n",
      "INFO:opencadd.databases.klifs.api:Set up local session...\n",
      "INFO:opencadd.databases.klifs.local:Load overview.csv...\n",
      "INFO:opencadd.databases.klifs.local:Load KLIFS_export.csv...\n",
      "INFO:opencadd.databases.klifs.local:Merge both csv files...\n",
      "INFO:opencadd.databases.klifs.local:Add paths to coordinate folders to structures...\n",
      "INFO:opencadd.databases.klifs.local:Add KLIFS IDs to structures (uses remote since not available locally!)...\n",
      "INFO:opencadd.databases.klifs.api:Local session is ready!\n"
     ]
    }
   ],
   "source": [
    "KLIFS_REMOTE = setup_remote()\n",
    "KLIFS_LOCAL = setup_local(\n",
    "    \"/home/dominique/Documents/GitHub/kissim_app/data/external/20201223_KLIFS_ABL2_HUMAN/\"\n",
    ")"
   ]
  },
  {
   "cell_type": "markdown",
   "metadata": {},
   "source": [
    "## Select structure KLIFS IDs"
   ]
  },
  {
   "cell_type": "code",
   "execution_count": 5,
   "metadata": {},
   "outputs": [
    {
     "data": {
      "text/plain": [
       "[109, 118, 110, 113, 111, 116, 112, 114, 115, 117]"
      ]
     },
     "execution_count": 5,
     "metadata": {},
     "output_type": "execute_result"
    }
   ],
   "source": [
    "structure_klifs_ids = KLIFS_LOCAL.structures.all_structures()[\"structure.klifs_id\"].to_list()\n",
    "structure_klifs_ids"
   ]
  },
  {
   "cell_type": "markdown",
   "metadata": {},
   "source": [
    "## Generate multiple fingerprints"
   ]
  },
  {
   "cell_type": "markdown",
   "metadata": {},
   "source": [
    "```python\n",
    "FingerprintGenerator.from_structure_klifs_ids(\n",
    "    structure_klifs_ids, klifs_session, n_cores\n",
    ")\n",
    "```"
   ]
  },
  {
   "cell_type": "markdown",
   "metadata": {},
   "source": [
    "### Locally in sequence\n",
    "\n",
    "Number of cores: 1"
   ]
  },
  {
   "cell_type": "code",
   "execution_count": 6,
   "metadata": {},
   "outputs": [
    {
     "name": "stderr",
     "output_type": "stream",
     "text": [
      "INFO:kissim.encoding.fingerprint_generator:Number of cores used: 1.\n",
      "INFO:kissim.encoding.fingerprint_generator:Number of input structures: 10\n",
      "INFO:kissim.encoding.fingerprint_generator:Number of fingerprints: 10\n",
      "INFO:kissim.encoding.fingerprint_generator:Number of fingerprints without None: 10\n",
      "INFO:kissim.encoding.fingerprint_generator:Start of fingerprint generation: 2021-01-13 19:16:11.070047\n",
      "INFO:kissim.encoding.fingerprint_generator:End of fingerprint generation: 2021-01-13 19:16:30.575705\n"
     ]
    }
   ],
   "source": [
    "fingerprints1 = FingerprintGenerator.from_structure_klifs_ids(\n",
    "    structure_klifs_ids, KLIFS_LOCAL, 1\n",
    ")"
   ]
  },
  {
   "cell_type": "code",
   "execution_count": 7,
   "metadata": {},
   "outputs": [
    {
     "data": {
      "text/plain": [
       "{109: <kissim.encoding.fingerprint.Fingerprint at 0x7f5935880a90>,\n",
       " 118: <kissim.encoding.fingerprint.Fingerprint at 0x7f59366da940>,\n",
       " 110: <kissim.encoding.fingerprint.Fingerprint at 0x7f593558bac0>,\n",
       " 113: <kissim.encoding.fingerprint.Fingerprint at 0x7f59351f1df0>,\n",
       " 111: <kissim.encoding.fingerprint.Fingerprint at 0x7f59366fa9a0>,\n",
       " 116: <kissim.encoding.fingerprint.Fingerprint at 0x7f59354b20a0>,\n",
       " 112: <kissim.encoding.fingerprint.Fingerprint at 0x7f59351ec130>,\n",
       " 114: <kissim.encoding.fingerprint.Fingerprint at 0x7f5934b804c0>,\n",
       " 115: <kissim.encoding.fingerprint.Fingerprint at 0x7f59352f4490>,\n",
       " 117: <kissim.encoding.fingerprint.Fingerprint at 0x7f59352f4100>}"
      ]
     },
     "execution_count": 7,
     "metadata": {},
     "output_type": "execute_result"
    }
   ],
   "source": [
    "fingerprints1.data"
   ]
  },
  {
   "cell_type": "markdown",
   "metadata": {},
   "source": [
    "### Remotely in sequence\n",
    "\n",
    "Number of cores: 1"
   ]
  },
  {
   "cell_type": "code",
   "execution_count": 8,
   "metadata": {},
   "outputs": [
    {
     "name": "stderr",
     "output_type": "stream",
     "text": [
      "INFO:kissim.encoding.fingerprint_generator:Number of cores used: 1.\n",
      "INFO:kissim.encoding.fingerprint_generator:Number of input structures: 10\n",
      "INFO:kissim.encoding.fingerprint_generator:Number of fingerprints: 10\n",
      "INFO:kissim.encoding.fingerprint_generator:Number of fingerprints without None: 10\n",
      "INFO:kissim.encoding.fingerprint_generator:Start of fingerprint generation: 2021-01-13 19:16:30.601642\n",
      "INFO:kissim.encoding.fingerprint_generator:End of fingerprint generation: 2021-01-13 19:17:04.563103\n"
     ]
    }
   ],
   "source": [
    "fingerprints2 = FingerprintGenerator.from_structure_klifs_ids(\n",
    "    structure_klifs_ids, KLIFS_REMOTE, 1\n",
    ")"
   ]
  },
  {
   "cell_type": "markdown",
   "metadata": {},
   "source": [
    "Needs _maybe_ waiting times to not overload KLIFS."
   ]
  },
  {
   "cell_type": "markdown",
   "metadata": {},
   "source": [
    "### Locally in parallel\n",
    "\n",
    "Number of cores: 2"
   ]
  },
  {
   "cell_type": "code",
   "execution_count": 9,
   "metadata": {},
   "outputs": [
    {
     "name": "stderr",
     "output_type": "stream",
     "text": [
      "INFO:kissim.encoding.fingerprint_generator:Number of cores used: 2.\n",
      "INFO:kissim.encoding.fingerprint_generator:Number of input structures: 10\n",
      "INFO:kissim.encoding.fingerprint_generator:Number of fingerprints: 10\n",
      "INFO:kissim.encoding.fingerprint_generator:Number of fingerprints without None: 10\n",
      "INFO:kissim.encoding.fingerprint_generator:Start of fingerprint generation: 2021-01-13 19:17:04.576006\n",
      "INFO:kissim.encoding.fingerprint_generator:End of fingerprint generation: 2021-01-13 19:17:16.239090\n"
     ]
    }
   ],
   "source": [
    "fingerprints3 = FingerprintGenerator.from_structure_klifs_ids(\n",
    "    structure_klifs_ids, KLIFS_LOCAL, 2\n",
    ")"
   ]
  },
  {
   "cell_type": "markdown",
   "metadata": {},
   "source": [
    "### Remotely in parallel\n",
    "\n",
    "Number of cores: 2"
   ]
  },
  {
   "cell_type": "raw",
   "metadata": {},
   "source": [
    "fingerprints4 = FingerprintGenerator.from_structure_klifs_ids(\n",
    "    structure_klifs_ids[:2], KLIFS_REMOTE, 2\n",
    ")"
   ]
  },
  {
   "cell_type": "markdown",
   "metadata": {},
   "source": [
    "`RecursionError: maximum recursion depth exceeded`"
   ]
  },
  {
   "cell_type": "markdown",
   "metadata": {},
   "source": [
    "## Save/load fingerprints"
   ]
  },
  {
   "cell_type": "code",
   "execution_count": 10,
   "metadata": {},
   "outputs": [],
   "source": [
    "json_filepath = Path(\"fingerprints.json\")"
   ]
  },
  {
   "cell_type": "code",
   "execution_count": 11,
   "metadata": {},
   "outputs": [],
   "source": [
    "fingerprints1.to_json(json_filepath)"
   ]
  },
  {
   "cell_type": "code",
   "execution_count": 12,
   "metadata": {},
   "outputs": [
    {
     "data": {
      "text/plain": [
       "<kissim.encoding.fingerprint_generator.FingerprintGenerator at 0x7f5935901dc0>"
      ]
     },
     "execution_count": 12,
     "metadata": {},
     "output_type": "execute_result"
    }
   ],
   "source": [
    "fingerprints1_reloaded = FingerprintGenerator.from_json(json_filepath)\n",
    "fingerprints1_reloaded"
   ]
  },
  {
   "cell_type": "code",
   "execution_count": 13,
   "metadata": {},
   "outputs": [
    {
     "data": {
      "text/plain": [
       "True"
      ]
     },
     "execution_count": 13,
     "metadata": {},
     "output_type": "execute_result"
    }
   ],
   "source": [
    "v1 = fingerprints1_reloaded.data[109].values_array()\n",
    "v2 = fingerprints1.data[109].values_array()\n",
    "np.nansum(v1) == np.nansum(v2)"
   ]
  },
  {
   "cell_type": "code",
   "execution_count": 14,
   "metadata": {},
   "outputs": [],
   "source": [
    "json_filepath.unlink()"
   ]
  }
 ],
 "metadata": {
  "kernelspec": {
   "display_name": "Python 3",
   "language": "python",
   "name": "python3"
  },
  "language_info": {
   "codemirror_mode": {
    "name": "ipython",
    "version": 3
   },
   "file_extension": ".py",
   "mimetype": "text/x-python",
   "name": "python",
   "nbconvert_exporter": "python",
   "pygments_lexer": "ipython3",
   "version": "3.8.6"
  }
 },
 "nbformat": 4,
 "nbformat_minor": 4
}
