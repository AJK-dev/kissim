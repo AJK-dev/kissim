{
 "cells": [
  {
   "cell_type": "markdown",
   "metadata": {},
   "source": [
    "# The `fingerprint_generator` module"
   ]
  },
  {
   "cell_type": "code",
   "execution_count": null,
   "metadata": {},
   "outputs": [],
   "source": [
    "%load_ext autoreload\n",
    "%autoreload 2"
   ]
  },
  {
   "cell_type": "code",
   "execution_count": 2,
   "metadata": {},
   "outputs": [
    {
     "name": "stderr",
     "output_type": "stream",
     "text": [
      "INFO:opencadd.databases.klifs.api:If you want to see an non-truncated version of the DataFrames in this module, use `pd.set_option('display.max_columns', 50)` in your notebook.\n"
     ]
    },
    {
     "data": {
      "application/vnd.jupyter.widget-view+json": {
       "model_id": "24f396bd61404a6faf156c90ba9c4353",
       "version_major": 2,
       "version_minor": 0
      },
      "text/plain": []
     },
     "metadata": {},
     "output_type": "display_data"
    }
   ],
   "source": [
    "import logging \n",
    "\n",
    "import pandas as pd\n",
    "from opencadd.databases.klifs import setup_remote, setup_local\n",
    "\n",
    "from kissim.encoding import Fingerprint, FingerprintGenerator"
   ]
  },
  {
   "cell_type": "code",
   "execution_count": 3,
   "metadata": {},
   "outputs": [],
   "source": [
    "#logger = logging.getLogger(\"opencadd\")\n",
    "#logger.setLevel(logging.ERROR)"
   ]
  },
  {
   "cell_type": "markdown",
   "metadata": {},
   "source": [
    "## Set up KLIFS remote and local sessions"
   ]
  },
  {
   "cell_type": "code",
   "execution_count": 4,
   "metadata": {},
   "outputs": [
    {
     "name": "stderr",
     "output_type": "stream",
     "text": [
      "INFO:opencadd.databases.klifs.api:Set up remote session...\n",
      "INFO:opencadd.databases.klifs.api:Remote session is ready!\n",
      "INFO:opencadd.databases.klifs.api:Set up local session...\n",
      "INFO:opencadd.databases.klifs.local:Load overview.csv...\n",
      "INFO:opencadd.databases.klifs.local:Load KLIFS_export.csv...\n",
      "INFO:opencadd.databases.klifs.local:Merge both csv files...\n",
      "INFO:opencadd.databases.klifs.local:Add paths to coordinate folders to structures...\n",
      "INFO:opencadd.databases.klifs.local:Add KLIFS IDs to structures (uses remote since not available locally!)...\n",
      "INFO:opencadd.databases.klifs.api:Local session is ready!\n"
     ]
    }
   ],
   "source": [
    "KLIFS_REMOTE = setup_remote()\n",
    "KLIFS_LOCAL = setup_local(\n",
    "    \"/home/dominique/Documents/GitHub/kissim_app/data/external/20201223_KLIFS_ABL2_HUMAN/\"\n",
    ")"
   ]
  },
  {
   "cell_type": "markdown",
   "metadata": {},
   "source": [
    "## Select structure KLIFS IDs"
   ]
  },
  {
   "cell_type": "code",
   "execution_count": 5,
   "metadata": {},
   "outputs": [
    {
     "data": {
      "text/plain": [
       "[109, 118, 110, 113, 111, 116, 112, 114, 115, 117]"
      ]
     },
     "execution_count": 5,
     "metadata": {},
     "output_type": "execute_result"
    }
   ],
   "source": [
    "structure_klifs_ids = KLIFS_LOCAL.structures.all_structures()[\"structure.klifs_id\"].to_list()\n",
    "structure_klifs_ids"
   ]
  },
  {
   "cell_type": "markdown",
   "metadata": {},
   "source": [
    "## Generate multiple fingerprints"
   ]
  },
  {
   "cell_type": "markdown",
   "metadata": {},
   "source": [
    "### Locally in sequence"
   ]
  },
  {
   "cell_type": "code",
   "execution_count": 6,
   "metadata": {},
   "outputs": [
    {
     "name": "stderr",
     "output_type": "stream",
     "text": [
      "INFO:kissim.encoding.fingerprint_generator:Number of cores used: 1.\n",
      "INFO:kissim.encoding.fingerprint_generator:Number of input structures: 10\n",
      "INFO:kissim.encoding.fingerprint_generator:Number of fingerprints: 10\n",
      "INFO:kissim.encoding.fingerprint_generator:Number of fingerprints without None: 10\n",
      "INFO:kissim.encoding.fingerprint_generator:Start of fingerprint generation: 2021-01-13 11:49:23.599540\n",
      "INFO:kissim.encoding.fingerprint_generator:End of fingerprint generation: 2021-01-13 11:49:42.996142\n"
     ]
    }
   ],
   "source": [
    "fingerprints2 = FingerprintGenerator.from_structure_klifs_ids(\n",
    "    structure_klifs_ids, KLIFS_LOCAL, 1\n",
    ")"
   ]
  },
  {
   "cell_type": "markdown",
   "metadata": {},
   "source": [
    "### Remotely in sequence"
   ]
  },
  {
   "cell_type": "code",
   "execution_count": 7,
   "metadata": {},
   "outputs": [
    {
     "name": "stderr",
     "output_type": "stream",
     "text": [
      "INFO:kissim.encoding.fingerprint_generator:Number of cores used: 1.\n",
      "INFO:kissim.encoding.fingerprint_generator:Number of input structures: 10\n",
      "INFO:kissim.encoding.fingerprint_generator:Number of fingerprints: 10\n",
      "INFO:kissim.encoding.fingerprint_generator:Number of fingerprints without None: 10\n",
      "INFO:kissim.encoding.fingerprint_generator:Start of fingerprint generation: 2021-01-13 11:49:43.010776\n",
      "INFO:kissim.encoding.fingerprint_generator:End of fingerprint generation: 2021-01-13 11:50:09.309013\n"
     ]
    }
   ],
   "source": [
    "fingerprints1 = FingerprintGenerator.from_structure_klifs_ids(\n",
    "    structure_klifs_ids, KLIFS_REMOTE, 1\n",
    ")"
   ]
  },
  {
   "cell_type": "markdown",
   "metadata": {},
   "source": [
    "Needs _maybe_ waiting times to not overload KLIFS."
   ]
  },
  {
   "cell_type": "markdown",
   "metadata": {},
   "source": [
    "### Locally in parallel"
   ]
  },
  {
   "cell_type": "code",
   "execution_count": 8,
   "metadata": {},
   "outputs": [
    {
     "name": "stderr",
     "output_type": "stream",
     "text": [
      "INFO:kissim.encoding.fingerprint_generator:Number of cores used: 2.\n",
      "INFO:kissim.encoding.fingerprint_generator:Number of input structures: 10\n",
      "INFO:kissim.encoding.fingerprint_generator:Number of fingerprints: 10\n",
      "INFO:kissim.encoding.fingerprint_generator:Number of fingerprints without None: 10\n",
      "INFO:kissim.encoding.fingerprint_generator:Start of fingerprint generation: 2021-01-13 11:50:09.323643\n",
      "INFO:kissim.encoding.fingerprint_generator:End of fingerprint generation: 2021-01-13 11:50:21.168236\n"
     ]
    }
   ],
   "source": [
    "fingerprints3 = FingerprintGenerator.from_structure_klifs_ids(\n",
    "    structure_klifs_ids, KLIFS_LOCAL, 2\n",
    ")"
   ]
  },
  {
   "cell_type": "markdown",
   "metadata": {},
   "source": [
    "### Remotely in parallel"
   ]
  },
  {
   "cell_type": "raw",
   "metadata": {},
   "source": [
    "fingerprints4 = FingerprintGenerator.from_structure_klifs_ids(\n",
    "    structure_klifs_ids[:2], KLIFS_REMOTE, 2\n",
    ")"
   ]
  },
  {
   "cell_type": "markdown",
   "metadata": {},
   "source": [
    "Does not work. KLIFS session cannot be pickled?"
   ]
  }
 ],
 "metadata": {
  "kernelspec": {
   "display_name": "Python 3",
   "language": "python",
   "name": "python3"
  },
  "language_info": {
   "codemirror_mode": {
    "name": "ipython",
    "version": 3
   },
   "file_extension": ".py",
   "mimetype": "text/x-python",
   "name": "python",
   "nbconvert_exporter": "python",
   "pygments_lexer": "ipython3",
   "version": "3.8.6"
  }
 },
 "nbformat": 4,
 "nbformat_minor": 4
}
