{
 "cells": [
  {
   "cell_type": "markdown",
   "metadata": {},
   "source": [
    "# The `features` module"
   ]
  },
  {
   "cell_type": "code",
   "execution_count": 1,
   "metadata": {},
   "outputs": [],
   "source": [
    "%load_ext autoreload\n",
    "%autoreload 2"
   ]
  },
  {
   "cell_type": "code",
   "execution_count": 2,
   "metadata": {},
   "outputs": [
    {
     "name": "stderr",
     "output_type": "stream",
     "text": [
      "INFO:opencadd.databases.klifs.api:If you want to see an non-truncated version of the DataFrames in this module, use `pd.set_option('display.max_columns', 50)` in your notebook.\n",
      "INFO:opencadd.databases.klifs.api:Set up remote session...\n",
      "INFO:opencadd.databases.klifs.api:Remote session is ready!\n"
     ]
    }
   ],
   "source": [
    "from opencadd.databases.klifs import setup_remote\n",
    "remote = setup_remote()"
   ]
  },
  {
   "cell_type": "code",
   "execution_count": 3,
   "metadata": {},
   "outputs": [
    {
     "data": {
      "text/plain": [
       "opencadd.databases.klifs.session.Session"
      ]
     },
     "execution_count": 3,
     "metadata": {},
     "output_type": "execute_result"
    }
   ],
   "source": [
    "type(remote)"
   ]
  },
  {
   "cell_type": "markdown",
   "metadata": {},
   "source": [
    "## Load pocket as `PocketBiopython`"
   ]
  },
  {
   "cell_type": "code",
   "execution_count": 4,
   "metadata": {},
   "outputs": [],
   "source": [
    "from kissim.io import PocketBiopython\n",
    "pocket_bp = PocketBiopython.from_remote(remote, 12347)"
   ]
  },
  {
   "cell_type": "markdown",
   "metadata": {},
   "source": [
    "## Load pocket as `PocketDataframe`"
   ]
  },
  {
   "cell_type": "code",
   "execution_count": 5,
   "metadata": {},
   "outputs": [],
   "source": [
    "from kissim.io import PocketDataframe\n",
    "pocket_df = PocketDataframe.from_remote(remote, 12347)"
   ]
  },
  {
   "cell_type": "markdown",
   "metadata": {},
   "source": [
    "## Side chain orientation"
   ]
  },
  {
   "cell_type": "code",
   "execution_count": 6,
   "metadata": {},
   "outputs": [],
   "source": [
    "from kissim.encoding.features.sco import SideChainOrientationFeature"
   ]
  },
  {
   "cell_type": "code",
   "execution_count": 7,
   "metadata": {},
   "outputs": [],
   "source": [
    "sco = SideChainOrientationFeature.from_pocket(pocket_bp)"
   ]
  },
  {
   "cell_type": "code",
   "execution_count": 8,
   "metadata": {},
   "outputs": [
    {
     "name": "stderr",
     "output_type": "stream",
     "text": [
      "INFO:opencadd.databases.klifs.api:Set up remote session...\n",
      "INFO:opencadd.databases.klifs.api:Remote session is ready!\n"
     ]
    }
   ],
   "source": [
    "sco = SideChainOrientationFeature.from_structure_id(12347)"
   ]
  },
  {
   "cell_type": "markdown",
   "metadata": {},
   "source": [
    "### Class attributes"
   ]
  },
  {
   "cell_type": "code",
   "execution_count": 9,
   "metadata": {},
   "outputs": [
    {
     "name": "stdout",
     "output_type": "stream",
     "text": [
      "461 462 463 468 469 470 471 472 473 480 481 482 483 484 485 497 498 499 500 501 502 503 504 505 506 507 508 509 511 512 513 514 515 516 517 518 519 526 527 528 529 530 531 532 533 534 535 536 537 538 539 540 541 542 543 566 567 568 569 570 571 572 573 574 575 576 577 578 579 580 581 582 583 584 592 593 594 595\n"
     ]
    }
   ],
   "source": [
    "print(*sco._residue_ids)"
   ]
  },
  {
   "cell_type": "code",
   "execution_count": 10,
   "metadata": {},
   "outputs": [
    {
     "name": "stdout",
     "output_type": "stream",
     "text": [
      "1.0 2.0 None 2.0 1.0 2.0 1.0 2.0 1.0 2.0 0.0 2.0 1.0 2.0 1.0 1.0 1.0 2.0 2.0 1.0 2.0 2.0 1.0 1.0 2.0 2.0 0.0 2.0 2.0 2.0 2.0 0.0 2.0 2.0 2.0 2.0 2.0 2.0 1.0 2.0 0.0 1.0 2.0 0.0 2.0 2.0 2.0 2.0 2.0 2.0 2.0 1.0 2.0 1.0 0.0 1.0 0.0 1.0 2.0 1.0 2.0 1.0 2.0 0.0 2.0 1.0 2.0 1.0 2.0 2.0 1.0 2.0 2.0 2.0 2.0 0.0 2.0 1.0\n"
     ]
    }
   ],
   "source": [
    "print(*sco._categories)"
   ]
  },
  {
   "cell_type": "code",
   "execution_count": 11,
   "metadata": {},
   "outputs": [
    {
     "name": "stdout",
     "output_type": "stream",
     "text": [
      "84.43634320797315 118.8967954152817 None 138.41070678639875 78.32054359307114 150.69852081699418 45.24506235374276 129.66757956684344 45.860874593539265 97.18224591861701 42.7171640791292 160.94719014562634 46.494159857963474 129.55069387819447 63.09150289744671 83.08520899103792 69.17007309538454 114.52747350978314 96.18795253124387 77.66722213287267 127.18687421489133 109.89504915977447 69.8645863476361 71.40481485842689 118.33013400692136 116.47795356345232 19.552063171462777 118.45486321068974 154.666946496114 150.37636982049693 92.60236739634725 43.29404750327634 160.29403467330314 120.89862214424804 110.42087228799096 157.7746441321031 128.83818867750998 109.65952091402973 59.34356407787748 165.78833592095822 7.019169257832821 77.18360997869439 117.90329699677812 15.988058453389012 102.19485101405401 92.81236142813145 143.6123356732296 100.50798356507362 109.54677926141883 113.29583323153793 109.01869697036146 72.6404360609924 133.25560503605968 69.85213002782336 42.93083244840415 73.50585445162793 18.293892536851374 85.75932843864183 92.25968401478761 57.239589687100334 172.84710331169467 72.87397651098915 156.4794300679326 37.81829741138075 109.26369865542082 79.63479790374275 102.796637731654 63.8290866023029 155.57136808383885 99.03962092788386 80.75578932524729 126.26685841826053 92.05348140746688 128.39832506330396 149.73981142972815 18.42993433443675 92.78498477044577 59.26653953159822\n"
     ]
    }
   ],
   "source": [
    "print(*sco._vertex_angles)"
   ]
  },
  {
   "cell_type": "code",
   "execution_count": 12,
   "metadata": {},
   "outputs": [
    {
     "name": "stdout",
     "output_type": "stream",
     "text": [
      "<Vector 0.83, 21.62, 36.45>\n"
     ]
    }
   ],
   "source": [
    "print(sco._centroid)"
   ]
  },
  {
   "cell_type": "code",
   "execution_count": 13,
   "metadata": {},
   "outputs": [
    {
     "name": "stdout",
     "output_type": "stream",
     "text": [
      "<Vector 8.81, 16.81, 51.66> <Vector 8.91, 14.91, 48.36> <Vector 5.48, 13.77, 47.17> <Vector 9.01, 12.20, 35.42> <Vector 10.82, 14.70, 37.66> <Vector 11.03, 15.03, 41.43> <Vector 8.14, 16.88, 43.10> <Vector 8.32, 18.38, 46.59> <Vector 5.94, 20.35, 48.81> <Vector 3.90, 25.86, 47.29> <Vector 4.92, 22.87, 45.17> <Vector 8.33, 22.78, 43.46> <Vector 9.26, 20.28, 40.75> <Vector 13.01, 19.87, 40.20> <Vector 15.03, 17.46, 38.07> <Vector 13.70, 22.76, 27.11> <Vector 13.26, 24.33, 30.56> <Vector 13.41, 27.83, 29.06> <Vector 10.73, 26.87, 26.53> <Vector 8.52, 25.29, 29.22> <Vector 8.88, 28.38, 31.44> <Vector 7.99, 30.63, 28.52> <Vector 4.91, 28.51, 27.83> <Vector 3.86, 28.51, 31.50> <Vector 4.42, 32.24, 32.12> <Vector 1.46, 33.35, 29.96> <Vector -1.24, 31.45, 31.93> <Vector -3.62, 33.14, 34.40> <Vector -8.74, 29.90, 38.02> <Vector -9.01, 26.48, 36.33> <Vector -5.33, 26.41, 35.29> <Vector -2.58, 25.68, 37.81> <Vector -1.00, 28.88, 39.12> <Vector 2.64, 29.07, 38.05> <Vector 4.55, 31.17, 40.59> <Vector 8.18, 31.11, 39.45> <Vector 11.24, 29.23, 38.28> <Vector 12.88, 23.72, 38.82> <Vector 9.37, 25.17, 38.56> <Vector 7.51, 26.45, 41.65> <Vector 3.69, 26.68, 41.57> <Vector 0.92, 26.91, 44.14> <Vector -0.00, 24.11, 46.55> <Vector -3.53, 22.68, 46.33> <Vector -5.15, 20.29, 48.81> <Vector -6.82, 17.23, 47.30> <Vector -6.04, 14.55, 44.73> <Vector -6.29, 13.95, 40.99> <Vector -9.61, 13.23, 39.30> <Vector -8.16, 9.83, 38.34> <Vector -7.69, 9.01, 42.03> <Vector -11.13, 10.38, 42.96> <Vector -13.15, 8.49, 40.33> <Vector -11.12, 5.30, 39.76> <Vector -9.03, 4.67, 42.88> <Vector -8.41, 29.27, 27.77> <Vector -5.36, 27.26, 26.69> <Vector -6.51, 26.98, 23.06> <Vector -7.40, 30.68, 22.90> <Vector -3.68, 31.32, 23.48> <Vector -2.71, 28.62, 20.94> <Vector -1.32, 26.50, 23.78> <Vector -1.43, 22.76, 23.09> <Vector -1.78, 20.55, 26.17> <Vector -0.31, 17.40, 24.68> <Vector -0.67, 15.11, 27.71> <Vector -4.22, 15.90, 28.84> <Vector -5.58, 13.10, 31.03> <Vector -7.80, 12.64, 34.06> <Vector -4.68, 11.96, 36.15> <Vector -3.35, 15.47, 35.42> <Vector -6.62, 17.09, 36.56> <Vector -6.27, 18.11, 40.21> <Vector -9.36, 18.82, 42.32> <Vector -4.69, 21.47, 35.20> <Vector -0.96, 20.89, 35.01> <Vector 1.83, 18.43, 34.14> <Vector 2.38, 19.71, 30.60>\n"
     ]
    }
   ],
   "source": [
    "print(*sco._ca_atoms)"
   ]
  },
  {
   "cell_type": "code",
   "execution_count": 14,
   "metadata": {},
   "outputs": [
    {
     "name": "stdout",
     "output_type": "stream",
     "text": [
      "<Vector 5.63, 14.81, 52.26> <Vector 9.76, 15.76, 49.21> None <Vector 14.05, 11.55, 35.02> <Vector 10.22, 14.11, 37.06> <Vector 12.36, 15.01, 42.17> <Vector 6.69, 16.56, 42.66> <Vector 9.20, 19.26, 47.47> <Vector 5.00, 19.42, 47.88> <Vector 4.92, 26.91, 46.80> <Vector 3.80, 22.02, 44.56> <Vector 9.51, 23.39, 44.24> <Vector 8.58, 19.60, 40.07> <Vector 13.57, 20.43, 40.76> <Vector 14.77, 17.20, 37.82> <Vector 13.73, 21.25, 27.27> <Vector 13.03, 26.24, 35.27> <Vector 13.94, 28.35, 29.59> <Vector 9.66, 25.81, 24.50> <Vector 8.04, 24.81, 28.74> <Vector 10.18, 28.90, 32.07> <Vector 8.81, 31.46, 29.34> <Vector 4.89, 27.05, 27.37> <Vector 3.54, 28.19, 31.19> <Vector 5.10, 32.91, 32.80> <Vector 1.30, 33.11, 24.08> <Vector -0.94, 29.95, 32.06> <Vector -2.00, 35.10, 34.50> <Vector -10.14, 30.33, 38.49> <Vector -11.50, 26.40, 35.86> <Vector -5.64, 25.53, 32.39> <Vector -0.72, 24.29, 38.99> <Vector -1.02, 31.00, 40.63> <Vector 6.82, 31.25, 36.05> <Vector 3.43, 31.54, 45.08> <Vector 8.72, 31.65, 39.99> <Vector 13.61, 33.86, 34.43> <Vector 13.14, 23.57, 40.32> <Vector 8.51, 24.08, 34.92> <Vector 8.25, 27.35, 42.65> <Vector 2.97, 25.78, 40.56> <Vector -2.69, 27.43, 42.78> <Vector -0.04, 20.71, 49.59> <Vector -3.01, 21.92, 43.68> <Vector -5.14, 20.30, 48.82> <Vector -7.63, 16.42, 46.49> <Vector -5.86, 12.92, 46.53> <Vector -5.02, 11.90, 40.66> <Vector -11.48, 13.52, 37.49> <Vector -5.42, 4.20, 36.62> <Vector -7.21, 8.78, 46.44> <Vector -11.08, 13.92, 45.60> <Vector -14.00, 7.63, 39.48> <Vector -11.86, 6.88, 35.93> <Vector -7.72, 5.39, 43.20> <Vector -4.75, 33.62, 30.84> <Vector -4.72, 25.57, 28.55> <Vector -7.70, 22.48, 22.33> <Vector -8.27, 31.47, 23.88> <Vector -2.86, 33.58, 29.30> <Vector -2.97, 29.78, 18.82> <Vector 0.86, 28.28, 25.10> <Vector -0.52, 22.79, 19.31> <Vector -1.61, 18.42, 29.78> <Vector 1.52, 18.43, 23.23> <Vector 0.44, 13.47, 29.32> <Vector -6.55, 16.93, 28.81> <Vector -0.29, 11.79, 32.27> <Vector -8.79, 11.66, 33.08> <Vector -2.90, 10.45, 37.13> <Vector -1.45, 14.94, 33.83> <Vector -9.10, 16.66, 33.60> <Vector -4.06, 18.10, 44.81> <Vector -11.45, 17.57, 41.42> <Vector -7.54, 21.40, 32.54> <Vector -0.49, 21.35, 35.47> <Vector 1.72, 16.82, 36.09> <Vector 0.31, 24.33, 31.38>\n"
     ]
    }
   ],
   "source": [
    "print(*sco._sc_atoms)"
   ]
  },
  {
   "cell_type": "markdown",
   "metadata": {},
   "source": [
    "### Class properties"
   ]
  },
  {
   "cell_type": "code",
   "execution_count": 15,
   "metadata": {},
   "outputs": [
    {
     "data": {
      "text/html": [
       "<div>\n",
       "<style scoped>\n",
       "    .dataframe tbody tr th:only-of-type {\n",
       "        vertical-align: middle;\n",
       "    }\n",
       "\n",
       "    .dataframe tbody tr th {\n",
       "        vertical-align: top;\n",
       "    }\n",
       "\n",
       "    .dataframe thead th {\n",
       "        text-align: right;\n",
       "    }\n",
       "</style>\n",
       "<table border=\"1\" class=\"dataframe\">\n",
       "  <thead>\n",
       "    <tr style=\"text-align: right;\">\n",
       "      <th></th>\n",
       "      <th>sco</th>\n",
       "    </tr>\n",
       "  </thead>\n",
       "  <tbody>\n",
       "    <tr>\n",
       "      <th>461</th>\n",
       "      <td>1.0</td>\n",
       "    </tr>\n",
       "    <tr>\n",
       "      <th>462</th>\n",
       "      <td>2.0</td>\n",
       "    </tr>\n",
       "    <tr>\n",
       "      <th>463</th>\n",
       "      <td>NaN</td>\n",
       "    </tr>\n",
       "    <tr>\n",
       "      <th>468</th>\n",
       "      <td>2.0</td>\n",
       "    </tr>\n",
       "    <tr>\n",
       "      <th>469</th>\n",
       "      <td>1.0</td>\n",
       "    </tr>\n",
       "    <tr>\n",
       "      <th>...</th>\n",
       "      <td>...</td>\n",
       "    </tr>\n",
       "    <tr>\n",
       "      <th>584</th>\n",
       "      <td>2.0</td>\n",
       "    </tr>\n",
       "    <tr>\n",
       "      <th>592</th>\n",
       "      <td>2.0</td>\n",
       "    </tr>\n",
       "    <tr>\n",
       "      <th>593</th>\n",
       "      <td>0.0</td>\n",
       "    </tr>\n",
       "    <tr>\n",
       "      <th>594</th>\n",
       "      <td>2.0</td>\n",
       "    </tr>\n",
       "    <tr>\n",
       "      <th>595</th>\n",
       "      <td>1.0</td>\n",
       "    </tr>\n",
       "  </tbody>\n",
       "</table>\n",
       "<p>78 rows × 1 columns</p>\n",
       "</div>"
      ],
      "text/plain": [
       "     sco\n",
       "461  1.0\n",
       "462  2.0\n",
       "463  NaN\n",
       "468  2.0\n",
       "469  1.0\n",
       "..   ...\n",
       "584  2.0\n",
       "592  2.0\n",
       "593  0.0\n",
       "594  2.0\n",
       "595  1.0\n",
       "\n",
       "[78 rows x 1 columns]"
      ]
     },
     "execution_count": 15,
     "metadata": {},
     "output_type": "execute_result"
    }
   ],
   "source": [
    "sco.features"
   ]
  },
  {
   "cell_type": "code",
   "execution_count": 16,
   "metadata": {},
   "outputs": [
    {
     "data": {
      "text/html": [
       "<div>\n",
       "<style scoped>\n",
       "    .dataframe tbody tr th:only-of-type {\n",
       "        vertical-align: middle;\n",
       "    }\n",
       "\n",
       "    .dataframe tbody tr th {\n",
       "        vertical-align: top;\n",
       "    }\n",
       "\n",
       "    .dataframe thead th {\n",
       "        text-align: right;\n",
       "    }\n",
       "</style>\n",
       "<table border=\"1\" class=\"dataframe\">\n",
       "  <thead>\n",
       "    <tr style=\"text-align: right;\">\n",
       "      <th></th>\n",
       "      <th>sco.category</th>\n",
       "      <th>sco.angle</th>\n",
       "      <th>ca.vector</th>\n",
       "      <th>sc.vector</th>\n",
       "      <th>centroid</th>\n",
       "    </tr>\n",
       "  </thead>\n",
       "  <tbody>\n",
       "    <tr>\n",
       "      <th>461</th>\n",
       "      <td>1.0</td>\n",
       "      <td>84.436343</td>\n",
       "      <td>&lt;Vector 8.81, 16.81, 51.66&gt;</td>\n",
       "      <td>&lt;Vector 5.63, 14.81, 52.26&gt;</td>\n",
       "      <td>&lt;Vector 0.83, 21.62, 36.45&gt;</td>\n",
       "    </tr>\n",
       "    <tr>\n",
       "      <th>462</th>\n",
       "      <td>2.0</td>\n",
       "      <td>118.896795</td>\n",
       "      <td>&lt;Vector 8.91, 14.91, 48.36&gt;</td>\n",
       "      <td>&lt;Vector 9.76, 15.76, 49.21&gt;</td>\n",
       "      <td>&lt;Vector 0.83, 21.62, 36.45&gt;</td>\n",
       "    </tr>\n",
       "    <tr>\n",
       "      <th>463</th>\n",
       "      <td>NaN</td>\n",
       "      <td>NaN</td>\n",
       "      <td>&lt;Vector 5.48, 13.77, 47.17&gt;</td>\n",
       "      <td>None</td>\n",
       "      <td>&lt;Vector 0.83, 21.62, 36.45&gt;</td>\n",
       "    </tr>\n",
       "    <tr>\n",
       "      <th>468</th>\n",
       "      <td>2.0</td>\n",
       "      <td>138.410707</td>\n",
       "      <td>&lt;Vector 9.01, 12.20, 35.42&gt;</td>\n",
       "      <td>&lt;Vector 14.05, 11.55, 35.02&gt;</td>\n",
       "      <td>&lt;Vector 0.83, 21.62, 36.45&gt;</td>\n",
       "    </tr>\n",
       "    <tr>\n",
       "      <th>469</th>\n",
       "      <td>1.0</td>\n",
       "      <td>78.320544</td>\n",
       "      <td>&lt;Vector 10.82, 14.70, 37.66&gt;</td>\n",
       "      <td>&lt;Vector 10.22, 14.11, 37.06&gt;</td>\n",
       "      <td>&lt;Vector 0.83, 21.62, 36.45&gt;</td>\n",
       "    </tr>\n",
       "    <tr>\n",
       "      <th>...</th>\n",
       "      <td>...</td>\n",
       "      <td>...</td>\n",
       "      <td>...</td>\n",
       "      <td>...</td>\n",
       "      <td>...</td>\n",
       "    </tr>\n",
       "    <tr>\n",
       "      <th>584</th>\n",
       "      <td>2.0</td>\n",
       "      <td>128.398325</td>\n",
       "      <td>&lt;Vector -9.36, 18.82, 42.32&gt;</td>\n",
       "      <td>&lt;Vector -11.45, 17.57, 41.42&gt;</td>\n",
       "      <td>&lt;Vector 0.83, 21.62, 36.45&gt;</td>\n",
       "    </tr>\n",
       "    <tr>\n",
       "      <th>592</th>\n",
       "      <td>2.0</td>\n",
       "      <td>149.739811</td>\n",
       "      <td>&lt;Vector -4.69, 21.47, 35.20&gt;</td>\n",
       "      <td>&lt;Vector -7.54, 21.40, 32.54&gt;</td>\n",
       "      <td>&lt;Vector 0.83, 21.62, 36.45&gt;</td>\n",
       "    </tr>\n",
       "    <tr>\n",
       "      <th>593</th>\n",
       "      <td>0.0</td>\n",
       "      <td>18.429934</td>\n",
       "      <td>&lt;Vector -0.96, 20.89, 35.01&gt;</td>\n",
       "      <td>&lt;Vector -0.49, 21.35, 35.47&gt;</td>\n",
       "      <td>&lt;Vector 0.83, 21.62, 36.45&gt;</td>\n",
       "    </tr>\n",
       "    <tr>\n",
       "      <th>594</th>\n",
       "      <td>2.0</td>\n",
       "      <td>92.784985</td>\n",
       "      <td>&lt;Vector 1.83, 18.43, 34.14&gt;</td>\n",
       "      <td>&lt;Vector 1.72, 16.82, 36.09&gt;</td>\n",
       "      <td>&lt;Vector 0.83, 21.62, 36.45&gt;</td>\n",
       "    </tr>\n",
       "    <tr>\n",
       "      <th>595</th>\n",
       "      <td>1.0</td>\n",
       "      <td>59.266540</td>\n",
       "      <td>&lt;Vector 2.38, 19.71, 30.60&gt;</td>\n",
       "      <td>&lt;Vector 0.31, 24.33, 31.38&gt;</td>\n",
       "      <td>&lt;Vector 0.83, 21.62, 36.45&gt;</td>\n",
       "    </tr>\n",
       "  </tbody>\n",
       "</table>\n",
       "<p>78 rows × 5 columns</p>\n",
       "</div>"
      ],
      "text/plain": [
       "     sco.category   sco.angle                     ca.vector  \\\n",
       "461           1.0   84.436343   <Vector 8.81, 16.81, 51.66>   \n",
       "462           2.0  118.896795   <Vector 8.91, 14.91, 48.36>   \n",
       "463           NaN         NaN   <Vector 5.48, 13.77, 47.17>   \n",
       "468           2.0  138.410707   <Vector 9.01, 12.20, 35.42>   \n",
       "469           1.0   78.320544  <Vector 10.82, 14.70, 37.66>   \n",
       "..            ...         ...                           ...   \n",
       "584           2.0  128.398325  <Vector -9.36, 18.82, 42.32>   \n",
       "592           2.0  149.739811  <Vector -4.69, 21.47, 35.20>   \n",
       "593           0.0   18.429934  <Vector -0.96, 20.89, 35.01>   \n",
       "594           2.0   92.784985   <Vector 1.83, 18.43, 34.14>   \n",
       "595           1.0   59.266540   <Vector 2.38, 19.71, 30.60>   \n",
       "\n",
       "                         sc.vector                     centroid  \n",
       "461    <Vector 5.63, 14.81, 52.26>  <Vector 0.83, 21.62, 36.45>  \n",
       "462    <Vector 9.76, 15.76, 49.21>  <Vector 0.83, 21.62, 36.45>  \n",
       "463                           None  <Vector 0.83, 21.62, 36.45>  \n",
       "468   <Vector 14.05, 11.55, 35.02>  <Vector 0.83, 21.62, 36.45>  \n",
       "469   <Vector 10.22, 14.11, 37.06>  <Vector 0.83, 21.62, 36.45>  \n",
       "..                             ...                          ...  \n",
       "584  <Vector -11.45, 17.57, 41.42>  <Vector 0.83, 21.62, 36.45>  \n",
       "592   <Vector -7.54, 21.40, 32.54>  <Vector 0.83, 21.62, 36.45>  \n",
       "593   <Vector -0.49, 21.35, 35.47>  <Vector 0.83, 21.62, 36.45>  \n",
       "594    <Vector 1.72, 16.82, 36.09>  <Vector 0.83, 21.62, 36.45>  \n",
       "595    <Vector 0.31, 24.33, 31.38>  <Vector 0.83, 21.62, 36.45>  \n",
       "\n",
       "[78 rows x 5 columns]"
      ]
     },
     "execution_count": 16,
     "metadata": {},
     "output_type": "execute_result"
    }
   ],
   "source": [
    "sco.features_verbose"
   ]
  },
  {
   "cell_type": "markdown",
   "metadata": {},
   "source": [
    "## Exposure"
   ]
  },
  {
   "cell_type": "code",
   "execution_count": 17,
   "metadata": {},
   "outputs": [],
   "source": [
    "from kissim.encoding.features.exposure import ExposureFeature"
   ]
  },
  {
   "cell_type": "code",
   "execution_count": 18,
   "metadata": {},
   "outputs": [],
   "source": [
    "exposure = ExposureFeature.from_pocket(pocket_bp)"
   ]
  },
  {
   "cell_type": "code",
   "execution_count": 19,
   "metadata": {},
   "outputs": [
    {
     "name": "stderr",
     "output_type": "stream",
     "text": [
      "INFO:opencadd.databases.klifs.api:Set up remote session...\n",
      "INFO:opencadd.databases.klifs.api:Remote session is ready!\n"
     ]
    }
   ],
   "source": [
    "exposure = ExposureFeature.from_structure_id(12347)"
   ]
  },
  {
   "cell_type": "markdown",
   "metadata": {},
   "source": [
    "### Class attributes"
   ]
  },
  {
   "cell_type": "code",
   "execution_count": 20,
   "metadata": {},
   "outputs": [
    {
     "name": "stdout",
     "output_type": "stream",
     "text": [
      "461 462 463 468 469 470 471 472 473 480 481 482 483 484 485 497 498 499 500 501 502 503 504 505 506 507 508 509 511 512 513 514 515 516 517 518 519 526 527 528 529 530 531 532 533 534 535 536 537 538 539 540 541 542 543 566 567 568 569 570 571 572 573 574 575 576 577 578 579 580 581 582 583 584 592 593 594 595\n"
     ]
    }
   ],
   "source": [
    "print(*exposure._residue_ids)"
   ]
  },
  {
   "cell_type": "code",
   "execution_count": 21,
   "metadata": {},
   "outputs": [
    {
     "name": "stdout",
     "output_type": "stream",
     "text": [
      "0.0 0.5 nan nan 0.5882352941176471 0.36363636363636365 0.4583333333333333 0.38461538461538464 0.2962962962962963 0.4827586206896552 0.3333333333333333 0.5675675675675675 0.34285714285714286 0.5625 0.30434782608695654 0.1111111111111111 0.5185185185185185 0.22727272727272727 0.0 0.38461538461538464 0.5 0.10526315789473684 0.35 0.59375 0.46153846153846156 0.17391304347826086 0.8620689655172413 0.10526315789473684 0.18181818181818182 0.6666666666666666 0.5 0.5555555555555556 0.3103448275862069 0.6285714285714286 0.26666666666666666 0.23333333333333334 0.5 0.47368421052631576 0.38095238095238093 0.5714285714285714 0.4358974358974359 0.3448275862068966 0.5 0.6666666666666666 0.10526315789473684 0.3157894736842105 0.2857142857142857 0.3333333333333333 0.6 0.5 0.16666666666666666 0.41379310344827586 0.53125 0.44 0.058823529411764705 0.25925925925925924 0.5454545454545454 0.4583333333333333 0.3333333333333333 0.3684210526315789 0.11764705882352941 0.5 0.39285714285714285 0.5882352941176471 0.32 0.18181818181818182 0.7352941176470589 0.2727272727272727 0.6842105263157895 0.3103448275862069 0.35714285714285715 0.5365853658536586 0.29411764705882354 0.4444444444444444 0.47619047619047616 0.45714285714285713 0.2962962962962963 nan\n"
     ]
    }
   ],
   "source": [
    "print(*exposure._ratio_ca)"
   ]
  },
  {
   "cell_type": "code",
   "execution_count": 22,
   "metadata": {},
   "outputs": [
    {
     "name": "stdout",
     "output_type": "stream",
     "text": [
      "0.125 0.21428571428571427 0.6875 0.2222222222222222 0.6470588235294118 0.5454545454545454 0.2916666666666667 0.5384615384615384 0.25925925925925924 0.5862068965517241 0.3611111111111111 0.5135135135135135 0.3142857142857143 0.53125 0.43478260869565216 0.5 0.5925925925925926 0.22727272727272727 0.375 0.5384615384615384 0.6071428571428571 0.2631578947368421 0.55 0.59375 0.38461538461538464 0.43478260869565216 0.8275862068965517 0.05263157894736842 0.18181818181818182 0.5333333333333333 0.4166666666666667 0.5277777777777778 0.2413793103448276 0.5428571428571428 0.43333333333333335 0.4 0.34375 0.5526315789473685 0.40476190476190477 0.5476190476190477 0.4358974358974359 0.3793103448275862 0.43333333333333335 0.7037037037037037 0.15789473684210525 0.8421052631578947 0.2857142857142857 0.4 0.625 0.2857142857142857 0.2916666666666667 0.6551724137931034 0.6875 0.48 0.47058823529411764 0.48148148148148145 0.6666666666666666 0.625 0.5 0.7368421052631579 0.0 0.6666666666666666 0.2857142857142857 0.5882352941176471 0.16 0.22727272727272727 0.6764705882352942 0.21212121212121213 0.5263157894736842 0.13793103448275862 0.4642857142857143 0.5609756097560976 0.38235294117647056 0.4722222222222222 0.5238095238095238 0.4 0.48148148148148145 0.68\n"
     ]
    }
   ],
   "source": [
    "print(*exposure._ratio_cb)"
   ]
  },
  {
   "cell_type": "markdown",
   "metadata": {},
   "source": [
    "### Class properties"
   ]
  },
  {
   "cell_type": "code",
   "execution_count": 23,
   "metadata": {},
   "outputs": [
    {
     "data": {
      "text/html": [
       "<div>\n",
       "<style scoped>\n",
       "    .dataframe tbody tr th:only-of-type {\n",
       "        vertical-align: middle;\n",
       "    }\n",
       "\n",
       "    .dataframe tbody tr th {\n",
       "        vertical-align: top;\n",
       "    }\n",
       "\n",
       "    .dataframe thead th {\n",
       "        text-align: right;\n",
       "    }\n",
       "</style>\n",
       "<table border=\"1\" class=\"dataframe\">\n",
       "  <thead>\n",
       "    <tr style=\"text-align: right;\">\n",
       "      <th></th>\n",
       "      <th>exposure</th>\n",
       "    </tr>\n",
       "  </thead>\n",
       "  <tbody>\n",
       "    <tr>\n",
       "      <th>461</th>\n",
       "      <td>0.125000</td>\n",
       "    </tr>\n",
       "    <tr>\n",
       "      <th>462</th>\n",
       "      <td>0.214286</td>\n",
       "    </tr>\n",
       "    <tr>\n",
       "      <th>463</th>\n",
       "      <td>0.687500</td>\n",
       "    </tr>\n",
       "    <tr>\n",
       "      <th>468</th>\n",
       "      <td>0.222222</td>\n",
       "    </tr>\n",
       "    <tr>\n",
       "      <th>469</th>\n",
       "      <td>0.647059</td>\n",
       "    </tr>\n",
       "    <tr>\n",
       "      <th>...</th>\n",
       "      <td>...</td>\n",
       "    </tr>\n",
       "    <tr>\n",
       "      <th>584</th>\n",
       "      <td>0.472222</td>\n",
       "    </tr>\n",
       "    <tr>\n",
       "      <th>592</th>\n",
       "      <td>0.523810</td>\n",
       "    </tr>\n",
       "    <tr>\n",
       "      <th>593</th>\n",
       "      <td>0.400000</td>\n",
       "    </tr>\n",
       "    <tr>\n",
       "      <th>594</th>\n",
       "      <td>0.481481</td>\n",
       "    </tr>\n",
       "    <tr>\n",
       "      <th>595</th>\n",
       "      <td>0.680000</td>\n",
       "    </tr>\n",
       "  </tbody>\n",
       "</table>\n",
       "<p>78 rows × 1 columns</p>\n",
       "</div>"
      ],
      "text/plain": [
       "     exposure\n",
       "461  0.125000\n",
       "462  0.214286\n",
       "463  0.687500\n",
       "468  0.222222\n",
       "469  0.647059\n",
       "..        ...\n",
       "584  0.472222\n",
       "592  0.523810\n",
       "593  0.400000\n",
       "594  0.481481\n",
       "595  0.680000\n",
       "\n",
       "[78 rows x 1 columns]"
      ]
     },
     "execution_count": 23,
     "metadata": {},
     "output_type": "execute_result"
    }
   ],
   "source": [
    "exposure.features"
   ]
  },
  {
   "cell_type": "code",
   "execution_count": 24,
   "metadata": {},
   "outputs": [
    {
     "data": {
      "text/html": [
       "<div>\n",
       "<style scoped>\n",
       "    .dataframe tbody tr th:only-of-type {\n",
       "        vertical-align: middle;\n",
       "    }\n",
       "\n",
       "    .dataframe tbody tr th {\n",
       "        vertical-align: top;\n",
       "    }\n",
       "\n",
       "    .dataframe thead th {\n",
       "        text-align: right;\n",
       "    }\n",
       "</style>\n",
       "<table border=\"1\" class=\"dataframe\">\n",
       "  <thead>\n",
       "    <tr style=\"text-align: right;\">\n",
       "      <th></th>\n",
       "      <th>exposure</th>\n",
       "      <th>ca.exposure</th>\n",
       "      <th>cb.exposure</th>\n",
       "    </tr>\n",
       "  </thead>\n",
       "  <tbody>\n",
       "    <tr>\n",
       "      <th>461</th>\n",
       "      <td>0.125000</td>\n",
       "      <td>0.000000</td>\n",
       "      <td>0.125000</td>\n",
       "    </tr>\n",
       "    <tr>\n",
       "      <th>462</th>\n",
       "      <td>0.214286</td>\n",
       "      <td>0.500000</td>\n",
       "      <td>0.214286</td>\n",
       "    </tr>\n",
       "    <tr>\n",
       "      <th>463</th>\n",
       "      <td>0.687500</td>\n",
       "      <td>NaN</td>\n",
       "      <td>0.687500</td>\n",
       "    </tr>\n",
       "    <tr>\n",
       "      <th>468</th>\n",
       "      <td>0.222222</td>\n",
       "      <td>NaN</td>\n",
       "      <td>0.222222</td>\n",
       "    </tr>\n",
       "    <tr>\n",
       "      <th>469</th>\n",
       "      <td>0.647059</td>\n",
       "      <td>0.588235</td>\n",
       "      <td>0.647059</td>\n",
       "    </tr>\n",
       "    <tr>\n",
       "      <th>...</th>\n",
       "      <td>...</td>\n",
       "      <td>...</td>\n",
       "      <td>...</td>\n",
       "    </tr>\n",
       "    <tr>\n",
       "      <th>584</th>\n",
       "      <td>0.472222</td>\n",
       "      <td>0.444444</td>\n",
       "      <td>0.472222</td>\n",
       "    </tr>\n",
       "    <tr>\n",
       "      <th>592</th>\n",
       "      <td>0.523810</td>\n",
       "      <td>0.476190</td>\n",
       "      <td>0.523810</td>\n",
       "    </tr>\n",
       "    <tr>\n",
       "      <th>593</th>\n",
       "      <td>0.400000</td>\n",
       "      <td>0.457143</td>\n",
       "      <td>0.400000</td>\n",
       "    </tr>\n",
       "    <tr>\n",
       "      <th>594</th>\n",
       "      <td>0.481481</td>\n",
       "      <td>0.296296</td>\n",
       "      <td>0.481481</td>\n",
       "    </tr>\n",
       "    <tr>\n",
       "      <th>595</th>\n",
       "      <td>0.680000</td>\n",
       "      <td>NaN</td>\n",
       "      <td>0.680000</td>\n",
       "    </tr>\n",
       "  </tbody>\n",
       "</table>\n",
       "<p>78 rows × 3 columns</p>\n",
       "</div>"
      ],
      "text/plain": [
       "     exposure  ca.exposure  cb.exposure\n",
       "461  0.125000     0.000000     0.125000\n",
       "462  0.214286     0.500000     0.214286\n",
       "463  0.687500          NaN     0.687500\n",
       "468  0.222222          NaN     0.222222\n",
       "469  0.647059     0.588235     0.647059\n",
       "..        ...          ...          ...\n",
       "584  0.472222     0.444444     0.472222\n",
       "592  0.523810     0.476190     0.523810\n",
       "593  0.400000     0.457143     0.400000\n",
       "594  0.481481     0.296296     0.481481\n",
       "595  0.680000          NaN     0.680000\n",
       "\n",
       "[78 rows x 3 columns]"
      ]
     },
     "execution_count": 24,
     "metadata": {},
     "output_type": "execute_result"
    }
   ],
   "source": [
    "exposure.features_verbose"
   ]
  },
  {
   "cell_type": "markdown",
   "metadata": {},
   "source": [
    "## SiteAlign features"
   ]
  },
  {
   "cell_type": "code",
   "execution_count": 25,
   "metadata": {},
   "outputs": [],
   "source": [
    "from kissim.encoding.features.sitealign import SiteAlignFeature"
   ]
  },
  {
   "cell_type": "code",
   "execution_count": 26,
   "metadata": {},
   "outputs": [],
   "source": [
    "sitealign = SiteAlignFeature.from_pocket(pocket_df)"
   ]
  },
  {
   "cell_type": "code",
   "execution_count": 27,
   "metadata": {},
   "outputs": [
    {
     "name": "stderr",
     "output_type": "stream",
     "text": [
      "INFO:opencadd.databases.klifs.api:Set up remote session...\n",
      "INFO:opencadd.databases.klifs.api:Remote session is ready!\n"
     ]
    }
   ],
   "source": [
    "sitealign = SiteAlignFeature.from_structure_id(12347)"
   ]
  },
  {
   "cell_type": "markdown",
   "metadata": {},
   "source": [
    "### Class attributes"
   ]
  },
  {
   "cell_type": "code",
   "execution_count": 28,
   "metadata": {},
   "outputs": [
    {
     "name": "stdout",
     "output_type": "stream",
     "text": [
      "461 462 463 468 469 470 471 472 473 480 481 482 483 484 485 497 498 499 500 501 502 503 504 505 506 507 508 509 511 512 513 514 515 516 517 518 519 526 527 528 529 530 531 532 533 534 535 536 537 538 539 540 541 542 543 566 567 568 569 570 571 572 573 574 575 576 577 578 579 580 581 582 583 584 592 593 594 595\n"
     ]
    }
   ],
   "source": [
    "print(*sitealign._residue_ids)"
   ]
  },
  {
   "cell_type": "code",
   "execution_count": 29,
   "metadata": {},
   "outputs": [
    {
     "name": "stdout",
     "output_type": "stream",
     "text": [
      "hba hbd size charge aliphatic aromatic\n"
     ]
    }
   ],
   "source": [
    "print(*sitealign._values.keys())"
   ]
  },
  {
   "cell_type": "markdown",
   "metadata": {},
   "source": [
    "### Class properties"
   ]
  },
  {
   "cell_type": "code",
   "execution_count": 30,
   "metadata": {},
   "outputs": [
    {
     "data": {
      "text/html": [
       "<div>\n",
       "<style scoped>\n",
       "    .dataframe tbody tr th:only-of-type {\n",
       "        vertical-align: middle;\n",
       "    }\n",
       "\n",
       "    .dataframe tbody tr th {\n",
       "        vertical-align: top;\n",
       "    }\n",
       "\n",
       "    .dataframe thead th {\n",
       "        text-align: right;\n",
       "    }\n",
       "</style>\n",
       "<table border=\"1\" class=\"dataframe\">\n",
       "  <thead>\n",
       "    <tr style=\"text-align: right;\">\n",
       "      <th></th>\n",
       "      <th>hba</th>\n",
       "      <th>hbd</th>\n",
       "      <th>size</th>\n",
       "      <th>charge</th>\n",
       "      <th>aliphatic</th>\n",
       "      <th>aromatic</th>\n",
       "    </tr>\n",
       "  </thead>\n",
       "  <tbody>\n",
       "    <tr>\n",
       "      <th>461</th>\n",
       "      <td>1.0</td>\n",
       "      <td>1.0</td>\n",
       "      <td>2.0</td>\n",
       "      <td>0.0</td>\n",
       "      <td>0.0</td>\n",
       "      <td>0.0</td>\n",
       "    </tr>\n",
       "    <tr>\n",
       "      <th>462</th>\n",
       "      <td>0.0</td>\n",
       "      <td>3.0</td>\n",
       "      <td>3.0</td>\n",
       "      <td>1.0</td>\n",
       "      <td>0.0</td>\n",
       "      <td>0.0</td>\n",
       "    </tr>\n",
       "    <tr>\n",
       "      <th>463</th>\n",
       "      <td>0.0</td>\n",
       "      <td>0.0</td>\n",
       "      <td>2.0</td>\n",
       "      <td>0.0</td>\n",
       "      <td>1.0</td>\n",
       "      <td>0.0</td>\n",
       "    </tr>\n",
       "    <tr>\n",
       "      <th>468</th>\n",
       "      <td>0.0</td>\n",
       "      <td>0.0</td>\n",
       "      <td>3.0</td>\n",
       "      <td>0.0</td>\n",
       "      <td>0.0</td>\n",
       "      <td>1.0</td>\n",
       "    </tr>\n",
       "    <tr>\n",
       "      <th>469</th>\n",
       "      <td>0.0</td>\n",
       "      <td>0.0</td>\n",
       "      <td>1.0</td>\n",
       "      <td>0.0</td>\n",
       "      <td>0.0</td>\n",
       "      <td>0.0</td>\n",
       "    </tr>\n",
       "    <tr>\n",
       "      <th>...</th>\n",
       "      <td>...</td>\n",
       "      <td>...</td>\n",
       "      <td>...</td>\n",
       "      <td>...</td>\n",
       "      <td>...</td>\n",
       "      <td>...</td>\n",
       "    </tr>\n",
       "    <tr>\n",
       "      <th>584</th>\n",
       "      <td>0.0</td>\n",
       "      <td>0.0</td>\n",
       "      <td>2.0</td>\n",
       "      <td>0.0</td>\n",
       "      <td>1.0</td>\n",
       "      <td>0.0</td>\n",
       "    </tr>\n",
       "    <tr>\n",
       "      <th>592</th>\n",
       "      <td>0.0</td>\n",
       "      <td>0.0</td>\n",
       "      <td>2.0</td>\n",
       "      <td>0.0</td>\n",
       "      <td>1.0</td>\n",
       "      <td>0.0</td>\n",
       "    </tr>\n",
       "    <tr>\n",
       "      <th>593</th>\n",
       "      <td>0.0</td>\n",
       "      <td>0.0</td>\n",
       "      <td>1.0</td>\n",
       "      <td>0.0</td>\n",
       "      <td>0.0</td>\n",
       "      <td>0.0</td>\n",
       "    </tr>\n",
       "    <tr>\n",
       "      <th>594</th>\n",
       "      <td>2.0</td>\n",
       "      <td>0.0</td>\n",
       "      <td>2.0</td>\n",
       "      <td>-1.0</td>\n",
       "      <td>0.0</td>\n",
       "      <td>0.0</td>\n",
       "    </tr>\n",
       "    <tr>\n",
       "      <th>595</th>\n",
       "      <td>0.0</td>\n",
       "      <td>0.0</td>\n",
       "      <td>3.0</td>\n",
       "      <td>0.0</td>\n",
       "      <td>0.0</td>\n",
       "      <td>1.0</td>\n",
       "    </tr>\n",
       "  </tbody>\n",
       "</table>\n",
       "<p>78 rows × 6 columns</p>\n",
       "</div>"
      ],
      "text/plain": [
       "     hba  hbd  size  charge  aliphatic  aromatic\n",
       "461  1.0  1.0   2.0     0.0        0.0       0.0\n",
       "462  0.0  3.0   3.0     1.0        0.0       0.0\n",
       "463  0.0  0.0   2.0     0.0        1.0       0.0\n",
       "468  0.0  0.0   3.0     0.0        0.0       1.0\n",
       "469  0.0  0.0   1.0     0.0        0.0       0.0\n",
       "..   ...  ...   ...     ...        ...       ...\n",
       "584  0.0  0.0   2.0     0.0        1.0       0.0\n",
       "592  0.0  0.0   2.0     0.0        1.0       0.0\n",
       "593  0.0  0.0   1.0     0.0        0.0       0.0\n",
       "594  2.0  0.0   2.0    -1.0        0.0       0.0\n",
       "595  0.0  0.0   3.0     0.0        0.0       1.0\n",
       "\n",
       "[78 rows x 6 columns]"
      ]
     },
     "execution_count": 30,
     "metadata": {},
     "output_type": "execute_result"
    }
   ],
   "source": [
    "sitealign.features"
   ]
  }
 ],
 "metadata": {
  "kernelspec": {
   "display_name": "Python 3",
   "language": "python",
   "name": "python3"
  },
  "language_info": {
   "codemirror_mode": {
    "name": "ipython",
    "version": 3
   },
   "file_extension": ".py",
   "mimetype": "text/x-python",
   "name": "python",
   "nbconvert_exporter": "python",
   "pygments_lexer": "ipython3",
   "version": "3.8.5"
  }
 },
 "nbformat": 4,
 "nbformat_minor": 4
}
