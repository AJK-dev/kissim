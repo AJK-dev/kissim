{
 "cells": [
  {
   "cell_type": "markdown",
   "metadata": {},
   "source": [
    "# The `features` module"
   ]
  },
  {
   "cell_type": "code",
   "execution_count": 1,
   "metadata": {},
   "outputs": [],
   "source": [
    "%load_ext autoreload\n",
    "%autoreload 2"
   ]
  },
  {
   "cell_type": "markdown",
   "metadata": {},
   "source": [
    "## Load pocket as `PocketBioPython`"
   ]
  },
  {
   "cell_type": "code",
   "execution_count": 2,
   "metadata": {},
   "outputs": [
    {
     "name": "stderr",
     "output_type": "stream",
     "text": [
      "RDKit WARNING: [14:02:36] Enabling RDKit 2019.09.3 jupyter extensions\n",
      "INFO:opencadd.databases.klifs.api:If you want to see an non-truncated version of the DataFrames in this module, use `pd.set_option('display.max_columns', 50)` in your notebook.\n"
     ]
    },
    {
     "data": {
      "application/vnd.jupyter.widget-view+json": {
       "model_id": "fde4dd42a8f346a9a946f0a7b035473e",
       "version_major": 2,
       "version_minor": 0
      },
      "text/plain": []
     },
     "metadata": {},
     "output_type": "display_data"
    },
    {
     "name": "stderr",
     "output_type": "stream",
     "text": [
      "INFO:opencadd.databases.klifs.api:Set up remote session...\n",
      "INFO:opencadd.databases.klifs.api:Remote session is ready!\n",
      "INFO:opencadd.structure.pocket.base:Pocket 12347 (set pocket residues): The following input residues PDB IDs were assigned to the value None because they cannot be cast to an integer (residue PDB ID, residue index): [('_', 4), ('_', 5), ('_', 6), ('_', 7), ('_', 83), ('_', 84), ('_', 85)]\n"
     ]
    }
   ],
   "source": [
    "from kissim.io import PocketBioPython\n",
    "pocket_bp = PocketBioPython.from_structure_klifs_id(12347)"
   ]
  },
  {
   "cell_type": "markdown",
   "metadata": {},
   "source": [
    "## Load pocket as `PocketDataFrame`"
   ]
  },
  {
   "cell_type": "code",
   "execution_count": 3,
   "metadata": {},
   "outputs": [
    {
     "name": "stderr",
     "output_type": "stream",
     "text": [
      "INFO:opencadd.databases.klifs.api:Set up remote session...\n",
      "INFO:opencadd.databases.klifs.api:Remote session is ready!\n",
      "INFO:opencadd.structure.pocket.base:Pocket 12347 (set pocket residues): The following input residues PDB IDs were assigned to the value None because they cannot be cast to an integer (residue PDB ID, residue index): [('_', 4), ('_', 5), ('_', 6), ('_', 7), ('_', 83), ('_', 84), ('_', 85)]\n",
      "INFO:opencadd.structure.pocket.core:Pocket 12347: Missing pocket CA atoms. The pocket center is calculated based on 78 CA atoms (total number of pocket residues is 85).\n",
      "INFO:opencadd.structure.pocket.base:Pocket 12347 (set region residues): The following input residues PDB IDs were assigned to the value None because they cannot be cast to an integer (residue PDB ID, residue index): [(None, 84), (None, 85)]\n",
      "INFO:opencadd.structure.pocket.base:Pocket 12347 (set region residues): The following input residues PDB IDs were assigned to the value None because they cannot be cast to an integer (residue PDB ID, residue index): [(None, 4), (None, 5), (None, 6), (None, 7)]\n",
      "INFO:opencadd.structure.pocket.base:Pocket 12347 (set region residues): The following input residues PDB IDs were assigned to the value None because they cannot be cast to an integer (residue PDB ID, residue index): [(None, 83)]\n"
     ]
    }
   ],
   "source": [
    "from kissim.io import PocketDataFrame\n",
    "pocket_df = PocketDataFrame.from_structure_klifs_id(12347)"
   ]
  },
  {
   "cell_type": "markdown",
   "metadata": {},
   "source": [
    "## Side chain orientation"
   ]
  },
  {
   "cell_type": "code",
   "execution_count": 4,
   "metadata": {},
   "outputs": [],
   "source": [
    "from kissim.encoding.features import SideChainOrientationFeature"
   ]
  },
  {
   "cell_type": "code",
   "execution_count": 5,
   "metadata": {},
   "outputs": [],
   "source": [
    "feature_sco = SideChainOrientationFeature.from_pocket(pocket_bp)"
   ]
  },
  {
   "cell_type": "markdown",
   "metadata": {},
   "source": [
    "### Class properties"
   ]
  },
  {
   "cell_type": "code",
   "execution_count": 6,
   "metadata": {},
   "outputs": [
    {
     "name": "stdout",
     "output_type": "stream",
     "text": [
      "List length:  85\n",
      "1.0 nan nan nan nan nan nan 2.0 nan 2.0 1.0 nan nan 2.0 0.0 2.0 nan nan nan 1.0 1.0 nan 2.0 nan 2.0 nan 1.0 nan nan 2.0 0.0 2.0 2.0 2.0 2.0 0.0 2.0 2.0 2.0 nan 2.0 2.0 1.0 2.0 0.0 1.0 2.0 0.0 nan nan 2.0 2.0 2.0 2.0 2.0 1.0 nan 1.0 0.0 1.0 0.0 1.0 2.0 1.0 2.0 1.0 2.0 0.0 2.0 1.0 2.0 1.0 nan 2.0 1.0 2.0 2.0 2.0 2.0 nan 2.0 1.0 nan nan nan\n"
     ]
    }
   ],
   "source": [
    "print(\"List length: \", len(feature_sco.values))\n",
    "print(*feature_sco.values)"
   ]
  },
  {
   "cell_type": "code",
   "execution_count": 7,
   "metadata": {},
   "outputs": [
    {
     "data": {
      "text/html": [
       "<div>\n",
       "<style scoped>\n",
       "    .dataframe tbody tr th:only-of-type {\n",
       "        vertical-align: middle;\n",
       "    }\n",
       "\n",
       "    .dataframe tbody tr th {\n",
       "        vertical-align: top;\n",
       "    }\n",
       "\n",
       "    .dataframe thead th {\n",
       "        text-align: right;\n",
       "    }\n",
       "</style>\n",
       "<table border=\"1\" class=\"dataframe\">\n",
       "  <thead>\n",
       "    <tr style=\"text-align: right;\">\n",
       "      <th></th>\n",
       "      <th>residue.id</th>\n",
       "      <th>sco.category</th>\n",
       "      <th>sco.angle</th>\n",
       "      <th>ca.vector</th>\n",
       "      <th>sc.vector</th>\n",
       "      <th>pocket_center.vector</th>\n",
       "    </tr>\n",
       "    <tr>\n",
       "      <th>residue.ix</th>\n",
       "      <th></th>\n",
       "      <th></th>\n",
       "      <th></th>\n",
       "      <th></th>\n",
       "      <th></th>\n",
       "      <th></th>\n",
       "    </tr>\n",
       "  </thead>\n",
       "  <tbody>\n",
       "    <tr>\n",
       "      <th>1</th>\n",
       "      <td>461.0</td>\n",
       "      <td>1.0</td>\n",
       "      <td>84.436343</td>\n",
       "      <td>&lt;Vector 8.81, 16.81, 51.66&gt;</td>\n",
       "      <td>&lt;Vector 5.63, 14.81, 52.26&gt;</td>\n",
       "      <td>&lt;Vector 0.83, 21.62, 36.45&gt;</td>\n",
       "    </tr>\n",
       "    <tr>\n",
       "      <th>2</th>\n",
       "      <td>462.0</td>\n",
       "      <td>NaN</td>\n",
       "      <td>NaN</td>\n",
       "      <td>&lt;Vector 8.91, 14.91, 48.36&gt;</td>\n",
       "      <td>None</td>\n",
       "      <td>&lt;Vector 0.83, 21.62, 36.45&gt;</td>\n",
       "    </tr>\n",
       "    <tr>\n",
       "      <th>3</th>\n",
       "      <td>463.0</td>\n",
       "      <td>NaN</td>\n",
       "      <td>NaN</td>\n",
       "      <td>&lt;Vector 5.48, 13.77, 47.17&gt;</td>\n",
       "      <td>None</td>\n",
       "      <td>&lt;Vector 0.83, 21.62, 36.45&gt;</td>\n",
       "    </tr>\n",
       "    <tr>\n",
       "      <th>4</th>\n",
       "      <td>NaN</td>\n",
       "      <td>NaN</td>\n",
       "      <td>NaN</td>\n",
       "      <td>None</td>\n",
       "      <td>None</td>\n",
       "      <td>&lt;Vector 0.83, 21.62, 36.45&gt;</td>\n",
       "    </tr>\n",
       "    <tr>\n",
       "      <th>5</th>\n",
       "      <td>NaN</td>\n",
       "      <td>NaN</td>\n",
       "      <td>NaN</td>\n",
       "      <td>None</td>\n",
       "      <td>None</td>\n",
       "      <td>&lt;Vector 0.83, 21.62, 36.45&gt;</td>\n",
       "    </tr>\n",
       "    <tr>\n",
       "      <th>...</th>\n",
       "      <td>...</td>\n",
       "      <td>...</td>\n",
       "      <td>...</td>\n",
       "      <td>...</td>\n",
       "      <td>...</td>\n",
       "      <td>...</td>\n",
       "    </tr>\n",
       "    <tr>\n",
       "      <th>81</th>\n",
       "      <td>594.0</td>\n",
       "      <td>2.0</td>\n",
       "      <td>92.784985</td>\n",
       "      <td>&lt;Vector 1.83, 18.43, 34.14&gt;</td>\n",
       "      <td>&lt;Vector 1.72, 16.82, 36.09&gt;</td>\n",
       "      <td>&lt;Vector 0.83, 21.62, 36.45&gt;</td>\n",
       "    </tr>\n",
       "    <tr>\n",
       "      <th>82</th>\n",
       "      <td>595.0</td>\n",
       "      <td>1.0</td>\n",
       "      <td>59.266540</td>\n",
       "      <td>&lt;Vector 2.38, 19.71, 30.60&gt;</td>\n",
       "      <td>&lt;Vector 0.31, 24.33, 31.38&gt;</td>\n",
       "      <td>&lt;Vector 0.83, 21.62, 36.45&gt;</td>\n",
       "    </tr>\n",
       "    <tr>\n",
       "      <th>83</th>\n",
       "      <td>NaN</td>\n",
       "      <td>NaN</td>\n",
       "      <td>NaN</td>\n",
       "      <td>None</td>\n",
       "      <td>None</td>\n",
       "      <td>&lt;Vector 0.83, 21.62, 36.45&gt;</td>\n",
       "    </tr>\n",
       "    <tr>\n",
       "      <th>84</th>\n",
       "      <td>NaN</td>\n",
       "      <td>NaN</td>\n",
       "      <td>NaN</td>\n",
       "      <td>None</td>\n",
       "      <td>None</td>\n",
       "      <td>&lt;Vector 0.83, 21.62, 36.45&gt;</td>\n",
       "    </tr>\n",
       "    <tr>\n",
       "      <th>85</th>\n",
       "      <td>NaN</td>\n",
       "      <td>NaN</td>\n",
       "      <td>NaN</td>\n",
       "      <td>None</td>\n",
       "      <td>None</td>\n",
       "      <td>&lt;Vector 0.83, 21.62, 36.45&gt;</td>\n",
       "    </tr>\n",
       "  </tbody>\n",
       "</table>\n",
       "<p>85 rows × 6 columns</p>\n",
       "</div>"
      ],
      "text/plain": [
       "            residue.id  sco.category  sco.angle                    ca.vector  \\\n",
       "residue.ix                                                                     \n",
       "1                461.0           1.0  84.436343  <Vector 8.81, 16.81, 51.66>   \n",
       "2                462.0           NaN        NaN  <Vector 8.91, 14.91, 48.36>   \n",
       "3                463.0           NaN        NaN  <Vector 5.48, 13.77, 47.17>   \n",
       "4                  NaN           NaN        NaN                         None   \n",
       "5                  NaN           NaN        NaN                         None   \n",
       "...                ...           ...        ...                          ...   \n",
       "81               594.0           2.0  92.784985  <Vector 1.83, 18.43, 34.14>   \n",
       "82               595.0           1.0  59.266540  <Vector 2.38, 19.71, 30.60>   \n",
       "83                 NaN           NaN        NaN                         None   \n",
       "84                 NaN           NaN        NaN                         None   \n",
       "85                 NaN           NaN        NaN                         None   \n",
       "\n",
       "                              sc.vector         pocket_center.vector  \n",
       "residue.ix                                                            \n",
       "1           <Vector 5.63, 14.81, 52.26>  <Vector 0.83, 21.62, 36.45>  \n",
       "2                                  None  <Vector 0.83, 21.62, 36.45>  \n",
       "3                                  None  <Vector 0.83, 21.62, 36.45>  \n",
       "4                                  None  <Vector 0.83, 21.62, 36.45>  \n",
       "5                                  None  <Vector 0.83, 21.62, 36.45>  \n",
       "...                                 ...                          ...  \n",
       "81          <Vector 1.72, 16.82, 36.09>  <Vector 0.83, 21.62, 36.45>  \n",
       "82          <Vector 0.31, 24.33, 31.38>  <Vector 0.83, 21.62, 36.45>  \n",
       "83                                 None  <Vector 0.83, 21.62, 36.45>  \n",
       "84                                 None  <Vector 0.83, 21.62, 36.45>  \n",
       "85                                 None  <Vector 0.83, 21.62, 36.45>  \n",
       "\n",
       "[85 rows x 6 columns]"
      ]
     },
     "execution_count": 7,
     "metadata": {},
     "output_type": "execute_result"
    }
   ],
   "source": [
    "feature_sco.details"
   ]
  },
  {
   "cell_type": "markdown",
   "metadata": {},
   "source": [
    "### Class attributes"
   ]
  },
  {
   "cell_type": "code",
   "execution_count": 8,
   "metadata": {},
   "outputs": [
    {
     "name": "stdout",
     "output_type": "stream",
     "text": [
      "List length:  85\n",
      "461 462 463 None None None None 468 469 470 471 472 473 480 481 482 483 484 485 497 498 499 500 501 502 503 504 505 506 507 508 509 511 512 513 514 515 516 517 518 519 526 527 528 529 530 531 532 533 534 535 536 537 538 539 540 541 542 543 566 567 568 569 570 571 572 573 574 575 576 577 578 579 580 581 582 583 584 592 593 594 595 None None None\n"
     ]
    }
   ],
   "source": [
    "print(\"List length: \", len(feature_sco._residue_ids))\n",
    "print(*feature_sco._residue_ids)"
   ]
  },
  {
   "cell_type": "code",
   "execution_count": 9,
   "metadata": {},
   "outputs": [
    {
     "name": "stdout",
     "output_type": "stream",
     "text": [
      "List length:  85\n",
      "1 2 3 4 5 6 7 8 9 10 11 12 13 14 15 16 17 18 19 20 21 22 23 24 25 26 27 28 29 30 31 32 33 34 35 36 37 38 39 40 41 42 43 44 45 46 47 48 49 50 51 52 53 54 55 56 57 58 59 60 61 62 63 64 65 66 67 68 69 70 71 72 73 74 75 76 77 78 79 80 81 82 83 84 85\n"
     ]
    }
   ],
   "source": [
    "print(\"List length: \", len(feature_sco._residue_ixs))\n",
    "print(*feature_sco._residue_ixs)"
   ]
  },
  {
   "cell_type": "code",
   "execution_count": 10,
   "metadata": {},
   "outputs": [
    {
     "name": "stdout",
     "output_type": "stream",
     "text": [
      "List length:  85\n",
      "1.0 nan nan nan nan nan nan 2.0 nan 2.0 1.0 nan nan 2.0 0.0 2.0 nan nan nan 1.0 1.0 nan 2.0 nan 2.0 nan 1.0 nan nan 2.0 0.0 2.0 2.0 2.0 2.0 0.0 2.0 2.0 2.0 nan 2.0 2.0 1.0 2.0 0.0 1.0 2.0 0.0 nan nan 2.0 2.0 2.0 2.0 2.0 1.0 nan 1.0 0.0 1.0 0.0 1.0 2.0 1.0 2.0 1.0 2.0 0.0 2.0 1.0 2.0 1.0 nan 2.0 1.0 2.0 2.0 2.0 2.0 nan 2.0 1.0 nan nan nan\n"
     ]
    }
   ],
   "source": [
    "print(\"List length: \", len(feature_sco._categories))\n",
    "print(*feature_sco._categories)"
   ]
  },
  {
   "cell_type": "code",
   "execution_count": 11,
   "metadata": {},
   "outputs": [
    {
     "name": "stdout",
     "output_type": "stream",
     "text": [
      "List length:  85\n",
      "84.43634320797315 nan nan nan nan nan nan 138.41070678639875 nan 150.69852081699418 45.24506235374276 nan nan 97.18224591861701 42.7171640791292 160.94719014562634 nan nan nan 83.08520899103792 69.17007309538454 nan 96.18795253124387 nan 127.18687421489133 nan 69.8645863476361 nan nan 116.47795356345232 19.552063171462777 118.45486321068974 154.666946496114 150.37636982049693 92.60236739634725 43.29404750327634 160.29403467330314 120.89862214424804 110.42087228799096 nan 128.83818867750998 109.65952091402973 59.34356407787748 165.78833592095822 7.019169257832821 77.18360997869439 117.90329699677812 15.988058453389012 nan nan 143.6123356732296 100.50798356507362 109.54677926141883 113.29583323153793 109.01869697036146 72.6404360609924 nan 69.85213002782336 42.93083244840415 73.50585445162793 18.293892536851374 85.75932843864183 92.25968401478761 57.239589687100334 172.84710331169467 72.87397651098915 156.4794300679326 37.81829741138075 109.26369865542082 79.63479790374275 102.796637731654 63.8290866023029 nan 99.03962092788386 80.75578932524729 126.26685841826053 92.05348140746688 128.39832506330396 149.73981142972815 nan 92.78498477044577 59.26653953159822 nan nan nan\n"
     ]
    }
   ],
   "source": [
    "print(\"List length: \", len(feature_sco._vertex_angles))\n",
    "print(*feature_sco._vertex_angles)"
   ]
  },
  {
   "cell_type": "code",
   "execution_count": 12,
   "metadata": {},
   "outputs": [
    {
     "name": "stdout",
     "output_type": "stream",
     "text": [
      "<Vector 0.83, 21.62, 36.45>\n"
     ]
    }
   ],
   "source": [
    "print(feature_sco._pocket_center)"
   ]
  },
  {
   "cell_type": "code",
   "execution_count": 13,
   "metadata": {},
   "outputs": [
    {
     "name": "stdout",
     "output_type": "stream",
     "text": [
      "List length:  85\n",
      "<Vector 8.81, 16.81, 51.66> <Vector 8.91, 14.91, 48.36> <Vector 5.48, 13.77, 47.17> None None None None <Vector 9.01, 12.20, 35.42> <Vector 10.82, 14.70, 37.66> <Vector 11.03, 15.03, 41.43> <Vector 8.14, 16.88, 43.10> <Vector 8.32, 18.38, 46.59> <Vector 5.94, 20.35, 48.81> <Vector 3.90, 25.86, 47.29> <Vector 4.92, 22.87, 45.17> <Vector 8.33, 22.78, 43.46> <Vector 9.26, 20.28, 40.75> <Vector 13.01, 19.87, 40.20> <Vector 15.03, 17.46, 38.07> <Vector 13.70, 22.76, 27.11> <Vector 13.26, 24.33, 30.56> <Vector 13.41, 27.83, 29.06> <Vector 10.73, 26.87, 26.53> <Vector 8.52, 25.29, 29.22> <Vector 8.88, 28.38, 31.44> <Vector 7.99, 30.63, 28.52> <Vector 4.91, 28.51, 27.83> <Vector 3.86, 28.51, 31.50> <Vector 4.42, 32.24, 32.12> <Vector 1.46, 33.35, 29.96> <Vector -1.24, 31.45, 31.93> <Vector -3.62, 33.14, 34.40> <Vector -8.74, 29.90, 38.02> <Vector -9.01, 26.48, 36.33> <Vector -5.33, 26.41, 35.29> <Vector -2.58, 25.68, 37.81> <Vector -1.00, 28.88, 39.12> <Vector 2.64, 29.07, 38.05> <Vector 4.55, 31.17, 40.59> <Vector 8.18, 31.11, 39.45> <Vector 11.24, 29.23, 38.28> <Vector 12.88, 23.72, 38.82> <Vector 9.37, 25.17, 38.56> <Vector 7.51, 26.45, 41.65> <Vector 3.69, 26.68, 41.57> <Vector 0.92, 26.91, 44.14> <Vector -0.00, 24.11, 46.55> <Vector -3.53, 22.68, 46.33> <Vector -5.15, 20.29, 48.81> <Vector -6.82, 17.23, 47.30> <Vector -6.04, 14.55, 44.73> <Vector -6.29, 13.95, 40.99> <Vector -9.61, 13.23, 39.30> <Vector -8.16, 9.83, 38.34> <Vector -7.69, 9.01, 42.03> <Vector -11.13, 10.38, 42.96> <Vector -13.15, 8.49, 40.33> <Vector -11.12, 5.30, 39.76> <Vector -9.03, 4.67, 42.88> <Vector -8.41, 29.27, 27.77> <Vector -5.36, 27.26, 26.69> <Vector -6.51, 26.98, 23.06> <Vector -7.40, 30.68, 22.90> <Vector -3.68, 31.32, 23.48> <Vector -2.71, 28.62, 20.94> <Vector -1.32, 26.50, 23.78> <Vector -1.43, 22.76, 23.09> <Vector -1.78, 20.55, 26.17> <Vector -0.31, 17.40, 24.68> <Vector -0.67, 15.11, 27.71> <Vector -4.22, 15.90, 28.84> <Vector -5.58, 13.10, 31.03> <Vector -7.80, 12.64, 34.06> <Vector -4.68, 11.96, 36.15> <Vector -3.35, 15.47, 35.42> <Vector -6.62, 17.09, 36.56> <Vector -6.27, 18.11, 40.21> <Vector -9.36, 18.82, 42.32> <Vector -4.69, 21.47, 35.20> <Vector -0.96, 20.89, 35.01> <Vector 1.83, 18.43, 34.14> <Vector 2.38, 19.71, 30.60> None None None\n"
     ]
    }
   ],
   "source": [
    "print(\"List length: \", len(feature_sco._ca_atoms))\n",
    "print(*feature_sco._ca_atoms)"
   ]
  },
  {
   "cell_type": "code",
   "execution_count": 14,
   "metadata": {},
   "outputs": [
    {
     "name": "stdout",
     "output_type": "stream",
     "text": [
      "List length:  85\n",
      "<Vector 5.63, 14.81, 52.26> None None None None None None <Vector 14.05, 11.55, 35.02> None <Vector 12.36, 15.01, 42.17> <Vector 6.69, 16.56, 42.66> None None <Vector 4.92, 26.91, 46.80> <Vector 3.80, 22.02, 44.56> <Vector 9.51, 23.39, 44.24> None None None <Vector 13.73, 21.25, 27.27> <Vector 13.03, 26.24, 35.27> None <Vector 9.66, 25.81, 24.50> None <Vector 10.18, 28.90, 32.07> None <Vector 4.89, 27.05, 27.37> None None <Vector 1.30, 33.11, 24.08> <Vector -0.94, 29.95, 32.06> <Vector -2.00, 35.10, 34.50> <Vector -10.14, 30.33, 38.49> <Vector -11.50, 26.40, 35.86> <Vector -5.64, 25.53, 32.39> <Vector -0.72, 24.29, 38.99> <Vector -1.02, 31.00, 40.63> <Vector 6.82, 31.25, 36.05> <Vector 3.43, 31.54, 45.08> None <Vector 13.61, 33.86, 34.43> <Vector 13.14, 23.57, 40.32> <Vector 8.51, 24.08, 34.92> <Vector 8.25, 27.35, 42.65> <Vector 2.97, 25.78, 40.56> <Vector -2.69, 27.43, 42.78> <Vector -0.04, 20.71, 49.59> <Vector -3.01, 21.92, 43.68> None None <Vector -5.86, 12.92, 46.53> <Vector -5.02, 11.90, 40.66> <Vector -11.48, 13.52, 37.49> <Vector -5.42, 4.20, 36.62> <Vector -7.21, 8.78, 46.44> <Vector -11.08, 13.92, 45.60> None <Vector -11.86, 6.88, 35.93> <Vector -7.72, 5.39, 43.20> <Vector -4.75, 33.62, 30.84> <Vector -4.72, 25.57, 28.55> <Vector -7.70, 22.48, 22.33> <Vector -8.27, 31.47, 23.88> <Vector -2.86, 33.58, 29.30> <Vector -2.97, 29.78, 18.82> <Vector 0.86, 28.28, 25.10> <Vector -0.52, 22.79, 19.31> <Vector -1.61, 18.42, 29.78> <Vector 1.52, 18.43, 23.23> <Vector 0.44, 13.47, 29.32> <Vector -6.55, 16.93, 28.81> <Vector -0.29, 11.79, 32.27> None <Vector -2.90, 10.45, 37.13> <Vector -1.45, 14.94, 33.83> <Vector -9.10, 16.66, 33.60> <Vector -4.06, 18.10, 44.81> <Vector -11.45, 17.57, 41.42> <Vector -7.54, 21.40, 32.54> None <Vector 1.72, 16.82, 36.09> <Vector 0.31, 24.33, 31.38> None None None\n"
     ]
    }
   ],
   "source": [
    "print(\"List length: \", len(feature_sco._sc_atoms))\n",
    "print(*feature_sco._sc_atoms)"
   ]
  },
  {
   "cell_type": "markdown",
   "metadata": {},
   "source": [
    "## Exposure"
   ]
  },
  {
   "cell_type": "code",
   "execution_count": 15,
   "metadata": {},
   "outputs": [],
   "source": [
    "from kissim.encoding.features import SolventExposureFeature"
   ]
  },
  {
   "cell_type": "code",
   "execution_count": 16,
   "metadata": {},
   "outputs": [],
   "source": [
    "feature_exposure = SolventExposureFeature.from_pocket(pocket_bp)"
   ]
  },
  {
   "cell_type": "markdown",
   "metadata": {},
   "source": [
    "### Class properties"
   ]
  },
  {
   "cell_type": "code",
   "execution_count": 17,
   "metadata": {},
   "outputs": [
    {
     "name": "stdout",
     "output_type": "stream",
     "text": [
      "List length:  85\n",
      "0.875 0.7857142857142857 0.3125 nan nan nan nan 0.7777777777777778 0.35294117647058826 0.45454545454545453 0.7083333333333334 0.46153846153846156 0.7407407407407407 0.41379310344827586 0.6388888888888888 0.4864864864864865 0.6857142857142857 0.46875 0.5652173913043478 0.5 0.4074074074074074 0.7727272727272727 0.625 0.46153846153846156 0.39285714285714285 0.7368421052631579 0.45 0.40625 0.6153846153846154 0.5652173913043478 0.1724137931034483 0.9473684210526315 0.8181818181818182 0.4666666666666667 0.5833333333333334 0.4722222222222222 0.7586206896551724 0.45714285714285713 0.5666666666666667 0.6 0.65625 0.4473684210526316 0.5952380952380952 0.4523809523809524 0.5641025641025641 0.6206896551724138 0.5666666666666667 0.2962962962962963 0.8421052631578947 0.15789473684210525 0.7142857142857143 0.6 0.375 0.7142857142857143 0.7083333333333334 0.3448275862068966 0.3125 0.52 0.5294117647058824 0.5185185185185185 0.3333333333333333 0.375 0.5 0.2631578947368421 1.0 0.3333333333333333 0.7142857142857143 0.4117647058823529 0.84 0.7727272727272727 0.3235294117647059 0.7878787878787878 0.47368421052631576 0.8620689655172413 0.5357142857142857 0.43902439024390244 0.6176470588235294 0.5277777777777778 0.47619047619047616 0.6 0.5185185185185185 0.32 nan nan nan\n"
     ]
    }
   ],
   "source": [
    "print(\"List length: \", len(feature_exposure.values))\n",
    "print(*feature_exposure.values)"
   ]
  },
  {
   "cell_type": "code",
   "execution_count": 18,
   "metadata": {},
   "outputs": [
    {
     "data": {
      "text/html": [
       "<div>\n",
       "<style scoped>\n",
       "    .dataframe tbody tr th:only-of-type {\n",
       "        vertical-align: middle;\n",
       "    }\n",
       "\n",
       "    .dataframe tbody tr th {\n",
       "        vertical-align: top;\n",
       "    }\n",
       "\n",
       "    .dataframe thead th {\n",
       "        text-align: right;\n",
       "    }\n",
       "</style>\n",
       "<table border=\"1\" class=\"dataframe\">\n",
       "  <thead>\n",
       "    <tr style=\"text-align: right;\">\n",
       "      <th></th>\n",
       "      <th>residue.id</th>\n",
       "      <th>exposure.ratio</th>\n",
       "      <th>exposure.ratio_ca</th>\n",
       "      <th>exposure.ratio_cb</th>\n",
       "    </tr>\n",
       "    <tr>\n",
       "      <th>residue.ix</th>\n",
       "      <th></th>\n",
       "      <th></th>\n",
       "      <th></th>\n",
       "      <th></th>\n",
       "    </tr>\n",
       "  </thead>\n",
       "  <tbody>\n",
       "    <tr>\n",
       "      <th>1</th>\n",
       "      <td>461.0</td>\n",
       "      <td>0.875000</td>\n",
       "      <td>1.000000</td>\n",
       "      <td>0.875000</td>\n",
       "    </tr>\n",
       "    <tr>\n",
       "      <th>2</th>\n",
       "      <td>462.0</td>\n",
       "      <td>0.785714</td>\n",
       "      <td>0.500000</td>\n",
       "      <td>0.785714</td>\n",
       "    </tr>\n",
       "    <tr>\n",
       "      <th>3</th>\n",
       "      <td>463.0</td>\n",
       "      <td>0.312500</td>\n",
       "      <td>NaN</td>\n",
       "      <td>0.312500</td>\n",
       "    </tr>\n",
       "    <tr>\n",
       "      <th>4</th>\n",
       "      <td>NaN</td>\n",
       "      <td>NaN</td>\n",
       "      <td>NaN</td>\n",
       "      <td>NaN</td>\n",
       "    </tr>\n",
       "    <tr>\n",
       "      <th>5</th>\n",
       "      <td>NaN</td>\n",
       "      <td>NaN</td>\n",
       "      <td>NaN</td>\n",
       "      <td>NaN</td>\n",
       "    </tr>\n",
       "    <tr>\n",
       "      <th>...</th>\n",
       "      <td>...</td>\n",
       "      <td>...</td>\n",
       "      <td>...</td>\n",
       "      <td>...</td>\n",
       "    </tr>\n",
       "    <tr>\n",
       "      <th>81</th>\n",
       "      <td>594.0</td>\n",
       "      <td>0.518519</td>\n",
       "      <td>0.703704</td>\n",
       "      <td>0.518519</td>\n",
       "    </tr>\n",
       "    <tr>\n",
       "      <th>82</th>\n",
       "      <td>595.0</td>\n",
       "      <td>0.320000</td>\n",
       "      <td>NaN</td>\n",
       "      <td>0.320000</td>\n",
       "    </tr>\n",
       "    <tr>\n",
       "      <th>83</th>\n",
       "      <td>NaN</td>\n",
       "      <td>NaN</td>\n",
       "      <td>NaN</td>\n",
       "      <td>NaN</td>\n",
       "    </tr>\n",
       "    <tr>\n",
       "      <th>84</th>\n",
       "      <td>NaN</td>\n",
       "      <td>NaN</td>\n",
       "      <td>NaN</td>\n",
       "      <td>NaN</td>\n",
       "    </tr>\n",
       "    <tr>\n",
       "      <th>85</th>\n",
       "      <td>NaN</td>\n",
       "      <td>NaN</td>\n",
       "      <td>NaN</td>\n",
       "      <td>NaN</td>\n",
       "    </tr>\n",
       "  </tbody>\n",
       "</table>\n",
       "<p>85 rows × 4 columns</p>\n",
       "</div>"
      ],
      "text/plain": [
       "            residue.id  exposure.ratio  exposure.ratio_ca  exposure.ratio_cb\n",
       "residue.ix                                                                  \n",
       "1                461.0        0.875000           1.000000           0.875000\n",
       "2                462.0        0.785714           0.500000           0.785714\n",
       "3                463.0        0.312500                NaN           0.312500\n",
       "4                  NaN             NaN                NaN                NaN\n",
       "5                  NaN             NaN                NaN                NaN\n",
       "...                ...             ...                ...                ...\n",
       "81               594.0        0.518519           0.703704           0.518519\n",
       "82               595.0        0.320000                NaN           0.320000\n",
       "83                 NaN             NaN                NaN                NaN\n",
       "84                 NaN             NaN                NaN                NaN\n",
       "85                 NaN             NaN                NaN                NaN\n",
       "\n",
       "[85 rows x 4 columns]"
      ]
     },
     "execution_count": 18,
     "metadata": {},
     "output_type": "execute_result"
    }
   ],
   "source": [
    "feature_exposure.details"
   ]
  },
  {
   "cell_type": "markdown",
   "metadata": {},
   "source": [
    "### Class attributes"
   ]
  },
  {
   "cell_type": "code",
   "execution_count": 19,
   "metadata": {},
   "outputs": [
    {
     "name": "stdout",
     "output_type": "stream",
     "text": [
      "List length:  85\n",
      "461 462 463 None None None None 468 469 470 471 472 473 480 481 482 483 484 485 497 498 499 500 501 502 503 504 505 506 507 508 509 511 512 513 514 515 516 517 518 519 526 527 528 529 530 531 532 533 534 535 536 537 538 539 540 541 542 543 566 567 568 569 570 571 572 573 574 575 576 577 578 579 580 581 582 583 584 592 593 594 595 None None None\n"
     ]
    }
   ],
   "source": [
    "print(\"List length: \", len(feature_exposure._residue_ids))\n",
    "print(*feature_exposure._residue_ids)"
   ]
  },
  {
   "cell_type": "code",
   "execution_count": 20,
   "metadata": {},
   "outputs": [
    {
     "name": "stdout",
     "output_type": "stream",
     "text": [
      "List length:  85\n",
      "1 2 3 4 5 6 7 8 9 10 11 12 13 14 15 16 17 18 19 20 21 22 23 24 25 26 27 28 29 30 31 32 33 34 35 36 37 38 39 40 41 42 43 44 45 46 47 48 49 50 51 52 53 54 55 56 57 58 59 60 61 62 63 64 65 66 67 68 69 70 71 72 73 74 75 76 77 78 79 80 81 82 83 84 85\n"
     ]
    }
   ],
   "source": [
    "print(\"List length: \", len(feature_exposure._residue_ixs))\n",
    "print(*feature_exposure._residue_ixs)"
   ]
  },
  {
   "cell_type": "code",
   "execution_count": 21,
   "metadata": {},
   "outputs": [
    {
     "name": "stdout",
     "output_type": "stream",
     "text": [
      "List length:  85\n",
      "0.875 0.7857142857142857 0.3125 nan nan nan nan 0.7777777777777778 0.35294117647058826 0.45454545454545453 0.7083333333333334 0.46153846153846156 0.7407407407407407 0.41379310344827586 0.6388888888888888 0.4864864864864865 0.6857142857142857 0.46875 0.5652173913043478 0.5 0.4074074074074074 0.7727272727272727 0.625 0.46153846153846156 0.39285714285714285 0.7368421052631579 0.45 0.40625 0.6153846153846154 0.5652173913043478 0.1724137931034483 0.9473684210526315 0.8181818181818182 0.4666666666666667 0.5833333333333334 0.4722222222222222 0.7586206896551724 0.45714285714285713 0.5666666666666667 0.6 0.65625 0.4473684210526316 0.5952380952380952 0.4523809523809524 0.5641025641025641 0.6206896551724138 0.5666666666666667 0.2962962962962963 0.8421052631578947 0.15789473684210525 0.7142857142857143 0.6 0.375 0.7142857142857143 0.7083333333333334 0.3448275862068966 0.3125 0.52 0.5294117647058824 0.5185185185185185 0.3333333333333333 0.375 0.5 0.2631578947368421 1.0 0.3333333333333333 0.7142857142857143 0.4117647058823529 0.84 0.7727272727272727 0.3235294117647059 0.7878787878787878 0.47368421052631576 0.8620689655172413 0.5357142857142857 0.43902439024390244 0.6176470588235294 0.5277777777777778 0.47619047619047616 0.6 0.5185185185185185 0.32 nan nan nan\n"
     ]
    }
   ],
   "source": [
    "print(\"List length: \", len(feature_exposure._ratio))\n",
    "print(*feature_exposure._ratio)"
   ]
  },
  {
   "cell_type": "code",
   "execution_count": 22,
   "metadata": {},
   "outputs": [
    {
     "name": "stdout",
     "output_type": "stream",
     "text": [
      "List length:  85\n",
      "1.0 0.5 nan nan nan nan nan nan 0.4117647058823529 0.6363636363636364 0.5416666666666666 0.6153846153846154 0.7037037037037037 0.5172413793103449 0.6666666666666666 0.43243243243243246 0.6571428571428571 0.4375 0.6956521739130435 0.8888888888888888 0.48148148148148145 0.7727272727272727 1.0 0.6153846153846154 0.5 0.8947368421052632 0.65 0.40625 0.5384615384615384 0.8260869565217391 0.13793103448275862 0.8947368421052632 0.8181818181818182 0.3333333333333333 0.5 0.4444444444444444 0.6896551724137931 0.37142857142857144 0.7333333333333333 0.7666666666666667 0.5 0.5263157894736842 0.6190476190476191 0.42857142857142855 0.5641025641025641 0.6551724137931034 0.5 0.3333333333333333 0.8947368421052632 0.6842105263157895 0.7142857142857143 0.6666666666666666 0.4 0.5 0.8333333333333334 0.5862068965517241 0.46875 0.56 0.9411764705882353 0.7407407407407407 0.45454545454545453 0.5416666666666666 0.6666666666666666 0.631578947368421 0.8823529411764706 0.5 0.6071428571428571 0.4117647058823529 0.68 0.8181818181818182 0.2647058823529412 0.7272727272727273 0.3157894736842105 0.6896551724137931 0.6428571428571429 0.4634146341463415 0.7058823529411765 0.5555555555555556 0.5238095238095238 0.5428571428571428 0.7037037037037037 nan nan nan nan\n"
     ]
    }
   ],
   "source": [
    "print(\"List length: \", len(feature_exposure._ratio_ca))\n",
    "print(*feature_exposure._ratio_ca)"
   ]
  },
  {
   "cell_type": "code",
   "execution_count": 23,
   "metadata": {},
   "outputs": [
    {
     "name": "stdout",
     "output_type": "stream",
     "text": [
      "List length:  85\n",
      "0.875 0.7857142857142857 0.3125 nan nan nan nan 0.7777777777777778 0.35294117647058826 0.45454545454545453 0.7083333333333334 0.46153846153846156 0.7407407407407407 0.41379310344827586 0.6388888888888888 0.4864864864864865 0.6857142857142857 0.46875 0.5652173913043478 0.5 0.4074074074074074 0.7727272727272727 0.625 0.46153846153846156 0.39285714285714285 0.7368421052631579 0.45 0.40625 0.6153846153846154 0.5652173913043478 0.1724137931034483 0.9473684210526315 0.8181818181818182 0.4666666666666667 0.5833333333333334 0.4722222222222222 0.7586206896551724 0.45714285714285713 0.5666666666666667 0.6 0.65625 0.4473684210526316 0.5952380952380952 0.4523809523809524 0.5641025641025641 0.6206896551724138 0.5666666666666667 0.2962962962962963 0.8421052631578947 0.15789473684210525 0.7142857142857143 0.6 0.375 0.7142857142857143 0.7083333333333334 0.3448275862068966 0.3125 0.52 0.5294117647058824 0.5185185185185185 0.3333333333333333 0.375 0.5 0.2631578947368421 1.0 0.3333333333333333 0.7142857142857143 0.4117647058823529 0.84 0.7727272727272727 0.3235294117647059 0.7878787878787878 0.47368421052631576 0.8620689655172413 0.5357142857142857 0.43902439024390244 0.6176470588235294 0.5277777777777778 0.47619047619047616 0.6 0.5185185185185185 0.32 nan nan nan\n"
     ]
    }
   ],
   "source": [
    "print(\"List length: \", len(feature_exposure._ratio_cb))\n",
    "print(*feature_exposure._ratio_cb)"
   ]
  },
  {
   "cell_type": "markdown",
   "metadata": {},
   "source": [
    "## SiteAlign features"
   ]
  },
  {
   "cell_type": "code",
   "execution_count": 24,
   "metadata": {},
   "outputs": [],
   "source": [
    "from kissim.encoding.features import SiteAlignFeature"
   ]
  },
  {
   "cell_type": "code",
   "execution_count": 25,
   "metadata": {},
   "outputs": [],
   "source": [
    "feature_sitealign = SiteAlignFeature.from_pocket(pocket_bp, \"hba\")"
   ]
  },
  {
   "cell_type": "markdown",
   "metadata": {},
   "source": [
    "### Class properties"
   ]
  },
  {
   "cell_type": "code",
   "execution_count": 26,
   "metadata": {},
   "outputs": [
    {
     "name": "stdout",
     "output_type": "stream",
     "text": [
      "List length:  85\n",
      "1.0 0.0 0.0 nan nan nan nan 0.0 0.0 1.0 0.0 1.0 0.0 0.0 0.0 0.0 0.0 0.0 0.0 0.0 0.0 0.0 1.0 2.0 0.0 0.0 0.0 0.0 0.0 0.0 1.0 0.0 0.0 1.0 0.0 0.0 0.0 0.0 0.0 0.0 1.0 0.0 0.0 0.0 1.0 1.0 0.0 0.0 2.0 0.0 1.0 1.0 0.0 1.0 1.0 1.0 0.0 1.0 0.0 1.0 0.0 1.0 0.0 0.0 1.0 0.0 0.0 1.0 0.0 2.0 0.0 0.0 1.0 1.0 1.0 0.0 0.0 0.0 0.0 0.0 2.0 0.0 nan nan nan\n"
     ]
    }
   ],
   "source": [
    "print(\"List length: \", len(feature_sitealign.values))\n",
    "print(*feature_sitealign.values)"
   ]
  },
  {
   "cell_type": "code",
   "execution_count": 27,
   "metadata": {},
   "outputs": [
    {
     "data": {
      "text/html": [
       "<div>\n",
       "<style scoped>\n",
       "    .dataframe tbody tr th:only-of-type {\n",
       "        vertical-align: middle;\n",
       "    }\n",
       "\n",
       "    .dataframe tbody tr th {\n",
       "        vertical-align: top;\n",
       "    }\n",
       "\n",
       "    .dataframe thead th {\n",
       "        text-align: right;\n",
       "    }\n",
       "</style>\n",
       "<table border=\"1\" class=\"dataframe\">\n",
       "  <thead>\n",
       "    <tr style=\"text-align: right;\">\n",
       "      <th></th>\n",
       "      <th>residue.id</th>\n",
       "      <th>residue.name</th>\n",
       "      <th>sitealign.category</th>\n",
       "    </tr>\n",
       "    <tr>\n",
       "      <th>residue.ix</th>\n",
       "      <th></th>\n",
       "      <th></th>\n",
       "      <th></th>\n",
       "    </tr>\n",
       "  </thead>\n",
       "  <tbody>\n",
       "    <tr>\n",
       "      <th>1</th>\n",
       "      <td>461</td>\n",
       "      <td>GLN</td>\n",
       "      <td>1</td>\n",
       "    </tr>\n",
       "    <tr>\n",
       "      <th>2</th>\n",
       "      <td>462</td>\n",
       "      <td>ARG</td>\n",
       "      <td>0</td>\n",
       "    </tr>\n",
       "    <tr>\n",
       "      <th>3</th>\n",
       "      <td>463</td>\n",
       "      <td>ILE</td>\n",
       "      <td>0</td>\n",
       "    </tr>\n",
       "    <tr>\n",
       "      <th>4</th>\n",
       "      <td>&lt;NA&gt;</td>\n",
       "      <td>None</td>\n",
       "      <td>&lt;NA&gt;</td>\n",
       "    </tr>\n",
       "    <tr>\n",
       "      <th>5</th>\n",
       "      <td>&lt;NA&gt;</td>\n",
       "      <td>None</td>\n",
       "      <td>&lt;NA&gt;</td>\n",
       "    </tr>\n",
       "    <tr>\n",
       "      <th>...</th>\n",
       "      <td>...</td>\n",
       "      <td>...</td>\n",
       "      <td>...</td>\n",
       "    </tr>\n",
       "    <tr>\n",
       "      <th>81</th>\n",
       "      <td>594</td>\n",
       "      <td>ASP</td>\n",
       "      <td>2</td>\n",
       "    </tr>\n",
       "    <tr>\n",
       "      <th>82</th>\n",
       "      <td>595</td>\n",
       "      <td>PHE</td>\n",
       "      <td>0</td>\n",
       "    </tr>\n",
       "    <tr>\n",
       "      <th>83</th>\n",
       "      <td>&lt;NA&gt;</td>\n",
       "      <td>None</td>\n",
       "      <td>&lt;NA&gt;</td>\n",
       "    </tr>\n",
       "    <tr>\n",
       "      <th>84</th>\n",
       "      <td>&lt;NA&gt;</td>\n",
       "      <td>None</td>\n",
       "      <td>&lt;NA&gt;</td>\n",
       "    </tr>\n",
       "    <tr>\n",
       "      <th>85</th>\n",
       "      <td>&lt;NA&gt;</td>\n",
       "      <td>None</td>\n",
       "      <td>&lt;NA&gt;</td>\n",
       "    </tr>\n",
       "  </tbody>\n",
       "</table>\n",
       "<p>85 rows × 3 columns</p>\n",
       "</div>"
      ],
      "text/plain": [
       "            residue.id residue.name  sitealign.category\n",
       "residue.ix                                             \n",
       "1                  461          GLN                   1\n",
       "2                  462          ARG                   0\n",
       "3                  463          ILE                   0\n",
       "4                 <NA>         None                <NA>\n",
       "5                 <NA>         None                <NA>\n",
       "...                ...          ...                 ...\n",
       "81                 594          ASP                   2\n",
       "82                 595          PHE                   0\n",
       "83                <NA>         None                <NA>\n",
       "84                <NA>         None                <NA>\n",
       "85                <NA>         None                <NA>\n",
       "\n",
       "[85 rows x 3 columns]"
      ]
     },
     "execution_count": 27,
     "metadata": {},
     "output_type": "execute_result"
    }
   ],
   "source": [
    "feature_sitealign.details"
   ]
  },
  {
   "cell_type": "markdown",
   "metadata": {},
   "source": [
    "### Class attributes"
   ]
  },
  {
   "cell_type": "code",
   "execution_count": 28,
   "metadata": {},
   "outputs": [
    {
     "name": "stdout",
     "output_type": "stream",
     "text": [
      "List length:  85\n",
      "461 462 463 None None None None 468 469 470 471 472 473 480 481 482 483 484 485 497 498 499 500 501 502 503 504 505 506 507 508 509 511 512 513 514 515 516 517 518 519 526 527 528 529 530 531 532 533 534 535 536 537 538 539 540 541 542 543 566 567 568 569 570 571 572 573 574 575 576 577 578 579 580 581 582 583 584 592 593 594 595 None None None\n"
     ]
    }
   ],
   "source": [
    "print(\"List length: \", len(feature_sitealign._residue_ids))\n",
    "print(*feature_sitealign._residue_ids)"
   ]
  },
  {
   "cell_type": "code",
   "execution_count": 29,
   "metadata": {},
   "outputs": [
    {
     "name": "stdout",
     "output_type": "stream",
     "text": [
      "List length:  85\n",
      "1 2 3 4 5 6 7 8 9 10 11 12 13 14 15 16 17 18 19 20 21 22 23 24 25 26 27 28 29 30 31 32 33 34 35 36 37 38 39 40 41 42 43 44 45 46 47 48 49 50 51 52 53 54 55 56 57 58 59 60 61 62 63 64 65 66 67 68 69 70 71 72 73 74 75 76 77 78 79 80 81 82 83 84 85\n"
     ]
    }
   ],
   "source": [
    "print(\"List length: \", len(feature_sitealign._residue_ixs))\n",
    "print(*feature_sitealign._residue_ixs)"
   ]
  },
  {
   "cell_type": "code",
   "execution_count": 30,
   "metadata": {},
   "outputs": [
    {
     "name": "stdout",
     "output_type": "stream",
     "text": [
      "List length:  85\n",
      "GLN ARG ILE None None None None PHE GLY THR VAL TYR LYS VAL ALA VAL LYS MET LEU ALA PHE LYS ASN GLU VAL GLY VAL LEU ARG LYS THR ARG VAL ASN ILE LEU LEU PHE MET GLY TYR ALA ILE VAL THR GLN TRP CYS GLU GLY SER SER LEU TYR HIS HIS LEU HIS ALA TYR LEU HIS ALA LYS SER ILE ILE HIS ARG ASP LEU LYS SER ASN ASN ILE PHE LEU ILE GLY ASP PHE None None None\n"
     ]
    }
   ],
   "source": [
    "print(\"List length: \", len(feature_sitealign._residue_names))\n",
    "print(*feature_sitealign._residue_names)"
   ]
  },
  {
   "cell_type": "code",
   "execution_count": 31,
   "metadata": {},
   "outputs": [
    {
     "name": "stdout",
     "output_type": "stream",
     "text": [
      "List length:  85\n",
      "1.0 0.0 0.0 nan nan nan nan 0.0 0.0 1.0 0.0 1.0 0.0 0.0 0.0 0.0 0.0 0.0 0.0 0.0 0.0 0.0 1.0 2.0 0.0 0.0 0.0 0.0 0.0 0.0 1.0 0.0 0.0 1.0 0.0 0.0 0.0 0.0 0.0 0.0 1.0 0.0 0.0 0.0 1.0 1.0 0.0 0.0 2.0 0.0 1.0 1.0 0.0 1.0 1.0 1.0 0.0 1.0 0.0 1.0 0.0 1.0 0.0 0.0 1.0 0.0 0.0 1.0 0.0 2.0 0.0 0.0 1.0 1.0 1.0 0.0 0.0 0.0 0.0 0.0 2.0 0.0 nan nan nan\n"
     ]
    }
   ],
   "source": [
    "print(\"List length: \", len(feature_sitealign._categories))\n",
    "print(*feature_sitealign._categories)"
   ]
  },
  {
   "cell_type": "markdown",
   "metadata": {},
   "source": [
    "## Subpocket distances"
   ]
  },
  {
   "cell_type": "code",
   "execution_count": 32,
   "metadata": {},
   "outputs": [],
   "source": [
    "from kissim.encoding.features import SubpocketsFeature"
   ]
  },
  {
   "cell_type": "code",
   "execution_count": 33,
   "metadata": {},
   "outputs": [],
   "source": [
    "feature_subpockets = SubpocketsFeature.from_pocket(pocket_df)"
   ]
  },
  {
   "cell_type": "markdown",
   "metadata": {},
   "source": [
    "### Class properties"
   ]
  },
  {
   "cell_type": "code",
   "execution_count": 34,
   "metadata": {},
   "outputs": [],
   "source": [
    "import numpy\n",
    "numpy.testing.assert_equal(numpy.nan,numpy.nan)"
   ]
  },
  {
   "cell_type": "code",
   "execution_count": 35,
   "metadata": {},
   "outputs": [
    {
     "data": {
      "text/plain": [
       "{'hinge_region': array([13.08500425,  4.63904485,  2.3912455 ]),\n",
       " 'dfg_region': array([14.30593884,  4.88461569,  3.31069545]),\n",
       " 'front_pocket': array([13.30385833,  4.08402945,  2.89481814]),\n",
       " 'center': array([12.23594846,  3.48368445, -1.49288266])}"
      ]
     },
     "execution_count": 35,
     "metadata": {},
     "output_type": "execute_result"
    }
   ],
   "source": [
    "feature_subpockets.values"
   ]
  },
  {
   "cell_type": "code",
   "execution_count": 36,
   "metadata": {},
   "outputs": [
    {
     "data": {
      "text/html": [
       "<div>\n",
       "<style scoped>\n",
       "    .dataframe tbody tr th:only-of-type {\n",
       "        vertical-align: middle;\n",
       "    }\n",
       "\n",
       "    .dataframe tbody tr th {\n",
       "        vertical-align: top;\n",
       "    }\n",
       "\n",
       "    .dataframe thead th {\n",
       "        text-align: right;\n",
       "    }\n",
       "</style>\n",
       "<table border=\"1\" class=\"dataframe\">\n",
       "  <thead>\n",
       "    <tr style=\"text-align: right;\">\n",
       "      <th></th>\n",
       "      <th>residue.id</th>\n",
       "      <th>hinge_region</th>\n",
       "      <th>dfg_region</th>\n",
       "      <th>front_pocket</th>\n",
       "      <th>center</th>\n",
       "    </tr>\n",
       "    <tr>\n",
       "      <th>residue.ix</th>\n",
       "      <th></th>\n",
       "      <th></th>\n",
       "      <th></th>\n",
       "      <th></th>\n",
       "      <th></th>\n",
       "    </tr>\n",
       "  </thead>\n",
       "  <tbody>\n",
       "    <tr>\n",
       "      <th>1</th>\n",
       "      <td>461</td>\n",
       "      <td>13.169870</td>\n",
       "      <td>18.206156</td>\n",
       "      <td>14.569412</td>\n",
       "      <td>17.831915</td>\n",
       "    </tr>\n",
       "    <tr>\n",
       "      <th>2</th>\n",
       "      <td>462</td>\n",
       "      <td>12.055552</td>\n",
       "      <td>15.556118</td>\n",
       "      <td>12.221359</td>\n",
       "      <td>15.876466</td>\n",
       "    </tr>\n",
       "    <tr>\n",
       "      <th>3</th>\n",
       "      <td>463</td>\n",
       "      <td>10.828905</td>\n",
       "      <td>15.211579</td>\n",
       "      <td>9.537408</td>\n",
       "      <td>14.079300</td>\n",
       "    </tr>\n",
       "    <tr>\n",
       "      <th>4</th>\n",
       "      <td>&lt;NA&gt;</td>\n",
       "      <td>NaN</td>\n",
       "      <td>NaN</td>\n",
       "      <td>NaN</td>\n",
       "      <td>NaN</td>\n",
       "    </tr>\n",
       "    <tr>\n",
       "      <th>5</th>\n",
       "      <td>&lt;NA&gt;</td>\n",
       "      <td>NaN</td>\n",
       "      <td>NaN</td>\n",
       "      <td>NaN</td>\n",
       "      <td>NaN</td>\n",
       "    </tr>\n",
       "    <tr>\n",
       "      <th>...</th>\n",
       "      <td>...</td>\n",
       "      <td>...</td>\n",
       "      <td>...</td>\n",
       "      <td>...</td>\n",
       "      <td>...</td>\n",
       "    </tr>\n",
       "    <tr>\n",
       "      <th>81</th>\n",
       "      <td>594</td>\n",
       "      <td>8.630239</td>\n",
       "      <td>6.924464</td>\n",
       "      <td>5.781793</td>\n",
       "      <td>4.057556</td>\n",
       "    </tr>\n",
       "    <tr>\n",
       "      <th>82</th>\n",
       "      <td>595</td>\n",
       "      <td>11.446905</td>\n",
       "      <td>6.909891</td>\n",
       "      <td>9.576426</td>\n",
       "      <td>6.348528</td>\n",
       "    </tr>\n",
       "    <tr>\n",
       "      <th>83</th>\n",
       "      <td>&lt;NA&gt;</td>\n",
       "      <td>NaN</td>\n",
       "      <td>NaN</td>\n",
       "      <td>NaN</td>\n",
       "      <td>NaN</td>\n",
       "    </tr>\n",
       "    <tr>\n",
       "      <th>84</th>\n",
       "      <td>&lt;NA&gt;</td>\n",
       "      <td>NaN</td>\n",
       "      <td>NaN</td>\n",
       "      <td>NaN</td>\n",
       "      <td>NaN</td>\n",
       "    </tr>\n",
       "    <tr>\n",
       "      <th>85</th>\n",
       "      <td>&lt;NA&gt;</td>\n",
       "      <td>NaN</td>\n",
       "      <td>NaN</td>\n",
       "      <td>NaN</td>\n",
       "      <td>NaN</td>\n",
       "    </tr>\n",
       "  </tbody>\n",
       "</table>\n",
       "<p>85 rows × 5 columns</p>\n",
       "</div>"
      ],
      "text/plain": [
       "            residue.id  hinge_region  dfg_region  front_pocket     center\n",
       "residue.ix                                                               \n",
       "1                  461     13.169870   18.206156     14.569412  17.831915\n",
       "2                  462     12.055552   15.556118     12.221359  15.876466\n",
       "3                  463     10.828905   15.211579      9.537408  14.079300\n",
       "4                 <NA>           NaN         NaN           NaN        NaN\n",
       "5                 <NA>           NaN         NaN           NaN        NaN\n",
       "...                ...           ...         ...           ...        ...\n",
       "81                 594      8.630239    6.924464      5.781793   4.057556\n",
       "82                 595     11.446905    6.909891      9.576426   6.348528\n",
       "83                <NA>           NaN         NaN           NaN        NaN\n",
       "84                <NA>           NaN         NaN           NaN        NaN\n",
       "85                <NA>           NaN         NaN           NaN        NaN\n",
       "\n",
       "[85 rows x 5 columns]"
      ]
     },
     "execution_count": 36,
     "metadata": {},
     "output_type": "execute_result"
    }
   ],
   "source": [
    "feature_subpockets.details[\"distances\"]"
   ]
  },
  {
   "cell_type": "code",
   "execution_count": 37,
   "metadata": {},
   "outputs": [
    {
     "data": {
      "text/html": [
       "<div>\n",
       "<style scoped>\n",
       "    .dataframe tbody tr th:only-of-type {\n",
       "        vertical-align: middle;\n",
       "    }\n",
       "\n",
       "    .dataframe tbody tr th {\n",
       "        vertical-align: top;\n",
       "    }\n",
       "\n",
       "    .dataframe thead th {\n",
       "        text-align: right;\n",
       "    }\n",
       "</style>\n",
       "<table border=\"1\" class=\"dataframe\">\n",
       "  <thead>\n",
       "    <tr style=\"text-align: right;\">\n",
       "      <th></th>\n",
       "      <th>hinge_region</th>\n",
       "      <th>dfg_region</th>\n",
       "      <th>front_pocket</th>\n",
       "      <th>center</th>\n",
       "    </tr>\n",
       "    <tr>\n",
       "      <th>moment</th>\n",
       "      <th></th>\n",
       "      <th></th>\n",
       "      <th></th>\n",
       "      <th></th>\n",
       "    </tr>\n",
       "  </thead>\n",
       "  <tbody>\n",
       "    <tr>\n",
       "      <th>1</th>\n",
       "      <td>13.085004</td>\n",
       "      <td>14.305939</td>\n",
       "      <td>13.303858</td>\n",
       "      <td>12.235948</td>\n",
       "    </tr>\n",
       "    <tr>\n",
       "      <th>2</th>\n",
       "      <td>4.639045</td>\n",
       "      <td>4.884616</td>\n",
       "      <td>4.084029</td>\n",
       "      <td>3.483684</td>\n",
       "    </tr>\n",
       "    <tr>\n",
       "      <th>3</th>\n",
       "      <td>2.391246</td>\n",
       "      <td>3.310695</td>\n",
       "      <td>2.894818</td>\n",
       "      <td>-1.492883</td>\n",
       "    </tr>\n",
       "  </tbody>\n",
       "</table>\n",
       "</div>"
      ],
      "text/plain": [
       "        hinge_region  dfg_region  front_pocket     center\n",
       "moment                                                   \n",
       "1          13.085004   14.305939     13.303858  12.235948\n",
       "2           4.639045    4.884616      4.084029   3.483684\n",
       "3           2.391246    3.310695      2.894818  -1.492883"
      ]
     },
     "execution_count": 37,
     "metadata": {},
     "output_type": "execute_result"
    }
   ],
   "source": [
    "feature_subpockets.details[\"moments\"]"
   ]
  },
  {
   "cell_type": "markdown",
   "metadata": {},
   "source": [
    "### Class attributes"
   ]
  },
  {
   "cell_type": "code",
   "execution_count": 38,
   "metadata": {},
   "outputs": [
    {
     "name": "stdout",
     "output_type": "stream",
     "text": [
      "List length:  85\n",
      "461 462 463 None None None None 468 469 470 471 472 473 480 481 482 483 484 485 497 498 499 500 501 502 503 504 505 506 507 508 509 511 512 513 514 515 516 517 518 519 526 527 528 529 530 531 532 533 534 535 536 537 538 539 540 541 542 543 566 567 568 569 570 571 572 573 574 575 576 577 578 579 580 581 582 583 584 592 593 594 595 None None None\n"
     ]
    }
   ],
   "source": [
    "print(\"List length: \", len(feature_subpockets._residue_ids))\n",
    "print(*feature_subpockets._residue_ids)"
   ]
  },
  {
   "cell_type": "code",
   "execution_count": 39,
   "metadata": {},
   "outputs": [
    {
     "name": "stdout",
     "output_type": "stream",
     "text": [
      "List length:  85\n",
      "1 2 3 4 5 6 7 8 9 10 11 12 13 14 15 16 17 18 19 20 21 22 23 24 25 26 27 28 29 30 31 32 33 34 35 36 37 38 39 40 41 42 43 44 45 46 47 48 49 50 51 52 53 54 55 56 57 58 59 60 61 62 63 64 65 66 67 68 69 70 71 72 73 74 75 76 77 78 79 80 81 82 83 84 85\n"
     ]
    }
   ],
   "source": [
    "print(\"List length: \", len(feature_subpockets._residue_ixs))\n",
    "print(*feature_subpockets._residue_ixs)"
   ]
  },
  {
   "cell_type": "code",
   "execution_count": 40,
   "metadata": {},
   "outputs": [
    {
     "data": {
      "text/plain": [
       "{'hinge_region': array([13.08500425,  4.63904485,  2.3912455 ]),\n",
       " 'dfg_region': array([14.30593884,  4.88461569,  3.31069545]),\n",
       " 'front_pocket': array([13.30385833,  4.08402945,  2.89481814]),\n",
       " 'center': array([12.23594846,  3.48368445, -1.49288266])}"
      ]
     },
     "execution_count": 40,
     "metadata": {},
     "output_type": "execute_result"
    }
   ],
   "source": [
    "feature_subpockets._moments"
   ]
  },
  {
   "cell_type": "code",
   "execution_count": 41,
   "metadata": {},
   "outputs": [
    {
     "data": {
      "text/plain": [
       "{'hinge_region': array([13.16987038, 12.05555248, 10.82890511,         nan,         nan,\n",
       "                nan,         nan, 13.78572941, 12.17999554, 11.43126392,\n",
       "         8.17837334,  8.73554039,  8.25216866,  6.65040255,  4.2790966 ,\n",
       "         6.13931322,  7.24431992, 10.99940109, 14.04966068, 18.40136528,\n",
       "        15.59811401, 17.50959396, 17.77522469, 14.11669922, 13.39865875,\n",
       "        16.38136864, 15.25323677, 11.85057926, 13.71861935, 15.93614292,\n",
       "        13.67446041, 14.18048763, 13.85439587, 13.2314024 , 10.7650938 ,\n",
       "         7.05712366,  7.61363745,  7.42708969,  8.89888668, 10.50204563,\n",
       "        11.51391315, 10.86452579,  8.00402641,  6.35637856,  4.27475023,\n",
       "         5.20544624,  5.66672134,  7.58220959, 10.68036079, 12.10680103,\n",
       "        12.09141254, 12.32000542, 15.45820999, 16.93525696, 16.9565773 ,\n",
       "        18.31728745, 21.07618713, 22.06893921, 21.32720375, 18.86578369,\n",
       "        17.53103638, 21.12082291, 22.69631004, 21.09023285, 22.20515251,\n",
       "        18.69576645, 18.98938942, 16.20265388, 17.9873867 , 16.14783287,\n",
       "        15.94125366, 16.37113762, 16.19256401, 13.95041561, 11.11962414,\n",
       "        11.78315735,  9.9213438 , 12.41980171,  9.71308136,  7.67840862,\n",
       "         8.63023853, 11.44690514,         nan,         nan,         nan]),\n",
       " 'dfg_region': array([18.20615578, 15.55611801, 15.21157932,         nan,         nan,\n",
       "                nan,         nan,  8.3745842 ,  7.2648859 ,  9.66276932,\n",
       "         9.93321228, 12.93755627, 15.21284771, 15.23993683, 12.14972401,\n",
       "         9.94359112,  6.99114561,  7.86371517,  8.36413956,  8.83017254,\n",
       "         7.0060339 , 10.11506844, 10.0013237 ,  6.71419907,  8.33551025,\n",
       "        11.53424072, 10.68917465,  9.60833263, 12.6235218 , 15.22043037,\n",
       "        14.82205009, 17.56647491, 20.09223747, 18.67012215, 15.11280155,\n",
       "        12.87201595, 13.76928329, 11.27583504, 13.32069206, 12.11511326,\n",
       "        10.27917385,  7.45920372,  6.79497957,  9.94822216, 11.06401539,\n",
       "        14.35726261, 15.73840332, 17.48347855, 20.2542057 , 20.63280296,\n",
       "        19.07143784, 17.63229752, 20.19961166, 20.21341324, 21.40380859,\n",
       "        23.83145523, 25.51885414, 25.43089676, 25.21536636, 19.99392319,\n",
       "        16.99265862, 19.57344437, 21.82850647, 19.3234024 , 18.92532158,\n",
       "        15.27675152, 14.77933884, 12.78135109, 13.01014996, 12.18871689,\n",
       "        14.3451643 , 16.06560326, 18.01872253, 15.79493332, 12.89935112,\n",
       "        15.6855793 , 16.22388458, 19.80981827, 13.27117729,  9.50559139,\n",
       "         6.92446423,  6.90989113,         nan,         nan,         nan]),\n",
       " 'front_pocket': array([14.56941223, 12.22135925,  9.53740788,         nan,         nan,\n",
       "                nan,         nan, 10.48161507, 10.60186863, 10.71771717,\n",
       "         8.27377701, 10.48753357, 11.16727161, 12.2205534 ,  9.19148636,\n",
       "        10.40422249,  9.31856251, 12.73046494, 14.4802351 , 18.98556709,\n",
       "        17.19279671, 19.81835365, 19.26396751, 15.48181629, 16.28854561,\n",
       "        19.08659172, 17.04748917, 14.48407745, 17.44415474, 19.0496521 ,\n",
       "        16.5175457 , 17.53993034, 16.07118797, 13.95584202, 11.99186516,\n",
       "         9.48513222, 12.06364632, 12.39779282, 14.79724693, 16.05739021,\n",
       "        16.27904701, 14.01306152, 12.04040813, 11.91212177, 10.40200329,\n",
       "        10.96329594, 10.01049137,  9.78172588, 11.38635731, 10.7333889 ,\n",
       "         8.7576046 ,  7.67881918, 10.90388584, 11.38345814, 11.75381088,\n",
       "        13.88920212, 16.18560791, 16.5454731 , 15.96742916, 19.33375359,\n",
       "        17.57777977, 20.62400246, 23.0730648 , 22.02654839, 22.26766777,\n",
       "        18.58030128, 17.62588882, 14.11291885, 14.9546032 , 12.09401512,\n",
       "        11.84644127, 11.25999641, 10.96913052,  8.06254768,  5.9596777 ,\n",
       "         7.8708024 ,  7.03694773, 10.5327177 ,  8.26631641,  6.25633812,\n",
       "         5.78179312,  9.57642555,         nan,         nan,         nan]),\n",
       " 'center': array([17.8319149 , 15.8764658 , 14.07929993,         nan,         nan,\n",
       "                nan,         nan, 12.51382923, 12.20762539, 13.11669445,\n",
       "        10.95077515, 13.0137949 , 13.4349947 , 12.03351021,  9.70549297,\n",
       "        10.32959938,  9.5575552 , 12.86366463, 14.88304806, 15.94337177,\n",
       "        14.01843071, 15.85946369, 14.96416855, 11.18092823, 11.64561272,\n",
       "        13.98059464, 11.76766205,  9.00998783, 12.01946163, 13.42404366,\n",
       "        11.01687717, 12.52138042, 12.74943447, 10.97719097,  7.8878212 ,\n",
       "         5.47376156,  7.95177841,  7.84050226, 11.0588665 , 12.37669659,\n",
       "        13.019454  , 12.45644379,  9.48282623,  9.74368286,  7.74859047,\n",
       "         9.33853912, 10.43601513, 10.85063553, 13.79265022, 13.98671532,\n",
       "        12.87336063, 11.41239643, 13.69241619, 14.94804668, 16.20667267,\n",
       "        17.65764236, 19.5658741 , 20.49363518, 20.63969421, 14.8084507 ,\n",
       "        12.86026192, 16.18502998, 18.26551247, 16.81405449, 17.38614845,\n",
       "        13.74337959, 13.60088348, 10.66103172, 12.55856037, 10.9987402 ,\n",
       "        10.77735806, 11.95858097, 12.67960167, 11.1264658 ,  7.50884056,\n",
       "         8.7221756 ,  8.76774502, 12.08727551,  5.66773844,  2.40846896,\n",
       "         4.05755615,  6.34852839,         nan,         nan,         nan])}"
      ]
     },
     "execution_count": 41,
     "metadata": {},
     "output_type": "execute_result"
    }
   ],
   "source": [
    "feature_subpockets._distances"
   ]
  }
 ],
 "metadata": {
  "kernelspec": {
   "display_name": "Python 3",
   "language": "python",
   "name": "python3"
  },
  "language_info": {
   "codemirror_mode": {
    "name": "ipython",
    "version": 3
   },
   "file_extension": ".py",
   "mimetype": "text/x-python",
   "name": "python",
   "nbconvert_exporter": "python",
   "pygments_lexer": "ipython3",
   "version": "3.8.6"
  }
 },
 "nbformat": 4,
 "nbformat_minor": 4
}
