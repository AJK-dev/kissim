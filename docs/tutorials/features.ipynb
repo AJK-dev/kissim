{
 "cells": [
  {
   "cell_type": "markdown",
   "metadata": {},
   "source": [
    "# The `features` module"
   ]
  },
  {
   "cell_type": "code",
   "execution_count": null,
   "metadata": {},
   "outputs": [],
   "source": []
  },
  {
   "cell_type": "code",
   "execution_count": 1,
   "metadata": {},
   "outputs": [],
   "source": [
    "%load_ext autoreload\n",
    "%autoreload 2"
   ]
  },
  {
   "cell_type": "markdown",
   "metadata": {},
   "source": [
    "## Load pocket as `PocketBioPython`"
   ]
  },
  {
   "cell_type": "code",
   "execution_count": 4,
   "metadata": {},
   "outputs": [
    {
     "name": "stderr",
     "output_type": "stream",
     "text": [
      "INFO:opencadd.databases.klifs.api:Set up remote session...\n",
      "INFO:opencadd.databases.klifs.api:Remote session is ready!\n",
      "INFO:opencadd.structure.pocket.base:Pocket 12347 (set pocket residues): The following input residues were dropped because they cannot be cast to an integer (residue PDB ID, residue index): [('_', 4), ('_', 5), ('_', 6), ('_', 7), ('_', 83), ('_', 84), ('_', 85)]\n"
     ]
    }
   ],
   "source": [
    "from kissim.io import PocketBioPython\n",
    "pocket_bp = PocketBioPython.from_structure_klifs_id(12347)"
   ]
  },
  {
   "cell_type": "code",
   "execution_count": null,
   "metadata": {},
   "outputs": [],
   "source": []
  },
  {
   "cell_type": "code",
   "execution_count": 10,
   "metadata": {},
   "outputs": [
    {
     "data": {
      "text/plain": [
       "3381"
      ]
     },
     "execution_count": 10,
     "metadata": {},
     "output_type": "execute_result"
    }
   ],
   "source": [
    "pocket_bp.residues[\"residue.ix\"].sum()"
   ]
  },
  {
   "cell_type": "markdown",
   "metadata": {},
   "source": [
    "## Load pocket as `PocketDataFrame`"
   ]
  },
  {
   "cell_type": "code",
   "execution_count": 3,
   "metadata": {},
   "outputs": [
    {
     "name": "stderr",
     "output_type": "stream",
     "text": [
      "INFO:opencadd.databases.klifs.api:Set up remote session...\n",
      "INFO:opencadd.databases.klifs.api:Remote session is ready!\n",
      "INFO:opencadd.structure.pocket.base:Pocket 12347 (set pocket residues): The following input residues were dropped because they cannot be cast to an integer (residue PDB ID, residue index): [('_', 4), ('_', 5), ('_', 6), ('_', 7), ('_', 83), ('_', 84), ('_', 85)]\n",
      "INFO:opencadd.structure.pocket.base:Pocket 12347 (set region residues): The following input residues were dropped because they cannot be cast to an integer (residue PDB ID, residue index): [(None, 84), (None, 85)]\n",
      "INFO:opencadd.structure.pocket.base:Pocket 12347 (set region residues): The following input residues were dropped because they cannot be cast to an integer (residue PDB ID, residue index): [(None, 4), (None, 5), (None, 6), (None, 7)]\n",
      "INFO:opencadd.structure.pocket.base:Pocket 12347 (set region residues): The following input residues were dropped because they cannot be cast to an integer (residue PDB ID, residue index): [(None, 83)]\n"
     ]
    }
   ],
   "source": [
    "from kissim.io import PocketDataFrame\n",
    "pocket_df = PocketDataFrame.from_structure_klifs_id(12347)"
   ]
  },
  {
   "cell_type": "markdown",
   "metadata": {},
   "source": [
    "## Side chain orientation"
   ]
  },
  {
   "cell_type": "code",
   "execution_count": 4,
   "metadata": {},
   "outputs": [],
   "source": [
    "from kissim.encoding.features.sco import SideChainOrientationFeature"
   ]
  },
  {
   "cell_type": "code",
   "execution_count": 5,
   "metadata": {},
   "outputs": [],
   "source": [
    "sco = SideChainOrientationFeature.from_pocket(pocket_bp)"
   ]
  },
  {
   "cell_type": "markdown",
   "metadata": {},
   "source": [
    "### Class properties"
   ]
  },
  {
   "cell_type": "code",
   "execution_count": 6,
   "metadata": {},
   "outputs": [
    {
     "name": "stdout",
     "output_type": "stream",
     "text": [
      "1.0 nan nan 2.0 nan 2.0 1.0 nan nan 2.0 0.0 2.0 nan nan nan 1.0 1.0 nan 2.0 nan 2.0 nan 1.0 nan nan 2.0 0.0 2.0 2.0 2.0 2.0 0.0 2.0 2.0 2.0 nan 2.0 2.0 1.0 2.0 0.0 1.0 2.0 0.0 nan nan 2.0 2.0 2.0 2.0 2.0 1.0 nan 1.0 0.0 1.0 0.0 1.0 2.0 1.0 2.0 1.0 2.0 0.0 2.0 1.0 2.0 1.0 nan 2.0 1.0 2.0 2.0 2.0 2.0 nan 2.0 1.0\n"
     ]
    }
   ],
   "source": [
    "print(*sco.values)"
   ]
  },
  {
   "cell_type": "code",
   "execution_count": 7,
   "metadata": {},
   "outputs": [
    {
     "data": {
      "text/html": [
       "<div>\n",
       "<style scoped>\n",
       "    .dataframe tbody tr th:only-of-type {\n",
       "        vertical-align: middle;\n",
       "    }\n",
       "\n",
       "    .dataframe tbody tr th {\n",
       "        vertical-align: top;\n",
       "    }\n",
       "\n",
       "    .dataframe thead th {\n",
       "        text-align: right;\n",
       "    }\n",
       "</style>\n",
       "<table border=\"1\" class=\"dataframe\">\n",
       "  <thead>\n",
       "    <tr style=\"text-align: right;\">\n",
       "      <th></th>\n",
       "      <th>sco.category</th>\n",
       "      <th>sco.angle</th>\n",
       "      <th>ca.vector</th>\n",
       "      <th>sc.vector</th>\n",
       "      <th>centroid</th>\n",
       "    </tr>\n",
       "  </thead>\n",
       "  <tbody>\n",
       "    <tr>\n",
       "      <th>461</th>\n",
       "      <td>1.0</td>\n",
       "      <td>84.436343</td>\n",
       "      <td>&lt;Vector 8.81, 16.81, 51.66&gt;</td>\n",
       "      <td>&lt;Vector 5.63, 14.81, 52.26&gt;</td>\n",
       "      <td>&lt;Vector 0.83, 21.62, 36.45&gt;</td>\n",
       "    </tr>\n",
       "    <tr>\n",
       "      <th>462</th>\n",
       "      <td>NaN</td>\n",
       "      <td>NaN</td>\n",
       "      <td>&lt;Vector 8.91, 14.91, 48.36&gt;</td>\n",
       "      <td>None</td>\n",
       "      <td>&lt;Vector 0.83, 21.62, 36.45&gt;</td>\n",
       "    </tr>\n",
       "    <tr>\n",
       "      <th>463</th>\n",
       "      <td>NaN</td>\n",
       "      <td>NaN</td>\n",
       "      <td>&lt;Vector 5.48, 13.77, 47.17&gt;</td>\n",
       "      <td>None</td>\n",
       "      <td>&lt;Vector 0.83, 21.62, 36.45&gt;</td>\n",
       "    </tr>\n",
       "    <tr>\n",
       "      <th>468</th>\n",
       "      <td>2.0</td>\n",
       "      <td>138.410707</td>\n",
       "      <td>&lt;Vector 9.01, 12.20, 35.42&gt;</td>\n",
       "      <td>&lt;Vector 14.05, 11.55, 35.02&gt;</td>\n",
       "      <td>&lt;Vector 0.83, 21.62, 36.45&gt;</td>\n",
       "    </tr>\n",
       "    <tr>\n",
       "      <th>469</th>\n",
       "      <td>NaN</td>\n",
       "      <td>NaN</td>\n",
       "      <td>&lt;Vector 10.82, 14.70, 37.66&gt;</td>\n",
       "      <td>None</td>\n",
       "      <td>&lt;Vector 0.83, 21.62, 36.45&gt;</td>\n",
       "    </tr>\n",
       "    <tr>\n",
       "      <th>...</th>\n",
       "      <td>...</td>\n",
       "      <td>...</td>\n",
       "      <td>...</td>\n",
       "      <td>...</td>\n",
       "      <td>...</td>\n",
       "    </tr>\n",
       "    <tr>\n",
       "      <th>584</th>\n",
       "      <td>2.0</td>\n",
       "      <td>128.398325</td>\n",
       "      <td>&lt;Vector -9.36, 18.82, 42.32&gt;</td>\n",
       "      <td>&lt;Vector -11.45, 17.57, 41.42&gt;</td>\n",
       "      <td>&lt;Vector 0.83, 21.62, 36.45&gt;</td>\n",
       "    </tr>\n",
       "    <tr>\n",
       "      <th>592</th>\n",
       "      <td>2.0</td>\n",
       "      <td>149.739811</td>\n",
       "      <td>&lt;Vector -4.69, 21.47, 35.20&gt;</td>\n",
       "      <td>&lt;Vector -7.54, 21.40, 32.54&gt;</td>\n",
       "      <td>&lt;Vector 0.83, 21.62, 36.45&gt;</td>\n",
       "    </tr>\n",
       "    <tr>\n",
       "      <th>593</th>\n",
       "      <td>NaN</td>\n",
       "      <td>NaN</td>\n",
       "      <td>&lt;Vector -0.96, 20.89, 35.01&gt;</td>\n",
       "      <td>None</td>\n",
       "      <td>&lt;Vector 0.83, 21.62, 36.45&gt;</td>\n",
       "    </tr>\n",
       "    <tr>\n",
       "      <th>594</th>\n",
       "      <td>2.0</td>\n",
       "      <td>92.784985</td>\n",
       "      <td>&lt;Vector 1.83, 18.43, 34.14&gt;</td>\n",
       "      <td>&lt;Vector 1.72, 16.82, 36.09&gt;</td>\n",
       "      <td>&lt;Vector 0.83, 21.62, 36.45&gt;</td>\n",
       "    </tr>\n",
       "    <tr>\n",
       "      <th>595</th>\n",
       "      <td>1.0</td>\n",
       "      <td>59.266540</td>\n",
       "      <td>&lt;Vector 2.38, 19.71, 30.60&gt;</td>\n",
       "      <td>&lt;Vector 0.31, 24.33, 31.38&gt;</td>\n",
       "      <td>&lt;Vector 0.83, 21.62, 36.45&gt;</td>\n",
       "    </tr>\n",
       "  </tbody>\n",
       "</table>\n",
       "<p>78 rows × 5 columns</p>\n",
       "</div>"
      ],
      "text/plain": [
       "     sco.category   sco.angle                     ca.vector  \\\n",
       "461           1.0   84.436343   <Vector 8.81, 16.81, 51.66>   \n",
       "462           NaN         NaN   <Vector 8.91, 14.91, 48.36>   \n",
       "463           NaN         NaN   <Vector 5.48, 13.77, 47.17>   \n",
       "468           2.0  138.410707   <Vector 9.01, 12.20, 35.42>   \n",
       "469           NaN         NaN  <Vector 10.82, 14.70, 37.66>   \n",
       "..            ...         ...                           ...   \n",
       "584           2.0  128.398325  <Vector -9.36, 18.82, 42.32>   \n",
       "592           2.0  149.739811  <Vector -4.69, 21.47, 35.20>   \n",
       "593           NaN         NaN  <Vector -0.96, 20.89, 35.01>   \n",
       "594           2.0   92.784985   <Vector 1.83, 18.43, 34.14>   \n",
       "595           1.0   59.266540   <Vector 2.38, 19.71, 30.60>   \n",
       "\n",
       "                         sc.vector                     centroid  \n",
       "461    <Vector 5.63, 14.81, 52.26>  <Vector 0.83, 21.62, 36.45>  \n",
       "462                           None  <Vector 0.83, 21.62, 36.45>  \n",
       "463                           None  <Vector 0.83, 21.62, 36.45>  \n",
       "468   <Vector 14.05, 11.55, 35.02>  <Vector 0.83, 21.62, 36.45>  \n",
       "469                           None  <Vector 0.83, 21.62, 36.45>  \n",
       "..                             ...                          ...  \n",
       "584  <Vector -11.45, 17.57, 41.42>  <Vector 0.83, 21.62, 36.45>  \n",
       "592   <Vector -7.54, 21.40, 32.54>  <Vector 0.83, 21.62, 36.45>  \n",
       "593                           None  <Vector 0.83, 21.62, 36.45>  \n",
       "594    <Vector 1.72, 16.82, 36.09>  <Vector 0.83, 21.62, 36.45>  \n",
       "595    <Vector 0.31, 24.33, 31.38>  <Vector 0.83, 21.62, 36.45>  \n",
       "\n",
       "[78 rows x 5 columns]"
      ]
     },
     "execution_count": 7,
     "metadata": {},
     "output_type": "execute_result"
    }
   ],
   "source": [
    "sco.details"
   ]
  },
  {
   "cell_type": "markdown",
   "metadata": {},
   "source": [
    "### Class attributes"
   ]
  },
  {
   "cell_type": "code",
   "execution_count": 8,
   "metadata": {},
   "outputs": [
    {
     "name": "stdout",
     "output_type": "stream",
     "text": [
      "461 462 463 468 469 470 471 472 473 480 481 482 483 484 485 497 498 499 500 501 502 503 504 505 506 507 508 509 511 512 513 514 515 516 517 518 519 526 527 528 529 530 531 532 533 534 535 536 537 538 539 540 541 542 543 566 567 568 569 570 571 572 573 574 575 576 577 578 579 580 581 582 583 584 592 593 594 595\n"
     ]
    }
   ],
   "source": [
    "print(*sco._residue_ids)"
   ]
  },
  {
   "cell_type": "code",
   "execution_count": 9,
   "metadata": {},
   "outputs": [
    {
     "name": "stdout",
     "output_type": "stream",
     "text": [
      "1.0 nan nan 2.0 nan 2.0 1.0 nan nan 2.0 0.0 2.0 nan nan nan 1.0 1.0 nan 2.0 nan 2.0 nan 1.0 nan nan 2.0 0.0 2.0 2.0 2.0 2.0 0.0 2.0 2.0 2.0 nan 2.0 2.0 1.0 2.0 0.0 1.0 2.0 0.0 nan nan 2.0 2.0 2.0 2.0 2.0 1.0 nan 1.0 0.0 1.0 0.0 1.0 2.0 1.0 2.0 1.0 2.0 0.0 2.0 1.0 2.0 1.0 nan 2.0 1.0 2.0 2.0 2.0 2.0 nan 2.0 1.0\n"
     ]
    }
   ],
   "source": [
    "print(*sco._categories)"
   ]
  },
  {
   "cell_type": "code",
   "execution_count": 10,
   "metadata": {},
   "outputs": [
    {
     "name": "stdout",
     "output_type": "stream",
     "text": [
      "84.43634320797315 nan nan 138.41070678639875 nan 150.69852081699418 45.24506235374276 nan nan 97.18224591861701 42.7171640791292 160.94719014562634 nan nan nan 83.08520899103792 69.17007309538454 nan 96.18795253124387 nan 127.18687421489133 nan 69.8645863476361 nan nan 116.47795356345232 19.552063171462777 118.45486321068974 154.666946496114 150.37636982049693 92.60236739634725 43.29404750327634 160.29403467330314 120.89862214424804 110.42087228799096 nan 128.83818867750998 109.65952091402973 59.34356407787748 165.78833592095822 7.019169257832821 77.18360997869439 117.90329699677812 15.988058453389012 nan nan 143.6123356732296 100.50798356507362 109.54677926141883 113.29583323153793 109.01869697036146 72.6404360609924 nan 69.85213002782336 42.93083244840415 73.50585445162793 18.293892536851374 85.75932843864183 92.25968401478761 57.239589687100334 172.84710331169467 72.87397651098915 156.4794300679326 37.81829741138075 109.26369865542082 79.63479790374275 102.796637731654 63.8290866023029 nan 99.03962092788386 80.75578932524729 126.26685841826053 92.05348140746688 128.39832506330396 149.73981142972815 nan 92.78498477044577 59.26653953159822\n"
     ]
    }
   ],
   "source": [
    "print(*sco._vertex_angles)"
   ]
  },
  {
   "cell_type": "code",
   "execution_count": 11,
   "metadata": {},
   "outputs": [
    {
     "name": "stdout",
     "output_type": "stream",
     "text": [
      "<Vector 0.83, 21.62, 36.45>\n"
     ]
    }
   ],
   "source": [
    "print(sco._centroid)"
   ]
  },
  {
   "cell_type": "code",
   "execution_count": 12,
   "metadata": {},
   "outputs": [
    {
     "name": "stdout",
     "output_type": "stream",
     "text": [
      "<Vector 8.81, 16.81, 51.66> <Vector 8.91, 14.91, 48.36> <Vector 5.48, 13.77, 47.17> <Vector 9.01, 12.20, 35.42> <Vector 10.82, 14.70, 37.66> <Vector 11.03, 15.03, 41.43> <Vector 8.14, 16.88, 43.10> <Vector 8.32, 18.38, 46.59> <Vector 5.94, 20.35, 48.81> <Vector 3.90, 25.86, 47.29> <Vector 4.92, 22.87, 45.17> <Vector 8.33, 22.78, 43.46> <Vector 9.26, 20.28, 40.75> <Vector 13.01, 19.87, 40.20> <Vector 15.03, 17.46, 38.07> <Vector 13.70, 22.76, 27.11> <Vector 13.26, 24.33, 30.56> <Vector 13.41, 27.83, 29.06> <Vector 10.73, 26.87, 26.53> <Vector 8.52, 25.29, 29.22> <Vector 8.88, 28.38, 31.44> <Vector 7.99, 30.63, 28.52> <Vector 4.91, 28.51, 27.83> <Vector 3.86, 28.51, 31.50> <Vector 4.42, 32.24, 32.12> <Vector 1.46, 33.35, 29.96> <Vector -1.24, 31.45, 31.93> <Vector -3.62, 33.14, 34.40> <Vector -8.74, 29.90, 38.02> <Vector -9.01, 26.48, 36.33> <Vector -5.33, 26.41, 35.29> <Vector -2.58, 25.68, 37.81> <Vector -1.00, 28.88, 39.12> <Vector 2.64, 29.07, 38.05> <Vector 4.55, 31.17, 40.59> <Vector 8.18, 31.11, 39.45> <Vector 11.24, 29.23, 38.28> <Vector 12.88, 23.72, 38.82> <Vector 9.37, 25.17, 38.56> <Vector 7.51, 26.45, 41.65> <Vector 3.69, 26.68, 41.57> <Vector 0.92, 26.91, 44.14> <Vector -0.00, 24.11, 46.55> <Vector -3.53, 22.68, 46.33> <Vector -5.15, 20.29, 48.81> <Vector -6.82, 17.23, 47.30> <Vector -6.04, 14.55, 44.73> <Vector -6.29, 13.95, 40.99> <Vector -9.61, 13.23, 39.30> <Vector -8.16, 9.83, 38.34> <Vector -7.69, 9.01, 42.03> <Vector -11.13, 10.38, 42.96> <Vector -13.15, 8.49, 40.33> <Vector -11.12, 5.30, 39.76> <Vector -9.03, 4.67, 42.88> <Vector -8.41, 29.27, 27.77> <Vector -5.36, 27.26, 26.69> <Vector -6.51, 26.98, 23.06> <Vector -7.40, 30.68, 22.90> <Vector -3.68, 31.32, 23.48> <Vector -2.71, 28.62, 20.94> <Vector -1.32, 26.50, 23.78> <Vector -1.43, 22.76, 23.09> <Vector -1.78, 20.55, 26.17> <Vector -0.31, 17.40, 24.68> <Vector -0.67, 15.11, 27.71> <Vector -4.22, 15.90, 28.84> <Vector -5.58, 13.10, 31.03> <Vector -7.80, 12.64, 34.06> <Vector -4.68, 11.96, 36.15> <Vector -3.35, 15.47, 35.42> <Vector -6.62, 17.09, 36.56> <Vector -6.27, 18.11, 40.21> <Vector -9.36, 18.82, 42.32> <Vector -4.69, 21.47, 35.20> <Vector -0.96, 20.89, 35.01> <Vector 1.83, 18.43, 34.14> <Vector 2.38, 19.71, 30.60>\n"
     ]
    }
   ],
   "source": [
    "print(*sco._ca_atoms)"
   ]
  },
  {
   "cell_type": "code",
   "execution_count": 13,
   "metadata": {},
   "outputs": [
    {
     "name": "stdout",
     "output_type": "stream",
     "text": [
      "<Vector 5.63, 14.81, 52.26> None None <Vector 14.05, 11.55, 35.02> None <Vector 12.36, 15.01, 42.17> <Vector 6.69, 16.56, 42.66> None None <Vector 4.92, 26.91, 46.80> <Vector 3.80, 22.02, 44.56> <Vector 9.51, 23.39, 44.24> None None None <Vector 13.73, 21.25, 27.27> <Vector 13.03, 26.24, 35.27> None <Vector 9.66, 25.81, 24.50> None <Vector 10.18, 28.90, 32.07> None <Vector 4.89, 27.05, 27.37> None None <Vector 1.30, 33.11, 24.08> <Vector -0.94, 29.95, 32.06> <Vector -2.00, 35.10, 34.50> <Vector -10.14, 30.33, 38.49> <Vector -11.50, 26.40, 35.86> <Vector -5.64, 25.53, 32.39> <Vector -0.72, 24.29, 38.99> <Vector -1.02, 31.00, 40.63> <Vector 6.82, 31.25, 36.05> <Vector 3.43, 31.54, 45.08> None <Vector 13.61, 33.86, 34.43> <Vector 13.14, 23.57, 40.32> <Vector 8.51, 24.08, 34.92> <Vector 8.25, 27.35, 42.65> <Vector 2.97, 25.78, 40.56> <Vector -2.69, 27.43, 42.78> <Vector -0.04, 20.71, 49.59> <Vector -3.01, 21.92, 43.68> None None <Vector -5.86, 12.92, 46.53> <Vector -5.02, 11.90, 40.66> <Vector -11.48, 13.52, 37.49> <Vector -5.42, 4.20, 36.62> <Vector -7.21, 8.78, 46.44> <Vector -11.08, 13.92, 45.60> None <Vector -11.86, 6.88, 35.93> <Vector -7.72, 5.39, 43.20> <Vector -4.75, 33.62, 30.84> <Vector -4.72, 25.57, 28.55> <Vector -7.70, 22.48, 22.33> <Vector -8.27, 31.47, 23.88> <Vector -2.86, 33.58, 29.30> <Vector -2.97, 29.78, 18.82> <Vector 0.86, 28.28, 25.10> <Vector -0.52, 22.79, 19.31> <Vector -1.61, 18.42, 29.78> <Vector 1.52, 18.43, 23.23> <Vector 0.44, 13.47, 29.32> <Vector -6.55, 16.93, 28.81> <Vector -0.29, 11.79, 32.27> None <Vector -2.90, 10.45, 37.13> <Vector -1.45, 14.94, 33.83> <Vector -9.10, 16.66, 33.60> <Vector -4.06, 18.10, 44.81> <Vector -11.45, 17.57, 41.42> <Vector -7.54, 21.40, 32.54> None <Vector 1.72, 16.82, 36.09> <Vector 0.31, 24.33, 31.38>\n"
     ]
    }
   ],
   "source": [
    "print(*sco._sc_atoms)"
   ]
  },
  {
   "cell_type": "markdown",
   "metadata": {},
   "source": [
    "## Exposure"
   ]
  },
  {
   "cell_type": "code",
   "execution_count": 14,
   "metadata": {},
   "outputs": [],
   "source": [
    "from kissim.encoding.features.exposure import SolventExposureFeature"
   ]
  },
  {
   "cell_type": "code",
   "execution_count": 15,
   "metadata": {},
   "outputs": [],
   "source": [
    "exposure = SolventExposureFeature.from_pocket(pocket_bp)"
   ]
  },
  {
   "cell_type": "markdown",
   "metadata": {},
   "source": [
    "### Class properties"
   ]
  },
  {
   "cell_type": "code",
   "execution_count": 16,
   "metadata": {},
   "outputs": [
    {
     "name": "stdout",
     "output_type": "stream",
     "text": [
      "0.875 0.7857142857142857 0.3125 0.7777777777777778 0.35294117647058826 0.45454545454545453 0.7083333333333334 0.46153846153846156 0.7407407407407407 0.41379310344827586 0.6388888888888888 0.4864864864864865 0.6857142857142857 0.46875 0.5652173913043478 0.5 0.4074074074074074 0.7727272727272727 0.625 0.46153846153846156 0.39285714285714285 0.7368421052631579 0.45 0.40625 0.6153846153846154 0.5652173913043478 0.1724137931034483 0.9473684210526315 0.8181818181818182 0.4666666666666667 0.5833333333333334 0.4722222222222222 0.7586206896551724 0.45714285714285713 0.5666666666666667 0.6 0.65625 0.4473684210526316 0.5952380952380952 0.4523809523809524 0.5641025641025641 0.6206896551724138 0.5666666666666667 0.2962962962962963 0.8421052631578947 0.15789473684210525 0.7142857142857143 0.6 0.375 0.7142857142857143 0.7083333333333334 0.3448275862068966 0.3125 0.52 0.5294117647058824 0.5185185185185185 0.3333333333333333 0.375 0.5 0.2631578947368421 1.0 0.3333333333333333 0.7142857142857143 0.4117647058823529 0.84 0.7727272727272727 0.3235294117647059 0.7878787878787878 0.47368421052631576 0.8620689655172413 0.5357142857142857 0.43902439024390244 0.6176470588235294 0.5277777777777778 0.47619047619047616 0.6 0.5185185185185185 0.32\n"
     ]
    }
   ],
   "source": [
    "print(*exposure.values)"
   ]
  },
  {
   "cell_type": "code",
   "execution_count": 17,
   "metadata": {},
   "outputs": [
    {
     "data": {
      "text/html": [
       "<div>\n",
       "<style scoped>\n",
       "    .dataframe tbody tr th:only-of-type {\n",
       "        vertical-align: middle;\n",
       "    }\n",
       "\n",
       "    .dataframe tbody tr th {\n",
       "        vertical-align: top;\n",
       "    }\n",
       "\n",
       "    .dataframe thead th {\n",
       "        text-align: right;\n",
       "    }\n",
       "</style>\n",
       "<table border=\"1\" class=\"dataframe\">\n",
       "  <thead>\n",
       "    <tr style=\"text-align: right;\">\n",
       "      <th></th>\n",
       "      <th>exposure.ratio</th>\n",
       "      <th>exposure.ratio_ca</th>\n",
       "      <th>exposure.ratio_cb</th>\n",
       "    </tr>\n",
       "  </thead>\n",
       "  <tbody>\n",
       "    <tr>\n",
       "      <th>461</th>\n",
       "      <td>0.875000</td>\n",
       "      <td>1.000000</td>\n",
       "      <td>0.875000</td>\n",
       "    </tr>\n",
       "    <tr>\n",
       "      <th>462</th>\n",
       "      <td>0.785714</td>\n",
       "      <td>0.500000</td>\n",
       "      <td>0.785714</td>\n",
       "    </tr>\n",
       "    <tr>\n",
       "      <th>463</th>\n",
       "      <td>0.312500</td>\n",
       "      <td>NaN</td>\n",
       "      <td>0.312500</td>\n",
       "    </tr>\n",
       "    <tr>\n",
       "      <th>468</th>\n",
       "      <td>0.777778</td>\n",
       "      <td>NaN</td>\n",
       "      <td>0.777778</td>\n",
       "    </tr>\n",
       "    <tr>\n",
       "      <th>469</th>\n",
       "      <td>0.352941</td>\n",
       "      <td>0.411765</td>\n",
       "      <td>0.352941</td>\n",
       "    </tr>\n",
       "    <tr>\n",
       "      <th>...</th>\n",
       "      <td>...</td>\n",
       "      <td>...</td>\n",
       "      <td>...</td>\n",
       "    </tr>\n",
       "    <tr>\n",
       "      <th>584</th>\n",
       "      <td>0.527778</td>\n",
       "      <td>0.555556</td>\n",
       "      <td>0.527778</td>\n",
       "    </tr>\n",
       "    <tr>\n",
       "      <th>592</th>\n",
       "      <td>0.476190</td>\n",
       "      <td>0.523810</td>\n",
       "      <td>0.476190</td>\n",
       "    </tr>\n",
       "    <tr>\n",
       "      <th>593</th>\n",
       "      <td>0.600000</td>\n",
       "      <td>0.542857</td>\n",
       "      <td>0.600000</td>\n",
       "    </tr>\n",
       "    <tr>\n",
       "      <th>594</th>\n",
       "      <td>0.518519</td>\n",
       "      <td>0.703704</td>\n",
       "      <td>0.518519</td>\n",
       "    </tr>\n",
       "    <tr>\n",
       "      <th>595</th>\n",
       "      <td>0.320000</td>\n",
       "      <td>NaN</td>\n",
       "      <td>0.320000</td>\n",
       "    </tr>\n",
       "  </tbody>\n",
       "</table>\n",
       "<p>78 rows × 3 columns</p>\n",
       "</div>"
      ],
      "text/plain": [
       "     exposure.ratio  exposure.ratio_ca  exposure.ratio_cb\n",
       "461        0.875000           1.000000           0.875000\n",
       "462        0.785714           0.500000           0.785714\n",
       "463        0.312500                NaN           0.312500\n",
       "468        0.777778                NaN           0.777778\n",
       "469        0.352941           0.411765           0.352941\n",
       "..              ...                ...                ...\n",
       "584        0.527778           0.555556           0.527778\n",
       "592        0.476190           0.523810           0.476190\n",
       "593        0.600000           0.542857           0.600000\n",
       "594        0.518519           0.703704           0.518519\n",
       "595        0.320000                NaN           0.320000\n",
       "\n",
       "[78 rows x 3 columns]"
      ]
     },
     "execution_count": 17,
     "metadata": {},
     "output_type": "execute_result"
    }
   ],
   "source": [
    "exposure.details"
   ]
  },
  {
   "cell_type": "markdown",
   "metadata": {},
   "source": [
    "### Class attributes"
   ]
  },
  {
   "cell_type": "code",
   "execution_count": 18,
   "metadata": {},
   "outputs": [
    {
     "name": "stdout",
     "output_type": "stream",
     "text": [
      "461 462 463 468 469 470 471 472 473 480 481 482 483 484 485 497 498 499 500 501 502 503 504 505 506 507 508 509 511 512 513 514 515 516 517 518 519 526 527 528 529 530 531 532 533 534 535 536 537 538 539 540 541 542 543 566 567 568 569 570 571 572 573 574 575 576 577 578 579 580 581 582 583 584 592 593 594 595\n"
     ]
    }
   ],
   "source": [
    "print(*exposure._residue_ids)"
   ]
  },
  {
   "cell_type": "code",
   "execution_count": 19,
   "metadata": {},
   "outputs": [
    {
     "name": "stdout",
     "output_type": "stream",
     "text": [
      "0.875 0.7857142857142857 0.3125 0.7777777777777778 0.35294117647058826 0.45454545454545453 0.7083333333333334 0.46153846153846156 0.7407407407407407 0.41379310344827586 0.6388888888888888 0.4864864864864865 0.6857142857142857 0.46875 0.5652173913043478 0.5 0.4074074074074074 0.7727272727272727 0.625 0.46153846153846156 0.39285714285714285 0.7368421052631579 0.45 0.40625 0.6153846153846154 0.5652173913043478 0.1724137931034483 0.9473684210526315 0.8181818181818182 0.4666666666666667 0.5833333333333334 0.4722222222222222 0.7586206896551724 0.45714285714285713 0.5666666666666667 0.6 0.65625 0.4473684210526316 0.5952380952380952 0.4523809523809524 0.5641025641025641 0.6206896551724138 0.5666666666666667 0.2962962962962963 0.8421052631578947 0.15789473684210525 0.7142857142857143 0.6 0.375 0.7142857142857143 0.7083333333333334 0.3448275862068966 0.3125 0.52 0.5294117647058824 0.5185185185185185 0.3333333333333333 0.375 0.5 0.2631578947368421 1.0 0.3333333333333333 0.7142857142857143 0.4117647058823529 0.84 0.7727272727272727 0.3235294117647059 0.7878787878787878 0.47368421052631576 0.8620689655172413 0.5357142857142857 0.43902439024390244 0.6176470588235294 0.5277777777777778 0.47619047619047616 0.6 0.5185185185185185 0.32\n"
     ]
    }
   ],
   "source": [
    "print(*exposure._ratio)"
   ]
  },
  {
   "cell_type": "code",
   "execution_count": 20,
   "metadata": {},
   "outputs": [
    {
     "name": "stdout",
     "output_type": "stream",
     "text": [
      "1.0 0.5 nan nan 0.4117647058823529 0.6363636363636364 0.5416666666666666 0.6153846153846154 0.7037037037037037 0.5172413793103449 0.6666666666666666 0.43243243243243246 0.6571428571428571 0.4375 0.6956521739130435 0.8888888888888888 0.48148148148148145 0.7727272727272727 1.0 0.6153846153846154 0.5 0.8947368421052632 0.65 0.40625 0.5384615384615384 0.8260869565217391 0.13793103448275862 0.8947368421052632 0.8181818181818182 0.3333333333333333 0.5 0.4444444444444444 0.6896551724137931 0.37142857142857144 0.7333333333333333 0.7666666666666667 0.5 0.5263157894736842 0.6190476190476191 0.42857142857142855 0.5641025641025641 0.6551724137931034 0.5 0.3333333333333333 0.8947368421052632 0.6842105263157895 0.7142857142857143 0.6666666666666666 0.4 0.5 0.8333333333333334 0.5862068965517241 0.46875 0.56 0.9411764705882353 0.7407407407407407 0.45454545454545453 0.5416666666666666 0.6666666666666666 0.631578947368421 0.8823529411764706 0.5 0.6071428571428571 0.4117647058823529 0.68 0.8181818181818182 0.2647058823529412 0.7272727272727273 0.3157894736842105 0.6896551724137931 0.6428571428571429 0.4634146341463415 0.7058823529411765 0.5555555555555556 0.5238095238095238 0.5428571428571428 0.7037037037037037 nan\n"
     ]
    }
   ],
   "source": [
    "print(*exposure._ratio_ca)"
   ]
  },
  {
   "cell_type": "code",
   "execution_count": 21,
   "metadata": {},
   "outputs": [
    {
     "name": "stdout",
     "output_type": "stream",
     "text": [
      "0.875 0.7857142857142857 0.3125 0.7777777777777778 0.35294117647058826 0.45454545454545453 0.7083333333333334 0.46153846153846156 0.7407407407407407 0.41379310344827586 0.6388888888888888 0.4864864864864865 0.6857142857142857 0.46875 0.5652173913043478 0.5 0.4074074074074074 0.7727272727272727 0.625 0.46153846153846156 0.39285714285714285 0.7368421052631579 0.45 0.40625 0.6153846153846154 0.5652173913043478 0.1724137931034483 0.9473684210526315 0.8181818181818182 0.4666666666666667 0.5833333333333334 0.4722222222222222 0.7586206896551724 0.45714285714285713 0.5666666666666667 0.6 0.65625 0.4473684210526316 0.5952380952380952 0.4523809523809524 0.5641025641025641 0.6206896551724138 0.5666666666666667 0.2962962962962963 0.8421052631578947 0.15789473684210525 0.7142857142857143 0.6 0.375 0.7142857142857143 0.7083333333333334 0.3448275862068966 0.3125 0.52 0.5294117647058824 0.5185185185185185 0.3333333333333333 0.375 0.5 0.2631578947368421 1.0 0.3333333333333333 0.7142857142857143 0.4117647058823529 0.84 0.7727272727272727 0.3235294117647059 0.7878787878787878 0.47368421052631576 0.8620689655172413 0.5357142857142857 0.43902439024390244 0.6176470588235294 0.5277777777777778 0.47619047619047616 0.6 0.5185185185185185 0.32\n"
     ]
    }
   ],
   "source": [
    "print(*exposure._ratio_cb)"
   ]
  },
  {
   "cell_type": "markdown",
   "metadata": {},
   "source": [
    "## SiteAlign features"
   ]
  },
  {
   "cell_type": "code",
   "execution_count": 22,
   "metadata": {},
   "outputs": [],
   "source": [
    "from kissim.encoding.features.sitealign import SiteAlignFeature"
   ]
  },
  {
   "cell_type": "code",
   "execution_count": 23,
   "metadata": {},
   "outputs": [],
   "source": [
    "sitealign = SiteAlignFeature.from_pocket(pocket_df, \"hba\")"
   ]
  },
  {
   "cell_type": "markdown",
   "metadata": {},
   "source": [
    "### Class properties"
   ]
  },
  {
   "cell_type": "code",
   "execution_count": 24,
   "metadata": {},
   "outputs": [
    {
     "name": "stdout",
     "output_type": "stream",
     "text": [
      "1.0 0.0 0.0 0.0 0.0 1.0 0.0 1.0 0.0 0.0 0.0 0.0 0.0 0.0 0.0 0.0 0.0 0.0 1.0 2.0 0.0 0.0 0.0 0.0 0.0 0.0 1.0 0.0 0.0 1.0 0.0 0.0 0.0 0.0 0.0 0.0 1.0 0.0 0.0 0.0 1.0 1.0 0.0 0.0 2.0 0.0 1.0 1.0 0.0 1.0 1.0 1.0 0.0 1.0 0.0 1.0 0.0 1.0 0.0 0.0 1.0 0.0 0.0 1.0 0.0 2.0 0.0 0.0 1.0 1.0 1.0 0.0 0.0 0.0 0.0 0.0 2.0 0.0\n"
     ]
    }
   ],
   "source": [
    "print(*sitealign.values)"
   ]
  },
  {
   "cell_type": "code",
   "execution_count": 25,
   "metadata": {},
   "outputs": [
    {
     "data": {
      "text/html": [
       "<div>\n",
       "<style scoped>\n",
       "    .dataframe tbody tr th:only-of-type {\n",
       "        vertical-align: middle;\n",
       "    }\n",
       "\n",
       "    .dataframe tbody tr th {\n",
       "        vertical-align: top;\n",
       "    }\n",
       "\n",
       "    .dataframe thead th {\n",
       "        text-align: right;\n",
       "    }\n",
       "</style>\n",
       "<table border=\"1\" class=\"dataframe\">\n",
       "  <thead>\n",
       "    <tr style=\"text-align: right;\">\n",
       "      <th></th>\n",
       "      <th>residue.name</th>\n",
       "      <th>sitealign.category</th>\n",
       "    </tr>\n",
       "  </thead>\n",
       "  <tbody>\n",
       "    <tr>\n",
       "      <th>461</th>\n",
       "      <td>GLN</td>\n",
       "      <td>1.0</td>\n",
       "    </tr>\n",
       "    <tr>\n",
       "      <th>462</th>\n",
       "      <td>ARG</td>\n",
       "      <td>0.0</td>\n",
       "    </tr>\n",
       "    <tr>\n",
       "      <th>463</th>\n",
       "      <td>ILE</td>\n",
       "      <td>0.0</td>\n",
       "    </tr>\n",
       "    <tr>\n",
       "      <th>468</th>\n",
       "      <td>PHE</td>\n",
       "      <td>0.0</td>\n",
       "    </tr>\n",
       "    <tr>\n",
       "      <th>469</th>\n",
       "      <td>GLY</td>\n",
       "      <td>0.0</td>\n",
       "    </tr>\n",
       "    <tr>\n",
       "      <th>...</th>\n",
       "      <td>...</td>\n",
       "      <td>...</td>\n",
       "    </tr>\n",
       "    <tr>\n",
       "      <th>584</th>\n",
       "      <td>LEU</td>\n",
       "      <td>0.0</td>\n",
       "    </tr>\n",
       "    <tr>\n",
       "      <th>592</th>\n",
       "      <td>ILE</td>\n",
       "      <td>0.0</td>\n",
       "    </tr>\n",
       "    <tr>\n",
       "      <th>593</th>\n",
       "      <td>GLY</td>\n",
       "      <td>0.0</td>\n",
       "    </tr>\n",
       "    <tr>\n",
       "      <th>594</th>\n",
       "      <td>ASP</td>\n",
       "      <td>2.0</td>\n",
       "    </tr>\n",
       "    <tr>\n",
       "      <th>595</th>\n",
       "      <td>PHE</td>\n",
       "      <td>0.0</td>\n",
       "    </tr>\n",
       "  </tbody>\n",
       "</table>\n",
       "<p>78 rows × 2 columns</p>\n",
       "</div>"
      ],
      "text/plain": [
       "    residue.name  sitealign.category\n",
       "461          GLN                 1.0\n",
       "462          ARG                 0.0\n",
       "463          ILE                 0.0\n",
       "468          PHE                 0.0\n",
       "469          GLY                 0.0\n",
       "..           ...                 ...\n",
       "584          LEU                 0.0\n",
       "592          ILE                 0.0\n",
       "593          GLY                 0.0\n",
       "594          ASP                 2.0\n",
       "595          PHE                 0.0\n",
       "\n",
       "[78 rows x 2 columns]"
      ]
     },
     "execution_count": 25,
     "metadata": {},
     "output_type": "execute_result"
    }
   ],
   "source": [
    "sitealign.details"
   ]
  },
  {
   "cell_type": "markdown",
   "metadata": {},
   "source": [
    "### Class attributes"
   ]
  },
  {
   "cell_type": "code",
   "execution_count": 26,
   "metadata": {},
   "outputs": [
    {
     "name": "stdout",
     "output_type": "stream",
     "text": [
      "461 462 463 468 469 470 471 472 473 480 481 482 483 484 485 497 498 499 500 501 502 503 504 505 506 507 508 509 511 512 513 514 515 516 517 518 519 526 527 528 529 530 531 532 533 534 535 536 537 538 539 540 541 542 543 566 567 568 569 570 571 572 573 574 575 576 577 578 579 580 581 582 583 584 592 593 594 595\n"
     ]
    }
   ],
   "source": [
    "print(*sitealign._residue_ids)"
   ]
  },
  {
   "cell_type": "code",
   "execution_count": 27,
   "metadata": {},
   "outputs": [
    {
     "name": "stdout",
     "output_type": "stream",
     "text": [
      "GLN ARG ILE PHE GLY THR VAL TYR LYS VAL ALA VAL LYS MET LEU ALA PHE LYS ASN GLU VAL GLY VAL LEU ARG LYS THR ARG VAL ASN ILE LEU LEU PHE MET GLY TYR ALA ILE VAL THR GLN TRP CYS GLU GLY SER SER LEU TYR HIS HIS LEU HIS ALA TYR LEU HIS ALA LYS SER ILE ILE HIS ARG ASP LEU LYS SER ASN ASN ILE PHE LEU ILE GLY ASP PHE\n"
     ]
    }
   ],
   "source": [
    "print(*sitealign._residue_names)"
   ]
  },
  {
   "cell_type": "code",
   "execution_count": 28,
   "metadata": {},
   "outputs": [
    {
     "name": "stdout",
     "output_type": "stream",
     "text": [
      "1.0 0.0 0.0 0.0 0.0 1.0 0.0 1.0 0.0 0.0 0.0 0.0 0.0 0.0 0.0 0.0 0.0 0.0 1.0 2.0 0.0 0.0 0.0 0.0 0.0 0.0 1.0 0.0 0.0 1.0 0.0 0.0 0.0 0.0 0.0 0.0 1.0 0.0 0.0 0.0 1.0 1.0 0.0 0.0 2.0 0.0 1.0 1.0 0.0 1.0 1.0 1.0 0.0 1.0 0.0 1.0 0.0 1.0 0.0 0.0 1.0 0.0 0.0 1.0 0.0 2.0 0.0 0.0 1.0 1.0 1.0 0.0 0.0 0.0 0.0 0.0 2.0 0.0\n"
     ]
    }
   ],
   "source": [
    "print(*sitealign._categories)"
   ]
  },
  {
   "cell_type": "markdown",
   "metadata": {},
   "source": [
    "## Subpocket distances (WIP)"
   ]
  },
  {
   "cell_type": "code",
   "execution_count": 29,
   "metadata": {},
   "outputs": [],
   "source": [
    "from opencadd.structure.pocket import KlifsPocket\n",
    "from kissim.definitions import ANCHOR_RESIDUES"
   ]
  },
  {
   "cell_type": "code",
   "execution_count": 30,
   "metadata": {},
   "outputs": [
    {
     "data": {
      "text/plain": [
       "{'hinge_region': [16, 47, 80],\n",
       " 'dfg_region': [19, 24, 81],\n",
       " 'front_pocket': [10, 48, 72]}"
      ]
     },
     "execution_count": 30,
     "metadata": {},
     "output_type": "execute_result"
    }
   ],
   "source": [
    "ANCHOR_RESIDUES"
   ]
  },
  {
   "cell_type": "code",
   "execution_count": 31,
   "metadata": {},
   "outputs": [
    {
     "data": {
      "text/html": [
       "<div>\n",
       "<style scoped>\n",
       "    .dataframe tbody tr th:only-of-type {\n",
       "        vertical-align: middle;\n",
       "    }\n",
       "\n",
       "    .dataframe tbody tr th {\n",
       "        vertical-align: top;\n",
       "    }\n",
       "\n",
       "    .dataframe thead th {\n",
       "        text-align: right;\n",
       "    }\n",
       "</style>\n",
       "<table border=\"1\" class=\"dataframe\">\n",
       "  <thead>\n",
       "    <tr style=\"text-align: right;\">\n",
       "      <th></th>\n",
       "      <th>anchor_residue.klifs_ids</th>\n",
       "      <th>subpocket.name</th>\n",
       "      <th>subpocket.color</th>\n",
       "    </tr>\n",
       "  </thead>\n",
       "  <tbody>\n",
       "    <tr>\n",
       "      <th>0</th>\n",
       "      <td>[16, 47, 80]</td>\n",
       "      <td>hinge_region</td>\n",
       "      <td>magenta</td>\n",
       "    </tr>\n",
       "    <tr>\n",
       "      <th>1</th>\n",
       "      <td>[19, 24, 81]</td>\n",
       "      <td>dfg_region</td>\n",
       "      <td>cornflowerblue</td>\n",
       "    </tr>\n",
       "    <tr>\n",
       "      <th>2</th>\n",
       "      <td>[10, 48, 72]</td>\n",
       "      <td>front_pocket</td>\n",
       "      <td>green</td>\n",
       "    </tr>\n",
       "  </tbody>\n",
       "</table>\n",
       "</div>"
      ],
      "text/plain": [
       "  anchor_residue.klifs_ids subpocket.name subpocket.color\n",
       "0             [16, 47, 80]   hinge_region         magenta\n",
       "1             [19, 24, 81]     dfg_region  cornflowerblue\n",
       "2             [10, 48, 72]   front_pocket           green"
      ]
     },
     "execution_count": 31,
     "metadata": {},
     "output_type": "execute_result"
    }
   ],
   "source": [
    "import pandas as pd\n",
    "subpockets = pd.DataFrame(\n",
    "    {\n",
    "        \"anchor_residue.klifs_ids\": ANCHOR_RESIDUES.values(), \n",
    "        \"subpocket.name\": ANCHOR_RESIDUES.keys(), \n",
    "        \"subpocket.color\": [\"magenta\", \"cornflowerblue\", \"green\"]\n",
    "    }\n",
    ")\n",
    "subpockets"
   ]
  },
  {
   "cell_type": "code",
   "execution_count": 32,
   "metadata": {},
   "outputs": [
    {
     "name": "stderr",
     "output_type": "stream",
     "text": [
      "INFO:opencadd.databases.klifs.api:Set up remote session...\n",
      "INFO:opencadd.databases.klifs.api:Remote session is ready!\n",
      "INFO:opencadd.structure.pocket.base:Pocket 2222 (set pocket residues): The following input residues were dropped because they cannot be cast to an integer (residue PDB ID, residue index): [('_', 6), ('_', 50)]\n",
      "INFO:opencadd.structure.pocket.base:Pocket 2222 (set region residues): The following input residues were dropped because they cannot be cast to an integer (residue PDB ID, residue index): [(None, 6)]\n",
      "INFO:opencadd.structure.pocket.base:Pocket 2222 (set region residues): The following input residues were dropped because they cannot be cast to an integer (residue PDB ID, residue index): [(None, 50)]\n"
     ]
    }
   ],
   "source": [
    "pocket = KlifsPocket.from_structure_klifs_id(2222, subpockets)"
   ]
  },
  {
   "cell_type": "code",
   "execution_count": 33,
   "metadata": {},
   "outputs": [
    {
     "data": {
      "text/html": [
       "<div>\n",
       "<style scoped>\n",
       "    .dataframe tbody tr th:only-of-type {\n",
       "        vertical-align: middle;\n",
       "    }\n",
       "\n",
       "    .dataframe tbody tr th {\n",
       "        vertical-align: top;\n",
       "    }\n",
       "\n",
       "    .dataframe thead th {\n",
       "        text-align: right;\n",
       "    }\n",
       "</style>\n",
       "<table border=\"1\" class=\"dataframe\">\n",
       "  <thead>\n",
       "    <tr style=\"text-align: right;\">\n",
       "      <th></th>\n",
       "      <th>subpocket.name</th>\n",
       "      <th>subpocket.color</th>\n",
       "      <th>subpocket.center</th>\n",
       "    </tr>\n",
       "  </thead>\n",
       "  <tbody>\n",
       "    <tr>\n",
       "      <th>0</th>\n",
       "      <td>hinge_region</td>\n",
       "      <td>magenta</td>\n",
       "      <td>[2.1213334, 21.789667, 42.245]</td>\n",
       "    </tr>\n",
       "    <tr>\n",
       "      <th>1</th>\n",
       "      <td>dfg_region</td>\n",
       "      <td>cornflowerblue</td>\n",
       "      <td>[7.789667, 19.974, 34.531666]</td>\n",
       "    </tr>\n",
       "    <tr>\n",
       "      <th>2</th>\n",
       "      <td>front_pocket</td>\n",
       "      <td>green</td>\n",
       "      <td>[0.3360001, 16.016668, 39.495]</td>\n",
       "    </tr>\n",
       "  </tbody>\n",
       "</table>\n",
       "</div>"
      ],
      "text/plain": [
       "  subpocket.name subpocket.color                subpocket.center\n",
       "0   hinge_region         magenta  [2.1213334, 21.789667, 42.245]\n",
       "1     dfg_region  cornflowerblue   [7.789667, 19.974, 34.531666]\n",
       "2   front_pocket           green  [0.3360001, 16.016668, 39.495]"
      ]
     },
     "execution_count": 33,
     "metadata": {},
     "output_type": "execute_result"
    }
   ],
   "source": [
    "pocket.subpockets"
   ]
  },
  {
   "cell_type": "code",
   "execution_count": 34,
   "metadata": {},
   "outputs": [
    {
     "data": {
      "text/plain": [
       "array([ 1.2212896, 20.75234  , 37.10209  ], dtype=float32)"
      ]
     },
     "execution_count": 34,
     "metadata": {},
     "output_type": "execute_result"
    }
   ],
   "source": [
    "pocket.center"
   ]
  },
  {
   "cell_type": "code",
   "execution_count": 35,
   "metadata": {},
   "outputs": [
    {
     "data": {
      "text/html": [
       "<div>\n",
       "<style scoped>\n",
       "    .dataframe tbody tr th:only-of-type {\n",
       "        vertical-align: middle;\n",
       "    }\n",
       "\n",
       "    .dataframe tbody tr th {\n",
       "        vertical-align: top;\n",
       "    }\n",
       "\n",
       "    .dataframe thead th {\n",
       "        text-align: right;\n",
       "    }\n",
       "</style>\n",
       "<table border=\"1\" class=\"dataframe\">\n",
       "  <thead>\n",
       "    <tr style=\"text-align: right;\">\n",
       "      <th></th>\n",
       "      <th>atom.id</th>\n",
       "      <th>atom.name</th>\n",
       "      <th>atom.x</th>\n",
       "      <th>atom.y</th>\n",
       "      <th>atom.z</th>\n",
       "      <th>residue.id</th>\n",
       "      <th>residue.name</th>\n",
       "    </tr>\n",
       "  </thead>\n",
       "  <tbody>\n",
       "    <tr>\n",
       "      <th>83</th>\n",
       "      <td>84</td>\n",
       "      <td>CA</td>\n",
       "      <td>8.781</td>\n",
       "      <td>15.427000</td>\n",
       "      <td>52.654999</td>\n",
       "      <td>47</td>\n",
       "      <td>LYS</td>\n",
       "    </tr>\n",
       "    <tr>\n",
       "      <th>90</th>\n",
       "      <td>91</td>\n",
       "      <td>CA</td>\n",
       "      <td>8.165</td>\n",
       "      <td>13.438000</td>\n",
       "      <td>49.480999</td>\n",
       "      <td>48</td>\n",
       "      <td>LYS</td>\n",
       "    </tr>\n",
       "    <tr>\n",
       "      <th>98</th>\n",
       "      <td>99</td>\n",
       "      <td>CA</td>\n",
       "      <td>4.418</td>\n",
       "      <td>13.458000</td>\n",
       "      <td>48.726002</td>\n",
       "      <td>49</td>\n",
       "      <td>ILE</td>\n",
       "    </tr>\n",
       "    <tr>\n",
       "      <th>106</th>\n",
       "      <td>107</td>\n",
       "      <td>CA</td>\n",
       "      <td>1.952</td>\n",
       "      <td>11.665000</td>\n",
       "      <td>46.456001</td>\n",
       "      <td>50</td>\n",
       "      <td>GLY</td>\n",
       "    </tr>\n",
       "    <tr>\n",
       "      <th>110</th>\n",
       "      <td>111</td>\n",
       "      <td>CA</td>\n",
       "      <td>2.106</td>\n",
       "      <td>8.098000</td>\n",
       "      <td>45.132999</td>\n",
       "      <td>51</td>\n",
       "      <td>CYS</td>\n",
       "    </tr>\n",
       "    <tr>\n",
       "      <th>...</th>\n",
       "      <td>...</td>\n",
       "      <td>...</td>\n",
       "      <td>...</td>\n",
       "      <td>...</td>\n",
       "      <td>...</td>\n",
       "      <td>...</td>\n",
       "      <td>...</td>\n",
       "    </tr>\n",
       "    <tr>\n",
       "      <th>1161</th>\n",
       "      <td>1162</td>\n",
       "      <td>CA</td>\n",
       "      <td>1.693</td>\n",
       "      <td>19.193001</td>\n",
       "      <td>33.804001</td>\n",
       "      <td>185</td>\n",
       "      <td>ASP</td>\n",
       "    </tr>\n",
       "    <tr>\n",
       "      <th>1169</th>\n",
       "      <td>1170</td>\n",
       "      <td>CA</td>\n",
       "      <td>2.614</td>\n",
       "      <td>21.252001</td>\n",
       "      <td>30.752001</td>\n",
       "      <td>186</td>\n",
       "      <td>PHE</td>\n",
       "    </tr>\n",
       "    <tr>\n",
       "      <th>1180</th>\n",
       "      <td>1181</td>\n",
       "      <td>CA</td>\n",
       "      <td>5.843</td>\n",
       "      <td>19.372000</td>\n",
       "      <td>29.906000</td>\n",
       "      <td>187</td>\n",
       "      <td>ALA</td>\n",
       "    </tr>\n",
       "    <tr>\n",
       "      <th>1185</th>\n",
       "      <td>1186</td>\n",
       "      <td>CA</td>\n",
       "      <td>4.296</td>\n",
       "      <td>17.972000</td>\n",
       "      <td>26.721001</td>\n",
       "      <td>188</td>\n",
       "      <td>LEU</td>\n",
       "    </tr>\n",
       "    <tr>\n",
       "      <th>1193</th>\n",
       "      <td>1194</td>\n",
       "      <td>CA</td>\n",
       "      <td>2.729</td>\n",
       "      <td>21.231001</td>\n",
       "      <td>25.506001</td>\n",
       "      <td>189</td>\n",
       "      <td>ALA</td>\n",
       "    </tr>\n",
       "  </tbody>\n",
       "</table>\n",
       "<p>83 rows × 7 columns</p>\n",
       "</div>"
      ],
      "text/plain": [
       "      atom.id atom.name  atom.x     atom.y     atom.z  residue.id residue.name\n",
       "83         84        CA   8.781  15.427000  52.654999          47          LYS\n",
       "90         91        CA   8.165  13.438000  49.480999          48          LYS\n",
       "98         99        CA   4.418  13.458000  48.726002          49          ILE\n",
       "106       107        CA   1.952  11.665000  46.456001          50          GLY\n",
       "110       111        CA   2.106   8.098000  45.132999          51          CYS\n",
       "...       ...       ...     ...        ...        ...         ...          ...\n",
       "1161     1162        CA   1.693  19.193001  33.804001         185          ASP\n",
       "1169     1170        CA   2.614  21.252001  30.752001         186          PHE\n",
       "1180     1181        CA   5.843  19.372000  29.906000         187          ALA\n",
       "1185     1186        CA   4.296  17.972000  26.721001         188          LEU\n",
       "1193     1194        CA   2.729  21.231001  25.506001         189          ALA\n",
       "\n",
       "[83 rows x 7 columns]"
      ]
     },
     "execution_count": 35,
     "metadata": {},
     "output_type": "execute_result"
    }
   ],
   "source": [
    "pocket.ca_atoms"
   ]
  },
  {
   "cell_type": "code",
   "execution_count": 36,
   "metadata": {},
   "outputs": [],
   "source": [
    "import numpy as np"
   ]
  },
  {
   "cell_type": "code",
   "execution_count": 37,
   "metadata": {},
   "outputs": [
    {
     "data": {
      "text/html": [
       "<div>\n",
       "<style scoped>\n",
       "    .dataframe tbody tr th:only-of-type {\n",
       "        vertical-align: middle;\n",
       "    }\n",
       "\n",
       "    .dataframe tbody tr th {\n",
       "        vertical-align: top;\n",
       "    }\n",
       "\n",
       "    .dataframe thead th {\n",
       "        text-align: right;\n",
       "    }\n",
       "</style>\n",
       "<table border=\"1\" class=\"dataframe\">\n",
       "  <thead>\n",
       "    <tr style=\"text-align: right;\">\n",
       "      <th></th>\n",
       "      <th>hinge_region</th>\n",
       "      <th>dfg_region</th>\n",
       "      <th>front_pocket</th>\n",
       "      <th>center</th>\n",
       "    </tr>\n",
       "    <tr>\n",
       "      <th>residue.id</th>\n",
       "      <th></th>\n",
       "      <th></th>\n",
       "      <th></th>\n",
       "      <th></th>\n",
       "    </tr>\n",
       "  </thead>\n",
       "  <tbody>\n",
       "    <tr>\n",
       "      <th>47</th>\n",
       "      <td>13.899741</td>\n",
       "      <td>18.711311</td>\n",
       "      <td>15.647726</td>\n",
       "      <td>18.094239</td>\n",
       "    </tr>\n",
       "    <tr>\n",
       "      <th>48</th>\n",
       "      <td>12.595076</td>\n",
       "      <td>16.320011</td>\n",
       "      <td>12.948474</td>\n",
       "      <td>15.967220</td>\n",
       "    </tr>\n",
       "    <tr>\n",
       "      <th>49</th>\n",
       "      <td>10.802534</td>\n",
       "      <td>15.978285</td>\n",
       "      <td>10.412537</td>\n",
       "      <td>14.090483</td>\n",
       "    </tr>\n",
       "    <tr>\n",
       "      <th>50</th>\n",
       "      <td>10.966773</td>\n",
       "      <td>15.662300</td>\n",
       "      <td>8.366841</td>\n",
       "      <td>13.061752</td>\n",
       "    </tr>\n",
       "    <tr>\n",
       "      <th>51</th>\n",
       "      <td>13.992946</td>\n",
       "      <td>16.903602</td>\n",
       "      <td>9.880550</td>\n",
       "      <td>15.013680</td>\n",
       "    </tr>\n",
       "    <tr>\n",
       "      <th>...</th>\n",
       "      <td>...</td>\n",
       "      <td>...</td>\n",
       "      <td>...</td>\n",
       "      <td>...</td>\n",
       "    </tr>\n",
       "    <tr>\n",
       "      <th>185</th>\n",
       "      <td>8.841753</td>\n",
       "      <td>6.189411</td>\n",
       "      <td>6.657176</td>\n",
       "      <td>3.678510</td>\n",
       "    </tr>\n",
       "    <tr>\n",
       "      <th>186</th>\n",
       "      <td>11.516111</td>\n",
       "      <td>6.535035</td>\n",
       "      <td>10.442127</td>\n",
       "      <td>6.520193</td>\n",
       "    </tr>\n",
       "    <tr>\n",
       "      <th>187</th>\n",
       "      <td>13.112849</td>\n",
       "      <td>5.054572</td>\n",
       "      <td>11.555700</td>\n",
       "      <td>8.663096</td>\n",
       "    </tr>\n",
       "    <tr>\n",
       "      <th>188</th>\n",
       "      <td>16.133762</td>\n",
       "      <td>8.787503</td>\n",
       "      <td>13.515915</td>\n",
       "      <td>11.178154</td>\n",
       "    </tr>\n",
       "    <tr>\n",
       "      <th>189</th>\n",
       "      <td>16.759339</td>\n",
       "      <td>10.423677</td>\n",
       "      <td>15.119781</td>\n",
       "      <td>11.703486</td>\n",
       "    </tr>\n",
       "  </tbody>\n",
       "</table>\n",
       "<p>83 rows × 4 columns</p>\n",
       "</div>"
      ],
      "text/plain": [
       "            hinge_region  dfg_region  front_pocket     center\n",
       "residue.id                                                   \n",
       "47             13.899741   18.711311     15.647726  18.094239\n",
       "48             12.595076   16.320011     12.948474  15.967220\n",
       "49             10.802534   15.978285     10.412537  14.090483\n",
       "50             10.966773   15.662300      8.366841  13.061752\n",
       "51             13.992946   16.903602      9.880550  15.013680\n",
       "...                  ...         ...           ...        ...\n",
       "185             8.841753    6.189411      6.657176   3.678510\n",
       "186            11.516111    6.535035     10.442127   6.520193\n",
       "187            13.112849    5.054572     11.555700   8.663096\n",
       "188            16.133762    8.787503     13.515915  11.178154\n",
       "189            16.759339   10.423677     15.119781  11.703486\n",
       "\n",
       "[83 rows x 4 columns]"
      ]
     },
     "execution_count": 37,
     "metadata": {},
     "output_type": "execute_result"
    }
   ],
   "source": [
    "distances = {}\n",
    "\n",
    "# Subpockets\n",
    "for _, subpocket in pocket.subpockets.iterrows():\n",
    "    distances[subpocket[\"subpocket.name\"]] = []\n",
    "    for _, ca_atom in pocket.ca_atoms.iterrows():\n",
    "        subpocket_center_coord = subpocket[\"subpocket.center\"]\n",
    "        ca_atom_coord = ca_atom[[\"atom.x\", \"atom.y\", \"atom.z\"]].to_numpy()\n",
    "        distance = np.linalg.norm(subpocket_center_coord - ca_atom_coord)\n",
    "        distances[subpocket[\"subpocket.name\"]].append(distance)\n",
    "\n",
    "# Pocket center\n",
    "distances[\"center\"] = []\n",
    "for _, ca_atom in pocket.ca_atoms.iterrows():\n",
    "    ca_atom_coord = ca_atom[[\"atom.x\", \"atom.y\", \"atom.z\"]].to_numpy()\n",
    "    distance = np.linalg.norm(pocket.center - ca_atom_coord)\n",
    "    distances[\"center\"].append(distance)\n",
    "\n",
    "pd.DataFrame(distances, index=pocket.ca_atoms[\"residue.id\"])"
   ]
  }
 ],
 "metadata": {
  "kernelspec": {
   "display_name": "Python 3",
   "language": "python",
   "name": "python3"
  },
  "language_info": {
   "codemirror_mode": {
    "name": "ipython",
    "version": 3
   },
   "file_extension": ".py",
   "mimetype": "text/x-python",
   "name": "python",
   "nbconvert_exporter": "python",
   "pygments_lexer": "ipython3",
   "version": "3.8.6"
  }
 },
 "nbformat": 4,
 "nbformat_minor": 4
}
