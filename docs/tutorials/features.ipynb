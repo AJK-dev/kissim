{
 "cells": [
  {
   "cell_type": "markdown",
   "metadata": {},
   "source": [
    "# The `features` module"
   ]
  },
  {
   "cell_type": "code",
   "execution_count": 1,
   "metadata": {},
   "outputs": [],
   "source": [
    "%load_ext autoreload\n",
    "%autoreload 2"
   ]
  },
  {
   "cell_type": "code",
   "execution_count": 2,
   "metadata": {},
   "outputs": [
    {
     "name": "stderr",
     "output_type": "stream",
     "text": [
      "INFO:opencadd.databases.klifs.api:If you want to see an non-truncated version of the DataFrames in this module, use `pd.set_option('display.max_columns', 50)` in your notebook.\n",
      "INFO:opencadd.databases.klifs.api:Set up remote session...\n",
      "INFO:opencadd.databases.klifs.api:Remote session is ready!\n"
     ]
    }
   ],
   "source": [
    "from opencadd.databases.klifs import setup_remote\n",
    "REMOTE = setup_remote()"
   ]
  },
  {
   "cell_type": "markdown",
   "metadata": {},
   "source": [
    "## Load pocket as `PocketBioPython`"
   ]
  },
  {
   "cell_type": "code",
   "execution_count": 3,
   "metadata": {},
   "outputs": [],
   "source": [
    "from kissim.io import PocketBioPython\n",
    "pocket_bp = PocketBioPython.from_remote(12347, REMOTE)"
   ]
  },
  {
   "cell_type": "markdown",
   "metadata": {},
   "source": [
    "## Load pocket as `PocketDataFrame`"
   ]
  },
  {
   "cell_type": "code",
   "execution_count": 4,
   "metadata": {},
   "outputs": [],
   "source": [
    "from kissim.io import PocketDataFrame\n",
    "pocket_df = PocketDataFrame.from_remote(12347, REMOTE)"
   ]
  },
  {
   "cell_type": "markdown",
   "metadata": {},
   "source": [
    "## Subpocket distances (WIP)"
   ]
  },
  {
   "cell_type": "code",
   "execution_count": 5,
   "metadata": {},
   "outputs": [
    {
     "data": {
      "application/vnd.jupyter.widget-view+json": {
       "model_id": "4966343487bc49bb9954e47952f40c1e",
       "version_major": 2,
       "version_minor": 0
      },
      "text/plain": []
     },
     "metadata": {},
     "output_type": "display_data"
    }
   ],
   "source": [
    "from opencadd.structure.pocket import KlifsPocket\n",
    "from kissim.definitions import ANCHOR_RESIDUES"
   ]
  },
  {
   "cell_type": "code",
   "execution_count": 6,
   "metadata": {},
   "outputs": [
    {
     "data": {
      "text/html": [
       "<div>\n",
       "<style scoped>\n",
       "    .dataframe tbody tr th:only-of-type {\n",
       "        vertical-align: middle;\n",
       "    }\n",
       "\n",
       "    .dataframe tbody tr th {\n",
       "        vertical-align: top;\n",
       "    }\n",
       "\n",
       "    .dataframe thead th {\n",
       "        text-align: right;\n",
       "    }\n",
       "</style>\n",
       "<table border=\"1\" class=\"dataframe\">\n",
       "  <thead>\n",
       "    <tr style=\"text-align: right;\">\n",
       "      <th></th>\n",
       "      <th>anchor_residue.klifs_ids</th>\n",
       "      <th>subpocket.name</th>\n",
       "      <th>subpocket.color</th>\n",
       "    </tr>\n",
       "  </thead>\n",
       "  <tbody>\n",
       "    <tr>\n",
       "      <th>0</th>\n",
       "      <td>[16, 47, 80]</td>\n",
       "      <td>hinge_region</td>\n",
       "      <td>magenta</td>\n",
       "    </tr>\n",
       "    <tr>\n",
       "      <th>1</th>\n",
       "      <td>[19, 24, 81]</td>\n",
       "      <td>dfg_region</td>\n",
       "      <td>cornflowerblue</td>\n",
       "    </tr>\n",
       "    <tr>\n",
       "      <th>2</th>\n",
       "      <td>[6, 48, 75]</td>\n",
       "      <td>front_pocket</td>\n",
       "      <td>green</td>\n",
       "    </tr>\n",
       "  </tbody>\n",
       "</table>\n",
       "</div>"
      ],
      "text/plain": [
       "  anchor_residue.klifs_ids subpocket.name subpocket.color\n",
       "0             [16, 47, 80]   hinge_region         magenta\n",
       "1             [19, 24, 81]     dfg_region  cornflowerblue\n",
       "2              [6, 48, 75]   front_pocket           green"
      ]
     },
     "execution_count": 6,
     "metadata": {},
     "output_type": "execute_result"
    }
   ],
   "source": [
    "import pandas as pd\n",
    "subpockets = pd.DataFrame(\n",
    "    {\n",
    "        \"anchor_residue.klifs_ids\": ANCHOR_RESIDUES.values(), \n",
    "        \"subpocket.name\": ANCHOR_RESIDUES.keys(), \n",
    "        \"subpocket.color\": [\"magenta\", \"cornflowerblue\", \"green\"]\n",
    "    }\n",
    ")\n",
    "subpockets"
   ]
  },
  {
   "cell_type": "code",
   "execution_count": 7,
   "metadata": {},
   "outputs": [
    {
     "name": "stderr",
     "output_type": "stream",
     "text": [
      "INFO:opencadd.databases.klifs.api:Set up remote session...\n",
      "INFO:opencadd.databases.klifs.api:Remote session is ready!\n",
      "INFO:opencadd.structure.pocket.core:The pocket centroid is calculated based on 85 CA atoms.\n"
     ]
    },
    {
     "data": {
      "application/vnd.jupyter.widget-view+json": {
       "model_id": "e9cbe6dbce7c49c0a18cb3441020f7b6",
       "version_major": 2,
       "version_minor": 0
      },
      "text/plain": [
       "NGLWidget()"
      ]
     },
     "metadata": {},
     "output_type": "display_data"
    }
   ],
   "source": [
    "pocket = KlifsPocket.from_structure_klifs_id(3834, subpockets)\n",
    "pocket.visualize()"
   ]
  },
  {
   "cell_type": "code",
   "execution_count": 8,
   "metadata": {},
   "outputs": [
    {
     "data": {
      "text/html": [
       "<div>\n",
       "<style scoped>\n",
       "    .dataframe tbody tr th:only-of-type {\n",
       "        vertical-align: middle;\n",
       "    }\n",
       "\n",
       "    .dataframe tbody tr th {\n",
       "        vertical-align: top;\n",
       "    }\n",
       "\n",
       "    .dataframe thead th {\n",
       "        text-align: right;\n",
       "    }\n",
       "</style>\n",
       "<table border=\"1\" class=\"dataframe\">\n",
       "  <thead>\n",
       "    <tr style=\"text-align: right;\">\n",
       "      <th></th>\n",
       "      <th>subpocket.name</th>\n",
       "      <th>subpocket.color</th>\n",
       "      <th>subpocket.center</th>\n",
       "    </tr>\n",
       "  </thead>\n",
       "  <tbody>\n",
       "    <tr>\n",
       "      <th>0</th>\n",
       "      <td>hinge_region</td>\n",
       "      <td>magenta</td>\n",
       "      <td>[1.9573334, 21.923666, 41.690002]</td>\n",
       "    </tr>\n",
       "    <tr>\n",
       "      <th>1</th>\n",
       "      <td>dfg_region</td>\n",
       "      <td>cornflowerblue</td>\n",
       "      <td>[7.613333, 20.035334, 33.424667]</td>\n",
       "    </tr>\n",
       "    <tr>\n",
       "      <th>2</th>\n",
       "      <td>front_pocket</td>\n",
       "      <td>green</td>\n",
       "      <td>[-0.55433327, 15.943667, 39.561333]</td>\n",
       "    </tr>\n",
       "  </tbody>\n",
       "</table>\n",
       "</div>"
      ],
      "text/plain": [
       "  subpocket.name subpocket.color                     subpocket.center\n",
       "0   hinge_region         magenta    [1.9573334, 21.923666, 41.690002]\n",
       "1     dfg_region  cornflowerblue     [7.613333, 20.035334, 33.424667]\n",
       "2   front_pocket           green  [-0.55433327, 15.943667, 39.561333]"
      ]
     },
     "execution_count": 8,
     "metadata": {},
     "output_type": "execute_result"
    }
   ],
   "source": [
    "pocket.subpockets"
   ]
  },
  {
   "cell_type": "code",
   "execution_count": 9,
   "metadata": {},
   "outputs": [
    {
     "name": "stderr",
     "output_type": "stream",
     "text": [
      "INFO:opencadd.structure.pocket.core:The pocket centroid is calculated based on 85 CA atoms.\n"
     ]
    },
    {
     "data": {
      "text/plain": [
       "array([ 1.1347996, 20.79171  , 36.30452  ], dtype=float32)"
      ]
     },
     "execution_count": 9,
     "metadata": {},
     "output_type": "execute_result"
    }
   ],
   "source": [
    "pocket.centroid"
   ]
  },
  {
   "cell_type": "code",
   "execution_count": 10,
   "metadata": {},
   "outputs": [
    {
     "data": {
      "text/html": [
       "<div>\n",
       "<style scoped>\n",
       "    .dataframe tbody tr th:only-of-type {\n",
       "        vertical-align: middle;\n",
       "    }\n",
       "\n",
       "    .dataframe tbody tr th {\n",
       "        vertical-align: top;\n",
       "    }\n",
       "\n",
       "    .dataframe thead th {\n",
       "        text-align: right;\n",
       "    }\n",
       "</style>\n",
       "<table border=\"1\" class=\"dataframe\">\n",
       "  <thead>\n",
       "    <tr style=\"text-align: right;\">\n",
       "      <th></th>\n",
       "      <th>atom.id</th>\n",
       "      <th>atom.name</th>\n",
       "      <th>atom.x</th>\n",
       "      <th>atom.y</th>\n",
       "      <th>atom.z</th>\n",
       "      <th>residue.id</th>\n",
       "      <th>residue.name</th>\n",
       "    </tr>\n",
       "  </thead>\n",
       "  <tbody>\n",
       "    <tr>\n",
       "      <th>0</th>\n",
       "      <td>1</td>\n",
       "      <td>N</td>\n",
       "      <td>10.278</td>\n",
       "      <td>4.166000</td>\n",
       "      <td>49.948002</td>\n",
       "      <td>29</td>\n",
       "      <td>GLY</td>\n",
       "    </tr>\n",
       "    <tr>\n",
       "      <th>1</th>\n",
       "      <td>2</td>\n",
       "      <td>CA</td>\n",
       "      <td>11.636</td>\n",
       "      <td>4.659000</td>\n",
       "      <td>50.112000</td>\n",
       "      <td>29</td>\n",
       "      <td>GLY</td>\n",
       "    </tr>\n",
       "    <tr>\n",
       "      <th>2</th>\n",
       "      <td>3</td>\n",
       "      <td>C</td>\n",
       "      <td>11.767</td>\n",
       "      <td>6.134000</td>\n",
       "      <td>49.761002</td>\n",
       "      <td>29</td>\n",
       "      <td>GLY</td>\n",
       "    </tr>\n",
       "    <tr>\n",
       "      <th>3</th>\n",
       "      <td>4</td>\n",
       "      <td>O</td>\n",
       "      <td>12.797</td>\n",
       "      <td>6.757000</td>\n",
       "      <td>50.028999</td>\n",
       "      <td>29</td>\n",
       "      <td>GLY</td>\n",
       "    </tr>\n",
       "    <tr>\n",
       "      <th>4</th>\n",
       "      <td>5</td>\n",
       "      <td>N</td>\n",
       "      <td>10.725</td>\n",
       "      <td>6.701000</td>\n",
       "      <td>49.160000</td>\n",
       "      <td>30</td>\n",
       "      <td>LEU</td>\n",
       "    </tr>\n",
       "    <tr>\n",
       "      <th>...</th>\n",
       "      <td>...</td>\n",
       "      <td>...</td>\n",
       "      <td>...</td>\n",
       "      <td>...</td>\n",
       "      <td>...</td>\n",
       "      <td>...</td>\n",
       "      <td>...</td>\n",
       "    </tr>\n",
       "    <tr>\n",
       "      <th>2636</th>\n",
       "      <td>2638</td>\n",
       "      <td>C10</td>\n",
       "      <td>2.127</td>\n",
       "      <td>17.204000</td>\n",
       "      <td>38.403999</td>\n",
       "      <td>405</td>\n",
       "      <td>KSA</td>\n",
       "    </tr>\n",
       "    <tr>\n",
       "      <th>2637</th>\n",
       "      <td>2639</td>\n",
       "      <td>C11</td>\n",
       "      <td>2.707</td>\n",
       "      <td>17.020000</td>\n",
       "      <td>37.193001</td>\n",
       "      <td>405</td>\n",
       "      <td>KSA</td>\n",
       "    </tr>\n",
       "    <tr>\n",
       "      <th>2638</th>\n",
       "      <td>2640</td>\n",
       "      <td>C14</td>\n",
       "      <td>2.403</td>\n",
       "      <td>19.549000</td>\n",
       "      <td>38.201000</td>\n",
       "      <td>405</td>\n",
       "      <td>KSA</td>\n",
       "    </tr>\n",
       "    <tr>\n",
       "      <th>2639</th>\n",
       "      <td>2641</td>\n",
       "      <td>C13</td>\n",
       "      <td>3.026</td>\n",
       "      <td>19.417000</td>\n",
       "      <td>36.991001</td>\n",
       "      <td>405</td>\n",
       "      <td>KSA</td>\n",
       "    </tr>\n",
       "    <tr>\n",
       "      <th>2640</th>\n",
       "      <td>2642</td>\n",
       "      <td>C12</td>\n",
       "      <td>3.187</td>\n",
       "      <td>18.089001</td>\n",
       "      <td>36.470001</td>\n",
       "      <td>405</td>\n",
       "      <td>KSA</td>\n",
       "    </tr>\n",
       "  </tbody>\n",
       "</table>\n",
       "<p>2641 rows × 7 columns</p>\n",
       "</div>"
      ],
      "text/plain": [
       "      atom.id atom.name  atom.x     atom.y     atom.z residue.id residue.name\n",
       "0           1         N  10.278   4.166000  49.948002         29          GLY\n",
       "1           2        CA  11.636   4.659000  50.112000         29          GLY\n",
       "2           3         C  11.767   6.134000  49.761002         29          GLY\n",
       "3           4         O  12.797   6.757000  50.028999         29          GLY\n",
       "4           5         N  10.725   6.701000  49.160000         30          LEU\n",
       "...       ...       ...     ...        ...        ...        ...          ...\n",
       "2636     2638       C10   2.127  17.204000  38.403999        405          KSA\n",
       "2637     2639       C11   2.707  17.020000  37.193001        405          KSA\n",
       "2638     2640       C14   2.403  19.549000  38.201000        405          KSA\n",
       "2639     2641       C13   3.026  19.417000  36.991001        405          KSA\n",
       "2640     2642       C12   3.187  18.089001  36.470001        405          KSA\n",
       "\n",
       "[2641 rows x 7 columns]"
      ]
     },
     "execution_count": 10,
     "metadata": {},
     "output_type": "execute_result"
    }
   ],
   "source": [
    "pocket._data"
   ]
  },
  {
   "cell_type": "markdown",
   "metadata": {},
   "source": [
    "## Side chain orientation"
   ]
  },
  {
   "cell_type": "code",
   "execution_count": 11,
   "metadata": {},
   "outputs": [],
   "source": [
    "from kissim.encoding.features.sco import SideChainOrientationFeature"
   ]
  },
  {
   "cell_type": "code",
   "execution_count": 12,
   "metadata": {},
   "outputs": [],
   "source": [
    "sco = SideChainOrientationFeature.from_pocket(pocket_bp)"
   ]
  },
  {
   "cell_type": "code",
   "execution_count": 13,
   "metadata": {},
   "outputs": [],
   "source": [
    "sco = SideChainOrientationFeature.from_structure_klifs_id(12347, REMOTE)"
   ]
  },
  {
   "cell_type": "markdown",
   "metadata": {},
   "source": [
    "### Class attributes"
   ]
  },
  {
   "cell_type": "code",
   "execution_count": 14,
   "metadata": {},
   "outputs": [
    {
     "name": "stdout",
     "output_type": "stream",
     "text": [
      "461 462 463 468 469 470 471 472 473 480 481 482 483 484 485 497 498 499 500 501 502 503 504 505 506 507 508 509 511 512 513 514 515 516 517 518 519 526 527 528 529 530 531 532 533 534 535 536 537 538 539 540 541 542 543 566 567 568 569 570 571 572 573 574 575 576 577 578 579 580 581 582 583 584 592 593 594 595\n"
     ]
    }
   ],
   "source": [
    "print(*sco._residue_ids)"
   ]
  },
  {
   "cell_type": "code",
   "execution_count": 15,
   "metadata": {},
   "outputs": [
    {
     "name": "stdout",
     "output_type": "stream",
     "text": [
      "1.0 nan nan 2.0 nan 2.0 1.0 nan nan 2.0 0.0 2.0 nan nan nan 1.0 1.0 nan 2.0 nan 2.0 nan 1.0 nan nan 2.0 0.0 2.0 2.0 2.0 2.0 0.0 2.0 2.0 2.0 nan 2.0 2.0 1.0 2.0 0.0 1.0 2.0 0.0 nan nan 2.0 2.0 2.0 2.0 2.0 1.0 nan 1.0 0.0 1.0 0.0 1.0 2.0 1.0 2.0 1.0 2.0 0.0 2.0 1.0 2.0 1.0 nan 2.0 1.0 2.0 2.0 2.0 2.0 nan 2.0 1.0\n"
     ]
    }
   ],
   "source": [
    "print(*sco._categories)"
   ]
  },
  {
   "cell_type": "code",
   "execution_count": 16,
   "metadata": {},
   "outputs": [
    {
     "name": "stdout",
     "output_type": "stream",
     "text": [
      "84.43634320797315 nan nan 138.41070678639875 nan 150.69852081699418 45.24506235374276 nan nan 97.18224591861701 42.7171640791292 160.94719014562634 nan nan nan 83.08520899103792 69.17007309538454 nan 96.18795253124387 nan 127.18687421489133 nan 69.8645863476361 nan nan 116.47795356345232 19.552063171462777 118.45486321068974 154.666946496114 150.37636982049693 92.60236739634725 43.29404750327634 160.29403467330314 120.89862214424804 110.42087228799096 nan 128.83818867750998 109.65952091402973 59.34356407787748 165.78833592095822 7.019169257832821 77.18360997869439 117.90329699677812 15.988058453389012 nan nan 143.6123356732296 100.50798356507362 109.54677926141883 113.29583323153793 109.01869697036146 72.6404360609924 nan 69.85213002782336 42.93083244840415 73.50585445162793 18.293892536851374 85.75932843864183 92.25968401478761 57.239589687100334 172.84710331169467 72.87397651098915 156.4794300679326 37.81829741138075 109.26369865542082 79.63479790374275 102.796637731654 63.8290866023029 nan 99.03962092788386 80.75578932524729 126.26685841826053 92.05348140746688 128.39832506330396 149.73981142972815 nan 92.78498477044577 59.26653953159822\n"
     ]
    }
   ],
   "source": [
    "print(*sco._vertex_angles)"
   ]
  },
  {
   "cell_type": "code",
   "execution_count": 17,
   "metadata": {},
   "outputs": [
    {
     "name": "stdout",
     "output_type": "stream",
     "text": [
      "<Vector 0.83, 21.62, 36.45>\n"
     ]
    }
   ],
   "source": [
    "print(sco._centroid)"
   ]
  },
  {
   "cell_type": "code",
   "execution_count": 18,
   "metadata": {},
   "outputs": [
    {
     "name": "stdout",
     "output_type": "stream",
     "text": [
      "<Vector 8.81, 16.81, 51.66> <Vector 8.91, 14.91, 48.36> <Vector 5.48, 13.77, 47.17> <Vector 9.01, 12.20, 35.42> <Vector 10.82, 14.70, 37.66> <Vector 11.03, 15.03, 41.43> <Vector 8.14, 16.88, 43.10> <Vector 8.32, 18.38, 46.59> <Vector 5.94, 20.35, 48.81> <Vector 3.90, 25.86, 47.29> <Vector 4.92, 22.87, 45.17> <Vector 8.33, 22.78, 43.46> <Vector 9.26, 20.28, 40.75> <Vector 13.01, 19.87, 40.20> <Vector 15.03, 17.46, 38.07> <Vector 13.70, 22.76, 27.11> <Vector 13.26, 24.33, 30.56> <Vector 13.41, 27.83, 29.06> <Vector 10.73, 26.87, 26.53> <Vector 8.52, 25.29, 29.22> <Vector 8.88, 28.38, 31.44> <Vector 7.99, 30.63, 28.52> <Vector 4.91, 28.51, 27.83> <Vector 3.86, 28.51, 31.50> <Vector 4.42, 32.24, 32.12> <Vector 1.46, 33.35, 29.96> <Vector -1.24, 31.45, 31.93> <Vector -3.62, 33.14, 34.40> <Vector -8.74, 29.90, 38.02> <Vector -9.01, 26.48, 36.33> <Vector -5.33, 26.41, 35.29> <Vector -2.58, 25.68, 37.81> <Vector -1.00, 28.88, 39.12> <Vector 2.64, 29.07, 38.05> <Vector 4.55, 31.17, 40.59> <Vector 8.18, 31.11, 39.45> <Vector 11.24, 29.23, 38.28> <Vector 12.88, 23.72, 38.82> <Vector 9.37, 25.17, 38.56> <Vector 7.51, 26.45, 41.65> <Vector 3.69, 26.68, 41.57> <Vector 0.92, 26.91, 44.14> <Vector -0.00, 24.11, 46.55> <Vector -3.53, 22.68, 46.33> <Vector -5.15, 20.29, 48.81> <Vector -6.82, 17.23, 47.30> <Vector -6.04, 14.55, 44.73> <Vector -6.29, 13.95, 40.99> <Vector -9.61, 13.23, 39.30> <Vector -8.16, 9.83, 38.34> <Vector -7.69, 9.01, 42.03> <Vector -11.13, 10.38, 42.96> <Vector -13.15, 8.49, 40.33> <Vector -11.12, 5.30, 39.76> <Vector -9.03, 4.67, 42.88> <Vector -8.41, 29.27, 27.77> <Vector -5.36, 27.26, 26.69> <Vector -6.51, 26.98, 23.06> <Vector -7.40, 30.68, 22.90> <Vector -3.68, 31.32, 23.48> <Vector -2.71, 28.62, 20.94> <Vector -1.32, 26.50, 23.78> <Vector -1.43, 22.76, 23.09> <Vector -1.78, 20.55, 26.17> <Vector -0.31, 17.40, 24.68> <Vector -0.67, 15.11, 27.71> <Vector -4.22, 15.90, 28.84> <Vector -5.58, 13.10, 31.03> <Vector -7.80, 12.64, 34.06> <Vector -4.68, 11.96, 36.15> <Vector -3.35, 15.47, 35.42> <Vector -6.62, 17.09, 36.56> <Vector -6.27, 18.11, 40.21> <Vector -9.36, 18.82, 42.32> <Vector -4.69, 21.47, 35.20> <Vector -0.96, 20.89, 35.01> <Vector 1.83, 18.43, 34.14> <Vector 2.38, 19.71, 30.60>\n"
     ]
    }
   ],
   "source": [
    "print(*sco._ca_atoms)"
   ]
  },
  {
   "cell_type": "code",
   "execution_count": 19,
   "metadata": {},
   "outputs": [
    {
     "name": "stdout",
     "output_type": "stream",
     "text": [
      "<Vector 5.63, 14.81, 52.26> None None <Vector 14.05, 11.55, 35.02> None <Vector 12.36, 15.01, 42.17> <Vector 6.69, 16.56, 42.66> None None <Vector 4.92, 26.91, 46.80> <Vector 3.80, 22.02, 44.56> <Vector 9.51, 23.39, 44.24> None None None <Vector 13.73, 21.25, 27.27> <Vector 13.03, 26.24, 35.27> None <Vector 9.66, 25.81, 24.50> None <Vector 10.18, 28.90, 32.07> None <Vector 4.89, 27.05, 27.37> None None <Vector 1.30, 33.11, 24.08> <Vector -0.94, 29.95, 32.06> <Vector -2.00, 35.10, 34.50> <Vector -10.14, 30.33, 38.49> <Vector -11.50, 26.40, 35.86> <Vector -5.64, 25.53, 32.39> <Vector -0.72, 24.29, 38.99> <Vector -1.02, 31.00, 40.63> <Vector 6.82, 31.25, 36.05> <Vector 3.43, 31.54, 45.08> None <Vector 13.61, 33.86, 34.43> <Vector 13.14, 23.57, 40.32> <Vector 8.51, 24.08, 34.92> <Vector 8.25, 27.35, 42.65> <Vector 2.97, 25.78, 40.56> <Vector -2.69, 27.43, 42.78> <Vector -0.04, 20.71, 49.59> <Vector -3.01, 21.92, 43.68> None None <Vector -5.86, 12.92, 46.53> <Vector -5.02, 11.90, 40.66> <Vector -11.48, 13.52, 37.49> <Vector -5.42, 4.20, 36.62> <Vector -7.21, 8.78, 46.44> <Vector -11.08, 13.92, 45.60> None <Vector -11.86, 6.88, 35.93> <Vector -7.72, 5.39, 43.20> <Vector -4.75, 33.62, 30.84> <Vector -4.72, 25.57, 28.55> <Vector -7.70, 22.48, 22.33> <Vector -8.27, 31.47, 23.88> <Vector -2.86, 33.58, 29.30> <Vector -2.97, 29.78, 18.82> <Vector 0.86, 28.28, 25.10> <Vector -0.52, 22.79, 19.31> <Vector -1.61, 18.42, 29.78> <Vector 1.52, 18.43, 23.23> <Vector 0.44, 13.47, 29.32> <Vector -6.55, 16.93, 28.81> <Vector -0.29, 11.79, 32.27> None <Vector -2.90, 10.45, 37.13> <Vector -1.45, 14.94, 33.83> <Vector -9.10, 16.66, 33.60> <Vector -4.06, 18.10, 44.81> <Vector -11.45, 17.57, 41.42> <Vector -7.54, 21.40, 32.54> None <Vector 1.72, 16.82, 36.09> <Vector 0.31, 24.33, 31.38>\n"
     ]
    }
   ],
   "source": [
    "print(*sco._sc_atoms)"
   ]
  },
  {
   "cell_type": "markdown",
   "metadata": {},
   "source": [
    "### Class properties"
   ]
  },
  {
   "cell_type": "code",
   "execution_count": 20,
   "metadata": {},
   "outputs": [
    {
     "name": "stdout",
     "output_type": "stream",
     "text": [
      "1.0 nan nan 2.0 nan 2.0 1.0 nan nan 2.0 0.0 2.0 nan nan nan 1.0 1.0 nan 2.0 nan 2.0 nan 1.0 nan nan 2.0 0.0 2.0 2.0 2.0 2.0 0.0 2.0 2.0 2.0 nan 2.0 2.0 1.0 2.0 0.0 1.0 2.0 0.0 nan nan 2.0 2.0 2.0 2.0 2.0 1.0 nan 1.0 0.0 1.0 0.0 1.0 2.0 1.0 2.0 1.0 2.0 0.0 2.0 1.0 2.0 1.0 nan 2.0 1.0 2.0 2.0 2.0 2.0 nan 2.0 1.0\n"
     ]
    }
   ],
   "source": [
    "print(*sco.values)"
   ]
  },
  {
   "cell_type": "code",
   "execution_count": 21,
   "metadata": {},
   "outputs": [
    {
     "data": {
      "text/html": [
       "<div>\n",
       "<style scoped>\n",
       "    .dataframe tbody tr th:only-of-type {\n",
       "        vertical-align: middle;\n",
       "    }\n",
       "\n",
       "    .dataframe tbody tr th {\n",
       "        vertical-align: top;\n",
       "    }\n",
       "\n",
       "    .dataframe thead th {\n",
       "        text-align: right;\n",
       "    }\n",
       "</style>\n",
       "<table border=\"1\" class=\"dataframe\">\n",
       "  <thead>\n",
       "    <tr style=\"text-align: right;\">\n",
       "      <th></th>\n",
       "      <th>sco.category</th>\n",
       "      <th>sco.angle</th>\n",
       "      <th>ca.vector</th>\n",
       "      <th>sc.vector</th>\n",
       "      <th>centroid</th>\n",
       "    </tr>\n",
       "  </thead>\n",
       "  <tbody>\n",
       "    <tr>\n",
       "      <th>461</th>\n",
       "      <td>1.0</td>\n",
       "      <td>84.436343</td>\n",
       "      <td>&lt;Vector 8.81, 16.81, 51.66&gt;</td>\n",
       "      <td>&lt;Vector 5.63, 14.81, 52.26&gt;</td>\n",
       "      <td>&lt;Vector 0.83, 21.62, 36.45&gt;</td>\n",
       "    </tr>\n",
       "    <tr>\n",
       "      <th>462</th>\n",
       "      <td>NaN</td>\n",
       "      <td>NaN</td>\n",
       "      <td>&lt;Vector 8.91, 14.91, 48.36&gt;</td>\n",
       "      <td>None</td>\n",
       "      <td>&lt;Vector 0.83, 21.62, 36.45&gt;</td>\n",
       "    </tr>\n",
       "    <tr>\n",
       "      <th>463</th>\n",
       "      <td>NaN</td>\n",
       "      <td>NaN</td>\n",
       "      <td>&lt;Vector 5.48, 13.77, 47.17&gt;</td>\n",
       "      <td>None</td>\n",
       "      <td>&lt;Vector 0.83, 21.62, 36.45&gt;</td>\n",
       "    </tr>\n",
       "    <tr>\n",
       "      <th>468</th>\n",
       "      <td>2.0</td>\n",
       "      <td>138.410707</td>\n",
       "      <td>&lt;Vector 9.01, 12.20, 35.42&gt;</td>\n",
       "      <td>&lt;Vector 14.05, 11.55, 35.02&gt;</td>\n",
       "      <td>&lt;Vector 0.83, 21.62, 36.45&gt;</td>\n",
       "    </tr>\n",
       "    <tr>\n",
       "      <th>469</th>\n",
       "      <td>NaN</td>\n",
       "      <td>NaN</td>\n",
       "      <td>&lt;Vector 10.82, 14.70, 37.66&gt;</td>\n",
       "      <td>None</td>\n",
       "      <td>&lt;Vector 0.83, 21.62, 36.45&gt;</td>\n",
       "    </tr>\n",
       "    <tr>\n",
       "      <th>...</th>\n",
       "      <td>...</td>\n",
       "      <td>...</td>\n",
       "      <td>...</td>\n",
       "      <td>...</td>\n",
       "      <td>...</td>\n",
       "    </tr>\n",
       "    <tr>\n",
       "      <th>584</th>\n",
       "      <td>2.0</td>\n",
       "      <td>128.398325</td>\n",
       "      <td>&lt;Vector -9.36, 18.82, 42.32&gt;</td>\n",
       "      <td>&lt;Vector -11.45, 17.57, 41.42&gt;</td>\n",
       "      <td>&lt;Vector 0.83, 21.62, 36.45&gt;</td>\n",
       "    </tr>\n",
       "    <tr>\n",
       "      <th>592</th>\n",
       "      <td>2.0</td>\n",
       "      <td>149.739811</td>\n",
       "      <td>&lt;Vector -4.69, 21.47, 35.20&gt;</td>\n",
       "      <td>&lt;Vector -7.54, 21.40, 32.54&gt;</td>\n",
       "      <td>&lt;Vector 0.83, 21.62, 36.45&gt;</td>\n",
       "    </tr>\n",
       "    <tr>\n",
       "      <th>593</th>\n",
       "      <td>NaN</td>\n",
       "      <td>NaN</td>\n",
       "      <td>&lt;Vector -0.96, 20.89, 35.01&gt;</td>\n",
       "      <td>None</td>\n",
       "      <td>&lt;Vector 0.83, 21.62, 36.45&gt;</td>\n",
       "    </tr>\n",
       "    <tr>\n",
       "      <th>594</th>\n",
       "      <td>2.0</td>\n",
       "      <td>92.784985</td>\n",
       "      <td>&lt;Vector 1.83, 18.43, 34.14&gt;</td>\n",
       "      <td>&lt;Vector 1.72, 16.82, 36.09&gt;</td>\n",
       "      <td>&lt;Vector 0.83, 21.62, 36.45&gt;</td>\n",
       "    </tr>\n",
       "    <tr>\n",
       "      <th>595</th>\n",
       "      <td>1.0</td>\n",
       "      <td>59.266540</td>\n",
       "      <td>&lt;Vector 2.38, 19.71, 30.60&gt;</td>\n",
       "      <td>&lt;Vector 0.31, 24.33, 31.38&gt;</td>\n",
       "      <td>&lt;Vector 0.83, 21.62, 36.45&gt;</td>\n",
       "    </tr>\n",
       "  </tbody>\n",
       "</table>\n",
       "<p>78 rows × 5 columns</p>\n",
       "</div>"
      ],
      "text/plain": [
       "     sco.category   sco.angle                     ca.vector  \\\n",
       "461           1.0   84.436343   <Vector 8.81, 16.81, 51.66>   \n",
       "462           NaN         NaN   <Vector 8.91, 14.91, 48.36>   \n",
       "463           NaN         NaN   <Vector 5.48, 13.77, 47.17>   \n",
       "468           2.0  138.410707   <Vector 9.01, 12.20, 35.42>   \n",
       "469           NaN         NaN  <Vector 10.82, 14.70, 37.66>   \n",
       "..            ...         ...                           ...   \n",
       "584           2.0  128.398325  <Vector -9.36, 18.82, 42.32>   \n",
       "592           2.0  149.739811  <Vector -4.69, 21.47, 35.20>   \n",
       "593           NaN         NaN  <Vector -0.96, 20.89, 35.01>   \n",
       "594           2.0   92.784985   <Vector 1.83, 18.43, 34.14>   \n",
       "595           1.0   59.266540   <Vector 2.38, 19.71, 30.60>   \n",
       "\n",
       "                         sc.vector                     centroid  \n",
       "461    <Vector 5.63, 14.81, 52.26>  <Vector 0.83, 21.62, 36.45>  \n",
       "462                           None  <Vector 0.83, 21.62, 36.45>  \n",
       "463                           None  <Vector 0.83, 21.62, 36.45>  \n",
       "468   <Vector 14.05, 11.55, 35.02>  <Vector 0.83, 21.62, 36.45>  \n",
       "469                           None  <Vector 0.83, 21.62, 36.45>  \n",
       "..                             ...                          ...  \n",
       "584  <Vector -11.45, 17.57, 41.42>  <Vector 0.83, 21.62, 36.45>  \n",
       "592   <Vector -7.54, 21.40, 32.54>  <Vector 0.83, 21.62, 36.45>  \n",
       "593                           None  <Vector 0.83, 21.62, 36.45>  \n",
       "594    <Vector 1.72, 16.82, 36.09>  <Vector 0.83, 21.62, 36.45>  \n",
       "595    <Vector 0.31, 24.33, 31.38>  <Vector 0.83, 21.62, 36.45>  \n",
       "\n",
       "[78 rows x 5 columns]"
      ]
     },
     "execution_count": 21,
     "metadata": {},
     "output_type": "execute_result"
    }
   ],
   "source": [
    "sco.details"
   ]
  },
  {
   "cell_type": "markdown",
   "metadata": {},
   "source": [
    "## Exposure"
   ]
  },
  {
   "cell_type": "code",
   "execution_count": 22,
   "metadata": {},
   "outputs": [],
   "source": [
    "from kissim.encoding.features.exposure import ExposureFeature"
   ]
  },
  {
   "cell_type": "code",
   "execution_count": 23,
   "metadata": {},
   "outputs": [],
   "source": [
    "exposure = ExposureFeature.from_pocket(pocket_bp)"
   ]
  },
  {
   "cell_type": "code",
   "execution_count": 24,
   "metadata": {},
   "outputs": [],
   "source": [
    "exposure = ExposureFeature.from_structure_klifs_id(12347, REMOTE)"
   ]
  },
  {
   "cell_type": "markdown",
   "metadata": {},
   "source": [
    "### Class attributes"
   ]
  },
  {
   "cell_type": "code",
   "execution_count": 25,
   "metadata": {},
   "outputs": [
    {
     "name": "stdout",
     "output_type": "stream",
     "text": [
      "461 462 463 468 469 470 471 472 473 480 481 482 483 484 485 497 498 499 500 501 502 503 504 505 506 507 508 509 511 512 513 514 515 516 517 518 519 526 527 528 529 530 531 532 533 534 535 536 537 538 539 540 541 542 543 566 567 568 569 570 571 572 573 574 575 576 577 578 579 580 581 582 583 584 592 593 594 595\n"
     ]
    }
   ],
   "source": [
    "print(*exposure._residue_ids)"
   ]
  },
  {
   "cell_type": "code",
   "execution_count": 26,
   "metadata": {},
   "outputs": [
    {
     "name": "stdout",
     "output_type": "stream",
     "text": [
      "0.125 0.21428571428571427 0.6875 0.2222222222222222 0.6470588235294118 0.5454545454545454 0.2916666666666667 0.5384615384615384 0.25925925925925924 0.5862068965517241 0.3611111111111111 0.5135135135135135 0.3142857142857143 0.53125 0.43478260869565216 0.5 0.5925925925925926 0.22727272727272727 0.375 0.5384615384615384 0.6071428571428571 0.2631578947368421 0.55 0.59375 0.38461538461538464 0.43478260869565216 0.8275862068965517 0.05263157894736842 0.18181818181818182 0.5333333333333333 0.4166666666666667 0.5277777777777778 0.2413793103448276 0.5428571428571428 0.43333333333333335 0.4 0.34375 0.5526315789473685 0.40476190476190477 0.5476190476190477 0.4358974358974359 0.3793103448275862 0.43333333333333335 0.7037037037037037 0.15789473684210525 0.8421052631578947 0.2857142857142857 0.4 0.625 0.2857142857142857 0.2916666666666667 0.6551724137931034 0.6875 0.48 0.47058823529411764 0.48148148148148145 0.6666666666666666 0.625 0.5 0.7368421052631579 0.0 0.6666666666666666 0.2857142857142857 0.5882352941176471 0.16 0.22727272727272727 0.6764705882352942 0.21212121212121213 0.5263157894736842 0.13793103448275862 0.4642857142857143 0.5609756097560976 0.38235294117647056 0.4722222222222222 0.5238095238095238 0.4 0.48148148148148145 0.68\n"
     ]
    }
   ],
   "source": [
    "print(*exposure._ratio)"
   ]
  },
  {
   "cell_type": "code",
   "execution_count": 27,
   "metadata": {},
   "outputs": [
    {
     "name": "stdout",
     "output_type": "stream",
     "text": [
      "0.0 0.5 nan nan 0.5882352941176471 0.36363636363636365 0.4583333333333333 0.38461538461538464 0.2962962962962963 0.4827586206896552 0.3333333333333333 0.5675675675675675 0.34285714285714286 0.5625 0.30434782608695654 0.1111111111111111 0.5185185185185185 0.22727272727272727 0.0 0.38461538461538464 0.5 0.10526315789473684 0.35 0.59375 0.46153846153846156 0.17391304347826086 0.8620689655172413 0.10526315789473684 0.18181818181818182 0.6666666666666666 0.5 0.5555555555555556 0.3103448275862069 0.6285714285714286 0.26666666666666666 0.23333333333333334 0.5 0.47368421052631576 0.38095238095238093 0.5714285714285714 0.4358974358974359 0.3448275862068966 0.5 0.6666666666666666 0.10526315789473684 0.3157894736842105 0.2857142857142857 0.3333333333333333 0.6 0.5 0.16666666666666666 0.41379310344827586 0.53125 0.44 0.058823529411764705 0.25925925925925924 0.5454545454545454 0.4583333333333333 0.3333333333333333 0.3684210526315789 0.11764705882352941 0.5 0.39285714285714285 0.5882352941176471 0.32 0.18181818181818182 0.7352941176470589 0.2727272727272727 0.6842105263157895 0.3103448275862069 0.35714285714285715 0.5365853658536586 0.29411764705882354 0.4444444444444444 0.47619047619047616 0.45714285714285713 0.2962962962962963 nan\n"
     ]
    }
   ],
   "source": [
    "print(*exposure._ratio_ca)"
   ]
  },
  {
   "cell_type": "code",
   "execution_count": 28,
   "metadata": {},
   "outputs": [
    {
     "name": "stdout",
     "output_type": "stream",
     "text": [
      "0.125 0.21428571428571427 0.6875 0.2222222222222222 0.6470588235294118 0.5454545454545454 0.2916666666666667 0.5384615384615384 0.25925925925925924 0.5862068965517241 0.3611111111111111 0.5135135135135135 0.3142857142857143 0.53125 0.43478260869565216 0.5 0.5925925925925926 0.22727272727272727 0.375 0.5384615384615384 0.6071428571428571 0.2631578947368421 0.55 0.59375 0.38461538461538464 0.43478260869565216 0.8275862068965517 0.05263157894736842 0.18181818181818182 0.5333333333333333 0.4166666666666667 0.5277777777777778 0.2413793103448276 0.5428571428571428 0.43333333333333335 0.4 0.34375 0.5526315789473685 0.40476190476190477 0.5476190476190477 0.4358974358974359 0.3793103448275862 0.43333333333333335 0.7037037037037037 0.15789473684210525 0.8421052631578947 0.2857142857142857 0.4 0.625 0.2857142857142857 0.2916666666666667 0.6551724137931034 0.6875 0.48 0.47058823529411764 0.48148148148148145 0.6666666666666666 0.625 0.5 0.7368421052631579 0.0 0.6666666666666666 0.2857142857142857 0.5882352941176471 0.16 0.22727272727272727 0.6764705882352942 0.21212121212121213 0.5263157894736842 0.13793103448275862 0.4642857142857143 0.5609756097560976 0.38235294117647056 0.4722222222222222 0.5238095238095238 0.4 0.48148148148148145 0.68\n"
     ]
    }
   ],
   "source": [
    "print(*exposure._ratio_cb)"
   ]
  },
  {
   "cell_type": "markdown",
   "metadata": {},
   "source": [
    "### Class properties"
   ]
  },
  {
   "cell_type": "code",
   "execution_count": 29,
   "metadata": {},
   "outputs": [
    {
     "name": "stdout",
     "output_type": "stream",
     "text": [
      "0.125 0.21428571428571427 0.6875 0.2222222222222222 0.6470588235294118 0.5454545454545454 0.2916666666666667 0.5384615384615384 0.25925925925925924 0.5862068965517241 0.3611111111111111 0.5135135135135135 0.3142857142857143 0.53125 0.43478260869565216 0.5 0.5925925925925926 0.22727272727272727 0.375 0.5384615384615384 0.6071428571428571 0.2631578947368421 0.55 0.59375 0.38461538461538464 0.43478260869565216 0.8275862068965517 0.05263157894736842 0.18181818181818182 0.5333333333333333 0.4166666666666667 0.5277777777777778 0.2413793103448276 0.5428571428571428 0.43333333333333335 0.4 0.34375 0.5526315789473685 0.40476190476190477 0.5476190476190477 0.4358974358974359 0.3793103448275862 0.43333333333333335 0.7037037037037037 0.15789473684210525 0.8421052631578947 0.2857142857142857 0.4 0.625 0.2857142857142857 0.2916666666666667 0.6551724137931034 0.6875 0.48 0.47058823529411764 0.48148148148148145 0.6666666666666666 0.625 0.5 0.7368421052631579 0.0 0.6666666666666666 0.2857142857142857 0.5882352941176471 0.16 0.22727272727272727 0.6764705882352942 0.21212121212121213 0.5263157894736842 0.13793103448275862 0.4642857142857143 0.5609756097560976 0.38235294117647056 0.4722222222222222 0.5238095238095238 0.4 0.48148148148148145 0.68\n"
     ]
    }
   ],
   "source": [
    "print(*exposure.values)"
   ]
  },
  {
   "cell_type": "code",
   "execution_count": 30,
   "metadata": {},
   "outputs": [
    {
     "data": {
      "text/html": [
       "<div>\n",
       "<style scoped>\n",
       "    .dataframe tbody tr th:only-of-type {\n",
       "        vertical-align: middle;\n",
       "    }\n",
       "\n",
       "    .dataframe tbody tr th {\n",
       "        vertical-align: top;\n",
       "    }\n",
       "\n",
       "    .dataframe thead th {\n",
       "        text-align: right;\n",
       "    }\n",
       "</style>\n",
       "<table border=\"1\" class=\"dataframe\">\n",
       "  <thead>\n",
       "    <tr style=\"text-align: right;\">\n",
       "      <th></th>\n",
       "      <th>exposure.ratio</th>\n",
       "      <th>exposure.ratio_ca</th>\n",
       "      <th>exposure.ratio_cb</th>\n",
       "    </tr>\n",
       "  </thead>\n",
       "  <tbody>\n",
       "    <tr>\n",
       "      <th>461</th>\n",
       "      <td>0.125000</td>\n",
       "      <td>0.000000</td>\n",
       "      <td>0.125000</td>\n",
       "    </tr>\n",
       "    <tr>\n",
       "      <th>462</th>\n",
       "      <td>0.214286</td>\n",
       "      <td>0.500000</td>\n",
       "      <td>0.214286</td>\n",
       "    </tr>\n",
       "    <tr>\n",
       "      <th>463</th>\n",
       "      <td>0.687500</td>\n",
       "      <td>NaN</td>\n",
       "      <td>0.687500</td>\n",
       "    </tr>\n",
       "    <tr>\n",
       "      <th>468</th>\n",
       "      <td>0.222222</td>\n",
       "      <td>NaN</td>\n",
       "      <td>0.222222</td>\n",
       "    </tr>\n",
       "    <tr>\n",
       "      <th>469</th>\n",
       "      <td>0.647059</td>\n",
       "      <td>0.588235</td>\n",
       "      <td>0.647059</td>\n",
       "    </tr>\n",
       "    <tr>\n",
       "      <th>...</th>\n",
       "      <td>...</td>\n",
       "      <td>...</td>\n",
       "      <td>...</td>\n",
       "    </tr>\n",
       "    <tr>\n",
       "      <th>584</th>\n",
       "      <td>0.472222</td>\n",
       "      <td>0.444444</td>\n",
       "      <td>0.472222</td>\n",
       "    </tr>\n",
       "    <tr>\n",
       "      <th>592</th>\n",
       "      <td>0.523810</td>\n",
       "      <td>0.476190</td>\n",
       "      <td>0.523810</td>\n",
       "    </tr>\n",
       "    <tr>\n",
       "      <th>593</th>\n",
       "      <td>0.400000</td>\n",
       "      <td>0.457143</td>\n",
       "      <td>0.400000</td>\n",
       "    </tr>\n",
       "    <tr>\n",
       "      <th>594</th>\n",
       "      <td>0.481481</td>\n",
       "      <td>0.296296</td>\n",
       "      <td>0.481481</td>\n",
       "    </tr>\n",
       "    <tr>\n",
       "      <th>595</th>\n",
       "      <td>0.680000</td>\n",
       "      <td>NaN</td>\n",
       "      <td>0.680000</td>\n",
       "    </tr>\n",
       "  </tbody>\n",
       "</table>\n",
       "<p>78 rows × 3 columns</p>\n",
       "</div>"
      ],
      "text/plain": [
       "     exposure.ratio  exposure.ratio_ca  exposure.ratio_cb\n",
       "461        0.125000           0.000000           0.125000\n",
       "462        0.214286           0.500000           0.214286\n",
       "463        0.687500                NaN           0.687500\n",
       "468        0.222222                NaN           0.222222\n",
       "469        0.647059           0.588235           0.647059\n",
       "..              ...                ...                ...\n",
       "584        0.472222           0.444444           0.472222\n",
       "592        0.523810           0.476190           0.523810\n",
       "593        0.400000           0.457143           0.400000\n",
       "594        0.481481           0.296296           0.481481\n",
       "595        0.680000                NaN           0.680000\n",
       "\n",
       "[78 rows x 3 columns]"
      ]
     },
     "execution_count": 30,
     "metadata": {},
     "output_type": "execute_result"
    }
   ],
   "source": [
    "exposure.details"
   ]
  },
  {
   "cell_type": "markdown",
   "metadata": {},
   "source": [
    "## SiteAlign features"
   ]
  },
  {
   "cell_type": "code",
   "execution_count": 31,
   "metadata": {},
   "outputs": [],
   "source": [
    "from kissim.encoding.features.sitealign import SiteAlignFeature"
   ]
  },
  {
   "cell_type": "code",
   "execution_count": 32,
   "metadata": {},
   "outputs": [],
   "source": [
    "sitealign = SiteAlignFeature.from_pocket(pocket_df, \"hba\")"
   ]
  },
  {
   "cell_type": "code",
   "execution_count": 33,
   "metadata": {},
   "outputs": [],
   "source": [
    "sitealign = SiteAlignFeature.from_structure_klifs_id(12347, \"hba\", REMOTE)"
   ]
  },
  {
   "cell_type": "markdown",
   "metadata": {},
   "source": [
    "### Class attributes"
   ]
  },
  {
   "cell_type": "code",
   "execution_count": 34,
   "metadata": {},
   "outputs": [
    {
     "name": "stdout",
     "output_type": "stream",
     "text": [
      "461 462 463 468 469 470 471 472 473 480 481 482 483 484 485 497 498 499 500 501 502 503 504 505 506 507 508 509 511 512 513 514 515 516 517 518 519 526 527 528 529 530 531 532 533 534 535 536 537 538 539 540 541 542 543 566 567 568 569 570 571 572 573 574 575 576 577 578 579 580 581 582 583 584 592 593 594 595\n"
     ]
    }
   ],
   "source": [
    "print(*sitealign._residue_ids)"
   ]
  },
  {
   "cell_type": "code",
   "execution_count": 35,
   "metadata": {},
   "outputs": [
    {
     "name": "stdout",
     "output_type": "stream",
     "text": [
      "GLN ARG ILE PHE GLY THR VAL TYR LYS VAL ALA VAL LYS MET LEU ALA PHE LYS ASN GLU VAL GLY VAL LEU ARG LYS THR ARG VAL ASN ILE LEU LEU PHE MET GLY TYR ALA ILE VAL THR GLN TRP CYS GLU GLY SER SER LEU TYR HIS HIS LEU HIS ALA TYR LEU HIS ALA LYS SER ILE ILE HIS ARG ASP LEU LYS SER ASN ASN ILE PHE LEU ILE GLY ASP PHE\n"
     ]
    }
   ],
   "source": [
    "print(*sitealign._residue_names)"
   ]
  },
  {
   "cell_type": "code",
   "execution_count": 36,
   "metadata": {},
   "outputs": [
    {
     "name": "stdout",
     "output_type": "stream",
     "text": [
      "1.0 0.0 0.0 0.0 0.0 1.0 0.0 1.0 0.0 0.0 0.0 0.0 0.0 0.0 0.0 0.0 0.0 0.0 1.0 2.0 0.0 0.0 0.0 0.0 0.0 0.0 1.0 0.0 0.0 1.0 0.0 0.0 0.0 0.0 0.0 0.0 1.0 0.0 0.0 0.0 1.0 1.0 0.0 0.0 2.0 0.0 1.0 1.0 0.0 1.0 1.0 1.0 0.0 1.0 0.0 1.0 0.0 1.0 0.0 0.0 1.0 0.0 0.0 1.0 0.0 2.0 0.0 0.0 1.0 1.0 1.0 0.0 0.0 0.0 0.0 0.0 2.0 0.0\n"
     ]
    }
   ],
   "source": [
    "print(*sitealign._categories)"
   ]
  },
  {
   "cell_type": "markdown",
   "metadata": {},
   "source": [
    "### Class properties"
   ]
  },
  {
   "cell_type": "code",
   "execution_count": 37,
   "metadata": {},
   "outputs": [
    {
     "name": "stdout",
     "output_type": "stream",
     "text": [
      "1.0 0.0 0.0 0.0 0.0 1.0 0.0 1.0 0.0 0.0 0.0 0.0 0.0 0.0 0.0 0.0 0.0 0.0 1.0 2.0 0.0 0.0 0.0 0.0 0.0 0.0 1.0 0.0 0.0 1.0 0.0 0.0 0.0 0.0 0.0 0.0 1.0 0.0 0.0 0.0 1.0 1.0 0.0 0.0 2.0 0.0 1.0 1.0 0.0 1.0 1.0 1.0 0.0 1.0 0.0 1.0 0.0 1.0 0.0 0.0 1.0 0.0 0.0 1.0 0.0 2.0 0.0 0.0 1.0 1.0 1.0 0.0 0.0 0.0 0.0 0.0 2.0 0.0\n"
     ]
    }
   ],
   "source": [
    "print(*sitealign.values)"
   ]
  },
  {
   "cell_type": "code",
   "execution_count": 38,
   "metadata": {},
   "outputs": [
    {
     "data": {
      "text/html": [
       "<div>\n",
       "<style scoped>\n",
       "    .dataframe tbody tr th:only-of-type {\n",
       "        vertical-align: middle;\n",
       "    }\n",
       "\n",
       "    .dataframe tbody tr th {\n",
       "        vertical-align: top;\n",
       "    }\n",
       "\n",
       "    .dataframe thead th {\n",
       "        text-align: right;\n",
       "    }\n",
       "</style>\n",
       "<table border=\"1\" class=\"dataframe\">\n",
       "  <thead>\n",
       "    <tr style=\"text-align: right;\">\n",
       "      <th></th>\n",
       "      <th>residue.name</th>\n",
       "      <th>sitealign.category</th>\n",
       "    </tr>\n",
       "  </thead>\n",
       "  <tbody>\n",
       "    <tr>\n",
       "      <th>461</th>\n",
       "      <td>GLN</td>\n",
       "      <td>1.0</td>\n",
       "    </tr>\n",
       "    <tr>\n",
       "      <th>462</th>\n",
       "      <td>ARG</td>\n",
       "      <td>0.0</td>\n",
       "    </tr>\n",
       "    <tr>\n",
       "      <th>463</th>\n",
       "      <td>ILE</td>\n",
       "      <td>0.0</td>\n",
       "    </tr>\n",
       "    <tr>\n",
       "      <th>468</th>\n",
       "      <td>PHE</td>\n",
       "      <td>0.0</td>\n",
       "    </tr>\n",
       "    <tr>\n",
       "      <th>469</th>\n",
       "      <td>GLY</td>\n",
       "      <td>0.0</td>\n",
       "    </tr>\n",
       "    <tr>\n",
       "      <th>...</th>\n",
       "      <td>...</td>\n",
       "      <td>...</td>\n",
       "    </tr>\n",
       "    <tr>\n",
       "      <th>584</th>\n",
       "      <td>LEU</td>\n",
       "      <td>0.0</td>\n",
       "    </tr>\n",
       "    <tr>\n",
       "      <th>592</th>\n",
       "      <td>ILE</td>\n",
       "      <td>0.0</td>\n",
       "    </tr>\n",
       "    <tr>\n",
       "      <th>593</th>\n",
       "      <td>GLY</td>\n",
       "      <td>0.0</td>\n",
       "    </tr>\n",
       "    <tr>\n",
       "      <th>594</th>\n",
       "      <td>ASP</td>\n",
       "      <td>2.0</td>\n",
       "    </tr>\n",
       "    <tr>\n",
       "      <th>595</th>\n",
       "      <td>PHE</td>\n",
       "      <td>0.0</td>\n",
       "    </tr>\n",
       "  </tbody>\n",
       "</table>\n",
       "<p>78 rows × 2 columns</p>\n",
       "</div>"
      ],
      "text/plain": [
       "    residue.name  sitealign.category\n",
       "461          GLN                 1.0\n",
       "462          ARG                 0.0\n",
       "463          ILE                 0.0\n",
       "468          PHE                 0.0\n",
       "469          GLY                 0.0\n",
       "..           ...                 ...\n",
       "584          LEU                 0.0\n",
       "592          ILE                 0.0\n",
       "593          GLY                 0.0\n",
       "594          ASP                 2.0\n",
       "595          PHE                 0.0\n",
       "\n",
       "[78 rows x 2 columns]"
      ]
     },
     "execution_count": 38,
     "metadata": {},
     "output_type": "execute_result"
    }
   ],
   "source": [
    "sitealign.details"
   ]
  }
 ],
 "metadata": {
  "kernelspec": {
   "display_name": "Python 3",
   "language": "python",
   "name": "python3"
  },
  "language_info": {
   "codemirror_mode": {
    "name": "ipython",
    "version": 3
   },
   "file_extension": ".py",
   "mimetype": "text/x-python",
   "name": "python",
   "nbconvert_exporter": "python",
   "pygments_lexer": "ipython3",
   "version": "3.8.5"
  }
 },
 "nbformat": 4,
 "nbformat_minor": 4
}
