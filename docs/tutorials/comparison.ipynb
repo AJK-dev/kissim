{
 "cells": [
  {
   "cell_type": "markdown",
   "metadata": {},
   "source": [
    "# Comparison\n",
    "\n",
    "The distance between two fingerprints is calculated in two steps:\n",
    "\n",
    "1. Calculate __feature distances__: Calculate distance for each feature (e.g. distance between pairwise 85 size feature bits). Use L1 norm for discrete features and L2 norm for continuous features (scaled by number of bits per feature).\n",
    "2. Calculate __fingerprint distance__: Calculate the weighted sum of all feature distances (sum of feature weights equals 1).\n",
    "\n",
    "![The `kissim` fingerprint comparison.](../_static/kissim_comparison.png)\n",
    "\n",
    "_Figure 1_: The pairwise `kissim` fingerprint comparison.\n",
    "\n",
    "Respective objects performing these calculates are the `FeatureDistances` and `FingerprintDistance` objects.\n",
    "Furthermore, such distances can not only be generated between two fingerprints as described above but also in bulk for a set of fingerprints in an all-against-all comparison using the objects `FingerprintDistanceGenerator` and `FeatureDistancesGenerator`."
   ]
  },
  {
   "cell_type": "markdown",
   "metadata": {},
   "source": [
    "Let's take a look at the API logic in this table again:\n",
    "\n",
    "| Action                                                         | Module       | Single calculation    | Bulk calculation               |\n",
    "|----------------------------------------------------------------|--------------|-----------------------|--------------------------------|\n",
    "| Encode structures as fingerprint                               | `encoding`   | `Fingerprint`         | `FingerprintGenerator`         |\n",
    "| Compare fingerprint features (calculate feature distance**s**) | `comparison` | `FeatureDistances`    | `FeatureDistancesGenerator`    |\n",
    "| Compare fingerprints (calculate fingerprint distance)          | `comparison` | `FingerprintDistance` | `FingerprintDistanceGenerator` |"
   ]
  },
  {
   "cell_type": "code",
   "execution_count": 1,
   "metadata": {},
   "outputs": [],
   "source": [
    "from pathlib import Path"
   ]
  },
  {
   "cell_type": "code",
   "execution_count": 2,
   "metadata": {},
   "outputs": [],
   "source": [
    "# Path to this notebook\n",
    "HERE = Path(_dh[-1])  # noqa: F821"
   ]
  },
  {
   "cell_type": "markdown",
   "metadata": {},
   "source": [
    "Set up local KLIFS session using the `opencadd.databases.klifs` module."
   ]
  },
  {
   "cell_type": "code",
   "execution_count": 3,
   "metadata": {},
   "outputs": [],
   "source": [
    "from opencadd.databases.klifs import setup_local\n",
    "\n",
    "KLIFS_LOCAL = setup_local(HERE / \"../../kissim/tests/data/KLIFS_download/\")"
   ]
  },
  {
   "cell_type": "markdown",
   "metadata": {},
   "source": [
    "## Select structure KLIFS IDs"
   ]
  },
  {
   "cell_type": "code",
   "execution_count": 4,
   "metadata": {},
   "outputs": [],
   "source": [
    "structure_klifs_ids = [109, 118, 12347, 1641, 3833, 9122]"
   ]
  },
  {
   "cell_type": "markdown",
   "metadata": {},
   "source": [
    "## Generate fingerprints\n",
    "\n",
    "Let's generate a few fingerprints for the structures in our local KLIFS download using the bulk fingerprint generator `FingerprintGenerator`."
   ]
  },
  {
   "cell_type": "code",
   "execution_count": 5,
   "metadata": {},
   "outputs": [
    {
     "data": {
      "application/vnd.jupyter.widget-view+json": {
       "model_id": "3649f43c877f4d33b2e632a71227665b",
       "version_major": 2,
       "version_minor": 0
      },
      "text/plain": []
     },
     "metadata": {},
     "output_type": "display_data"
    },
    {
     "name": "stdout",
     "output_type": "stream",
     "text": [
      "Number of fingerprints: 6\n"
     ]
    }
   ],
   "source": [
    "from kissim.encoding import FingerprintGenerator\n",
    "\n",
    "fingerprint_generator = FingerprintGenerator.from_structure_klifs_ids(\n",
    "    structure_klifs_ids=structure_klifs_ids, klifs_session=KLIFS_LOCAL\n",
    ")\n",
    "print(f\"Number of fingerprints: {len(fingerprint_generator.data.keys())}\")"
   ]
  },
  {
   "cell_type": "markdown",
   "metadata": {},
   "source": [
    "__Note__: If fingerprint cannot be generated (e.g. because structural data is missing), the structure is skipped."
   ]
  },
  {
   "cell_type": "markdown",
   "metadata": {},
   "source": [
    "## Compare two fingerprints\n",
    "\n",
    "Let's first focus on the comparison between two fingerprints only.\n",
    "\n",
    "For two fingerprints (`Fingerprint` objects), we will \n",
    "\n",
    "1. Calculate the _feature distances_ using `FeatureDistances` and \n",
    "2. Calculate based on these _feature distances_ and given _feature weights_ the final _fingerprint distance_ using `FingerprintDistance`."
   ]
  },
  {
   "cell_type": "markdown",
   "metadata": {},
   "source": [
    "### Generate feature distances between two fingerprints (`FeatureDistances`)\n",
    "\n",
    "- Input: Two `Fingerprint` objects\n",
    "- Output: `FeatureDistances` object"
   ]
  },
  {
   "cell_type": "code",
   "execution_count": 6,
   "metadata": {},
   "outputs": [],
   "source": [
    "fingerprints = list(fingerprint_generator.data.values())\n",
    "fingerprint1 = fingerprints[0]\n",
    "fingerprint2 = fingerprints[1]"
   ]
  },
  {
   "cell_type": "code",
   "execution_count": 7,
   "metadata": {},
   "outputs": [
    {
     "name": "stdout",
     "output_type": "stream",
     "text": [
      "Kinase pair: ('ABL2', 'ABL2')\n",
      "Structure pair: (109, 118)\n"
     ]
    },
    {
     "data": {
      "text/html": [
       "<div>\n",
       "<style scoped>\n",
       "    .dataframe tbody tr th:only-of-type {\n",
       "        vertical-align: middle;\n",
       "    }\n",
       "\n",
       "    .dataframe tbody tr th {\n",
       "        vertical-align: top;\n",
       "    }\n",
       "\n",
       "    .dataframe thead th {\n",
       "        text-align: right;\n",
       "    }\n",
       "</style>\n",
       "<table border=\"1\" class=\"dataframe\">\n",
       "  <thead>\n",
       "    <tr style=\"text-align: right;\">\n",
       "      <th></th>\n",
       "      <th>feature_type</th>\n",
       "      <th>feature_name</th>\n",
       "      <th>distance</th>\n",
       "      <th>bit_coverage</th>\n",
       "    </tr>\n",
       "  </thead>\n",
       "  <tbody>\n",
       "    <tr>\n",
       "      <th>0</th>\n",
       "      <td>physicochemical</td>\n",
       "      <td>size</td>\n",
       "      <td>0.000000</td>\n",
       "      <td>1.00</td>\n",
       "    </tr>\n",
       "    <tr>\n",
       "      <th>1</th>\n",
       "      <td>physicochemical</td>\n",
       "      <td>hbd</td>\n",
       "      <td>0.000000</td>\n",
       "      <td>1.00</td>\n",
       "    </tr>\n",
       "    <tr>\n",
       "      <th>2</th>\n",
       "      <td>physicochemical</td>\n",
       "      <td>hba</td>\n",
       "      <td>0.000000</td>\n",
       "      <td>1.00</td>\n",
       "    </tr>\n",
       "    <tr>\n",
       "      <th>3</th>\n",
       "      <td>physicochemical</td>\n",
       "      <td>charge</td>\n",
       "      <td>0.000000</td>\n",
       "      <td>1.00</td>\n",
       "    </tr>\n",
       "    <tr>\n",
       "      <th>4</th>\n",
       "      <td>physicochemical</td>\n",
       "      <td>aromatic</td>\n",
       "      <td>0.000000</td>\n",
       "      <td>1.00</td>\n",
       "    </tr>\n",
       "    <tr>\n",
       "      <th>5</th>\n",
       "      <td>physicochemical</td>\n",
       "      <td>aliphatic</td>\n",
       "      <td>0.000000</td>\n",
       "      <td>1.00</td>\n",
       "    </tr>\n",
       "    <tr>\n",
       "      <th>6</th>\n",
       "      <td>physicochemical</td>\n",
       "      <td>sco</td>\n",
       "      <td>0.080000</td>\n",
       "      <td>0.88</td>\n",
       "    </tr>\n",
       "    <tr>\n",
       "      <th>7</th>\n",
       "      <td>physicochemical</td>\n",
       "      <td>exposure</td>\n",
       "      <td>0.294118</td>\n",
       "      <td>1.00</td>\n",
       "    </tr>\n",
       "    <tr>\n",
       "      <th>8</th>\n",
       "      <td>distances</td>\n",
       "      <td>distance_to_centroid</td>\n",
       "      <td>0.059839</td>\n",
       "      <td>1.00</td>\n",
       "    </tr>\n",
       "    <tr>\n",
       "      <th>9</th>\n",
       "      <td>distances</td>\n",
       "      <td>distance_to_hinge_region</td>\n",
       "      <td>0.122168</td>\n",
       "      <td>1.00</td>\n",
       "    </tr>\n",
       "    <tr>\n",
       "      <th>10</th>\n",
       "      <td>distances</td>\n",
       "      <td>distance_to_dfg_region</td>\n",
       "      <td>0.105499</td>\n",
       "      <td>1.00</td>\n",
       "    </tr>\n",
       "    <tr>\n",
       "      <th>11</th>\n",
       "      <td>distances</td>\n",
       "      <td>distance_to_front_pocket</td>\n",
       "      <td>0.070291</td>\n",
       "      <td>1.00</td>\n",
       "    </tr>\n",
       "    <tr>\n",
       "      <th>12</th>\n",
       "      <td>moments</td>\n",
       "      <td>moment1</td>\n",
       "      <td>0.060816</td>\n",
       "      <td>1.00</td>\n",
       "    </tr>\n",
       "    <tr>\n",
       "      <th>13</th>\n",
       "      <td>moments</td>\n",
       "      <td>moment2</td>\n",
       "      <td>0.116013</td>\n",
       "      <td>1.00</td>\n",
       "    </tr>\n",
       "    <tr>\n",
       "      <th>14</th>\n",
       "      <td>moments</td>\n",
       "      <td>moment3</td>\n",
       "      <td>0.204469</td>\n",
       "      <td>1.00</td>\n",
       "    </tr>\n",
       "  </tbody>\n",
       "</table>\n",
       "</div>"
      ],
      "text/plain": [
       "       feature_type              feature_name  distance  bit_coverage\n",
       "0   physicochemical                      size  0.000000          1.00\n",
       "1   physicochemical                       hbd  0.000000          1.00\n",
       "2   physicochemical                       hba  0.000000          1.00\n",
       "3   physicochemical                    charge  0.000000          1.00\n",
       "4   physicochemical                  aromatic  0.000000          1.00\n",
       "5   physicochemical                 aliphatic  0.000000          1.00\n",
       "6   physicochemical                       sco  0.080000          0.88\n",
       "7   physicochemical                  exposure  0.294118          1.00\n",
       "8         distances      distance_to_centroid  0.059839          1.00\n",
       "9         distances  distance_to_hinge_region  0.122168          1.00\n",
       "10        distances    distance_to_dfg_region  0.105499          1.00\n",
       "11        distances  distance_to_front_pocket  0.070291          1.00\n",
       "12          moments                   moment1  0.060816          1.00\n",
       "13          moments                   moment2  0.116013          1.00\n",
       "14          moments                   moment3  0.204469          1.00"
      ]
     },
     "execution_count": 7,
     "metadata": {},
     "output_type": "execute_result"
    }
   ],
   "source": [
    "from kissim.comparison import FeatureDistances\n",
    "\n",
    "feature_distances = FeatureDistances.from_fingerprints(fingerprint1, fingerprint2)\n",
    "print(f\"Kinase pair: {feature_distances.kinase_pair_ids}\")\n",
    "print(f\"Structure pair: {feature_distances.structure_pair_ids}\")\n",
    "feature_distances.data"
   ]
  },
  {
   "cell_type": "markdown",
   "metadata": {},
   "source": [
    "### Generate fingerprint distance between two fingerprints (`FingerprintDistance`)\n",
    "\n",
    "- Input: `FeatureDistances` object and optionally feature weights\n",
    "- Output: `FingerprintDistance` object"
   ]
  },
  {
   "cell_type": "markdown",
   "metadata": {},
   "source": [
    "#### Use standard feature weights"
   ]
  },
  {
   "cell_type": "code",
   "execution_count": 8,
   "metadata": {},
   "outputs": [
    {
     "name": "stdout",
     "output_type": "stream",
     "text": [
      "Fingerprint distance: 0.07421423894307076\n",
      "Fingerprint bit coverage: 0.9919999999999999\n",
      "Feature weights: [0.067, 0.067, 0.067, 0.067, 0.067, 0.067, 0.067, 0.067, 0.067, 0.067, 0.067, 0.067, 0.067, 0.067, 0.067]\n"
     ]
    }
   ],
   "source": [
    "from kissim.comparison import FingerprintDistance\n",
    "\n",
    "fingerprint_distance = FingerprintDistance.from_feature_distances(\n",
    "    feature_distances, feature_weights=None\n",
    ")\n",
    "print(f\"Fingerprint distance: {fingerprint_distance.distance}\")\n",
    "print(f\"Fingerprint bit coverage: {fingerprint_distance.bit_coverage}\")\n",
    "print(f\"Feature weights: {fingerprint_distance.feature_weights.round(3).tolist()}\")"
   ]
  },
  {
   "cell_type": "markdown",
   "metadata": {},
   "source": [
    "#### Use user-defined feature weights"
   ]
  },
  {
   "cell_type": "code",
   "execution_count": 9,
   "metadata": {},
   "outputs": [
    {
     "name": "stdout",
     "output_type": "stream",
     "text": [
      "Fingerprint distance: 0.08417398268335104\n",
      "Fingerprint bit coverage: 0.9954999999999999\n",
      "Feature weights: [0.038, 0.038, 0.038, 0.038, 0.038, 0.038, 0.038, 0.038, 0.125, 0.125, 0.125, 0.125, 0.067, 0.067, 0.067]\n"
     ]
    }
   ],
   "source": [
    "feature_weights = [0.3 / 8] * 8 + [0.5 / 4] * 4 + [0.2 / 3] * 3\n",
    "fingerprint_distance = FingerprintDistance.from_feature_distances(\n",
    "    feature_distances, feature_weights=feature_weights\n",
    ")\n",
    "print(f\"Fingerprint distance: {fingerprint_distance.distance}\")\n",
    "print(f\"Fingerprint bit coverage: {fingerprint_distance.bit_coverage}\")\n",
    "print(f\"Feature weights: {fingerprint_distance.feature_weights.round(3).tolist()}\")"
   ]
  },
  {
   "cell_type": "markdown",
   "metadata": {},
   "source": [
    "## Compare all-against-all fingerprints\n",
    "\n",
    "Let's now take a look at the bulk distance generators to generate all-against-all comparisons for a set of fingerprints.\n",
    "\n",
    "For a `FingerprintGenerator` object, which contains the fingerprints for a set of structures, we will \n",
    "\n",
    "1. Calculate _feature distances_ for all fingerprint pairs using `FeatureDistancesGenerator` and \n",
    "2. Calculate based on these _feature distances_ and given _feature weights_ the final _fingerprint distance_ for all fingerprint pairs using `FingerprintDistanceGenerator`."
   ]
  },
  {
   "cell_type": "markdown",
   "metadata": {},
   "source": [
    "### Generate feature distances for all pairwise structures/fingerprints (`FeatureDistancesGenerator`)\n",
    "\n",
    "- Input: `FingerprintGenerator` object\n",
    "- Output: `FeatureDistancesGenerator` object"
   ]
  },
  {
   "cell_type": "code",
   "execution_count": 10,
   "metadata": {},
   "outputs": [
    {
     "name": "stdout",
     "output_type": "stream",
     "text": [
      "One example structure pair: (109, 118)\n"
     ]
    },
    {
     "data": {
      "text/plain": [
       "<kissim.comparison.feature_distances.FeatureDistances at 0x7f882770e6a0>"
      ]
     },
     "execution_count": 10,
     "metadata": {},
     "output_type": "execute_result"
    }
   ],
   "source": [
    "from kissim.comparison import FeatureDistancesGenerator\n",
    "\n",
    "feature_distances_generator = FeatureDistancesGenerator.from_fingerprint_generator(\n",
    "    fingerprint_generator\n",
    ")\n",
    "print(f\"One example structure pair: {feature_distances_generator.data[0].structure_pair_ids}\")\n",
    "feature_distances_generator.data[0]"
   ]
  },
  {
   "cell_type": "markdown",
   "metadata": {},
   "source": [
    "### Generate fingerprint distance for all pairwise structures/fingerprints (`FingerprintDistanceGenerator`)\n",
    "\n",
    "- Input: `FeatureDistancesGenerator` object and optionally feature weights\n",
    "- Output: `FingerprintDistanceGenerator` object"
   ]
  },
  {
   "cell_type": "code",
   "execution_count": 11,
   "metadata": {},
   "outputs": [],
   "source": [
    "from kissim.comparison import FingerprintDistanceGenerator\n",
    "\n",
    "fingerprint_distance_generator = FingerprintDistanceGenerator.from_feature_distances_generator(\n",
    "    feature_distances_generator\n",
    ")"
   ]
  },
  {
   "cell_type": "code",
   "execution_count": 12,
   "metadata": {},
   "outputs": [
    {
     "data": {
      "text/html": [
       "<div>\n",
       "<style scoped>\n",
       "    .dataframe tbody tr th:only-of-type {\n",
       "        vertical-align: middle;\n",
       "    }\n",
       "\n",
       "    .dataframe tbody tr th {\n",
       "        vertical-align: top;\n",
       "    }\n",
       "\n",
       "    .dataframe thead th {\n",
       "        text-align: right;\n",
       "    }\n",
       "</style>\n",
       "<table border=\"1\" class=\"dataframe\">\n",
       "  <thead>\n",
       "    <tr style=\"text-align: right;\">\n",
       "      <th></th>\n",
       "      <th>structure1</th>\n",
       "      <th>structure2</th>\n",
       "      <th>kinase1</th>\n",
       "      <th>kinase2</th>\n",
       "      <th>distance</th>\n",
       "      <th>coverage</th>\n",
       "    </tr>\n",
       "  </thead>\n",
       "  <tbody>\n",
       "    <tr>\n",
       "      <th>0</th>\n",
       "      <td>109</td>\n",
       "      <td>118</td>\n",
       "      <td>ABL2</td>\n",
       "      <td>ABL2</td>\n",
       "      <td>0.074214</td>\n",
       "      <td>0.992000</td>\n",
       "    </tr>\n",
       "    <tr>\n",
       "      <th>1</th>\n",
       "      <td>109</td>\n",
       "      <td>12347</td>\n",
       "      <td>ABL2</td>\n",
       "      <td>BRAF</td>\n",
       "      <td>0.259053</td>\n",
       "      <td>0.919333</td>\n",
       "    </tr>\n",
       "    <tr>\n",
       "      <th>2</th>\n",
       "      <td>109</td>\n",
       "      <td>1641</td>\n",
       "      <td>ABL2</td>\n",
       "      <td>CHK1</td>\n",
       "      <td>0.253045</td>\n",
       "      <td>0.990667</td>\n",
       "    </tr>\n",
       "    <tr>\n",
       "      <th>3</th>\n",
       "      <td>109</td>\n",
       "      <td>3833</td>\n",
       "      <td>ABL2</td>\n",
       "      <td>AAK1</td>\n",
       "      <td>0.277368</td>\n",
       "      <td>0.990667</td>\n",
       "    </tr>\n",
       "    <tr>\n",
       "      <th>4</th>\n",
       "      <td>109</td>\n",
       "      <td>9122</td>\n",
       "      <td>ABL2</td>\n",
       "      <td>ADCK3</td>\n",
       "      <td>0.358882</td>\n",
       "      <td>0.990667</td>\n",
       "    </tr>\n",
       "    <tr>\n",
       "      <th>5</th>\n",
       "      <td>118</td>\n",
       "      <td>12347</td>\n",
       "      <td>ABL2</td>\n",
       "      <td>BRAF</td>\n",
       "      <td>0.273133</td>\n",
       "      <td>0.918000</td>\n",
       "    </tr>\n",
       "    <tr>\n",
       "      <th>6</th>\n",
       "      <td>118</td>\n",
       "      <td>1641</td>\n",
       "      <td>ABL2</td>\n",
       "      <td>CHK1</td>\n",
       "      <td>0.246844</td>\n",
       "      <td>0.989333</td>\n",
       "    </tr>\n",
       "    <tr>\n",
       "      <th>7</th>\n",
       "      <td>118</td>\n",
       "      <td>3833</td>\n",
       "      <td>ABL2</td>\n",
       "      <td>AAK1</td>\n",
       "      <td>0.282949</td>\n",
       "      <td>0.990000</td>\n",
       "    </tr>\n",
       "    <tr>\n",
       "      <th>8</th>\n",
       "      <td>118</td>\n",
       "      <td>9122</td>\n",
       "      <td>ABL2</td>\n",
       "      <td>ADCK3</td>\n",
       "      <td>0.360833</td>\n",
       "      <td>0.989333</td>\n",
       "    </tr>\n",
       "    <tr>\n",
       "      <th>9</th>\n",
       "      <td>12347</td>\n",
       "      <td>1641</td>\n",
       "      <td>BRAF</td>\n",
       "      <td>CHK1</td>\n",
       "      <td>0.303330</td>\n",
       "      <td>0.918000</td>\n",
       "    </tr>\n",
       "    <tr>\n",
       "      <th>10</th>\n",
       "      <td>12347</td>\n",
       "      <td>3833</td>\n",
       "      <td>BRAF</td>\n",
       "      <td>AAK1</td>\n",
       "      <td>0.307277</td>\n",
       "      <td>0.918000</td>\n",
       "    </tr>\n",
       "    <tr>\n",
       "      <th>11</th>\n",
       "      <td>12347</td>\n",
       "      <td>9122</td>\n",
       "      <td>BRAF</td>\n",
       "      <td>ADCK3</td>\n",
       "      <td>0.376875</td>\n",
       "      <td>0.918000</td>\n",
       "    </tr>\n",
       "    <tr>\n",
       "      <th>12</th>\n",
       "      <td>1641</td>\n",
       "      <td>3833</td>\n",
       "      <td>CHK1</td>\n",
       "      <td>AAK1</td>\n",
       "      <td>0.229590</td>\n",
       "      <td>0.989333</td>\n",
       "    </tr>\n",
       "    <tr>\n",
       "      <th>13</th>\n",
       "      <td>1641</td>\n",
       "      <td>9122</td>\n",
       "      <td>CHK1</td>\n",
       "      <td>ADCK3</td>\n",
       "      <td>0.347142</td>\n",
       "      <td>0.989333</td>\n",
       "    </tr>\n",
       "    <tr>\n",
       "      <th>14</th>\n",
       "      <td>3833</td>\n",
       "      <td>9122</td>\n",
       "      <td>AAK1</td>\n",
       "      <td>ADCK3</td>\n",
       "      <td>0.303542</td>\n",
       "      <td>0.990000</td>\n",
       "    </tr>\n",
       "  </tbody>\n",
       "</table>\n",
       "</div>"
      ],
      "text/plain": [
       "    structure1  structure2 kinase1 kinase2  distance  coverage\n",
       "0          109         118    ABL2    ABL2  0.074214  0.992000\n",
       "1          109       12347    ABL2    BRAF  0.259053  0.919333\n",
       "2          109        1641    ABL2    CHK1  0.253045  0.990667\n",
       "3          109        3833    ABL2    AAK1  0.277368  0.990667\n",
       "4          109        9122    ABL2   ADCK3  0.358882  0.990667\n",
       "5          118       12347    ABL2    BRAF  0.273133  0.918000\n",
       "6          118        1641    ABL2    CHK1  0.246844  0.989333\n",
       "7          118        3833    ABL2    AAK1  0.282949  0.990000\n",
       "8          118        9122    ABL2   ADCK3  0.360833  0.989333\n",
       "9        12347        1641    BRAF    CHK1  0.303330  0.918000\n",
       "10       12347        3833    BRAF    AAK1  0.307277  0.918000\n",
       "11       12347        9122    BRAF   ADCK3  0.376875  0.918000\n",
       "12        1641        3833    CHK1    AAK1  0.229590  0.989333\n",
       "13        1641        9122    CHK1   ADCK3  0.347142  0.989333\n",
       "14        3833        9122    AAK1   ADCK3  0.303542  0.990000"
      ]
     },
     "execution_count": 12,
     "metadata": {},
     "output_type": "execute_result"
    }
   ],
   "source": [
    "fingerprint_distance_generator.data.head(20)"
   ]
  },
  {
   "cell_type": "markdown",
   "metadata": {},
   "source": [
    "#### Kinase distance matrix"
   ]
  },
  {
   "cell_type": "code",
   "execution_count": 13,
   "metadata": {},
   "outputs": [
    {
     "data": {
      "text/html": [
       "<div>\n",
       "<style scoped>\n",
       "    .dataframe tbody tr th:only-of-type {\n",
       "        vertical-align: middle;\n",
       "    }\n",
       "\n",
       "    .dataframe tbody tr th {\n",
       "        vertical-align: top;\n",
       "    }\n",
       "\n",
       "    .dataframe thead th {\n",
       "        text-align: right;\n",
       "    }\n",
       "</style>\n",
       "<table border=\"1\" class=\"dataframe\">\n",
       "  <thead>\n",
       "    <tr style=\"text-align: right;\">\n",
       "      <th>kinase2</th>\n",
       "      <th>AAK1</th>\n",
       "      <th>ABL2</th>\n",
       "      <th>ADCK3</th>\n",
       "      <th>BRAF</th>\n",
       "      <th>CHK1</th>\n",
       "    </tr>\n",
       "    <tr>\n",
       "      <th>kinase1</th>\n",
       "      <th></th>\n",
       "      <th></th>\n",
       "      <th></th>\n",
       "      <th></th>\n",
       "      <th></th>\n",
       "    </tr>\n",
       "  </thead>\n",
       "  <tbody>\n",
       "    <tr>\n",
       "      <th>AAK1</th>\n",
       "      <td>0.000000</td>\n",
       "      <td>0.277368</td>\n",
       "      <td>0.303542</td>\n",
       "      <td>0.307277</td>\n",
       "      <td>0.229590</td>\n",
       "    </tr>\n",
       "    <tr>\n",
       "      <th>ABL2</th>\n",
       "      <td>0.277368</td>\n",
       "      <td>0.000000</td>\n",
       "      <td>0.358882</td>\n",
       "      <td>0.259053</td>\n",
       "      <td>0.246844</td>\n",
       "    </tr>\n",
       "    <tr>\n",
       "      <th>ADCK3</th>\n",
       "      <td>0.303542</td>\n",
       "      <td>0.358882</td>\n",
       "      <td>0.000000</td>\n",
       "      <td>0.376875</td>\n",
       "      <td>0.347142</td>\n",
       "    </tr>\n",
       "    <tr>\n",
       "      <th>BRAF</th>\n",
       "      <td>0.307277</td>\n",
       "      <td>0.259053</td>\n",
       "      <td>0.376875</td>\n",
       "      <td>0.000000</td>\n",
       "      <td>0.303330</td>\n",
       "    </tr>\n",
       "    <tr>\n",
       "      <th>CHK1</th>\n",
       "      <td>0.229590</td>\n",
       "      <td>0.246844</td>\n",
       "      <td>0.347142</td>\n",
       "      <td>0.303330</td>\n",
       "      <td>0.000000</td>\n",
       "    </tr>\n",
       "  </tbody>\n",
       "</table>\n",
       "</div>"
      ],
      "text/plain": [
       "kinase2      AAK1      ABL2     ADCK3      BRAF      CHK1\n",
       "kinase1                                                  \n",
       "AAK1     0.000000  0.277368  0.303542  0.307277  0.229590\n",
       "ABL2     0.277368  0.000000  0.358882  0.259053  0.246844\n",
       "ADCK3    0.303542  0.358882  0.000000  0.376875  0.347142\n",
       "BRAF     0.307277  0.259053  0.376875  0.000000  0.303330\n",
       "CHK1     0.229590  0.246844  0.347142  0.303330  0.000000"
      ]
     },
     "execution_count": 13,
     "metadata": {},
     "output_type": "execute_result"
    }
   ],
   "source": [
    "fingerprint_distance_generator.kinase_distance_matrix(by=\"minimum\")"
   ]
  },
  {
   "cell_type": "markdown",
   "metadata": {},
   "source": [
    "Show on diagonal experimental values for structure pairs representing each kinase pair (as opposed to simply setting the diagonal to 0 by default)."
   ]
  },
  {
   "cell_type": "code",
   "execution_count": 14,
   "metadata": {},
   "outputs": [
    {
     "data": {
      "text/html": [
       "<div>\n",
       "<style scoped>\n",
       "    .dataframe tbody tr th:only-of-type {\n",
       "        vertical-align: middle;\n",
       "    }\n",
       "\n",
       "    .dataframe tbody tr th {\n",
       "        vertical-align: top;\n",
       "    }\n",
       "\n",
       "    .dataframe thead th {\n",
       "        text-align: right;\n",
       "    }\n",
       "</style>\n",
       "<table border=\"1\" class=\"dataframe\">\n",
       "  <thead>\n",
       "    <tr style=\"text-align: right;\">\n",
       "      <th>kinase2</th>\n",
       "      <th>AAK1</th>\n",
       "      <th>ABL2</th>\n",
       "      <th>ADCK3</th>\n",
       "      <th>BRAF</th>\n",
       "      <th>CHK1</th>\n",
       "    </tr>\n",
       "    <tr>\n",
       "      <th>kinase1</th>\n",
       "      <th></th>\n",
       "      <th></th>\n",
       "      <th></th>\n",
       "      <th></th>\n",
       "      <th></th>\n",
       "    </tr>\n",
       "  </thead>\n",
       "  <tbody>\n",
       "    <tr>\n",
       "      <th>AAK1</th>\n",
       "      <td>NaN</td>\n",
       "      <td>0.277368</td>\n",
       "      <td>0.303542</td>\n",
       "      <td>0.307277</td>\n",
       "      <td>0.229590</td>\n",
       "    </tr>\n",
       "    <tr>\n",
       "      <th>ABL2</th>\n",
       "      <td>0.277368</td>\n",
       "      <td>0.074214</td>\n",
       "      <td>0.358882</td>\n",
       "      <td>0.259053</td>\n",
       "      <td>0.246844</td>\n",
       "    </tr>\n",
       "    <tr>\n",
       "      <th>ADCK3</th>\n",
       "      <td>0.303542</td>\n",
       "      <td>0.358882</td>\n",
       "      <td>NaN</td>\n",
       "      <td>0.376875</td>\n",
       "      <td>0.347142</td>\n",
       "    </tr>\n",
       "    <tr>\n",
       "      <th>BRAF</th>\n",
       "      <td>0.307277</td>\n",
       "      <td>0.259053</td>\n",
       "      <td>0.376875</td>\n",
       "      <td>NaN</td>\n",
       "      <td>0.303330</td>\n",
       "    </tr>\n",
       "    <tr>\n",
       "      <th>CHK1</th>\n",
       "      <td>0.229590</td>\n",
       "      <td>0.246844</td>\n",
       "      <td>0.347142</td>\n",
       "      <td>0.303330</td>\n",
       "      <td>NaN</td>\n",
       "    </tr>\n",
       "  </tbody>\n",
       "</table>\n",
       "</div>"
      ],
      "text/plain": [
       "kinase2      AAK1      ABL2     ADCK3      BRAF      CHK1\n",
       "kinase1                                                  \n",
       "AAK1          NaN  0.277368  0.303542  0.307277  0.229590\n",
       "ABL2     0.277368  0.074214  0.358882  0.259053  0.246844\n",
       "ADCK3    0.303542  0.358882       NaN  0.376875  0.347142\n",
       "BRAF     0.307277  0.259053  0.376875       NaN  0.303330\n",
       "CHK1     0.229590  0.246844  0.347142  0.303330       NaN"
      ]
     },
     "execution_count": 14,
     "metadata": {},
     "output_type": "execute_result"
    }
   ],
   "source": [
    "fingerprint_distance_generator.kinase_distance_matrix(by=\"minimum\", fill_diagonal=False)"
   ]
  },
  {
   "cell_type": "markdown",
   "metadata": {},
   "source": [
    "More structure-kinase mapping methods are available, e.g. `maximum` or `mean`. Additionally, the number of structure pairs per kinase pair can be fetched."
   ]
  },
  {
   "cell_type": "code",
   "execution_count": 15,
   "metadata": {},
   "outputs": [
    {
     "data": {
      "text/html": [
       "<div>\n",
       "<style scoped>\n",
       "    .dataframe tbody tr th:only-of-type {\n",
       "        vertical-align: middle;\n",
       "    }\n",
       "\n",
       "    .dataframe tbody tr th {\n",
       "        vertical-align: top;\n",
       "    }\n",
       "\n",
       "    .dataframe thead th {\n",
       "        text-align: right;\n",
       "    }\n",
       "</style>\n",
       "<table border=\"1\" class=\"dataframe\">\n",
       "  <thead>\n",
       "    <tr style=\"text-align: right;\">\n",
       "      <th>kinase2</th>\n",
       "      <th>AAK1</th>\n",
       "      <th>ABL2</th>\n",
       "      <th>ADCK3</th>\n",
       "      <th>BRAF</th>\n",
       "      <th>CHK1</th>\n",
       "    </tr>\n",
       "    <tr>\n",
       "      <th>kinase1</th>\n",
       "      <th></th>\n",
       "      <th></th>\n",
       "      <th></th>\n",
       "      <th></th>\n",
       "      <th></th>\n",
       "    </tr>\n",
       "  </thead>\n",
       "  <tbody>\n",
       "    <tr>\n",
       "      <th>AAK1</th>\n",
       "      <td>0</td>\n",
       "      <td>2</td>\n",
       "      <td>1</td>\n",
       "      <td>1</td>\n",
       "      <td>1</td>\n",
       "    </tr>\n",
       "    <tr>\n",
       "      <th>ABL2</th>\n",
       "      <td>2</td>\n",
       "      <td>1</td>\n",
       "      <td>2</td>\n",
       "      <td>2</td>\n",
       "      <td>2</td>\n",
       "    </tr>\n",
       "    <tr>\n",
       "      <th>ADCK3</th>\n",
       "      <td>1</td>\n",
       "      <td>2</td>\n",
       "      <td>0</td>\n",
       "      <td>1</td>\n",
       "      <td>1</td>\n",
       "    </tr>\n",
       "    <tr>\n",
       "      <th>BRAF</th>\n",
       "      <td>1</td>\n",
       "      <td>2</td>\n",
       "      <td>1</td>\n",
       "      <td>0</td>\n",
       "      <td>1</td>\n",
       "    </tr>\n",
       "    <tr>\n",
       "      <th>CHK1</th>\n",
       "      <td>1</td>\n",
       "      <td>2</td>\n",
       "      <td>1</td>\n",
       "      <td>1</td>\n",
       "      <td>0</td>\n",
       "    </tr>\n",
       "  </tbody>\n",
       "</table>\n",
       "</div>"
      ],
      "text/plain": [
       "kinase2  AAK1  ABL2  ADCK3  BRAF  CHK1\n",
       "kinase1                               \n",
       "AAK1        0     2      1     1     1\n",
       "ABL2        2     1      2     2     2\n",
       "ADCK3       1     2      0     1     1\n",
       "BRAF        1     2      1     0     1\n",
       "CHK1        1     2      1     1     0"
      ]
     },
     "execution_count": 15,
     "metadata": {},
     "output_type": "execute_result"
    }
   ],
   "source": [
    "fingerprint_distance_generator.kinase_distance_matrix(by=\"size\")"
   ]
  },
  {
   "cell_type": "markdown",
   "metadata": {},
   "source": [
    "#### Structure distance matrix"
   ]
  },
  {
   "cell_type": "code",
   "execution_count": 16,
   "metadata": {},
   "outputs": [
    {
     "data": {
      "text/html": [
       "<div>\n",
       "<style scoped>\n",
       "    .dataframe tbody tr th:only-of-type {\n",
       "        vertical-align: middle;\n",
       "    }\n",
       "\n",
       "    .dataframe tbody tr th {\n",
       "        vertical-align: top;\n",
       "    }\n",
       "\n",
       "    .dataframe thead th {\n",
       "        text-align: right;\n",
       "    }\n",
       "</style>\n",
       "<table border=\"1\" class=\"dataframe\">\n",
       "  <thead>\n",
       "    <tr style=\"text-align: right;\">\n",
       "      <th>structure2</th>\n",
       "      <th>109</th>\n",
       "      <th>118</th>\n",
       "      <th>1641</th>\n",
       "      <th>3833</th>\n",
       "      <th>9122</th>\n",
       "      <th>12347</th>\n",
       "    </tr>\n",
       "    <tr>\n",
       "      <th>structure1</th>\n",
       "      <th></th>\n",
       "      <th></th>\n",
       "      <th></th>\n",
       "      <th></th>\n",
       "      <th></th>\n",
       "      <th></th>\n",
       "    </tr>\n",
       "  </thead>\n",
       "  <tbody>\n",
       "    <tr>\n",
       "      <th>109</th>\n",
       "      <td>0.000000</td>\n",
       "      <td>0.074214</td>\n",
       "      <td>0.253045</td>\n",
       "      <td>0.277368</td>\n",
       "      <td>0.358882</td>\n",
       "      <td>0.259053</td>\n",
       "    </tr>\n",
       "    <tr>\n",
       "      <th>118</th>\n",
       "      <td>0.074214</td>\n",
       "      <td>0.000000</td>\n",
       "      <td>0.246844</td>\n",
       "      <td>0.282949</td>\n",
       "      <td>0.360833</td>\n",
       "      <td>0.273133</td>\n",
       "    </tr>\n",
       "    <tr>\n",
       "      <th>1641</th>\n",
       "      <td>0.253045</td>\n",
       "      <td>0.246844</td>\n",
       "      <td>0.000000</td>\n",
       "      <td>0.229590</td>\n",
       "      <td>0.347142</td>\n",
       "      <td>0.303330</td>\n",
       "    </tr>\n",
       "    <tr>\n",
       "      <th>3833</th>\n",
       "      <td>0.277368</td>\n",
       "      <td>0.282949</td>\n",
       "      <td>0.229590</td>\n",
       "      <td>0.000000</td>\n",
       "      <td>0.303542</td>\n",
       "      <td>0.307277</td>\n",
       "    </tr>\n",
       "    <tr>\n",
       "      <th>9122</th>\n",
       "      <td>0.358882</td>\n",
       "      <td>0.360833</td>\n",
       "      <td>0.347142</td>\n",
       "      <td>0.303542</td>\n",
       "      <td>0.000000</td>\n",
       "      <td>0.376875</td>\n",
       "    </tr>\n",
       "    <tr>\n",
       "      <th>12347</th>\n",
       "      <td>0.259053</td>\n",
       "      <td>0.273133</td>\n",
       "      <td>0.303330</td>\n",
       "      <td>0.307277</td>\n",
       "      <td>0.376875</td>\n",
       "      <td>0.000000</td>\n",
       "    </tr>\n",
       "  </tbody>\n",
       "</table>\n",
       "</div>"
      ],
      "text/plain": [
       "structure2     109       118       1641      3833      9122      12347\n",
       "structure1                                                            \n",
       "109         0.000000  0.074214  0.253045  0.277368  0.358882  0.259053\n",
       "118         0.074214  0.000000  0.246844  0.282949  0.360833  0.273133\n",
       "1641        0.253045  0.246844  0.000000  0.229590  0.347142  0.303330\n",
       "3833        0.277368  0.282949  0.229590  0.000000  0.303542  0.307277\n",
       "9122        0.358882  0.360833  0.347142  0.303542  0.000000  0.376875\n",
       "12347       0.259053  0.273133  0.303330  0.307277  0.376875  0.000000"
      ]
     },
     "execution_count": 16,
     "metadata": {},
     "output_type": "execute_result"
    }
   ],
   "source": [
    "fingerprint_distance_generator.structure_distance_matrix()"
   ]
  }
 ],
 "metadata": {
  "kernelspec": {
   "display_name": "Python 3",
   "language": "python",
   "name": "python3"
  },
  "language_info": {
   "codemirror_mode": {
    "name": "ipython",
    "version": 3
   },
   "file_extension": ".py",
   "mimetype": "text/x-python",
   "name": "python",
   "nbconvert_exporter": "python",
   "pygments_lexer": "ipython3",
   "version": "3.8.6"
  }
 },
 "nbformat": 4,
 "nbformat_minor": 4
}
