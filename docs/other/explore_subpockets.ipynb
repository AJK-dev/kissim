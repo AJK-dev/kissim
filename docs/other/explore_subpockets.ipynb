{
 "cells": [
  {
   "cell_type": "markdown",
   "metadata": {},
   "source": [
    "# Subpockets vs. conformations\n",
    "\n",
    "Check if our `kissim` subpockets are reasonable across different kinase conformations."
   ]
  },
  {
   "cell_type": "code",
   "execution_count": null,
   "metadata": {},
   "outputs": [],
   "source": [
    "%load_ext autoreload\n",
    "%autoreload 2"
   ]
  },
  {
   "cell_type": "code",
   "execution_count": null,
   "metadata": {},
   "outputs": [],
   "source": [
    "from pathlib import Path\n",
    "\n",
    "import pandas as pd\n",
    "\n",
    "from opencadd.databases.klifs import setup_remote\n",
    "from opencadd.databases.klifs.utils import metadata_to_filepath\n",
    "from opencadd.structure.pocket import KlifsPocket, PocketViewer"
   ]
  },
  {
   "cell_type": "markdown",
   "metadata": {},
   "source": [
    "## Data retrieval (KLIFS structures)"
   ]
  },
  {
   "cell_type": "code",
   "execution_count": null,
   "metadata": {
    "tags": []
   },
   "outputs": [],
   "source": [
    "session = setup_remote()"
   ]
  },
  {
   "cell_type": "code",
   "execution_count": null,
   "metadata": {},
   "outputs": [],
   "source": [
    "structures = session.structures.all_structures()"
   ]
  },
  {
   "cell_type": "markdown",
   "metadata": {},
   "source": [
    "Define a function that allows us to get _X_ random structures."
   ]
  },
  {
   "cell_type": "code",
   "execution_count": null,
   "metadata": {},
   "outputs": [],
   "source": [
    "def random_pockets(structures, n_structures, seed, anchor_residues, subpocket_names, subpocket_colors, klifs_session):\n",
    "    \n",
    "    random_structures = structures.sample(n=n_structures, random_state=seed)\n",
    "    subpockets = {\n",
    "        \"anchor_residue.klifs_ids\": anchor_residues,\n",
    "        \"subpocket.name\": subpocket_names,\n",
    "        \"subpocket.color\": subpocket_colors\n",
    "    }\n",
    "    pockets = []\n",
    "    for structure_klifs_id in random_structures[\"structure.klifs_id\"]:\n",
    "        print(structure_klifs_id)\n",
    "        pocket = KlifsPocket.from_structure_klifs_id(structure_klifs_id, subpockets, klifs_session=klifs_session)\n",
    "        pockets.append(pocket)\n",
    "        \n",
    "    return pockets"
   ]
  },
  {
   "cell_type": "code",
   "execution_count": null,
   "metadata": {},
   "outputs": [],
   "source": [
    "N_STRUCTURES = 3\n",
    "SEED = 1"
   ]
  },
  {
   "cell_type": "markdown",
   "metadata": {},
   "source": [
    "## Anchor residue selection"
   ]
  },
  {
   "cell_type": "code",
   "execution_count": null,
   "metadata": {},
   "outputs": [],
   "source": [
    "subpocket_names = [\n",
    "    \"hinge_region\", \"hinge_region_kinfraglib_ap\", \n",
    "    \"dfg_region\", \"dfg_region_kinfraglib_b2\", \n",
    "    \"front_pocket\", \"front_pocket2\", \"front_pocket_kinfraglib_fp\"\n",
    "]\n",
    "anchor_residues = [\n",
    "    [16, 47, 80], [15, 46, 51, 75],\n",
    "    [19, 24, 81], [18, 24, 70, 83], \n",
    "    [6, 48, 75], [10, 48, 75], [10, 51, 72, 81]\n",
    "]"
   ]
  },
  {
   "cell_type": "code",
   "execution_count": null,
   "metadata": {},
   "outputs": [],
   "source": [
    "pockets = random_pockets(\n",
    "    structures, \n",
    "    N_STRUCTURES, \n",
    "    SEED, \n",
    "    anchor_residues, \n",
    "    subpocket_names, \n",
    "    [\"magenta\", \"violet\", \"cyan\", \"darkturquoise\", \"green\", \"lime\", \"lightgreen\"], \n",
    "    session\n",
    ")"
   ]
  },
  {
   "cell_type": "code",
   "execution_count": null,
   "metadata": {},
   "outputs": [],
   "source": [
    "viewer = PocketViewer()\n",
    "for pocket in pockets:\n",
    "    viewer.add_pocket(pocket, sphere_opacity=0.7)\n",
    "viewer.viewer"
   ]
  },
  {
   "cell_type": "code",
   "execution_count": null,
   "metadata": {},
   "outputs": [],
   "source": []
  },
  {
   "cell_type": "markdown",
   "metadata": {},
   "source": [
    "## Subpocket robustness across kinase conformations [WIP]"
   ]
  },
  {
   "cell_type": "code",
   "execution_count": null,
   "metadata": {},
   "outputs": [],
   "source": [
    "SUBPOCKET_NAMES = [\"hinge_region\", \"dfg_region\", \"front_pocket\"]\n",
    "ANCHOR_RESIDUES = [[16, 47, 80], [19, 24, 81], [6, 48, 75]]"
   ]
  },
  {
   "cell_type": "markdown",
   "metadata": {},
   "source": [
    "### DFG conformations"
   ]
  },
  {
   "cell_type": "code",
   "execution_count": null,
   "metadata": {},
   "outputs": [],
   "source": [
    "pockets_by_conformation = {\n",
    "    \"in\": random_pockets(\n",
    "        structures[(structures[\"structure.dfg\"] == \"in\")], \n",
    "        N_STRUCTURES, \n",
    "        SEED, \n",
    "        ANCHOR_RESIDUES, \n",
    "        SUBPOCKET_NAMES, \n",
    "        [\"magenta\", \"cyan\", \"green\"], \n",
    "        session),\n",
    "    \"out\": random_pockets(\n",
    "        structures[(structures[\"structure.dfg\"] == \"out\")], \n",
    "        N_STRUCTURES, \n",
    "        SEED, \n",
    "        ANCHOR_RESIDUES, \n",
    "        SUBPOCKET_NAMES, \n",
    "        [\"violet\", \"turquoise\", \"lime\"], \n",
    "        session\n",
    "    ),\n",
    "}"
   ]
  },
  {
   "cell_type": "code",
   "execution_count": null,
   "metadata": {},
   "outputs": [],
   "source": [
    "viewer = PocketViewer()\n",
    "for _, pockets in pockets_by_conformation.items():\n",
    "    for pocket in pockets:\n",
    "        viewer.add_pocket(pocket, sphere_opacity=1)\n",
    "viewer.viewer"
   ]
  },
  {
   "cell_type": "code",
   "execution_count": null,
   "metadata": {},
   "outputs": [],
   "source": [
    "viewer.structure_names"
   ]
  },
  {
   "cell_type": "code",
   "execution_count": null,
   "metadata": {},
   "outputs": [],
   "source": [
    "viewer.show_only(5730)"
   ]
  },
  {
   "cell_type": "markdown",
   "metadata": {},
   "source": [
    "### aC-helix conformation [WIP]\n",
    "\n",
    "__KLIFS definitions__\n",
    "\n",
    "* aC helix conformation: Distance between the Ca atoms of residue 82 (DFG) and conserved residue 24 (aC helix).\n",
    "  * aC-in: $[4, 7.2]$\n",
    "  * aC-out: $>9.3$\n",
    "  * aC-out-like: $[7.2, 9.3]$\n",
    "* DFG conformation: Manually."
   ]
  },
  {
   "cell_type": "markdown",
   "metadata": {},
   "source": [
    "__Examples by Ung _et al.___\n",
    "\n",
    "BRAF structures in different conformations taken from [Ung _et al._ (2018)](https://www.sciencedirect.com/science/article/pii/S2451945618301491).\n",
    "\n",
    "|             | aC-in        | aC-out       |\n",
    "|-------------|--------------|--------------|\n",
    "| __DFG-in__  | 2FB8 _CIDI_  | 4EHG _CODI_  |\n",
    "| __DFG-out__ | 1UWH _CIDO_  | 4XV9 _CODO_  |\n",
    "\n",
    "_Note_: KLIFS conformation annotation differs from Ung _et al._."
   ]
  },
  {
   "cell_type": "code",
   "execution_count": null,
   "metadata": {},
   "outputs": [],
   "source": []
  }
 ],
 "metadata": {
  "kernelspec": {
   "display_name": "Python 3",
   "language": "python",
   "name": "python3"
  },
  "language_info": {
   "codemirror_mode": {
    "name": "ipython",
    "version": 3
   },
   "file_extension": ".py",
   "mimetype": "text/x-python",
   "name": "python",
   "nbconvert_exporter": "python",
   "pygments_lexer": "ipython3",
   "version": "3.8.6"
  }
 },
 "nbformat": 4,
 "nbformat_minor": 4
}
