{
 "cells": [
  {
   "cell_type": "markdown",
   "metadata": {},
   "source": [
    "# Subpockets vs. conformations\n",
    "\n",
    "Check if our `kissim` subpockets are reasonable across different kinase conformations."
   ]
  },
  {
   "cell_type": "code",
   "execution_count": 1,
   "metadata": {},
   "outputs": [],
   "source": [
    "%load_ext autoreload\n",
    "%autoreload 2"
   ]
  },
  {
   "cell_type": "code",
   "execution_count": 2,
   "metadata": {},
   "outputs": [
    {
     "name": "stderr",
     "output_type": "stream",
     "text": [
      "INFO:opencadd.databases.klifs.api:If you want to see an non-truncated version of the DataFrames in this module, use `pd.set_option('display.max_columns', 50)` in your notebook.\n"
     ]
    },
    {
     "data": {
      "application/vnd.jupyter.widget-view+json": {
       "model_id": "f12e258a0f184169a8c1fac3d4195c57",
       "version_major": 2,
       "version_minor": 0
      },
      "text/plain": []
     },
     "metadata": {},
     "output_type": "display_data"
    }
   ],
   "source": [
    "from pathlib import Path\n",
    "\n",
    "import pandas as pd\n",
    "\n",
    "from opencadd.databases.klifs import setup_remote\n",
    "from opencadd.databases.klifs.utils import metadata_to_filepath\n",
    "from opencadd.structure.pocket import KlifsPocket, PocketViewer"
   ]
  },
  {
   "cell_type": "markdown",
   "metadata": {},
   "source": [
    "## Data retrieval (KLIFS structures)"
   ]
  },
  {
   "cell_type": "code",
   "execution_count": 3,
   "metadata": {
    "tags": []
   },
   "outputs": [
    {
     "name": "stderr",
     "output_type": "stream",
     "text": [
      "INFO:opencadd.databases.klifs.api:Set up remote session...\n",
      "INFO:opencadd.databases.klifs.api:Remote session is ready!\n"
     ]
    }
   ],
   "source": [
    "session = setup_remote()"
   ]
  },
  {
   "cell_type": "code",
   "execution_count": 4,
   "metadata": {},
   "outputs": [],
   "source": [
    "structures = session.structures.all_structures()"
   ]
  },
  {
   "cell_type": "markdown",
   "metadata": {},
   "source": [
    "Define a function that allows us to get _X_ random structures."
   ]
  },
  {
   "cell_type": "code",
   "execution_count": 5,
   "metadata": {},
   "outputs": [],
   "source": [
    "def random_pockets(structures, n_structures, seed, anchor_residues, subpocket_names, subpocket_colors, klifs_session):\n",
    "    \n",
    "    random_structures = structures.sample(n=n_structures, random_state=seed)\n",
    "    subpockets = {\n",
    "        \"anchor_residue.klifs_ids\": anchor_residues,\n",
    "        \"subpocket.name\": subpocket_names,\n",
    "        \"subpocket.color\": subpocket_colors\n",
    "    }\n",
    "    pockets = []\n",
    "    for structure_klifs_id in random_structures[\"structure.klifs_id\"]:\n",
    "        print(structure_klifs_id)\n",
    "        pocket = KlifsPocket.from_structure_klifs_id(structure_klifs_id, subpockets, klifs_session=klifs_session)\n",
    "        pockets.append(pocket)\n",
    "        \n",
    "    return pockets"
   ]
  },
  {
   "cell_type": "code",
   "execution_count": 6,
   "metadata": {},
   "outputs": [],
   "source": [
    "N_STRUCTURES = 3\n",
    "SEED = 1\n",
    "ANCHOR_RESIDUES = [[16, 47, 80], [19, 24, 81], [6, 48, 75]]\n",
    "SUBPOCKET_NAMES = [\"hinge_region\", \"dfg_region\", \"front_pocket\"]"
   ]
  },
  {
   "cell_type": "markdown",
   "metadata": {},
   "source": [
    "## Kinase conformations [WIP]"
   ]
  },
  {
   "cell_type": "markdown",
   "metadata": {},
   "source": [
    "### DFG conformations"
   ]
  },
  {
   "cell_type": "code",
   "execution_count": 7,
   "metadata": {},
   "outputs": [
    {
     "name": "stdout",
     "output_type": "stream",
     "text": [
      "6335\n"
     ]
    },
    {
     "name": "stderr",
     "output_type": "stream",
     "text": [
      "INFO:opencadd.structure.pocket.core:Pocket 6335 (set pocket residues): The following input residues were dropped because they cannot be cast to an integer (residue PDB ID, residue index): [('_', '84'), ('_', '85')]\n",
      "INFO:opencadd.structure.pocket.core:Pocket 6335 (set region residues): The following input residues were dropped because they cannot be cast to an integer (residue PDB ID, residue index): [(None, '84'), (None, '85')]\n"
     ]
    },
    {
     "name": "stdout",
     "output_type": "stream",
     "text": [
      "13036\n"
     ]
    },
    {
     "name": "stderr",
     "output_type": "stream",
     "text": [
      "INFO:opencadd.structure.pocket.core:Pocket 13036 (set pocket residues): The following input residues were dropped because they cannot be cast to an integer (residue PDB ID, residue index): [('_', '51')]\n",
      "INFO:opencadd.structure.pocket.core:Pocket 13036 (set region residues): The following input residues were dropped because they cannot be cast to an integer (residue PDB ID, residue index): [(None, '51')]\n"
     ]
    },
    {
     "name": "stdout",
     "output_type": "stream",
     "text": [
      "1670\n"
     ]
    },
    {
     "name": "stderr",
     "output_type": "stream",
     "text": [
      "INFO:opencadd.structure.pocket.core:Pocket 1670 (set pocket residues): The following input residues were dropped because they cannot be cast to an integer (residue PDB ID, residue index): [('_', '7'), ('_', '8'), ('_', '9')]\n",
      "INFO:opencadd.structure.pocket.core:Pocket 1670 (set region residues): The following input residues were dropped because they cannot be cast to an integer (residue PDB ID, residue index): [(None, '7'), (None, '8'), (None, '9')]\n"
     ]
    },
    {
     "name": "stdout",
     "output_type": "stream",
     "text": [
      "5730\n",
      "5028\n"
     ]
    },
    {
     "name": "stderr",
     "output_type": "stream",
     "text": [
      "INFO:opencadd.structure.pocket.core:Pocket 5028 (set pocket residues): The following input residues were dropped because they cannot be cast to an integer (residue PDB ID, residue index): [('_', '50')]\n",
      "INFO:opencadd.structure.pocket.core:Pocket 5028 (set region residues): The following input residues were dropped because they cannot be cast to an integer (residue PDB ID, residue index): [(None, '50')]\n"
     ]
    },
    {
     "name": "stdout",
     "output_type": "stream",
     "text": [
      "11439\n"
     ]
    },
    {
     "name": "stderr",
     "output_type": "stream",
     "text": [
      "INFO:opencadd.structure.pocket.core:Pocket 11439 (set pocket residues): The following input residues were dropped because they cannot be cast to an integer (residue PDB ID, residue index): [('_', '83'), ('_', '84'), ('_', '85')]\n",
      "INFO:opencadd.structure.pocket.core:Pocket 11439 (set region residues): The following input residues were dropped because they cannot be cast to an integer (residue PDB ID, residue index): [(None, '84'), (None, '85')]\n",
      "INFO:opencadd.structure.pocket.core:Pocket 11439 (set region residues): The following input residues were dropped because they cannot be cast to an integer (residue PDB ID, residue index): [(None, '83')]\n"
     ]
    }
   ],
   "source": [
    "pockets_by_conformation = {\n",
    "    \"in\": random_pockets(\n",
    "        structures[(structures[\"structure.dfg\"] == \"in\")], \n",
    "        N_STRUCTURES, \n",
    "        SEED, \n",
    "        ANCHOR_RESIDUES, \n",
    "        SUBPOCKET_NAMES, \n",
    "        [\"magenta\", \"cyan\", \"green\"], \n",
    "        session),\n",
    "    \"out\": random_pockets(\n",
    "        structures[(structures[\"structure.dfg\"] == \"out\")], \n",
    "        N_STRUCTURES, \n",
    "        SEED, \n",
    "        ANCHOR_RESIDUES, \n",
    "        SUBPOCKET_NAMES, \n",
    "        [\"violet\", \"turquoise\", \"lime\"], \n",
    "        session\n",
    "    ),\n",
    "}"
   ]
  },
  {
   "cell_type": "code",
   "execution_count": 8,
   "metadata": {},
   "outputs": [
    {
     "data": {
      "application/vnd.jupyter.widget-view+json": {
       "model_id": "223aa0cc75fd4c998c5af387c09b3936",
       "version_major": 2,
       "version_minor": 0
      },
      "text/plain": [
       "NGLWidget()"
      ]
     },
     "metadata": {},
     "output_type": "display_data"
    }
   ],
   "source": [
    "viewer = PocketViewer()\n",
    "for _, pockets in pockets_by_conformation.items():\n",
    "    for pocket in pockets:\n",
    "        viewer.add_pocket(pocket, sphere_opacity=1)\n",
    "viewer.viewer"
   ]
  },
  {
   "cell_type": "code",
   "execution_count": 9,
   "metadata": {},
   "outputs": [
    {
     "data": {
      "text/plain": [
       "[6335, 13036, 1670, 5730, 5028, 11439]"
      ]
     },
     "execution_count": 9,
     "metadata": {},
     "output_type": "execute_result"
    }
   ],
   "source": [
    "viewer.structure_names"
   ]
  },
  {
   "cell_type": "code",
   "execution_count": null,
   "metadata": {},
   "outputs": [],
   "source": [
    "viewer.show_only(5730)"
   ]
  },
  {
   "cell_type": "markdown",
   "metadata": {},
   "source": [
    "## Check aC-helix conformation\n",
    "\n",
    "__KLIFS definitions__\n",
    "\n",
    "* aC helix conformation: Distance between the Ca atoms of residue 82 (DFG) and conserved residue 24 (aC helix).\n",
    "  * aC-in: $[4, 7.2]$\n",
    "  * aC-out: $>9.3$\n",
    "  * aC-out-like: $[7.2, 9.3]$\n",
    "* DFG conformation: Manually."
   ]
  },
  {
   "cell_type": "markdown",
   "metadata": {},
   "source": [
    "__Examples by Ung _et al.___\n",
    "\n",
    "BRAF structures in different conformations taken from [Ung _et al._ (2018)](https://www.sciencedirect.com/science/article/pii/S2451945618301491).\n",
    "\n",
    "|             | aC-in        | aC-out       |\n",
    "|-------------|--------------|--------------|\n",
    "| __DFG-in__  | 2FB8 _CIDI_  | 4EHG _CODI_  |\n",
    "| __DFG-out__ | 1UWH _CIDO_  | 4XV9 _CODO_  |\n",
    "\n",
    "_Note_: KLIFS conformation annotation differs from Ung _et al._."
   ]
  },
  {
   "cell_type": "code",
   "execution_count": null,
   "metadata": {},
   "outputs": [],
   "source": []
  }
 ],
 "metadata": {
  "kernelspec": {
   "display_name": "Python 3",
   "language": "python",
   "name": "python3"
  },
  "language_info": {
   "codemirror_mode": {
    "name": "ipython",
    "version": 3
   },
   "file_extension": ".py",
   "mimetype": "text/x-python",
   "name": "python",
   "nbconvert_exporter": "python",
   "pygments_lexer": "ipython3",
   "version": "3.8.6"
  }
 },
 "nbformat": 4,
 "nbformat_minor": 4
}
