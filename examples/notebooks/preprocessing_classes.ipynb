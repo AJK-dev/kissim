{
 "cells": [
  {
   "cell_type": "markdown",
   "metadata": {},
   "source": [
    "# Preprocessing"
   ]
  },
  {
   "cell_type": "code",
   "execution_count": 1,
   "metadata": {},
   "outputs": [],
   "source": [
    "%load_ext autoreload"
   ]
  },
  {
   "cell_type": "code",
   "execution_count": 2,
   "metadata": {},
   "outputs": [],
   "source": [
    "%autoreload 2"
   ]
  },
  {
   "cell_type": "code",
   "execution_count": 3,
   "metadata": {},
   "outputs": [],
   "source": [
    "from pathlib import Path\n",
    "import sys\n",
    "\n",
    "sys.path.append('../..')\n",
    "from kinsim_structure.preprocessing import KlifsMetadataLoader, KlifsMetadataFilter"
   ]
  },
  {
   "cell_type": "code",
   "execution_count": 4,
   "metadata": {},
   "outputs": [],
   "source": [
    "path_to_kinsim = Path('.') / '..' / '..'"
   ]
  },
  {
   "cell_type": "markdown",
   "metadata": {},
   "source": [
    "## KlifsMetadataLoader"
   ]
  },
  {
   "cell_type": "code",
   "execution_count": 5,
   "metadata": {},
   "outputs": [],
   "source": [
    "klifs_overview_file = path_to_kinsim / 'kinsim_structure' / 'tests' / 'data' / 'KLIFS_overview.csv'\n",
    "klifs_export_file = path_to_kinsim / 'kinsim_structure' / 'tests' / 'data' / 'KLIFS_export.csv'"
   ]
  },
  {
   "cell_type": "code",
   "execution_count": 6,
   "metadata": {},
   "outputs": [],
   "source": [
    "klifs_metadata_loader = KlifsMetadataLoader()\n",
    "klifs_metadata_loader.from_files(klifs_overview_file, klifs_export_file)"
   ]
  },
  {
   "cell_type": "code",
   "execution_count": 7,
   "metadata": {},
   "outputs": [
    {
     "data": {
      "text/html": [
       "<div>\n",
       "<style scoped>\n",
       "    .dataframe tbody tr th:only-of-type {\n",
       "        vertical-align: middle;\n",
       "    }\n",
       "\n",
       "    .dataframe tbody tr th {\n",
       "        vertical-align: top;\n",
       "    }\n",
       "\n",
       "    .dataframe thead th {\n",
       "        text-align: right;\n",
       "    }\n",
       "</style>\n",
       "<table border=\"1\" class=\"dataframe\">\n",
       "  <thead>\n",
       "    <tr style=\"text-align: right;\">\n",
       "      <th></th>\n",
       "      <th>pdb_id</th>\n",
       "      <th>alternate_model</th>\n",
       "      <th>chain</th>\n",
       "      <th>kinase</th>\n",
       "      <th>kinase_all</th>\n",
       "      <th>family</th>\n",
       "      <th>groups</th>\n",
       "      <th>species</th>\n",
       "      <th>dfg</th>\n",
       "      <th>ac_helix</th>\n",
       "      <th>pocket</th>\n",
       "      <th>rmsd1</th>\n",
       "      <th>rmsd2</th>\n",
       "      <th>qualityscore</th>\n",
       "      <th>resolution</th>\n",
       "      <th>missing_residues</th>\n",
       "      <th>missing_atoms</th>\n",
       "      <th>filepath</th>\n",
       "    </tr>\n",
       "  </thead>\n",
       "  <tbody>\n",
       "    <tr>\n",
       "      <th>0</th>\n",
       "      <td>3dko</td>\n",
       "      <td>A</td>\n",
       "      <td>A</td>\n",
       "      <td>EphA7</td>\n",
       "      <td>[EPHA7, EphA7]</td>\n",
       "      <td>Eph</td>\n",
       "      <td>TK</td>\n",
       "      <td>Human</td>\n",
       "      <td>out</td>\n",
       "      <td>out</td>\n",
       "      <td>RVIGA_EFGEVCSVAIKTLDFLCEASIMGQFDPNVVHLEGVMIVIE...</td>\n",
       "      <td>0.944</td>\n",
       "      <td>2.254</td>\n",
       "      <td>8.1</td>\n",
       "      <td>2.0</td>\n",
       "      <td>3</td>\n",
       "      <td>7</td>\n",
       "      <td>HUMAN/EphA7/3dko_altA_chainA</td>\n",
       "    </tr>\n",
       "    <tr>\n",
       "      <th>1</th>\n",
       "      <td>2rei</td>\n",
       "      <td>B</td>\n",
       "      <td>A</td>\n",
       "      <td>EphA7</td>\n",
       "      <td>[EPHA7, EphA7]</td>\n",
       "      <td>Eph</td>\n",
       "      <td>TK</td>\n",
       "      <td>Human</td>\n",
       "      <td>in</td>\n",
       "      <td>in</td>\n",
       "      <td>RVIGAGEFGEVCSVAIKTLDFLCEASIMGQFDPNVVHLEGVMIVIE...</td>\n",
       "      <td>0.784</td>\n",
       "      <td>2.094</td>\n",
       "      <td>7.6</td>\n",
       "      <td>1.6</td>\n",
       "      <td>1</td>\n",
       "      <td>0</td>\n",
       "      <td>HUMAN/EphA7/2rei_altB_chainA</td>\n",
       "    </tr>\n",
       "    <tr>\n",
       "      <th>2</th>\n",
       "      <td>3dko</td>\n",
       "      <td>B</td>\n",
       "      <td>A</td>\n",
       "      <td>EphA7</td>\n",
       "      <td>[EPHA7, EphA7]</td>\n",
       "      <td>Eph</td>\n",
       "      <td>TK</td>\n",
       "      <td>Human</td>\n",
       "      <td>out</td>\n",
       "      <td>out</td>\n",
       "      <td>RVIGA_EFGEVCSVAIKTLDFLCEASIMGQFDPNVVHLEGVMIVIE...</td>\n",
       "      <td>0.944</td>\n",
       "      <td>2.254</td>\n",
       "      <td>8.1</td>\n",
       "      <td>2.0</td>\n",
       "      <td>3</td>\n",
       "      <td>7</td>\n",
       "      <td>HUMAN/EphA7/3dko_altB_chainA</td>\n",
       "    </tr>\n",
       "    <tr>\n",
       "      <th>3</th>\n",
       "      <td>2rei</td>\n",
       "      <td>A</td>\n",
       "      <td>A</td>\n",
       "      <td>EphA7</td>\n",
       "      <td>[EPHA7, EphA7]</td>\n",
       "      <td>Eph</td>\n",
       "      <td>TK</td>\n",
       "      <td>Human</td>\n",
       "      <td>in</td>\n",
       "      <td>in</td>\n",
       "      <td>RVIGAGEFGEVCSVAIKTLDFLCEASIMGQFDPNVVHLEGVMIVIE...</td>\n",
       "      <td>0.784</td>\n",
       "      <td>2.093</td>\n",
       "      <td>7.6</td>\n",
       "      <td>1.6</td>\n",
       "      <td>1</td>\n",
       "      <td>0</td>\n",
       "      <td>HUMAN/EphA7/2rei_altA_chainA</td>\n",
       "    </tr>\n",
       "    <tr>\n",
       "      <th>4</th>\n",
       "      <td>3v8t</td>\n",
       "      <td>B</td>\n",
       "      <td>A</td>\n",
       "      <td>ITK</td>\n",
       "      <td>[ITK]</td>\n",
       "      <td>Tec</td>\n",
       "      <td>TK</td>\n",
       "      <td>Human</td>\n",
       "      <td>in</td>\n",
       "      <td>out-like</td>\n",
       "      <td>QEIGSG___LVHLVAIKTIDFIEEAEVMMKLSPKLVQLYGVCLVFE...</td>\n",
       "      <td>0.842</td>\n",
       "      <td>2.047</td>\n",
       "      <td>7.8</td>\n",
       "      <td>2.0</td>\n",
       "      <td>4</td>\n",
       "      <td>6</td>\n",
       "      <td>HUMAN/ITK/3v8t_altB_chainA</td>\n",
       "    </tr>\n",
       "  </tbody>\n",
       "</table>\n",
       "</div>"
      ],
      "text/plain": [
       "  pdb_id alternate_model chain kinase      kinase_all family groups species  \\\n",
       "0   3dko               A     A  EphA7  [EPHA7, EphA7]    Eph     TK   Human   \n",
       "1   2rei               B     A  EphA7  [EPHA7, EphA7]    Eph     TK   Human   \n",
       "2   3dko               B     A  EphA7  [EPHA7, EphA7]    Eph     TK   Human   \n",
       "3   2rei               A     A  EphA7  [EPHA7, EphA7]    Eph     TK   Human   \n",
       "4   3v8t               B     A    ITK           [ITK]    Tec     TK   Human   \n",
       "\n",
       "   dfg  ac_helix                                             pocket  rmsd1  \\\n",
       "0  out       out  RVIGA_EFGEVCSVAIKTLDFLCEASIMGQFDPNVVHLEGVMIVIE...  0.944   \n",
       "1   in        in  RVIGAGEFGEVCSVAIKTLDFLCEASIMGQFDPNVVHLEGVMIVIE...  0.784   \n",
       "2  out       out  RVIGA_EFGEVCSVAIKTLDFLCEASIMGQFDPNVVHLEGVMIVIE...  0.944   \n",
       "3   in        in  RVIGAGEFGEVCSVAIKTLDFLCEASIMGQFDPNVVHLEGVMIVIE...  0.784   \n",
       "4   in  out-like  QEIGSG___LVHLVAIKTIDFIEEAEVMMKLSPKLVQLYGVCLVFE...  0.842   \n",
       "\n",
       "   rmsd2  qualityscore  resolution  missing_residues  missing_atoms  \\\n",
       "0  2.254           8.1         2.0                 3              7   \n",
       "1  2.094           7.6         1.6                 1              0   \n",
       "2  2.254           8.1         2.0                 3              7   \n",
       "3  2.093           7.6         1.6                 1              0   \n",
       "4  2.047           7.8         2.0                 4              6   \n",
       "\n",
       "                       filepath  \n",
       "0  HUMAN/EphA7/3dko_altA_chainA  \n",
       "1  HUMAN/EphA7/2rei_altB_chainA  \n",
       "2  HUMAN/EphA7/3dko_altB_chainA  \n",
       "3  HUMAN/EphA7/2rei_altA_chainA  \n",
       "4    HUMAN/ITK/3v8t_altB_chainA  "
      ]
     },
     "execution_count": 7,
     "metadata": {},
     "output_type": "execute_result"
    }
   ],
   "source": [
    "klifs_metadata = klifs_metadata_loader.data_reduced\n",
    "klifs_metadata.head()"
   ]
  },
  {
   "cell_type": "markdown",
   "metadata": {},
   "source": [
    "## KlifsMetadataFilter"
   ]
  },
  {
   "cell_type": "code",
   "execution_count": 8,
   "metadata": {},
   "outputs": [],
   "source": [
    "path_to_klifs_download = Path('/home/dominique/Documents/data/kinsim/20190724_full/raw')"
   ]
  },
  {
   "cell_type": "code",
   "execution_count": 9,
   "metadata": {},
   "outputs": [],
   "source": [
    "klifs_metadata_filter = KlifsMetadataFilter()\n",
    "klifs_metadata_filter.from_klifs_metadata(klifs_metadata, path_to_klifs_download)"
   ]
  },
  {
   "cell_type": "code",
   "execution_count": 10,
   "metadata": {},
   "outputs": [
    {
     "data": {
      "text/html": [
       "<div>\n",
       "<style scoped>\n",
       "    .dataframe tbody tr th:only-of-type {\n",
       "        vertical-align: middle;\n",
       "    }\n",
       "\n",
       "    .dataframe tbody tr th {\n",
       "        vertical-align: top;\n",
       "    }\n",
       "\n",
       "    .dataframe thead th {\n",
       "        text-align: right;\n",
       "    }\n",
       "</style>\n",
       "<table border=\"1\" class=\"dataframe\">\n",
       "  <thead>\n",
       "    <tr style=\"text-align: right;\">\n",
       "      <th></th>\n",
       "      <th>filtering_step</th>\n",
       "      <th>n_filtered</th>\n",
       "      <th>n_remained</th>\n",
       "    </tr>\n",
       "  </thead>\n",
       "  <tbody>\n",
       "    <tr>\n",
       "      <th>0</th>\n",
       "      <td>Unfiltered</td>\n",
       "      <td>0</td>\n",
       "      <td>10469</td>\n",
       "    </tr>\n",
       "    <tr>\n",
       "      <th>1</th>\n",
       "      <td>Only Human</td>\n",
       "      <td>505</td>\n",
       "      <td>9964</td>\n",
       "    </tr>\n",
       "    <tr>\n",
       "      <th>2</th>\n",
       "      <td>Only DFG in</td>\n",
       "      <td>1298</td>\n",
       "      <td>8666</td>\n",
       "    </tr>\n",
       "    <tr>\n",
       "      <th>3</th>\n",
       "      <td>Only unique kinase-PDB ID pairs</td>\n",
       "      <td>4656</td>\n",
       "      <td>4010</td>\n",
       "    </tr>\n",
       "    <tr>\n",
       "      <th>4</th>\n",
       "      <td>Only existing mol2 files</td>\n",
       "      <td>88</td>\n",
       "      <td>3922</td>\n",
       "    </tr>\n",
       "  </tbody>\n",
       "</table>\n",
       "</div>"
      ],
      "text/plain": [
       "                    filtering_step n_filtered n_remained\n",
       "0                       Unfiltered          0      10469\n",
       "1                       Only Human        505       9964\n",
       "2                      Only DFG in       1298       8666\n",
       "3  Only unique kinase-PDB ID pairs       4656       4010\n",
       "4         Only existing mol2 files         88       3922"
      ]
     },
     "execution_count": 10,
     "metadata": {},
     "output_type": "execute_result"
    }
   ],
   "source": [
    "klifs_metadata_filter.filtering_statistics"
   ]
  }
 ],
 "metadata": {
  "kernelspec": {
   "display_name": "kinsim",
   "language": "python",
   "name": "kinsim"
  },
  "language_info": {
   "codemirror_mode": {
    "name": "ipython",
    "version": 3
   },
   "file_extension": ".py",
   "mimetype": "text/x-python",
   "name": "python",
   "nbconvert_exporter": "python",
   "pygments_lexer": "ipython3",
   "version": "3.6.7"
  }
 },
 "nbformat": 4,
 "nbformat_minor": 4
}
