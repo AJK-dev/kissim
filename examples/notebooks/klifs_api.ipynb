{
 "cells": [
  {
   "cell_type": "code",
   "execution_count": null,
   "metadata": {},
   "outputs": [],
   "source": []
  },
  {
   "cell_type": "raw",
   "metadata": {
    "scrolled": true
   },
   "source": [
    "!pip install bravado"
   ]
  },
  {
   "cell_type": "markdown",
   "metadata": {},
   "source": [
    "## Imports"
   ]
  },
  {
   "cell_type": "code",
   "execution_count": 1,
   "metadata": {},
   "outputs": [],
   "source": [
    "import requests"
   ]
  },
  {
   "cell_type": "code",
   "execution_count": 2,
   "metadata": {},
   "outputs": [],
   "source": [
    "import pandas as pd"
   ]
  },
  {
   "cell_type": "code",
   "execution_count": 3,
   "metadata": {},
   "outputs": [],
   "source": [
    "from bravado.client import SwaggerClient\n",
    "\n",
    "KLIFS_API_DEFINITIONS = \"http://klifs.vu-compmedchem.nl/swagger/swagger.json\"\n",
    "KLIFS_CLIENT = SwaggerClient.from_url(KLIFS_API_DEFINITIONS, config={'validate_responses': False})"
   ]
  },
  {
   "cell_type": "markdown",
   "metadata": {},
   "source": [
    "## Get kinase names"
   ]
  },
  {
   "cell_type": "code",
   "execution_count": 4,
   "metadata": {
    "scrolled": false
   },
   "outputs": [],
   "source": [
    "kinase_names = KLIFS_CLIENT.Information.get_kinase_names().response().result"
   ]
  },
  {
   "cell_type": "code",
   "execution_count": 5,
   "metadata": {},
   "outputs": [
    {
     "data": {
      "text/plain": [
       "(1127, 4)"
      ]
     },
     "execution_count": 5,
     "metadata": {},
     "output_type": "execute_result"
    }
   ],
   "source": [
    "kinase_names = pd.DataFrame(\n",
    "    [\n",
    "        [\n",
    "            i.name, \n",
    "            i.full_name, \n",
    "            i.species, \n",
    "            i.kinase_ID\n",
    "        ] for i in kinase_names\n",
    "    ], \n",
    "    columns=[\n",
    "        'name', \n",
    "        'full_name', \n",
    "        'species', \n",
    "        'kinase_ID'\n",
    "    ]\n",
    ")\n",
    "kinase_names.shape"
   ]
  },
  {
   "cell_type": "code",
   "execution_count": 6,
   "metadata": {},
   "outputs": [
    {
     "data": {
      "text/html": [
       "<div>\n",
       "<style scoped>\n",
       "    .dataframe tbody tr th:only-of-type {\n",
       "        vertical-align: middle;\n",
       "    }\n",
       "\n",
       "    .dataframe tbody tr th {\n",
       "        vertical-align: top;\n",
       "    }\n",
       "\n",
       "    .dataframe thead th {\n",
       "        text-align: right;\n",
       "    }\n",
       "</style>\n",
       "<table border=\"1\" class=\"dataframe\">\n",
       "  <thead>\n",
       "    <tr style=\"text-align: right;\">\n",
       "      <th></th>\n",
       "      <th>name</th>\n",
       "      <th>full_name</th>\n",
       "      <th>species</th>\n",
       "      <th>kinase_ID</th>\n",
       "    </tr>\n",
       "  </thead>\n",
       "  <tbody>\n",
       "    <tr>\n",
       "      <th>0</th>\n",
       "      <td>4921509C19Rik</td>\n",
       "      <td>RIKEN cDNA 4921509C19 gene</td>\n",
       "      <td>Mouse</td>\n",
       "      <td>813</td>\n",
       "    </tr>\n",
       "    <tr>\n",
       "      <th>1</th>\n",
       "      <td>4921509C19Rik</td>\n",
       "      <td>RIKEN cDNA 4921509C19 gene</td>\n",
       "      <td>Mouse</td>\n",
       "      <td>815</td>\n",
       "    </tr>\n",
       "    <tr>\n",
       "      <th>2</th>\n",
       "      <td>4921509C19Rik</td>\n",
       "      <td>RIKEN cDNA 4921509C19 gene</td>\n",
       "      <td>Mouse</td>\n",
       "      <td>814</td>\n",
       "    </tr>\n",
       "    <tr>\n",
       "      <th>3</th>\n",
       "      <td>Aak1</td>\n",
       "      <td>AP2 associated kinase 1</td>\n",
       "      <td>Mouse</td>\n",
       "      <td>531</td>\n",
       "    </tr>\n",
       "    <tr>\n",
       "      <th>4</th>\n",
       "      <td>AAK1</td>\n",
       "      <td>AP2 associated kinase 1</td>\n",
       "      <td>Human</td>\n",
       "      <td>277</td>\n",
       "    </tr>\n",
       "  </tbody>\n",
       "</table>\n",
       "</div>"
      ],
      "text/plain": [
       "            name                   full_name species  kinase_ID\n",
       "0  4921509C19Rik  RIKEN cDNA 4921509C19 gene   Mouse        813\n",
       "1  4921509C19Rik  RIKEN cDNA 4921509C19 gene   Mouse        815\n",
       "2  4921509C19Rik  RIKEN cDNA 4921509C19 gene   Mouse        814\n",
       "3           Aak1     AP2 associated kinase 1   Mouse        531\n",
       "4           AAK1     AP2 associated kinase 1   Human        277"
      ]
     },
     "execution_count": 6,
     "metadata": {},
     "output_type": "execute_result"
    }
   ],
   "source": [
    "kinase_names.head()"
   ]
  },
  {
   "cell_type": "markdown",
   "metadata": {},
   "source": [
    "## Get kinase IDs"
   ]
  },
  {
   "cell_type": "code",
   "execution_count": 7,
   "metadata": {},
   "outputs": [],
   "source": [
    "kinase_ids = KLIFS_CLIENT.Information.get_kinase_ID(\n",
    "    kinase_name=', '.join(kinase_names.name)\n",
    ").response().result"
   ]
  },
  {
   "cell_type": "code",
   "execution_count": 8,
   "metadata": {},
   "outputs": [
    {
     "data": {
      "text/plain": [
       "(1127, 11)"
      ]
     },
     "execution_count": 8,
     "metadata": {},
     "output_type": "execute_result"
    }
   ],
   "source": [
    "kinase_ids = pd.DataFrame(\n",
    "    [\n",
    "        [\n",
    "            i.HGNC,\n",
    "            i.family,\n",
    "            i.full_name,\n",
    "            i.group,\n",
    "            i.iuphar,\n",
    "            i.kinase_ID,\n",
    "            i.kinase_class,\n",
    "            i.name,\n",
    "            i.pocket,\n",
    "            i.species,\n",
    "            i.uniprot\n",
    "        ] for i in kinase_ids\n",
    "    ], \n",
    "    columns=[\n",
    "        'HGNC',\n",
    "        'family',\n",
    "        'full_name',\n",
    "        'group',\n",
    "        'iuphar',\n",
    "        'kinase_ID',\n",
    "        'kinase_class',\n",
    "        'name',\n",
    "        'pocket',\n",
    "        'species',\n",
    "        'uniprot'\n",
    "    ]\n",
    ")\n",
    "kinase_ids.shape"
   ]
  },
  {
   "cell_type": "code",
   "execution_count": 9,
   "metadata": {},
   "outputs": [
    {
     "data": {
      "text/html": [
       "<div>\n",
       "<style scoped>\n",
       "    .dataframe tbody tr th:only-of-type {\n",
       "        vertical-align: middle;\n",
       "    }\n",
       "\n",
       "    .dataframe tbody tr th {\n",
       "        vertical-align: top;\n",
       "    }\n",
       "\n",
       "    .dataframe thead th {\n",
       "        text-align: right;\n",
       "    }\n",
       "</style>\n",
       "<table border=\"1\" class=\"dataframe\">\n",
       "  <thead>\n",
       "    <tr style=\"text-align: right;\">\n",
       "      <th></th>\n",
       "      <th>HGNC</th>\n",
       "      <th>family</th>\n",
       "      <th>full_name</th>\n",
       "      <th>group</th>\n",
       "      <th>iuphar</th>\n",
       "      <th>kinase_ID</th>\n",
       "      <th>kinase_class</th>\n",
       "      <th>name</th>\n",
       "      <th>pocket</th>\n",
       "      <th>species</th>\n",
       "      <th>uniprot</th>\n",
       "    </tr>\n",
       "  </thead>\n",
       "  <tbody>\n",
       "    <tr>\n",
       "      <th>0</th>\n",
       "      <td>DYRK1A</td>\n",
       "      <td>DYRK</td>\n",
       "      <td>dual specificity tyrosine phosphorylation regu...</td>\n",
       "      <td>CMGC</td>\n",
       "      <td>2009</td>\n",
       "      <td>227</td>\n",
       "      <td>DYRK1</td>\n",
       "      <td>DYRK1A</td>\n",
       "      <td>SLIGKGSFGQVVKVAIKIIQAQIEVRLLELMNYYIVHLKRHCLVFE...</td>\n",
       "      <td>Human</td>\n",
       "      <td>Q13627</td>\n",
       "    </tr>\n",
       "    <tr>\n",
       "      <th>1</th>\n",
       "      <td>GRK4</td>\n",
       "      <td>GRK</td>\n",
       "      <td>G protein-coupled receptor kinase 4</td>\n",
       "      <td>AGC</td>\n",
       "      <td>1468</td>\n",
       "      <td>13</td>\n",
       "      <td>GRK</td>\n",
       "      <td>GPRK4</td>\n",
       "      <td>RVLGKGGFGEVCAYACKKLMALNEKRILEKVQRFVVSLAYACLVLT...</td>\n",
       "      <td>Human</td>\n",
       "      <td>P32298</td>\n",
       "    </tr>\n",
       "    <tr>\n",
       "      <th>2</th>\n",
       "      <td>GRK6</td>\n",
       "      <td>GRK</td>\n",
       "      <td>G protein-coupled receptor kinase 6</td>\n",
       "      <td>AGC</td>\n",
       "      <td>1470</td>\n",
       "      <td>15</td>\n",
       "      <td>GRK</td>\n",
       "      <td>GPRK6</td>\n",
       "      <td>RVLGKGGFGEVCAYACKKLMALNEKQILEKVNRFVVSLAYACLVLT...</td>\n",
       "      <td>Human</td>\n",
       "      <td>P43250</td>\n",
       "    </tr>\n",
       "    <tr>\n",
       "      <th>3</th>\n",
       "      <td>LATS2</td>\n",
       "      <td>NDR</td>\n",
       "      <td>large tumor suppressor kinase 2</td>\n",
       "      <td>AGC</td>\n",
       "      <td>1516</td>\n",
       "      <td>26</td>\n",
       "      <td></td>\n",
       "      <td>LATS2</td>\n",
       "      <td>KTLGIGAFGEVCLYAMKTLHVKAERDILAEADEWVVKLYYSYFVMD...</td>\n",
       "      <td>Human</td>\n",
       "      <td>Q9NRM7</td>\n",
       "    </tr>\n",
       "    <tr>\n",
       "      <th>4</th>\n",
       "      <td>PRKACB</td>\n",
       "      <td>PKA</td>\n",
       "      <td>protein kinase cAMP-activated catalytic subuni...</td>\n",
       "      <td>AGC</td>\n",
       "      <td>1477</td>\n",
       "      <td>29</td>\n",
       "      <td></td>\n",
       "      <td>PKACb</td>\n",
       "      <td>KTLGTGSFGRVMLYAMKILHTLNEKRILQAVNPFLVRLEYAYMVME...</td>\n",
       "      <td>Human</td>\n",
       "      <td>P22694</td>\n",
       "    </tr>\n",
       "  </tbody>\n",
       "</table>\n",
       "</div>"
      ],
      "text/plain": [
       "     HGNC family                                          full_name group  \\\n",
       "0  DYRK1A   DYRK  dual specificity tyrosine phosphorylation regu...  CMGC   \n",
       "1    GRK4    GRK                G protein-coupled receptor kinase 4   AGC   \n",
       "2    GRK6    GRK                G protein-coupled receptor kinase 6   AGC   \n",
       "3   LATS2    NDR                    large tumor suppressor kinase 2   AGC   \n",
       "4  PRKACB    PKA  protein kinase cAMP-activated catalytic subuni...   AGC   \n",
       "\n",
       "   iuphar  kinase_ID kinase_class    name  \\\n",
       "0    2009        227        DYRK1  DYRK1A   \n",
       "1    1468         13          GRK   GPRK4   \n",
       "2    1470         15          GRK   GPRK6   \n",
       "3    1516         26                LATS2   \n",
       "4    1477         29                PKACb   \n",
       "\n",
       "                                              pocket species uniprot  \n",
       "0  SLIGKGSFGQVVKVAIKIIQAQIEVRLLELMNYYIVHLKRHCLVFE...   Human  Q13627  \n",
       "1  RVLGKGGFGEVCAYACKKLMALNEKRILEKVQRFVVSLAYACLVLT...   Human  P32298  \n",
       "2  RVLGKGGFGEVCAYACKKLMALNEKQILEKVNRFVVSLAYACLVLT...   Human  P43250  \n",
       "3  KTLGIGAFGEVCLYAMKTLHVKAERDILAEADEWVVKLYYSYFVMD...   Human  Q9NRM7  \n",
       "4  KTLGTGSFGRVMLYAMKILHTLNEKRILQAVNPFLVRLEYAYMVME...   Human  P22694  "
      ]
     },
     "execution_count": 9,
     "metadata": {},
     "output_type": "execute_result"
    }
   ],
   "source": [
    "kinase_ids.head()"
   ]
  },
  {
   "cell_type": "markdown",
   "metadata": {},
   "source": [
    "## Get structures"
   ]
  },
  {
   "cell_type": "code",
   "execution_count": 10,
   "metadata": {},
   "outputs": [],
   "source": [
    "structures_list = KLIFS_CLIENT.Structures.get_structures_list(\n",
    "        kinase_ID=[str(i) for i in kinase_ids.kinase_ID]\n",
    ").response().result"
   ]
  },
  {
   "cell_type": "code",
   "execution_count": 11,
   "metadata": {},
   "outputs": [
    {
     "data": {
      "text/plain": [
       "(10391, 36)"
      ]
     },
     "execution_count": 11,
     "metadata": {},
     "output_type": "execute_result"
    }
   ],
   "source": [
    "structures_list = pd.DataFrame(\n",
    "    [\n",
    "        [\n",
    "            i.DFG,\n",
    "            i.Grich_angle,\n",
    "            i.Grich_distance,\n",
    "            i.Grich_rotation,\n",
    "            i.aC_helix,\n",
    "            i.allosteric_ligand,\n",
    "            i.alt,\n",
    "            i.back,\n",
    "            i.bp_III,\n",
    "            i.bp_II_A_in,\n",
    "            i.bp_II_B,\n",
    "            i.bp_II_B_in,\n",
    "            i.bp_II_in,\n",
    "            i.bp_II_out,\n",
    "            i.bp_IV,\n",
    "            i.bp_I_A,\n",
    "            i.bp_I_B,\n",
    "            i.bp_V,\n",
    "            i.chain,\n",
    "            i.fp_I,\n",
    "            i.fp_II,\n",
    "            i.front,\n",
    "            i.gate,\n",
    "            i.kinase,\n",
    "            i.kinase_ID,\n",
    "            i.ligand,\n",
    "            i.missing_atoms,\n",
    "            i.missing_residues,\n",
    "            i.pdb,\n",
    "            i.pocket,\n",
    "            i.quality_score,\n",
    "            i.resolution,\n",
    "            i.rmsd1,\n",
    "            i.rmsd2,\n",
    "            i.species,\n",
    "            i.structure_ID\n",
    "        ]\n",
    "        for i in structures_list\n",
    "    ],\n",
    "    columns=[\n",
    "        'DFG',\n",
    "        'Grich_angle',\n",
    "        'Grich_distance',\n",
    "        'Grich_rotation',\n",
    "        'aC_helix',\n",
    "        'allosteric_ligand',\n",
    "        'alt',\n",
    "        'back',\n",
    "        'bp_III',\n",
    "        'bp_II_A_in',\n",
    "        'bp_II_B',\n",
    "        'bp_II_B_in',\n",
    "        'bp_II_in',\n",
    "        'bp_II_out',\n",
    "        'bp_IV',\n",
    "        'bp_I_A',\n",
    "        'bp_I_B',\n",
    "        'bp_V',\n",
    "        'chain',\n",
    "        'fp_I',\n",
    "        'fp_II',\n",
    "        'front',\n",
    "        'gate',\n",
    "        'kinase',\n",
    "        'kinase_ID',\n",
    "        'ligand',\n",
    "        'missing_atoms',\n",
    "        'missing_residues',\n",
    "        'pdb',\n",
    "        'pocket',\n",
    "        'quality_score',\n",
    "        'resolution',\n",
    "        'rmsd1',\n",
    "        'rmsd2',\n",
    "        'species',\n",
    "        'structure_ID'\n",
    "    ]\n",
    ")\n",
    "structures_list.shape"
   ]
  },
  {
   "cell_type": "code",
   "execution_count": 12,
   "metadata": {},
   "outputs": [
    {
     "data": {
      "text/html": [
       "<div>\n",
       "<style scoped>\n",
       "    .dataframe tbody tr th:only-of-type {\n",
       "        vertical-align: middle;\n",
       "    }\n",
       "\n",
       "    .dataframe tbody tr th {\n",
       "        vertical-align: top;\n",
       "    }\n",
       "\n",
       "    .dataframe thead th {\n",
       "        text-align: right;\n",
       "    }\n",
       "</style>\n",
       "<table border=\"1\" class=\"dataframe\">\n",
       "  <thead>\n",
       "    <tr style=\"text-align: right;\">\n",
       "      <th></th>\n",
       "      <th>DFG</th>\n",
       "      <th>Grich_angle</th>\n",
       "      <th>Grich_distance</th>\n",
       "      <th>Grich_rotation</th>\n",
       "      <th>aC_helix</th>\n",
       "      <th>allosteric_ligand</th>\n",
       "      <th>alt</th>\n",
       "      <th>back</th>\n",
       "      <th>bp_III</th>\n",
       "      <th>bp_II_A_in</th>\n",
       "      <th>...</th>\n",
       "      <th>missing_atoms</th>\n",
       "      <th>missing_residues</th>\n",
       "      <th>pdb</th>\n",
       "      <th>pocket</th>\n",
       "      <th>quality_score</th>\n",
       "      <th>resolution</th>\n",
       "      <th>rmsd1</th>\n",
       "      <th>rmsd2</th>\n",
       "      <th>species</th>\n",
       "      <th>structure_ID</th>\n",
       "    </tr>\n",
       "  </thead>\n",
       "  <tbody>\n",
       "    <tr>\n",
       "      <th>0</th>\n",
       "      <td>in</td>\n",
       "      <td>59.5948</td>\n",
       "      <td>17.9011</td>\n",
       "      <td>60.8725</td>\n",
       "      <td>in</td>\n",
       "      <td>0</td>\n",
       "      <td>C</td>\n",
       "      <td>False</td>\n",
       "      <td>False</td>\n",
       "      <td>False</td>\n",
       "      <td>...</td>\n",
       "      <td>0</td>\n",
       "      <td>0</td>\n",
       "      <td>6c0i</td>\n",
       "      <td>KLLGKGTFGKVILYAMKILHTLTENRVLQNSRPFLTALKYSCFVME...</td>\n",
       "      <td>8.0</td>\n",
       "      <td>2.40</td>\n",
       "      <td>0.776</td>\n",
       "      <td>2.091</td>\n",
       "      <td>Human</td>\n",
       "      <td>10429</td>\n",
       "    </tr>\n",
       "    <tr>\n",
       "      <th>1</th>\n",
       "      <td>in</td>\n",
       "      <td>55.7058</td>\n",
       "      <td>17.2603</td>\n",
       "      <td>65.7051</td>\n",
       "      <td>in</td>\n",
       "      <td>0</td>\n",
       "      <td></td>\n",
       "      <td>False</td>\n",
       "      <td>False</td>\n",
       "      <td>False</td>\n",
       "      <td>...</td>\n",
       "      <td>0</td>\n",
       "      <td>0</td>\n",
       "      <td>4ekl</td>\n",
       "      <td>KLLGKGTFGKVILYAMKILHTLTENRVLQNSRPFLTALKYSCFVME...</td>\n",
       "      <td>8.0</td>\n",
       "      <td>2.00</td>\n",
       "      <td>0.782</td>\n",
       "      <td>2.102</td>\n",
       "      <td>Human</td>\n",
       "      <td>2540</td>\n",
       "    </tr>\n",
       "    <tr>\n",
       "      <th>2</th>\n",
       "      <td>in</td>\n",
       "      <td>57.0960</td>\n",
       "      <td>17.1370</td>\n",
       "      <td>63.4985</td>\n",
       "      <td>in</td>\n",
       "      <td>0</td>\n",
       "      <td></td>\n",
       "      <td>False</td>\n",
       "      <td>False</td>\n",
       "      <td>False</td>\n",
       "      <td>...</td>\n",
       "      <td>0</td>\n",
       "      <td>0</td>\n",
       "      <td>4ekk</td>\n",
       "      <td>KLLGKGTFGKVILYAMKILHTLTENRVLQNSRPFLTALKYSCFVME...</td>\n",
       "      <td>8.0</td>\n",
       "      <td>2.80</td>\n",
       "      <td>0.779</td>\n",
       "      <td>2.090</td>\n",
       "      <td>Human</td>\n",
       "      <td>2541</td>\n",
       "    </tr>\n",
       "    <tr>\n",
       "      <th>3</th>\n",
       "      <td>in</td>\n",
       "      <td>58.4164</td>\n",
       "      <td>17.8309</td>\n",
       "      <td>58.9605</td>\n",
       "      <td>in</td>\n",
       "      <td>0</td>\n",
       "      <td>A</td>\n",
       "      <td>False</td>\n",
       "      <td>False</td>\n",
       "      <td>False</td>\n",
       "      <td>...</td>\n",
       "      <td>0</td>\n",
       "      <td>0</td>\n",
       "      <td>4gv1</td>\n",
       "      <td>KLLGKGTFGKVILYAMKILHTLTENRVLQNSRPFLTALKYSCFVME...</td>\n",
       "      <td>8.0</td>\n",
       "      <td>1.49</td>\n",
       "      <td>0.778</td>\n",
       "      <td>2.095</td>\n",
       "      <td>Human</td>\n",
       "      <td>2543</td>\n",
       "    </tr>\n",
       "    <tr>\n",
       "      <th>4</th>\n",
       "      <td>in</td>\n",
       "      <td>60.1747</td>\n",
       "      <td>18.5556</td>\n",
       "      <td>57.3311</td>\n",
       "      <td>in</td>\n",
       "      <td>0</td>\n",
       "      <td></td>\n",
       "      <td>False</td>\n",
       "      <td>False</td>\n",
       "      <td>False</td>\n",
       "      <td>...</td>\n",
       "      <td>0</td>\n",
       "      <td>0</td>\n",
       "      <td>3qkl</td>\n",
       "      <td>KLLGKGTFGKVILYAMKILHTLTENRVLQNSRPFLTALKYSCFVME...</td>\n",
       "      <td>8.0</td>\n",
       "      <td>1.90</td>\n",
       "      <td>0.779</td>\n",
       "      <td>2.101</td>\n",
       "      <td>Human</td>\n",
       "      <td>2544</td>\n",
       "    </tr>\n",
       "  </tbody>\n",
       "</table>\n",
       "<p>5 rows × 36 columns</p>\n",
       "</div>"
      ],
      "text/plain": [
       "  DFG  Grich_angle  Grich_distance  Grich_rotation aC_helix allosteric_ligand  \\\n",
       "0  in      59.5948         17.9011         60.8725       in                 0   \n",
       "1  in      55.7058         17.2603         65.7051       in                 0   \n",
       "2  in      57.0960         17.1370         63.4985       in                 0   \n",
       "3  in      58.4164         17.8309         58.9605       in                 0   \n",
       "4  in      60.1747         18.5556         57.3311       in                 0   \n",
       "\n",
       "  alt   back  bp_III  bp_II_A_in  ...  missing_atoms  missing_residues   pdb  \\\n",
       "0   C  False   False       False  ...              0                 0  6c0i   \n",
       "1      False   False       False  ...              0                 0  4ekl   \n",
       "2      False   False       False  ...              0                 0  4ekk   \n",
       "3   A  False   False       False  ...              0                 0  4gv1   \n",
       "4      False   False       False  ...              0                 0  3qkl   \n",
       "\n",
       "                                              pocket  quality_score  \\\n",
       "0  KLLGKGTFGKVILYAMKILHTLTENRVLQNSRPFLTALKYSCFVME...            8.0   \n",
       "1  KLLGKGTFGKVILYAMKILHTLTENRVLQNSRPFLTALKYSCFVME...            8.0   \n",
       "2  KLLGKGTFGKVILYAMKILHTLTENRVLQNSRPFLTALKYSCFVME...            8.0   \n",
       "3  KLLGKGTFGKVILYAMKILHTLTENRVLQNSRPFLTALKYSCFVME...            8.0   \n",
       "4  KLLGKGTFGKVILYAMKILHTLTENRVLQNSRPFLTALKYSCFVME...            8.0   \n",
       "\n",
       "   resolution  rmsd1  rmsd2 species  structure_ID  \n",
       "0        2.40  0.776  2.091   Human         10429  \n",
       "1        2.00  0.782  2.102   Human          2540  \n",
       "2        2.80  0.779  2.090   Human          2541  \n",
       "3        1.49  0.778  2.095   Human          2543  \n",
       "4        1.90  0.779  2.101   Human          2544  \n",
       "\n",
       "[5 rows x 36 columns]"
      ]
     },
     "execution_count": 12,
     "metadata": {},
     "output_type": "execute_result"
    }
   ],
   "source": [
    "structures_list.head()"
   ]
  },
  {
   "cell_type": "code",
   "execution_count": 13,
   "metadata": {},
   "outputs": [
    {
     "data": {
      "text/plain": [
       "(9888, 36)"
      ]
     },
     "execution_count": 13,
     "metadata": {},
     "output_type": "execute_result"
    }
   ],
   "source": [
    "structures_list = structures_list[structures_list.species == 'Human']\n",
    "structures_list.shape"
   ]
  },
  {
   "cell_type": "code",
   "execution_count": 14,
   "metadata": {},
   "outputs": [
    {
     "data": {
      "text/plain": [
       "(8601, 36)"
      ]
     },
     "execution_count": 14,
     "metadata": {},
     "output_type": "execute_result"
    }
   ],
   "source": [
    "structures_list = structures_list[structures_list.DFG == 'in']\n",
    "structures_list.shape"
   ]
  },
  {
   "cell_type": "code",
   "execution_count": null,
   "metadata": {},
   "outputs": [],
   "source": []
  },
  {
   "cell_type": "code",
   "execution_count": null,
   "metadata": {},
   "outputs": [],
   "source": []
  },
  {
   "cell_type": "code",
   "execution_count": null,
   "metadata": {},
   "outputs": [],
   "source": []
  },
  {
   "cell_type": "code",
   "execution_count": null,
   "metadata": {},
   "outputs": [],
   "source": []
  }
 ],
 "metadata": {
  "kernelspec": {
   "display_name": "kinsim",
   "language": "python",
   "name": "kinsim"
  },
  "language_info": {
   "codemirror_mode": {
    "name": "ipython",
    "version": 3
   },
   "file_extension": ".py",
   "mimetype": "text/x-python",
   "name": "python",
   "nbconvert_exporter": "python",
   "pygments_lexer": "ipython3",
   "version": "3.6.7"
  }
 },
 "nbformat": 4,
 "nbformat_minor": 2
}
