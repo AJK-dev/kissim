{
 "cells": [
  {
   "cell_type": "markdown",
   "metadata": {},
   "source": [
    "# Fingerprint distance"
   ]
  },
  {
   "cell_type": "markdown",
   "metadata": {},
   "source": [
    "## Imports"
   ]
  },
  {
   "cell_type": "code",
   "execution_count": 1,
   "metadata": {},
   "outputs": [],
   "source": [
    "%load_ext autoreload"
   ]
  },
  {
   "cell_type": "code",
   "execution_count": 2,
   "metadata": {},
   "outputs": [],
   "source": [
    "%autoreload 2"
   ]
  },
  {
   "cell_type": "code",
   "execution_count": 3,
   "metadata": {
    "scrolled": true
   },
   "outputs": [
    {
     "data": {
      "application/vnd.jupyter.widget-view+json": {
       "model_id": "91a18a7b3ec642458b29782677a004fd",
       "version_major": 2,
       "version_minor": 0
      },
      "text/plain": [
       "_ColormakerRegistry()"
      ]
     },
     "metadata": {},
     "output_type": "display_data"
    }
   ],
   "source": [
    "from pathlib import Path\n",
    "import sys\n",
    "\n",
    "import pandas as pd\n",
    "\n",
    "sys.path.append('../..')\n",
    "from kinsim_structure.auxiliary import KlifsMoleculeLoader\n",
    "from kinsim_structure.encoding import Fingerprint\n",
    "from kinsim_structure.similarity import FeatureDistances, FingerprintDistance, AllAgainstAllComparison"
   ]
  },
  {
   "cell_type": "markdown",
   "metadata": {},
   "source": [
    "## IO paths"
   ]
  },
  {
   "cell_type": "code",
   "execution_count": 4,
   "metadata": {},
   "outputs": [],
   "source": [
    "path_to_kinsim = Path('.') / '..' / '..'\n",
    "path_to_data = path_to_kinsim / 'examples' / 'data'\n",
    "path_to_results = None"
   ]
  },
  {
   "cell_type": "code",
   "execution_count": 5,
   "metadata": {},
   "outputs": [],
   "source": [
    "PATH_TO_RESULTS = path_to_kinsim / 'examples' / 'results' / 'fingerprints'"
   ]
  },
  {
   "cell_type": "markdown",
   "metadata": {},
   "source": [
    "## Load KLIFS metadata"
   ]
  },
  {
   "cell_type": "code",
   "execution_count": 6,
   "metadata": {},
   "outputs": [],
   "source": [
    "klifs_metadata = pd.read_csv(path_to_data / 'postprocessed' / 'klifs_metadata_postprocessed.csv' , index_col=0)"
   ]
  },
  {
   "cell_type": "code",
   "execution_count": 7,
   "metadata": {},
   "outputs": [
    {
     "data": {
      "text/plain": [
       "(3878, 23)"
      ]
     },
     "execution_count": 7,
     "metadata": {},
     "output_type": "execute_result"
    }
   ],
   "source": [
    "klifs_metadata.shape"
   ]
  },
  {
   "cell_type": "code",
   "execution_count": 8,
   "metadata": {},
   "outputs": [
    {
     "data": {
      "text/html": [
       "<div>\n",
       "<style scoped>\n",
       "    .dataframe tbody tr th:only-of-type {\n",
       "        vertical-align: middle;\n",
       "    }\n",
       "\n",
       "    .dataframe tbody tr th {\n",
       "        vertical-align: top;\n",
       "    }\n",
       "\n",
       "    .dataframe thead th {\n",
       "        text-align: right;\n",
       "    }\n",
       "</style>\n",
       "<table border=\"1\" class=\"dataframe\">\n",
       "  <thead>\n",
       "    <tr style=\"text-align: right;\">\n",
       "      <th></th>\n",
       "      <th>metadata_index</th>\n",
       "      <th>kinase</th>\n",
       "      <th>family</th>\n",
       "      <th>groups</th>\n",
       "      <th>pdb_id</th>\n",
       "      <th>chain</th>\n",
       "      <th>alternate_model</th>\n",
       "      <th>species</th>\n",
       "      <th>ligand_orthosteric_name</th>\n",
       "      <th>ligand_orthosteric_pdb_id</th>\n",
       "      <th>...</th>\n",
       "      <th>ac_helix</th>\n",
       "      <th>rmsd1</th>\n",
       "      <th>rmsd2</th>\n",
       "      <th>qualityscore</th>\n",
       "      <th>pocket</th>\n",
       "      <th>resolution</th>\n",
       "      <th>missing_residues</th>\n",
       "      <th>missing_atoms</th>\n",
       "      <th>full_ifp</th>\n",
       "      <th>code</th>\n",
       "    </tr>\n",
       "  </thead>\n",
       "  <tbody>\n",
       "    <tr>\n",
       "      <th>0</th>\n",
       "      <td>2886</td>\n",
       "      <td>AAK1</td>\n",
       "      <td>NAK</td>\n",
       "      <td>Other</td>\n",
       "      <td>4wsq</td>\n",
       "      <td>B</td>\n",
       "      <td>A</td>\n",
       "      <td>Human</td>\n",
       "      <td>K-252A</td>\n",
       "      <td>KSA</td>\n",
       "      <td>...</td>\n",
       "      <td>in</td>\n",
       "      <td>0.777</td>\n",
       "      <td>2.125</td>\n",
       "      <td>8.6</td>\n",
       "      <td>EVLAEGGFAIVFLCALKRMVCKREIQIMRDLSKNIVGYIDSLILMD...</td>\n",
       "      <td>1.95</td>\n",
       "      <td>0</td>\n",
       "      <td>14</td>\n",
       "      <td>0000000000000010000001000000000000000000000000...</td>\n",
       "      <td>HUMAN/AAK1/4wsq_chainB_altA</td>\n",
       "    </tr>\n",
       "    <tr>\n",
       "      <th>1</th>\n",
       "      <td>10043</td>\n",
       "      <td>AAK1</td>\n",
       "      <td>NAK</td>\n",
       "      <td>Other</td>\n",
       "      <td>5l4q</td>\n",
       "      <td>A</td>\n",
       "      <td>A</td>\n",
       "      <td>Human</td>\n",
       "      <td>~{N}-[5-(4-cyanophenyl)-1~{H}-pyrrolo[2,3-b]py...</td>\n",
       "      <td>LKB</td>\n",
       "      <td>...</td>\n",
       "      <td>in</td>\n",
       "      <td>0.780</td>\n",
       "      <td>2.137</td>\n",
       "      <td>9.7</td>\n",
       "      <td>EVLAEGGFAIVFLCALKRMVCKREIQIMRDLSKNIVGYIDSLILMD...</td>\n",
       "      <td>1.97</td>\n",
       "      <td>0</td>\n",
       "      <td>3</td>\n",
       "      <td>0000000000000010000000000000000000000000000000...</td>\n",
       "      <td>HUMAN/AAK1/5l4q_chainA_altA</td>\n",
       "    </tr>\n",
       "    <tr>\n",
       "      <th>2</th>\n",
       "      <td>7046</td>\n",
       "      <td>AAK1</td>\n",
       "      <td>NAK</td>\n",
       "      <td>Other</td>\n",
       "      <td>5te0</td>\n",
       "      <td>A</td>\n",
       "      <td>-</td>\n",
       "      <td>Human</td>\n",
       "      <td>methyl (3Z)-3-{[(4-{methyl[(4-methylpiperazin-...</td>\n",
       "      <td>XIN</td>\n",
       "      <td>...</td>\n",
       "      <td>in</td>\n",
       "      <td>0.776</td>\n",
       "      <td>2.120</td>\n",
       "      <td>8.8</td>\n",
       "      <td>EVLAEGGFAIVFLCALKRMVCKREIQIMRDLSKNIVGYIDSLILMD...</td>\n",
       "      <td>1.90</td>\n",
       "      <td>0</td>\n",
       "      <td>12</td>\n",
       "      <td>1000101000000010000001000000000000000000000000...</td>\n",
       "      <td>HUMAN/AAK1/5te0_chainA</td>\n",
       "    </tr>\n",
       "    <tr>\n",
       "      <th>3</th>\n",
       "      <td>843</td>\n",
       "      <td>ABL1</td>\n",
       "      <td>Abl</td>\n",
       "      <td>TK</td>\n",
       "      <td>2f4j</td>\n",
       "      <td>A</td>\n",
       "      <td>-</td>\n",
       "      <td>Human</td>\n",
       "      <td>CYCLOPROPANECARBOXYLIC ACID {4-[4-(4-METHYL-PI...</td>\n",
       "      <td>VX6</td>\n",
       "      <td>...</td>\n",
       "      <td>in</td>\n",
       "      <td>0.779</td>\n",
       "      <td>2.128</td>\n",
       "      <td>8.0</td>\n",
       "      <td>HKLGGGQYGEVYEVAVKTLEFLKEAAVMKEIKPNLVQLLGVYIITE...</td>\n",
       "      <td>1.91</td>\n",
       "      <td>0</td>\n",
       "      <td>0</td>\n",
       "      <td>0000000000000010000001000000000000000000000000...</td>\n",
       "      <td>HUMAN/ABL1/2f4j_chainA</td>\n",
       "    </tr>\n",
       "    <tr>\n",
       "      <th>4</th>\n",
       "      <td>815</td>\n",
       "      <td>ABL1</td>\n",
       "      <td>Abl</td>\n",
       "      <td>TK</td>\n",
       "      <td>2g1t</td>\n",
       "      <td>A</td>\n",
       "      <td>-</td>\n",
       "      <td>Human</td>\n",
       "      <td>-</td>\n",
       "      <td>-</td>\n",
       "      <td>...</td>\n",
       "      <td>out</td>\n",
       "      <td>0.825</td>\n",
       "      <td>2.154</td>\n",
       "      <td>8.0</td>\n",
       "      <td>HKLGGGQYGEVYEVAVKTLEFLKEAAVMKEIKPNLVQLLGVYIITE...</td>\n",
       "      <td>1.80</td>\n",
       "      <td>0</td>\n",
       "      <td>0</td>\n",
       "      <td>NaN</td>\n",
       "      <td>HUMAN/ABL1/2g1t_chainA</td>\n",
       "    </tr>\n",
       "  </tbody>\n",
       "</table>\n",
       "<p>5 rows × 23 columns</p>\n",
       "</div>"
      ],
      "text/plain": [
       "   metadata_index kinase family groups pdb_id chain alternate_model species  \\\n",
       "0            2886   AAK1    NAK  Other   4wsq     B               A   Human   \n",
       "1           10043   AAK1    NAK  Other   5l4q     A               A   Human   \n",
       "2            7046   AAK1    NAK  Other   5te0     A               -   Human   \n",
       "3             843   ABL1    Abl     TK   2f4j     A               -   Human   \n",
       "4             815   ABL1    Abl     TK   2g1t     A               -   Human   \n",
       "\n",
       "                             ligand_orthosteric_name  \\\n",
       "0                                             K-252A   \n",
       "1  ~{N}-[5-(4-cyanophenyl)-1~{H}-pyrrolo[2,3-b]py...   \n",
       "2  methyl (3Z)-3-{[(4-{methyl[(4-methylpiperazin-...   \n",
       "3  CYCLOPROPANECARBOXYLIC ACID {4-[4-(4-METHYL-PI...   \n",
       "4                                                  -   \n",
       "\n",
       "  ligand_orthosteric_pdb_id  ... ac_helix  rmsd1  rmsd2 qualityscore  \\\n",
       "0                       KSA  ...       in  0.777  2.125          8.6   \n",
       "1                       LKB  ...       in  0.780  2.137          9.7   \n",
       "2                       XIN  ...       in  0.776  2.120          8.8   \n",
       "3                       VX6  ...       in  0.779  2.128          8.0   \n",
       "4                         -  ...      out  0.825  2.154          8.0   \n",
       "\n",
       "                                              pocket  resolution  \\\n",
       "0  EVLAEGGFAIVFLCALKRMVCKREIQIMRDLSKNIVGYIDSLILMD...        1.95   \n",
       "1  EVLAEGGFAIVFLCALKRMVCKREIQIMRDLSKNIVGYIDSLILMD...        1.97   \n",
       "2  EVLAEGGFAIVFLCALKRMVCKREIQIMRDLSKNIVGYIDSLILMD...        1.90   \n",
       "3  HKLGGGQYGEVYEVAVKTLEFLKEAAVMKEIKPNLVQLLGVYIITE...        1.91   \n",
       "4  HKLGGGQYGEVYEVAVKTLEFLKEAAVMKEIKPNLVQLLGVYIITE...        1.80   \n",
       "\n",
       "   missing_residues missing_atoms  \\\n",
       "0                 0            14   \n",
       "1                 0             3   \n",
       "2                 0            12   \n",
       "3                 0             0   \n",
       "4                 0             0   \n",
       "\n",
       "                                            full_ifp  \\\n",
       "0  0000000000000010000001000000000000000000000000...   \n",
       "1  0000000000000010000000000000000000000000000000...   \n",
       "2  1000101000000010000001000000000000000000000000...   \n",
       "3  0000000000000010000001000000000000000000000000...   \n",
       "4                                                NaN   \n",
       "\n",
       "                          code  \n",
       "0  HUMAN/AAK1/4wsq_chainB_altA  \n",
       "1  HUMAN/AAK1/5l4q_chainA_altA  \n",
       "2       HUMAN/AAK1/5te0_chainA  \n",
       "3       HUMAN/ABL1/2f4j_chainA  \n",
       "4       HUMAN/ABL1/2g1t_chainA  \n",
       "\n",
       "[5 rows x 23 columns]"
      ]
     },
     "execution_count": 8,
     "metadata": {},
     "output_type": "execute_result"
    }
   ],
   "source": [
    "klifs_metadata.head()"
   ]
  },
  {
   "cell_type": "markdown",
   "metadata": {},
   "source": [
    "## Load two fingerprints"
   ]
  },
  {
   "cell_type": "code",
   "execution_count": 9,
   "metadata": {},
   "outputs": [],
   "source": [
    "fp1 = Fingerprint()\n",
    "fp1.from_metadata_entry(klifs_metadata_entry=klifs_metadata.iloc[100])"
   ]
  },
  {
   "cell_type": "code",
   "execution_count": 10,
   "metadata": {},
   "outputs": [],
   "source": [
    "fp2 = Fingerprint()\n",
    "fp2.from_metadata_entry(klifs_metadata_entry=klifs_metadata.iloc[101])"
   ]
  },
  {
   "cell_type": "code",
   "execution_count": 11,
   "metadata": {},
   "outputs": [
    {
     "data": {
      "text/plain": [
       "{'physicochemical':     size       hbd  hba  charge  aromatic  aliphatic       sco  exposure\n",
       " 1    1.0  1.000000  0.0     1.0       0.0        0.0  0.502833  0.142857\n",
       " 2    0.0  0.000000  0.0     0.5       0.0        0.0       NaN  0.190476\n",
       " 3    0.5  0.000000  0.0     0.5       0.0        1.0  0.334056  0.814815\n",
       " 4    0.0  0.000000  0.0     0.5       0.0        0.0       NaN  0.423077\n",
       " 5    0.5  0.333333  0.5     0.5       1.0        0.0       NaN  0.142857\n",
       " ..   ...       ...  ...     ...       ...        ...       ...       ...\n",
       " 81   0.5  0.000000  1.0     0.0       0.0        0.0  0.649444  0.400000\n",
       " 82   1.0  0.000000  0.0     0.5       1.0        0.0  0.444556  0.613636\n",
       " 83   0.0  0.000000  0.0     0.5       0.0        0.0       NaN  0.444444\n",
       " 84   0.5  0.000000  0.0     0.5       0.0        1.0  0.706722  0.612903\n",
       " 85   0.0  0.000000  0.0     0.5       0.0        1.0       NaN  0.742857\n",
       " \n",
       " [85 rows x 8 columns],\n",
       " 'distances':     distance_to_centroid  distance_to_hinge_region  distance_to_dfg_region  \\\n",
       " 1               0.789416                  0.467053                0.623471   \n",
       " 2               0.678123                  0.409067                0.513367   \n",
       " 3               0.524823                  0.288877                0.444495   \n",
       " 4               0.478996                  0.336321                0.368826   \n",
       " 5               0.488271                  0.413284                0.288627   \n",
       " ..                   ...                       ...                     ...   \n",
       " 81              0.000000                  0.231945                0.109198   \n",
       " 82              0.174032                  0.399051                0.091980   \n",
       " 83              0.292962                  0.479178                0.072043   \n",
       " 84              0.455537                  0.658935                0.236520   \n",
       " 85              0.460447                  0.673168                0.241957   \n",
       " \n",
       "     distance_to_front_pocket  \n",
       " 1                   0.462687  \n",
       " 2                   0.327805  \n",
       " 3                   0.134328  \n",
       " 4                   0.084577  \n",
       " 5                   0.166390  \n",
       " ..                       ...  \n",
       " 81                  0.081260  \n",
       " 82                  0.281371  \n",
       " 83                  0.310116  \n",
       " 84                  0.466556  \n",
       " 85                  0.551133  \n",
       " \n",
       " [85 rows x 4 columns],\n",
       " 'moments':                            moment1   moment2   moment3\n",
       " distance_to_centroid      0.091292  0.086749  0.479970\n",
       " distance_to_hinge_region  0.461407  0.688699  0.748307\n",
       " distance_to_dfg_region    0.757175  0.799729  0.811469\n",
       " distance_to_front_pocket  0.555343  0.552966  0.798138}"
      ]
     },
     "execution_count": 11,
     "metadata": {},
     "output_type": "execute_result"
    }
   ],
   "source": [
    "fp2.fingerprint_normalized"
   ]
  },
  {
   "cell_type": "markdown",
   "metadata": {},
   "source": [
    "## Get similarity"
   ]
  },
  {
   "cell_type": "markdown",
   "metadata": {},
   "source": [
    "### Feature distances"
   ]
  },
  {
   "cell_type": "code",
   "execution_count": 12,
   "metadata": {},
   "outputs": [],
   "source": [
    "feature_distances = FeatureDistances()"
   ]
  },
  {
   "cell_type": "code",
   "execution_count": 13,
   "metadata": {},
   "outputs": [],
   "source": [
    "feature_distances.from_fingerprints(fp1, fp2)"
   ]
  },
  {
   "cell_type": "code",
   "execution_count": 14,
   "metadata": {},
   "outputs": [
    {
     "data": {
      "text/html": [
       "<div>\n",
       "<style scoped>\n",
       "    .dataframe tbody tr th:only-of-type {\n",
       "        vertical-align: middle;\n",
       "    }\n",
       "\n",
       "    .dataframe tbody tr th {\n",
       "        vertical-align: top;\n",
       "    }\n",
       "\n",
       "    .dataframe thead th {\n",
       "        text-align: right;\n",
       "    }\n",
       "</style>\n",
       "<table border=\"1\" class=\"dataframe\">\n",
       "  <thead>\n",
       "    <tr style=\"text-align: right;\">\n",
       "      <th></th>\n",
       "      <th>feature_type</th>\n",
       "      <th>feature_name</th>\n",
       "      <th>distance</th>\n",
       "      <th>bit_coverage</th>\n",
       "      <th>bit_number</th>\n",
       "    </tr>\n",
       "  </thead>\n",
       "  <tbody>\n",
       "    <tr>\n",
       "      <th>0</th>\n",
       "      <td>physicochemical</td>\n",
       "      <td>size</td>\n",
       "      <td>0.000000</td>\n",
       "      <td>0.94</td>\n",
       "      <td>80</td>\n",
       "    </tr>\n",
       "    <tr>\n",
       "      <th>1</th>\n",
       "      <td>physicochemical</td>\n",
       "      <td>hbd</td>\n",
       "      <td>0.000000</td>\n",
       "      <td>0.94</td>\n",
       "      <td>80</td>\n",
       "    </tr>\n",
       "    <tr>\n",
       "      <th>2</th>\n",
       "      <td>physicochemical</td>\n",
       "      <td>hba</td>\n",
       "      <td>0.000000</td>\n",
       "      <td>0.94</td>\n",
       "      <td>80</td>\n",
       "    </tr>\n",
       "    <tr>\n",
       "      <th>3</th>\n",
       "      <td>physicochemical</td>\n",
       "      <td>charge</td>\n",
       "      <td>0.000000</td>\n",
       "      <td>0.94</td>\n",
       "      <td>80</td>\n",
       "    </tr>\n",
       "    <tr>\n",
       "      <th>4</th>\n",
       "      <td>physicochemical</td>\n",
       "      <td>aromatic</td>\n",
       "      <td>0.000000</td>\n",
       "      <td>0.94</td>\n",
       "      <td>80</td>\n",
       "    </tr>\n",
       "    <tr>\n",
       "      <th>5</th>\n",
       "      <td>physicochemical</td>\n",
       "      <td>aliphatic</td>\n",
       "      <td>0.000000</td>\n",
       "      <td>0.94</td>\n",
       "      <td>80</td>\n",
       "    </tr>\n",
       "    <tr>\n",
       "      <th>6</th>\n",
       "      <td>physicochemical</td>\n",
       "      <td>sco</td>\n",
       "      <td>0.004035</td>\n",
       "      <td>0.76</td>\n",
       "      <td>65</td>\n",
       "    </tr>\n",
       "    <tr>\n",
       "      <th>7</th>\n",
       "      <td>physicochemical</td>\n",
       "      <td>exposure</td>\n",
       "      <td>0.004225</td>\n",
       "      <td>0.94</td>\n",
       "      <td>80</td>\n",
       "    </tr>\n",
       "    <tr>\n",
       "      <th>8</th>\n",
       "      <td>distances</td>\n",
       "      <td>distance_to_centroid</td>\n",
       "      <td>0.001501</td>\n",
       "      <td>0.94</td>\n",
       "      <td>80</td>\n",
       "    </tr>\n",
       "    <tr>\n",
       "      <th>9</th>\n",
       "      <td>distances</td>\n",
       "      <td>distance_to_hinge_region</td>\n",
       "      <td>0.000939</td>\n",
       "      <td>0.94</td>\n",
       "      <td>80</td>\n",
       "    </tr>\n",
       "    <tr>\n",
       "      <th>10</th>\n",
       "      <td>distances</td>\n",
       "      <td>distance_to_dfg_region</td>\n",
       "      <td>0.000855</td>\n",
       "      <td>0.94</td>\n",
       "      <td>80</td>\n",
       "    </tr>\n",
       "    <tr>\n",
       "      <th>11</th>\n",
       "      <td>distances</td>\n",
       "      <td>distance_to_front_pocket</td>\n",
       "      <td>0.005082</td>\n",
       "      <td>0.94</td>\n",
       "      <td>80</td>\n",
       "    </tr>\n",
       "    <tr>\n",
       "      <th>12</th>\n",
       "      <td>moments</td>\n",
       "      <td>moment1</td>\n",
       "      <td>0.027090</td>\n",
       "      <td>1.00</td>\n",
       "      <td>4</td>\n",
       "    </tr>\n",
       "    <tr>\n",
       "      <th>13</th>\n",
       "      <td>moments</td>\n",
       "      <td>moment2</td>\n",
       "      <td>0.034932</td>\n",
       "      <td>1.00</td>\n",
       "      <td>4</td>\n",
       "    </tr>\n",
       "    <tr>\n",
       "      <th>14</th>\n",
       "      <td>moments</td>\n",
       "      <td>moment3</td>\n",
       "      <td>0.032669</td>\n",
       "      <td>1.00</td>\n",
       "      <td>4</td>\n",
       "    </tr>\n",
       "  </tbody>\n",
       "</table>\n",
       "</div>"
      ],
      "text/plain": [
       "       feature_type              feature_name  distance  bit_coverage  \\\n",
       "0   physicochemical                      size  0.000000          0.94   \n",
       "1   physicochemical                       hbd  0.000000          0.94   \n",
       "2   physicochemical                       hba  0.000000          0.94   \n",
       "3   physicochemical                    charge  0.000000          0.94   \n",
       "4   physicochemical                  aromatic  0.000000          0.94   \n",
       "5   physicochemical                 aliphatic  0.000000          0.94   \n",
       "6   physicochemical                       sco  0.004035          0.76   \n",
       "7   physicochemical                  exposure  0.004225          0.94   \n",
       "8         distances      distance_to_centroid  0.001501          0.94   \n",
       "9         distances  distance_to_hinge_region  0.000939          0.94   \n",
       "10        distances    distance_to_dfg_region  0.000855          0.94   \n",
       "11        distances  distance_to_front_pocket  0.005082          0.94   \n",
       "12          moments                   moment1  0.027090          1.00   \n",
       "13          moments                   moment2  0.034932          1.00   \n",
       "14          moments                   moment3  0.032669          1.00   \n",
       "\n",
       "    bit_number  \n",
       "0           80  \n",
       "1           80  \n",
       "2           80  \n",
       "3           80  \n",
       "4           80  \n",
       "5           80  \n",
       "6           65  \n",
       "7           80  \n",
       "8           80  \n",
       "9           80  \n",
       "10          80  \n",
       "11          80  \n",
       "12           4  \n",
       "13           4  \n",
       "14           4  "
      ]
     },
     "execution_count": 14,
     "metadata": {},
     "output_type": "execute_result"
    }
   ],
   "source": [
    "feature_distances.data"
   ]
  },
  {
   "cell_type": "markdown",
   "metadata": {},
   "source": [
    "### Fingerprint distance"
   ]
  },
  {
   "cell_type": "code",
   "execution_count": 15,
   "metadata": {},
   "outputs": [],
   "source": [
    "fingerprint_distance = FingerprintDistance()"
   ]
  },
  {
   "cell_type": "code",
   "execution_count": 16,
   "metadata": {},
   "outputs": [],
   "source": [
    "fingerprint_distance.from_feature_distances(feature_distances, None)"
   ]
  },
  {
   "cell_type": "markdown",
   "metadata": {},
   "source": [
    "## Generate a few fingerprints"
   ]
  },
  {
   "cell_type": "code",
   "execution_count": 17,
   "metadata": {},
   "outputs": [
    {
     "data": {
      "text/plain": [
       "10"
      ]
     },
     "execution_count": 17,
     "metadata": {},
     "output_type": "execute_result"
    }
   ],
   "source": [
    "fingerprints = []\n",
    "\n",
    "for index, row in klifs_metadata[:10].iterrows():\n",
    "    \n",
    "    f = Fingerprint()\n",
    "    f.from_metadata_entry(klifs_metadata_entry=row)\n",
    "    \n",
    "    fingerprints.append(f)\n",
    "    \n",
    "len(fingerprints)"
   ]
  },
  {
   "cell_type": "code",
   "execution_count": 18,
   "metadata": {},
   "outputs": [],
   "source": [
    "fingerprints_dict = {}\n",
    "\n",
    "for i in fingerprints:\n",
    "    fingerprints_dict[i.molecule_code] = i"
   ]
  },
  {
   "cell_type": "code",
   "execution_count": 19,
   "metadata": {},
   "outputs": [
    {
     "data": {
      "text/plain": [
       "{'HUMAN/AAK1_4wsq_altA_chainB': <kinsim_structure.encoding.Fingerprint at 0x7fb0d367acc0>,\n",
       " 'HUMAN/AAK1_5l4q_altA_chainA': <kinsim_structure.encoding.Fingerprint at 0x7fb0d36ea5f8>,\n",
       " 'HUMAN/AAK1_5te0_chainA': <kinsim_structure.encoding.Fingerprint at 0x7fb0d36c2358>,\n",
       " 'HUMAN/ABL1_2f4j_chainA': <kinsim_structure.encoding.Fingerprint at 0x7fb0d36c9a90>,\n",
       " 'HUMAN/ABL1_2g1t_chainA': <kinsim_structure.encoding.Fingerprint at 0x7fb0d36c5fd0>,\n",
       " 'HUMAN/ABL1_2g2i_chainA': <kinsim_structure.encoding.Fingerprint at 0x7fb0d3687dd8>,\n",
       " 'HUMAN/ABL1_2gqg_altB_chainA': <kinsim_structure.encoding.Fingerprint at 0x7fb0d31a3710>,\n",
       " 'HUMAN/ABL1_2hz4_chainB': <kinsim_structure.encoding.Fingerprint at 0x7fb0d2875ba8>,\n",
       " 'HUMAN/ABL1_2v7a_chainB': <kinsim_structure.encoding.Fingerprint at 0x7fb0d30443c8>,\n",
       " 'HUMAN/ABL1_4twp_chainB': <kinsim_structure.encoding.Fingerprint at 0x7fb0d3179240>}"
      ]
     },
     "execution_count": 19,
     "metadata": {},
     "output_type": "execute_result"
    }
   ],
   "source": [
    "fingerprints_dict"
   ]
  },
  {
   "cell_type": "markdown",
   "metadata": {},
   "source": [
    "### All against all comparison"
   ]
  },
  {
   "cell_type": "code",
   "execution_count": 20,
   "metadata": {},
   "outputs": [],
   "source": [
    "aaa = AllAgainstAllComparison()"
   ]
  },
  {
   "cell_type": "code",
   "execution_count": 21,
   "metadata": {},
   "outputs": [
    {
     "data": {
      "text/plain": [
       "{'HUMAN/AAK1_4wsq_altA_chainB': <kinsim_structure.encoding.Fingerprint at 0x7fb0d367acc0>,\n",
       " 'HUMAN/AAK1_5l4q_altA_chainA': <kinsim_structure.encoding.Fingerprint at 0x7fb0d36ea5f8>,\n",
       " 'HUMAN/AAK1_5te0_chainA': <kinsim_structure.encoding.Fingerprint at 0x7fb0d36c2358>,\n",
       " 'HUMAN/ABL1_2f4j_chainA': <kinsim_structure.encoding.Fingerprint at 0x7fb0d36c9a90>,\n",
       " 'HUMAN/ABL1_2g1t_chainA': <kinsim_structure.encoding.Fingerprint at 0x7fb0d36c5fd0>,\n",
       " 'HUMAN/ABL1_2g2i_chainA': <kinsim_structure.encoding.Fingerprint at 0x7fb0d3687dd8>,\n",
       " 'HUMAN/ABL1_2gqg_altB_chainA': <kinsim_structure.encoding.Fingerprint at 0x7fb0d31a3710>,\n",
       " 'HUMAN/ABL1_2hz4_chainB': <kinsim_structure.encoding.Fingerprint at 0x7fb0d2875ba8>,\n",
       " 'HUMAN/ABL1_2v7a_chainB': <kinsim_structure.encoding.Fingerprint at 0x7fb0d30443c8>,\n",
       " 'HUMAN/ABL1_4twp_chainB': <kinsim_structure.encoding.Fingerprint at 0x7fb0d3179240>}"
      ]
     },
     "execution_count": 21,
     "metadata": {},
     "output_type": "execute_result"
    }
   ],
   "source": [
    "aaa._remove_empty_fingerprints(fingerprints_dict)"
   ]
  },
  {
   "cell_type": "code",
   "execution_count": 22,
   "metadata": {},
   "outputs": [],
   "source": [
    "pairs = aaa._get_fingerprint_pairs(fingerprints_dict)"
   ]
  },
  {
   "cell_type": "code",
   "execution_count": 23,
   "metadata": {},
   "outputs": [
    {
     "data": {
      "text/plain": [
       "[['HUMAN/AAK1_4wsq_altA_chainB', 'HUMAN/AAK1_5l4q_altA_chainA'],\n",
       " ['HUMAN/AAK1_4wsq_altA_chainB', 'HUMAN/AAK1_5te0_chainA'],\n",
       " ['HUMAN/AAK1_4wsq_altA_chainB', 'HUMAN/ABL1_2f4j_chainA'],\n",
       " ['HUMAN/AAK1_4wsq_altA_chainB', 'HUMAN/ABL1_2g1t_chainA'],\n",
       " ['HUMAN/AAK1_4wsq_altA_chainB', 'HUMAN/ABL1_2g2i_chainA'],\n",
       " ['HUMAN/AAK1_4wsq_altA_chainB', 'HUMAN/ABL1_2gqg_altB_chainA'],\n",
       " ['HUMAN/AAK1_4wsq_altA_chainB', 'HUMAN/ABL1_2hz4_chainB'],\n",
       " ['HUMAN/AAK1_4wsq_altA_chainB', 'HUMAN/ABL1_2v7a_chainB'],\n",
       " ['HUMAN/AAK1_4wsq_altA_chainB', 'HUMAN/ABL1_4twp_chainB'],\n",
       " ['HUMAN/AAK1_5l4q_altA_chainA', 'HUMAN/AAK1_5te0_chainA']]"
      ]
     },
     "execution_count": 23,
     "metadata": {},
     "output_type": "execute_result"
    }
   ],
   "source": [
    "pairs[:10]"
   ]
  },
  {
   "cell_type": "code",
   "execution_count": 24,
   "metadata": {},
   "outputs": [],
   "source": [
    "feature_distances = aaa._get_pairwise_feature_distances(\n",
    "    aaa._calculate_pair_feature_distances, pairs, fingerprints_dict, 'euclidean'\n",
    ")"
   ]
  },
  {
   "cell_type": "code",
   "execution_count": 25,
   "metadata": {},
   "outputs": [],
   "source": [
    "fingerprint_distances = aaa._get_pairwise_fingerprint_distances(\n",
    "    aaa._calculate_pair_fingerprint_distance, feature_distances, None\n",
    ")"
   ]
  },
  {
   "cell_type": "code",
   "execution_count": 26,
   "metadata": {},
   "outputs": [
    {
     "name": "stdout",
     "output_type": "stream",
     "text": [
      "2019-11-05 16:19:15.393435\n",
      "2019-11-05 16:19:16.406016\n"
     ]
    }
   ],
   "source": [
    "aaa.from_fingerprints(fingerprints_dict, 'euclidean', None)"
   ]
  },
  {
   "cell_type": "code",
   "execution_count": 27,
   "metadata": {},
   "outputs": [
    {
     "ename": "AttributeError",
     "evalue": "'AllAgainstAllComparison' object has no attribute 'get_kinase_distance_value'",
     "output_type": "error",
     "traceback": [
      "\u001b[0;31m---------------------------------------------------------------------------\u001b[0m",
      "\u001b[0;31mAttributeError\u001b[0m                            Traceback (most recent call last)",
      "\u001b[0;32m<ipython-input-27-c43b89685830>\u001b[0m in \u001b[0;36m<module>\u001b[0;34m\u001b[0m\n\u001b[0;32m----> 1\u001b[0;31m \u001b[0maaa\u001b[0m\u001b[0;34m.\u001b[0m\u001b[0mget_kinase_distance_value\u001b[0m\u001b[0;34m(\u001b[0m\u001b[0;34m)\u001b[0m\u001b[0;34m\u001b[0m\u001b[0;34m\u001b[0m\u001b[0m\n\u001b[0m",
      "\u001b[0;31mAttributeError\u001b[0m: 'AllAgainstAllComparison' object has no attribute 'get_kinase_distance_value'"
     ]
    }
   ],
   "source": [
    "aaa.get_kinase_distance_value()"
   ]
  }
 ],
 "metadata": {
  "kernelspec": {
   "display_name": "kinsim",
   "language": "python",
   "name": "kinsim"
  },
  "language_info": {
   "codemirror_mode": {
    "name": "ipython",
    "version": 3
   },
   "file_extension": ".py",
   "mimetype": "text/x-python",
   "name": "python",
   "nbconvert_exporter": "python",
   "pygments_lexer": "ipython3",
   "version": "3.6.7"
  }
 },
 "nbformat": 4,
 "nbformat_minor": 4
}
