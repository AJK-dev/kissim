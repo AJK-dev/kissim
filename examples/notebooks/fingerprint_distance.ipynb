{
 "cells": [
  {
   "cell_type": "markdown",
   "metadata": {},
   "source": [
    "# Fingerprint distance"
   ]
  },
  {
   "cell_type": "markdown",
   "metadata": {},
   "source": [
    "## Imports"
   ]
  },
  {
   "cell_type": "code",
   "execution_count": 1,
   "metadata": {},
   "outputs": [],
   "source": [
    "%load_ext autoreload"
   ]
  },
  {
   "cell_type": "code",
   "execution_count": 2,
   "metadata": {},
   "outputs": [],
   "source": [
    "%autoreload 2"
   ]
  },
  {
   "cell_type": "code",
   "execution_count": 3,
   "metadata": {
    "scrolled": true
   },
   "outputs": [
    {
     "data": {
      "application/vnd.jupyter.widget-view+json": {
       "model_id": "25c9608776564320af4ee22e7d14faa8",
       "version_major": 2,
       "version_minor": 0
      },
      "text/plain": [
       "_ColormakerRegistry()"
      ]
     },
     "metadata": {},
     "output_type": "display_data"
    }
   ],
   "source": [
    "from pathlib import Path\n",
    "import sys\n",
    "\n",
    "import pandas as pd\n",
    "\n",
    "sys.path.append('../..')\n",
    "from kinsim_structure.auxiliary import KlifsMoleculeLoader\n",
    "from kinsim_structure.encoding import Fingerprint, FingerprintGenerator\n",
    "from kinsim_structure.similarity import FeatureDistances, FingerprintDistance, FeatureDistancesGenerator, FingerprintDistanceGenerator"
   ]
  },
  {
   "cell_type": "markdown",
   "metadata": {},
   "source": [
    "## IO paths"
   ]
  },
  {
   "cell_type": "code",
   "execution_count": 4,
   "metadata": {},
   "outputs": [],
   "source": [
    "path_to_kinsim = Path('.') / '..' / '..'\n",
    "path_to_data = path_to_kinsim / 'examples' / 'data'\n",
    "path_to_results = None"
   ]
  },
  {
   "cell_type": "code",
   "execution_count": 5,
   "metadata": {},
   "outputs": [],
   "source": [
    "PATH_TO_RESULTS = path_to_kinsim / 'examples' / 'results' / 'fingerprints'"
   ]
  },
  {
   "cell_type": "markdown",
   "metadata": {},
   "source": [
    "## Load KLIFS metadata"
   ]
  },
  {
   "cell_type": "code",
   "execution_count": 6,
   "metadata": {},
   "outputs": [],
   "source": [
    "klifs_metadata = pd.read_csv(path_to_data / 'postprocessed' / 'klifs_metadata_postprocessed.csv' , index_col=0)"
   ]
  },
  {
   "cell_type": "code",
   "execution_count": 7,
   "metadata": {},
   "outputs": [
    {
     "data": {
      "text/plain": [
       "(3878, 23)"
      ]
     },
     "execution_count": 7,
     "metadata": {},
     "output_type": "execute_result"
    }
   ],
   "source": [
    "klifs_metadata.shape"
   ]
  },
  {
   "cell_type": "code",
   "execution_count": 8,
   "metadata": {},
   "outputs": [
    {
     "data": {
      "text/html": [
       "<div>\n",
       "<style scoped>\n",
       "    .dataframe tbody tr th:only-of-type {\n",
       "        vertical-align: middle;\n",
       "    }\n",
       "\n",
       "    .dataframe tbody tr th {\n",
       "        vertical-align: top;\n",
       "    }\n",
       "\n",
       "    .dataframe thead th {\n",
       "        text-align: right;\n",
       "    }\n",
       "</style>\n",
       "<table border=\"1\" class=\"dataframe\">\n",
       "  <thead>\n",
       "    <tr style=\"text-align: right;\">\n",
       "      <th></th>\n",
       "      <th>metadata_index</th>\n",
       "      <th>kinase</th>\n",
       "      <th>family</th>\n",
       "      <th>groups</th>\n",
       "      <th>pdb_id</th>\n",
       "      <th>chain</th>\n",
       "      <th>alternate_model</th>\n",
       "      <th>species</th>\n",
       "      <th>ligand_orthosteric_name</th>\n",
       "      <th>ligand_orthosteric_pdb_id</th>\n",
       "      <th>...</th>\n",
       "      <th>ac_helix</th>\n",
       "      <th>rmsd1</th>\n",
       "      <th>rmsd2</th>\n",
       "      <th>qualityscore</th>\n",
       "      <th>pocket</th>\n",
       "      <th>resolution</th>\n",
       "      <th>missing_residues</th>\n",
       "      <th>missing_atoms</th>\n",
       "      <th>full_ifp</th>\n",
       "      <th>code</th>\n",
       "    </tr>\n",
       "  </thead>\n",
       "  <tbody>\n",
       "    <tr>\n",
       "      <th>0</th>\n",
       "      <td>2886</td>\n",
       "      <td>AAK1</td>\n",
       "      <td>NAK</td>\n",
       "      <td>Other</td>\n",
       "      <td>4wsq</td>\n",
       "      <td>B</td>\n",
       "      <td>A</td>\n",
       "      <td>Human</td>\n",
       "      <td>K-252A</td>\n",
       "      <td>KSA</td>\n",
       "      <td>...</td>\n",
       "      <td>in</td>\n",
       "      <td>0.777</td>\n",
       "      <td>2.125</td>\n",
       "      <td>8.6</td>\n",
       "      <td>EVLAEGGFAIVFLCALKRMVCKREIQIMRDLSKNIVGYIDSLILMD...</td>\n",
       "      <td>1.95</td>\n",
       "      <td>0</td>\n",
       "      <td>14</td>\n",
       "      <td>0000000000000010000001000000000000000000000000...</td>\n",
       "      <td>HUMAN/AAK1/4wsq_chainB_altA</td>\n",
       "    </tr>\n",
       "    <tr>\n",
       "      <th>1</th>\n",
       "      <td>10043</td>\n",
       "      <td>AAK1</td>\n",
       "      <td>NAK</td>\n",
       "      <td>Other</td>\n",
       "      <td>5l4q</td>\n",
       "      <td>A</td>\n",
       "      <td>A</td>\n",
       "      <td>Human</td>\n",
       "      <td>~{N}-[5-(4-cyanophenyl)-1~{H}-pyrrolo[2,3-b]py...</td>\n",
       "      <td>LKB</td>\n",
       "      <td>...</td>\n",
       "      <td>in</td>\n",
       "      <td>0.780</td>\n",
       "      <td>2.137</td>\n",
       "      <td>9.7</td>\n",
       "      <td>EVLAEGGFAIVFLCALKRMVCKREIQIMRDLSKNIVGYIDSLILMD...</td>\n",
       "      <td>1.97</td>\n",
       "      <td>0</td>\n",
       "      <td>3</td>\n",
       "      <td>0000000000000010000000000000000000000000000000...</td>\n",
       "      <td>HUMAN/AAK1/5l4q_chainA_altA</td>\n",
       "    </tr>\n",
       "    <tr>\n",
       "      <th>2</th>\n",
       "      <td>7046</td>\n",
       "      <td>AAK1</td>\n",
       "      <td>NAK</td>\n",
       "      <td>Other</td>\n",
       "      <td>5te0</td>\n",
       "      <td>A</td>\n",
       "      <td>-</td>\n",
       "      <td>Human</td>\n",
       "      <td>methyl (3Z)-3-{[(4-{methyl[(4-methylpiperazin-...</td>\n",
       "      <td>XIN</td>\n",
       "      <td>...</td>\n",
       "      <td>in</td>\n",
       "      <td>0.776</td>\n",
       "      <td>2.120</td>\n",
       "      <td>8.8</td>\n",
       "      <td>EVLAEGGFAIVFLCALKRMVCKREIQIMRDLSKNIVGYIDSLILMD...</td>\n",
       "      <td>1.90</td>\n",
       "      <td>0</td>\n",
       "      <td>12</td>\n",
       "      <td>1000101000000010000001000000000000000000000000...</td>\n",
       "      <td>HUMAN/AAK1/5te0_chainA</td>\n",
       "    </tr>\n",
       "    <tr>\n",
       "      <th>3</th>\n",
       "      <td>843</td>\n",
       "      <td>ABL1</td>\n",
       "      <td>Abl</td>\n",
       "      <td>TK</td>\n",
       "      <td>2f4j</td>\n",
       "      <td>A</td>\n",
       "      <td>-</td>\n",
       "      <td>Human</td>\n",
       "      <td>CYCLOPROPANECARBOXYLIC ACID {4-[4-(4-METHYL-PI...</td>\n",
       "      <td>VX6</td>\n",
       "      <td>...</td>\n",
       "      <td>in</td>\n",
       "      <td>0.779</td>\n",
       "      <td>2.128</td>\n",
       "      <td>8.0</td>\n",
       "      <td>HKLGGGQYGEVYEVAVKTLEFLKEAAVMKEIKPNLVQLLGVYIITE...</td>\n",
       "      <td>1.91</td>\n",
       "      <td>0</td>\n",
       "      <td>0</td>\n",
       "      <td>0000000000000010000001000000000000000000000000...</td>\n",
       "      <td>HUMAN/ABL1/2f4j_chainA</td>\n",
       "    </tr>\n",
       "    <tr>\n",
       "      <th>4</th>\n",
       "      <td>815</td>\n",
       "      <td>ABL1</td>\n",
       "      <td>Abl</td>\n",
       "      <td>TK</td>\n",
       "      <td>2g1t</td>\n",
       "      <td>A</td>\n",
       "      <td>-</td>\n",
       "      <td>Human</td>\n",
       "      <td>-</td>\n",
       "      <td>-</td>\n",
       "      <td>...</td>\n",
       "      <td>out</td>\n",
       "      <td>0.825</td>\n",
       "      <td>2.154</td>\n",
       "      <td>8.0</td>\n",
       "      <td>HKLGGGQYGEVYEVAVKTLEFLKEAAVMKEIKPNLVQLLGVYIITE...</td>\n",
       "      <td>1.80</td>\n",
       "      <td>0</td>\n",
       "      <td>0</td>\n",
       "      <td>NaN</td>\n",
       "      <td>HUMAN/ABL1/2g1t_chainA</td>\n",
       "    </tr>\n",
       "  </tbody>\n",
       "</table>\n",
       "<p>5 rows × 23 columns</p>\n",
       "</div>"
      ],
      "text/plain": [
       "   metadata_index kinase family groups pdb_id chain alternate_model species  \\\n",
       "0            2886   AAK1    NAK  Other   4wsq     B               A   Human   \n",
       "1           10043   AAK1    NAK  Other   5l4q     A               A   Human   \n",
       "2            7046   AAK1    NAK  Other   5te0     A               -   Human   \n",
       "3             843   ABL1    Abl     TK   2f4j     A               -   Human   \n",
       "4             815   ABL1    Abl     TK   2g1t     A               -   Human   \n",
       "\n",
       "                             ligand_orthosteric_name  \\\n",
       "0                                             K-252A   \n",
       "1  ~{N}-[5-(4-cyanophenyl)-1~{H}-pyrrolo[2,3-b]py...   \n",
       "2  methyl (3Z)-3-{[(4-{methyl[(4-methylpiperazin-...   \n",
       "3  CYCLOPROPANECARBOXYLIC ACID {4-[4-(4-METHYL-PI...   \n",
       "4                                                  -   \n",
       "\n",
       "  ligand_orthosteric_pdb_id  ... ac_helix  rmsd1  rmsd2 qualityscore  \\\n",
       "0                       KSA  ...       in  0.777  2.125          8.6   \n",
       "1                       LKB  ...       in  0.780  2.137          9.7   \n",
       "2                       XIN  ...       in  0.776  2.120          8.8   \n",
       "3                       VX6  ...       in  0.779  2.128          8.0   \n",
       "4                         -  ...      out  0.825  2.154          8.0   \n",
       "\n",
       "                                              pocket  resolution  \\\n",
       "0  EVLAEGGFAIVFLCALKRMVCKREIQIMRDLSKNIVGYIDSLILMD...        1.95   \n",
       "1  EVLAEGGFAIVFLCALKRMVCKREIQIMRDLSKNIVGYIDSLILMD...        1.97   \n",
       "2  EVLAEGGFAIVFLCALKRMVCKREIQIMRDLSKNIVGYIDSLILMD...        1.90   \n",
       "3  HKLGGGQYGEVYEVAVKTLEFLKEAAVMKEIKPNLVQLLGVYIITE...        1.91   \n",
       "4  HKLGGGQYGEVYEVAVKTLEFLKEAAVMKEIKPNLVQLLGVYIITE...        1.80   \n",
       "\n",
       "   missing_residues missing_atoms  \\\n",
       "0                 0            14   \n",
       "1                 0             3   \n",
       "2                 0            12   \n",
       "3                 0             0   \n",
       "4                 0             0   \n",
       "\n",
       "                                            full_ifp  \\\n",
       "0  0000000000000010000001000000000000000000000000...   \n",
       "1  0000000000000010000000000000000000000000000000...   \n",
       "2  1000101000000010000001000000000000000000000000...   \n",
       "3  0000000000000010000001000000000000000000000000...   \n",
       "4                                                NaN   \n",
       "\n",
       "                          code  \n",
       "0  HUMAN/AAK1/4wsq_chainB_altA  \n",
       "1  HUMAN/AAK1/5l4q_chainA_altA  \n",
       "2       HUMAN/AAK1/5te0_chainA  \n",
       "3       HUMAN/ABL1/2f4j_chainA  \n",
       "4       HUMAN/ABL1/2g1t_chainA  \n",
       "\n",
       "[5 rows x 23 columns]"
      ]
     },
     "execution_count": 8,
     "metadata": {},
     "output_type": "execute_result"
    }
   ],
   "source": [
    "klifs_metadata.head()"
   ]
  },
  {
   "cell_type": "markdown",
   "metadata": {},
   "source": [
    "## Fingerprint pair"
   ]
  },
  {
   "cell_type": "markdown",
   "metadata": {},
   "source": [
    "### Fingerprint"
   ]
  },
  {
   "cell_type": "code",
   "execution_count": 9,
   "metadata": {},
   "outputs": [],
   "source": [
    "fp1 = Fingerprint()\n",
    "fp1.from_metadata_entry(klifs_metadata_entry=klifs_metadata.iloc[100])"
   ]
  },
  {
   "cell_type": "code",
   "execution_count": 10,
   "metadata": {},
   "outputs": [],
   "source": [
    "fp2 = Fingerprint()\n",
    "fp2.from_metadata_entry(klifs_metadata_entry=klifs_metadata.iloc[101])"
   ]
  },
  {
   "cell_type": "code",
   "execution_count": 11,
   "metadata": {},
   "outputs": [
    {
     "data": {
      "text/plain": [
       "{'physicochemical':     size       hbd  hba  charge  aromatic  aliphatic       sco  exposure\n",
       " 1    1.0  1.000000  0.0     1.0       0.0        0.0  0.502833  0.142857\n",
       " 2    0.0  0.000000  0.0     0.5       0.0        0.0       NaN  0.190476\n",
       " 3    0.5  0.000000  0.0     0.5       0.0        1.0  0.334056  0.814815\n",
       " 4    0.0  0.000000  0.0     0.5       0.0        0.0       NaN  0.423077\n",
       " 5    0.5  0.333333  0.5     0.5       1.0        0.0       NaN  0.142857\n",
       " ..   ...       ...  ...     ...       ...        ...       ...       ...\n",
       " 81   0.5  0.000000  1.0     0.0       0.0        0.0  0.649444  0.400000\n",
       " 82   1.0  0.000000  0.0     0.5       1.0        0.0  0.444556  0.613636\n",
       " 83   0.0  0.000000  0.0     0.5       0.0        0.0       NaN  0.444444\n",
       " 84   0.5  0.000000  0.0     0.5       0.0        1.0  0.706722  0.612903\n",
       " 85   0.0  0.000000  0.0     0.5       0.0        1.0       NaN  0.742857\n",
       " \n",
       " [85 rows x 8 columns],\n",
       " 'distances':     distance_to_centroid  distance_to_hinge_region  distance_to_dfg_region  \\\n",
       " 1               0.789416                  0.467053                0.623471   \n",
       " 2               0.678123                  0.409067                0.513367   \n",
       " 3               0.524823                  0.288877                0.444495   \n",
       " 4               0.478996                  0.336321                0.368826   \n",
       " 5               0.488271                  0.413284                0.288627   \n",
       " ..                   ...                       ...                     ...   \n",
       " 81              0.000000                  0.231945                0.109198   \n",
       " 82              0.174032                  0.399051                0.091980   \n",
       " 83              0.292962                  0.479178                0.072043   \n",
       " 84              0.455537                  0.658935                0.236520   \n",
       " 85              0.460447                  0.673168                0.241957   \n",
       " \n",
       "     distance_to_front_pocket  \n",
       " 1                   0.462687  \n",
       " 2                   0.327805  \n",
       " 3                   0.134328  \n",
       " 4                   0.084577  \n",
       " 5                   0.166390  \n",
       " ..                       ...  \n",
       " 81                  0.081260  \n",
       " 82                  0.281371  \n",
       " 83                  0.310116  \n",
       " 84                  0.466556  \n",
       " 85                  0.551133  \n",
       " \n",
       " [85 rows x 4 columns],\n",
       " 'moments':                            moment1   moment2   moment3\n",
       " distance_to_centroid      0.091292  0.086749  0.479970\n",
       " distance_to_hinge_region  0.461407  0.688699  0.748307\n",
       " distance_to_dfg_region    0.757175  0.799729  0.811469\n",
       " distance_to_front_pocket  0.555343  0.552966  0.798138}"
      ]
     },
     "execution_count": 11,
     "metadata": {},
     "output_type": "execute_result"
    }
   ],
   "source": [
    "fp2.fingerprint_normalized"
   ]
  },
  {
   "cell_type": "markdown",
   "metadata": {},
   "source": [
    "### FeatureDistances"
   ]
  },
  {
   "cell_type": "code",
   "execution_count": 12,
   "metadata": {},
   "outputs": [],
   "source": [
    "feature_distances = FeatureDistances()"
   ]
  },
  {
   "cell_type": "code",
   "execution_count": 13,
   "metadata": {},
   "outputs": [],
   "source": [
    "feature_distances.from_fingerprints(fp1, fp2)"
   ]
  },
  {
   "cell_type": "code",
   "execution_count": 14,
   "metadata": {},
   "outputs": [
    {
     "data": {
      "text/plain": [
       "['HUMAN/ALK_6e0r_altA_chainA', 'HUMAN/ALK_6ebw_altA_chainA']"
      ]
     },
     "execution_count": 14,
     "metadata": {},
     "output_type": "execute_result"
    }
   ],
   "source": [
    "feature_distances.molecule_codes"
   ]
  },
  {
   "cell_type": "code",
   "execution_count": 15,
   "metadata": {},
   "outputs": [
    {
     "data": {
      "text/plain": [
       "'euclidean'"
      ]
     },
     "execution_count": 15,
     "metadata": {},
     "output_type": "execute_result"
    }
   ],
   "source": [
    "feature_distances.distance_measure"
   ]
  },
  {
   "cell_type": "code",
   "execution_count": 16,
   "metadata": {},
   "outputs": [
    {
     "data": {
      "text/html": [
       "<div>\n",
       "<style scoped>\n",
       "    .dataframe tbody tr th:only-of-type {\n",
       "        vertical-align: middle;\n",
       "    }\n",
       "\n",
       "    .dataframe tbody tr th {\n",
       "        vertical-align: top;\n",
       "    }\n",
       "\n",
       "    .dataframe thead th {\n",
       "        text-align: right;\n",
       "    }\n",
       "</style>\n",
       "<table border=\"1\" class=\"dataframe\">\n",
       "  <thead>\n",
       "    <tr style=\"text-align: right;\">\n",
       "      <th></th>\n",
       "      <th>feature_type</th>\n",
       "      <th>feature_name</th>\n",
       "      <th>distance</th>\n",
       "      <th>bit_coverage</th>\n",
       "      <th>bit_number</th>\n",
       "    </tr>\n",
       "  </thead>\n",
       "  <tbody>\n",
       "    <tr>\n",
       "      <th>0</th>\n",
       "      <td>physicochemical</td>\n",
       "      <td>size</td>\n",
       "      <td>0.000000</td>\n",
       "      <td>0.94</td>\n",
       "      <td>80</td>\n",
       "    </tr>\n",
       "    <tr>\n",
       "      <th>1</th>\n",
       "      <td>physicochemical</td>\n",
       "      <td>hbd</td>\n",
       "      <td>0.000000</td>\n",
       "      <td>0.94</td>\n",
       "      <td>80</td>\n",
       "    </tr>\n",
       "    <tr>\n",
       "      <th>2</th>\n",
       "      <td>physicochemical</td>\n",
       "      <td>hba</td>\n",
       "      <td>0.000000</td>\n",
       "      <td>0.94</td>\n",
       "      <td>80</td>\n",
       "    </tr>\n",
       "    <tr>\n",
       "      <th>3</th>\n",
       "      <td>physicochemical</td>\n",
       "      <td>charge</td>\n",
       "      <td>0.000000</td>\n",
       "      <td>0.94</td>\n",
       "      <td>80</td>\n",
       "    </tr>\n",
       "    <tr>\n",
       "      <th>4</th>\n",
       "      <td>physicochemical</td>\n",
       "      <td>aromatic</td>\n",
       "      <td>0.000000</td>\n",
       "      <td>0.94</td>\n",
       "      <td>80</td>\n",
       "    </tr>\n",
       "    <tr>\n",
       "      <th>5</th>\n",
       "      <td>physicochemical</td>\n",
       "      <td>aliphatic</td>\n",
       "      <td>0.000000</td>\n",
       "      <td>0.94</td>\n",
       "      <td>80</td>\n",
       "    </tr>\n",
       "    <tr>\n",
       "      <th>6</th>\n",
       "      <td>physicochemical</td>\n",
       "      <td>sco</td>\n",
       "      <td>0.004035</td>\n",
       "      <td>0.76</td>\n",
       "      <td>65</td>\n",
       "    </tr>\n",
       "    <tr>\n",
       "      <th>7</th>\n",
       "      <td>physicochemical</td>\n",
       "      <td>exposure</td>\n",
       "      <td>0.004225</td>\n",
       "      <td>0.94</td>\n",
       "      <td>80</td>\n",
       "    </tr>\n",
       "    <tr>\n",
       "      <th>8</th>\n",
       "      <td>distances</td>\n",
       "      <td>distance_to_centroid</td>\n",
       "      <td>0.001501</td>\n",
       "      <td>0.94</td>\n",
       "      <td>80</td>\n",
       "    </tr>\n",
       "    <tr>\n",
       "      <th>9</th>\n",
       "      <td>distances</td>\n",
       "      <td>distance_to_hinge_region</td>\n",
       "      <td>0.000939</td>\n",
       "      <td>0.94</td>\n",
       "      <td>80</td>\n",
       "    </tr>\n",
       "    <tr>\n",
       "      <th>10</th>\n",
       "      <td>distances</td>\n",
       "      <td>distance_to_dfg_region</td>\n",
       "      <td>0.000855</td>\n",
       "      <td>0.94</td>\n",
       "      <td>80</td>\n",
       "    </tr>\n",
       "    <tr>\n",
       "      <th>11</th>\n",
       "      <td>distances</td>\n",
       "      <td>distance_to_front_pocket</td>\n",
       "      <td>0.005082</td>\n",
       "      <td>0.94</td>\n",
       "      <td>80</td>\n",
       "    </tr>\n",
       "    <tr>\n",
       "      <th>12</th>\n",
       "      <td>moments</td>\n",
       "      <td>moment1</td>\n",
       "      <td>0.027090</td>\n",
       "      <td>1.00</td>\n",
       "      <td>4</td>\n",
       "    </tr>\n",
       "    <tr>\n",
       "      <th>13</th>\n",
       "      <td>moments</td>\n",
       "      <td>moment2</td>\n",
       "      <td>0.034932</td>\n",
       "      <td>1.00</td>\n",
       "      <td>4</td>\n",
       "    </tr>\n",
       "    <tr>\n",
       "      <th>14</th>\n",
       "      <td>moments</td>\n",
       "      <td>moment3</td>\n",
       "      <td>0.032669</td>\n",
       "      <td>1.00</td>\n",
       "      <td>4</td>\n",
       "    </tr>\n",
       "  </tbody>\n",
       "</table>\n",
       "</div>"
      ],
      "text/plain": [
       "       feature_type              feature_name  distance  bit_coverage  \\\n",
       "0   physicochemical                      size  0.000000          0.94   \n",
       "1   physicochemical                       hbd  0.000000          0.94   \n",
       "2   physicochemical                       hba  0.000000          0.94   \n",
       "3   physicochemical                    charge  0.000000          0.94   \n",
       "4   physicochemical                  aromatic  0.000000          0.94   \n",
       "5   physicochemical                 aliphatic  0.000000          0.94   \n",
       "6   physicochemical                       sco  0.004035          0.76   \n",
       "7   physicochemical                  exposure  0.004225          0.94   \n",
       "8         distances      distance_to_centroid  0.001501          0.94   \n",
       "9         distances  distance_to_hinge_region  0.000939          0.94   \n",
       "10        distances    distance_to_dfg_region  0.000855          0.94   \n",
       "11        distances  distance_to_front_pocket  0.005082          0.94   \n",
       "12          moments                   moment1  0.027090          1.00   \n",
       "13          moments                   moment2  0.034932          1.00   \n",
       "14          moments                   moment3  0.032669          1.00   \n",
       "\n",
       "    bit_number  \n",
       "0           80  \n",
       "1           80  \n",
       "2           80  \n",
       "3           80  \n",
       "4           80  \n",
       "5           80  \n",
       "6           65  \n",
       "7           80  \n",
       "8           80  \n",
       "9           80  \n",
       "10          80  \n",
       "11          80  \n",
       "12           4  \n",
       "13           4  \n",
       "14           4  "
      ]
     },
     "execution_count": 16,
     "metadata": {},
     "output_type": "execute_result"
    }
   ],
   "source": [
    "feature_distances.data"
   ]
  },
  {
   "cell_type": "markdown",
   "metadata": {},
   "source": [
    "### FingerprintDistance"
   ]
  },
  {
   "cell_type": "code",
   "execution_count": 17,
   "metadata": {},
   "outputs": [],
   "source": [
    "fingerprint_distance = FingerprintDistance()"
   ]
  },
  {
   "cell_type": "code",
   "execution_count": 18,
   "metadata": {},
   "outputs": [],
   "source": [
    "fingerprint_distance.from_feature_distances(feature_distances, None)"
   ]
  },
  {
   "cell_type": "code",
   "execution_count": 19,
   "metadata": {},
   "outputs": [
    {
     "data": {
      "text/plain": [
       "['HUMAN/ALK_6e0r_altA_chainA', 'HUMAN/ALK_6ebw_altA_chainA']"
      ]
     },
     "execution_count": 19,
     "metadata": {},
     "output_type": "execute_result"
    }
   ],
   "source": [
    "fingerprint_distance.molecule_codes"
   ]
  },
  {
   "cell_type": "code",
   "execution_count": 20,
   "metadata": {},
   "outputs": [
    {
     "data": {
      "text/plain": [
       "'euclidean'"
      ]
     },
     "execution_count": 20,
     "metadata": {},
     "output_type": "execute_result"
    }
   ],
   "source": [
    "fingerprint_distance.distance_measure"
   ]
  },
  {
   "cell_type": "code",
   "execution_count": 21,
   "metadata": {},
   "outputs": [
    {
     "data": {
      "text/plain": [
       "0     0.066667\n",
       "1     0.066667\n",
       "2     0.066667\n",
       "3     0.066667\n",
       "4     0.066667\n",
       "5     0.066667\n",
       "6     0.066667\n",
       "7     0.066667\n",
       "8     0.066667\n",
       "9     0.066667\n",
       "10    0.066667\n",
       "11    0.066667\n",
       "12    0.066667\n",
       "13    0.066667\n",
       "14    0.066667\n",
       "Name: weight, dtype: float64"
      ]
     },
     "execution_count": 21,
     "metadata": {},
     "output_type": "execute_result"
    }
   ],
   "source": [
    "fingerprint_distance.feature_weights"
   ]
  },
  {
   "cell_type": "code",
   "execution_count": 22,
   "metadata": {},
   "outputs": [
    {
     "data": {
      "text/plain": [
       "distance    0.007422\n",
       "coverage    0.940000\n",
       "dtype: float64"
      ]
     },
     "execution_count": 22,
     "metadata": {},
     "output_type": "execute_result"
    }
   ],
   "source": [
    "fingerprint_distance.data"
   ]
  },
  {
   "cell_type": "markdown",
   "metadata": {},
   "source": [
    "## Fingerprint pairs in bulk"
   ]
  },
  {
   "cell_type": "markdown",
   "metadata": {},
   "source": [
    "### FingerprintGenerator"
   ]
  },
  {
   "cell_type": "code",
   "execution_count": 23,
   "metadata": {},
   "outputs": [],
   "source": [
    "fingerprint_generator = FingerprintGenerator()"
   ]
  },
  {
   "cell_type": "code",
   "execution_count": 24,
   "metadata": {},
   "outputs": [
    {
     "name": "stdout",
     "output_type": "stream",
     "text": [
      "2019-11-06 17:08:04.267189\n",
      "2019-11-06 17:08:16.624308\n"
     ]
    }
   ],
   "source": [
    "fingerprint_generator.from_metadata_entry(klifs_metadata=klifs_metadata[:20])"
   ]
  },
  {
   "cell_type": "code",
   "execution_count": 25,
   "metadata": {},
   "outputs": [
    {
     "data": {
      "text/plain": [
       "{'HUMAN/AAK1_4wsq_altA_chainB': <kinsim_structure.encoding.Fingerprint at 0x7fc1e9a8b630>,\n",
       " 'HUMAN/AAK1_5l4q_altA_chainA': <kinsim_structure.encoding.Fingerprint at 0x7fc1e9a8a588>,\n",
       " 'HUMAN/AAK1_5te0_chainA': <kinsim_structure.encoding.Fingerprint at 0x7fc1e9a8b898>,\n",
       " 'HUMAN/ABL1_2f4j_chainA': <kinsim_structure.encoding.Fingerprint at 0x7fc1e9a88390>,\n",
       " 'HUMAN/ABL1_2g1t_chainA': <kinsim_structure.encoding.Fingerprint at 0x7fc1e9a8aa90>,\n",
       " 'HUMAN/ABL1_2g2i_chainA': <kinsim_structure.encoding.Fingerprint at 0x7fc1e9a8a9e8>,\n",
       " 'HUMAN/ABL1_2gqg_altB_chainA': <kinsim_structure.encoding.Fingerprint at 0x7fc1e9a8a5c0>,\n",
       " 'HUMAN/ABL1_2hz4_chainB': <kinsim_structure.encoding.Fingerprint at 0x7fc1e9a8d080>,\n",
       " 'HUMAN/ABL1_2v7a_chainB': <kinsim_structure.encoding.Fingerprint at 0x7fc1e9a8e4a8>,\n",
       " 'HUMAN/ABL1_4twp_chainB': <kinsim_structure.encoding.Fingerprint at 0x7fc1e9a903c8>,\n",
       " 'HUMAN/ABL2_2xyn_altA_chainA': <kinsim_structure.encoding.Fingerprint at 0x7fc1e988b400>,\n",
       " 'HUMAN/ACK_1u46_chainA': <kinsim_structure.encoding.Fingerprint at 0x7fc1e9a8d320>,\n",
       " 'HUMAN/ACK_1u4d_chainB': <kinsim_structure.encoding.Fingerprint at 0x7fc1e9a99550>,\n",
       " 'HUMAN/ACK_1u54_chainB': <kinsim_structure.encoding.Fingerprint at 0x7fc1e9b06ef0>,\n",
       " 'HUMAN/ACK_3eqp_chainB': <kinsim_structure.encoding.Fingerprint at 0x7fc1e9a8b278>,\n",
       " 'HUMAN/ACK_3eqr_chainA': <kinsim_structure.encoding.Fingerprint at 0x7fc1e9a94d30>,\n",
       " 'HUMAN/ACK_4ewh_chainA': <kinsim_structure.encoding.Fingerprint at 0x7fc1e9a93cc0>,\n",
       " 'HUMAN/ACK_4hzr_altA_chainA': <kinsim_structure.encoding.Fingerprint at 0x7fc1e9a97240>,\n",
       " 'HUMAN/ACK_4hzs_chainC': <kinsim_structure.encoding.Fingerprint at 0x7fc1e9af1208>,\n",
       " 'HUMAN/ACK_4id7_chainA': <kinsim_structure.encoding.Fingerprint at 0x7fc1e9a93908>}"
      ]
     },
     "execution_count": 25,
     "metadata": {},
     "output_type": "execute_result"
    }
   ],
   "source": [
    "fingerprint_generator.data"
   ]
  },
  {
   "cell_type": "markdown",
   "metadata": {},
   "source": [
    "### FeatureDistanceGenerator"
   ]
  },
  {
   "cell_type": "code",
   "execution_count": 26,
   "metadata": {},
   "outputs": [],
   "source": [
    "feature_distances_generator = FeatureDistancesGenerator()"
   ]
  },
  {
   "cell_type": "code",
   "execution_count": 27,
   "metadata": {},
   "outputs": [
    {
     "name": "stdout",
     "output_type": "stream",
     "text": [
      "2019-11-06 17:08:16.666683\n",
      "2019-11-06 17:08:18.941420\n"
     ]
    }
   ],
   "source": [
    "feature_distances_generator.from_fingerprint_generator(fingerprint_generator)"
   ]
  },
  {
   "cell_type": "code",
   "execution_count": 28,
   "metadata": {},
   "outputs": [
    {
     "data": {
      "text/plain": [
       "['HUMAN/AAK1_4wsq_altA_chainB',\n",
       " 'HUMAN/AAK1_5l4q_altA_chainA',\n",
       " 'HUMAN/AAK1_5te0_chainA',\n",
       " 'HUMAN/ABL1_2f4j_chainA',\n",
       " 'HUMAN/ABL1_2g1t_chainA',\n",
       " 'HUMAN/ABL1_2g2i_chainA',\n",
       " 'HUMAN/ABL1_2gqg_altB_chainA',\n",
       " 'HUMAN/ABL1_2hz4_chainB',\n",
       " 'HUMAN/ABL1_2v7a_chainB',\n",
       " 'HUMAN/ABL1_4twp_chainB',\n",
       " 'HUMAN/ABL2_2xyn_altA_chainA',\n",
       " 'HUMAN/ACK_1u46_chainA',\n",
       " 'HUMAN/ACK_1u4d_chainB',\n",
       " 'HUMAN/ACK_1u54_chainB',\n",
       " 'HUMAN/ACK_3eqp_chainB',\n",
       " 'HUMAN/ACK_3eqr_chainA',\n",
       " 'HUMAN/ACK_4ewh_chainA',\n",
       " 'HUMAN/ACK_4hzr_altA_chainA',\n",
       " 'HUMAN/ACK_4hzs_chainC',\n",
       " 'HUMAN/ACK_4id7_chainA']"
      ]
     },
     "execution_count": 28,
     "metadata": {},
     "output_type": "execute_result"
    }
   ],
   "source": [
    "feature_distances_generator.molecule_codes"
   ]
  },
  {
   "cell_type": "code",
   "execution_count": 29,
   "metadata": {},
   "outputs": [
    {
     "data": {
      "text/plain": [
       "['AAK1', 'ABL1', 'ABL2', 'ACK']"
      ]
     },
     "execution_count": 29,
     "metadata": {},
     "output_type": "execute_result"
    }
   ],
   "source": [
    "feature_distances_generator.kinase_names"
   ]
  },
  {
   "cell_type": "code",
   "execution_count": 30,
   "metadata": {},
   "outputs": [
    {
     "data": {
      "text/plain": [
       "'euclidean'"
      ]
     },
     "execution_count": 30,
     "metadata": {},
     "output_type": "execute_result"
    }
   ],
   "source": [
    "feature_distances_generator.distance_measure"
   ]
  },
  {
   "cell_type": "code",
   "execution_count": 31,
   "metadata": {},
   "outputs": [
    {
     "data": {
      "text/plain": [
       "{('HUMAN/AAK1_4wsq_altA_chainB',\n",
       "  'HUMAN/AAK1_5l4q_altA_chainA'): <kinsim_structure.similarity.FeatureDistances at 0x7fc1e9ae5358>,\n",
       " ('HUMAN/AAK1_4wsq_altA_chainB',\n",
       "  'HUMAN/AAK1_5te0_chainA'): <kinsim_structure.similarity.FeatureDistances at 0x7fc1e9a883c8>,\n",
       " ('HUMAN/AAK1_4wsq_altA_chainB',\n",
       "  'HUMAN/ABL1_2f4j_chainA'): <kinsim_structure.similarity.FeatureDistances at 0x7fc1e9adf358>,\n",
       " ('HUMAN/AAK1_4wsq_altA_chainB',\n",
       "  'HUMAN/ABL1_2g1t_chainA'): <kinsim_structure.similarity.FeatureDistances at 0x7fc1e9adfeb8>,\n",
       " ('HUMAN/AAK1_4wsq_altA_chainB',\n",
       "  'HUMAN/ABL1_2g2i_chainA'): <kinsim_structure.similarity.FeatureDistances at 0x7fc1e9a86048>,\n",
       " ('HUMAN/AAK1_4wsq_altA_chainB',\n",
       "  'HUMAN/ABL1_2gqg_altB_chainA'): <kinsim_structure.similarity.FeatureDistances at 0x7fc1e9a86358>,\n",
       " ('HUMAN/AAK1_4wsq_altA_chainB',\n",
       "  'HUMAN/ABL1_2hz4_chainB'): <kinsim_structure.similarity.FeatureDistances at 0x7fc1e9a86860>,\n",
       " ('HUMAN/AAK1_4wsq_altA_chainB',\n",
       "  'HUMAN/ABL1_2v7a_chainB'): <kinsim_structure.similarity.FeatureDistances at 0x7fc1e9ae59b0>,\n",
       " ('HUMAN/AAK1_4wsq_altA_chainB',\n",
       "  'HUMAN/ABL1_4twp_chainB'): <kinsim_structure.similarity.FeatureDistances at 0x7fc1e9ade7f0>,\n",
       " ('HUMAN/AAK1_4wsq_altA_chainB',\n",
       "  'HUMAN/ABL2_2xyn_altA_chainA'): <kinsim_structure.similarity.FeatureDistances at 0x7fc1e9adcd30>,\n",
       " ('HUMAN/AAK1_4wsq_altA_chainB',\n",
       "  'HUMAN/ACK_1u46_chainA'): <kinsim_structure.similarity.FeatureDistances at 0x7fc1e9adc2e8>,\n",
       " ('HUMAN/AAK1_4wsq_altA_chainB',\n",
       "  'HUMAN/ACK_1u4d_chainB'): <kinsim_structure.similarity.FeatureDistances at 0x7fc1e9adc6a0>,\n",
       " ('HUMAN/AAK1_4wsq_altA_chainB',\n",
       "  'HUMAN/ACK_1u54_chainB'): <kinsim_structure.similarity.FeatureDistances at 0x7fc1e9adc278>,\n",
       " ('HUMAN/AAK1_4wsq_altA_chainB',\n",
       "  'HUMAN/ACK_3eqp_chainB'): <kinsim_structure.similarity.FeatureDistances at 0x7fc1e9ae1eb8>,\n",
       " ('HUMAN/AAK1_4wsq_altA_chainB',\n",
       "  'HUMAN/ACK_3eqr_chainA'): <kinsim_structure.similarity.FeatureDistances at 0x7fc1e9adea58>,\n",
       " ('HUMAN/AAK1_4wsq_altA_chainB',\n",
       "  'HUMAN/ACK_4ewh_chainA'): <kinsim_structure.similarity.FeatureDistances at 0x7fc1e9ad8198>,\n",
       " ('HUMAN/AAK1_4wsq_altA_chainB',\n",
       "  'HUMAN/ACK_4hzr_altA_chainA'): <kinsim_structure.similarity.FeatureDistances at 0x7fc1e9ad8358>,\n",
       " ('HUMAN/AAK1_4wsq_altA_chainB',\n",
       "  'HUMAN/ACK_4hzs_chainC'): <kinsim_structure.similarity.FeatureDistances at 0x7fc1e9adaf60>,\n",
       " ('HUMAN/AAK1_4wsq_altA_chainB',\n",
       "  'HUMAN/ACK_4id7_chainA'): <kinsim_structure.similarity.FeatureDistances at 0x7fc1e9ada978>,\n",
       " ('HUMAN/AAK1_5l4q_altA_chainA',\n",
       "  'HUMAN/AAK1_5te0_chainA'): <kinsim_structure.similarity.FeatureDistances at 0x7fc1e9ada710>,\n",
       " ('HUMAN/AAK1_5l4q_altA_chainA',\n",
       "  'HUMAN/ABL1_2f4j_chainA'): <kinsim_structure.similarity.FeatureDistances at 0x7fc1e9ada0b8>,\n",
       " ('HUMAN/AAK1_5l4q_altA_chainA',\n",
       "  'HUMAN/ABL1_2g1t_chainA'): <kinsim_structure.similarity.FeatureDistances at 0x7fc1e9a88dd8>,\n",
       " ('HUMAN/AAK1_5l4q_altA_chainA',\n",
       "  'HUMAN/ABL1_2g2i_chainA'): <kinsim_structure.similarity.FeatureDistances at 0x7fc1e9a86dd8>,\n",
       " ('HUMAN/AAK1_5l4q_altA_chainA',\n",
       "  'HUMAN/ABL1_2gqg_altB_chainA'): <kinsim_structure.similarity.FeatureDistances at 0x7fc1e9a86e10>,\n",
       " ('HUMAN/AAK1_5l4q_altA_chainA',\n",
       "  'HUMAN/ABL1_2hz4_chainB'): <kinsim_structure.similarity.FeatureDistances at 0x7fc1e9ae65c0>,\n",
       " ('HUMAN/AAK1_5l4q_altA_chainA',\n",
       "  'HUMAN/ABL1_2v7a_chainB'): <kinsim_structure.similarity.FeatureDistances at 0x7fc1e9ae6908>,\n",
       " ('HUMAN/AAK1_5l4q_altA_chainA',\n",
       "  'HUMAN/ABL1_4twp_chainB'): <kinsim_structure.similarity.FeatureDistances at 0x7fc1e9ae2080>,\n",
       " ('HUMAN/AAK1_5l4q_altA_chainA',\n",
       "  'HUMAN/ABL2_2xyn_altA_chainA'): <kinsim_structure.similarity.FeatureDistances at 0x7fc1e9ae23c8>,\n",
       " ('HUMAN/AAK1_5l4q_altA_chainA',\n",
       "  'HUMAN/ACK_1u46_chainA'): <kinsim_structure.similarity.FeatureDistances at 0x7fc1e9adeda0>,\n",
       " ('HUMAN/AAK1_5l4q_altA_chainA',\n",
       "  'HUMAN/ACK_1u4d_chainB'): <kinsim_structure.similarity.FeatureDistances at 0x7fc1e9ae62b0>,\n",
       " ('HUMAN/AAK1_5l4q_altA_chainA',\n",
       "  'HUMAN/ACK_1u54_chainB'): <kinsim_structure.similarity.FeatureDistances at 0x7fc1e9adc668>,\n",
       " ('HUMAN/AAK1_5l4q_altA_chainA',\n",
       "  'HUMAN/ACK_3eqp_chainB'): <kinsim_structure.similarity.FeatureDistances at 0x7fc1e9ae9c88>,\n",
       " ('HUMAN/AAK1_5l4q_altA_chainA',\n",
       "  'HUMAN/ACK_3eqr_chainA'): <kinsim_structure.similarity.FeatureDistances at 0x7fc1e9ae9be0>,\n",
       " ('HUMAN/AAK1_5l4q_altA_chainA',\n",
       "  'HUMAN/ACK_4ewh_chainA'): <kinsim_structure.similarity.FeatureDistances at 0x7fc1e9ae9e80>,\n",
       " ('HUMAN/AAK1_5l4q_altA_chainA',\n",
       "  'HUMAN/ACK_4hzr_altA_chainA'): <kinsim_structure.similarity.FeatureDistances at 0x7fc1e9ad89b0>,\n",
       " ('HUMAN/AAK1_5l4q_altA_chainA',\n",
       "  'HUMAN/ACK_4hzs_chainC'): <kinsim_structure.similarity.FeatureDistances at 0x7fc1e9af0e80>,\n",
       " ('HUMAN/AAK1_5l4q_altA_chainA',\n",
       "  'HUMAN/ACK_4id7_chainA'): <kinsim_structure.similarity.FeatureDistances at 0x7fc1e9ad7e80>,\n",
       " ('HUMAN/AAK1_5te0_chainA',\n",
       "  'HUMAN/ABL1_2f4j_chainA'): <kinsim_structure.similarity.FeatureDistances at 0x7fc1e9ad7ac8>,\n",
       " ('HUMAN/AAK1_5te0_chainA',\n",
       "  'HUMAN/ABL1_2g1t_chainA'): <kinsim_structure.similarity.FeatureDistances at 0x7fc1e9ad7668>,\n",
       " ('HUMAN/AAK1_5te0_chainA',\n",
       "  'HUMAN/ABL1_2g2i_chainA'): <kinsim_structure.similarity.FeatureDistances at 0x7fc1e9ade6d8>,\n",
       " ('HUMAN/AAK1_5te0_chainA',\n",
       "  'HUMAN/ABL1_2gqg_altB_chainA'): <kinsim_structure.similarity.FeatureDistances at 0x7fc1e9a88a58>,\n",
       " ('HUMAN/AAK1_5te0_chainA',\n",
       "  'HUMAN/ABL1_2hz4_chainB'): <kinsim_structure.similarity.FeatureDistances at 0x7fc1e9ae39b0>,\n",
       " ('HUMAN/AAK1_5te0_chainA',\n",
       "  'HUMAN/ABL1_2v7a_chainB'): <kinsim_structure.similarity.FeatureDistances at 0x7fc1e9af2780>,\n",
       " ('HUMAN/AAK1_5te0_chainA',\n",
       "  'HUMAN/ABL1_4twp_chainB'): <kinsim_structure.similarity.FeatureDistances at 0x7fc1e9ad7320>,\n",
       " ('HUMAN/AAK1_5te0_chainA',\n",
       "  'HUMAN/ABL2_2xyn_altA_chainA'): <kinsim_structure.similarity.FeatureDistances at 0x7fc1e9ad7e48>,\n",
       " ('HUMAN/AAK1_5te0_chainA',\n",
       "  'HUMAN/ACK_1u46_chainA'): <kinsim_structure.similarity.FeatureDistances at 0x7fc1e9ad7d30>,\n",
       " ('HUMAN/AAK1_5te0_chainA',\n",
       "  'HUMAN/ACK_1u4d_chainB'): <kinsim_structure.similarity.FeatureDistances at 0x7fc1e9ada550>,\n",
       " ('HUMAN/AAK1_5te0_chainA',\n",
       "  'HUMAN/ACK_1u54_chainB'): <kinsim_structure.similarity.FeatureDistances at 0x7fc1e9adaeb8>,\n",
       " ('HUMAN/AAK1_5te0_chainA',\n",
       "  'HUMAN/ACK_3eqp_chainB'): <kinsim_structure.similarity.FeatureDistances at 0x7fc1e9ada198>,\n",
       " ('HUMAN/AAK1_5te0_chainA',\n",
       "  'HUMAN/ACK_3eqr_chainA'): <kinsim_structure.similarity.FeatureDistances at 0x7fc1e9adc4a8>,\n",
       " ('HUMAN/AAK1_5te0_chainA',\n",
       "  'HUMAN/ACK_4ewh_chainA'): <kinsim_structure.similarity.FeatureDistances at 0x7fc1e9adaa58>,\n",
       " ('HUMAN/AAK1_5te0_chainA',\n",
       "  'HUMAN/ACK_4hzr_altA_chainA'): <kinsim_structure.similarity.FeatureDistances at 0x7fc1e9ada128>,\n",
       " ('HUMAN/AAK1_5te0_chainA',\n",
       "  'HUMAN/ACK_4hzs_chainC'): <kinsim_structure.similarity.FeatureDistances at 0x7fc1e9adaa20>,\n",
       " ('HUMAN/AAK1_5te0_chainA',\n",
       "  'HUMAN/ACK_4id7_chainA'): <kinsim_structure.similarity.FeatureDistances at 0x7fc1e9adae48>,\n",
       " ('HUMAN/ABL1_2f4j_chainA',\n",
       "  'HUMAN/ABL1_2g1t_chainA'): <kinsim_structure.similarity.FeatureDistances at 0x7fc1e9ae3cc0>,\n",
       " ('HUMAN/ABL1_2f4j_chainA',\n",
       "  'HUMAN/ABL1_2g2i_chainA'): <kinsim_structure.similarity.FeatureDistances at 0x7fc1e9ae1f98>,\n",
       " ('HUMAN/ABL1_2f4j_chainA',\n",
       "  'HUMAN/ABL1_2gqg_altB_chainA'): <kinsim_structure.similarity.FeatureDistances at 0x7fc1e9a86ef0>,\n",
       " ('HUMAN/ABL1_2f4j_chainA',\n",
       "  'HUMAN/ABL1_2hz4_chainB'): <kinsim_structure.similarity.FeatureDistances at 0x7fc1e9adab00>,\n",
       " ('HUMAN/ABL1_2f4j_chainA',\n",
       "  'HUMAN/ABL1_2v7a_chainB'): <kinsim_structure.similarity.FeatureDistances at 0x7fc1e9adaef0>,\n",
       " ('HUMAN/ABL1_2f4j_chainA',\n",
       "  'HUMAN/ABL1_4twp_chainB'): <kinsim_structure.similarity.FeatureDistances at 0x7fc1e9adb668>,\n",
       " ('HUMAN/ABL1_2f4j_chainA',\n",
       "  'HUMAN/ABL2_2xyn_altA_chainA'): <kinsim_structure.similarity.FeatureDistances at 0x7fc1e9adb7f0>,\n",
       " ('HUMAN/ABL1_2f4j_chainA',\n",
       "  'HUMAN/ACK_1u46_chainA'): <kinsim_structure.similarity.FeatureDistances at 0x7fc1e9adb160>,\n",
       " ('HUMAN/ABL1_2f4j_chainA',\n",
       "  'HUMAN/ACK_1u4d_chainB'): <kinsim_structure.similarity.FeatureDistances at 0x7fc1e9adb198>,\n",
       " ('HUMAN/ABL1_2f4j_chainA',\n",
       "  'HUMAN/ACK_1u54_chainB'): <kinsim_structure.similarity.FeatureDistances at 0x7fc1e9ad3c88>,\n",
       " ('HUMAN/ABL1_2f4j_chainA',\n",
       "  'HUMAN/ACK_3eqp_chainB'): <kinsim_structure.similarity.FeatureDistances at 0x7fc1e9ad3d30>,\n",
       " ('HUMAN/ABL1_2f4j_chainA',\n",
       "  'HUMAN/ACK_3eqr_chainA'): <kinsim_structure.similarity.FeatureDistances at 0x7fc1e9ad1f28>,\n",
       " ('HUMAN/ABL1_2f4j_chainA',\n",
       "  'HUMAN/ACK_4ewh_chainA'): <kinsim_structure.similarity.FeatureDistances at 0x7fc1e9ad1278>,\n",
       " ('HUMAN/ABL1_2f4j_chainA',\n",
       "  'HUMAN/ACK_4hzr_altA_chainA'): <kinsim_structure.similarity.FeatureDistances at 0x7fc1e9ad1a20>,\n",
       " ('HUMAN/ABL1_2f4j_chainA',\n",
       "  'HUMAN/ACK_4hzs_chainC'): <kinsim_structure.similarity.FeatureDistances at 0x7fc1e9ad1400>,\n",
       " ('HUMAN/ABL1_2f4j_chainA',\n",
       "  'HUMAN/ACK_4id7_chainA'): <kinsim_structure.similarity.FeatureDistances at 0x7fc1e9ad1fd0>,\n",
       " ('HUMAN/ABL1_2g1t_chainA',\n",
       "  'HUMAN/ABL1_2g2i_chainA'): <kinsim_structure.similarity.FeatureDistances at 0x7fc1e9ad8320>,\n",
       " ('HUMAN/ABL1_2g1t_chainA',\n",
       "  'HUMAN/ABL1_2gqg_altB_chainA'): <kinsim_structure.similarity.FeatureDistances at 0x7fc1e9aea668>,\n",
       " ('HUMAN/ABL1_2g1t_chainA',\n",
       "  'HUMAN/ABL1_2hz4_chainB'): <kinsim_structure.similarity.FeatureDistances at 0x7fc1e9adbf98>,\n",
       " ('HUMAN/ABL1_2g1t_chainA',\n",
       "  'HUMAN/ABL1_2v7a_chainB'): <kinsim_structure.similarity.FeatureDistances at 0x7fc1e9adb080>,\n",
       " ('HUMAN/ABL1_2g1t_chainA',\n",
       "  'HUMAN/ABL1_4twp_chainB'): <kinsim_structure.similarity.FeatureDistances at 0x7fc1e9adb518>,\n",
       " ('HUMAN/ABL1_2g1t_chainA',\n",
       "  'HUMAN/ABL2_2xyn_altA_chainA'): <kinsim_structure.similarity.FeatureDistances at 0x7fc1e9adb978>,\n",
       " ('HUMAN/ABL1_2g1t_chainA',\n",
       "  'HUMAN/ACK_1u46_chainA'): <kinsim_structure.similarity.FeatureDistances at 0x7fc1e9adb2e8>,\n",
       " ('HUMAN/ABL1_2g1t_chainA',\n",
       "  'HUMAN/ACK_1u4d_chainB'): <kinsim_structure.similarity.FeatureDistances at 0x7fc1e9ad3390>,\n",
       " ('HUMAN/ABL1_2g1t_chainA',\n",
       "  'HUMAN/ACK_1u54_chainB'): <kinsim_structure.similarity.FeatureDistances at 0x7fc1e9ad10b8>,\n",
       " ('HUMAN/ABL1_2g1t_chainA',\n",
       "  'HUMAN/ACK_3eqp_chainB'): <kinsim_structure.similarity.FeatureDistances at 0x7fc1e9ad19e8>,\n",
       " ('HUMAN/ABL1_2g1t_chainA',\n",
       "  'HUMAN/ACK_3eqr_chainA'): <kinsim_structure.similarity.FeatureDistances at 0x7fc1e9ad12b0>,\n",
       " ('HUMAN/ABL1_2g1t_chainA',\n",
       "  'HUMAN/ACK_4ewh_chainA'): <kinsim_structure.similarity.FeatureDistances at 0x7fc1e9ad1358>,\n",
       " ('HUMAN/ABL1_2g1t_chainA',\n",
       "  'HUMAN/ACK_4hzr_altA_chainA'): <kinsim_structure.similarity.FeatureDistances at 0x7fc1e9ad1588>,\n",
       " ('HUMAN/ABL1_2g1t_chainA',\n",
       "  'HUMAN/ACK_4hzs_chainC'): <kinsim_structure.similarity.FeatureDistances at 0x7fc1e9ad0908>,\n",
       " ('HUMAN/ABL1_2g1t_chainA',\n",
       "  'HUMAN/ACK_4id7_chainA'): <kinsim_structure.similarity.FeatureDistances at 0x7fc1e9af0e48>,\n",
       " ('HUMAN/ABL1_2g2i_chainA',\n",
       "  'HUMAN/ABL1_2gqg_altB_chainA'): <kinsim_structure.similarity.FeatureDistances at 0x7fc1e9ad5048>,\n",
       " ('HUMAN/ABL1_2g2i_chainA',\n",
       "  'HUMAN/ABL1_2hz4_chainB'): <kinsim_structure.similarity.FeatureDistances at 0x7fc1e9ad5be0>,\n",
       " ('HUMAN/ABL1_2g2i_chainA',\n",
       "  'HUMAN/ABL1_2v7a_chainB'): <kinsim_structure.similarity.FeatureDistances at 0x7fc1e9ad5630>,\n",
       " ('HUMAN/ABL1_2g2i_chainA',\n",
       "  'HUMAN/ABL1_4twp_chainB'): <kinsim_structure.similarity.FeatureDistances at 0x7fc1e9ad5710>,\n",
       " ('HUMAN/ABL1_2g2i_chainA',\n",
       "  'HUMAN/ABL2_2xyn_altA_chainA'): <kinsim_structure.similarity.FeatureDistances at 0x7fc1e9ad5358>,\n",
       " ('HUMAN/ABL1_2g2i_chainA',\n",
       "  'HUMAN/ACK_1u46_chainA'): <kinsim_structure.similarity.FeatureDistances at 0x7fc1e9ad5da0>,\n",
       " ('HUMAN/ABL1_2g2i_chainA',\n",
       "  'HUMAN/ACK_1u4d_chainB'): <kinsim_structure.similarity.FeatureDistances at 0x7fc1e9ae1d30>,\n",
       " ('HUMAN/ABL1_2g2i_chainA',\n",
       "  'HUMAN/ACK_1u54_chainB'): <kinsim_structure.similarity.FeatureDistances at 0x7fc1e9af0518>,\n",
       " ('HUMAN/ABL1_2g2i_chainA',\n",
       "  'HUMAN/ACK_3eqp_chainB'): <kinsim_structure.similarity.FeatureDistances at 0x7fc1e9ae89e8>,\n",
       " ('HUMAN/ABL1_2g2i_chainA',\n",
       "  'HUMAN/ACK_3eqr_chainA'): <kinsim_structure.similarity.FeatureDistances at 0x7fc1e9ae8668>,\n",
       " ('HUMAN/ABL1_2g2i_chainA',\n",
       "  'HUMAN/ACK_4ewh_chainA'): <kinsim_structure.similarity.FeatureDistances at 0x7fc1e9adbb38>,\n",
       " ('HUMAN/ABL1_2g2i_chainA',\n",
       "  'HUMAN/ACK_4hzr_altA_chainA'): <kinsim_structure.similarity.FeatureDistances at 0x7fc1e9adb898>,\n",
       " ('HUMAN/ABL1_2g2i_chainA',\n",
       "  'HUMAN/ACK_4hzs_chainC'): <kinsim_structure.similarity.FeatureDistances at 0x7fc1e9adbcf8>,\n",
       " ('HUMAN/ABL1_2g2i_chainA',\n",
       "  'HUMAN/ACK_4id7_chainA'): <kinsim_structure.similarity.FeatureDistances at 0x7fc1e9ad8748>,\n",
       " ('HUMAN/ABL1_2gqg_altB_chainA',\n",
       "  'HUMAN/ABL1_2hz4_chainB'): <kinsim_structure.similarity.FeatureDistances at 0x7fc1e9ad1828>,\n",
       " ('HUMAN/ABL1_2gqg_altB_chainA',\n",
       "  'HUMAN/ABL1_2v7a_chainB'): <kinsim_structure.similarity.FeatureDistances at 0x7fc1e9ad1f98>,\n",
       " ('HUMAN/ABL1_2gqg_altB_chainA',\n",
       "  'HUMAN/ABL1_4twp_chainB'): <kinsim_structure.similarity.FeatureDistances at 0x7fc1e9ad5fd0>,\n",
       " ('HUMAN/ABL1_2gqg_altB_chainA',\n",
       "  'HUMAN/ABL2_2xyn_altA_chainA'): <kinsim_structure.similarity.FeatureDistances at 0x7fc1e9ad5d68>,\n",
       " ('HUMAN/ABL1_2gqg_altB_chainA',\n",
       "  'HUMAN/ACK_1u46_chainA'): <kinsim_structure.similarity.FeatureDistances at 0x7fc1e9ad5c88>,\n",
       " ('HUMAN/ABL1_2gqg_altB_chainA',\n",
       "  'HUMAN/ACK_1u4d_chainB'): <kinsim_structure.similarity.FeatureDistances at 0x7fc1e9ad5550>,\n",
       " ('HUMAN/ABL1_2gqg_altB_chainA',\n",
       "  'HUMAN/ACK_1u54_chainB'): <kinsim_structure.similarity.FeatureDistances at 0x7fc1e9adb6d8>,\n",
       " ('HUMAN/ABL1_2gqg_altB_chainA',\n",
       "  'HUMAN/ACK_3eqp_chainB'): <kinsim_structure.similarity.FeatureDistances at 0x7fc1e9aeb0b8>,\n",
       " ('HUMAN/ABL1_2gqg_altB_chainA',\n",
       "  'HUMAN/ACK_3eqr_chainA'): <kinsim_structure.similarity.FeatureDistances at 0x7fc1e9ad0d68>,\n",
       " ('HUMAN/ABL1_2gqg_altB_chainA',\n",
       "  'HUMAN/ACK_4ewh_chainA'): <kinsim_structure.similarity.FeatureDistances at 0x7fc1e9ad0278>,\n",
       " ('HUMAN/ABL1_2gqg_altB_chainA',\n",
       "  'HUMAN/ACK_4hzr_altA_chainA'): <kinsim_structure.similarity.FeatureDistances at 0x7fc1e9ad0b38>,\n",
       " ('HUMAN/ABL1_2gqg_altB_chainA',\n",
       "  'HUMAN/ACK_4hzs_chainC'): <kinsim_structure.similarity.FeatureDistances at 0x7fc1e9ad0320>,\n",
       " ('HUMAN/ABL1_2gqg_altB_chainA',\n",
       "  'HUMAN/ACK_4id7_chainA'): <kinsim_structure.similarity.FeatureDistances at 0x7fc1e9ad0ac8>,\n",
       " ('HUMAN/ABL1_2hz4_chainB',\n",
       "  'HUMAN/ABL1_2v7a_chainB'): <kinsim_structure.similarity.FeatureDistances at 0x7fc1e9514080>,\n",
       " ('HUMAN/ABL1_2hz4_chainB',\n",
       "  'HUMAN/ABL1_4twp_chainB'): <kinsim_structure.similarity.FeatureDistances at 0x7fc1e9ad53c8>,\n",
       " ('HUMAN/ABL1_2hz4_chainB',\n",
       "  'HUMAN/ABL2_2xyn_altA_chainA'): <kinsim_structure.similarity.FeatureDistances at 0x7fc1e9ad5940>,\n",
       " ('HUMAN/ABL1_2hz4_chainB',\n",
       "  'HUMAN/ACK_1u46_chainA'): <kinsim_structure.similarity.FeatureDistances at 0x7fc1e9ad0978>,\n",
       " ('HUMAN/ABL1_2hz4_chainB',\n",
       "  'HUMAN/ACK_1u4d_chainB'): <kinsim_structure.similarity.FeatureDistances at 0x7fc1e9ad0240>,\n",
       " ('HUMAN/ABL1_2hz4_chainB',\n",
       "  'HUMAN/ACK_1u54_chainB'): <kinsim_structure.similarity.FeatureDistances at 0x7fc1e9ad0198>,\n",
       " ('HUMAN/ABL1_2hz4_chainB',\n",
       "  'HUMAN/ACK_3eqp_chainB'): <kinsim_structure.similarity.FeatureDistances at 0x7fc1e9ad03c8>,\n",
       " ('HUMAN/ABL1_2hz4_chainB',\n",
       "  'HUMAN/ACK_3eqr_chainA'): <kinsim_structure.similarity.FeatureDistances at 0x7fc1e9aea6d8>,\n",
       " ('HUMAN/ABL1_2hz4_chainB',\n",
       "  'HUMAN/ACK_4ewh_chainA'): <kinsim_structure.similarity.FeatureDistances at 0x7fc1e9ad0400>,\n",
       " ('HUMAN/ABL1_2hz4_chainB',\n",
       "  'HUMAN/ACK_4hzr_altA_chainA'): <kinsim_structure.similarity.FeatureDistances at 0x7fc1e9ad04a8>,\n",
       " ('HUMAN/ABL1_2hz4_chainB',\n",
       "  'HUMAN/ACK_4hzs_chainC'): <kinsim_structure.similarity.FeatureDistances at 0x7fc1e9ad01d0>,\n",
       " ('HUMAN/ABL1_2hz4_chainB',\n",
       "  'HUMAN/ACK_4id7_chainA'): <kinsim_structure.similarity.FeatureDistances at 0x7fc1e9ace390>,\n",
       " ('HUMAN/ABL1_2v7a_chainB',\n",
       "  'HUMAN/ABL1_4twp_chainB'): <kinsim_structure.similarity.FeatureDistances at 0x7fc1e9aceb38>,\n",
       " ('HUMAN/ABL1_2v7a_chainB',\n",
       "  'HUMAN/ABL2_2xyn_altA_chainA'): <kinsim_structure.similarity.FeatureDistances at 0x7fc1e9acec88>,\n",
       " ('HUMAN/ABL1_2v7a_chainB',\n",
       "  'HUMAN/ACK_1u46_chainA'): <kinsim_structure.similarity.FeatureDistances at 0x7fc1e9ad5f28>,\n",
       " ('HUMAN/ABL1_2v7a_chainB',\n",
       "  'HUMAN/ACK_1u4d_chainB'): <kinsim_structure.similarity.FeatureDistances at 0x7fc1e9ad47f0>,\n",
       " ('HUMAN/ABL1_2v7a_chainB',\n",
       "  'HUMAN/ACK_1u54_chainB'): <kinsim_structure.similarity.FeatureDistances at 0x7fc1e9ad4d68>,\n",
       " ('HUMAN/ABL1_2v7a_chainB',\n",
       "  'HUMAN/ACK_3eqp_chainB'): <kinsim_structure.similarity.FeatureDistances at 0x7fc1e9ad4f98>,\n",
       " ('HUMAN/ABL1_2v7a_chainB',\n",
       "  'HUMAN/ACK_3eqr_chainA'): <kinsim_structure.similarity.FeatureDistances at 0x7fc1e9acacf8>,\n",
       " ('HUMAN/ABL1_2v7a_chainB',\n",
       "  'HUMAN/ACK_4ewh_chainA'): <kinsim_structure.similarity.FeatureDistances at 0x7fc1e9aca7b8>,\n",
       " ('HUMAN/ABL1_2v7a_chainB',\n",
       "  'HUMAN/ACK_4hzr_altA_chainA'): <kinsim_structure.similarity.FeatureDistances at 0x7fc1e9acdcc0>,\n",
       " ('HUMAN/ABL1_2v7a_chainB',\n",
       "  'HUMAN/ACK_4hzs_chainC'): <kinsim_structure.similarity.FeatureDistances at 0x7fc1e9aebb70>,\n",
       " ('HUMAN/ABL1_2v7a_chainB',\n",
       "  'HUMAN/ACK_4id7_chainA'): <kinsim_structure.similarity.FeatureDistances at 0x7fc1e9acecc0>,\n",
       " ('HUMAN/ABL1_4twp_chainB',\n",
       "  'HUMAN/ABL2_2xyn_altA_chainA'): <kinsim_structure.similarity.FeatureDistances at 0x7fc1e9ad3128>,\n",
       " ('HUMAN/ABL1_4twp_chainB',\n",
       "  'HUMAN/ACK_1u46_chainA'): <kinsim_structure.similarity.FeatureDistances at 0x7fc1e9ad3048>,\n",
       " ('HUMAN/ABL1_4twp_chainB',\n",
       "  'HUMAN/ACK_1u4d_chainB'): <kinsim_structure.similarity.FeatureDistances at 0x7fc1e9ad3438>,\n",
       " ('HUMAN/ABL1_4twp_chainB',\n",
       "  'HUMAN/ACK_1u54_chainB'): <kinsim_structure.similarity.FeatureDistances at 0x7fc1e9ad3908>,\n",
       " ('HUMAN/ABL1_4twp_chainB',\n",
       "  'HUMAN/ACK_3eqp_chainB'): <kinsim_structure.similarity.FeatureDistances at 0x7fc1e9ad3cc0>,\n",
       " ('HUMAN/ABL1_4twp_chainB',\n",
       "  'HUMAN/ACK_3eqr_chainA'): <kinsim_structure.similarity.FeatureDistances at 0x7fc1e9ad16a0>,\n",
       " ('HUMAN/ABL1_4twp_chainB',\n",
       "  'HUMAN/ACK_4ewh_chainA'): <kinsim_structure.similarity.FeatureDistances at 0x7fc1e9aceba8>,\n",
       " ('HUMAN/ABL1_4twp_chainB',\n",
       "  'HUMAN/ACK_4hzr_altA_chainA'): <kinsim_structure.similarity.FeatureDistances at 0x7fc1e9acef60>,\n",
       " ('HUMAN/ABL1_4twp_chainB',\n",
       "  'HUMAN/ACK_4hzs_chainC'): <kinsim_structure.similarity.FeatureDistances at 0x7fc1e9ace278>,\n",
       " ('HUMAN/ABL1_4twp_chainB',\n",
       "  'HUMAN/ACK_4id7_chainA'): <kinsim_structure.similarity.FeatureDistances at 0x7fc1e9ace6a0>,\n",
       " ('HUMAN/ABL2_2xyn_altA_chainA',\n",
       "  'HUMAN/ACK_1u46_chainA'): <kinsim_structure.similarity.FeatureDistances at 0x7fc1e9aceb00>,\n",
       " ('HUMAN/ABL2_2xyn_altA_chainA',\n",
       "  'HUMAN/ACK_1u4d_chainB'): <kinsim_structure.similarity.FeatureDistances at 0x7fc1e9aceb70>,\n",
       " ('HUMAN/ABL2_2xyn_altA_chainA',\n",
       "  'HUMAN/ACK_1u54_chainB'): <kinsim_structure.similarity.FeatureDistances at 0x7fc1e9adb400>,\n",
       " ('HUMAN/ABL2_2xyn_altA_chainA',\n",
       "  'HUMAN/ACK_3eqp_chainB'): <kinsim_structure.similarity.FeatureDistances at 0x7fc1e9acd6d8>,\n",
       " ('HUMAN/ABL2_2xyn_altA_chainA',\n",
       "  'HUMAN/ACK_3eqr_chainA'): <kinsim_structure.similarity.FeatureDistances at 0x7fc1e9acda20>,\n",
       " ('HUMAN/ABL2_2xyn_altA_chainA',\n",
       "  'HUMAN/ACK_4ewh_chainA'): <kinsim_structure.similarity.FeatureDistances at 0x7fc1e9acdc50>,\n",
       " ('HUMAN/ABL2_2xyn_altA_chainA',\n",
       "  'HUMAN/ACK_4hzr_altA_chainA'): <kinsim_structure.similarity.FeatureDistances at 0x7fc1e9acdef0>,\n",
       " ('HUMAN/ABL2_2xyn_altA_chainA',\n",
       "  'HUMAN/ACK_4hzs_chainC'): <kinsim_structure.similarity.FeatureDistances at 0x7fc1e9acd748>,\n",
       " ('HUMAN/ABL2_2xyn_altA_chainA',\n",
       "  'HUMAN/ACK_4id7_chainA'): <kinsim_structure.similarity.FeatureDistances at 0x7fc1e9acdf98>,\n",
       " ('HUMAN/ACK_1u46_chainA',\n",
       "  'HUMAN/ACK_1u4d_chainB'): <kinsim_structure.similarity.FeatureDistances at 0x7fc1e9ace8d0>,\n",
       " ('HUMAN/ACK_1u46_chainA',\n",
       "  'HUMAN/ACK_1u54_chainB'): <kinsim_structure.similarity.FeatureDistances at 0x7fc1e9ad3e48>,\n",
       " ('HUMAN/ACK_1u46_chainA',\n",
       "  'HUMAN/ACK_3eqp_chainB'): <kinsim_structure.similarity.FeatureDistances at 0x7fc1e9ad4358>,\n",
       " ('HUMAN/ACK_1u46_chainA',\n",
       "  'HUMAN/ACK_3eqr_chainA'): <kinsim_structure.similarity.FeatureDistances at 0x7fc1e9ad4780>,\n",
       " ('HUMAN/ACK_1u46_chainA',\n",
       "  'HUMAN/ACK_4ewh_chainA'): <kinsim_structure.similarity.FeatureDistances at 0x7fc1e9ad4048>,\n",
       " ('HUMAN/ACK_1u46_chainA',\n",
       "  'HUMAN/ACK_4hzr_altA_chainA'): <kinsim_structure.similarity.FeatureDistances at 0x7fc1e9ad41d0>,\n",
       " ('HUMAN/ACK_1u46_chainA',\n",
       "  'HUMAN/ACK_4hzs_chainC'): <kinsim_structure.similarity.FeatureDistances at 0x7fc1e9ad4a20>,\n",
       " ('HUMAN/ACK_1u46_chainA',\n",
       "  'HUMAN/ACK_4id7_chainA'): <kinsim_structure.similarity.FeatureDistances at 0x7fc1e9ad40f0>,\n",
       " ('HUMAN/ACK_1u4d_chainB',\n",
       "  'HUMAN/ACK_1u54_chainB'): <kinsim_structure.similarity.FeatureDistances at 0x7fc1e9acba20>,\n",
       " ('HUMAN/ACK_1u4d_chainB',\n",
       "  'HUMAN/ACK_3eqp_chainB'): <kinsim_structure.similarity.FeatureDistances at 0x7fc1e9acbba8>,\n",
       " ('HUMAN/ACK_1u4d_chainB',\n",
       "  'HUMAN/ACK_3eqr_chainA'): <kinsim_structure.similarity.FeatureDistances at 0x7fc1e9acbeb8>,\n",
       " ('HUMAN/ACK_1u4d_chainB',\n",
       "  'HUMAN/ACK_4ewh_chainA'): <kinsim_structure.similarity.FeatureDistances at 0x7fc1e9acb0b8>,\n",
       " ('HUMAN/ACK_1u4d_chainB',\n",
       "  'HUMAN/ACK_4hzr_altA_chainA'): <kinsim_structure.similarity.FeatureDistances at 0x7fc1e9acaf98>,\n",
       " ('HUMAN/ACK_1u4d_chainB',\n",
       "  'HUMAN/ACK_4hzs_chainC'): <kinsim_structure.similarity.FeatureDistances at 0x7fc1e9aca8d0>,\n",
       " ('HUMAN/ACK_1u4d_chainB',\n",
       "  'HUMAN/ACK_4id7_chainA'): <kinsim_structure.similarity.FeatureDistances at 0x7fc1e9aedcc0>,\n",
       " ('HUMAN/ACK_1u54_chainB',\n",
       "  'HUMAN/ACK_3eqp_chainB'): <kinsim_structure.similarity.FeatureDistances at 0x7fc1e9acabe0>,\n",
       " ('HUMAN/ACK_1u54_chainB',\n",
       "  'HUMAN/ACK_3eqr_chainA'): <kinsim_structure.similarity.FeatureDistances at 0x7fc1e9acae10>,\n",
       " ('HUMAN/ACK_1u54_chainB',\n",
       "  'HUMAN/ACK_4ewh_chainA'): <kinsim_structure.similarity.FeatureDistances at 0x7fc1e9aca400>,\n",
       " ('HUMAN/ACK_1u54_chainB',\n",
       "  'HUMAN/ACK_4hzr_altA_chainA'): <kinsim_structure.similarity.FeatureDistances at 0x7fc1e9aca940>,\n",
       " ('HUMAN/ACK_1u54_chainB',\n",
       "  'HUMAN/ACK_4hzs_chainC'): <kinsim_structure.similarity.FeatureDistances at 0x7fc1e9acaef0>,\n",
       " ('HUMAN/ACK_1u54_chainB',\n",
       "  'HUMAN/ACK_4id7_chainA'): <kinsim_structure.similarity.FeatureDistances at 0x7fc1e9aca6d8>,\n",
       " ('HUMAN/ACK_3eqp_chainB',\n",
       "  'HUMAN/ACK_3eqr_chainA'): <kinsim_structure.similarity.FeatureDistances at 0x7fc1e9acd5f8>,\n",
       " ('HUMAN/ACK_3eqp_chainB',\n",
       "  'HUMAN/ACK_4ewh_chainA'): <kinsim_structure.similarity.FeatureDistances at 0x7fc1e9ad4470>,\n",
       " ('HUMAN/ACK_3eqp_chainB',\n",
       "  'HUMAN/ACK_4hzr_altA_chainA'): <kinsim_structure.similarity.FeatureDistances at 0x7fc1e9ad4588>,\n",
       " ('HUMAN/ACK_3eqp_chainB',\n",
       "  'HUMAN/ACK_4hzs_chainC'): <kinsim_structure.similarity.FeatureDistances at 0x7fc1e9ad49e8>,\n",
       " ('HUMAN/ACK_3eqp_chainB',\n",
       "  'HUMAN/ACK_4id7_chainA'): <kinsim_structure.similarity.FeatureDistances at 0x7fc1e9aed978>,\n",
       " ('HUMAN/ACK_3eqr_chainA',\n",
       "  'HUMAN/ACK_4ewh_chainA'): <kinsim_structure.similarity.FeatureDistances at 0x7fc1e9aeddd8>,\n",
       " ('HUMAN/ACK_3eqr_chainA',\n",
       "  'HUMAN/ACK_4hzr_altA_chainA'): <kinsim_structure.similarity.FeatureDistances at 0x7fc1e9aebd30>,\n",
       " ('HUMAN/ACK_3eqr_chainA',\n",
       "  'HUMAN/ACK_4hzs_chainC'): <kinsim_structure.similarity.FeatureDistances at 0x7fc1e9ad3080>,\n",
       " ('HUMAN/ACK_3eqr_chainA',\n",
       "  'HUMAN/ACK_4id7_chainA'): <kinsim_structure.similarity.FeatureDistances at 0x7fc1e9acd470>,\n",
       " ('HUMAN/ACK_4ewh_chainA',\n",
       "  'HUMAN/ACK_4hzr_altA_chainA'): <kinsim_structure.similarity.FeatureDistances at 0x7fc1e9acb438>,\n",
       " ('HUMAN/ACK_4ewh_chainA',\n",
       "  'HUMAN/ACK_4hzs_chainC'): <kinsim_structure.similarity.FeatureDistances at 0x7fc1e9acb160>,\n",
       " ('HUMAN/ACK_4ewh_chainA',\n",
       "  'HUMAN/ACK_4id7_chainA'): <kinsim_structure.similarity.FeatureDistances at 0x7fc1e9acb358>,\n",
       " ('HUMAN/ACK_4hzr_altA_chainA',\n",
       "  'HUMAN/ACK_4hzs_chainC'): <kinsim_structure.similarity.FeatureDistances at 0x7fc1e9acb6a0>,\n",
       " ('HUMAN/ACK_4hzr_altA_chainA',\n",
       "  'HUMAN/ACK_4id7_chainA'): <kinsim_structure.similarity.FeatureDistances at 0x7fc1e9acb940>,\n",
       " ('HUMAN/ACK_4hzs_chainC',\n",
       "  'HUMAN/ACK_4id7_chainA'): <kinsim_structure.similarity.FeatureDistances at 0x7fc1e9ace860>}"
      ]
     },
     "execution_count": 31,
     "metadata": {},
     "output_type": "execute_result"
    }
   ],
   "source": [
    "feature_distances_generator.data"
   ]
  },
  {
   "cell_type": "code",
   "execution_count": 32,
   "metadata": {},
   "outputs": [
    {
     "data": {
      "text/plain": [
       "<kinsim_structure.similarity.FeatureDistances at 0x7fc1e9ae5358>"
      ]
     },
     "execution_count": 32,
     "metadata": {},
     "output_type": "execute_result"
    }
   ],
   "source": [
    "feature_distances_generator.data[('HUMAN/AAK1_4wsq_altA_chainB', 'HUMAN/AAK1_5l4q_altA_chainA')]"
   ]
  },
  {
   "cell_type": "markdown",
   "metadata": {},
   "source": [
    "### FingerprintDistanceGenerator"
   ]
  },
  {
   "cell_type": "code",
   "execution_count": 33,
   "metadata": {},
   "outputs": [],
   "source": [
    "fingerprint_distance_generator = FingerprintDistanceGenerator()"
   ]
  },
  {
   "cell_type": "code",
   "execution_count": 34,
   "metadata": {},
   "outputs": [
    {
     "name": "stdout",
     "output_type": "stream",
     "text": [
      "2019-11-06 17:08:19.052710\n",
      "2019-11-06 17:08:19.422117\n"
     ]
    }
   ],
   "source": [
    "fingerprint_distance_generator.from_feature_distances_generator(feature_distances_generator, None)"
   ]
  },
  {
   "cell_type": "code",
   "execution_count": 35,
   "metadata": {},
   "outputs": [
    {
     "data": {
      "text/plain": [
       "'euclidean'"
      ]
     },
     "execution_count": 35,
     "metadata": {},
     "output_type": "execute_result"
    }
   ],
   "source": [
    "fingerprint_distance_generator.distance_measure"
   ]
  },
  {
   "cell_type": "code",
   "execution_count": 36,
   "metadata": {},
   "outputs": [],
   "source": [
    "fingerprint_distance_generator.feature_weights"
   ]
  },
  {
   "cell_type": "code",
   "execution_count": 37,
   "metadata": {},
   "outputs": [
    {
     "data": {
      "text/plain": [
       "['HUMAN/AAK1_4wsq_altA_chainB',\n",
       " 'HUMAN/AAK1_5l4q_altA_chainA',\n",
       " 'HUMAN/AAK1_5te0_chainA',\n",
       " 'HUMAN/ABL1_2f4j_chainA',\n",
       " 'HUMAN/ABL1_2g1t_chainA']"
      ]
     },
     "execution_count": 37,
     "metadata": {},
     "output_type": "execute_result"
    }
   ],
   "source": [
    "fingerprint_distance_generator.molecule_codes[:5]"
   ]
  },
  {
   "cell_type": "code",
   "execution_count": 38,
   "metadata": {},
   "outputs": [
    {
     "data": {
      "text/plain": [
       "['AAK1', 'ABL1', 'ABL2', 'ACK']"
      ]
     },
     "execution_count": 38,
     "metadata": {},
     "output_type": "execute_result"
    }
   ],
   "source": [
    "fingerprint_distance_generator.kinase_names"
   ]
  },
  {
   "cell_type": "code",
   "execution_count": 39,
   "metadata": {},
   "outputs": [
    {
     "data": {
      "text/html": [
       "<div>\n",
       "<style scoped>\n",
       "    .dataframe tbody tr th:only-of-type {\n",
       "        vertical-align: middle;\n",
       "    }\n",
       "\n",
       "    .dataframe tbody tr th {\n",
       "        vertical-align: top;\n",
       "    }\n",
       "\n",
       "    .dataframe thead th {\n",
       "        text-align: right;\n",
       "    }\n",
       "</style>\n",
       "<table border=\"1\" class=\"dataframe\">\n",
       "  <thead>\n",
       "    <tr style=\"text-align: right;\">\n",
       "      <th></th>\n",
       "      <th>molecule_code_1</th>\n",
       "      <th>molecule_code_2</th>\n",
       "      <th>distance</th>\n",
       "      <th>coverage</th>\n",
       "    </tr>\n",
       "  </thead>\n",
       "  <tbody>\n",
       "    <tr>\n",
       "      <th>0</th>\n",
       "      <td>HUMAN/AAK1_4wsq_altA_chainB</td>\n",
       "      <td>HUMAN/AAK1_5l4q_altA_chainA</td>\n",
       "      <td>0.005896</td>\n",
       "      <td>0.989333</td>\n",
       "    </tr>\n",
       "    <tr>\n",
       "      <th>1</th>\n",
       "      <td>HUMAN/AAK1_4wsq_altA_chainB</td>\n",
       "      <td>HUMAN/AAK1_5te0_chainA</td>\n",
       "      <td>0.007228</td>\n",
       "      <td>0.988000</td>\n",
       "    </tr>\n",
       "    <tr>\n",
       "      <th>2</th>\n",
       "      <td>HUMAN/AAK1_4wsq_altA_chainB</td>\n",
       "      <td>HUMAN/ABL1_2f4j_chainA</td>\n",
       "      <td>0.030164</td>\n",
       "      <td>0.985333</td>\n",
       "    </tr>\n",
       "    <tr>\n",
       "      <th>3</th>\n",
       "      <td>HUMAN/AAK1_4wsq_altA_chainB</td>\n",
       "      <td>HUMAN/ABL1_2g1t_chainA</td>\n",
       "      <td>0.030657</td>\n",
       "      <td>0.985333</td>\n",
       "    </tr>\n",
       "    <tr>\n",
       "      <th>4</th>\n",
       "      <td>HUMAN/AAK1_4wsq_altA_chainB</td>\n",
       "      <td>HUMAN/ABL1_2g2i_chainA</td>\n",
       "      <td>0.034038</td>\n",
       "      <td>0.954667</td>\n",
       "    </tr>\n",
       "  </tbody>\n",
       "</table>\n",
       "</div>"
      ],
      "text/plain": [
       "               molecule_code_1              molecule_code_2  distance  \\\n",
       "0  HUMAN/AAK1_4wsq_altA_chainB  HUMAN/AAK1_5l4q_altA_chainA  0.005896   \n",
       "1  HUMAN/AAK1_4wsq_altA_chainB       HUMAN/AAK1_5te0_chainA  0.007228   \n",
       "2  HUMAN/AAK1_4wsq_altA_chainB       HUMAN/ABL1_2f4j_chainA  0.030164   \n",
       "3  HUMAN/AAK1_4wsq_altA_chainB       HUMAN/ABL1_2g1t_chainA  0.030657   \n",
       "4  HUMAN/AAK1_4wsq_altA_chainB       HUMAN/ABL1_2g2i_chainA  0.034038   \n",
       "\n",
       "   coverage  \n",
       "0  0.989333  \n",
       "1  0.988000  \n",
       "2  0.985333  \n",
       "3  0.985333  \n",
       "4  0.954667  "
      ]
     },
     "execution_count": 39,
     "metadata": {},
     "output_type": "execute_result"
    }
   ],
   "source": [
    "fingerprint_distance_generator.data.head()"
   ]
  },
  {
   "cell_type": "code",
   "execution_count": 40,
   "metadata": {},
   "outputs": [
    {
     "data": {
      "text/html": [
       "<div>\n",
       "<style scoped>\n",
       "    .dataframe tbody tr th:only-of-type {\n",
       "        vertical-align: middle;\n",
       "    }\n",
       "\n",
       "    .dataframe tbody tr th {\n",
       "        vertical-align: top;\n",
       "    }\n",
       "\n",
       "    .dataframe thead th {\n",
       "        text-align: right;\n",
       "    }\n",
       "</style>\n",
       "<table border=\"1\" class=\"dataframe\">\n",
       "  <thead>\n",
       "    <tr style=\"text-align: right;\">\n",
       "      <th></th>\n",
       "      <th>AAK1</th>\n",
       "      <th>ABL1</th>\n",
       "      <th>ABL2</th>\n",
       "      <th>ACK</th>\n",
       "    </tr>\n",
       "  </thead>\n",
       "  <tbody>\n",
       "    <tr>\n",
       "      <th>AAK1</th>\n",
       "      <td>0.005896</td>\n",
       "      <td>0.028653</td>\n",
       "      <td>0.029712</td>\n",
       "      <td>0.028508</td>\n",
       "    </tr>\n",
       "    <tr>\n",
       "      <th>ABL1</th>\n",
       "      <td>NaN</td>\n",
       "      <td>0.005416</td>\n",
       "      <td>0.005073</td>\n",
       "      <td>0.016274</td>\n",
       "    </tr>\n",
       "    <tr>\n",
       "      <th>ABL2</th>\n",
       "      <td>NaN</td>\n",
       "      <td>NaN</td>\n",
       "      <td>NaN</td>\n",
       "      <td>0.022821</td>\n",
       "    </tr>\n",
       "    <tr>\n",
       "      <th>ACK</th>\n",
       "      <td>NaN</td>\n",
       "      <td>NaN</td>\n",
       "      <td>NaN</td>\n",
       "      <td>0.003300</td>\n",
       "    </tr>\n",
       "  </tbody>\n",
       "</table>\n",
       "</div>"
      ],
      "text/plain": [
       "          AAK1      ABL1      ABL2       ACK\n",
       "AAK1  0.005896  0.028653  0.029712  0.028508\n",
       "ABL1       NaN  0.005416  0.005073  0.016274\n",
       "ABL2       NaN       NaN       NaN  0.022821\n",
       "ACK        NaN       NaN       NaN  0.003300"
      ]
     },
     "execution_count": 40,
     "metadata": {},
     "output_type": "execute_result"
    }
   ],
   "source": [
    "fingerprint_distance_generator.get_kinase_distance_matrix()"
   ]
  }
 ],
 "metadata": {
  "kernelspec": {
   "display_name": "kinsim",
   "language": "python",
   "name": "kinsim"
  },
  "language_info": {
   "codemirror_mode": {
    "name": "ipython",
    "version": 3
   },
   "file_extension": ".py",
   "mimetype": "text/x-python",
   "name": "python",
   "nbconvert_exporter": "python",
   "pygments_lexer": "ipython3",
   "version": "3.6.7"
  }
 },
 "nbformat": 4,
 "nbformat_minor": 4
}
