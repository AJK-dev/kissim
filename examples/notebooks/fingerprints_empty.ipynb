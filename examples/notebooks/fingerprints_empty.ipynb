{
 "cells": [
  {
   "cell_type": "markdown",
   "metadata": {},
   "source": [
    "# Empty fingerprints"
   ]
  },
  {
   "cell_type": "markdown",
   "metadata": {},
   "source": [
    "## Imports"
   ]
  },
  {
   "cell_type": "code",
   "execution_count": 1,
   "metadata": {},
   "outputs": [],
   "source": [
    "%load_ext autoreload"
   ]
  },
  {
   "cell_type": "code",
   "execution_count": 2,
   "metadata": {},
   "outputs": [],
   "source": [
    "%autoreload 2"
   ]
  },
  {
   "cell_type": "code",
   "execution_count": 3,
   "metadata": {},
   "outputs": [
    {
     "data": {
      "application/vnd.jupyter.widget-view+json": {
       "model_id": "986a52eb89b44c1c983d6dd845d3a6f1",
       "version_major": 2,
       "version_minor": 0
      },
      "text/plain": [
       "_ColormakerRegistry()"
      ]
     },
     "metadata": {},
     "output_type": "display_data"
    }
   ],
   "source": [
    "from pathlib import Path\n",
    "import pickle\n",
    "import sys\n",
    "\n",
    "import matplotlib.pyplot as plt\n",
    "import numpy as np\n",
    "import pandas as pd\n",
    "import seaborn as sns\n",
    "\n",
    "sys.path.append('../..')\n",
    "from kinsim_structure.encoding import Fingerprint"
   ]
  },
  {
   "cell_type": "markdown",
   "metadata": {},
   "source": [
    "## IO paths"
   ]
  },
  {
   "cell_type": "code",
   "execution_count": 4,
   "metadata": {},
   "outputs": [],
   "source": [
    "PATH_TO_KINSIM = Path('.') / '..' / '..'\n",
    "PATH_TO_DATA = PATH_TO_KINSIM / 'examples' / 'data'\n",
    "\n",
    "PATH_TO_RESULTS = PATH_TO_KINSIM / 'examples' / 'results' / 'fingerprints'"
   ]
  },
  {
   "cell_type": "code",
   "execution_count": 5,
   "metadata": {},
   "outputs": [],
   "source": [
    "metadata_path = PATH_TO_DATA / 'postprocessed' / 'klifs_metadata_postprocessed.csv'"
   ]
  },
  {
   "cell_type": "markdown",
   "metadata": {},
   "source": [
    "## Load metadata"
   ]
  },
  {
   "cell_type": "code",
   "execution_count": 6,
   "metadata": {},
   "outputs": [],
   "source": [
    "klifs_metadata = pd.read_csv(metadata_path, index_col=0)"
   ]
  },
  {
   "cell_type": "code",
   "execution_count": 7,
   "metadata": {},
   "outputs": [
    {
     "data": {
      "text/html": [
       "<div>\n",
       "<style scoped>\n",
       "    .dataframe tbody tr th:only-of-type {\n",
       "        vertical-align: middle;\n",
       "    }\n",
       "\n",
       "    .dataframe tbody tr th {\n",
       "        vertical-align: top;\n",
       "    }\n",
       "\n",
       "    .dataframe thead th {\n",
       "        text-align: right;\n",
       "    }\n",
       "</style>\n",
       "<table border=\"1\" class=\"dataframe\">\n",
       "  <thead>\n",
       "    <tr style=\"text-align: right;\">\n",
       "      <th></th>\n",
       "      <th>metadata_index</th>\n",
       "      <th>kinase</th>\n",
       "      <th>family</th>\n",
       "      <th>groups</th>\n",
       "      <th>pdb_id</th>\n",
       "      <th>chain</th>\n",
       "      <th>alternate_model</th>\n",
       "      <th>species</th>\n",
       "      <th>ligand_orthosteric_name</th>\n",
       "      <th>ligand_orthosteric_pdb_id</th>\n",
       "      <th>...</th>\n",
       "      <th>ac_helix</th>\n",
       "      <th>rmsd1</th>\n",
       "      <th>rmsd2</th>\n",
       "      <th>qualityscore</th>\n",
       "      <th>pocket</th>\n",
       "      <th>resolution</th>\n",
       "      <th>missing_residues</th>\n",
       "      <th>missing_atoms</th>\n",
       "      <th>full_ifp</th>\n",
       "      <th>code</th>\n",
       "    </tr>\n",
       "  </thead>\n",
       "  <tbody>\n",
       "    <tr>\n",
       "      <th>0</th>\n",
       "      <td>2886</td>\n",
       "      <td>AAK1</td>\n",
       "      <td>NAK</td>\n",
       "      <td>Other</td>\n",
       "      <td>4wsq</td>\n",
       "      <td>B</td>\n",
       "      <td>A</td>\n",
       "      <td>Human</td>\n",
       "      <td>K-252A</td>\n",
       "      <td>KSA</td>\n",
       "      <td>...</td>\n",
       "      <td>in</td>\n",
       "      <td>0.777</td>\n",
       "      <td>2.125</td>\n",
       "      <td>8.6</td>\n",
       "      <td>EVLAEGGFAIVFLCALKRMVCKREIQIMRDLSKNIVGYIDSLILMD...</td>\n",
       "      <td>1.95</td>\n",
       "      <td>0</td>\n",
       "      <td>14</td>\n",
       "      <td>0000000000000010000001000000000000000000000000...</td>\n",
       "      <td>HUMAN/AAK1/4wsq_chainB_altA</td>\n",
       "    </tr>\n",
       "    <tr>\n",
       "      <th>1</th>\n",
       "      <td>10043</td>\n",
       "      <td>AAK1</td>\n",
       "      <td>NAK</td>\n",
       "      <td>Other</td>\n",
       "      <td>5l4q</td>\n",
       "      <td>A</td>\n",
       "      <td>A</td>\n",
       "      <td>Human</td>\n",
       "      <td>~{N}-[5-(4-cyanophenyl)-1~{H}-pyrrolo[2,3-b]py...</td>\n",
       "      <td>LKB</td>\n",
       "      <td>...</td>\n",
       "      <td>in</td>\n",
       "      <td>0.780</td>\n",
       "      <td>2.137</td>\n",
       "      <td>9.7</td>\n",
       "      <td>EVLAEGGFAIVFLCALKRMVCKREIQIMRDLSKNIVGYIDSLILMD...</td>\n",
       "      <td>1.97</td>\n",
       "      <td>0</td>\n",
       "      <td>3</td>\n",
       "      <td>0000000000000010000000000000000000000000000000...</td>\n",
       "      <td>HUMAN/AAK1/5l4q_chainA_altA</td>\n",
       "    </tr>\n",
       "    <tr>\n",
       "      <th>2</th>\n",
       "      <td>7046</td>\n",
       "      <td>AAK1</td>\n",
       "      <td>NAK</td>\n",
       "      <td>Other</td>\n",
       "      <td>5te0</td>\n",
       "      <td>A</td>\n",
       "      <td>-</td>\n",
       "      <td>Human</td>\n",
       "      <td>methyl (3Z)-3-{[(4-{methyl[(4-methylpiperazin-...</td>\n",
       "      <td>XIN</td>\n",
       "      <td>...</td>\n",
       "      <td>in</td>\n",
       "      <td>0.776</td>\n",
       "      <td>2.120</td>\n",
       "      <td>8.8</td>\n",
       "      <td>EVLAEGGFAIVFLCALKRMVCKREIQIMRDLSKNIVGYIDSLILMD...</td>\n",
       "      <td>1.90</td>\n",
       "      <td>0</td>\n",
       "      <td>12</td>\n",
       "      <td>1000101000000010000001000000000000000000000000...</td>\n",
       "      <td>HUMAN/AAK1/5te0_chainA</td>\n",
       "    </tr>\n",
       "    <tr>\n",
       "      <th>3</th>\n",
       "      <td>843</td>\n",
       "      <td>ABL1</td>\n",
       "      <td>Abl</td>\n",
       "      <td>TK</td>\n",
       "      <td>2f4j</td>\n",
       "      <td>A</td>\n",
       "      <td>-</td>\n",
       "      <td>Human</td>\n",
       "      <td>CYCLOPROPANECARBOXYLIC ACID {4-[4-(4-METHYL-PI...</td>\n",
       "      <td>VX6</td>\n",
       "      <td>...</td>\n",
       "      <td>in</td>\n",
       "      <td>0.779</td>\n",
       "      <td>2.128</td>\n",
       "      <td>8.0</td>\n",
       "      <td>HKLGGGQYGEVYEVAVKTLEFLKEAAVMKEIKPNLVQLLGVYIITE...</td>\n",
       "      <td>1.91</td>\n",
       "      <td>0</td>\n",
       "      <td>0</td>\n",
       "      <td>0000000000000010000001000000000000000000000000...</td>\n",
       "      <td>HUMAN/ABL1/2f4j_chainA</td>\n",
       "    </tr>\n",
       "    <tr>\n",
       "      <th>4</th>\n",
       "      <td>815</td>\n",
       "      <td>ABL1</td>\n",
       "      <td>Abl</td>\n",
       "      <td>TK</td>\n",
       "      <td>2g1t</td>\n",
       "      <td>A</td>\n",
       "      <td>-</td>\n",
       "      <td>Human</td>\n",
       "      <td>-</td>\n",
       "      <td>-</td>\n",
       "      <td>...</td>\n",
       "      <td>out</td>\n",
       "      <td>0.825</td>\n",
       "      <td>2.154</td>\n",
       "      <td>8.0</td>\n",
       "      <td>HKLGGGQYGEVYEVAVKTLEFLKEAAVMKEIKPNLVQLLGVYIITE...</td>\n",
       "      <td>1.80</td>\n",
       "      <td>0</td>\n",
       "      <td>0</td>\n",
       "      <td>NaN</td>\n",
       "      <td>HUMAN/ABL1/2g1t_chainA</td>\n",
       "    </tr>\n",
       "  </tbody>\n",
       "</table>\n",
       "<p>5 rows × 23 columns</p>\n",
       "</div>"
      ],
      "text/plain": [
       "   metadata_index kinase family groups pdb_id chain alternate_model species  \\\n",
       "0            2886   AAK1    NAK  Other   4wsq     B               A   Human   \n",
       "1           10043   AAK1    NAK  Other   5l4q     A               A   Human   \n",
       "2            7046   AAK1    NAK  Other   5te0     A               -   Human   \n",
       "3             843   ABL1    Abl     TK   2f4j     A               -   Human   \n",
       "4             815   ABL1    Abl     TK   2g1t     A               -   Human   \n",
       "\n",
       "                             ligand_orthosteric_name  \\\n",
       "0                                             K-252A   \n",
       "1  ~{N}-[5-(4-cyanophenyl)-1~{H}-pyrrolo[2,3-b]py...   \n",
       "2  methyl (3Z)-3-{[(4-{methyl[(4-methylpiperazin-...   \n",
       "3  CYCLOPROPANECARBOXYLIC ACID {4-[4-(4-METHYL-PI...   \n",
       "4                                                  -   \n",
       "\n",
       "  ligand_orthosteric_pdb_id  ... ac_helix  rmsd1  rmsd2 qualityscore  \\\n",
       "0                       KSA  ...       in  0.777  2.125          8.6   \n",
       "1                       LKB  ...       in  0.780  2.137          9.7   \n",
       "2                       XIN  ...       in  0.776  2.120          8.8   \n",
       "3                       VX6  ...       in  0.779  2.128          8.0   \n",
       "4                         -  ...      out  0.825  2.154          8.0   \n",
       "\n",
       "                                              pocket  resolution  \\\n",
       "0  EVLAEGGFAIVFLCALKRMVCKREIQIMRDLSKNIVGYIDSLILMD...        1.95   \n",
       "1  EVLAEGGFAIVFLCALKRMVCKREIQIMRDLSKNIVGYIDSLILMD...        1.97   \n",
       "2  EVLAEGGFAIVFLCALKRMVCKREIQIMRDLSKNIVGYIDSLILMD...        1.90   \n",
       "3  HKLGGGQYGEVYEVAVKTLEFLKEAAVMKEIKPNLVQLLGVYIITE...        1.91   \n",
       "4  HKLGGGQYGEVYEVAVKTLEFLKEAAVMKEIKPNLVQLLGVYIITE...        1.80   \n",
       "\n",
       "   missing_residues missing_atoms  \\\n",
       "0                 0            14   \n",
       "1                 0             3   \n",
       "2                 0            12   \n",
       "3                 0             0   \n",
       "4                 0             0   \n",
       "\n",
       "                                            full_ifp  \\\n",
       "0  0000000000000010000001000000000000000000000000...   \n",
       "1  0000000000000010000000000000000000000000000000...   \n",
       "2  1000101000000010000001000000000000000000000000...   \n",
       "3  0000000000000010000001000000000000000000000000...   \n",
       "4                                                NaN   \n",
       "\n",
       "                          code  \n",
       "0  HUMAN/AAK1/4wsq_chainB_altA  \n",
       "1  HUMAN/AAK1/5l4q_chainA_altA  \n",
       "2       HUMAN/AAK1/5te0_chainA  \n",
       "3       HUMAN/ABL1/2f4j_chainA  \n",
       "4       HUMAN/ABL1/2g1t_chainA  \n",
       "\n",
       "[5 rows x 23 columns]"
      ]
     },
     "execution_count": 7,
     "metadata": {},
     "output_type": "execute_result"
    }
   ],
   "source": [
    "klifs_metadata.head()"
   ]
  },
  {
   "cell_type": "code",
   "execution_count": 8,
   "metadata": {
    "scrolled": true
   },
   "outputs": [
    {
     "data": {
      "text/plain": [
       "(3878, 23)"
      ]
     },
     "execution_count": 8,
     "metadata": {},
     "output_type": "execute_result"
    }
   ],
   "source": [
    "klifs_metadata.shape"
   ]
  },
  {
   "cell_type": "markdown",
   "metadata": {},
   "source": [
    "## Load fingerprints"
   ]
  },
  {
   "cell_type": "raw",
   "metadata": {},
   "source": [
    "!python ../scripts/generate_fingerprints.py"
   ]
  },
  {
   "cell_type": "code",
   "execution_count": 9,
   "metadata": {},
   "outputs": [
    {
     "name": "stdout",
     "output_type": "stream",
     "text": [
      "Number of fingerprints: 3878\n"
     ]
    }
   ],
   "source": [
    "with open(PATH_TO_RESULTS / 'fingerprints.p', 'rb') as f:\n",
    "    fingerprints = pickle.load(f)\n",
    "    \n",
    "print(f'Number of fingerprints: {len(fingerprints)}')"
   ]
  },
  {
   "cell_type": "code",
   "execution_count": 10,
   "metadata": {},
   "outputs": [
    {
     "name": "stdout",
     "output_type": "stream",
     "text": [
      "Number of empty fingerprints: 17\n"
     ]
    }
   ],
   "source": [
    "fingerprints_empty = [i for i in fingerprints if i is None]\n",
    "print(f'Number of empty fingerprints: {len(fingerprints_empty)}')"
   ]
  },
  {
   "cell_type": "markdown",
   "metadata": {},
   "source": [
    "## Get empty fingerprints"
   ]
  },
  {
   "cell_type": "code",
   "execution_count": 11,
   "metadata": {},
   "outputs": [],
   "source": [
    "fingerprints_empty_ids = [i for i, j in enumerate(fingerprints) if j is None]"
   ]
  },
  {
   "cell_type": "code",
   "execution_count": 12,
   "metadata": {},
   "outputs": [
    {
     "name": "stdout",
     "output_type": "stream",
     "text": [
      "HUMAN/ADCK3/5i35_chainA\n",
      "HUMAN/AurA/4j8m_chainA\n",
      "HUMAN/CDK2/1oir_chainA\n",
      "HUMAN/CDK2/2cjm_chainC\n",
      "HUMAN/CHK1/2ydj_chainA\n",
      "HUMAN/CHK1/4hyh_chainA_altB\n",
      "HUMAN/CHK1/4jik_chainA\n",
      "HUMAN/IRAK4/2o8y_chainB\n",
      "HUMAN/JNK3/2r9s_chainB\n",
      "HUMAN/LOK/2j7t_chainA_altA\n",
      "HUMAN/MAPKAPK2/1nxk_chainA\n",
      "HUMAN/PIM1/1yhs_chainA\n",
      "HUMAN/PIM1/1yi3_chainA\n",
      "HUMAN/PIM1/1yi4_chainA\n",
      "HUMAN/PIM1/5o12_chainA\n",
      "HUMAN/RET/5fm3_chainA\n",
      "HUMAN/SRC/1yi6_chainA\n"
     ]
    }
   ],
   "source": [
    "for i in fingerprints_empty_ids:\n",
    "    print(klifs_metadata.iloc[i].code)"
   ]
  },
  {
   "cell_type": "markdown",
   "metadata": {},
   "source": [
    "## Get fingerprint generation error"
   ]
  },
  {
   "cell_type": "code",
   "execution_count": 13,
   "metadata": {},
   "outputs": [
    {
     "name": "stdout",
     "output_type": "stream",
     "text": [
      "\n",
      "25\n",
      "HUMAN/ADCK3/5i35_chainA\n",
      "(' ', 357, ' ')\n",
      "\n",
      "186\n",
      "HUMAN/AurA/4j8m_chainA\n",
      "(' ', 247, ' ')\n",
      "\n",
      "465\n",
      "HUMAN/CDK2/1oir_chainA\n",
      "(' ', 33, ' ')\n",
      "\n",
      "529\n",
      "HUMAN/CDK2/2cjm_chainC\n",
      "(' ', 15, ' ')\n",
      "\n",
      "941\n",
      "HUMAN/CHK1/2ydj_chainA\n",
      "(' ', 57, ' ')\n",
      "\n",
      "992\n",
      "HUMAN/CHK1/4hyh_chainA_altB\n",
      "'NoneType' object has no attribute 'norm'\n",
      "\n",
      "994\n",
      "HUMAN/CHK1/4jik_chainA\n",
      "'NoneType' object has no attribute 'norm'\n",
      "\n",
      "2102\n",
      "HUMAN/IRAK4/2o8y_chainB\n",
      "(' ', 192, ' ')\n",
      "\n",
      "2373\n",
      "HUMAN/JNK3/2r9s_chainB\n",
      "(' ', 154, ' ')\n",
      "\n",
      "2457\n",
      "HUMAN/LOK/2j7t_chainA_altA\n",
      "'NoneType' object has no attribute 'norm'\n",
      "\n",
      "2536\n",
      "HUMAN/MAPKAPK2/1nxk_chainA\n",
      "(' ', 94, ' ')\n",
      "\n",
      "2911\n",
      "HUMAN/PIM1/1yhs_chainA\n",
      "(' ', 161, ' ')\n",
      "\n",
      "2912\n",
      "HUMAN/PIM1/1yi3_chainA\n",
      "(' ', 161, ' ')\n",
      "\n",
      "2913\n",
      "HUMAN/PIM1/1yi4_chainA\n",
      "(' ', 161, ' ')\n",
      "\n",
      "3042\n",
      "HUMAN/PIM1/5o12_chainA\n",
      "(' ', 161, ' ')\n",
      "\n",
      "3173\n",
      "HUMAN/RET/5fm3_chainA\n",
      "(' ', 809, ' ')\n",
      "\n",
      "3254\n",
      "HUMAN/SRC/1yi6_chainA\n",
      "(' ', 335, ' ')\n"
     ]
    }
   ],
   "source": [
    "for i in fingerprints_empty_ids:\n",
    "    \n",
    "    try:\n",
    "    \n",
    "        fingerprint = Fingerprint()\n",
    "        \n",
    "        print()\n",
    "        print(i)\n",
    "        print(klifs_metadata.iloc[i].code)\n",
    "        \n",
    "        fingerprint.from_metadata_entry(klifs_metadata.iloc[i])\n",
    "        \n",
    "    except Exception as e:\n",
    "        \n",
    "        print(e)"
   ]
  },
  {
   "cell_type": "code",
   "execution_count": null,
   "metadata": {},
   "outputs": [],
   "source": []
  }
 ],
 "metadata": {
  "kernelspec": {
   "display_name": "kinsim",
   "language": "python",
   "name": "kinsim"
  },
  "language_info": {
   "codemirror_mode": {
    "name": "ipython",
    "version": 3
   },
   "file_extension": ".py",
   "mimetype": "text/x-python",
   "name": "python",
   "nbconvert_exporter": "python",
   "pygments_lexer": "ipython3",
   "version": "3.6.7"
  }
 },
 "nbformat": 4,
 "nbformat_minor": 4
}
