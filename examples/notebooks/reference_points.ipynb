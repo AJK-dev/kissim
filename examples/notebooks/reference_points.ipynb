{
 "cells": [
  {
   "cell_type": "markdown",
   "metadata": {},
   "source": [
    "# Reference points\n",
    "\n",
    "\n",
    "## Question\n",
    "\n",
    "Do reference points have comparable positions among all structures?\n",
    "\n",
    "## Experiment\n",
    "\n",
    "* Centroid: Distances of centroids with respect to reference centroid\n",
    "* Hinge/DFG region: Distances of reference points to the 3 residues of hinge/DFG region\n",
    "* Front region: Distances of front region reference points to reference front pocket reference point"
   ]
  },
  {
   "cell_type": "markdown",
   "metadata": {},
   "source": [
    "## Imports"
   ]
  },
  {
   "cell_type": "code",
   "execution_count": 1,
   "metadata": {},
   "outputs": [],
   "source": [
    "%load_ext autoreload"
   ]
  },
  {
   "cell_type": "code",
   "execution_count": 2,
   "metadata": {},
   "outputs": [],
   "source": [
    "%autoreload 2"
   ]
  },
  {
   "cell_type": "code",
   "execution_count": 3,
   "metadata": {},
   "outputs": [],
   "source": [
    "from itertools import combinations\n",
    "from pathlib import Path\n",
    "import random\n",
    "import sys\n",
    "\n",
    "import matplotlib.pyplot as plt\n",
    "import pandas as pd\n",
    "import scipy\n",
    "\n",
    "sys.path.append('../..')\n",
    "from kinsim_structure.auxiliary import KlifsMoleculeLoader\n",
    "from kinsim_structure.encoding import SpatialFeatures"
   ]
  },
  {
   "cell_type": "code",
   "execution_count": 4,
   "metadata": {},
   "outputs": [],
   "source": [
    "pd.set_option('display.max_rows', 100)"
   ]
  },
  {
   "cell_type": "markdown",
   "metadata": {},
   "source": [
    "## IO paths"
   ]
  },
  {
   "cell_type": "code",
   "execution_count": 5,
   "metadata": {},
   "outputs": [],
   "source": [
    "path_to_kinsim = Path('/') / 'home' / 'dominique' / 'Documents' / 'Projects' / 'kinsim_structure'\n",
    "path_to_data = Path('/') / 'home' / 'dominique' / 'Documents' / 'data' / 'kinsim' / '20190724_full'\n",
    "\n",
    "path_to_results = path_to_kinsim / 'examples'/ 'results'\n",
    "\n",
    "metadata_path = path_to_data / 'postprocessed' / 'klifs_metadata_postprocessed.csv'"
   ]
  },
  {
   "cell_type": "markdown",
   "metadata": {},
   "source": [
    "## Load metadata"
   ]
  },
  {
   "cell_type": "code",
   "execution_count": 6,
   "metadata": {},
   "outputs": [
    {
     "data": {
      "text/html": [
       "<div>\n",
       "<style scoped>\n",
       "    .dataframe tbody tr th:only-of-type {\n",
       "        vertical-align: middle;\n",
       "    }\n",
       "\n",
       "    .dataframe tbody tr th {\n",
       "        vertical-align: top;\n",
       "    }\n",
       "\n",
       "    .dataframe thead th {\n",
       "        text-align: right;\n",
       "    }\n",
       "</style>\n",
       "<table border=\"1\" class=\"dataframe\">\n",
       "  <thead>\n",
       "    <tr style=\"text-align: right;\">\n",
       "      <th></th>\n",
       "      <th>kinase</th>\n",
       "      <th>family</th>\n",
       "      <th>groups</th>\n",
       "      <th>pdb_id</th>\n",
       "      <th>chain</th>\n",
       "      <th>alternate_model</th>\n",
       "      <th>species</th>\n",
       "      <th>ligand_orthosteric_name</th>\n",
       "      <th>ligand_orthosteric_pdb_id</th>\n",
       "      <th>ligand_allosteric_name</th>\n",
       "      <th>...</th>\n",
       "      <th>ac_helix</th>\n",
       "      <th>rmsd1</th>\n",
       "      <th>rmsd2</th>\n",
       "      <th>qualityscore</th>\n",
       "      <th>pocket</th>\n",
       "      <th>resolution</th>\n",
       "      <th>missing_residues</th>\n",
       "      <th>missing_atoms</th>\n",
       "      <th>full_ifp</th>\n",
       "      <th>code</th>\n",
       "    </tr>\n",
       "    <tr>\n",
       "      <th>metadata_index</th>\n",
       "      <th></th>\n",
       "      <th></th>\n",
       "      <th></th>\n",
       "      <th></th>\n",
       "      <th></th>\n",
       "      <th></th>\n",
       "      <th></th>\n",
       "      <th></th>\n",
       "      <th></th>\n",
       "      <th></th>\n",
       "      <th></th>\n",
       "      <th></th>\n",
       "      <th></th>\n",
       "      <th></th>\n",
       "      <th></th>\n",
       "      <th></th>\n",
       "      <th></th>\n",
       "      <th></th>\n",
       "      <th></th>\n",
       "      <th></th>\n",
       "      <th></th>\n",
       "    </tr>\n",
       "  </thead>\n",
       "  <tbody>\n",
       "    <tr>\n",
       "      <th>2886</th>\n",
       "      <td>AAK1</td>\n",
       "      <td>NAK</td>\n",
       "      <td>Other</td>\n",
       "      <td>4wsq</td>\n",
       "      <td>B</td>\n",
       "      <td>A</td>\n",
       "      <td>Human</td>\n",
       "      <td>K-252A</td>\n",
       "      <td>KSA</td>\n",
       "      <td>-</td>\n",
       "      <td>...</td>\n",
       "      <td>in</td>\n",
       "      <td>0.777</td>\n",
       "      <td>2.125</td>\n",
       "      <td>8.6</td>\n",
       "      <td>EVLAEGGFAIVFLCALKRMVCKREIQIMRDLSKNIVGYIDSLILMD...</td>\n",
       "      <td>1.95</td>\n",
       "      <td>0</td>\n",
       "      <td>14</td>\n",
       "      <td>0000000000000010000001000000000000000000000000...</td>\n",
       "      <td>HUMAN/AAK1/4wsq_chainB_altA</td>\n",
       "    </tr>\n",
       "    <tr>\n",
       "      <th>10043</th>\n",
       "      <td>AAK1</td>\n",
       "      <td>NAK</td>\n",
       "      <td>Other</td>\n",
       "      <td>5l4q</td>\n",
       "      <td>A</td>\n",
       "      <td>A</td>\n",
       "      <td>Human</td>\n",
       "      <td>~{N}-[5-(4-cyanophenyl)-1~{H}-pyrrolo[2,3-b]py...</td>\n",
       "      <td>LKB</td>\n",
       "      <td>-</td>\n",
       "      <td>...</td>\n",
       "      <td>in</td>\n",
       "      <td>0.780</td>\n",
       "      <td>2.137</td>\n",
       "      <td>9.7</td>\n",
       "      <td>EVLAEGGFAIVFLCALKRMVCKREIQIMRDLSKNIVGYIDSLILMD...</td>\n",
       "      <td>1.97</td>\n",
       "      <td>0</td>\n",
       "      <td>3</td>\n",
       "      <td>0000000000000010000000000000000000000000000000...</td>\n",
       "      <td>HUMAN/AAK1/5l4q_chainA_altA</td>\n",
       "    </tr>\n",
       "    <tr>\n",
       "      <th>7046</th>\n",
       "      <td>AAK1</td>\n",
       "      <td>NAK</td>\n",
       "      <td>Other</td>\n",
       "      <td>5te0</td>\n",
       "      <td>A</td>\n",
       "      <td>-</td>\n",
       "      <td>Human</td>\n",
       "      <td>methyl (3Z)-3-{[(4-{methyl[(4-methylpiperazin-...</td>\n",
       "      <td>XIN</td>\n",
       "      <td>-</td>\n",
       "      <td>...</td>\n",
       "      <td>in</td>\n",
       "      <td>0.776</td>\n",
       "      <td>2.120</td>\n",
       "      <td>8.8</td>\n",
       "      <td>EVLAEGGFAIVFLCALKRMVCKREIQIMRDLSKNIVGYIDSLILMD...</td>\n",
       "      <td>1.90</td>\n",
       "      <td>0</td>\n",
       "      <td>12</td>\n",
       "      <td>1000101000000010000001000000000000000000000000...</td>\n",
       "      <td>HUMAN/AAK1/5te0_chainA</td>\n",
       "    </tr>\n",
       "    <tr>\n",
       "      <th>843</th>\n",
       "      <td>ABL1</td>\n",
       "      <td>Abl</td>\n",
       "      <td>TK</td>\n",
       "      <td>2f4j</td>\n",
       "      <td>A</td>\n",
       "      <td>-</td>\n",
       "      <td>Human</td>\n",
       "      <td>CYCLOPROPANECARBOXYLIC ACID {4-[4-(4-METHYL-PI...</td>\n",
       "      <td>VX6</td>\n",
       "      <td>-</td>\n",
       "      <td>...</td>\n",
       "      <td>in</td>\n",
       "      <td>0.779</td>\n",
       "      <td>2.128</td>\n",
       "      <td>8.0</td>\n",
       "      <td>HKLGGGQYGEVYEVAVKTLEFLKEAAVMKEIKPNLVQLLGVYIITE...</td>\n",
       "      <td>1.91</td>\n",
       "      <td>0</td>\n",
       "      <td>0</td>\n",
       "      <td>0000000000000010000001000000000000000000000000...</td>\n",
       "      <td>HUMAN/ABL1/2f4j_chainA</td>\n",
       "    </tr>\n",
       "    <tr>\n",
       "      <th>815</th>\n",
       "      <td>ABL1</td>\n",
       "      <td>Abl</td>\n",
       "      <td>TK</td>\n",
       "      <td>2g1t</td>\n",
       "      <td>A</td>\n",
       "      <td>-</td>\n",
       "      <td>Human</td>\n",
       "      <td>-</td>\n",
       "      <td>-</td>\n",
       "      <td>-</td>\n",
       "      <td>...</td>\n",
       "      <td>out</td>\n",
       "      <td>0.825</td>\n",
       "      <td>2.154</td>\n",
       "      <td>8.0</td>\n",
       "      <td>HKLGGGQYGEVYEVAVKTLEFLKEAAVMKEIKPNLVQLLGVYIITE...</td>\n",
       "      <td>1.80</td>\n",
       "      <td>0</td>\n",
       "      <td>0</td>\n",
       "      <td>NaN</td>\n",
       "      <td>HUMAN/ABL1/2g1t_chainA</td>\n",
       "    </tr>\n",
       "  </tbody>\n",
       "</table>\n",
       "<p>5 rows × 22 columns</p>\n",
       "</div>"
      ],
      "text/plain": [
       "               kinase family groups pdb_id chain alternate_model species  \\\n",
       "metadata_index                                                             \n",
       "2886             AAK1    NAK  Other   4wsq     B               A   Human   \n",
       "10043            AAK1    NAK  Other   5l4q     A               A   Human   \n",
       "7046             AAK1    NAK  Other   5te0     A               -   Human   \n",
       "843              ABL1    Abl     TK   2f4j     A               -   Human   \n",
       "815              ABL1    Abl     TK   2g1t     A               -   Human   \n",
       "\n",
       "                                          ligand_orthosteric_name  \\\n",
       "metadata_index                                                      \n",
       "2886                                                       K-252A   \n",
       "10043           ~{N}-[5-(4-cyanophenyl)-1~{H}-pyrrolo[2,3-b]py...   \n",
       "7046            methyl (3Z)-3-{[(4-{methyl[(4-methylpiperazin-...   \n",
       "843             CYCLOPROPANECARBOXYLIC ACID {4-[4-(4-METHYL-PI...   \n",
       "815                                                             -   \n",
       "\n",
       "               ligand_orthosteric_pdb_id ligand_allosteric_name  ... ac_helix  \\\n",
       "metadata_index                                                   ...            \n",
       "2886                                 KSA                      -  ...       in   \n",
       "10043                                LKB                      -  ...       in   \n",
       "7046                                 XIN                      -  ...       in   \n",
       "843                                  VX6                      -  ...       in   \n",
       "815                                    -                      -  ...      out   \n",
       "\n",
       "                rmsd1  rmsd2  qualityscore  \\\n",
       "metadata_index                               \n",
       "2886            0.777  2.125           8.6   \n",
       "10043           0.780  2.137           9.7   \n",
       "7046            0.776  2.120           8.8   \n",
       "843             0.779  2.128           8.0   \n",
       "815             0.825  2.154           8.0   \n",
       "\n",
       "                                                           pocket  resolution  \\\n",
       "metadata_index                                                                  \n",
       "2886            EVLAEGGFAIVFLCALKRMVCKREIQIMRDLSKNIVGYIDSLILMD...        1.95   \n",
       "10043           EVLAEGGFAIVFLCALKRMVCKREIQIMRDLSKNIVGYIDSLILMD...        1.97   \n",
       "7046            EVLAEGGFAIVFLCALKRMVCKREIQIMRDLSKNIVGYIDSLILMD...        1.90   \n",
       "843             HKLGGGQYGEVYEVAVKTLEFLKEAAVMKEIKPNLVQLLGVYIITE...        1.91   \n",
       "815             HKLGGGQYGEVYEVAVKTLEFLKEAAVMKEIKPNLVQLLGVYIITE...        1.80   \n",
       "\n",
       "               missing_residues  missing_atoms  \\\n",
       "metadata_index                                   \n",
       "2886                          0             14   \n",
       "10043                         0              3   \n",
       "7046                          0             12   \n",
       "843                           0              0   \n",
       "815                           0              0   \n",
       "\n",
       "                                                         full_ifp  \\\n",
       "metadata_index                                                      \n",
       "2886            0000000000000010000001000000000000000000000000...   \n",
       "10043           0000000000000010000000000000000000000000000000...   \n",
       "7046            1000101000000010000001000000000000000000000000...   \n",
       "843             0000000000000010000001000000000000000000000000...   \n",
       "815                                                           NaN   \n",
       "\n",
       "                                       code  \n",
       "metadata_index                               \n",
       "2886            HUMAN/AAK1/4wsq_chainB_altA  \n",
       "10043           HUMAN/AAK1/5l4q_chainA_altA  \n",
       "7046                 HUMAN/AAK1/5te0_chainA  \n",
       "843                  HUMAN/ABL1/2f4j_chainA  \n",
       "815                  HUMAN/ABL1/2g1t_chainA  \n",
       "\n",
       "[5 rows x 22 columns]"
      ]
     },
     "execution_count": 6,
     "metadata": {},
     "output_type": "execute_result"
    }
   ],
   "source": [
    "klifs_metadata = pd.read_csv(metadata_path, index_col=0)\n",
    "klifs_metadata.set_index('metadata_index', drop=True, inplace=True)\n",
    "klifs_metadata.head()"
   ]
  },
  {
   "cell_type": "markdown",
   "metadata": {},
   "source": [
    "## Reference structure `2wo6_A`"
   ]
  },
  {
   "cell_type": "code",
   "execution_count": 7,
   "metadata": {},
   "outputs": [
    {
     "data": {
      "text/html": [
       "<div>\n",
       "<style scoped>\n",
       "    .dataframe tbody tr th:only-of-type {\n",
       "        vertical-align: middle;\n",
       "    }\n",
       "\n",
       "    .dataframe tbody tr th {\n",
       "        vertical-align: top;\n",
       "    }\n",
       "\n",
       "    .dataframe thead th {\n",
       "        text-align: right;\n",
       "    }\n",
       "</style>\n",
       "<table border=\"1\" class=\"dataframe\">\n",
       "  <thead>\n",
       "    <tr style=\"text-align: right;\">\n",
       "      <th></th>\n",
       "      <th>kinase</th>\n",
       "      <th>family</th>\n",
       "      <th>groups</th>\n",
       "      <th>pdb_id</th>\n",
       "      <th>chain</th>\n",
       "      <th>alternate_model</th>\n",
       "      <th>species</th>\n",
       "      <th>ligand_orthosteric_name</th>\n",
       "      <th>ligand_orthosteric_pdb_id</th>\n",
       "      <th>ligand_allosteric_name</th>\n",
       "      <th>...</th>\n",
       "      <th>ac_helix</th>\n",
       "      <th>rmsd1</th>\n",
       "      <th>rmsd2</th>\n",
       "      <th>qualityscore</th>\n",
       "      <th>pocket</th>\n",
       "      <th>resolution</th>\n",
       "      <th>missing_residues</th>\n",
       "      <th>missing_atoms</th>\n",
       "      <th>full_ifp</th>\n",
       "      <th>code</th>\n",
       "    </tr>\n",
       "    <tr>\n",
       "      <th>metadata_index</th>\n",
       "      <th></th>\n",
       "      <th></th>\n",
       "      <th></th>\n",
       "      <th></th>\n",
       "      <th></th>\n",
       "      <th></th>\n",
       "      <th></th>\n",
       "      <th></th>\n",
       "      <th></th>\n",
       "      <th></th>\n",
       "      <th></th>\n",
       "      <th></th>\n",
       "      <th></th>\n",
       "      <th></th>\n",
       "      <th></th>\n",
       "      <th></th>\n",
       "      <th></th>\n",
       "      <th></th>\n",
       "      <th></th>\n",
       "      <th></th>\n",
       "      <th></th>\n",
       "    </tr>\n",
       "  </thead>\n",
       "  <tbody>\n",
       "    <tr>\n",
       "      <th>2818</th>\n",
       "      <td>DYRK1A</td>\n",
       "      <td>DYRK</td>\n",
       "      <td>CMGC</td>\n",
       "      <td>2wo6</td>\n",
       "      <td>B</td>\n",
       "      <td>B</td>\n",
       "      <td>Human</td>\n",
       "      <td>N-(5-{[(2S)-4-amino-2-(3-chlorophenyl)butanoyl...</td>\n",
       "      <td>D15</td>\n",
       "      <td>-</td>\n",
       "      <td>...</td>\n",
       "      <td>in</td>\n",
       "      <td>0.775</td>\n",
       "      <td>2.11</td>\n",
       "      <td>8.0</td>\n",
       "      <td>SLIGKGSFGQVVKVAIKIIQAQIEVRLLELMNYYIVHLKRHCLVFE...</td>\n",
       "      <td>2.5</td>\n",
       "      <td>0</td>\n",
       "      <td>0</td>\n",
       "      <td>0000000000000010000001000000100000010000000000...</td>\n",
       "      <td>HUMAN/DYRK1A/2wo6_chainB_altB</td>\n",
       "    </tr>\n",
       "  </tbody>\n",
       "</table>\n",
       "<p>1 rows × 22 columns</p>\n",
       "</div>"
      ],
      "text/plain": [
       "                kinase family groups pdb_id chain alternate_model species  \\\n",
       "metadata_index                                                              \n",
       "2818            DYRK1A   DYRK   CMGC   2wo6     B               B   Human   \n",
       "\n",
       "                                          ligand_orthosteric_name  \\\n",
       "metadata_index                                                      \n",
       "2818            N-(5-{[(2S)-4-amino-2-(3-chlorophenyl)butanoyl...   \n",
       "\n",
       "               ligand_orthosteric_pdb_id ligand_allosteric_name  ... ac_helix  \\\n",
       "metadata_index                                                   ...            \n",
       "2818                                 D15                      -  ...       in   \n",
       "\n",
       "                rmsd1 rmsd2  qualityscore  \\\n",
       "metadata_index                              \n",
       "2818            0.775  2.11           8.0   \n",
       "\n",
       "                                                           pocket  resolution  \\\n",
       "metadata_index                                                                  \n",
       "2818            SLIGKGSFGQVVKVAIKIIQAQIEVRLLELMNYYIVHLKRHCLVFE...         2.5   \n",
       "\n",
       "               missing_residues  missing_atoms  \\\n",
       "metadata_index                                   \n",
       "2818                          0              0   \n",
       "\n",
       "                                                         full_ifp  \\\n",
       "metadata_index                                                      \n",
       "2818            0000000000000010000001000000100000010000000000...   \n",
       "\n",
       "                                         code  \n",
       "metadata_index                                 \n",
       "2818            HUMAN/DYRK1A/2wo6_chainB_altB  \n",
       "\n",
       "[1 rows x 22 columns]"
      ]
     },
     "execution_count": 7,
     "metadata": {},
     "output_type": "execute_result"
    }
   ],
   "source": [
    "# Technically reference structure is 2wo6, chain A, alternate model A but only B/B is in dataset\n",
    "klifs_metadata_reference = klifs_metadata[klifs_metadata.pdb_id == '2wo6']\n",
    "klifs_metadata_reference"
   ]
  },
  {
   "cell_type": "code",
   "execution_count": 8,
   "metadata": {},
   "outputs": [
    {
     "data": {
      "text/plain": [
       "2818"
      ]
     },
     "execution_count": 8,
     "metadata": {},
     "output_type": "execute_result"
    }
   ],
   "source": [
    "klifs_metadata_reference.index[0]"
   ]
  },
  {
   "cell_type": "code",
   "execution_count": 9,
   "metadata": {},
   "outputs": [],
   "source": [
    "def get_cgo_filename_from_metadata_index(metadata_index):\n",
    "    \"\"\"\n",
    "    Get the cgo filename based on the metadata index.\n",
    "    \n",
    "    Parameters\n",
    "    ----------\n",
    "    metadata_index : int\n",
    "        Metadata index.\n",
    "        \n",
    "    Returns\n",
    "    -------\n",
    "    str\n",
    "        Cgo filename.\n",
    "    \"\"\"\n",
    "    \n",
    "    klifs_metadata_entry=klifs_metadata.loc[metadata_index]\n",
    "    ml = KlifsMoleculeLoader(klifs_metadata_entry=klifs_metadata_entry)\n",
    "    \n",
    "    filename = ml.file_from_metadata_entry(klifs_metadata_entry=klifs_metadata_entry)\n",
    "    \n",
    "    return f'refpoints_{filename.parent.parent.stem}_{filename.parent.stem}.py'"
   ]
  },
  {
   "cell_type": "code",
   "execution_count": 10,
   "metadata": {},
   "outputs": [
    {
     "data": {
      "text/plain": [
       "'refpoints_DYRK1A_2wo6_altB_chainB.py'"
      ]
     },
     "execution_count": 10,
     "metadata": {},
     "output_type": "execute_result"
    }
   ],
   "source": [
    "get_cgo_filename_from_metadata_index(klifs_metadata_reference.index[0])"
   ]
  },
  {
   "cell_type": "markdown",
   "metadata": {},
   "source": [
    "## Reference points\n",
    "\n",
    "Get the coordinates for 4 reference points per structure."
   ]
  },
  {
   "cell_type": "code",
   "execution_count": 11,
   "metadata": {},
   "outputs": [],
   "source": [
    "def get_reference_points(klifs_metadata):\n",
    "    \"\"\"\n",
    "    Get reference point from KLIFS metadata.\n",
    "    \n",
    "    Parameters\n",
    "    ----------\n",
    "    klifs_metadata : pandas.DataFrame\n",
    "        Metadata KLIFS table.\n",
    "    \n",
    "    Returns\n",
    "    -------\n",
    "    pandas.DataFrame\n",
    "        Reference point table, containing columns = reference points, index = (metadata index, coordinates).\n",
    "    \"\"\"\n",
    "    \n",
    "    reference_points = {}\n",
    "\n",
    "    for index, row in klifs_metadata.iterrows():\n",
    "\n",
    "        # Load structural data\n",
    "        ml = KlifsMoleculeLoader(klifs_metadata_entry=row)\n",
    "        \n",
    "        # Calculate spatial features\n",
    "        spatial = SpatialFeatures()\n",
    "        spatial.from_molecule(ml.molecule)\n",
    "\n",
    "        # Get reference points and save to dict with metadata index as key\n",
    "        reference_points[row.name] = spatial.reference_points\n",
    "        \n",
    "    # Concatenate data from all structures\n",
    "    reference_points = pd.concat(reference_points, axis=0)\n",
    "    reference_points.index.set_names(['id', 'coordinate'], inplace=True)\n",
    "    \n",
    "    return reference_points"
   ]
  },
  {
   "cell_type": "raw",
   "metadata": {},
   "source": [
    "reference_points = get_reference_points(klifs_metadata)"
   ]
  },
  {
   "cell_type": "raw",
   "metadata": {},
   "source": [
    "reference_points.to_csv(path_to_results / 'reference_points' / 'coordinates_reference_points.csv')"
   ]
  },
  {
   "cell_type": "code",
   "execution_count": 12,
   "metadata": {},
   "outputs": [
    {
     "name": "stdout",
     "output_type": "stream",
     "text": [
      "(11634, 4)\n"
     ]
    },
    {
     "data": {
      "text/html": [
       "<div>\n",
       "<style scoped>\n",
       "    .dataframe tbody tr th:only-of-type {\n",
       "        vertical-align: middle;\n",
       "    }\n",
       "\n",
       "    .dataframe tbody tr th {\n",
       "        vertical-align: top;\n",
       "    }\n",
       "\n",
       "    .dataframe thead th {\n",
       "        text-align: right;\n",
       "    }\n",
       "</style>\n",
       "<table border=\"1\" class=\"dataframe\">\n",
       "  <thead>\n",
       "    <tr style=\"text-align: right;\">\n",
       "      <th></th>\n",
       "      <th></th>\n",
       "      <th>centroid</th>\n",
       "      <th>hinge_region</th>\n",
       "      <th>dfg_region</th>\n",
       "      <th>front_pocket</th>\n",
       "    </tr>\n",
       "    <tr>\n",
       "      <th>id</th>\n",
       "      <th>coordinate</th>\n",
       "      <th></th>\n",
       "      <th></th>\n",
       "      <th></th>\n",
       "      <th></th>\n",
       "    </tr>\n",
       "  </thead>\n",
       "  <tbody>\n",
       "    <tr>\n",
       "      <th rowspan=\"3\" valign=\"top\">2886</th>\n",
       "      <th>x</th>\n",
       "      <td>1.026635</td>\n",
       "      <td>1.976200</td>\n",
       "      <td>7.410200</td>\n",
       "      <td>-0.735833</td>\n",
       "    </tr>\n",
       "    <tr>\n",
       "      <th>y</th>\n",
       "      <td>20.789879</td>\n",
       "      <td>21.758433</td>\n",
       "      <td>20.057467</td>\n",
       "      <td>15.892600</td>\n",
       "    </tr>\n",
       "    <tr>\n",
       "      <th>z</th>\n",
       "      <td>36.404018</td>\n",
       "      <td>41.804733</td>\n",
       "      <td>33.520733</td>\n",
       "      <td>39.503467</td>\n",
       "    </tr>\n",
       "    <tr>\n",
       "      <th rowspan=\"2\" valign=\"top\">10043</th>\n",
       "      <th>x</th>\n",
       "      <td>1.047804</td>\n",
       "      <td>2.009300</td>\n",
       "      <td>7.346733</td>\n",
       "      <td>0.313867</td>\n",
       "    </tr>\n",
       "    <tr>\n",
       "      <th>y</th>\n",
       "      <td>21.004120</td>\n",
       "      <td>21.944700</td>\n",
       "      <td>20.813700</td>\n",
       "      <td>16.005333</td>\n",
       "    </tr>\n",
       "  </tbody>\n",
       "</table>\n",
       "</div>"
      ],
      "text/plain": [
       "                   centroid  hinge_region  dfg_region  front_pocket\n",
       "id    coordinate                                                   \n",
       "2886  x            1.026635      1.976200    7.410200     -0.735833\n",
       "      y           20.789879     21.758433   20.057467     15.892600\n",
       "      z           36.404018     41.804733   33.520733     39.503467\n",
       "10043 x            1.047804      2.009300    7.346733      0.313867\n",
       "      y           21.004120     21.944700   20.813700     16.005333"
      ]
     },
     "execution_count": 12,
     "metadata": {},
     "output_type": "execute_result"
    }
   ],
   "source": [
    "reference_points = pd.read_csv(\n",
    "    path_to_results / 'reference_points' / 'coordinates_reference_points.csv',\n",
    "    index_col=['id', 'coordinate']\n",
    ")\n",
    "print(reference_points.shape)\n",
    "reference_points.head()"
   ]
  },
  {
   "cell_type": "markdown",
   "metadata": {},
   "source": [
    "## Hinge and DFG residues\n",
    "\n",
    "Get coordinates for the 3 residues of the hinge and DFG region"
   ]
  },
  {
   "cell_type": "code",
   "execution_count": 13,
   "metadata": {},
   "outputs": [],
   "source": [
    "def get_hinge_dfg_ca(klifs_metadata):\n",
    "    \"\"\"\n",
    "    Get CA atoms of hinge and DFG region.\n",
    "    \n",
    "    Parameters\n",
    "    ----------\n",
    "    klifs_metadata : pandas.DataFrame\n",
    "        Metadata KLIFS table.\n",
    "    \n",
    "    Returns\n",
    "    -------\n",
    "    pandas.DataFrame\n",
    "        CA atoms of hinge and DFG region, containing columns = (region, residue ID), \n",
    "        index = (metadata index, coordinates).\n",
    "    \"\"\"\n",
    "    \n",
    "    # KLIFS residue IDs for hinge and DFG region\n",
    "    hinge_residues = [46, 47, 48]\n",
    "    dfg_residues = [81, 82, 83]\n",
    "    \n",
    "    hinge_dfg_ca = {}\n",
    "\n",
    "    for index, row in klifs_metadata.iterrows():\n",
    "\n",
    "        # Load structural data\n",
    "        ml = KlifsMoleculeLoader(klifs_metadata_entry=row)\n",
    "        molecule = ml.molecule\n",
    "        \n",
    "        # Define which atoms to select (CA atoms for hinge/DFG region)\n",
    "        condition = (molecule.df.atom_name == 'CA') & (molecule.df.klifs_id.isin(hinge_residues+dfg_residues))\n",
    "\n",
    "        # Get coordinates and format DataFrame: rows = coordinates and columns = residue IDs\n",
    "        coordinates = molecule.df[condition]['x y z klifs_id'.split()]\n",
    "        coordinates.set_index('klifs_id', drop=True, inplace=True)\n",
    "        coordinates = coordinates.transpose()\n",
    "        coordinates.columns.set_names(['residues'], inplace=True)\n",
    "        \n",
    "        hinge_dfg_ca[row.name] = coordinates\n",
    "        \n",
    "    # Concatenate data from all structures\n",
    "    hinge_dfg_ca = pd.concat(hinge_dfg_ca, axis=0)\n",
    "    hinge_dfg_ca.index.set_names(['id', 'coordinate'], inplace=True)\n",
    "    \n",
    "    # Split DataFrame by region\n",
    "    hinge_dfg_ca = {\n",
    "     'hinge_region': hinge_dfg_ca.loc[:, hinge_residues],\n",
    "     'dfg_region':  hinge_dfg_ca.loc[:, dfg_residues]\n",
    "    }\n",
    "    \n",
    "    # Concatenate again with multi-index column (region, residues)\n",
    "    hinge_dfg_ca = pd.concat(hinge_dfg_ca.values(), axis=1, keys=hinge_dfg_ca.keys())\n",
    "    \n",
    "    return hinge_dfg_ca"
   ]
  },
  {
   "cell_type": "raw",
   "metadata": {},
   "source": [
    "hinge_dfg_ca = get_hinge_dfg_ca(klifs_metadata)"
   ]
  },
  {
   "cell_type": "raw",
   "metadata": {},
   "source": [
    "hinge_dfg_ca.to_csv(path_to_results / 'reference_points' / 'coordinates_hinge_dfg_ca.csv')"
   ]
  },
  {
   "cell_type": "code",
   "execution_count": 14,
   "metadata": {},
   "outputs": [
    {
     "data": {
      "text/html": [
       "<div>\n",
       "<style scoped>\n",
       "    .dataframe tbody tr th:only-of-type {\n",
       "        vertical-align: middle;\n",
       "    }\n",
       "\n",
       "    .dataframe tbody tr th {\n",
       "        vertical-align: top;\n",
       "    }\n",
       "\n",
       "    .dataframe thead tr th {\n",
       "        text-align: left;\n",
       "    }\n",
       "\n",
       "    .dataframe thead tr:last-of-type th {\n",
       "        text-align: right;\n",
       "    }\n",
       "</style>\n",
       "<table border=\"1\" class=\"dataframe\">\n",
       "  <thead>\n",
       "    <tr>\n",
       "      <th></th>\n",
       "      <th>region</th>\n",
       "      <th colspan=\"3\" halign=\"left\">hinge_region</th>\n",
       "      <th colspan=\"3\" halign=\"left\">dfg_region</th>\n",
       "    </tr>\n",
       "    <tr>\n",
       "      <th></th>\n",
       "      <th>residues</th>\n",
       "      <th>46</th>\n",
       "      <th>47</th>\n",
       "      <th>48</th>\n",
       "      <th>81</th>\n",
       "      <th>82</th>\n",
       "      <th>83</th>\n",
       "    </tr>\n",
       "    <tr>\n",
       "      <th>id</th>\n",
       "      <th>coordinate</th>\n",
       "      <th></th>\n",
       "      <th></th>\n",
       "      <th></th>\n",
       "      <th></th>\n",
       "      <th></th>\n",
       "      <th></th>\n",
       "    </tr>\n",
       "  </thead>\n",
       "  <tbody>\n",
       "    <tr>\n",
       "      <th rowspan=\"3\" valign=\"top\">2886</th>\n",
       "      <th>x</th>\n",
       "      <td>0.4799</td>\n",
       "      <td>-0.3060</td>\n",
       "      <td>-3.7619</td>\n",
       "      <td>1.5806</td>\n",
       "      <td>2.8018</td>\n",
       "      <td>5.7823</td>\n",
       "    </tr>\n",
       "    <tr>\n",
       "      <th>y</th>\n",
       "      <td>26.3014</td>\n",
       "      <td>23.3326</td>\n",
       "      <td>21.9317</td>\n",
       "      <td>19.3573</td>\n",
       "      <td>21.5128</td>\n",
       "      <td>19.2963</td>\n",
       "    </tr>\n",
       "    <tr>\n",
       "      <th>z</th>\n",
       "      <td>43.8558</td>\n",
       "      <td>46.1435</td>\n",
       "      <td>45.3376</td>\n",
       "      <td>33.5495</td>\n",
       "      <td>30.6353</td>\n",
       "      <td>30.0596</td>\n",
       "    </tr>\n",
       "    <tr>\n",
       "      <th rowspan=\"2\" valign=\"top\">10043</th>\n",
       "      <th>x</th>\n",
       "      <td>0.2635</td>\n",
       "      <td>-0.1987</td>\n",
       "      <td>-3.5961</td>\n",
       "      <td>1.5488</td>\n",
       "      <td>2.5897</td>\n",
       "      <td>5.8670</td>\n",
       "    </tr>\n",
       "    <tr>\n",
       "      <th>y</th>\n",
       "      <td>25.9876</td>\n",
       "      <td>22.9660</td>\n",
       "      <td>21.3855</td>\n",
       "      <td>19.5079</td>\n",
       "      <td>21.6241</td>\n",
       "      <td>19.7742</td>\n",
       "    </tr>\n",
       "  </tbody>\n",
       "</table>\n",
       "</div>"
      ],
      "text/plain": [
       "region           hinge_region                   dfg_region                  \n",
       "residues                   46       47       48         81       82       83\n",
       "id    coordinate                                                            \n",
       "2886  x                0.4799  -0.3060  -3.7619     1.5806   2.8018   5.7823\n",
       "      y               26.3014  23.3326  21.9317    19.3573  21.5128  19.2963\n",
       "      z               43.8558  46.1435  45.3376    33.5495  30.6353  30.0596\n",
       "10043 x                0.2635  -0.1987  -3.5961     1.5488   2.5897   5.8670\n",
       "      y               25.9876  22.9660  21.3855    19.5079  21.6241  19.7742"
      ]
     },
     "execution_count": 14,
     "metadata": {},
     "output_type": "execute_result"
    }
   ],
   "source": [
    "# Read multi-index and multi-column CSV file... ugly.\n",
    "hinge_dfg_ca = pd.read_csv(\n",
    "    path_to_results / 'reference_points' / 'coordinates_hinge_dfg_ca.csv', \n",
    "    skiprows=2,\n",
    "    index_col=['id', 'coordinate']\n",
    ")\n",
    "\n",
    "col_index = pd.MultiIndex.from_frame(\n",
    "    pd.DataFrame(\n",
    "        [\n",
    "            ['hinge_region', 46], ['hinge_region', 47], ['hinge_region', 48],\n",
    "            ['dfg_region', 81], ['dfg_region', 82], ['dfg_region', 83]\n",
    "        ],\n",
    "        columns=['region', 'residues']\n",
    "    )\n",
    ")\n",
    "hinge_dfg_ca.columns = col_index\n",
    "\n",
    "hinge_dfg_ca.head()"
   ]
  },
  {
   "cell_type": "markdown",
   "metadata": {},
   "source": [
    "## Distance reference points to hinge/DFG region"
   ]
  },
  {
   "cell_type": "code",
   "execution_count": 15,
   "metadata": {
    "scrolled": false
   },
   "outputs": [],
   "source": [
    "def get_distances(reference_points, hinge_dfg_ca, region):\n",
    "    \"\"\"\n",
    "    Get reference point from KLIFS metadata.\n",
    "    \n",
    "    Parameters\n",
    "    ----------\n",
    "    reference_points : pandas.DataFrame\n",
    "        Reference point table, containing columns = reference points, index = (metadata index, coordinates).\n",
    "    hinge_dfg_ca : pandas.DataFrame\n",
    "        CA atoms of hinge and DFG region, containing columns = (region, residue ID), \n",
    "        index = (metadata index, coordinates).\n",
    "    region : str\n",
    "        Region to be selected: 'hinge_region' or 'dfg_region'\n",
    "    \n",
    "    Returns\n",
    "    -------\n",
    "    pandas.DataFrame\n",
    "        Distances from reference point to residues, containing columns = residues, index = metadata index.\n",
    "    \"\"\"\n",
    "    \n",
    "    # Selected region\n",
    "    regions = ['hinge_region', 'dfg_region']\n",
    "    if region not in regions:\n",
    "        raise ValueError(f'Region unknown. Choose from: {\", \".join(regions)}')\n",
    "    \n",
    "    # Not processed structures\n",
    "    not_processed = []\n",
    "    \n",
    "    # Get metadata ID\n",
    "    metadata_ids = [i[0] for i in reference_points.groupby(level='id', sort=False)]\n",
    "    \n",
    "    distances = {}\n",
    "\n",
    "    for metadata_id in metadata_ids:\n",
    "\n",
    "        try:\n",
    "            # Calculate vector between points\n",
    "            vectors = hinge_dfg_ca.loc[metadata_id][region].sub(\n",
    "                reference_points.loc[metadata_id][region], \n",
    "                axis=0\n",
    "            )\n",
    "\n",
    "            # Calculate vector norm (distance)\n",
    "            distance = vectors.apply(lambda x: scipy.linalg.norm(x), axis=0)\n",
    "\n",
    "        except ValueError:\n",
    "            not_processed.append(metadata_id)\n",
    "            continue\n",
    "\n",
    "        distances[metadata_id] = distance\n",
    "        \n",
    "    distances = pd.concat(distances, axis=1).transpose()\n",
    "    distances.index.name = 'id'\n",
    "\n",
    "    return distances, not_processed"
   ]
  },
  {
   "cell_type": "code",
   "execution_count": 16,
   "metadata": {},
   "outputs": [],
   "source": [
    "def save_cgo_outliers(distances, region_name, path_to_results):\n",
    "    \"\"\"\n",
    "    Save cgo files with outlier structures.\n",
    "    \"\"\"\n",
    "    \n",
    "    if isinstance(distances, pd.Series):\n",
    "        distances = pd.DataFrame(distances)\n",
    "    \n",
    "    region_residues = {\n",
    "        'hinge': [48, 47, 46],  # Distances to hinge residues\n",
    "        'dfg': [81, 82, 83],  # Distances to DFG residues\n",
    "        'centroid': 'centroid',  # Distances to reference centroid\n",
    "        'hinge_region': 'hinge_region',  # Distances to reference hinge region reference point\n",
    "        'dfg_region': 'dfg_region',  # Distances to reference DFG region reference point\n",
    "        'front_pocket': 'front_pocket'  # Distances to reference front pocket reference point\n",
    "    }\n",
    "    \n",
    "    reference_index = [int(klifs_metadata_reference.index[0])]\n",
    "    outlier_indices = list(distances.sort_values(\n",
    "        by=region_residues[region_name], \n",
    "        ascending=False\n",
    "    ).head(20).index)\n",
    "\n",
    "    commands = [f'run {get_cgo_filename_from_metadata_index(ix)}' for ix in reference_index+outlier_indices]\n",
    "\n",
    "    with open(path_to_results / 'reference_points' / 'cgo_reference_points' / f'run_cgo_outliers_{region_name}.txt', 'w') as f:\n",
    "        f.write('\\n'.join(commands))"
   ]
  },
  {
   "cell_type": "markdown",
   "metadata": {},
   "source": [
    "### Hinge region"
   ]
  },
  {
   "cell_type": "code",
   "execution_count": 17,
   "metadata": {},
   "outputs": [],
   "source": [
    "distances_hinge, not_processed = get_distances(reference_points, hinge_dfg_ca, 'hinge_region')"
   ]
  },
  {
   "cell_type": "code",
   "execution_count": 18,
   "metadata": {},
   "outputs": [
    {
     "data": {
      "text/plain": [
       "8"
      ]
     },
     "execution_count": 18,
     "metadata": {},
     "output_type": "execute_result"
    }
   ],
   "source": [
    "len(not_processed)"
   ]
  },
  {
   "cell_type": "code",
   "execution_count": 19,
   "metadata": {},
   "outputs": [],
   "source": [
    "def check_hinge_residues(metadata_ids):\n",
    "    \"\"\"\n",
    "    Check available hinge residues in structures by metadata id.\n",
    "    \n",
    "    Parameters\n",
    "    ----------\n",
    "    metadata_ids : list of int\n",
    "        Metadata IDs for structures.\n",
    "    \"\"\"\n",
    "    \n",
    "    print('Available hinge residues:')\n",
    "    \n",
    "    for metadata_id in metadata_ids:\n",
    "        klifs_metadata_entry = klifs_metadata.loc[metadata_id]\n",
    "        ml = KlifsMoleculeLoader(klifs_metadata_entry=klifs_metadata_entry)\n",
    "        print(f'{klifs_metadata_entry.name}: {ml.molecule.df[ml.molecule.df.klifs_id.isin([46, 47, 48])].klifs_id.unique()}')"
   ]
  },
  {
   "cell_type": "code",
   "execution_count": 20,
   "metadata": {},
   "outputs": [
    {
     "name": "stdout",
     "output_type": "stream",
     "text": [
      "Available hinge residues:\n",
      "3130: [46]\n",
      "1399: [46 47 48]\n",
      "2193: [46 48]\n",
      "2187: [46 48]\n",
      "2166: [46 48]\n",
      "2196: [46 48]\n",
      "6856: [47 48]\n",
      "2302: [46 47 48]\n"
     ]
    }
   ],
   "source": [
    "check_hinge_residues(not_processed)"
   ]
  },
  {
   "cell_type": "code",
   "execution_count": 21,
   "metadata": {},
   "outputs": [
    {
     "data": {
      "image/png": "[encoded data removed]",
      "text/plain": [
       "<Figure size 432x288 with 1 Axes>"
      ]
     },
     "metadata": {
      "needs_background": "light"
     },
     "output_type": "display_data"
    }
   ],
   "source": [
    "plot_hinge = distances_hinge.plot(\n",
    "    kind='box', \n",
    "    title='Distances hinge reference point to hinge residues'\n",
    ")"
   ]
  },
  {
   "cell_type": "code",
   "execution_count": 22,
   "metadata": {},
   "outputs": [],
   "source": [
    "plot_hinge.get_figure().savefig(\n",
    "    path_to_results / 'reference_points' / 'distance_hinge_refpoint-residues.png',\n",
    "    dpi=300\n",
    ")"
   ]
  },
  {
   "cell_type": "code",
   "execution_count": 23,
   "metadata": {},
   "outputs": [
    {
     "data": {
      "text/html": [
       "<div>\n",
       "<style scoped>\n",
       "    .dataframe tbody tr th:only-of-type {\n",
       "        vertical-align: middle;\n",
       "    }\n",
       "\n",
       "    .dataframe tbody tr th {\n",
       "        vertical-align: top;\n",
       "    }\n",
       "\n",
       "    .dataframe thead th {\n",
       "        text-align: right;\n",
       "    }\n",
       "</style>\n",
       "<table border=\"1\" class=\"dataframe\">\n",
       "  <thead>\n",
       "    <tr style=\"text-align: right;\">\n",
       "      <th>residues</th>\n",
       "      <th>46</th>\n",
       "      <th>47</th>\n",
       "      <th>48</th>\n",
       "    </tr>\n",
       "    <tr>\n",
       "      <th>id</th>\n",
       "      <th></th>\n",
       "      <th></th>\n",
       "      <th></th>\n",
       "    </tr>\n",
       "  </thead>\n",
       "  <tbody>\n",
       "    <tr>\n",
       "      <th>1430</th>\n",
       "      <td>5.757893</td>\n",
       "      <td>6.357279</td>\n",
       "      <td>9.280369</td>\n",
       "    </tr>\n",
       "    <tr>\n",
       "      <th>1812</th>\n",
       "      <td>5.100716</td>\n",
       "      <td>5.286227</td>\n",
       "      <td>8.491359</td>\n",
       "    </tr>\n",
       "    <tr>\n",
       "      <th>4679</th>\n",
       "      <td>5.056278</td>\n",
       "      <td>5.259119</td>\n",
       "      <td>8.489358</td>\n",
       "    </tr>\n",
       "    <tr>\n",
       "      <th>1821</th>\n",
       "      <td>5.061281</td>\n",
       "      <td>5.167992</td>\n",
       "      <td>8.470243</td>\n",
       "    </tr>\n",
       "    <tr>\n",
       "      <th>6102</th>\n",
       "      <td>5.238595</td>\n",
       "      <td>5.260629</td>\n",
       "      <td>8.442288</td>\n",
       "    </tr>\n",
       "  </tbody>\n",
       "</table>\n",
       "</div>"
      ],
      "text/plain": [
       "residues        46        47        48\n",
       "id                                    \n",
       "1430      5.757893  6.357279  9.280369\n",
       "1812      5.100716  5.286227  8.491359\n",
       "4679      5.056278  5.259119  8.489358\n",
       "1821      5.061281  5.167992  8.470243\n",
       "6102      5.238595  5.260629  8.442288"
      ]
     },
     "execution_count": 23,
     "metadata": {},
     "output_type": "execute_result"
    }
   ],
   "source": [
    "distances_hinge.sort_values(by=[48, 47, 46], ascending=False).head()"
   ]
  },
  {
   "cell_type": "code",
   "execution_count": 24,
   "metadata": {},
   "outputs": [],
   "source": [
    "save_cgo_outliers(distances_hinge, 'hinge', path_to_results)"
   ]
  },
  {
   "cell_type": "markdown",
   "metadata": {},
   "source": [
    "### DFG region"
   ]
  },
  {
   "cell_type": "code",
   "execution_count": 25,
   "metadata": {
    "scrolled": true
   },
   "outputs": [],
   "source": [
    "distances_dfg, not_processed = get_distances(reference_points, hinge_dfg_ca, 'dfg_region')"
   ]
  },
  {
   "cell_type": "code",
   "execution_count": 26,
   "metadata": {},
   "outputs": [
    {
     "data": {
      "text/plain": [
       "90"
      ]
     },
     "execution_count": 26,
     "metadata": {},
     "output_type": "execute_result"
    }
   ],
   "source": [
    "len(not_processed)"
   ]
  },
  {
   "cell_type": "code",
   "execution_count": 27,
   "metadata": {},
   "outputs": [
    {
     "data": {
      "image/png": "[encoded data removed]",
      "text/plain": [
       "<Figure size 432x288 with 1 Axes>"
      ]
     },
     "metadata": {
      "needs_background": "light"
     },
     "output_type": "display_data"
    }
   ],
   "source": [
    "plot_dfg = distances_dfg.plot(\n",
    "    kind='box', \n",
    "    title='Distances DFG reference point to DFG residues'\n",
    ")"
   ]
  },
  {
   "cell_type": "code",
   "execution_count": 28,
   "metadata": {},
   "outputs": [],
   "source": [
    "plot_dfg.get_figure().savefig(\n",
    "    path_to_results / 'reference_points' / 'distance_dfg_refpoint-residues.png',\n",
    "    dpi=300\n",
    ")"
   ]
  },
  {
   "cell_type": "code",
   "execution_count": 29,
   "metadata": {},
   "outputs": [
    {
     "data": {
      "text/html": [
       "<div>\n",
       "<style scoped>\n",
       "    .dataframe tbody tr th:only-of-type {\n",
       "        vertical-align: middle;\n",
       "    }\n",
       "\n",
       "    .dataframe tbody tr th {\n",
       "        vertical-align: top;\n",
       "    }\n",
       "\n",
       "    .dataframe thead th {\n",
       "        text-align: right;\n",
       "    }\n",
       "</style>\n",
       "<table border=\"1\" class=\"dataframe\">\n",
       "  <thead>\n",
       "    <tr style=\"text-align: right;\">\n",
       "      <th>residues</th>\n",
       "      <th>81</th>\n",
       "      <th>82</th>\n",
       "      <th>83</th>\n",
       "    </tr>\n",
       "    <tr>\n",
       "      <th>id</th>\n",
       "      <th></th>\n",
       "      <th></th>\n",
       "      <th></th>\n",
       "    </tr>\n",
       "  </thead>\n",
       "  <tbody>\n",
       "    <tr>\n",
       "      <th>7170</th>\n",
       "      <td>6.861162</td>\n",
       "      <td>7.408181</td>\n",
       "      <td>18.958419</td>\n",
       "    </tr>\n",
       "    <tr>\n",
       "      <th>1593</th>\n",
       "      <td>6.987313</td>\n",
       "      <td>6.971888</td>\n",
       "      <td>18.082801</td>\n",
       "    </tr>\n",
       "    <tr>\n",
       "      <th>6867</th>\n",
       "      <td>7.098741</td>\n",
       "      <td>10.364892</td>\n",
       "      <td>10.696183</td>\n",
       "    </tr>\n",
       "    <tr>\n",
       "      <th>3826</th>\n",
       "      <td>7.340665</td>\n",
       "      <td>9.533544</td>\n",
       "      <td>10.643996</td>\n",
       "    </tr>\n",
       "    <tr>\n",
       "      <th>9666</th>\n",
       "      <td>7.467104</td>\n",
       "      <td>9.710361</td>\n",
       "      <td>10.558241</td>\n",
       "    </tr>\n",
       "  </tbody>\n",
       "</table>\n",
       "</div>"
      ],
      "text/plain": [
       "residues        81         82         83\n",
       "id                                      \n",
       "7170      6.861162   7.408181  18.958419\n",
       "1593      6.987313   6.971888  18.082801\n",
       "6867      7.098741  10.364892  10.696183\n",
       "3826      7.340665   9.533544  10.643996\n",
       "9666      7.467104   9.710361  10.558241"
      ]
     },
     "execution_count": 29,
     "metadata": {},
     "output_type": "execute_result"
    }
   ],
   "source": [
    "distances_dfg.sort_values(by=[83, 82, 81], ascending=False).head()"
   ]
  },
  {
   "cell_type": "code",
   "execution_count": 30,
   "metadata": {},
   "outputs": [],
   "source": [
    "save_cgo_outliers(distances_dfg, 'dfg', path_to_results)"
   ]
  },
  {
   "cell_type": "markdown",
   "metadata": {},
   "source": [
    "## Distance reference points to reference"
   ]
  },
  {
   "cell_type": "markdown",
   "metadata": {},
   "source": [
    "### Centroids"
   ]
  },
  {
   "cell_type": "code",
   "execution_count": 31,
   "metadata": {},
   "outputs": [],
   "source": [
    "def get_distances_to_reference(reference_points, klifs_metadata_reference):\n",
    "    \"\"\"\n",
    "    Get distances of reference points to their \"reference\" reference points.\n",
    "    \n",
    "    Parameters\n",
    "    ----------\n",
    "    reference_points : pandas.DataFrame\n",
    "        Coordinates of all reference points for all structures.\n",
    "    klifs_metadata_reference : pandas.DataFrame\n",
    "        Metadata for reference KLIFS structure (reference = structure that was used to define anchor residues).\n",
    "    \n",
    "    Returns\n",
    "    -------\n",
    "    pandas.DataFrame\n",
    "        Distances of all reference points to the \"reference\" reference points for all structures, \n",
    "        row = metadata index, columns = reference points.\n",
    "    \"\"\"\n",
    "    \n",
    "    distances_to_reference = {}\n",
    "\n",
    "    coordinates_reference = reference_points.loc[klifs_metadata_reference.index[0]]\n",
    "\n",
    "    for metadata_id, coordinates in reference_points.groupby(level='id', sort=False):\n",
    "\n",
    "        distance_vectors = coordinates - coordinates_reference\n",
    "        distances_to_reference[metadata_id] = scipy.linalg.norm(distance_vectors.dropna(axis=1), axis=0)\n",
    "\n",
    "    distances_to_reference = pd.DataFrame.from_dict(\n",
    "        distances_to_reference, \n",
    "        orient='index', \n",
    "        columns=['centroid', 'hinge_region', 'dfg_region', 'front_pocket']\n",
    "    )\n",
    "    \n",
    "    return distances_to_reference"
   ]
  },
  {
   "cell_type": "code",
   "execution_count": 32,
   "metadata": {},
   "outputs": [],
   "source": [
    "distances_to_reference = get_distances_to_reference(reference_points, klifs_metadata_reference)"
   ]
  },
  {
   "cell_type": "code",
   "execution_count": 33,
   "metadata": {},
   "outputs": [
    {
     "data": {
      "image/png": "[encoded data removed]",
      "text/plain": [
       "<Figure size 432x288 with 1 Axes>"
      ]
     },
     "metadata": {
      "needs_background": "light"
     },
     "output_type": "display_data"
    }
   ],
   "source": [
    "plot_distance_to_reference = distances_to_reference.plot(\n",
    "    kind='box',\n",
    "    title='Distances of reference points to \"reference\" reference points'\n",
    ")"
   ]
  },
  {
   "cell_type": "code",
   "execution_count": 34,
   "metadata": {},
   "outputs": [],
   "source": [
    "plot_distance_to_reference.get_figure().savefig(\n",
    "    path_to_results / 'reference_points' / 'distance_refpoints_to_reference.png',\n",
    "    dpi=300\n",
    ")"
   ]
  },
  {
   "cell_type": "code",
   "execution_count": 35,
   "metadata": {},
   "outputs": [],
   "source": [
    "save_cgo_outliers(distances_to_reference.centroid, 'centroid', path_to_results)\n",
    "save_cgo_outliers(distances_to_reference.hinge_region, 'hinge_region', path_to_results)\n",
    "save_cgo_outliers(distances_to_reference.dfg_region, 'dfg_region', path_to_results)\n",
    "save_cgo_outliers(distances_to_reference.front_pocket, 'front_pocket', path_to_results)"
   ]
  },
  {
   "cell_type": "markdown",
   "metadata": {},
   "source": [
    "## Front region"
   ]
  },
  {
   "cell_type": "markdown",
   "metadata": {},
   "source": [
    "## Visualize reference points (PyMol)"
   ]
  },
  {
   "cell_type": "code",
   "execution_count": 36,
   "metadata": {},
   "outputs": [],
   "source": [
    "def save_refpoints_as_cgo(klifs_metadata, path_to_results):\n",
    "    \"\"\"\n",
    "    Save reference points as cgo file.\n",
    "    \n",
    "    Parameters\n",
    "    ----------\n",
    "    klifs_metadata : pandas.DataFrame\n",
    "        Metadata KLIFS table.\n",
    "    path_to_results : Path or str\n",
    "        Path to kinsim_structure results folder.\n",
    "    \"\"\"\n",
    "    \n",
    "    path_to_results = Path(path_to_results)\n",
    "    \n",
    "    for index, row in klifs_metadata.iterrows():\n",
    "\n",
    "        # Load structural data\n",
    "        ml = KlifsMoleculeLoader(klifs_metadata_entry=row)\n",
    "\n",
    "        # Calculate spatial features\n",
    "        spatial = SpatialFeatures()\n",
    "        spatial.from_molecule(ml.molecule)\n",
    "\n",
    "        spatial.save_cgo_refpoints(row, output_path=path_to_results / 'reference_points' / 'cgo_reference_points')"
   ]
  },
  {
   "cell_type": "raw",
   "metadata": {},
   "source": [
    "save_refpoints_as_cgo(klifs_metadata, path_to_results)"
   ]
  },
  {
   "cell_type": "markdown",
   "metadata": {},
   "source": [
    "### Write out a subset of cgo files"
   ]
  },
  {
   "cell_type": "code",
   "execution_count": 37,
   "metadata": {},
   "outputs": [
    {
     "data": {
      "text/plain": [
       "['run /home/dominique/Documents/Projects/kinsim_structure/examples/results/reference_points/cgo_reference_points/refpoints_p110g_1he8_chainA.py',\n",
       " 'run /home/dominique/Documents/Projects/kinsim_structure/examples/results/reference_points/cgo_reference_points/refpoints_VRK1_6bru_altA_chainA.py',\n",
       " 'run /home/dominique/Documents/Projects/kinsim_structure/examples/results/reference_points/cgo_reference_points/refpoints_CHK2_2w7x_altB_chainA.py']"
      ]
     },
     "execution_count": 37,
     "metadata": {},
     "output_type": "execute_result"
    }
   ],
   "source": [
    "commands = [f'run {i}' for i in (path_to_results / 'reference_points' / 'cgo_reference_points').glob('*.py')]\n",
    "commands[:3]"
   ]
  },
  {
   "cell_type": "raw",
   "metadata": {},
   "source": [
    "with open(path_to_results / 'reference_points' / 'cgo_reference_points' / 'run_cgo_subset.txt', 'w') as f:\n",
    "    f.write('\\n'.join(random.sample(commands, 50)))"
   ]
  }
 ],
 "metadata": {
  "kernelspec": {
   "display_name": "kinsim",
   "language": "python",
   "name": "kinsim"
  },
  "language_info": {
   "codemirror_mode": {
    "name": "ipython",
    "version": 3
   },
   "file_extension": ".py",
   "mimetype": "text/x-python",
   "name": "python",
   "nbconvert_exporter": "python",
   "pygments_lexer": "ipython3",
   "version": "3.6.7"
  }
 },
 "nbformat": 4,
 "nbformat_minor": 2
}
