{
 "cells": [
  {
   "cell_type": "markdown",
   "metadata": {},
   "source": [
    "# Exposure"
   ]
  },
  {
   "cell_type": "markdown",
   "metadata": {},
   "source": [
    "## Imports"
   ]
  },
  {
   "cell_type": "code",
   "execution_count": 1,
   "metadata": {},
   "outputs": [],
   "source": [
    "%load_ext autoreload"
   ]
  },
  {
   "cell_type": "code",
   "execution_count": 2,
   "metadata": {},
   "outputs": [],
   "source": [
    "%autoreload 2"
   ]
  },
  {
   "cell_type": "code",
   "execution_count": 3,
   "metadata": {},
   "outputs": [
    {
     "data": {
      "application/vnd.jupyter.widget-view+json": {
       "model_id": "e249093ba51641039c94eba63f6f4d26",
       "version_major": 2,
       "version_minor": 0
      },
      "text/plain": [
       "_ColormakerRegistry()"
      ]
     },
     "metadata": {},
     "output_type": "display_data"
    }
   ],
   "source": [
    "from pathlib import Path\n",
    "import sys\n",
    "\n",
    "from Bio.PDB import HSExposureCA, HSExposureCB, Selection, MMCIFParser\n",
    "import pandas as pd\n",
    "\n",
    "sys.path.append('../..')\n",
    "from kissim.auxiliary import KlifsMoleculeLoader, PdbChainLoader, get_klifs_residues_mol2topdb\n",
    "from kissim.encoding import ExposureFeature"
   ]
  },
  {
   "cell_type": "code",
   "execution_count": 4,
   "metadata": {},
   "outputs": [],
   "source": [
    "from Bio.PDB import HSExposure"
   ]
  },
  {
   "cell_type": "code",
   "execution_count": 5,
   "metadata": {},
   "outputs": [],
   "source": [
    "pd.set_option('display.max_rows', 1000)"
   ]
  },
  {
   "cell_type": "markdown",
   "metadata": {},
   "source": [
    "## IO paths"
   ]
  },
  {
   "cell_type": "code",
   "execution_count": 6,
   "metadata": {},
   "outputs": [],
   "source": [
    "path_to_kinsim = Path('.') / '..' / '..'\n",
    "path_to_data = path_to_kinsim / 'examples' / 'data'\n",
    "path_to_results = path_to_kinsim / 'examples' / 'results'\n",
    "\n",
    "metadata_path = path_to_data / 'postprocessed' / 'klifs_metadata_postprocessed.csv'\n",
    "sco_path = path_to_results / 'side_chain_orientation' / 'side_chain_orientations.p'"
   ]
  },
  {
   "cell_type": "markdown",
   "metadata": {},
   "source": [
    "## Load metadata"
   ]
  },
  {
   "cell_type": "code",
   "execution_count": 7,
   "metadata": {},
   "outputs": [
    {
     "data": {
      "text/html": [
       "<div>\n",
       "<style scoped>\n",
       "    .dataframe tbody tr th:only-of-type {\n",
       "        vertical-align: middle;\n",
       "    }\n",
       "\n",
       "    .dataframe tbody tr th {\n",
       "        vertical-align: top;\n",
       "    }\n",
       "\n",
       "    .dataframe thead th {\n",
       "        text-align: right;\n",
       "    }\n",
       "</style>\n",
       "<table border=\"1\" class=\"dataframe\">\n",
       "  <thead>\n",
       "    <tr style=\"text-align: right;\">\n",
       "      <th></th>\n",
       "      <th>metadata_index</th>\n",
       "      <th>kinase</th>\n",
       "      <th>family</th>\n",
       "      <th>groups</th>\n",
       "      <th>pdb_id</th>\n",
       "      <th>chain</th>\n",
       "      <th>alternate_model</th>\n",
       "      <th>species</th>\n",
       "      <th>ligand_orthosteric_name</th>\n",
       "      <th>ligand_orthosteric_pdb_id</th>\n",
       "      <th>...</th>\n",
       "      <th>ac_helix</th>\n",
       "      <th>rmsd1</th>\n",
       "      <th>rmsd2</th>\n",
       "      <th>qualityscore</th>\n",
       "      <th>pocket</th>\n",
       "      <th>resolution</th>\n",
       "      <th>missing_residues</th>\n",
       "      <th>missing_atoms</th>\n",
       "      <th>full_ifp</th>\n",
       "      <th>code</th>\n",
       "    </tr>\n",
       "  </thead>\n",
       "  <tbody>\n",
       "    <tr>\n",
       "      <th>0</th>\n",
       "      <td>2886</td>\n",
       "      <td>AAK1</td>\n",
       "      <td>NAK</td>\n",
       "      <td>Other</td>\n",
       "      <td>4wsq</td>\n",
       "      <td>B</td>\n",
       "      <td>A</td>\n",
       "      <td>Human</td>\n",
       "      <td>K-252A</td>\n",
       "      <td>KSA</td>\n",
       "      <td>...</td>\n",
       "      <td>in</td>\n",
       "      <td>0.777</td>\n",
       "      <td>2.125</td>\n",
       "      <td>8.6</td>\n",
       "      <td>EVLAEGGFAIVFLCALKRMVCKREIQIMRDLSKNIVGYIDSLILMD...</td>\n",
       "      <td>1.95</td>\n",
       "      <td>0</td>\n",
       "      <td>14</td>\n",
       "      <td>0000000000000010000001000000000000000000000000...</td>\n",
       "      <td>HUMAN/AAK1/4wsq_chainB_altA</td>\n",
       "    </tr>\n",
       "    <tr>\n",
       "      <th>1</th>\n",
       "      <td>10043</td>\n",
       "      <td>AAK1</td>\n",
       "      <td>NAK</td>\n",
       "      <td>Other</td>\n",
       "      <td>5l4q</td>\n",
       "      <td>A</td>\n",
       "      <td>A</td>\n",
       "      <td>Human</td>\n",
       "      <td>~{N}-[5-(4-cyanophenyl)-1~{H}-pyrrolo[2,3-b]py...</td>\n",
       "      <td>LKB</td>\n",
       "      <td>...</td>\n",
       "      <td>in</td>\n",
       "      <td>0.780</td>\n",
       "      <td>2.137</td>\n",
       "      <td>9.7</td>\n",
       "      <td>EVLAEGGFAIVFLCALKRMVCKREIQIMRDLSKNIVGYIDSLILMD...</td>\n",
       "      <td>1.97</td>\n",
       "      <td>0</td>\n",
       "      <td>3</td>\n",
       "      <td>0000000000000010000000000000000000000000000000...</td>\n",
       "      <td>HUMAN/AAK1/5l4q_chainA_altA</td>\n",
       "    </tr>\n",
       "    <tr>\n",
       "      <th>2</th>\n",
       "      <td>7046</td>\n",
       "      <td>AAK1</td>\n",
       "      <td>NAK</td>\n",
       "      <td>Other</td>\n",
       "      <td>5te0</td>\n",
       "      <td>A</td>\n",
       "      <td>-</td>\n",
       "      <td>Human</td>\n",
       "      <td>methyl (3Z)-3-{[(4-{methyl[(4-methylpiperazin-...</td>\n",
       "      <td>XIN</td>\n",
       "      <td>...</td>\n",
       "      <td>in</td>\n",
       "      <td>0.776</td>\n",
       "      <td>2.120</td>\n",
       "      <td>8.8</td>\n",
       "      <td>EVLAEGGFAIVFLCALKRMVCKREIQIMRDLSKNIVGYIDSLILMD...</td>\n",
       "      <td>1.90</td>\n",
       "      <td>0</td>\n",
       "      <td>12</td>\n",
       "      <td>1000101000000010000001000000000000000000000000...</td>\n",
       "      <td>HUMAN/AAK1/5te0_chainA</td>\n",
       "    </tr>\n",
       "    <tr>\n",
       "      <th>3</th>\n",
       "      <td>843</td>\n",
       "      <td>ABL1</td>\n",
       "      <td>Abl</td>\n",
       "      <td>TK</td>\n",
       "      <td>2f4j</td>\n",
       "      <td>A</td>\n",
       "      <td>-</td>\n",
       "      <td>Human</td>\n",
       "      <td>CYCLOPROPANECARBOXYLIC ACID {4-[4-(4-METHYL-PI...</td>\n",
       "      <td>VX6</td>\n",
       "      <td>...</td>\n",
       "      <td>in</td>\n",
       "      <td>0.779</td>\n",
       "      <td>2.128</td>\n",
       "      <td>8.0</td>\n",
       "      <td>HKLGGGQYGEVYEVAVKTLEFLKEAAVMKEIKPNLVQLLGVYIITE...</td>\n",
       "      <td>1.91</td>\n",
       "      <td>0</td>\n",
       "      <td>0</td>\n",
       "      <td>0000000000000010000001000000000000000000000000...</td>\n",
       "      <td>HUMAN/ABL1/2f4j_chainA</td>\n",
       "    </tr>\n",
       "    <tr>\n",
       "      <th>4</th>\n",
       "      <td>815</td>\n",
       "      <td>ABL1</td>\n",
       "      <td>Abl</td>\n",
       "      <td>TK</td>\n",
       "      <td>2g1t</td>\n",
       "      <td>A</td>\n",
       "      <td>-</td>\n",
       "      <td>Human</td>\n",
       "      <td>-</td>\n",
       "      <td>-</td>\n",
       "      <td>...</td>\n",
       "      <td>out</td>\n",
       "      <td>0.825</td>\n",
       "      <td>2.154</td>\n",
       "      <td>8.0</td>\n",
       "      <td>HKLGGGQYGEVYEVAVKTLEFLKEAAVMKEIKPNLVQLLGVYIITE...</td>\n",
       "      <td>1.80</td>\n",
       "      <td>0</td>\n",
       "      <td>0</td>\n",
       "      <td>NaN</td>\n",
       "      <td>HUMAN/ABL1/2g1t_chainA</td>\n",
       "    </tr>\n",
       "  </tbody>\n",
       "</table>\n",
       "<p>5 rows × 23 columns</p>\n",
       "</div>"
      ],
      "text/plain": [
       "   metadata_index kinase family groups pdb_id chain alternate_model species  \\\n",
       "0            2886   AAK1    NAK  Other   4wsq     B               A   Human   \n",
       "1           10043   AAK1    NAK  Other   5l4q     A               A   Human   \n",
       "2            7046   AAK1    NAK  Other   5te0     A               -   Human   \n",
       "3             843   ABL1    Abl     TK   2f4j     A               -   Human   \n",
       "4             815   ABL1    Abl     TK   2g1t     A               -   Human   \n",
       "\n",
       "                             ligand_orthosteric_name  \\\n",
       "0                                             K-252A   \n",
       "1  ~{N}-[5-(4-cyanophenyl)-1~{H}-pyrrolo[2,3-b]py...   \n",
       "2  methyl (3Z)-3-{[(4-{methyl[(4-methylpiperazin-...   \n",
       "3  CYCLOPROPANECARBOXYLIC ACID {4-[4-(4-METHYL-PI...   \n",
       "4                                                  -   \n",
       "\n",
       "  ligand_orthosteric_pdb_id  ... ac_helix  rmsd1  rmsd2 qualityscore  \\\n",
       "0                       KSA  ...       in  0.777  2.125          8.6   \n",
       "1                       LKB  ...       in  0.780  2.137          9.7   \n",
       "2                       XIN  ...       in  0.776  2.120          8.8   \n",
       "3                       VX6  ...       in  0.779  2.128          8.0   \n",
       "4                         -  ...      out  0.825  2.154          8.0   \n",
       "\n",
       "                                              pocket  resolution  \\\n",
       "0  EVLAEGGFAIVFLCALKRMVCKREIQIMRDLSKNIVGYIDSLILMD...        1.95   \n",
       "1  EVLAEGGFAIVFLCALKRMVCKREIQIMRDLSKNIVGYIDSLILMD...        1.97   \n",
       "2  EVLAEGGFAIVFLCALKRMVCKREIQIMRDLSKNIVGYIDSLILMD...        1.90   \n",
       "3  HKLGGGQYGEVYEVAVKTLEFLKEAAVMKEIKPNLVQLLGVYIITE...        1.91   \n",
       "4  HKLGGGQYGEVYEVAVKTLEFLKEAAVMKEIKPNLVQLLGVYIITE...        1.80   \n",
       "\n",
       "   missing_residues missing_atoms  \\\n",
       "0                 0            14   \n",
       "1                 0             3   \n",
       "2                 0            12   \n",
       "3                 0             0   \n",
       "4                 0             0   \n",
       "\n",
       "                                            full_ifp  \\\n",
       "0  0000000000000010000001000000000000000000000000...   \n",
       "1  0000000000000010000000000000000000000000000000...   \n",
       "2  1000101000000010000001000000000000000000000000...   \n",
       "3  0000000000000010000001000000000000000000000000...   \n",
       "4                                                NaN   \n",
       "\n",
       "                          code  \n",
       "0  HUMAN/AAK1/4wsq_chainB_altA  \n",
       "1  HUMAN/AAK1/5l4q_chainA_altA  \n",
       "2       HUMAN/AAK1/5te0_chainA  \n",
       "3       HUMAN/ABL1/2f4j_chainA  \n",
       "4       HUMAN/ABL1/2g1t_chainA  \n",
       "\n",
       "[5 rows x 23 columns]"
      ]
     },
     "execution_count": 7,
     "metadata": {},
     "output_type": "execute_result"
    }
   ],
   "source": [
    "klifs_metadata = pd.read_csv(metadata_path, index_col=0)\n",
    "klifs_metadata.head()"
   ]
  },
  {
   "cell_type": "markdown",
   "metadata": {},
   "source": [
    "## Load chain"
   ]
  },
  {
   "cell_type": "markdown",
   "metadata": {},
   "source": [
    "Example 6c83:\n",
    "- Has GLY residues (per definition without CB atoms, e.g. **residue 136**)\n",
    "- Has residues with missing CB atoms (e.g. **residue 141**)\n",
    "\n",
    "I need to find out whether I can retrieve their pseudo-CB details from the `HSExposureCB` and `HSExposureCA` classes."
   ]
  },
  {
   "cell_type": "code",
   "execution_count": 8,
   "metadata": {},
   "outputs": [],
   "source": [
    "klifs_metadata_entry = klifs_metadata[klifs_metadata.pdb_id == '6c83'].squeeze()"
   ]
  },
  {
   "cell_type": "code",
   "execution_count": 9,
   "metadata": {},
   "outputs": [
    {
     "name": "stderr",
     "output_type": "stream",
     "text": [
      "/home/dominique/anaconda3/envs/kinsim/lib/python3.6/site-packages/Bio/PDB/StructureBuilder.py:91: PDBConstructionWarning: WARNING: Chain A is discontinuous at line 4875.\n",
      "  PDBConstructionWarning)\n",
      "/home/dominique/anaconda3/envs/kinsim/lib/python3.6/site-packages/Bio/PDB/StructureBuilder.py:91: PDBConstructionWarning: WARNING: Chain B is discontinuous at line 4906.\n",
      "  PDBConstructionWarning)\n"
     ]
    }
   ],
   "source": [
    "# Load pdb file\n",
    "pdb_id = '6c83'\n",
    "parser = MMCIFParser()\n",
    "structure = parser.get_structure(\n",
    "    structure_id=pdb_id,\n",
    "    filename=f'/home/dominique/Documents/data/kinsim/20190724_full/raw/PDB_download/{pdb_id}.cif'\n",
    ")\n",
    "model = structure[0]\n",
    "chain = model['B']\n",
    "residues = Selection.unfold_entities(entity_list=chain, target_level='R')"
   ]
  },
  {
   "cell_type": "code",
   "execution_count": 10,
   "metadata": {},
   "outputs": [
    {
     "data": {
      "text/plain": [
       "248"
      ]
     },
     "execution_count": 10,
     "metadata": {},
     "output_type": "execute_result"
    }
   ],
   "source": [
    "# Print residues in model - and compare with plain PDB file: correct!\n",
    "len(residues)"
   ]
  },
  {
   "cell_type": "code",
   "execution_count": 11,
   "metadata": {},
   "outputs": [],
   "source": [
    "residue_ids = [residue.id[1] for residue in residues]"
   ]
  },
  {
   "cell_type": "markdown",
   "metadata": {},
   "source": [
    "## HSExposure"
   ]
  },
  {
   "cell_type": "markdown",
   "metadata": {},
   "source": [
    "https://biopython.org/wiki/The_Biopython_Structural_Bioinformatics_FAQ"
   ]
  },
  {
   "cell_type": "markdown",
   "metadata": {},
   "source": [
    "## `HSExposureCB`"
   ]
  },
  {
   "cell_type": "code",
   "execution_count": 12,
   "metadata": {},
   "outputs": [],
   "source": [
    "exposures_cb = HSExposureCB(chain, 13)"
   ]
  },
  {
   "cell_type": "code",
   "execution_count": 13,
   "metadata": {},
   "outputs": [
    {
     "data": {
      "text/plain": [
       "242"
      ]
     },
     "execution_count": 13,
     "metadata": {},
     "output_type": "execute_result"
    }
   ],
   "source": [
    "len(exposures_cb)"
   ]
  },
  {
   "cell_type": "markdown",
   "metadata": {},
   "source": [
    "### Missing residues after calculation"
   ]
  },
  {
   "cell_type": "code",
   "execution_count": 14,
   "metadata": {},
   "outputs": [
    {
     "name": "stdout",
     "output_type": "stream",
     "text": [
      "Residues with missing HSExposureCB calculation: {131, 141, 143, 144, 501, 253}\n"
     ]
    }
   ],
   "source": [
    "residue_ids_hse_cb = [r[0].id[1] for r in exposures_cb.property_list]\n",
    "missing_hse_cb = set(residue_ids) - set(residue_ids_hse_cb)\n",
    "print(f'Residues with missing HSExposureCB calculation: {missing_hse_cb}')"
   ]
  },
  {
   "cell_type": "code",
   "execution_count": 15,
   "metadata": {},
   "outputs": [
    {
     "name": "stdout",
     "output_type": "stream",
     "text": [
      "<Residue GLU het=  resseq=131 icode= >\n",
      "[<Atom N>, <Atom CA>, <Atom C>, <Atom O>]\n",
      "\n",
      "<Residue LYS het=  resseq=141 icode= >\n",
      "[<Atom N>, <Atom CA>, <Atom C>, <Atom O>]\n",
      "\n",
      "<Residue LYS het=  resseq=143 icode= >\n",
      "[<Atom N>, <Atom CA>, <Atom C>, <Atom O>]\n",
      "\n",
      "<Residue PHE het=  resseq=144 icode= >\n",
      "[<Atom N>, <Atom CA>, <Atom C>, <Atom O>]\n",
      "\n",
      "<Residue ILE het=  resseq=253 icode= >\n",
      "[<Atom N>, <Atom CA>, <Atom C>, <Atom O>]\n",
      "\n",
      "<Residue ACP het=H_ACP resseq=501 icode= >\n",
      "[<Atom PG>, <Atom O1G>, <Atom O2G>, <Atom O3G>, <Atom PB>, <Atom O1B>, <Atom O2B>, <Atom C3B>, <Atom PA>, <Atom O1A>, <Atom O2A>, <Atom O3A>, <Atom O5'>, <Atom C5'>, <Atom C4'>, <Atom O4'>, <Atom C3'>, <Atom O3'>, <Atom C2'>, <Atom O2'>, <Atom C1'>, <Atom N9>, <Atom C8>, <Atom N7>, <Atom C5>, <Atom C6>, <Atom N6>, <Atom N1>, <Atom C2>, <Atom N3>, <Atom C4>]\n",
      "\n"
     ]
    }
   ],
   "source": [
    "for r in residues:\n",
    "    if r.id[1] in missing_hse_cb:\n",
    "        print(r)\n",
    "        print(list(r.get_atoms()))\n",
    "        print()"
   ]
  },
  {
   "cell_type": "markdown",
   "metadata": {},
   "source": [
    "These are all non-GLY residues without CB atom, so we are not able to calculate `HSExposureCB`."
   ]
  },
  {
   "cell_type": "markdown",
   "metadata": {},
   "source": [
    "### Pseudo-CB coordinates"
   ]
  },
  {
   "cell_type": "code",
   "execution_count": 16,
   "metadata": {},
   "outputs": [
    {
     "data": {
      "text/plain": [
       "[(<Vector -8.03, 23.35, 20.43>, <Vector -7.41, 24.55, 19.89>),\n",
       " (<Vector -0.11, 16.57, 15.27>, <Vector 1.29, 16.93, 15.20>),\n",
       " (<Vector 3.05, 10.92, 16.51>, <Vector 4.32, 11.61, 16.65>)]"
      ]
     },
     "execution_count": 16,
     "metadata": {},
     "output_type": "execute_result"
    }
   ],
   "source": [
    "# These should refer to GLY residues\n",
    "hse_cb_coord = exposures_cb.ca_cb_list\n",
    "hse_cb_coord[:3]"
   ]
  },
  {
   "cell_type": "code",
   "execution_count": 17,
   "metadata": {},
   "outputs": [
    {
     "data": {
      "text/plain": [
       "[<Residue GLY het=  resseq=136 icode= >,\n",
       " <Residue GLY het=  resseq=140 icode= >,\n",
       " <Residue GLY het=  resseq=142 icode= >,\n",
       " <Residue GLY het=  resseq=145 icode= >,\n",
       " <Residue GLY het=  resseq=173 icode= >,\n",
       " <Residue GLY het=  resseq=198 icode= >,\n",
       " <Residue GLY het=  resseq=216 icode= >,\n",
       " <Residue GLY het=  resseq=265 icode= >,\n",
       " <Residue GLY het=  resseq=268 icode= >,\n",
       " <Residue GLY het=  resseq=291 icode= >,\n",
       " <Residue GLY het=  resseq=303 icode= >,\n",
       " <Residue GLY het=  resseq=316 icode= >,\n",
       " <Residue GLY het=  resseq=325 icode= >,\n",
       " <Residue GLY het=  resseq=355 icode= >]"
      ]
     },
     "execution_count": 17,
     "metadata": {},
     "output_type": "execute_result"
    }
   ],
   "source": [
    "[residue for residue in residues if residue.get_resname() == 'GLY']"
   ]
  },
  {
   "cell_type": "code",
   "execution_count": 18,
   "metadata": {},
   "outputs": [
    {
     "data": {
      "text/plain": [
       "[<Vector -8.03, 23.35, 20.43>,\n",
       " <Vector -0.11, 16.57, 15.27>,\n",
       " <Vector 3.05, 10.92, 16.51>]"
      ]
     },
     "execution_count": 18,
     "metadata": {},
     "output_type": "execute_result"
    }
   ],
   "source": [
    "residue_ca_coord = [residue['CA'].get_vector() for residue in residues if residue.get_resname() == 'GLY']\n",
    "residue_ca_coord[:3]"
   ]
  },
  {
   "cell_type": "code",
   "execution_count": 19,
   "metadata": {},
   "outputs": [
    {
     "name": "stdout",
     "output_type": "stream",
     "text": [
      "[ True  True  True]\n",
      "[ True  True  True]\n",
      "[ True  True  True]\n",
      "[ True  True  True]\n",
      "[ True  True  True]\n",
      "[ True  True  True]\n",
      "[ True  True  True]\n",
      "[ True  True  True]\n",
      "[ True  True  True]\n",
      "[ True  True  True]\n",
      "[ True  True  True]\n",
      "[ True  True  True]\n",
      "[ True  True  True]\n",
      "[ True  True  True]\n"
     ]
    }
   ],
   "source": [
    "for i, j in zip(hse_cb_coord, residue_ca_coord):\n",
    "    print(i[0].get_array() == j.get_array())"
   ]
  },
  {
   "cell_type": "markdown",
   "metadata": {},
   "source": [
    "## `HSExposureCA`"
   ]
  },
  {
   "cell_type": "code",
   "execution_count": 20,
   "metadata": {},
   "outputs": [],
   "source": [
    "exposures_ca = HSExposureCA(chain, 13)"
   ]
  },
  {
   "cell_type": "code",
   "execution_count": 21,
   "metadata": {},
   "outputs": [
    {
     "data": {
      "text/plain": [
       "243"
      ]
     },
     "execution_count": 21,
     "metadata": {},
     "output_type": "execute_result"
    }
   ],
   "source": [
    "len(exposures_ca)"
   ]
  },
  {
   "cell_type": "markdown",
   "metadata": {},
   "source": [
    "### Missing residues after calculation"
   ]
  },
  {
   "cell_type": "code",
   "execution_count": 22,
   "metadata": {},
   "outputs": [
    {
     "name": "stdout",
     "output_type": "stream",
     "text": [
      "Residues with missing HSExposureCA calculation: {291, 388, 275, 501, 127}\n"
     ]
    }
   ],
   "source": [
    "residue_ids_hse_ca = [r[0].id[1] for r in exposures_ca.property_list]\n",
    "missing_hse_ca = set(residue_ids) - set(residue_ids_hse_ca)\n",
    "print(f'Residues with missing HSExposureCA calculation: {missing_hse_ca}')"
   ]
  },
  {
   "cell_type": "markdown",
   "metadata": {},
   "source": [
    "These are all residues at beginning, end or gap in chain, where we do not have three residues (CA) in a row to calculate `HSExposureCA`."
   ]
  },
  {
   "cell_type": "markdown",
   "metadata": {},
   "source": [
    "### Pseudo-CB coordinates"
   ]
  },
  {
   "cell_type": "code",
   "execution_count": 23,
   "metadata": {},
   "outputs": [
    {
     "data": {
      "text/plain": [
       "256"
      ]
     },
     "execution_count": 23,
     "metadata": {},
     "output_type": "execute_result"
    }
   ],
   "source": [
    "len(exposures_ca.ca_cb_list)"
   ]
  },
  {
   "cell_type": "markdown",
   "metadata": {},
   "source": [
    "### Map residues to `HSExposureCA/B.ca_cb_list`"
   ]
  },
  {
   "cell_type": "code",
   "execution_count": 24,
   "metadata": {},
   "outputs": [],
   "source": [
    "def _get_residues_list(exposures, method):\n",
    "    \n",
    "    if method == 'HSExposureCB':\n",
    "        residues_list = [i[0] for i in exposures.property_list if i[0].get_resname() == 'GLY']\n",
    "        \n",
    "    elif method == 'HSExposureCA':\n",
    "        residues_list = []\n",
    "        for i in exposures.property_list:\n",
    "            \n",
    "            if i[0].get_resname() == 'GLY':  # If GLY add residue twice...\n",
    "                residues_list.extend([i[0], i[0]])\n",
    "            else:\n",
    "                residues_list.append(i[0])\n",
    "    \n",
    "    else:\n",
    "        pass\n",
    "                \n",
    "    return residues_list"
   ]
  },
  {
   "cell_type": "code",
   "execution_count": 25,
   "metadata": {},
   "outputs": [],
   "source": [
    "def _map_residue2exposures(residues_list, exposures):\n",
    "    \n",
    "    hse_cb_coord = exposures.ca_cb_list\n",
    "    \n",
    "    if len(hse_cb_coord) != len(residues_list):\n",
    "        raise ValueError(f'Bla.')\n",
    "        \n",
    "    data = []\n",
    "    \n",
    "    for i, j in zip(residues_list, hse_cb_coord):\n",
    "        \n",
    "        data.append(\n",
    "            [\n",
    "                i.id[1], \n",
    "                i.get_resname(), \n",
    "                i['CA'].get_vector(), \n",
    "                j[0], \n",
    "                j[1]]\n",
    "        )\n",
    "        \n",
    "    data = pd.DataFrame(data, columns='residue_id residue_name residue_CA HSE_CA HSE_pCB'.split())\n",
    "    data.set_index('residue_id', inplace=True)\n",
    "    \n",
    "    # Check if \n",
    "    CA_bool = []\n",
    "\n",
    "    for index, row in data.iterrows():\n",
    "        CA_bool.append(all(row.residue_CA.get_array() == row.HSE_CA.get_array()))\n",
    "        \n",
    "    if not all(CA_bool):\n",
    "        raise ValueError(f'Not matching.')\n",
    "        \n",
    "    return data"
   ]
  },
  {
   "cell_type": "code",
   "execution_count": 26,
   "metadata": {},
   "outputs": [],
   "source": [
    "def _get_pCB_coordinate(residue_id, exposures, method):\n",
    "    \n",
    "    residues_list = _get_residues_list(exposures, method)\n",
    "    data = _map_residue2exposures(residues_list, exposures)\n",
    "    \n",
    "    if residue_id not in data.index:\n",
    "        raise IndexError(f'Residue ID is no GLY.')\n",
    "    \n",
    "    return data.loc[residue_id, 'HSE_pCB']"
   ]
  },
  {
   "cell_type": "code",
   "execution_count": 27,
   "metadata": {},
   "outputs": [
    {
     "data": {
      "text/plain": [
       "residue_id\n",
       "136    <Vector -8.38, 24.25, 20.18>\n",
       "136    <Vector -7.41, 24.55, 19.89>\n",
       "Name: HSE_pCB, dtype: object"
      ]
     },
     "execution_count": 27,
     "metadata": {},
     "output_type": "execute_result"
    }
   ],
   "source": [
    "data = _get_pCB_coordinate(136, exposures_ca, 'HSExposureCA')\n",
    "data"
   ]
  },
  {
   "cell_type": "code",
   "execution_count": 28,
   "metadata": {},
   "outputs": [
    {
     "data": {
      "text/plain": [
       "<Vector -7.41, 24.55, 19.89>"
      ]
     },
     "execution_count": 28,
     "metadata": {},
     "output_type": "execute_result"
    }
   ],
   "source": [
    "data = _get_pCB_coordinate(136, exposures_cb, 'HSExposureCB')\n",
    "data"
   ]
  },
  {
   "cell_type": "markdown",
   "metadata": {},
   "source": [
    "## Use only selected residues?"
   ]
  },
  {
   "cell_type": "code",
   "execution_count": 29,
   "metadata": {},
   "outputs": [],
   "source": [
    "from Bio.PDB.Chain import Chain"
   ]
  },
  {
   "cell_type": "code",
   "execution_count": 30,
   "metadata": {},
   "outputs": [],
   "source": [
    "def _get_pcb_from_gly(residue):\n",
    "    \n",
    "    try:\n",
    "        if residue.get_resname() != 'GLY':\n",
    "            raise ValueError(f'Residue is not GLY, but {residue.get_resname()}.')\n",
    "    except KeyError:\n",
    "        raise ValueError(f'Residue is not GLY, but non-standard residues.')\n",
    "    \n",
    "    \n",
    "    try:\n",
    "        CA = residue['CA'].get_vector()\n",
    "        pCB = HSExposureCB(Chain(id='X'))._get_gly_cb_vector(residue)\n",
    "        CA_pCB = CA + pCB\n",
    "        return CA_pCB\n",
    "        \n",
    "    except KeyError:\n",
    "        return None"
   ]
  },
  {
   "cell_type": "code",
   "execution_count": 31,
   "metadata": {},
   "outputs": [
    {
     "data": {
      "text/plain": [
       "<Vector -7.41, 24.55, 19.89>"
      ]
     },
     "execution_count": 31,
     "metadata": {},
     "output_type": "execute_result"
    }
   ],
   "source": [
    "_get_pcb_from_gly(residues[9])"
   ]
  },
  {
   "cell_type": "code",
   "execution_count": 32,
   "metadata": {},
   "outputs": [],
   "source": [
    "def _get_pcb_from_residue(residue, chain):\n",
    "    \"\"\"WIP\"\"\"\n",
    "    \n",
    "    try:\n",
    "        if residue.get_resname() == 'GLY':\n",
    "            raise ValueError(f'Residue is GLY, please GLY method instead.')\n",
    "    except KeyError:\n",
    "        pass\n",
    "    \n",
    "    try:\n",
    "        CA = residue['CA'].get_vector()\n",
    "        pCB = HSExposureCA(Chain(id='X'))._get_cb(residue1, residue2, residue3)\n",
    "        CA_pCB = CA + pCB[0]\n",
    "        return CA_pCB\n",
    "        \n",
    "    except KeyError:\n",
    "        return None"
   ]
  }
 ],
 "metadata": {
  "kernelspec": {
   "display_name": "kinsim",
   "language": "python",
   "name": "kinsim"
  },
  "language_info": {
   "codemirror_mode": {
    "name": "ipython",
    "version": 3
   },
   "file_extension": ".py",
   "mimetype": "text/x-python",
   "name": "python",
   "nbconvert_exporter": "python",
   "pygments_lexer": "ipython3",
   "version": "3.6.7"
  }
 },
 "nbformat": 4,
 "nbformat_minor": 4
}
