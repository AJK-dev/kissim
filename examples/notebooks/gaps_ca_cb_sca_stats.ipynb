{
 "cells": [
  {
   "cell_type": "markdown",
   "metadata": {},
   "source": [
    "# Statistics on missing CA and CB atoms AND side chain angles"
   ]
  },
  {
   "cell_type": "markdown",
   "metadata": {},
   "source": [
    "## Aims of this notebook\n",
    "\n",
    "### 1. Missing CA and CB atoms\n",
    "\n",
    "In our fingerprint, both the exposure and side chain angle features are dependent on CA and CB atoms.\n",
    "Here, we investigate where and overall how often these atoms are missing in the KLIFS data.\n",
    "\n",
    "1. Get for each KLIFS molecule CA and CB atom coordinates per residue position.\n",
    "2. Calculate missing atom rate per residue position: CA, CB and CA+CB missing.\n",
    "\n",
    "### 2. Side chain angle (SCA) distribution\n",
    "\n",
    "Side chain angles describe the angle between Ca, Cb, and residue centroid (without backbone atoms and hydrogens). \n",
    "\n",
    "Small amino acids (with tiny side chains) should not show much angle diversion (with smaller angles), larger ones should (with larger angles).\n",
    "\n",
    "1. Calculate for each amino acid the angle distribution.\n",
    "2. Save molecule and residue code for each angle, in order to trace back interesting angles.\n",
    "3. Check diversity of angles per amino acid. If no diversity observed, side chain angle might not be such a good measure, since it does not depend on structural conformation but solely on amino acid type."
   ]
  },
  {
   "cell_type": "markdown",
   "metadata": {},
   "source": [
    "## Imports"
   ]
  },
  {
   "cell_type": "code",
   "execution_count": 1,
   "metadata": {},
   "outputs": [],
   "source": [
    "%load_ext autoreload"
   ]
  },
  {
   "cell_type": "code",
   "execution_count": 2,
   "metadata": {},
   "outputs": [],
   "source": [
    "%autoreload 2"
   ]
  },
  {
   "cell_type": "code",
   "execution_count": 3,
   "metadata": {
    "scrolled": true
   },
   "outputs": [],
   "source": [
    "from pathlib import Path\n",
    "import sys\n",
    "import warnings\n",
    "\n",
    "import matplotlib.pyplot as plt\n",
    "import numpy as np\n",
    "import pandas as pd\n",
    "import seaborn as sns\n",
    "\n",
    "sys.path.append('../..')\n",
    "from kinsim_structure.auxiliary import KlifsMoleculeLoader\n",
    "from kinsim_structure.analysis import GapRate, SideChainAngleGenerator, SideChainAngleAnalyser\n",
    "\n",
    "sns.set()\n",
    "%matplotlib inline"
   ]
  },
  {
   "cell_type": "code",
   "execution_count": 4,
   "metadata": {},
   "outputs": [],
   "source": [
    "warnings.filterwarnings(action='once')"
   ]
  },
  {
   "cell_type": "markdown",
   "metadata": {},
   "source": [
    "## IO paths"
   ]
  },
  {
   "cell_type": "code",
   "execution_count": 5,
   "metadata": {},
   "outputs": [],
   "source": [
    "path_to_kinsim = Path('.') / '..' / '..'\n",
    "path_to_data = path_to_kinsim / 'examples' / 'data'\n",
    "path_to_results = path_to_kinsim / 'examples' / 'results' / 'features' / 'sca_centroid_wo_backbone' "
   ]
  },
  {
   "cell_type": "markdown",
   "metadata": {},
   "source": [
    "## Load KLIFS metadata"
   ]
  },
  {
   "cell_type": "code",
   "execution_count": 6,
   "metadata": {},
   "outputs": [],
   "source": [
    "klifs_metadata = pd.read_csv(path_to_data / 'postprocessed' / 'klifs_metadata_postprocessed.csv' , index_col=0)"
   ]
  },
  {
   "cell_type": "code",
   "execution_count": 7,
   "metadata": {},
   "outputs": [
    {
     "data": {
      "text/plain": [
       "(3878, 23)"
      ]
     },
     "execution_count": 7,
     "metadata": {},
     "output_type": "execute_result"
    }
   ],
   "source": [
    "klifs_metadata.shape"
   ]
  },
  {
   "cell_type": "markdown",
   "metadata": {
    "toc-hr-collapsed": true
   },
   "source": [
    "## Data generation"
   ]
  },
  {
   "cell_type": "markdown",
   "metadata": {},
   "source": [
    "### Gap rate"
   ]
  },
  {
   "cell_type": "code",
   "execution_count": null,
   "metadata": {},
   "outputs": [],
   "source": [
    "gap_rate = GapRate(klifs_metadata)"
   ]
  },
  {
   "cell_type": "markdown",
   "metadata": {},
   "source": [
    "### Side chain angle"
   ]
  },
  {
   "cell_type": "raw",
   "metadata": {},
   "source": [
    "side_chain_angle_generator = SideChainAngleGenerator()\n",
    "%time side_chain_angle_generator.get_side_chain_angles(klifs_metadata)\n",
    "\n",
    "#CPU times: user 10.3 s, sys: 788 ms, total: 11.1 s\n",
    "#Wall time: 4min 36s"
   ]
  },
  {
   "cell_type": "raw",
   "metadata": {},
   "source": [
    "side_chain_angle_generator.save_data(path_to_results / 'side_chain_angles.csv')"
   ]
  },
  {
   "cell_type": "markdown",
   "metadata": {
    "toc-hr-collapsed": false
   },
   "source": [
    "## Data analysis"
   ]
  },
  {
   "cell_type": "markdown",
   "metadata": {},
   "source": [
    "### Gap rate"
   ]
  },
  {
   "cell_type": "code",
   "execution_count": null,
   "metadata": {},
   "outputs": [],
   "source": [
    "gap_rate.plot_gap_rate(\n",
    "    path_to_results\n",
    ")"
   ]
  },
  {
   "cell_type": "markdown",
   "metadata": {},
   "source": [
    "### Missing CA and CB atoms"
   ]
  },
  {
   "cell_type": "code",
   "execution_count": null,
   "metadata": {},
   "outputs": [],
   "source": [
    "side_chain_angle_analyser = SideChainAngleAnalyser()\n",
    "side_chain_angle_analyser.load_data(path_to_results / 'side_chain_angles.csv')"
   ]
  },
  {
   "cell_type": "code",
   "execution_count": null,
   "metadata": {},
   "outputs": [],
   "source": [
    "side_chain_angle_analyser.data.head()"
   ]
  },
  {
   "cell_type": "code",
   "execution_count": null,
   "metadata": {},
   "outputs": [],
   "source": [
    "side_chain_angle_analyser.data.shape"
   ]
  },
  {
   "cell_type": "code",
   "execution_count": null,
   "metadata": {},
   "outputs": [],
   "source": [
    "side_chain_angle_analyser.get_missing_residues_ca_cb(gap_rate)"
   ]
  },
  {
   "cell_type": "code",
   "execution_count": null,
   "metadata": {},
   "outputs": [],
   "source": [
    "side_chain_angle_analyser.plot_missing_residues_ca_cb(\n",
    "    path_to_results\n",
    ")"
   ]
  },
  {
   "cell_type": "code",
   "execution_count": null,
   "metadata": {},
   "outputs": [],
   "source": [
    "# How many residues have a missing Cb but are not GLY?\n",
    "side_chain_angle_analyser.data[\n",
    "    (side_chain_angle_analyser.data.cb.isna()) &\n",
    "    (side_chain_angle_analyser.data.residue_name != 'GLY')\n",
    "].shape"
   ]
  },
  {
   "cell_type": "markdown",
   "metadata": {},
   "source": [
    "### SCA angle distribution"
   ]
  },
  {
   "cell_type": "code",
   "execution_count": null,
   "metadata": {},
   "outputs": [],
   "source": [
    "side_chain_angle_analyser.plot_side_chain_angle_distribution(\n",
    "    path_to_results, \n",
    "    kind='violin'\n",
    ")"
   ]
  },
  {
   "cell_type": "code",
   "execution_count": null,
   "metadata": {},
   "outputs": [],
   "source": [
    "side_chain_angle_analyser.plot_side_chain_angle_distribution(\n",
    "    path_to_results, \n",
    "    kind='histograms'\n",
    ")"
   ]
  },
  {
   "cell_type": "markdown",
   "metadata": {},
   "source": [
    "### SCA statistics"
   ]
  },
  {
   "cell_type": "code",
   "execution_count": null,
   "metadata": {},
   "outputs": [],
   "source": [
    "side_chain_angle_analyser.data[['residue_name', 'sca']].groupby('residue_name').describe()"
   ]
  },
  {
   "cell_type": "markdown",
   "metadata": {},
   "source": [
    "Look at extreme (unexpected values)..."
   ]
  },
  {
   "cell_type": "code",
   "execution_count": null,
   "metadata": {},
   "outputs": [],
   "source": [
    "side_chain_angle_analyser.data[\n",
    "    (side_chain_angle_analyser.data.residue_name == 'TYR') & (side_chain_angle_analyser.data.sca == 180)\n",
    "].head()"
   ]
  },
  {
   "cell_type": "markdown",
   "metadata": {},
   "source": [
    "### Visualize SCAs"
   ]
  },
  {
   "cell_type": "code",
   "execution_count": 8,
   "metadata": {},
   "outputs": [
    {
     "data": {
      "application/vnd.jupyter.widget-view+json": {
       "model_id": "2e0f7789a3f54f8da6ae824671d27a61",
       "version_major": 2,
       "version_minor": 0
      },
      "text/plain": [
       "_ColormakerRegistry()"
      ]
     },
     "metadata": {},
     "output_type": "display_data"
    },
    {
     "name": "stderr",
     "output_type": "stream",
     "text": [
      "/home/dominique/anaconda2/envs/kinsim/lib/python3.6/site-packages/nglview/widget.py:162: DeprecationWarning: Traits should be given as instances, not types (for example, `Int()`, not `Int`). Passing types is deprecated in traitlets 4.1.\n",
      "  _ngl_view_id = List(Unicode).tag(sync=True)\n"
     ]
    }
   ],
   "source": [
    "import time\n",
    "\n",
    "import nglview as nv\n",
    "\n",
    "from kinsim_structure.auxiliary import split_klifs_code"
   ]
  },
  {
   "cell_type": "code",
   "execution_count": null,
   "metadata": {},
   "outputs": [],
   "source": [
    "sca_data_grouped = list(side_chain_angle_analyser.data.groupby('klifs_code'))\n",
    "sca_data = sca_data_grouped[1][1]"
   ]
  },
  {
   "cell_type": "code",
   "execution_count": null,
   "metadata": {},
   "outputs": [],
   "source": [
    "def create_viewer(sca_data):\n",
    "\n",
    "    klifs_code = split_klifs_code(sca_data.klifs_code.iloc[0])\n",
    "\n",
    "    pdb_id = klifs_code['pdb_id']\n",
    "    chain = klifs_code['chain']\n",
    "\n",
    "    viewer = nv.NGLWidget()\n",
    "    viewer.add_pdbid(pdb_id)\n",
    "    viewer.add_representation(repr_type='cartoon', selection='all')\n",
    "    viewer.remove_ball_and_stick()\n",
    "\n",
    "    return viewer"
   ]
  },
  {
   "cell_type": "code",
   "execution_count": null,
   "metadata": {},
   "outputs": [],
   "source": [
    "def show_sca_features(viewer, sca_data): \n",
    "\n",
    "    klifs_code = split_klifs_code(sca_data.klifs_code.iloc[0])\n",
    "\n",
    "    pdb_id = klifs_code['pdb_id']\n",
    "    chain = klifs_code['chain']\n",
    "    \n",
    "    # Representation parameters\n",
    "    sphere_radius = 0.3\n",
    "\n",
    "    colors = {\n",
    "        'ca': [1, 0, 0],\n",
    "        'cb': [0, 1, 0],\n",
    "        'centroid': [0, 0, 1]\n",
    "    }\n",
    "\n",
    "    # Show side chain angle feature per residue\n",
    "    for index, row in sca_data.iterrows():\n",
    "\n",
    "        res_id = row.residue_id\n",
    "\n",
    "        try:\n",
    "            ca = list(row.ca.get_array())\n",
    "        except AttributeError:\n",
    "            pass\n",
    "\n",
    "        try:\n",
    "            cb = list(row.cb.get_array())\n",
    "        except AttributeError:\n",
    "            pass\n",
    "\n",
    "        try:\n",
    "            centroid = list(row.centroid.get_array())\n",
    "        except AttributeError:\n",
    "            pass\n",
    "\n",
    "        selection = f'{res_id}:{chain}'\n",
    "\n",
    "        viewer.add_representation(repr_type='line', selection=selection)\n",
    "        viewer.shape.add_sphere(ca, colors['ca'], sphere_radius)\n",
    "        viewer.shape.add_sphere(cb, colors['cb'], sphere_radius)\n",
    "        viewer.shape.add_sphere(centroid, colors['centroid'], sphere_radius)"
   ]
  },
  {
   "cell_type": "code",
   "execution_count": null,
   "metadata": {},
   "outputs": [],
   "source": [
    "def center_on(viewer, sca_data, res_id):\n",
    "    \n",
    "    klifs_code = split_klifs_code(sca_data.klifs_code.iloc[0])\n",
    "\n",
    "    pdb_id = klifs_code['pdb_id']\n",
    "    chain = klifs_code['chain']\n",
    "    \n",
    "    selection = f'{res_id}:{chain}'\n",
    "        \n",
    "    viewer.remove_ball_and_stick()\n",
    "    viewer.add_ball_and_stick(selection=selection)\n",
    "    viewer.center(selection=selection)"
   ]
  },
  {
   "cell_type": "code",
   "execution_count": null,
   "metadata": {},
   "outputs": [],
   "source": [
    "viewer = create_viewer(sca_data)\n",
    "viewer"
   ]
  },
  {
   "cell_type": "code",
   "execution_count": null,
   "metadata": {},
   "outputs": [],
   "source": [
    "show_sca_features(viewer, sca_data)"
   ]
  },
  {
   "cell_type": "code",
   "execution_count": null,
   "metadata": {},
   "outputs": [],
   "source": [
    "center_on(viewer, sca_data, 1121)"
   ]
  },
  {
   "cell_type": "markdown",
   "metadata": {},
   "source": [
    "### SCA mean and median"
   ]
  },
  {
   "cell_type": "markdown",
   "metadata": {},
   "source": [
    "Get mean and median of side chain angles per amino acid and save to file. \n",
    "Use these values for residues with missing Ca/Cb atoms."
   ]
  },
  {
   "cell_type": "code",
   "execution_count": null,
   "metadata": {
    "scrolled": true
   },
   "outputs": [],
   "source": [
    "side_chain_angle_analyser.get_mean_median(\n",
    "    from_file=path_to_results / 'stats_missing_ca_cb_and_sca.p'\n",
    ")"
   ]
  }
 ],
 "metadata": {
  "kernelspec": {
   "display_name": "kinsim",
   "language": "python",
   "name": "kinsim"
  },
  "language_info": {
   "codemirror_mode": {
    "name": "ipython",
    "version": 3
   },
   "file_extension": ".py",
   "mimetype": "text/x-python",
   "name": "python",
   "nbconvert_exporter": "python",
   "pygments_lexer": "ipython3",
   "version": "3.6.7"
  }
 },
 "nbformat": 4,
 "nbformat_minor": 4
}
