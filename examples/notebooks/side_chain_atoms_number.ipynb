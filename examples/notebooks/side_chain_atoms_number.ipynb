{
 "cells": [
  {
   "cell_type": "markdown",
   "metadata": {},
   "source": [
    "# Number of side chain atoms\n",
    "\n",
    "Definition of side chain atoms:\n",
    "\n",
    "- heavy atom\n",
    "- not backbone atom \n",
    "- not terminal carboxy O atom\n",
    "\n",
    "For all KLIFS structures, check number of atoms matching these conditions. Check if in agreement with manual atom number assignment:"
   ]
  },
  {
   "cell_type": "code",
   "execution_count": 1,
   "metadata": {},
   "outputs": [],
   "source": [
    "N_HEAVY_ATOMS = {\n",
    "    'ALA': 1,\n",
    "    'ARG': 7,\n",
    "    'ASN': 4,\n",
    "    'ASP': 4,\n",
    "    'CYS': 2,\n",
    "    'GLN': 5,\n",
    "    'GLU': 5,\n",
    "    'GLY': 0,\n",
    "    'HIS': 6,\n",
    "    'ILE': 4,\n",
    "    'LEU': 4,\n",
    "    'LYS': 5,\n",
    "    'MET': 4,\n",
    "    'PHE': 7,\n",
    "    'PRO': 3,\n",
    "    'SER': 2,\n",
    "    'THR': 3,\n",
    "    'TRP': 10,\n",
    "    'TYR': 8,\n",
    "    'VAL': 3\n",
    "}"
   ]
  },
  {
   "cell_type": "markdown",
   "metadata": {},
   "source": [
    "## Imports"
   ]
  },
  {
   "cell_type": "code",
   "execution_count": 2,
   "metadata": {},
   "outputs": [],
   "source": [
    "%load_ext autoreload"
   ]
  },
  {
   "cell_type": "code",
   "execution_count": 3,
   "metadata": {},
   "outputs": [],
   "source": [
    "%autoreload 2"
   ]
  },
  {
   "cell_type": "code",
   "execution_count": 4,
   "metadata": {},
   "outputs": [
    {
     "data": {
      "application/vnd.jupyter.widget-view+json": {
       "model_id": "3ff16879560746ff8ace9cb67efbe832",
       "version_major": 2,
       "version_minor": 0
      },
      "text/plain": [
       "_ColormakerRegistry()"
      ]
     },
     "metadata": {},
     "output_type": "display_data"
    }
   ],
   "source": [
    "import multiprocessing\n",
    "from pathlib import Path\n",
    "import pickle\n",
    "import sys\n",
    "\n",
    "import nglview as nv\n",
    "import pandas as pd\n",
    "\n",
    "sys.path.append('./../..')\n",
    "from kissim.auxiliary import PdbChainLoader "
   ]
  },
  {
   "cell_type": "markdown",
   "metadata": {},
   "source": [
    "## IO paths"
   ]
  },
  {
   "cell_type": "code",
   "execution_count": 5,
   "metadata": {},
   "outputs": [],
   "source": [
    "path_to_kinsim = Path('.') / '..' / '..'\n",
    "path_to_data = path_to_kinsim / 'examples' / 'data'\n",
    "path_to_results = path_to_kinsim / 'examples' / 'results' / 'features' / 'sca_centroid_wo_backbone' "
   ]
  },
  {
   "cell_type": "markdown",
   "metadata": {},
   "source": [
    "## Load KLIFS metadata"
   ]
  },
  {
   "cell_type": "code",
   "execution_count": 6,
   "metadata": {},
   "outputs": [],
   "source": [
    "klifs_metadata = pd.read_csv(path_to_data / 'postprocessed' / 'klifs_metadata_postprocessed.csv' , index_col=0)"
   ]
  },
  {
   "cell_type": "code",
   "execution_count": 7,
   "metadata": {},
   "outputs": [
    {
     "data": {
      "text/plain": [
       "(3878, 23)"
      ]
     },
     "execution_count": 7,
     "metadata": {},
     "output_type": "execute_result"
    }
   ],
   "source": [
    "klifs_metadata.shape"
   ]
  },
  {
   "cell_type": "markdown",
   "metadata": {},
   "source": [
    "## Data generation"
   ]
  },
  {
   "cell_type": "code",
   "execution_count": null,
   "metadata": {},
   "outputs": [],
   "source": [
    "klifs_metadata_entry = klifs_metadata.iloc[0].squeeze()"
   ]
  },
  {
   "cell_type": "code",
   "execution_count": 8,
   "metadata": {},
   "outputs": [],
   "source": [
    "def get_atoms_from_residue(klifs_metadata_entry):\n",
    "    \n",
    "    pdb = PdbChainLoader(klifs_metadata_entry=klifs_metadata_entry)\n",
    "    \n",
    "    results = []\n",
    "\n",
    "    for residue in pdb.chain.get_residues():\n",
    "\n",
    "        heavy_atoms = [atom for atom in residue.get_atoms() if (atom.fullname not in 'N CA C O OXT'.split()) & (not atom.get_id().startswith('H'))]\n",
    "        \n",
    "        results.append(\n",
    "            [residue.get_id()[1], residue.get_resname(), len(heavy_atoms), klifs_metadata_entry.code]\n",
    "        )\n",
    "\n",
    "    return pd.DataFrame(results, columns='residue_id residue_name n_heavy_atoms klifs_code'.split())"
   ]
  },
  {
   "cell_type": "code",
   "execution_count": 9,
   "metadata": {},
   "outputs": [],
   "source": [
    "def get_atoms_from_residues(klifs_metadata):\n",
    "    \n",
    "    # Number of CPUs on machine\n",
    "    num_cores = multiprocessing.cpu_count() - 1\n",
    "\n",
    "    # List of entries to be processed\n",
    "    entry_list = [j for i, j in klifs_metadata.iterrows()]\n",
    "    print(f'{len(entry_list)} entries to be processed.')\n",
    "\n",
    "    # Create pool with `num_cores` processes\n",
    "    pool = multiprocessing.Pool(processes=num_cores)\n",
    "\n",
    "    # Apply function to each chunk in list\n",
    "    results = pool.map(get_atoms_from_residue, entry_list)\n",
    "    print(f'{len(results)} entries processed.')\n",
    "\n",
    "    pool.close()\n",
    "    pool.join()\n",
    "    \n",
    "    return pd.concat(results, axis=0)"
   ]
  },
  {
   "cell_type": "raw",
   "metadata": {},
   "source": [
    "%time data = get_atoms_from_residues(klifs_metadata)\n",
    "\n",
    "\"\"\"\n",
    "3878 entries to be processed.\n",
    "3878 entries processed.\n",
    "CPU times: user 9.75 s, sys: 545 ms, total: 10.3 s\n",
    "Wall time: 20min 16s\n",
    "\"\"\""
   ]
  },
  {
   "cell_type": "raw",
   "metadata": {},
   "source": [
    "with open(path_to_results / 'number_side_chain_atoms.p', 'wb') as f:\n",
    "    pickle.dump(data, f)"
   ]
  },
  {
   "cell_type": "markdown",
   "metadata": {},
   "source": [
    "## Data analysis"
   ]
  },
  {
   "cell_type": "code",
   "execution_count": 10,
   "metadata": {},
   "outputs": [],
   "source": [
    "with open(path_to_results / 'number_side_chain_atoms.p', 'rb') as f:\n",
    "    data = pickle.load(f)"
   ]
  },
  {
   "cell_type": "markdown",
   "metadata": {},
   "source": [
    "### Statistics"
   ]
  },
  {
   "cell_type": "code",
   "execution_count": 11,
   "metadata": {},
   "outputs": [],
   "source": [
    "stats = data.groupby('residue_name').describe()"
   ]
  },
  {
   "cell_type": "code",
   "execution_count": 13,
   "metadata": {},
   "outputs": [
    {
     "data": {
      "text/html": [
       "<div>\n",
       "<style scoped>\n",
       "    .dataframe tbody tr th:only-of-type {\n",
       "        vertical-align: middle;\n",
       "    }\n",
       "\n",
       "    .dataframe tbody tr th {\n",
       "        vertical-align: top;\n",
       "    }\n",
       "\n",
       "    .dataframe thead th {\n",
       "        text-align: right;\n",
       "    }\n",
       "</style>\n",
       "<table border=\"1\" class=\"dataframe\">\n",
       "  <thead>\n",
       "    <tr style=\"text-align: right;\">\n",
       "      <th></th>\n",
       "      <th>count</th>\n",
       "      <th>mean</th>\n",
       "      <th>std</th>\n",
       "      <th>min</th>\n",
       "      <th>25%</th>\n",
       "      <th>50%</th>\n",
       "      <th>75%</th>\n",
       "      <th>max</th>\n",
       "    </tr>\n",
       "    <tr>\n",
       "      <th>residue_name</th>\n",
       "      <th></th>\n",
       "      <th></th>\n",
       "      <th></th>\n",
       "      <th></th>\n",
       "      <th></th>\n",
       "      <th></th>\n",
       "      <th></th>\n",
       "      <th></th>\n",
       "    </tr>\n",
       "  </thead>\n",
       "  <tbody>\n",
       "    <tr>\n",
       "      <th>ALA</th>\n",
       "      <td>70486.0</td>\n",
       "      <td>0.999248</td>\n",
       "      <td>0.027411</td>\n",
       "      <td>0.0</td>\n",
       "      <td>1.0</td>\n",
       "      <td>1.0</td>\n",
       "      <td>1.0</td>\n",
       "      <td>1.0</td>\n",
       "    </tr>\n",
       "    <tr>\n",
       "      <th>ARG</th>\n",
       "      <td>70269.0</td>\n",
       "      <td>6.723975</td>\n",
       "      <td>1.226766</td>\n",
       "      <td>0.0</td>\n",
       "      <td>7.0</td>\n",
       "      <td>7.0</td>\n",
       "      <td>7.0</td>\n",
       "      <td>7.0</td>\n",
       "    </tr>\n",
       "    <tr>\n",
       "      <th>ASN</th>\n",
       "      <td>46032.0</td>\n",
       "      <td>3.952555</td>\n",
       "      <td>0.374863</td>\n",
       "      <td>0.0</td>\n",
       "      <td>4.0</td>\n",
       "      <td>4.0</td>\n",
       "      <td>4.0</td>\n",
       "      <td>4.0</td>\n",
       "    </tr>\n",
       "    <tr>\n",
       "      <th>ASP</th>\n",
       "      <td>73425.0</td>\n",
       "      <td>3.957181</td>\n",
       "      <td>0.355156</td>\n",
       "      <td>0.0</td>\n",
       "      <td>4.0</td>\n",
       "      <td>4.0</td>\n",
       "      <td>4.0</td>\n",
       "      <td>4.0</td>\n",
       "    </tr>\n",
       "    <tr>\n",
       "      <th>CYS</th>\n",
       "      <td>21807.0</td>\n",
       "      <td>1.996056</td>\n",
       "      <td>0.072829</td>\n",
       "      <td>0.0</td>\n",
       "      <td>2.0</td>\n",
       "      <td>2.0</td>\n",
       "      <td>2.0</td>\n",
       "      <td>2.0</td>\n",
       "    </tr>\n",
       "    <tr>\n",
       "      <th>GLN</th>\n",
       "      <td>47240.0</td>\n",
       "      <td>4.854742</td>\n",
       "      <td>0.739244</td>\n",
       "      <td>0.0</td>\n",
       "      <td>5.0</td>\n",
       "      <td>5.0</td>\n",
       "      <td>5.0</td>\n",
       "      <td>5.0</td>\n",
       "    </tr>\n",
       "    <tr>\n",
       "      <th>GLU</th>\n",
       "      <td>88888.0</td>\n",
       "      <td>4.823474</td>\n",
       "      <td>0.812208</td>\n",
       "      <td>0.0</td>\n",
       "      <td>5.0</td>\n",
       "      <td>5.0</td>\n",
       "      <td>5.0</td>\n",
       "      <td>5.0</td>\n",
       "    </tr>\n",
       "    <tr>\n",
       "      <th>GLY</th>\n",
       "      <td>70026.0</td>\n",
       "      <td>0.000000</td>\n",
       "      <td>0.000000</td>\n",
       "      <td>0.0</td>\n",
       "      <td>0.0</td>\n",
       "      <td>0.0</td>\n",
       "      <td>0.0</td>\n",
       "      <td>0.0</td>\n",
       "    </tr>\n",
       "    <tr>\n",
       "      <th>HIS</th>\n",
       "      <td>38554.0</td>\n",
       "      <td>5.952430</td>\n",
       "      <td>0.485271</td>\n",
       "      <td>0.0</td>\n",
       "      <td>6.0</td>\n",
       "      <td>6.0</td>\n",
       "      <td>6.0</td>\n",
       "      <td>6.0</td>\n",
       "    </tr>\n",
       "    <tr>\n",
       "      <th>HOH</th>\n",
       "      <td>494869.0</td>\n",
       "      <td>0.000000</td>\n",
       "      <td>0.000000</td>\n",
       "      <td>0.0</td>\n",
       "      <td>0.0</td>\n",
       "      <td>0.0</td>\n",
       "      <td>0.0</td>\n",
       "      <td>0.0</td>\n",
       "    </tr>\n",
       "    <tr>\n",
       "      <th>ILE</th>\n",
       "      <td>78326.0</td>\n",
       "      <td>3.977287</td>\n",
       "      <td>0.251915</td>\n",
       "      <td>0.0</td>\n",
       "      <td>4.0</td>\n",
       "      <td>4.0</td>\n",
       "      <td>4.0</td>\n",
       "      <td>4.0</td>\n",
       "    </tr>\n",
       "    <tr>\n",
       "      <th>LEU</th>\n",
       "      <td>140433.0</td>\n",
       "      <td>3.976993</td>\n",
       "      <td>0.257903</td>\n",
       "      <td>0.0</td>\n",
       "      <td>4.0</td>\n",
       "      <td>4.0</td>\n",
       "      <td>4.0</td>\n",
       "      <td>4.0</td>\n",
       "    </tr>\n",
       "    <tr>\n",
       "      <th>LYS</th>\n",
       "      <td>86229.0</td>\n",
       "      <td>4.712916</td>\n",
       "      <td>0.990809</td>\n",
       "      <td>0.0</td>\n",
       "      <td>5.0</td>\n",
       "      <td>5.0</td>\n",
       "      <td>5.0</td>\n",
       "      <td>5.0</td>\n",
       "    </tr>\n",
       "    <tr>\n",
       "      <th>MET</th>\n",
       "      <td>34358.0</td>\n",
       "      <td>3.967257</td>\n",
       "      <td>0.308421</td>\n",
       "      <td>0.0</td>\n",
       "      <td>4.0</td>\n",
       "      <td>4.0</td>\n",
       "      <td>4.0</td>\n",
       "      <td>4.0</td>\n",
       "    </tr>\n",
       "    <tr>\n",
       "      <th>PHE</th>\n",
       "      <td>54470.0</td>\n",
       "      <td>6.953956</td>\n",
       "      <td>0.523170</td>\n",
       "      <td>0.0</td>\n",
       "      <td>7.0</td>\n",
       "      <td>7.0</td>\n",
       "      <td>7.0</td>\n",
       "      <td>7.0</td>\n",
       "    </tr>\n",
       "    <tr>\n",
       "      <th>PRO</th>\n",
       "      <td>62972.0</td>\n",
       "      <td>2.997015</td>\n",
       "      <td>0.082002</td>\n",
       "      <td>0.0</td>\n",
       "      <td>3.0</td>\n",
       "      <td>3.0</td>\n",
       "      <td>3.0</td>\n",
       "      <td>3.0</td>\n",
       "    </tr>\n",
       "    <tr>\n",
       "      <th>SER</th>\n",
       "      <td>66931.0</td>\n",
       "      <td>1.988062</td>\n",
       "      <td>0.112525</td>\n",
       "      <td>0.0</td>\n",
       "      <td>2.0</td>\n",
       "      <td>2.0</td>\n",
       "      <td>2.0</td>\n",
       "      <td>2.0</td>\n",
       "    </tr>\n",
       "    <tr>\n",
       "      <th>THR</th>\n",
       "      <td>52700.0</td>\n",
       "      <td>2.983359</td>\n",
       "      <td>0.183392</td>\n",
       "      <td>0.0</td>\n",
       "      <td>3.0</td>\n",
       "      <td>3.0</td>\n",
       "      <td>3.0</td>\n",
       "      <td>3.0</td>\n",
       "    </tr>\n",
       "    <tr>\n",
       "      <th>TRP</th>\n",
       "      <td>19187.0</td>\n",
       "      <td>9.972586</td>\n",
       "      <td>0.494923</td>\n",
       "      <td>1.0</td>\n",
       "      <td>10.0</td>\n",
       "      <td>10.0</td>\n",
       "      <td>10.0</td>\n",
       "      <td>10.0</td>\n",
       "    </tr>\n",
       "    <tr>\n",
       "      <th>TYR</th>\n",
       "      <td>50240.0</td>\n",
       "      <td>7.950557</td>\n",
       "      <td>0.585751</td>\n",
       "      <td>0.0</td>\n",
       "      <td>8.0</td>\n",
       "      <td>8.0</td>\n",
       "      <td>8.0</td>\n",
       "      <td>8.0</td>\n",
       "    </tr>\n",
       "    <tr>\n",
       "      <th>VAL</th>\n",
       "      <td>84066.0</td>\n",
       "      <td>2.988176</td>\n",
       "      <td>0.155099</td>\n",
       "      <td>0.0</td>\n",
       "      <td>3.0</td>\n",
       "      <td>3.0</td>\n",
       "      <td>3.0</td>\n",
       "      <td>3.0</td>\n",
       "    </tr>\n",
       "  </tbody>\n",
       "</table>\n",
       "</div>"
      ],
      "text/plain": [
       "                 count      mean       std  min   25%   50%   75%   max\n",
       "residue_name                                                           \n",
       "ALA            70486.0  0.999248  0.027411  0.0   1.0   1.0   1.0   1.0\n",
       "ARG            70269.0  6.723975  1.226766  0.0   7.0   7.0   7.0   7.0\n",
       "ASN            46032.0  3.952555  0.374863  0.0   4.0   4.0   4.0   4.0\n",
       "ASP            73425.0  3.957181  0.355156  0.0   4.0   4.0   4.0   4.0\n",
       "CYS            21807.0  1.996056  0.072829  0.0   2.0   2.0   2.0   2.0\n",
       "GLN            47240.0  4.854742  0.739244  0.0   5.0   5.0   5.0   5.0\n",
       "GLU            88888.0  4.823474  0.812208  0.0   5.0   5.0   5.0   5.0\n",
       "GLY            70026.0  0.000000  0.000000  0.0   0.0   0.0   0.0   0.0\n",
       "HIS            38554.0  5.952430  0.485271  0.0   6.0   6.0   6.0   6.0\n",
       "HOH           494869.0  0.000000  0.000000  0.0   0.0   0.0   0.0   0.0\n",
       "ILE            78326.0  3.977287  0.251915  0.0   4.0   4.0   4.0   4.0\n",
       "LEU           140433.0  3.976993  0.257903  0.0   4.0   4.0   4.0   4.0\n",
       "LYS            86229.0  4.712916  0.990809  0.0   5.0   5.0   5.0   5.0\n",
       "MET            34358.0  3.967257  0.308421  0.0   4.0   4.0   4.0   4.0\n",
       "PHE            54470.0  6.953956  0.523170  0.0   7.0   7.0   7.0   7.0\n",
       "PRO            62972.0  2.997015  0.082002  0.0   3.0   3.0   3.0   3.0\n",
       "SER            66931.0  1.988062  0.112525  0.0   2.0   2.0   2.0   2.0\n",
       "THR            52700.0  2.983359  0.183392  0.0   3.0   3.0   3.0   3.0\n",
       "TRP            19187.0  9.972586  0.494923  1.0  10.0  10.0  10.0  10.0\n",
       "TYR            50240.0  7.950557  0.585751  0.0   8.0   8.0   8.0   8.0\n",
       "VAL            84066.0  2.988176  0.155099  0.0   3.0   3.0   3.0   3.0"
      ]
     },
     "execution_count": 13,
     "metadata": {},
     "output_type": "execute_result"
    }
   ],
   "source": [
    "stats[stats[('residue_id', 'count')] > 2000]['n_heavy_atoms']"
   ]
  },
  {
   "cell_type": "markdown",
   "metadata": {},
   "source": [
    "### Residue count"
   ]
  },
  {
   "cell_type": "code",
   "execution_count": 14,
   "metadata": {},
   "outputs": [],
   "source": [
    "residue_count = stats[stats[('residue_id', 'count')] > 2000][('n_heavy_atoms', 'count')]"
   ]
  },
  {
   "cell_type": "code",
   "execution_count": 16,
   "metadata": {},
   "outputs": [
    {
     "data": {
      "text/plain": [
       "<matplotlib.axes._subplots.AxesSubplot at 0x7f68ea880a58>"
      ]
     },
     "execution_count": 16,
     "metadata": {},
     "output_type": "execute_result"
    },
    {
     "data": {
      "image/png": "[encoded data removed]",
      "text/plain": [
       "<Figure size 432x288 with 1 Axes>"
      ]
     },
     "metadata": {
      "needs_background": "light"
     },
     "output_type": "display_data"
    }
   ],
   "source": [
    "residue_count.plot(kind='bar')"
   ]
  },
  {
   "cell_type": "markdown",
   "metadata": {},
   "source": [
    "### Irregular residues (missing atoms)"
   ]
  },
  {
   "cell_type": "code",
   "execution_count": 17,
   "metadata": {},
   "outputs": [],
   "source": [
    "def get_irregular_residues(by_residue):\n",
    "    group_by_residue = data.groupby('residue_name').get_group(by_residue)\n",
    "    \n",
    "    \n",
    "    irregaular_residues = group_by_residue[group_by_residue.n_heavy_atoms < N_HEAVY_ATOMS[by_residue]]\n",
    "    \n",
    "    print(f'Percentage of irregular atom numbers for {by_residue}: {round(len(irregaular_residues)/float(len(group_by_residue))*100, 2)}%')\n",
    "    \n",
    "    return irregaular_residues"
   ]
  },
  {
   "cell_type": "code",
   "execution_count": 18,
   "metadata": {},
   "outputs": [
    {
     "name": "stdout",
     "output_type": "stream",
     "text": [
      "Percentage of irregular atom numbers for ALA: 0.08%\n",
      "Percentage of irregular atom numbers for ARG: 4.95%\n",
      "Percentage of irregular atom numbers for ASN: 1.59%\n",
      "Percentage of irregular atom numbers for ASP: 1.45%\n",
      "Percentage of irregular atom numbers for CYS: 0.33%\n",
      "Percentage of irregular atom numbers for GLN: 3.77%\n",
      "Percentage of irregular atom numbers for GLU: 4.57%\n",
      "Percentage of irregular atom numbers for GLY: 0.0%\n",
      "Percentage of irregular atom numbers for HIS: 0.96%\n",
      "Percentage of irregular atom numbers for ILE: 0.92%\n",
      "Percentage of irregular atom numbers for LEU: 0.81%\n",
      "Percentage of irregular atom numbers for LYS: 8.2%\n",
      "Percentage of irregular atom numbers for MET: 1.16%\n",
      "Percentage of irregular atom numbers for PHE: 0.77%\n",
      "Percentage of irregular atom numbers for PRO: 0.14%\n",
      "Percentage of irregular atom numbers for SER: 1.15%\n",
      "Percentage of irregular atom numbers for THR: 0.83%\n",
      "Percentage of irregular atom numbers for TRP: 0.31%\n",
      "Percentage of irregular atom numbers for TYR: 0.71%\n",
      "Percentage of irregular atom numbers for VAL: 0.58%\n"
     ]
    }
   ],
   "source": [
    "for key, value in N_HEAVY_ATOMS.items():\n",
    "    get_irregular_residues(key)"
   ]
  },
  {
   "cell_type": "markdown",
   "metadata": {},
   "source": [
    "Take a closer a look at LYS..."
   ]
  },
  {
   "cell_type": "code",
   "execution_count": 19,
   "metadata": {},
   "outputs": [],
   "source": [
    "def check_irregular_residues(by_residue):\n",
    "    print(f'Regular atom number for {by_residue}: {N_HEAVY_ATOMS[by_residue]}')\n",
    "    return get_irregular_residues(by_residue).groupby('n_heavy_atoms').size()"
   ]
  },
  {
   "cell_type": "code",
   "execution_count": 20,
   "metadata": {},
   "outputs": [
    {
     "name": "stdout",
     "output_type": "stream",
     "text": [
      "Regular atom number for LYS: 5\n",
      "Percentage of irregular atom numbers for LYS: 8.2%\n"
     ]
    },
    {
     "data": {
      "text/plain": [
       "n_heavy_atoms\n",
       "0      18\n",
       "1    4887\n",
       "2    1047\n",
       "3     858\n",
       "4     260\n",
       "dtype: int64"
      ]
     },
     "execution_count": 20,
     "metadata": {},
     "output_type": "execute_result"
    }
   ],
   "source": [
    "check_irregular_residues('LYS')"
   ]
  },
  {
   "cell_type": "code",
   "execution_count": 21,
   "metadata": {},
   "outputs": [
    {
     "name": "stdout",
     "output_type": "stream",
     "text": [
      "Regular atom number for ARG: 7\n",
      "Percentage of irregular atom numbers for ARG: 4.95%\n"
     ]
    },
    {
     "data": {
      "text/plain": [
       "n_heavy_atoms\n",
       "0      58\n",
       "1    2612\n",
       "2     328\n",
       "3     265\n",
       "4     186\n",
       "5      28\n",
       "6       4\n",
       "dtype: int64"
      ]
     },
     "execution_count": 21,
     "metadata": {},
     "output_type": "execute_result"
    }
   ],
   "source": [
    "check_irregular_residues('ARG')"
   ]
  },
  {
   "cell_type": "markdown",
   "metadata": {},
   "source": [
    "## Visualisation\n",
    "\n",
    "Initially, I only defined side chain atoms as (i) heavy atoms and (ii) not part of the backbone. However, in the statistic I could see that sometimes there is one atom more present - after visual inspection here, I found out that these additional atoms are terminal carboxyl O atoms (`OXT`). Thus, I extended the side chain atoms definition by this atom type."
   ]
  },
  {
   "cell_type": "code",
   "execution_count": 22,
   "metadata": {},
   "outputs": [],
   "source": [
    "def create_viewer(pdb_id):\n",
    "\n",
    "    viewer = nv.NGLWidget()\n",
    "    viewer.add_pdbid(pdb_id)\n",
    "    viewer.add_representation(repr_type='cartoon', selection='all')\n",
    "\n",
    "    return viewer"
   ]
  },
  {
   "cell_type": "code",
   "execution_count": 23,
   "metadata": {},
   "outputs": [
    {
     "data": {
      "application/vnd.jupyter.widget-view+json": {
       "model_id": "66254905bbe74273becb0ededb299375",
       "version_major": 2,
       "version_minor": 0
      },
      "text/plain": [
       "NGLWidget()"
      ]
     },
     "metadata": {},
     "output_type": "display_data"
    }
   ],
   "source": [
    "viewer = create_viewer('1e9h')\n",
    "viewer"
   ]
  },
  {
   "cell_type": "code",
   "execution_count": 24,
   "metadata": {},
   "outputs": [],
   "source": [
    "viewer.add_ball_and_stick(selection='296')"
   ]
  },
  {
   "cell_type": "code",
   "execution_count": 25,
   "metadata": {},
   "outputs": [],
   "source": [
    "viewer.center(selection='296:A')"
   ]
  },
  {
   "cell_type": "markdown",
   "metadata": {},
   "source": [
    "What about terminal amino N-atoms? All good.\n",
    "\n",
    "From https://www.cgl.ucsf.edu/chimera/docs/UsersGuide/tutorials/pdbintro.html:\n",
    "> Note that this residue includes the extra oxygen atom OXT on the terminal carboxyl group. Other than OXT and the rarely seen HXT, atoms in standard nucleotides and amino acids in version 3.0 PDB files are named according to the IUPAC recommendations (Pure Appl Chem 70:117 (1998)). The TER record terminates the amino acid chain. "
   ]
  },
  {
   "cell_type": "code",
   "execution_count": 26,
   "metadata": {},
   "outputs": [
    {
     "data": {
      "application/vnd.jupyter.widget-view+json": {
       "model_id": "ed3ddb4eb3904aa0b6059df4c9187698",
       "version_major": 2,
       "version_minor": 0
      },
      "text/plain": [
       "NGLWidget()"
      ]
     },
     "metadata": {},
     "output_type": "display_data"
    }
   ],
   "source": [
    "viewer2 = create_viewer('1e9h')\n",
    "viewer2"
   ]
  },
  {
   "cell_type": "code",
   "execution_count": 27,
   "metadata": {},
   "outputs": [],
   "source": [
    "viewer2.add_ball_and_stick(selection='1')"
   ]
  },
  {
   "cell_type": "code",
   "execution_count": 28,
   "metadata": {},
   "outputs": [],
   "source": [
    "viewer2.center(selection='1:A')"
   ]
  }
 ],
 "metadata": {
  "kernelspec": {
   "display_name": "kinsim",
   "language": "python",
   "name": "kinsim"
  },
  "language_info": {
   "codemirror_mode": {
    "name": "ipython",
    "version": 3
   },
   "file_extension": ".py",
   "mimetype": "text/x-python",
   "name": "python",
   "nbconvert_exporter": "python",
   "pygments_lexer": "ipython3",
   "version": "3.6.7"
  }
 },
 "nbformat": 4,
 "nbformat_minor": 4
}
