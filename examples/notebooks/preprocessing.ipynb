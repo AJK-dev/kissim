{
 "cells": [
  {
   "cell_type": "markdown",
   "metadata": {},
   "source": [
    "# Preprocessing"
   ]
  },
  {
   "cell_type": "markdown",
   "metadata": {},
   "source": [
    "## Imports"
   ]
  },
  {
   "cell_type": "code",
   "execution_count": 1,
   "metadata": {},
   "outputs": [],
   "source": [
    "%load_ext autoreload"
   ]
  },
  {
   "cell_type": "code",
   "execution_count": 2,
   "metadata": {},
   "outputs": [],
   "source": [
    "%autoreload 2"
   ]
  },
  {
   "cell_type": "code",
   "execution_count": 3,
   "metadata": {},
   "outputs": [],
   "source": [
    "import pandas as pd\n",
    "from pathlib import Path\n",
    "import pickle\n",
    "import sys\n",
    "import warnings\n",
    "\n",
    "sys.path.append('../..')\n",
    "from kinsim_structure.preprocessing import KlifsMetadataLoader, Mol2FormatScreener, Mol2KlifsToPymolConverter, Mol2ToPdbConverter, KlifsMetadataFilter"
   ]
  },
  {
   "cell_type": "code",
   "execution_count": 4,
   "metadata": {},
   "outputs": [],
   "source": [
    "warnings.simplefilter('ignore')  # Caution: Suppresses Biopython warnings"
   ]
  },
  {
   "cell_type": "markdown",
   "metadata": {},
   "source": [
    "## Dataset"
   ]
  },
  {
   "cell_type": "code",
   "execution_count": 5,
   "metadata": {},
   "outputs": [],
   "source": [
    "PATH_KLIFS_DOWNLOAD = Path('/home/dominique/Documents/data/kinsim/20191115_full/KLIFS_download')"
   ]
  },
  {
   "cell_type": "markdown",
   "metadata": {},
   "source": [
    "## KlifsMetadataLoader"
   ]
  },
  {
   "cell_type": "code",
   "execution_count": 6,
   "metadata": {},
   "outputs": [],
   "source": [
    "klifs_metadata_loader = KlifsMetadataLoader()\n",
    "klifs_metadata_loader.from_files(\n",
    "    PATH_KLIFS_DOWNLOAD / 'overview.csv', \n",
    "    PATH_KLIFS_DOWNLOAD / 'KLIFS_export.csv'\n",
    ")"
   ]
  },
  {
   "cell_type": "code",
   "execution_count": 7,
   "metadata": {},
   "outputs": [
    {
     "data": {
      "text/html": [
       "<div>\n",
       "<style scoped>\n",
       "    .dataframe tbody tr th:only-of-type {\n",
       "        vertical-align: middle;\n",
       "    }\n",
       "\n",
       "    .dataframe tbody tr th {\n",
       "        vertical-align: top;\n",
       "    }\n",
       "\n",
       "    .dataframe thead th {\n",
       "        text-align: right;\n",
       "    }\n",
       "</style>\n",
       "<table border=\"1\" class=\"dataframe\">\n",
       "  <thead>\n",
       "    <tr style=\"text-align: right;\">\n",
       "      <th></th>\n",
       "      <th>pdb_id</th>\n",
       "      <th>alternate_model</th>\n",
       "      <th>chain</th>\n",
       "      <th>kinase</th>\n",
       "      <th>kinase_all</th>\n",
       "      <th>family</th>\n",
       "      <th>groups</th>\n",
       "      <th>species</th>\n",
       "      <th>dfg</th>\n",
       "      <th>ac_helix</th>\n",
       "      <th>pocket</th>\n",
       "      <th>rmsd1</th>\n",
       "      <th>rmsd2</th>\n",
       "      <th>qualityscore</th>\n",
       "      <th>resolution</th>\n",
       "      <th>missing_residues</th>\n",
       "      <th>missing_atoms</th>\n",
       "      <th>filepath</th>\n",
       "    </tr>\n",
       "  </thead>\n",
       "  <tbody>\n",
       "    <tr>\n",
       "      <th>0</th>\n",
       "      <td>3dko</td>\n",
       "      <td>A</td>\n",
       "      <td>A</td>\n",
       "      <td>EphA7</td>\n",
       "      <td>[EPHA7, EphA7]</td>\n",
       "      <td>Eph</td>\n",
       "      <td>TK</td>\n",
       "      <td>Human</td>\n",
       "      <td>out</td>\n",
       "      <td>out</td>\n",
       "      <td>RVIGA_EFGEVCSVAIKTLDFLCEASIMGQFDPNVVHLEGVMIVIE...</td>\n",
       "      <td>0.944</td>\n",
       "      <td>2.254</td>\n",
       "      <td>8.1</td>\n",
       "      <td>2.0</td>\n",
       "      <td>3</td>\n",
       "      <td>7</td>\n",
       "      <td>HUMAN/EphA7/3dko_altA_chainA</td>\n",
       "    </tr>\n",
       "    <tr>\n",
       "      <th>1</th>\n",
       "      <td>2rei</td>\n",
       "      <td>B</td>\n",
       "      <td>A</td>\n",
       "      <td>EphA7</td>\n",
       "      <td>[EPHA7, EphA7]</td>\n",
       "      <td>Eph</td>\n",
       "      <td>TK</td>\n",
       "      <td>Human</td>\n",
       "      <td>in</td>\n",
       "      <td>in</td>\n",
       "      <td>RVIGAGEFGEVCSVAIKTLDFLCEASIMGQFDPNVVHLEGVMIVIE...</td>\n",
       "      <td>0.784</td>\n",
       "      <td>2.094</td>\n",
       "      <td>7.6</td>\n",
       "      <td>1.6</td>\n",
       "      <td>1</td>\n",
       "      <td>0</td>\n",
       "      <td>HUMAN/EphA7/2rei_altB_chainA</td>\n",
       "    </tr>\n",
       "    <tr>\n",
       "      <th>2</th>\n",
       "      <td>3dko</td>\n",
       "      <td>B</td>\n",
       "      <td>A</td>\n",
       "      <td>EphA7</td>\n",
       "      <td>[EPHA7, EphA7]</td>\n",
       "      <td>Eph</td>\n",
       "      <td>TK</td>\n",
       "      <td>Human</td>\n",
       "      <td>out</td>\n",
       "      <td>out</td>\n",
       "      <td>RVIGA_EFGEVCSVAIKTLDFLCEASIMGQFDPNVVHLEGVMIVIE...</td>\n",
       "      <td>0.944</td>\n",
       "      <td>2.254</td>\n",
       "      <td>8.1</td>\n",
       "      <td>2.0</td>\n",
       "      <td>3</td>\n",
       "      <td>7</td>\n",
       "      <td>HUMAN/EphA7/3dko_altB_chainA</td>\n",
       "    </tr>\n",
       "    <tr>\n",
       "      <th>3</th>\n",
       "      <td>2rei</td>\n",
       "      <td>A</td>\n",
       "      <td>A</td>\n",
       "      <td>EphA7</td>\n",
       "      <td>[EPHA7, EphA7]</td>\n",
       "      <td>Eph</td>\n",
       "      <td>TK</td>\n",
       "      <td>Human</td>\n",
       "      <td>in</td>\n",
       "      <td>in</td>\n",
       "      <td>RVIGAGEFGEVCSVAIKTLDFLCEASIMGQFDPNVVHLEGVMIVIE...</td>\n",
       "      <td>0.784</td>\n",
       "      <td>2.093</td>\n",
       "      <td>7.6</td>\n",
       "      <td>1.6</td>\n",
       "      <td>1</td>\n",
       "      <td>0</td>\n",
       "      <td>HUMAN/EphA7/2rei_altA_chainA</td>\n",
       "    </tr>\n",
       "    <tr>\n",
       "      <th>4</th>\n",
       "      <td>3v8t</td>\n",
       "      <td>B</td>\n",
       "      <td>A</td>\n",
       "      <td>ITK</td>\n",
       "      <td>[ITK]</td>\n",
       "      <td>Tec</td>\n",
       "      <td>TK</td>\n",
       "      <td>Human</td>\n",
       "      <td>in</td>\n",
       "      <td>out-like</td>\n",
       "      <td>QEIGSG___LVHLVAIKTIDFIEEAEVMMKLSPKLVQLYGVCLVFE...</td>\n",
       "      <td>0.842</td>\n",
       "      <td>2.047</td>\n",
       "      <td>7.8</td>\n",
       "      <td>2.0</td>\n",
       "      <td>4</td>\n",
       "      <td>6</td>\n",
       "      <td>HUMAN/ITK/3v8t_altB_chainA</td>\n",
       "    </tr>\n",
       "  </tbody>\n",
       "</table>\n",
       "</div>"
      ],
      "text/plain": [
       "  pdb_id alternate_model chain kinase      kinase_all family groups species  \\\n",
       "0   3dko               A     A  EphA7  [EPHA7, EphA7]    Eph     TK   Human   \n",
       "1   2rei               B     A  EphA7  [EPHA7, EphA7]    Eph     TK   Human   \n",
       "2   3dko               B     A  EphA7  [EPHA7, EphA7]    Eph     TK   Human   \n",
       "3   2rei               A     A  EphA7  [EPHA7, EphA7]    Eph     TK   Human   \n",
       "4   3v8t               B     A    ITK           [ITK]    Tec     TK   Human   \n",
       "\n",
       "   dfg  ac_helix                                             pocket  rmsd1  \\\n",
       "0  out       out  RVIGA_EFGEVCSVAIKTLDFLCEASIMGQFDPNVVHLEGVMIVIE...  0.944   \n",
       "1   in        in  RVIGAGEFGEVCSVAIKTLDFLCEASIMGQFDPNVVHLEGVMIVIE...  0.784   \n",
       "2  out       out  RVIGA_EFGEVCSVAIKTLDFLCEASIMGQFDPNVVHLEGVMIVIE...  0.944   \n",
       "3   in        in  RVIGAGEFGEVCSVAIKTLDFLCEASIMGQFDPNVVHLEGVMIVIE...  0.784   \n",
       "4   in  out-like  QEIGSG___LVHLVAIKTIDFIEEAEVMMKLSPKLVQLYGVCLVFE...  0.842   \n",
       "\n",
       "   rmsd2  qualityscore  resolution  missing_residues  missing_atoms  \\\n",
       "0  2.254           8.1         2.0                 3              7   \n",
       "1  2.094           7.6         1.6                 1              0   \n",
       "2  2.254           8.1         2.0                 3              7   \n",
       "3  2.093           7.6         1.6                 1              0   \n",
       "4  2.047           7.8         2.0                 4              6   \n",
       "\n",
       "                       filepath  \n",
       "0  HUMAN/EphA7/3dko_altA_chainA  \n",
       "1  HUMAN/EphA7/2rei_altB_chainA  \n",
       "2  HUMAN/EphA7/3dko_altB_chainA  \n",
       "3  HUMAN/EphA7/2rei_altA_chainA  \n",
       "4    HUMAN/ITK/3v8t_altB_chainA  "
      ]
     },
     "execution_count": 7,
     "metadata": {},
     "output_type": "execute_result"
    }
   ],
   "source": [
    "klifs_metadata = klifs_metadata_loader.data_essential\n",
    "klifs_metadata.head()"
   ]
  },
  {
   "cell_type": "code",
   "execution_count": 8,
   "metadata": {},
   "outputs": [],
   "source": [
    "klifs_metadata.to_csv(PATH_KLIFS_DOWNLOAD.parent / 'klifs_metadata.csv')"
   ]
  },
  {
   "cell_type": "markdown",
   "metadata": {},
   "source": [
    "## Mol2FormatScreener"
   ]
  },
  {
   "cell_type": "raw",
   "metadata": {},
   "source": [
    "mol2_format_screener = Mol2FormatScreener()\n",
    "mol2_format_screener.from_metadata(klifs_metadata, PATH_KLIFS_DOWNLOAD)\n",
    "\n",
    "# Save Mol2FormatScreener object to disc\n",
    "with open(PATH_KLIFS_DOWNLOAD.parent / 'mol2_format_screener.p', 'wb') as f:\n",
    "    pickle.dump(mol2_format_screener, f)"
   ]
  },
  {
   "cell_type": "code",
   "execution_count": 9,
   "metadata": {},
   "outputs": [],
   "source": [
    "with open(PATH_KLIFS_DOWNLOAD.parent / 'mol2_format_screener.p', 'rb') as f:\n",
    "    mol2_format_screener = pickle.load(f)"
   ]
  },
  {
   "cell_type": "markdown",
   "metadata": {},
   "source": [
    "### Underscored residues"
   ]
  },
  {
   "cell_type": "code",
   "execution_count": 10,
   "metadata": {},
   "outputs": [
    {
     "name": "stdout",
     "output_type": "stream",
     "text": [
      "Number of structures with underscored residues: 208\n"
     ]
    }
   ],
   "source": [
    "structures = mol2_format_screener.structures_irregular['residues_underscored'].groupby('molecule_code')\n",
    "print(f'Number of structures with underscored residues: {len(structures)}')"
   ]
  },
  {
   "cell_type": "code",
   "execution_count": 11,
   "metadata": {},
   "outputs": [
    {
     "data": {
      "text/html": [
       "<div>\n",
       "<style scoped>\n",
       "    .dataframe tbody tr th:only-of-type {\n",
       "        vertical-align: middle;\n",
       "    }\n",
       "\n",
       "    .dataframe tbody tr th {\n",
       "        vertical-align: top;\n",
       "    }\n",
       "\n",
       "    .dataframe thead th {\n",
       "        text-align: right;\n",
       "    }\n",
       "</style>\n",
       "<table border=\"1\" class=\"dataframe\">\n",
       "  <thead>\n",
       "    <tr style=\"text-align: right;\">\n",
       "      <th></th>\n",
       "      <th>molecule_code</th>\n",
       "      <th>res_id</th>\n",
       "      <th>res_name</th>\n",
       "      <th>subst_name</th>\n",
       "    </tr>\n",
       "  </thead>\n",
       "  <tbody>\n",
       "    <tr>\n",
       "      <th>0</th>\n",
       "      <td>3v5q.B</td>\n",
       "      <td>-3</td>\n",
       "      <td>GLY</td>\n",
       "      <td>GLY_3</td>\n",
       "    </tr>\n",
       "    <tr>\n",
       "      <th>1</th>\n",
       "      <td>3v5q.B</td>\n",
       "      <td>-2</td>\n",
       "      <td>ILE</td>\n",
       "      <td>ILE_2</td>\n",
       "    </tr>\n",
       "    <tr>\n",
       "      <th>2</th>\n",
       "      <td>3v5q.B</td>\n",
       "      <td>-1</td>\n",
       "      <td>HIS</td>\n",
       "      <td>HIS_1</td>\n",
       "    </tr>\n",
       "    <tr>\n",
       "      <th>0</th>\n",
       "      <td>4ymj.A</td>\n",
       "      <td>-3</td>\n",
       "      <td>GLY</td>\n",
       "      <td>GLY_3</td>\n",
       "    </tr>\n",
       "    <tr>\n",
       "      <th>1</th>\n",
       "      <td>4ymj.A</td>\n",
       "      <td>-2</td>\n",
       "      <td>ILE</td>\n",
       "      <td>ILE_2</td>\n",
       "    </tr>\n",
       "  </tbody>\n",
       "</table>\n",
       "</div>"
      ],
      "text/plain": [
       "  molecule_code  res_id res_name subst_name\n",
       "0        3v5q.B      -3      GLY      GLY_3\n",
       "1        3v5q.B      -2      ILE      ILE_2\n",
       "2        3v5q.B      -1      HIS      HIS_1\n",
       "0        4ymj.A      -3      GLY      GLY_3\n",
       "1        4ymj.A      -2      ILE      ILE_2"
      ]
     },
     "execution_count": 11,
     "metadata": {},
     "output_type": "execute_result"
    }
   ],
   "source": [
    "mol2_format_screener.structures_irregular['residues_underscored'].head()"
   ]
  },
  {
   "cell_type": "markdown",
   "metadata": {},
   "source": [
    "### Non-standard residues"
   ]
  },
  {
   "cell_type": "code",
   "execution_count": 12,
   "metadata": {},
   "outputs": [
    {
     "name": "stdout",
     "output_type": "stream",
     "text": [
      "Number of structures with non-standard residues: 1754\n"
     ]
    }
   ],
   "source": [
    "structures = mol2_format_screener.structures_irregular['residues_non_standard'].groupby('molecule_code')\n",
    "print(f'Number of structures with non-standard residues: {len(structures)}')"
   ]
  },
  {
   "cell_type": "code",
   "execution_count": 13,
   "metadata": {},
   "outputs": [
    {
     "name": "stdout",
     "output_type": "stream",
     "text": [
      "Number of unique non-standard residues: 30, i.e. ['ACE', 'ACY', 'ALY', 'AME', 'CAF', 'CAS', 'CME', 'CSD', 'CSO', 'CSS', 'CSX', 'CXM', 'CY0', 'GLC', 'KCX', 'LGY', 'MAN', 'MHO', 'NEP', 'NMM', 'OCS', 'OCY', 'PHD', 'PO2', 'PTL', 'PTR', 'SCS', 'SEP', 'SIN', 'TPO']\n"
     ]
    }
   ],
   "source": [
    "non_standard_residues = mol2_format_screener.structures_irregular['residues_non_standard'].groupby('res_name')\n",
    "print(f'Number of unique non-standard residues: {len(non_standard_residues)}, i.e. {list(non_standard_residues.groups.keys())}')"
   ]
  },
  {
   "cell_type": "code",
   "execution_count": 14,
   "metadata": {},
   "outputs": [
    {
     "data": {
      "text/html": [
       "<div>\n",
       "<style scoped>\n",
       "    .dataframe tbody tr th:only-of-type {\n",
       "        vertical-align: middle;\n",
       "    }\n",
       "\n",
       "    .dataframe tbody tr th {\n",
       "        vertical-align: top;\n",
       "    }\n",
       "\n",
       "    .dataframe thead th {\n",
       "        text-align: right;\n",
       "    }\n",
       "</style>\n",
       "<table border=\"1\" class=\"dataframe\">\n",
       "  <thead>\n",
       "    <tr style=\"text-align: right;\">\n",
       "      <th></th>\n",
       "      <th>molecule_code</th>\n",
       "      <th>res_id</th>\n",
       "      <th>res_name</th>\n",
       "      <th>subst_name</th>\n",
       "    </tr>\n",
       "  </thead>\n",
       "  <tbody>\n",
       "    <tr>\n",
       "      <th>0</th>\n",
       "      <td>4ymj.A</td>\n",
       "      <td>706</td>\n",
       "      <td>SEP</td>\n",
       "      <td>SEP706</td>\n",
       "    </tr>\n",
       "    <tr>\n",
       "      <th>0</th>\n",
       "      <td>4ymj.B</td>\n",
       "      <td>706</td>\n",
       "      <td>SEP</td>\n",
       "      <td>SEP706</td>\n",
       "    </tr>\n",
       "    <tr>\n",
       "      <th>0</th>\n",
       "      <td>4ymj.B</td>\n",
       "      <td>706</td>\n",
       "      <td>SEP</td>\n",
       "      <td>SEP706</td>\n",
       "    </tr>\n",
       "    <tr>\n",
       "      <th>0</th>\n",
       "      <td>4ymj.A</td>\n",
       "      <td>706</td>\n",
       "      <td>SEP</td>\n",
       "      <td>SEP706</td>\n",
       "    </tr>\n",
       "    <tr>\n",
       "      <th>0</th>\n",
       "      <td>2vag.A</td>\n",
       "      <td>341</td>\n",
       "      <td>SEP</td>\n",
       "      <td>SEP341</td>\n",
       "    </tr>\n",
       "  </tbody>\n",
       "</table>\n",
       "</div>"
      ],
      "text/plain": [
       "  molecule_code  res_id res_name subst_name\n",
       "0        4ymj.A     706      SEP     SEP706\n",
       "0        4ymj.B     706      SEP     SEP706\n",
       "0        4ymj.B     706      SEP     SEP706\n",
       "0        4ymj.A     706      SEP     SEP706\n",
       "0        2vag.A     341      SEP     SEP341"
      ]
     },
     "execution_count": 14,
     "metadata": {},
     "output_type": "execute_result"
    }
   ],
   "source": [
    "mol2_format_screener.structures_irregular['residues_non_standard'].head()"
   ]
  },
  {
   "cell_type": "markdown",
   "metadata": {},
   "source": [
    "### Residues with duplicated atom names"
   ]
  },
  {
   "cell_type": "code",
   "execution_count": 15,
   "metadata": {},
   "outputs": [
    {
     "name": "stdout",
     "output_type": "stream",
     "text": [
      "Number of structures with residues with duplicated atom names: 6689\n"
     ]
    }
   ],
   "source": [
    "structures = mol2_format_screener.structures_irregular['residues_duplicated_atom_names'].groupby('molecule_code')\n",
    "print(f'Number of structures with residues with duplicated atom names: {len(structures)}')"
   ]
  },
  {
   "cell_type": "code",
   "execution_count": 16,
   "metadata": {},
   "outputs": [
    {
     "name": "stdout",
     "output_type": "stream",
     "text": [
      "Duplicated atom names: ['H', 'H1', 'H2', 'HG2', 'HG3', 'H3', 'H4']\n"
     ]
    }
   ],
   "source": [
    "atom_names = mol2_format_screener.structures_irregular['residues_duplicated_atom_names'].atom_name.unique()\n",
    "print(f'Duplicated atom names: {list(atom_names)}')"
   ]
  },
  {
   "cell_type": "code",
   "execution_count": 17,
   "metadata": {},
   "outputs": [
    {
     "data": {
      "text/html": [
       "<div>\n",
       "<style scoped>\n",
       "    .dataframe tbody tr th:only-of-type {\n",
       "        vertical-align: middle;\n",
       "    }\n",
       "\n",
       "    .dataframe tbody tr th {\n",
       "        vertical-align: top;\n",
       "    }\n",
       "\n",
       "    .dataframe thead th {\n",
       "        text-align: right;\n",
       "    }\n",
       "</style>\n",
       "<table border=\"1\" class=\"dataframe\">\n",
       "  <thead>\n",
       "    <tr style=\"text-align: right;\">\n",
       "      <th></th>\n",
       "      <th>molecule_code</th>\n",
       "      <th>res_id</th>\n",
       "      <th>res_name</th>\n",
       "      <th>subst_name</th>\n",
       "      <th>atom_name</th>\n",
       "    </tr>\n",
       "  </thead>\n",
       "  <tbody>\n",
       "    <tr>\n",
       "      <th>0</th>\n",
       "      <td>3dko.A</td>\n",
       "      <td>641</td>\n",
       "      <td>ALA</td>\n",
       "      <td>ALA641</td>\n",
       "      <td>H</td>\n",
       "    </tr>\n",
       "    <tr>\n",
       "      <th>1</th>\n",
       "      <td>3dko.A</td>\n",
       "      <td>641</td>\n",
       "      <td>ALA</td>\n",
       "      <td>ALA641</td>\n",
       "      <td>H</td>\n",
       "    </tr>\n",
       "    <tr>\n",
       "      <th>2</th>\n",
       "      <td>3dko.A</td>\n",
       "      <td>778</td>\n",
       "      <td>GLY</td>\n",
       "      <td>GLY778</td>\n",
       "      <td>H</td>\n",
       "    </tr>\n",
       "    <tr>\n",
       "      <th>3</th>\n",
       "      <td>3dko.A</td>\n",
       "      <td>778</td>\n",
       "      <td>GLY</td>\n",
       "      <td>GLY778</td>\n",
       "      <td>H</td>\n",
       "    </tr>\n",
       "    <tr>\n",
       "      <th>4</th>\n",
       "      <td>3dko.A</td>\n",
       "      <td>902</td>\n",
       "      <td>HIS</td>\n",
       "      <td>HIS902</td>\n",
       "      <td>H</td>\n",
       "    </tr>\n",
       "  </tbody>\n",
       "</table>\n",
       "</div>"
      ],
      "text/plain": [
       "  molecule_code  res_id res_name subst_name atom_name\n",
       "0        3dko.A     641      ALA     ALA641         H\n",
       "1        3dko.A     641      ALA     ALA641         H\n",
       "2        3dko.A     778      GLY     GLY778         H\n",
       "3        3dko.A     778      GLY     GLY778         H\n",
       "4        3dko.A     902      HIS     HIS902         H"
      ]
     },
     "execution_count": 17,
     "metadata": {},
     "output_type": "execute_result"
    }
   ],
   "source": [
    "mol2_format_screener.structures_irregular['residues_duplicated_atom_names'].head()"
   ]
  },
  {
   "cell_type": "markdown",
   "metadata": {},
   "source": [
    "## Mol2KlifsToPymolConverter"
   ]
  },
  {
   "cell_type": "raw",
   "metadata": {},
   "source": [
    "mol2_klifs_to_pymol_converter = Mol2KlifsToPymolConverter()\n",
    "mol2_klifs_to_pymol_converter.from_metadata(klifs_metadata, PATH_KLIFS_DOWNLOAD)\n",
    "\n",
    "# Save Mol2KlifsToPymolConverter object to disc\n",
    "with open(PATH_KLIFS_DOWNLOAD.parent / 'mol2_klifs_to_pymol_converter.p', 'wb') as f:\n",
    "    pickle.dump(mol2_klifs_to_pymol_converter, f)"
   ]
  },
  {
   "cell_type": "markdown",
   "metadata": {},
   "source": [
    "## Mol2ToPdbConverter"
   ]
  },
  {
   "cell_type": "raw",
   "metadata": {},
   "source": [
    "# Convert mol2 to pdb files\n",
    "converter = Mol2ToPdbConverter()\n",
    "converter.from_klifs_metadata(klifs_metadata_loader.data_essential, PATH_KLIFS_DOWNLOAD)"
   ]
  },
  {
   "cell_type": "code",
   "execution_count": 18,
   "metadata": {},
   "outputs": [],
   "source": [
    "with open(PATH_KLIFS_DOWNLOAD.parent / 'mol2_to_pdb_converter.log', 'r') as f:\n",
    "    lines = f.readlines()"
   ]
  },
  {
   "cell_type": "raw",
   "metadata": {},
   "source": [
    "lines"
   ]
  },
  {
   "cell_type": "markdown",
   "metadata": {},
   "source": [
    "## KlifsMetadataFilter"
   ]
  },
  {
   "cell_type": "raw",
   "metadata": {},
   "source": [
    "# Filter metadata\n",
    "klifs_metadata_filter = KlifsMetadataFilter()\n",
    "klifs_metadata_filter.from_klifs_metadata(klifs_metadata_loader.data_essential, PATH_KLIFS_DOWNLOAD)\n",
    "\n",
    "# Save KlifsMetadataFilter object to disc\n",
    "with open(PATH_KLIFS_DOWNLOAD / 'klifs_metadata_filter.p', 'wb') as f:\n",
    "    pickle.dump(klifs_metadata_filter, f)"
   ]
  },
  {
   "cell_type": "code",
   "execution_count": 19,
   "metadata": {},
   "outputs": [],
   "source": [
    "with open(PATH_KLIFS_DOWNLOAD / 'klifs_metadata_filter.p', 'rb') as f:\n",
    "    klifs_metadata_filter = pickle.load(f)"
   ]
  },
  {
   "cell_type": "code",
   "execution_count": 20,
   "metadata": {},
   "outputs": [
    {
     "data": {
      "text/html": [
       "<div>\n",
       "<style scoped>\n",
       "    .dataframe tbody tr th:only-of-type {\n",
       "        vertical-align: middle;\n",
       "    }\n",
       "\n",
       "    .dataframe tbody tr th {\n",
       "        vertical-align: top;\n",
       "    }\n",
       "\n",
       "    .dataframe thead th {\n",
       "        text-align: right;\n",
       "    }\n",
       "</style>\n",
       "<table border=\"1\" class=\"dataframe\">\n",
       "  <thead>\n",
       "    <tr style=\"text-align: right;\">\n",
       "      <th></th>\n",
       "      <th>filtering_step</th>\n",
       "      <th>n_filtered</th>\n",
       "      <th>n_remained</th>\n",
       "    </tr>\n",
       "  </thead>\n",
       "  <tbody>\n",
       "    <tr>\n",
       "      <th>0</th>\n",
       "      <td>Unfiltered</td>\n",
       "      <td>0</td>\n",
       "      <td>10469</td>\n",
       "    </tr>\n",
       "    <tr>\n",
       "      <th>1</th>\n",
       "      <td>Only Human</td>\n",
       "      <td>505</td>\n",
       "      <td>9964</td>\n",
       "    </tr>\n",
       "    <tr>\n",
       "      <th>2</th>\n",
       "      <td>Only DFG in</td>\n",
       "      <td>1298</td>\n",
       "      <td>8666</td>\n",
       "    </tr>\n",
       "    <tr>\n",
       "      <th>3</th>\n",
       "      <td>Only resolution &lt;= 4</td>\n",
       "      <td>42</td>\n",
       "      <td>8624</td>\n",
       "    </tr>\n",
       "    <tr>\n",
       "      <th>4</th>\n",
       "      <td>Only quality score &gt;= 4</td>\n",
       "      <td>18</td>\n",
       "      <td>8606</td>\n",
       "    </tr>\n",
       "    <tr>\n",
       "      <th>5</th>\n",
       "      <td>Only existing pocket/protein mol2 files</td>\n",
       "      <td>0</td>\n",
       "      <td>8606</td>\n",
       "    </tr>\n",
       "    <tr>\n",
       "      <th>6</th>\n",
       "      <td>Only existing protein pdb files</td>\n",
       "      <td>0</td>\n",
       "      <td>8606</td>\n",
       "    </tr>\n",
       "    <tr>\n",
       "      <th>7</th>\n",
       "      <td>Only parsable protein pdb files</td>\n",
       "      <td>0</td>\n",
       "      <td>8606</td>\n",
       "    </tr>\n",
       "    <tr>\n",
       "      <th>8</th>\n",
       "      <td>Only clean residue IDs (no underscores in pock...</td>\n",
       "      <td>3</td>\n",
       "      <td>8603</td>\n",
       "    </tr>\n",
       "    <tr>\n",
       "      <th>9</th>\n",
       "      <td>Only without X residues at important KLIFS pos...</td>\n",
       "      <td>1</td>\n",
       "      <td>8602</td>\n",
       "    </tr>\n",
       "    <tr>\n",
       "      <th>10</th>\n",
       "      <td>Only unique kinase-PDB ID pairs</td>\n",
       "      <td>4616</td>\n",
       "      <td>3986</td>\n",
       "    </tr>\n",
       "  </tbody>\n",
       "</table>\n",
       "</div>"
      ],
      "text/plain": [
       "                                       filtering_step n_filtered n_remained\n",
       "0                                          Unfiltered          0      10469\n",
       "1                                          Only Human        505       9964\n",
       "2                                         Only DFG in       1298       8666\n",
       "3                                Only resolution <= 4         42       8624\n",
       "4                             Only quality score >= 4         18       8606\n",
       "5             Only existing pocket/protein mol2 files          0       8606\n",
       "6                     Only existing protein pdb files          0       8606\n",
       "7                     Only parsable protein pdb files          0       8606\n",
       "8   Only clean residue IDs (no underscores in pock...          3       8603\n",
       "9   Only without X residues at important KLIFS pos...          1       8602\n",
       "10                    Only unique kinase-PDB ID pairs       4616       3986"
      ]
     },
     "execution_count": 20,
     "metadata": {},
     "output_type": "execute_result"
    }
   ],
   "source": [
    "klifs_metadata_filter.filtering_statistics"
   ]
  },
  {
   "cell_type": "code",
   "execution_count": 21,
   "metadata": {},
   "outputs": [],
   "source": [
    "klifs_metadata_filtered = klifs_metadata_filter.filtered\n",
    "klifs_metadata_filtered.to_csv(PATH_KLIFS_DOWNLOAD.parent / 'klifs_metadata_filtered.csv')"
   ]
  }
 ],
 "metadata": {
  "kernelspec": {
   "display_name": "kinsim",
   "language": "python",
   "name": "kinsim"
  },
  "language_info": {
   "codemirror_mode": {
    "name": "ipython",
    "version": 3
   },
   "file_extension": ".py",
   "mimetype": "text/x-python",
   "name": "python",
   "nbconvert_exporter": "python",
   "pygments_lexer": "ipython3",
   "version": "3.6.7"
  }
 },
 "nbformat": 4,
 "nbformat_minor": 4
}
