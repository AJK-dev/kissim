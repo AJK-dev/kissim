{
 "cells": [
  {
   "cell_type": "markdown",
   "metadata": {},
   "source": [
    "# Kinase data preprocessing\n",
    "\n",
    "This notebook performs the following preprocessing tasks:\n",
    "\n",
    "1. Set path to KLIFS download files\n",
    "2. Load, merge and filter KLIFS metadata\n",
    "3. Remove KLIFS metadata entries with missing mol2 files\n",
    "4. Download PDB files for KLIFS metadata\n",
    "5. Remove KLIFS metadata entries with missing PDB files \n",
    "6. Remove KLIFS metadata entries with unparsable PDB files\n",
    "7. Remove KLIFS metadata entries with underscored residue IDs in mol2 file\n",
    "8. Remove structures with KLIFS residue X\n",
    "9. Filter by resolution and quality score\n",
    "10. Save final KLIFS dataset (metadata)"
   ]
  },
  {
   "cell_type": "code",
   "execution_count": 1,
   "metadata": {},
   "outputs": [],
   "source": [
    "%load_ext autoreload"
   ]
  },
  {
   "cell_type": "code",
   "execution_count": 2,
   "metadata": {},
   "outputs": [],
   "source": [
    "%autoreload 2"
   ]
  },
  {
   "cell_type": "code",
   "execution_count": 3,
   "metadata": {},
   "outputs": [],
   "source": [
    "from pathlib import Path\n",
    "import sys\n",
    "\n",
    "from Bio.PDB import PDBList\n",
    "import numpy as np\n",
    "import pandas as pd\n",
    "\n",
    "sys.path.append('../..')\n",
    "from kinsim_structure.auxiliary import split_klifs_code, get_klifs_regions\n",
    "from kinsim_structure.preprocessing import get_klifs_metadata_from_files, download_from_pdb\n",
    "from kinsim_structure.preprocessing import get_species, get_dfg, get_unique_pdbid_per_kinase\n",
    "from kinsim_structure.preprocessing import drop_missing_mol2s, drop_missing_pdbs, drop_unparsable_pdbs\n",
    "from kinsim_structure.preprocessing import drop_underscored_residue_ids, drop_residue_x"
   ]
  },
  {
   "cell_type": "markdown",
   "metadata": {},
   "source": [
    "## Globals"
   ]
  },
  {
   "cell_type": "markdown",
   "metadata": {},
   "source": [
    "### 1. Set path to KLIFS download files"
   ]
  },
  {
   "cell_type": "code",
   "execution_count": 4,
   "metadata": {},
   "outputs": [],
   "source": [
    "# Path to data directory\n",
    "dataset_name = '20190724_full'\n",
    "\n",
    "path_to_kinsim = Path('.') / '..' / '..'\n",
    "path_to_data = Path('/') / 'home' / 'dominique' / 'Documents' / 'data' / 'kinsim' / dataset_name\n",
    "\n",
    "path_to_results = path_to_kinsim / 'results'"
   ]
  },
  {
   "cell_type": "markdown",
   "metadata": {},
   "source": [
    "### 2. Load, merge and filter KLIFS metadata"
   ]
  },
  {
   "cell_type": "markdown",
   "metadata": {},
   "source": [
    "#### Load and merge KLIFS download metadata files"
   ]
  },
  {
   "cell_type": "code",
   "execution_count": 5,
   "metadata": {},
   "outputs": [],
   "source": [
    "klifs_overview_file = path_to_data / 'raw' / 'KLIFS_download' /'overview.csv'\n",
    "klifs_export_file = path_to_data / 'raw'/ 'KLIFS_export.csv'"
   ]
  },
  {
   "cell_type": "code",
   "execution_count": 6,
   "metadata": {
    "scrolled": true
   },
   "outputs": [],
   "source": [
    "klifs_metadata = get_klifs_metadata_from_files(klifs_overview_file, klifs_export_file)"
   ]
  },
  {
   "cell_type": "code",
   "execution_count": 7,
   "metadata": {},
   "outputs": [
    {
     "data": {
      "text/plain": [
       "(10136, 21)"
      ]
     },
     "execution_count": 7,
     "metadata": {},
     "output_type": "execute_result"
    }
   ],
   "source": [
    "klifs_metadata.shape"
   ]
  },
  {
   "cell_type": "code",
   "execution_count": 8,
   "metadata": {},
   "outputs": [
    {
     "data": {
      "text/plain": [
       "array(['CMGC', 'TK', 'CAMK', 'AGC', 'Other', 'STE', 'TKL', 'CK1',\n",
       "       'Atypical'], dtype=object)"
      ]
     },
     "execution_count": 8,
     "metadata": {},
     "output_type": "execute_result"
    }
   ],
   "source": [
    "klifs_metadata.groups.unique()"
   ]
  },
  {
   "cell_type": "code",
   "execution_count": 9,
   "metadata": {},
   "outputs": [
    {
     "data": {
      "text/plain": [
       "groups\n",
       "AGC          677\n",
       "Atypical     361\n",
       "CAMK        1079\n",
       "CK1          378\n",
       "CMGC        2753\n",
       "Other        787\n",
       "STE          596\n",
       "TK          2705\n",
       "TKL          800\n",
       "dtype: int64"
      ]
     },
     "execution_count": 9,
     "metadata": {},
     "output_type": "execute_result"
    }
   ],
   "source": [
    "klifs_metadata.groupby(by='groups').size()"
   ]
  },
  {
   "cell_type": "raw",
   "metadata": {},
   "source": [
    "klifs_metadata.to_csv(path_to_data / 'preprocessed' / 'klifs_metadata_unfiltered.csv')"
   ]
  },
  {
   "cell_type": "markdown",
   "metadata": {},
   "source": [
    "#### Filter metadata by species\n",
    "\n",
    "Keep only human entries"
   ]
  },
  {
   "cell_type": "code",
   "execution_count": 10,
   "metadata": {},
   "outputs": [
    {
     "data": {
      "text/plain": [
       "species\n",
       "Human    9661\n",
       "Mouse     475\n",
       "dtype: int64"
      ]
     },
     "execution_count": 10,
     "metadata": {},
     "output_type": "execute_result"
    }
   ],
   "source": [
    "klifs_metadata.groupby('species').size()"
   ]
  },
  {
   "cell_type": "code",
   "execution_count": 11,
   "metadata": {},
   "outputs": [],
   "source": [
    "klifs_metadata_filtered = get_species(klifs_metadata, species='Human')"
   ]
  },
  {
   "cell_type": "code",
   "execution_count": 12,
   "metadata": {},
   "outputs": [
    {
     "data": {
      "text/plain": [
       "(9661, 21)"
      ]
     },
     "execution_count": 12,
     "metadata": {},
     "output_type": "execute_result"
    }
   ],
   "source": [
    "klifs_metadata_filtered.shape"
   ]
  },
  {
   "cell_type": "markdown",
   "metadata": {},
   "source": [
    "#### Filter metadata by DFG loop position\n",
    "\n",
    "Keep only structures with DFG-in loops."
   ]
  },
  {
   "cell_type": "code",
   "execution_count": 13,
   "metadata": {},
   "outputs": [
    {
     "data": {
      "text/plain": [
       "dfg\n",
       "in          8449\n",
       "na           215\n",
       "out          698\n",
       "out-like     299\n",
       "dtype: int64"
      ]
     },
     "execution_count": 13,
     "metadata": {},
     "output_type": "execute_result"
    }
   ],
   "source": [
    "klifs_metadata_filtered.groupby('dfg').size()"
   ]
  },
  {
   "cell_type": "code",
   "execution_count": 14,
   "metadata": {},
   "outputs": [],
   "source": [
    "klifs_metadata_filtered = get_dfg(klifs_metadata_filtered, dfg='in')"
   ]
  },
  {
   "cell_type": "code",
   "execution_count": 15,
   "metadata": {},
   "outputs": [
    {
     "data": {
      "text/plain": [
       "(8449, 21)"
      ]
     },
     "execution_count": 15,
     "metadata": {},
     "output_type": "execute_result"
    }
   ],
   "source": [
    "klifs_metadata_filtered.shape"
   ]
  },
  {
   "cell_type": "markdown",
   "metadata": {},
   "source": [
    "#### Filter metadata by unique kinase-PDB ID combinations\n",
    "Keep only the KLIFS entry per kinase-PDB ID combination with the best quality score."
   ]
  },
  {
   "cell_type": "code",
   "execution_count": 16,
   "metadata": {},
   "outputs": [],
   "source": [
    "klifs_metadata_filtered = get_unique_pdbid_per_kinase(klifs_metadata_filtered)"
   ]
  },
  {
   "cell_type": "code",
   "execution_count": 17,
   "metadata": {},
   "outputs": [
    {
     "data": {
      "text/plain": [
       "(3935, 22)"
      ]
     },
     "execution_count": 17,
     "metadata": {},
     "output_type": "execute_result"
    }
   ],
   "source": [
    "klifs_metadata_filtered.shape"
   ]
  },
  {
   "cell_type": "raw",
   "metadata": {},
   "source": [
    "klifs_metadata_filtered.to_csv(path_to_data / 'preprocessed' / 'klifs_metadata_step2result.csv')"
   ]
  },
  {
   "cell_type": "markdown",
   "metadata": {},
   "source": [
    "### 3. Remove KLIFS metadata entries with missing mol2 files"
   ]
  },
  {
   "cell_type": "code",
   "execution_count": 18,
   "metadata": {},
   "outputs": [],
   "source": [
    "klifs_metadata_filtered = drop_missing_mol2s(klifs_metadata_filtered, path_to_data)"
   ]
  },
  {
   "cell_type": "code",
   "execution_count": 19,
   "metadata": {},
   "outputs": [
    {
     "data": {
      "text/plain": [
       "(3922, 22)"
      ]
     },
     "execution_count": 19,
     "metadata": {},
     "output_type": "execute_result"
    }
   ],
   "source": [
    "klifs_metadata_filtered.shape"
   ]
  },
  {
   "cell_type": "code",
   "execution_count": 20,
   "metadata": {},
   "outputs": [
    {
     "name": "stdout",
     "output_type": "stream",
     "text": [
      "Number of unique PDB IDs in dataset: 3916\n"
     ]
    }
   ],
   "source": [
    "print(f'Number of unique PDB IDs in dataset: {klifs_metadata_filtered.pdb_id.unique().size}')"
   ]
  },
  {
   "cell_type": "code",
   "execution_count": 21,
   "metadata": {
    "scrolled": true
   },
   "outputs": [
    {
     "data": {
      "text/html": [
       "<div>\n",
       "<style scoped>\n",
       "    .dataframe tbody tr th:only-of-type {\n",
       "        vertical-align: middle;\n",
       "    }\n",
       "\n",
       "    .dataframe tbody tr th {\n",
       "        vertical-align: top;\n",
       "    }\n",
       "\n",
       "    .dataframe thead th {\n",
       "        text-align: right;\n",
       "    }\n",
       "</style>\n",
       "<table border=\"1\" class=\"dataframe\">\n",
       "  <thead>\n",
       "    <tr style=\"text-align: right;\">\n",
       "      <th></th>\n",
       "      <th>index</th>\n",
       "      <th>kinase</th>\n",
       "      <th>family</th>\n",
       "      <th>groups</th>\n",
       "      <th>pdb_id</th>\n",
       "      <th>chain</th>\n",
       "      <th>alternate_model</th>\n",
       "      <th>species</th>\n",
       "      <th>ligand_orthosteric_name</th>\n",
       "      <th>ligand_orthosteric_pdb_id</th>\n",
       "      <th>...</th>\n",
       "      <th>dfg</th>\n",
       "      <th>ac_helix</th>\n",
       "      <th>rmsd1</th>\n",
       "      <th>rmsd2</th>\n",
       "      <th>qualityscore</th>\n",
       "      <th>pocket</th>\n",
       "      <th>resolution</th>\n",
       "      <th>missing_residues</th>\n",
       "      <th>missing_atoms</th>\n",
       "      <th>full_ifp</th>\n",
       "    </tr>\n",
       "  </thead>\n",
       "  <tbody>\n",
       "    <tr>\n",
       "      <th>2573</th>\n",
       "      <td>1013</td>\n",
       "      <td>MAPKAPK2</td>\n",
       "      <td>MAPKAPK</td>\n",
       "      <td>CAMK</td>\n",
       "      <td>2onl</td>\n",
       "      <td>C</td>\n",
       "      <td>-</td>\n",
       "      <td>Human</td>\n",
       "      <td>-</td>\n",
       "      <td>-</td>\n",
       "      <td>...</td>\n",
       "      <td>in</td>\n",
       "      <td>in</td>\n",
       "      <td>0.798</td>\n",
       "      <td>2.852</td>\n",
       "      <td>8.0</td>\n",
       "      <td>NAIIDDYKVKVLQFALKMLKARREVELHWRASPHIVRIVDVLIVME...</td>\n",
       "      <td>4.00</td>\n",
       "      <td>0</td>\n",
       "      <td>8</td>\n",
       "      <td>NaN</td>\n",
       "    </tr>\n",
       "    <tr>\n",
       "      <th>3809</th>\n",
       "      <td>3825</td>\n",
       "      <td>p38a</td>\n",
       "      <td>MAPK</td>\n",
       "      <td>CMGC</td>\n",
       "      <td>2onl</td>\n",
       "      <td>B</td>\n",
       "      <td>-</td>\n",
       "      <td>Human</td>\n",
       "      <td>-</td>\n",
       "      <td>-</td>\n",
       "      <td>...</td>\n",
       "      <td>in</td>\n",
       "      <td>out-like</td>\n",
       "      <td>0.822</td>\n",
       "      <td>2.133</td>\n",
       "      <td>9.0</td>\n",
       "      <td>SPVGSGAYGSVCAVAVKKLRTYRELRLLKHMKENVIGLLDVYLVTH...</td>\n",
       "      <td>4.00</td>\n",
       "      <td>0</td>\n",
       "      <td>10</td>\n",
       "      <td>NaN</td>\n",
       "    </tr>\n",
       "    <tr>\n",
       "      <th>314</th>\n",
       "      <td>2363</td>\n",
       "      <td>BRAF</td>\n",
       "      <td>RAF</td>\n",
       "      <td>TKL</td>\n",
       "      <td>4mne</td>\n",
       "      <td>B</td>\n",
       "      <td>B</td>\n",
       "      <td>Human</td>\n",
       "      <td>-</td>\n",
       "      <td>-</td>\n",
       "      <td>...</td>\n",
       "      <td>in</td>\n",
       "      <td>in</td>\n",
       "      <td>0.796</td>\n",
       "      <td>1.986</td>\n",
       "      <td>6.4</td>\n",
       "      <td>QRIG____GTVYKVAVKMLAFKNEVGVLRKTRVNILLFMGYAIVTQ...</td>\n",
       "      <td>2.85</td>\n",
       "      <td>4</td>\n",
       "      <td>0</td>\n",
       "      <td>NaN</td>\n",
       "    </tr>\n",
       "    <tr>\n",
       "      <th>2530</th>\n",
       "      <td>2555</td>\n",
       "      <td>MAP2K1</td>\n",
       "      <td>STE7</td>\n",
       "      <td>STE</td>\n",
       "      <td>4mne</td>\n",
       "      <td>H</td>\n",
       "      <td>B</td>\n",
       "      <td>Human</td>\n",
       "      <td>PHOSPHOMETHYLPHOSPHONIC ACID ADENYLATE ESTER</td>\n",
       "      <td>ACP</td>\n",
       "      <td>...</td>\n",
       "      <td>in</td>\n",
       "      <td>out</td>\n",
       "      <td>0.833</td>\n",
       "      <td>2.218</td>\n",
       "      <td>8.0</td>\n",
       "      <td>SELGAGNGGVVFKMARKLIQIIRELQVLHECNPYIVGFYGASICME...</td>\n",
       "      <td>2.85</td>\n",
       "      <td>0</td>\n",
       "      <td>0</td>\n",
       "      <td>0000000000000010000001000000100000010000001001...</td>\n",
       "    </tr>\n",
       "    <tr>\n",
       "      <th>1734</th>\n",
       "      <td>1950</td>\n",
       "      <td>Erk2</td>\n",
       "      <td>MAPK</td>\n",
       "      <td>CMGC</td>\n",
       "      <td>4nif</td>\n",
       "      <td>B</td>\n",
       "      <td>B</td>\n",
       "      <td>Human</td>\n",
       "      <td>PHOSPHOAMINOPHOSPHONIC ACID-ADENYLATE ESTER</td>\n",
       "      <td>ANP</td>\n",
       "      <td>...</td>\n",
       "      <td>in</td>\n",
       "      <td>in</td>\n",
       "      <td>0.784</td>\n",
       "      <td>2.095</td>\n",
       "      <td>8.0</td>\n",
       "      <td>SYIGEGAYGMVCSVAIKKIRTLREIKILLRFRENIIGINDIYIVQD...</td>\n",
       "      <td>2.15</td>\n",
       "      <td>0</td>\n",
       "      <td>0</td>\n",
       "      <td>0000000000000010000001000000100000010000000001...</td>\n",
       "    </tr>\n",
       "    <tr>\n",
       "      <th>3278</th>\n",
       "      <td>4272</td>\n",
       "      <td>RSK1-b</td>\n",
       "      <td>RSKb</td>\n",
       "      <td>CAMK</td>\n",
       "      <td>4nif</td>\n",
       "      <td>D</td>\n",
       "      <td>A</td>\n",
       "      <td>Human</td>\n",
       "      <td>-</td>\n",
       "      <td>-</td>\n",
       "      <td>...</td>\n",
       "      <td>in</td>\n",
       "      <td>in</td>\n",
       "      <td>0.785</td>\n",
       "      <td>2.114</td>\n",
       "      <td>9.6</td>\n",
       "      <td>ETIGVGSYSECKRYAVKVIDPSEEIEILLRYGPNIITLKDVYLVTE...</td>\n",
       "      <td>2.15</td>\n",
       "      <td>0</td>\n",
       "      <td>4</td>\n",
       "      <td>NaN</td>\n",
       "    </tr>\n",
       "    <tr>\n",
       "      <th>1529</th>\n",
       "      <td>678</td>\n",
       "      <td>EGFR</td>\n",
       "      <td>EGFR</td>\n",
       "      <td>TK</td>\n",
       "      <td>4riw</td>\n",
       "      <td>D</td>\n",
       "      <td>-</td>\n",
       "      <td>Human</td>\n",
       "      <td>ADENOSINE-5'-DIPHOSPHATE</td>\n",
       "      <td>ADP</td>\n",
       "      <td>...</td>\n",
       "      <td>in</td>\n",
       "      <td>in</td>\n",
       "      <td>0.787</td>\n",
       "      <td>2.091</td>\n",
       "      <td>8.0</td>\n",
       "      <td>KVLGSGAFGTVYKVAIKELEILDEAYVMASVDPHVCRLLGIQLITQ...</td>\n",
       "      <td>3.10</td>\n",
       "      <td>0</td>\n",
       "      <td>0</td>\n",
       "      <td>0000000000000010000000000000000000000000000000...</td>\n",
       "    </tr>\n",
       "    <tr>\n",
       "      <th>1691</th>\n",
       "      <td>1491</td>\n",
       "      <td>ErbB3</td>\n",
       "      <td>EGFR</td>\n",
       "      <td>TK</td>\n",
       "      <td>4riw</td>\n",
       "      <td>C</td>\n",
       "      <td>-</td>\n",
       "      <td>Human</td>\n",
       "      <td>PHOSPHOAMINOPHOSPHONIC ACID-ADENYLATE ESTER</td>\n",
       "      <td>ANP</td>\n",
       "      <td>...</td>\n",
       "      <td>in</td>\n",
       "      <td>out</td>\n",
       "      <td>0.840</td>\n",
       "      <td>2.205</td>\n",
       "      <td>8.0</td>\n",
       "      <td>KVLGSGVFGTVHKVCIKVIAVTDHMLAIGSLDAHIVRLLGLQLVTQ...</td>\n",
       "      <td>3.10</td>\n",
       "      <td>0</td>\n",
       "      <td>0</td>\n",
       "      <td>0000000000000010000001000000100000000000000001...</td>\n",
       "    </tr>\n",
       "    <tr>\n",
       "      <th>1530</th>\n",
       "      <td>614</td>\n",
       "      <td>EGFR</td>\n",
       "      <td>EGFR</td>\n",
       "      <td>TK</td>\n",
       "      <td>4rix</td>\n",
       "      <td>B</td>\n",
       "      <td>-</td>\n",
       "      <td>Human</td>\n",
       "      <td>ADENOSINE-5'-DIPHOSPHATE</td>\n",
       "      <td>ADP</td>\n",
       "      <td>...</td>\n",
       "      <td>in</td>\n",
       "      <td>in</td>\n",
       "      <td>0.792</td>\n",
       "      <td>2.087</td>\n",
       "      <td>8.0</td>\n",
       "      <td>KVLGSGAFGTVYKVAIKELEILDEAYVMASVDPHVCRLLGIQLITQ...</td>\n",
       "      <td>3.10</td>\n",
       "      <td>0</td>\n",
       "      <td>0</td>\n",
       "      <td>0000000000000010000000000000000000000000000000...</td>\n",
       "    </tr>\n",
       "    <tr>\n",
       "      <th>1692</th>\n",
       "      <td>1473</td>\n",
       "      <td>ErbB3</td>\n",
       "      <td>EGFR</td>\n",
       "      <td>TK</td>\n",
       "      <td>4rix</td>\n",
       "      <td>A</td>\n",
       "      <td>-</td>\n",
       "      <td>Human</td>\n",
       "      <td>PHOSPHOAMINOPHOSPHONIC ACID-ADENYLATE ESTER</td>\n",
       "      <td>ANP</td>\n",
       "      <td>...</td>\n",
       "      <td>in</td>\n",
       "      <td>out</td>\n",
       "      <td>0.845</td>\n",
       "      <td>2.213</td>\n",
       "      <td>8.0</td>\n",
       "      <td>KVLGSGVFGTVHKVCIKVIAVTDHMLAIGSLDAHIVRLLGLQLVTQ...</td>\n",
       "      <td>3.10</td>\n",
       "      <td>0</td>\n",
       "      <td>0</td>\n",
       "      <td>0000000000000010000001000000000000000000000000...</td>\n",
       "    </tr>\n",
       "    <tr>\n",
       "      <th>1531</th>\n",
       "      <td>628</td>\n",
       "      <td>EGFR</td>\n",
       "      <td>EGFR</td>\n",
       "      <td>TK</td>\n",
       "      <td>4riy</td>\n",
       "      <td>B</td>\n",
       "      <td>-</td>\n",
       "      <td>Human</td>\n",
       "      <td>ADENOSINE-5'-DIPHOSPHATE</td>\n",
       "      <td>ADP</td>\n",
       "      <td>...</td>\n",
       "      <td>in</td>\n",
       "      <td>in</td>\n",
       "      <td>0.795</td>\n",
       "      <td>2.086</td>\n",
       "      <td>8.0</td>\n",
       "      <td>KVLGSGAFGTVYKVAIKELEILDEAYVMASVDPHVCRLLGIQLITQ...</td>\n",
       "      <td>2.98</td>\n",
       "      <td>0</td>\n",
       "      <td>0</td>\n",
       "      <td>0000000000000010000000000000000000000000000000...</td>\n",
       "    </tr>\n",
       "    <tr>\n",
       "      <th>1693</th>\n",
       "      <td>1463</td>\n",
       "      <td>ErbB3</td>\n",
       "      <td>EGFR</td>\n",
       "      <td>TK</td>\n",
       "      <td>4riy</td>\n",
       "      <td>A</td>\n",
       "      <td>-</td>\n",
       "      <td>Human</td>\n",
       "      <td>PHOSPHOAMINOPHOSPHONIC ACID-ADENYLATE ESTER</td>\n",
       "      <td>ANP</td>\n",
       "      <td>...</td>\n",
       "      <td>in</td>\n",
       "      <td>out</td>\n",
       "      <td>0.845</td>\n",
       "      <td>2.215</td>\n",
       "      <td>8.0</td>\n",
       "      <td>KVLGSGVFGTVHKVCIKVIAVTDHMLAIGSLDAHIVRLLGLQLVTQ...</td>\n",
       "      <td>2.98</td>\n",
       "      <td>0</td>\n",
       "      <td>0</td>\n",
       "      <td>0000000000000010000001000000000000000000000001...</td>\n",
       "    </tr>\n",
       "  </tbody>\n",
       "</table>\n",
       "<p>12 rows × 22 columns</p>\n",
       "</div>"
      ],
      "text/plain": [
       "      index    kinase   family groups pdb_id chain alternate_model species  \\\n",
       "2573   1013  MAPKAPK2  MAPKAPK   CAMK   2onl     C               -   Human   \n",
       "3809   3825      p38a     MAPK   CMGC   2onl     B               -   Human   \n",
       "314    2363      BRAF      RAF    TKL   4mne     B               B   Human   \n",
       "2530   2555    MAP2K1     STE7    STE   4mne     H               B   Human   \n",
       "1734   1950      Erk2     MAPK   CMGC   4nif     B               B   Human   \n",
       "3278   4272    RSK1-b     RSKb   CAMK   4nif     D               A   Human   \n",
       "1529    678      EGFR     EGFR     TK   4riw     D               -   Human   \n",
       "1691   1491     ErbB3     EGFR     TK   4riw     C               -   Human   \n",
       "1530    614      EGFR     EGFR     TK   4rix     B               -   Human   \n",
       "1692   1473     ErbB3     EGFR     TK   4rix     A               -   Human   \n",
       "1531    628      EGFR     EGFR     TK   4riy     B               -   Human   \n",
       "1693   1463     ErbB3     EGFR     TK   4riy     A               -   Human   \n",
       "\n",
       "                           ligand_orthosteric_name ligand_orthosteric_pdb_id  \\\n",
       "2573                                             -                         -   \n",
       "3809                                             -                         -   \n",
       "314                                              -                         -   \n",
       "2530  PHOSPHOMETHYLPHOSPHONIC ACID ADENYLATE ESTER                       ACP   \n",
       "1734   PHOSPHOAMINOPHOSPHONIC ACID-ADENYLATE ESTER                       ANP   \n",
       "3278                                             -                         -   \n",
       "1529                      ADENOSINE-5'-DIPHOSPHATE                       ADP   \n",
       "1691   PHOSPHOAMINOPHOSPHONIC ACID-ADENYLATE ESTER                       ANP   \n",
       "1530                      ADENOSINE-5'-DIPHOSPHATE                       ADP   \n",
       "1692   PHOSPHOAMINOPHOSPHONIC ACID-ADENYLATE ESTER                       ANP   \n",
       "1531                      ADENOSINE-5'-DIPHOSPHATE                       ADP   \n",
       "1693   PHOSPHOAMINOPHOSPHONIC ACID-ADENYLATE ESTER                       ANP   \n",
       "\n",
       "      ... dfg  ac_helix  rmsd1  rmsd2  qualityscore  \\\n",
       "2573  ...  in        in  0.798  2.852           8.0   \n",
       "3809  ...  in  out-like  0.822  2.133           9.0   \n",
       "314   ...  in        in  0.796  1.986           6.4   \n",
       "2530  ...  in       out  0.833  2.218           8.0   \n",
       "1734  ...  in        in  0.784  2.095           8.0   \n",
       "3278  ...  in        in  0.785  2.114           9.6   \n",
       "1529  ...  in        in  0.787  2.091           8.0   \n",
       "1691  ...  in       out  0.840  2.205           8.0   \n",
       "1530  ...  in        in  0.792  2.087           8.0   \n",
       "1692  ...  in       out  0.845  2.213           8.0   \n",
       "1531  ...  in        in  0.795  2.086           8.0   \n",
       "1693  ...  in       out  0.845  2.215           8.0   \n",
       "\n",
       "                                                 pocket  resolution  \\\n",
       "2573  NAIIDDYKVKVLQFALKMLKARREVELHWRASPHIVRIVDVLIVME...        4.00   \n",
       "3809  SPVGSGAYGSVCAVAVKKLRTYRELRLLKHMKENVIGLLDVYLVTH...        4.00   \n",
       "314   QRIG____GTVYKVAVKMLAFKNEVGVLRKTRVNILLFMGYAIVTQ...        2.85   \n",
       "2530  SELGAGNGGVVFKMARKLIQIIRELQVLHECNPYIVGFYGASICME...        2.85   \n",
       "1734  SYIGEGAYGMVCSVAIKKIRTLREIKILLRFRENIIGINDIYIVQD...        2.15   \n",
       "3278  ETIGVGSYSECKRYAVKVIDPSEEIEILLRYGPNIITLKDVYLVTE...        2.15   \n",
       "1529  KVLGSGAFGTVYKVAIKELEILDEAYVMASVDPHVCRLLGIQLITQ...        3.10   \n",
       "1691  KVLGSGVFGTVHKVCIKVIAVTDHMLAIGSLDAHIVRLLGLQLVTQ...        3.10   \n",
       "1530  KVLGSGAFGTVYKVAIKELEILDEAYVMASVDPHVCRLLGIQLITQ...        3.10   \n",
       "1692  KVLGSGVFGTVHKVCIKVIAVTDHMLAIGSLDAHIVRLLGLQLVTQ...        3.10   \n",
       "1531  KVLGSGAFGTVYKVAIKELEILDEAYVMASVDPHVCRLLGIQLITQ...        2.98   \n",
       "1693  KVLGSGVFGTVHKVCIKVIAVTDHMLAIGSLDAHIVRLLGLQLVTQ...        2.98   \n",
       "\n",
       "     missing_residues  missing_atoms  \\\n",
       "2573                0              8   \n",
       "3809                0             10   \n",
       "314                 4              0   \n",
       "2530                0              0   \n",
       "1734                0              0   \n",
       "3278                0              4   \n",
       "1529                0              0   \n",
       "1691                0              0   \n",
       "1530                0              0   \n",
       "1692                0              0   \n",
       "1531                0              0   \n",
       "1693                0              0   \n",
       "\n",
       "                                               full_ifp  \n",
       "2573                                                NaN  \n",
       "3809                                                NaN  \n",
       "314                                                 NaN  \n",
       "2530  0000000000000010000001000000100000010000001001...  \n",
       "1734  0000000000000010000001000000100000010000000001...  \n",
       "3278                                                NaN  \n",
       "1529  0000000000000010000000000000000000000000000000...  \n",
       "1691  0000000000000010000001000000100000000000000001...  \n",
       "1530  0000000000000010000000000000000000000000000000...  \n",
       "1692  0000000000000010000001000000000000000000000000...  \n",
       "1531  0000000000000010000000000000000000000000000000...  \n",
       "1693  0000000000000010000001000000000000000000000001...  \n",
       "\n",
       "[12 rows x 22 columns]"
      ]
     },
     "execution_count": 21,
     "metadata": {},
     "output_type": "execute_result"
    }
   ],
   "source": [
    "# Check if there are PDB IDs occurring multiple times for one kinase\n",
    "grouped = klifs_metadata_filtered.groupby('pdb_id')['kinase'].size()\n",
    "multiple_pdb_ids = list(grouped[grouped > 1].index)\n",
    "klifs_metadata_filtered.loc[klifs_metadata_filtered.pdb_id.isin(multiple_pdb_ids)].sort_values('pdb_id')"
   ]
  },
  {
   "cell_type": "markdown",
   "metadata": {},
   "source": [
    "### 4. Download PDB files for KLIFS metadata"
   ]
  },
  {
   "cell_type": "code",
   "execution_count": 22,
   "metadata": {
    "scrolled": true
   },
   "outputs": [],
   "source": [
    "# Download cif files if file does not exist\n",
    "download_from_pdb(klifs_metadata_filtered, path_to_data)"
   ]
  },
  {
   "cell_type": "markdown",
   "metadata": {},
   "source": [
    "### 5. Remove KLIFS metadata entries with missing PDB files "
   ]
  },
  {
   "cell_type": "markdown",
   "metadata": {},
   "source": [
    "Let's check if we have PDB files for all entries in the KLIFS metadata. For PDB IDs without a corresponding cif file, remove corresponding entries in KLIFS metadata"
   ]
  },
  {
   "cell_type": "code",
   "execution_count": 23,
   "metadata": {},
   "outputs": [],
   "source": [
    "# Get PDBs in KLIFS metadata\n",
    "pdb_ids_metadata = klifs_metadata_filtered.pdb_id.unique()\n",
    "\n",
    "# Get PDBs for downloaded cif files\n",
    "pdb_ids_ciffiles = [i.stem for i in (path_to_data / 'raw' / 'PDB_download').glob('*')]"
   ]
  },
  {
   "cell_type": "code",
   "execution_count": 24,
   "metadata": {},
   "outputs": [
    {
     "name": "stdout",
     "output_type": "stream",
     "text": [
      "Number of KLIFS metadata PDB IDs with missing CIF file: 0\n"
     ]
    }
   ],
   "source": [
    "# Missing CIF files that are in the KLIFS dataset (deprecated PDB entries)\n",
    "missing_cifs = set(pdb_ids_metadata) - set(pdb_ids_ciffiles)\n",
    "print(f'Number of KLIFS metadata PDB IDs with missing CIF file: {len(missing_cifs)}')"
   ]
  },
  {
   "cell_type": "code",
   "execution_count": 25,
   "metadata": {
    "scrolled": true
   },
   "outputs": [],
   "source": [
    "# In case of missing cif files, try to download them again\n",
    "pdbfile = PDBList()\n",
    "for i in missing_cifs:\n",
    "    pdbfile.retrieve_pdb_file(i, pdir=path_to_data / 'raw' / 'PDB_download')"
   ]
  },
  {
   "cell_type": "code",
   "execution_count": 26,
   "metadata": {},
   "outputs": [],
   "source": [
    "# In case of missing cif files, delete corresponding PDB ID entries in KLIFS metadata\n",
    "klifs_metadata_filtered = drop_missing_pdbs(klifs_metadata_filtered, path_to_data)"
   ]
  },
  {
   "cell_type": "code",
   "execution_count": 27,
   "metadata": {},
   "outputs": [
    {
     "data": {
      "text/plain": [
       "(3922, 22)"
      ]
     },
     "execution_count": 27,
     "metadata": {},
     "output_type": "execute_result"
    }
   ],
   "source": [
    "klifs_metadata_filtered.shape"
   ]
  },
  {
   "cell_type": "markdown",
   "metadata": {},
   "source": [
    "### 6. Remove KLIFS metadata entries with unparsable PDB files\n",
    "\n",
    "Remove PDB IDs for which parsing does not work (using `Bio.PDB.MMCIFParser`)."
   ]
  },
  {
   "cell_type": "raw",
   "metadata": {},
   "source": [
    "klifs_metadata_filtered = drop_unparsable_pdbs(klifs_metadata_filtered, path_to_data)"
   ]
  },
  {
   "cell_type": "code",
   "execution_count": 29,
   "metadata": {},
   "outputs": [
    {
     "data": {
      "text/plain": [
       "(3920, 22)"
      ]
     },
     "execution_count": 29,
     "metadata": {},
     "output_type": "execute_result"
    }
   ],
   "source": [
    "klifs_metadata_filtered.shape"
   ]
  },
  {
   "cell_type": "markdown",
   "metadata": {},
   "source": [
    "### 7. Remove KLIFS metadata entries with underscored residue IDs in mol2 file"
   ]
  },
  {
   "cell_type": "raw",
   "metadata": {},
   "source": [
    "klifs_metadata_filtered = drop_underscored_residue_ids(klifs_metadata_filtered)"
   ]
  },
  {
   "cell_type": "code",
   "execution_count": 31,
   "metadata": {},
   "outputs": [
    {
     "data": {
      "text/plain": [
       "(3918, 22)"
      ]
     },
     "execution_count": 31,
     "metadata": {},
     "output_type": "execute_result"
    }
   ],
   "source": [
    "klifs_metadata_filtered.shape"
   ]
  },
  {
   "cell_type": "raw",
   "metadata": {},
   "source": [
    "klifs_metadata_filtered.to_csv(path_to_data / 'preprocessed' / 'klifs_metadata_preprocessed_incl_resX.csv')"
   ]
  },
  {
   "cell_type": "raw",
   "metadata": {},
   "source": [
    "klifs_metadata_filtered = pd.read_csv(path_to_data / 'preprocessed' / 'klifs_metadata_preprocessed_incl_resX.csv')"
   ]
  },
  {
   "cell_type": "markdown",
   "metadata": {},
   "source": [
    "### 8. Remove structures with KLIFS residue X\n",
    "\n",
    "Some structures contain mutations or modifications in their KLIFS binding site. KLIFS denotes these with an X in the pocket sequence.\n",
    "\n",
    "We remove all structures containing such a residue in important regions in the binding site."
   ]
  },
  {
   "cell_type": "code",
   "execution_count": 32,
   "metadata": {},
   "outputs": [
    {
     "name": "stdout",
     "output_type": "stream",
     "text": [
      "3218\n",
      "Drop PDB ID: 4otp\n"
     ]
    }
   ],
   "source": [
    "klifs_metadata_filtered = drop_residue_x(klifs_metadata_filtered)"
   ]
  },
  {
   "cell_type": "code",
   "execution_count": 33,
   "metadata": {},
   "outputs": [
    {
     "data": {
      "text/plain": [
       "(3917, 22)"
      ]
     },
     "execution_count": 33,
     "metadata": {},
     "output_type": "execute_result"
    }
   ],
   "source": [
    "klifs_metadata_filtered.shape"
   ]
  },
  {
   "cell_type": "code",
   "execution_count": 34,
   "metadata": {},
   "outputs": [
    {
     "data": {
      "text/html": [
       "<div>\n",
       "<style scoped>\n",
       "    .dataframe tbody tr th:only-of-type {\n",
       "        vertical-align: middle;\n",
       "    }\n",
       "\n",
       "    .dataframe tbody tr th {\n",
       "        vertical-align: top;\n",
       "    }\n",
       "\n",
       "    .dataframe thead th {\n",
       "        text-align: right;\n",
       "    }\n",
       "</style>\n",
       "<table border=\"1\" class=\"dataframe\">\n",
       "  <thead>\n",
       "    <tr style=\"text-align: right;\">\n",
       "      <th></th>\n",
       "      <th>index</th>\n",
       "      <th>kinase</th>\n",
       "      <th>family</th>\n",
       "      <th>groups</th>\n",
       "      <th>pdb_id</th>\n",
       "      <th>chain</th>\n",
       "      <th>alternate_model</th>\n",
       "      <th>species</th>\n",
       "      <th>ligand_orthosteric_name</th>\n",
       "      <th>ligand_orthosteric_pdb_id</th>\n",
       "      <th>...</th>\n",
       "      <th>dfg</th>\n",
       "      <th>ac_helix</th>\n",
       "      <th>rmsd1</th>\n",
       "      <th>rmsd2</th>\n",
       "      <th>qualityscore</th>\n",
       "      <th>pocket</th>\n",
       "      <th>resolution</th>\n",
       "      <th>missing_residues</th>\n",
       "      <th>missing_atoms</th>\n",
       "      <th>full_ifp</th>\n",
       "    </tr>\n",
       "  </thead>\n",
       "  <tbody>\n",
       "  </tbody>\n",
       "</table>\n",
       "<p>0 rows × 22 columns</p>\n",
       "</div>"
      ],
      "text/plain": [
       "Empty DataFrame\n",
       "Columns: [index, kinase, family, groups, pdb_id, chain, alternate_model, species, ligand_orthosteric_name, ligand_orthosteric_pdb_id, ligand_allosteric_name, ligand_allosteric_pdb_id, dfg, ac_helix, rmsd1, rmsd2, qualityscore, pocket, resolution, missing_residues, missing_atoms, full_ifp]\n",
       "Index: []\n",
       "\n",
       "[0 rows x 22 columns]"
      ]
     },
     "execution_count": 34,
     "metadata": {},
     "output_type": "execute_result"
    }
   ],
   "source": [
    "klifs_metadata_filtered[klifs_metadata_filtered.pdb_id=='4otp']"
   ]
  },
  {
   "cell_type": "raw",
   "metadata": {},
   "source": [
    "klifs_metadata_filtered.to_csv(path_to_data / 'preprocessed' / 'klifs_metadata_preprocessed_incl_resolution_qualityscore.csv')"
   ]
  },
  {
   "cell_type": "markdown",
   "metadata": {},
   "source": [
    "### 9. Filter by resolution and quality score"
   ]
  },
  {
   "cell_type": "code",
   "execution_count": 35,
   "metadata": {},
   "outputs": [],
   "source": [
    "klifs_metadata_filtered = klifs_metadata_filtered[\n",
    "    (klifs_metadata_filtered.resolution <= 4) &\n",
    "    (klifs_metadata_filtered.qualityscore >= 4)\n",
    "].copy()"
   ]
  },
  {
   "cell_type": "code",
   "execution_count": 36,
   "metadata": {},
   "outputs": [
    {
     "data": {
      "text/plain": [
       "(3880, 22)"
      ]
     },
     "execution_count": 36,
     "metadata": {},
     "output_type": "execute_result"
    }
   ],
   "source": [
    "klifs_metadata_filtered.shape"
   ]
  },
  {
   "cell_type": "markdown",
   "metadata": {},
   "source": [
    "### 10. Save final KLIFS dataset (metadata)"
   ]
  },
  {
   "cell_type": "code",
   "execution_count": 37,
   "metadata": {},
   "outputs": [
    {
     "data": {
      "text/plain": [
       "(3880, 22)"
      ]
     },
     "execution_count": 37,
     "metadata": {},
     "output_type": "execute_result"
    }
   ],
   "source": [
    "klifs_metadata_filtered.shape"
   ]
  },
  {
   "cell_type": "code",
   "execution_count": 38,
   "metadata": {},
   "outputs": [],
   "source": [
    "klifs_metadata_filtered.rename(\n",
    "    columns={'index': 'metadata_index'}, inplace=True\n",
    ")"
   ]
  },
  {
   "cell_type": "code",
   "execution_count": 39,
   "metadata": {},
   "outputs": [
    {
     "data": {
      "text/plain": [
       "['HUMAN/AAK1/4wsq_chainB_altA',\n",
       " 'HUMAN/AAK1/5l4q_chainA_altA',\n",
       " 'HUMAN/AAK1/5te0_chainA',\n",
       " 'HUMAN/ABL1/2f4j_chainA',\n",
       " 'HUMAN/ABL1/2g1t_chainA',\n",
       " 'HUMAN/ABL1/2g2i_chainA',\n",
       " 'HUMAN/ABL1/2gqg_chainA_altB',\n",
       " 'HUMAN/ABL1/2hz4_chainB',\n",
       " 'HUMAN/ABL1/2v7a_chainB',\n",
       " 'HUMAN/ABL1/4twp_chainB']"
      ]
     },
     "execution_count": 39,
     "metadata": {},
     "output_type": "execute_result"
    }
   ],
   "source": [
    "codes = []\n",
    "\n",
    "for index, row in klifs_metadata_filtered.iterrows():\n",
    "    \n",
    "    species = row.species.upper()\n",
    "    kinase = row.kinase\n",
    "    pdb_id = row.pdb_id\n",
    "    chain = ''\n",
    "    alternate_model = ''\n",
    "    \n",
    "    if row.chain != '-':\n",
    "        chain = f'_chain{row.chain}'\n",
    "    if row.alternate_model != '-':\n",
    "        alternate_model = f'_alt{row.alternate_model}'\n",
    "        \n",
    "    codes.append(f'{species}/{kinase}/{pdb_id}{chain}{alternate_model}')\n",
    "\n",
    "codes[:10]"
   ]
  },
  {
   "cell_type": "code",
   "execution_count": 40,
   "metadata": {},
   "outputs": [],
   "source": [
    "klifs_metadata_filtered['code'] = codes"
   ]
  },
  {
   "cell_type": "code",
   "execution_count": 41,
   "metadata": {},
   "outputs": [
    {
     "data": {
      "text/plain": [
       "(3880, 23)"
      ]
     },
     "execution_count": 41,
     "metadata": {},
     "output_type": "execute_result"
    }
   ],
   "source": [
    "klifs_metadata_filtered.shape"
   ]
  },
  {
   "cell_type": "raw",
   "metadata": {},
   "source": [
    "klifs_metadata_filtered.to_csv(path_to_data / 'preprocessed' / 'klifs_metadata_preprocessed.csv')"
   ]
  }
 ],
 "metadata": {
  "kernelspec": {
   "display_name": "kinsim",
   "language": "python",
   "name": "kinsim"
  },
  "language_info": {
   "codemirror_mode": {
    "name": "ipython",
    "version": 3
   },
   "file_extension": ".py",
   "mimetype": "text/x-python",
   "name": "python",
   "nbconvert_exporter": "python",
   "pygments_lexer": "ipython3",
   "version": "3.6.7"
  }
 },
 "nbformat": 4,
 "nbformat_minor": 4
}
