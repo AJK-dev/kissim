{
 "cells": [
  {
   "cell_type": "markdown",
   "metadata": {},
   "source": [
    "# Reference points\n",
    "\n",
    "Check if reference points have comparable positions among all structures."
   ]
  },
  {
   "cell_type": "markdown",
   "metadata": {},
   "source": [
    "## Imports"
   ]
  },
  {
   "cell_type": "code",
   "execution_count": 1,
   "metadata": {},
   "outputs": [],
   "source": [
    "%load_ext autoreload"
   ]
  },
  {
   "cell_type": "code",
   "execution_count": 2,
   "metadata": {},
   "outputs": [],
   "source": [
    "%autoreload 2"
   ]
  },
  {
   "cell_type": "code",
   "execution_count": 1,
   "metadata": {},
   "outputs": [],
   "source": [
    "from itertools import combinations\n",
    "from pathlib import Path\n",
    "import sys\n",
    "\n",
    "import matplotlib.pyplot as plt\n",
    "import pandas as pd\n",
    "import scipy\n",
    "\n",
    "sys.path.append('../..')\n",
    "from kinsim_structure.auxiliary import KlifsMoleculeLoader\n",
    "from kinsim_structure.encoding import SpatialFeatures"
   ]
  },
  {
   "cell_type": "code",
   "execution_count": 4,
   "metadata": {},
   "outputs": [],
   "source": [
    "pd.set_option('display.max_rows', 100)"
   ]
  },
  {
   "cell_type": "markdown",
   "metadata": {},
   "source": [
    "## IO paths"
   ]
  },
  {
   "cell_type": "code",
   "execution_count": 5,
   "metadata": {},
   "outputs": [],
   "source": [
    "path_to_kinsim = Path('/') / 'home' / 'dominique' / 'Documents' / 'projects' / 'kinsim_structure'\n",
    "path_to_data = path_to_kinsim / 'examples'/ 'data'\n",
    "path_to_results = path_to_kinsim / 'examples'/ 'results'\n",
    "\n",
    "metadata_path = path_to_data / 'postprocessed' / 'klifs_metadata_postprocessed.csv'"
   ]
  },
  {
   "cell_type": "markdown",
   "metadata": {},
   "source": [
    "## Load metadata"
   ]
  },
  {
   "cell_type": "code",
   "execution_count": 6,
   "metadata": {},
   "outputs": [],
   "source": [
    "klifs_metadata = pd.read_csv(metadata_path)"
   ]
  },
  {
   "cell_type": "markdown",
   "metadata": {},
   "source": [
    "## Get reference points"
   ]
  },
  {
   "cell_type": "code",
   "execution_count": 7,
   "metadata": {},
   "outputs": [],
   "source": [
    "def get_reference_points(klifs_metadata):\n",
    "    \n",
    "    reference_points = {}\n",
    "\n",
    "    for index, row in klifs_metadata.iterrows():\n",
    "\n",
    "        ml = KlifsMoleculeLoader(klifs_metadata_entry=row)\n",
    "        spatial = SpatialFeatures()\n",
    "        spatial.from_molecule(ml.molecule)\n",
    "\n",
    "        ref = spatial.reference_points\n",
    "        reference_points[row.metadata_index] = ref\n",
    "        \n",
    "    reference_points = pd.concat(reference_points, axis=0)\n",
    "    reference_points.index.set_names(['id', 'coordinate'], inplace=True)\n",
    "    \n",
    "    return reference_points"
   ]
  },
  {
   "cell_type": "raw",
   "metadata": {},
   "source": [
    "reference_points = get_reference_points(klifs_metadata)"
   ]
  },
  {
   "cell_type": "raw",
   "metadata": {},
   "source": [
    "reference_points.to_csv(path_to_results / 'reference_points' / 'reference_points.csv')"
   ]
  },
  {
   "cell_type": "code",
   "execution_count": 8,
   "metadata": {},
   "outputs": [
    {
     "name": "stdout",
     "output_type": "stream",
     "text": [
      "(11634, 4)\n"
     ]
    },
    {
     "data": {
      "text/html": [
       "<div>\n",
       "<style scoped>\n",
       "    .dataframe tbody tr th:only-of-type {\n",
       "        vertical-align: middle;\n",
       "    }\n",
       "\n",
       "    .dataframe tbody tr th {\n",
       "        vertical-align: top;\n",
       "    }\n",
       "\n",
       "    .dataframe thead th {\n",
       "        text-align: right;\n",
       "    }\n",
       "</style>\n",
       "<table border=\"1\" class=\"dataframe\">\n",
       "  <thead>\n",
       "    <tr style=\"text-align: right;\">\n",
       "      <th></th>\n",
       "      <th></th>\n",
       "      <th>centroid</th>\n",
       "      <th>hinge_region</th>\n",
       "      <th>dfg_region</th>\n",
       "      <th>front_pocket</th>\n",
       "    </tr>\n",
       "    <tr>\n",
       "      <th>id</th>\n",
       "      <th>coordinate</th>\n",
       "      <th></th>\n",
       "      <th></th>\n",
       "      <th></th>\n",
       "      <th></th>\n",
       "    </tr>\n",
       "  </thead>\n",
       "  <tbody>\n",
       "    <tr>\n",
       "      <th rowspan=\"3\" valign=\"top\">2886</th>\n",
       "      <th>x</th>\n",
       "      <td>1.293375</td>\n",
       "      <td>1.976200</td>\n",
       "      <td>7.410200</td>\n",
       "      <td>-0.735833</td>\n",
       "    </tr>\n",
       "    <tr>\n",
       "      <th>y</th>\n",
       "      <td>20.792858</td>\n",
       "      <td>21.758433</td>\n",
       "      <td>20.057467</td>\n",
       "      <td>15.892600</td>\n",
       "    </tr>\n",
       "    <tr>\n",
       "      <th>z</th>\n",
       "      <td>36.404610</td>\n",
       "      <td>41.804733</td>\n",
       "      <td>33.520733</td>\n",
       "      <td>39.503467</td>\n",
       "    </tr>\n",
       "    <tr>\n",
       "      <th rowspan=\"2\" valign=\"top\">10043</th>\n",
       "      <th>x</th>\n",
       "      <td>1.299501</td>\n",
       "      <td>2.009300</td>\n",
       "      <td>7.346733</td>\n",
       "      <td>0.313867</td>\n",
       "    </tr>\n",
       "    <tr>\n",
       "      <th>y</th>\n",
       "      <td>21.195942</td>\n",
       "      <td>21.944700</td>\n",
       "      <td>20.813700</td>\n",
       "      <td>16.005333</td>\n",
       "    </tr>\n",
       "  </tbody>\n",
       "</table>\n",
       "</div>"
      ],
      "text/plain": [
       "                   centroid  hinge_region  dfg_region  front_pocket\n",
       "id    coordinate                                                   \n",
       "2886  x            1.293375      1.976200    7.410200     -0.735833\n",
       "      y           20.792858     21.758433   20.057467     15.892600\n",
       "      z           36.404610     41.804733   33.520733     39.503467\n",
       "10043 x            1.299501      2.009300    7.346733      0.313867\n",
       "      y           21.195942     21.944700   20.813700     16.005333"
      ]
     },
     "execution_count": 8,
     "metadata": {},
     "output_type": "execute_result"
    }
   ],
   "source": [
    "reference_points = pd.read_csv(\n",
    "    path_to_results / 'reference_points' / 'reference_points.csv',\n",
    "    index_col=['id', 'coordinate']\n",
    ")\n",
    "print(reference_points.shape)\n",
    "reference_points.head()"
   ]
  },
  {
   "cell_type": "markdown",
   "metadata": {},
   "source": [
    "## Distances"
   ]
  },
  {
   "cell_type": "code",
   "execution_count": 9,
   "metadata": {},
   "outputs": [],
   "source": [
    "def get_pairwise_distances(points):\n",
    "    \"\"\"\n",
    "    \n",
    "    \"\"\"\n",
    "\n",
    "    pairwise_distances = []\n",
    "    \n",
    "    pairs = combinations(points.index, 2)\n",
    "    print(f'Number of combinations: {len(list(pairs))}')\n",
    "    print(list(pairs))\n",
    "    \n",
    "    for c1, c2 in pairs:\n",
    "        \n",
    "\n",
    "        distance = scipy.linalg.norm(points.loc[c1] - points.loc[c2])\n",
    "\n",
    "        pairwise_distances.append([c1, c2, distance])\n",
    "\n",
    "    return pd.DataFrame(\n",
    "        pairwise_distances, \n",
    "        columns='centroid1_id centroid2_id distance'.split()\n",
    "    )"
   ]
  },
  {
   "cell_type": "markdown",
   "metadata": {},
   "source": [
    "### Intra-centroid distances"
   ]
  },
  {
   "cell_type": "code",
   "execution_count": 10,
   "metadata": {},
   "outputs": [
    {
     "name": "stdout",
     "output_type": "stream",
     "text": [
      "(3878, 3)\n"
     ]
    },
    {
     "data": {
      "text/html": [
       "<div>\n",
       "<style scoped>\n",
       "    .dataframe tbody tr th:only-of-type {\n",
       "        vertical-align: middle;\n",
       "    }\n",
       "\n",
       "    .dataframe tbody tr th {\n",
       "        vertical-align: top;\n",
       "    }\n",
       "\n",
       "    .dataframe thead th {\n",
       "        text-align: right;\n",
       "    }\n",
       "</style>\n",
       "<table border=\"1\" class=\"dataframe\">\n",
       "  <thead>\n",
       "    <tr style=\"text-align: right;\">\n",
       "      <th>coordinate</th>\n",
       "      <th>x</th>\n",
       "      <th>y</th>\n",
       "      <th>z</th>\n",
       "    </tr>\n",
       "    <tr>\n",
       "      <th>id</th>\n",
       "      <th></th>\n",
       "      <th></th>\n",
       "      <th></th>\n",
       "    </tr>\n",
       "  </thead>\n",
       "  <tbody>\n",
       "    <tr>\n",
       "      <th>2</th>\n",
       "      <td>1.059274</td>\n",
       "      <td>20.712621</td>\n",
       "      <td>37.372804</td>\n",
       "    </tr>\n",
       "    <tr>\n",
       "      <th>3</th>\n",
       "      <td>1.081872</td>\n",
       "      <td>20.655874</td>\n",
       "      <td>37.415106</td>\n",
       "    </tr>\n",
       "    <tr>\n",
       "      <th>6</th>\n",
       "      <td>1.201147</td>\n",
       "      <td>20.405920</td>\n",
       "      <td>37.057068</td>\n",
       "    </tr>\n",
       "    <tr>\n",
       "      <th>9</th>\n",
       "      <td>1.350751</td>\n",
       "      <td>20.973221</td>\n",
       "      <td>37.234519</td>\n",
       "    </tr>\n",
       "    <tr>\n",
       "      <th>12</th>\n",
       "      <td>1.076391</td>\n",
       "      <td>20.616362</td>\n",
       "      <td>37.040424</td>\n",
       "    </tr>\n",
       "  </tbody>\n",
       "</table>\n",
       "</div>"
      ],
      "text/plain": [
       "coordinate         x          y          z\n",
       "id                                        \n",
       "2           1.059274  20.712621  37.372804\n",
       "3           1.081872  20.655874  37.415106\n",
       "6           1.201147  20.405920  37.057068\n",
       "9           1.350751  20.973221  37.234519\n",
       "12          1.076391  20.616362  37.040424"
      ]
     },
     "execution_count": 10,
     "metadata": {},
     "output_type": "execute_result"
    }
   ],
   "source": [
    "centroids = reference_points.centroid.unstack(level=1)\n",
    "print(centroids.shape)\n",
    "centroids.head()"
   ]
  },
  {
   "cell_type": "code",
   "execution_count": 17,
   "metadata": {},
   "outputs": [
    {
     "data": {
      "text/html": [
       "<div>\n",
       "<style scoped>\n",
       "    .dataframe tbody tr th:only-of-type {\n",
       "        vertical-align: middle;\n",
       "    }\n",
       "\n",
       "    .dataframe tbody tr th {\n",
       "        vertical-align: top;\n",
       "    }\n",
       "\n",
       "    .dataframe thead th {\n",
       "        text-align: right;\n",
       "    }\n",
       "</style>\n",
       "<table border=\"1\" class=\"dataframe\">\n",
       "  <thead>\n",
       "    <tr style=\"text-align: right;\">\n",
       "      <th>coordinate</th>\n",
       "      <th>x</th>\n",
       "      <th>y</th>\n",
       "      <th>z</th>\n",
       "    </tr>\n",
       "  </thead>\n",
       "  <tbody>\n",
       "    <tr>\n",
       "      <th>count</th>\n",
       "      <td>3878.000000</td>\n",
       "      <td>3878.000000</td>\n",
       "      <td>3878.000000</td>\n",
       "    </tr>\n",
       "    <tr>\n",
       "      <th>mean</th>\n",
       "      <td>1.364375</td>\n",
       "      <td>20.990565</td>\n",
       "      <td>36.583153</td>\n",
       "    </tr>\n",
       "    <tr>\n",
       "      <th>std</th>\n",
       "      <td>0.401068</td>\n",
       "      <td>0.386672</td>\n",
       "      <td>0.491317</td>\n",
       "    </tr>\n",
       "    <tr>\n",
       "      <th>min</th>\n",
       "      <td>-1.466229</td>\n",
       "      <td>19.175228</td>\n",
       "      <td>33.732706</td>\n",
       "    </tr>\n",
       "    <tr>\n",
       "      <th>25%</th>\n",
       "      <td>1.092637</td>\n",
       "      <td>20.741963</td>\n",
       "      <td>36.233533</td>\n",
       "    </tr>\n",
       "    <tr>\n",
       "      <th>50%</th>\n",
       "      <td>1.353110</td>\n",
       "      <td>20.956650</td>\n",
       "      <td>36.482627</td>\n",
       "    </tr>\n",
       "    <tr>\n",
       "      <th>75%</th>\n",
       "      <td>1.622998</td>\n",
       "      <td>21.209738</td>\n",
       "      <td>36.914566</td>\n",
       "    </tr>\n",
       "    <tr>\n",
       "      <th>max</th>\n",
       "      <td>2.806138</td>\n",
       "      <td>23.238448</td>\n",
       "      <td>38.657924</td>\n",
       "    </tr>\n",
       "  </tbody>\n",
       "</table>\n",
       "</div>"
      ],
      "text/plain": [
       "coordinate            x            y            z\n",
       "count       3878.000000  3878.000000  3878.000000\n",
       "mean           1.364375    20.990565    36.583153\n",
       "std            0.401068     0.386672     0.491317\n",
       "min           -1.466229    19.175228    33.732706\n",
       "25%            1.092637    20.741963    36.233533\n",
       "50%            1.353110    20.956650    36.482627\n",
       "75%            1.622998    21.209738    36.914566\n",
       "max            2.806138    23.238448    38.657924"
      ]
     },
     "execution_count": 17,
     "metadata": {},
     "output_type": "execute_result"
    }
   ],
   "source": [
    "centroids.describe()"
   ]
  },
  {
   "cell_type": "code",
   "execution_count": 18,
   "metadata": {},
   "outputs": [
    {
     "data": {
      "text/plain": [
       "<matplotlib.axes._subplots.AxesSubplot at 0x7f7b58150c88>"
      ]
     },
     "execution_count": 18,
     "metadata": {},
     "output_type": "execute_result"
    },
    {
     "data": {
      "image/png": "[encoded data removed]",
      "text/plain": [
       "<Figure size 432x288 with 1 Axes>"
      ]
     },
     "metadata": {
      "needs_background": "light"
     },
     "output_type": "display_data"
    }
   ],
   "source": [
    "centroids.boxplot()"
   ]
  },
  {
   "cell_type": "code",
   "execution_count": 25,
   "metadata": {},
   "outputs": [],
   "source": [
    "# Center centroids at mean centroid\n",
    "centroids_centered = centroids.apply(lambda x: x - centroids.mean(), axis=1)"
   ]
  },
  {
   "cell_type": "code",
   "execution_count": 30,
   "metadata": {},
   "outputs": [],
   "source": [
    "distance_centroids_centered = centroids_centered.apply(lambda x: scipy.linalg.norm(x), axis=1)"
   ]
  },
  {
   "cell_type": "code",
   "execution_count": 32,
   "metadata": {},
   "outputs": [
    {
     "data": {
      "text/plain": [
       "count    3878.000000\n",
       "mean        0.663687\n",
       "std         0.333420\n",
       "min         0.043418\n",
       "25%         0.416998\n",
       "50%         0.631552\n",
       "75%         0.854545\n",
       "max         4.057242\n",
       "dtype: float64"
      ]
     },
     "execution_count": 32,
     "metadata": {},
     "output_type": "execute_result"
    }
   ],
   "source": [
    "distance_centroids_centered.describe()"
   ]
  },
  {
   "cell_type": "code",
   "execution_count": 33,
   "metadata": {},
   "outputs": [
    {
     "data": {
      "text/plain": [
       "{'whiskers': [<matplotlib.lines.Line2D at 0x7f7b58003ba8>,\n",
       "  <matplotlib.lines.Line2D at 0x7f7b57ff9278>],\n",
       " 'caps': [<matplotlib.lines.Line2D at 0x7f7b57ff9908>,\n",
       "  <matplotlib.lines.Line2D at 0x7f7b57ff9f98>],\n",
       " 'boxes': [<matplotlib.lines.Line2D at 0x7f7b58003588>],\n",
       " 'medians': [<matplotlib.lines.Line2D at 0x7f7b57ff1668>],\n",
       " 'fliers': [<matplotlib.lines.Line2D at 0x7f7b57ff1cf8>],\n",
       " 'means': []}"
      ]
     },
     "execution_count": 33,
     "metadata": {},
     "output_type": "execute_result"
    },
    {
     "data": {
      "image/png": "[encoded data removed]",
      "text/plain": [
       "<Figure size 432x288 with 1 Axes>"
      ]
     },
     "metadata": {
      "needs_background": "light"
     },
     "output_type": "display_data"
    }
   ],
   "source": [
    "plt.boxplot(distance_centroids_centered)"
   ]
  },
  {
   "cell_type": "markdown",
   "metadata": {},
   "source": [
    "### Centroid to other reference points distance"
   ]
  },
  {
   "cell_type": "code",
   "execution_count": 14,
   "metadata": {},
   "outputs": [],
   "source": [
    "def get_distances_centroid2refpoint(refpoint_name):\n",
    "    \n",
    "    refpoint_centered = reference_points_centered[refpoint_name]\n",
    "    refpoint_centered.dropna(inplace=True)\n",
    "    \n",
    "    d = refpoint_centered.unstack(level=1).apply(lambda x: scipy.linalg.norm(x), axis=1)\n",
    "    \n",
    "    return d"
   ]
  },
  {
   "cell_type": "code",
   "execution_count": 15,
   "metadata": {},
   "outputs": [
    {
     "name": "stdout",
     "output_type": "stream",
     "text": [
      "(11634, 4)\n"
     ]
    },
    {
     "data": {
      "text/html": [
       "<div>\n",
       "<style scoped>\n",
       "    .dataframe tbody tr th:only-of-type {\n",
       "        vertical-align: middle;\n",
       "    }\n",
       "\n",
       "    .dataframe tbody tr th {\n",
       "        vertical-align: top;\n",
       "    }\n",
       "\n",
       "    .dataframe thead th {\n",
       "        text-align: right;\n",
       "    }\n",
       "</style>\n",
       "<table border=\"1\" class=\"dataframe\">\n",
       "  <thead>\n",
       "    <tr style=\"text-align: right;\">\n",
       "      <th></th>\n",
       "      <th></th>\n",
       "      <th>centroid</th>\n",
       "      <th>hinge_region</th>\n",
       "      <th>dfg_region</th>\n",
       "      <th>front_pocket</th>\n",
       "    </tr>\n",
       "    <tr>\n",
       "      <th>id</th>\n",
       "      <th>coordinate</th>\n",
       "      <th></th>\n",
       "      <th></th>\n",
       "      <th></th>\n",
       "      <th></th>\n",
       "    </tr>\n",
       "  </thead>\n",
       "  <tbody>\n",
       "    <tr>\n",
       "      <th rowspan=\"3\" valign=\"top\">2886</th>\n",
       "      <th>x</th>\n",
       "      <td>0.0</td>\n",
       "      <td>0.682825</td>\n",
       "      <td>6.116825</td>\n",
       "      <td>-2.029208</td>\n",
       "    </tr>\n",
       "    <tr>\n",
       "      <th>y</th>\n",
       "      <td>0.0</td>\n",
       "      <td>0.965575</td>\n",
       "      <td>-0.735392</td>\n",
       "      <td>-4.900258</td>\n",
       "    </tr>\n",
       "    <tr>\n",
       "      <th>z</th>\n",
       "      <td>0.0</td>\n",
       "      <td>5.400124</td>\n",
       "      <td>-2.883876</td>\n",
       "      <td>3.098857</td>\n",
       "    </tr>\n",
       "    <tr>\n",
       "      <th rowspan=\"2\" valign=\"top\">10043</th>\n",
       "      <th>x</th>\n",
       "      <td>0.0</td>\n",
       "      <td>0.709799</td>\n",
       "      <td>6.047233</td>\n",
       "      <td>-0.985634</td>\n",
       "    </tr>\n",
       "    <tr>\n",
       "      <th>y</th>\n",
       "      <td>0.0</td>\n",
       "      <td>0.748758</td>\n",
       "      <td>-0.382242</td>\n",
       "      <td>-5.190609</td>\n",
       "    </tr>\n",
       "  </tbody>\n",
       "</table>\n",
       "</div>"
      ],
      "text/plain": [
       "                  centroid  hinge_region  dfg_region  front_pocket\n",
       "id    coordinate                                                  \n",
       "2886  x                0.0      0.682825    6.116825     -2.029208\n",
       "      y                0.0      0.965575   -0.735392     -4.900258\n",
       "      z                0.0      5.400124   -2.883876      3.098857\n",
       "10043 x                0.0      0.709799    6.047233     -0.985634\n",
       "      y                0.0      0.748758   -0.382242     -5.190609"
      ]
     },
     "execution_count": 15,
     "metadata": {},
     "output_type": "execute_result"
    }
   ],
   "source": [
    "# Set centroid to origin\n",
    "reference_points_centered = reference_points.apply(lambda x: x - reference_points.centroid)\n",
    "print(reference_points_centered.shape)\n",
    "reference_points_centered.head()"
   ]
  },
  {
   "cell_type": "code",
   "execution_count": 16,
   "metadata": {},
   "outputs": [
    {
     "name": "stdout",
     "output_type": "stream",
     "text": [
      "\n",
      "Distance from centroid to hinge_region\n",
      "count    3876.000000\n",
      "mean        5.612045\n",
      "std         0.357220\n",
      "min         3.237495\n",
      "25%         5.388634\n",
      "50%         5.582376\n",
      "75%         5.839944\n",
      "max         6.893033\n",
      "dtype: float64\n"
     ]
    },
    {
     "data": {
      "image/png": "[encoded data removed]",
      "text/plain": [
       "<Figure size 432x288 with 1 Axes>"
      ]
     },
     "metadata": {
      "needs_background": "light"
     },
     "output_type": "display_data"
    },
    {
     "name": "stdout",
     "output_type": "stream",
     "text": [
      "\n",
      "Distance from centroid to dfg_region\n",
      "count    3868.000000\n",
      "mean        7.031878\n",
      "std         0.527511\n",
      "min         5.495749\n",
      "25%         6.653962\n",
      "50%         6.965327\n",
      "75%         7.425161\n",
      "max         9.940150\n",
      "dtype: float64\n"
     ]
    },
    {
     "data": {
      "image/png": "[encoded data removed]",
      "text/plain": [
       "<Figure size 432x288 with 1 Axes>"
      ]
     },
     "metadata": {
      "needs_background": "light"
     },
     "output_type": "display_data"
    },
    {
     "name": "stdout",
     "output_type": "stream",
     "text": [
      "\n",
      "Distance from centroid to front_pocket\n",
      "count    3745.000000\n",
      "mean        5.913573\n",
      "std         0.620292\n",
      "min         3.962176\n",
      "25%         5.531724\n",
      "50%         5.894656\n",
      "75%         6.220219\n",
      "max        10.277790\n",
      "dtype: float64\n"
     ]
    },
    {
     "data": {
      "image/png": "[encoded data removed]",
      "text/plain": [
       "<Figure size 432x288 with 1 Axes>"
      ]
     },
     "metadata": {
      "needs_background": "light"
     },
     "output_type": "display_data"
    }
   ],
   "source": [
    "# Get norm of therese centered reference_points (= distance to centroid)\n",
    "\n",
    "for refpoint_name in ['hinge_region', 'dfg_region', 'front_pocket']:\n",
    "    \n",
    "    distances = get_distances_centroid2refpoint(refpoint_name)\n",
    "    \n",
    "    print()\n",
    "    print(f'Distance from centroid to {refpoint_name}')\n",
    "    print(distances.describe())\n",
    "    plt.boxplot(distances)\n",
    "    plt.show()"
   ]
  },
  {
   "cell_type": "code",
   "execution_count": null,
   "metadata": {},
   "outputs": [],
   "source": []
  },
  {
   "cell_type": "code",
   "execution_count": null,
   "metadata": {},
   "outputs": [],
   "source": []
  },
  {
   "cell_type": "code",
   "execution_count": null,
   "metadata": {},
   "outputs": [],
   "source": []
  }
 ],
 "metadata": {
  "kernelspec": {
   "display_name": "kinsim",
   "language": "python",
   "name": "kinsim"
  },
  "language_info": {
   "codemirror_mode": {
    "name": "ipython",
    "version": 3
   },
   "file_extension": ".py",
   "mimetype": "text/x-python",
   "name": "python",
   "nbconvert_exporter": "python",
   "pygments_lexer": "ipython3",
   "version": "3.6.7"
  }
 },
 "nbformat": 4,
 "nbformat_minor": 2
}
