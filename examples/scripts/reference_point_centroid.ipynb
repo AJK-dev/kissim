{
 "cells": [
  {
   "cell_type": "markdown",
   "metadata": {},
   "source": [
    "# Reference point: Centroid\n",
    "\n",
    "## Question\n",
    "\n",
    "How different are centroids which are calculated based on all pocket atoms or pocket CA atoms only?\n",
    "\n",
    "## Experiment\n",
    "\n",
    "Calculate for all pockets the distance between centroids which are calculated based on all pocket atoms or pocket CA atoms only."
   ]
  },
  {
   "cell_type": "markdown",
   "metadata": {},
   "source": [
    "## Imports"
   ]
  },
  {
   "cell_type": "code",
   "execution_count": 1,
   "metadata": {},
   "outputs": [],
   "source": [
    "%load_ext autoreload"
   ]
  },
  {
   "cell_type": "code",
   "execution_count": 2,
   "metadata": {},
   "outputs": [],
   "source": [
    "%autoreload 2"
   ]
  },
  {
   "cell_type": "code",
   "execution_count": 3,
   "metadata": {},
   "outputs": [],
   "source": [
    "from pathlib import Path\n",
    "import sys\n",
    "\n",
    "import pandas as pd\n",
    "import scipy\n",
    "\n",
    "sys.path.append('../..')\n",
    "from kinsim_structure.auxiliary import KlifsMoleculeLoader"
   ]
  },
  {
   "cell_type": "markdown",
   "metadata": {},
   "source": [
    "## IO paths"
   ]
  },
  {
   "cell_type": "code",
   "execution_count": 4,
   "metadata": {},
   "outputs": [],
   "source": [
    "path_to_kinsim = Path('/') / 'home' / 'dominique' / 'Documents' / 'Projects' / 'kinsim_structure'\n",
    "path_to_data = Path('/') / 'home' / 'dominique' / 'Documents' / 'data' / 'kinsim' / '20190724_full'\n",
    "\n",
    "#path_to_results = path_to_kinsim / 'examples'/ 'results'\n",
    "\n",
    "metadata_path = path_to_data / 'postprocessed' / 'klifs_metadata_postprocessed.csv'"
   ]
  },
  {
   "cell_type": "markdown",
   "metadata": {},
   "source": [
    "## Load metadata"
   ]
  },
  {
   "cell_type": "code",
   "execution_count": 5,
   "metadata": {},
   "outputs": [
    {
     "data": {
      "text/plain": [
       "(3878, 23)"
      ]
     },
     "execution_count": 5,
     "metadata": {},
     "output_type": "execute_result"
    }
   ],
   "source": [
    "klifs_metadata = pd.read_csv(metadata_path, index_col=0)\n",
    "klifs_metadata.shape"
   ]
  },
  {
   "cell_type": "code",
   "execution_count": 6,
   "metadata": {},
   "outputs": [],
   "source": [
    "def calc_distance_centroid_all_vs_centroids_ca(klifs_metadata_entry):\n",
    "    \"\"\"\n",
    "    Calculate the distance between two centroids which are based on (i) all and (ii) CA atoms of a pocket.\n",
    "    \n",
    "    Parameters\n",
    "    ----------\n",
    "    klifs_metadata_entry : pandas.Series\n",
    "        KLIFS metadata describing a pocket entry in the KLIFS dataset.\n",
    "    \n",
    "    Returns\n",
    "    -------\n",
    "    float\n",
    "        Distance between the two centroids.\n",
    "    \"\"\"\n",
    "    \n",
    "    # Load structural data of pocket\n",
    "    ml = KlifsMoleculeLoader(klifs_metadata_entry=klifs_metadata_entry)\n",
    "    molecule = ml.molecule\n",
    "\n",
    "    # Get centroid for all atoms\n",
    "    centroid_all = molecule.df['x y z'.split()].mean()\n",
    "\n",
    "    # Get centroid for all CA atoms\n",
    "    centroid_ca = molecule.df[molecule.df.atom_name == 'CA']['x y z'.split()].mean()\n",
    "\n",
    "    # Get distance between both centroids\n",
    "    centroid_distance = scipy.linalg.norm(centroid_all - centroid_ca)\n",
    "\n",
    "    return round(centroid_distance, 2)"
   ]
  },
  {
   "cell_type": "code",
   "execution_count": 7,
   "metadata": {},
   "outputs": [],
   "source": [
    "centroid_distances = klifs_metadata.apply(\n",
    "    lambda x: calc_distance_centroid_all_vs_centroids_ca(x), \n",
    "    axis=1\n",
    ")"
   ]
  },
  {
   "cell_type": "code",
   "execution_count": 8,
   "metadata": {},
   "outputs": [],
   "source": [
    "centroid_distances.name = 'Centroid distances'"
   ]
  },
  {
   "cell_type": "code",
   "execution_count": 9,
   "metadata": {},
   "outputs": [
    {
     "data": {
      "text/plain": [
       "<matplotlib.axes._subplots.AxesSubplot at 0x7f1eb51ccd30>"
      ]
     },
     "execution_count": 9,
     "metadata": {},
     "output_type": "execute_result"
    },
    {
     "data": {
      "image/png": "[encoded data removed]",
      "text/plain": [
       "<Figure size 432x288 with 1 Axes>"
      ]
     },
     "metadata": {
      "needs_background": "light"
     },
     "output_type": "display_data"
    }
   ],
   "source": [
    "centroid_distances.plot.box()"
   ]
  },
  {
   "cell_type": "code",
   "execution_count": 10,
   "metadata": {},
   "outputs": [
    {
     "data": {
      "text/plain": [
       "count    3878.000000\n",
       "mean        0.372339\n",
       "std         0.184770\n",
       "min         0.030000\n",
       "25%         0.240000\n",
       "50%         0.330000\n",
       "75%         0.470000\n",
       "max         1.170000\n",
       "Name: Centroid distances, dtype: float64"
      ]
     },
     "execution_count": 10,
     "metadata": {},
     "output_type": "execute_result"
    }
   ],
   "source": [
    "centroid_distances.describe()"
   ]
  }
 ],
 "metadata": {
  "kernelspec": {
   "display_name": "kinsim",
   "language": "python",
   "name": "kinsim"
  },
  "language_info": {
   "codemirror_mode": {
    "name": "ipython",
    "version": 3
   },
   "file_extension": ".py",
   "mimetype": "text/x-python",
   "name": "python",
   "nbconvert_exporter": "python",
   "pygments_lexer": "ipython3",
   "version": "3.6.7"
  }
 },
 "nbformat": 4,
 "nbformat_minor": 2
}
